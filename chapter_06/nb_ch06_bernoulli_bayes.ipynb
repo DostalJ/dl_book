{
  "nbformat": 4,
  "nbformat_minor": 0,
  "metadata": {
    "kernelspec": {
      "display_name": "Python 3",
      "language": "python",
      "name": "python3"
    },
    "language_info": {
      "codemirror_mode": {
        "name": "ipython",
        "version": 3
      },
      "file_extension": ".py",
      "mimetype": "text/x-python",
      "name": "python",
      "nbconvert_exporter": "python",
      "pygments_lexer": "ipython3",
      "version": "3.5.2"
    },
    "colab": {
      "name": "nb_ch06_bayes.ipynb",
      "version": "0.3.2",
      "provenance": []
    }
  },
  "cells": [
    {
      "cell_type": "code",
      "metadata": {
        "id": "_PvChf9tMHSv",
        "colab_type": "code",
        "colab": {
          "base_uri": "https://localhost:8080/",
          "height": 34
        },
        "outputId": "5186e598-56b7-4ae0-b7a9-895a13bf2066"
      },
      "source": [
        "import tensorflow as tf\n",
        "try: #If running in colab \n",
        "    import google.colab\n",
        "    IN_COLAB = True \n",
        "except:\n",
        "    IN_COLAB = False\n",
        "if (not tf.__version__.startswith('2')): #Checking if tf 2.0 is installed\n",
        "    if IN_COLAB: #If running in colab install tf 2.0\n",
        "        !pip install tensorflow==2.0.0-alpha0 \n",
        "        !pip install tfp-nightly==0.7.0-dev20190511\n",
        "    print('Please install tensorflow 2.0 to run this notebook')\n",
        "print('Tensorflow version: ',tf.__version__, ' running in colab?: ', IN_COLAB)"
      ],
      "execution_count": 214,
      "outputs": [
        {
          "output_type": "stream",
          "text": [
            "Tensorflow version:  2.0.0-alpha0  running in colab?:  True\n"
          ],
          "name": "stdout"
        }
      ]
    },
    {
      "cell_type": "code",
      "metadata": {
        "id": "_VSparStMHS6",
        "colab_type": "code",
        "colab": {
          "base_uri": "https://localhost:8080/",
          "height": 52
        },
        "outputId": "bb56a08f-f668-4773-a65d-e73f972cb339"
      },
      "source": [
        "import matplotlib.pyplot as plt\n",
        "import numpy as np\n",
        "\n",
        "import tensorflow as tf\n",
        "import tensorflow_probability as tfp\n",
        "\n",
        "plt.style.use('default') \n",
        "%matplotlib inline\n",
        "\n",
        "tfd = tfp.distributions\n",
        "print(\"TFB Version\", tfp.__version__)\n",
        "print(\"TF  Version\",tf.__version__)"
      ],
      "execution_count": 215,
      "outputs": [
        {
          "output_type": "stream",
          "text": [
            "TFB Version 0.7.0-dev20190511\n",
            "TF  Version 2.0.0-alpha0\n"
          ],
          "name": "stdout"
        }
      ]
    },
    {
      "cell_type": "code",
      "metadata": {
        "id": "KYNnP9ZzR9wq",
        "colab_type": "code",
        "colab": {}
      },
      "source": [
        "#obs_data=np.array([1.,1.,1.])\n",
        "obs_data=np.repeat(1,3)\n",
        "#obs_data=np.repeat(1,500)\n",
        "teta=np.arange(0.05,1,0.05)"
      ],
      "execution_count": 0,
      "outputs": []
    },
    {
      "cell_type": "code",
      "metadata": {
        "id": "LjPTrOWPBboz",
        "colab_type": "code",
        "colab": {
          "base_uri": "https://localhost:8080/",
          "height": 52
        },
        "outputId": "c99044ea-3b1f-416d-8c1f-9ba015c0f02e"
      },
      "source": [
        "### ML\n",
        "est_teta_ml=sum(obs_data)/len(obs_data)\n",
        "print(est_teta_ml)\n",
        "sd_est_teta_ml=np.std(obs_data, ddof=1)\n",
        "print(sd_est_teta_ml)\n"
      ],
      "execution_count": 275,
      "outputs": [
        {
          "output_type": "stream",
          "text": [
            "1.0\n",
            "0.0\n"
          ],
          "name": "stdout"
        }
      ]
    },
    {
      "cell_type": "code",
      "metadata": {
        "id": "gv8JQ7ph-xtM",
        "colab_type": "code",
        "colab": {
          "base_uri": "https://localhost:8080/",
          "height": 52
        },
        "outputId": "64698211-3922-4166-b5e3-396b8e27439a"
      },
      "source": [
        "teta"
      ],
      "execution_count": 276,
      "outputs": [
        {
          "output_type": "execute_result",
          "data": {
            "text/plain": [
              "array([0.05, 0.1 , 0.15, 0.2 , 0.25, 0.3 , 0.35, 0.4 , 0.45, 0.5 , 0.55,\n",
              "       0.6 , 0.65, 0.7 , 0.75, 0.8 , 0.85, 0.9 , 0.95])"
            ]
          },
          "metadata": {
            "tags": []
          },
          "execution_count": 276
        }
      ]
    },
    {
      "cell_type": "code",
      "metadata": {
        "id": "TEViuTAq-giI",
        "colab_type": "code",
        "colab": {}
      },
      "source": [
        "dist = tfp.distributions.Bernoulli(probs=1)         "
      ],
      "execution_count": 0,
      "outputs": []
    },
    {
      "cell_type": "code",
      "metadata": {
        "id": "CAoYKCTdMDSH",
        "colab_type": "code",
        "colab": {
          "base_uri": "https://localhost:8080/",
          "height": 34
        },
        "outputId": "ec4142b4-9900-4797-c396-b2b3b9c78fa9"
      },
      "source": [
        "dist.prob(1.0)"
      ],
      "execution_count": 278,
      "outputs": [
        {
          "output_type": "execute_result",
          "data": {
            "text/plain": [
              "<tf.Tensor: id=12323, shape=(), dtype=float32, numpy=nan>"
            ]
          },
          "metadata": {
            "tags": []
          },
          "execution_count": 278
        }
      ]
    },
    {
      "cell_type": "code",
      "metadata": {
        "id": "k2G689dcEEoF",
        "colab_type": "code",
        "colab": {}
      },
      "source": [
        "#prior=1 #uniformdist\n",
        "prior=1/len(teta) #uniformdist"
      ],
      "execution_count": 0,
      "outputs": []
    },
    {
      "cell_type": "code",
      "metadata": {
        "id": "bNdzugd4-gll",
        "colab_type": "code",
        "colab": {
          "base_uri": "https://localhost:8080/",
          "height": 34
        },
        "outputId": "fb7fab8c-dc2f-495a-91fc-62de70587f9f"
      },
      "source": [
        "np.prod(dist.prob(obs_data))#joint likelyhood"
      ],
      "execution_count": 280,
      "outputs": [
        {
          "output_type": "execute_result",
          "data": {
            "text/plain": [
              "nan"
            ]
          },
          "metadata": {
            "tags": []
          },
          "execution_count": 280
        }
      ]
    },
    {
      "cell_type": "code",
      "metadata": {
        "id": "MKs0PYIkFSM8",
        "colab_type": "code",
        "colab": {
          "base_uri": "https://localhost:8080/",
          "height": 34
        },
        "outputId": "95de457d-1815-49be-8bbf-7cbfde7577f3"
      },
      "source": [
        "np.prod(dist.prob(obs_data))*prior #unnormalized posterior"
      ],
      "execution_count": 281,
      "outputs": [
        {
          "output_type": "execute_result",
          "data": {
            "text/plain": [
              "nan"
            ]
          },
          "metadata": {
            "tags": []
          },
          "execution_count": 281
        }
      ]
    },
    {
      "cell_type": "code",
      "metadata": {
        "id": "_PGX3RSbF9qT",
        "colab_type": "code",
        "colab": {}
      },
      "source": [
        "RES=np.zeros((len(teta),5))\n",
        "for i in range(0,len(teta)):\n",
        "  dist = tfp.distributions.Bernoulli(probs=teta[i])   \n",
        "  RES[i,0:4]=np.array((teta[i],np.prod(dist.prob(obs_data)),prior,np.prod(dist.prob(obs_data))*prior))"
      ],
      "execution_count": 0,
      "outputs": []
    },
    {
      "cell_type": "code",
      "metadata": {
        "id": "i1EhebTRHu-G",
        "colab_type": "code",
        "colab": {
          "base_uri": "https://localhost:8080/",
          "height": 623
        },
        "outputId": "5a2b1c75-b268-4126-8d01-0ff4ed2f07f9"
      },
      "source": [
        "import pandas as pd\n",
        "RES=pd.DataFrame(RES,columns=[\"teta\",\"jointlik\",\"prior\",\"unnorm_post\",\"post\"])\n",
        "RES"
      ],
      "execution_count": 283,
      "outputs": [
        {
          "output_type": "execute_result",
          "data": {
            "text/html": [
              "<div>\n",
              "<style scoped>\n",
              "    .dataframe tbody tr th:only-of-type {\n",
              "        vertical-align: middle;\n",
              "    }\n",
              "\n",
              "    .dataframe tbody tr th {\n",
              "        vertical-align: top;\n",
              "    }\n",
              "\n",
              "    .dataframe thead th {\n",
              "        text-align: right;\n",
              "    }\n",
              "</style>\n",
              "<table border=\"1\" class=\"dataframe\">\n",
              "  <thead>\n",
              "    <tr style=\"text-align: right;\">\n",
              "      <th></th>\n",
              "      <th>teta</th>\n",
              "      <th>jointlik</th>\n",
              "      <th>prior</th>\n",
              "      <th>unnorm_post</th>\n",
              "      <th>post</th>\n",
              "    </tr>\n",
              "  </thead>\n",
              "  <tbody>\n",
              "    <tr>\n",
              "      <th>0</th>\n",
              "      <td>0.05</td>\n",
              "      <td>0.000125</td>\n",
              "      <td>0.052632</td>\n",
              "      <td>0.000007</td>\n",
              "      <td>0.0</td>\n",
              "    </tr>\n",
              "    <tr>\n",
              "      <th>1</th>\n",
              "      <td>0.10</td>\n",
              "      <td>0.001000</td>\n",
              "      <td>0.052632</td>\n",
              "      <td>0.000053</td>\n",
              "      <td>0.0</td>\n",
              "    </tr>\n",
              "    <tr>\n",
              "      <th>2</th>\n",
              "      <td>0.15</td>\n",
              "      <td>0.003375</td>\n",
              "      <td>0.052632</td>\n",
              "      <td>0.000178</td>\n",
              "      <td>0.0</td>\n",
              "    </tr>\n",
              "    <tr>\n",
              "      <th>3</th>\n",
              "      <td>0.20</td>\n",
              "      <td>0.008000</td>\n",
              "      <td>0.052632</td>\n",
              "      <td>0.000421</td>\n",
              "      <td>0.0</td>\n",
              "    </tr>\n",
              "    <tr>\n",
              "      <th>4</th>\n",
              "      <td>0.25</td>\n",
              "      <td>0.015625</td>\n",
              "      <td>0.052632</td>\n",
              "      <td>0.000822</td>\n",
              "      <td>0.0</td>\n",
              "    </tr>\n",
              "    <tr>\n",
              "      <th>5</th>\n",
              "      <td>0.30</td>\n",
              "      <td>0.027000</td>\n",
              "      <td>0.052632</td>\n",
              "      <td>0.001421</td>\n",
              "      <td>0.0</td>\n",
              "    </tr>\n",
              "    <tr>\n",
              "      <th>6</th>\n",
              "      <td>0.35</td>\n",
              "      <td>0.042875</td>\n",
              "      <td>0.052632</td>\n",
              "      <td>0.002257</td>\n",
              "      <td>0.0</td>\n",
              "    </tr>\n",
              "    <tr>\n",
              "      <th>7</th>\n",
              "      <td>0.40</td>\n",
              "      <td>0.064000</td>\n",
              "      <td>0.052632</td>\n",
              "      <td>0.003368</td>\n",
              "      <td>0.0</td>\n",
              "    </tr>\n",
              "    <tr>\n",
              "      <th>8</th>\n",
              "      <td>0.45</td>\n",
              "      <td>0.091125</td>\n",
              "      <td>0.052632</td>\n",
              "      <td>0.004796</td>\n",
              "      <td>0.0</td>\n",
              "    </tr>\n",
              "    <tr>\n",
              "      <th>9</th>\n",
              "      <td>0.50</td>\n",
              "      <td>0.125000</td>\n",
              "      <td>0.052632</td>\n",
              "      <td>0.006579</td>\n",
              "      <td>0.0</td>\n",
              "    </tr>\n",
              "    <tr>\n",
              "      <th>10</th>\n",
              "      <td>0.55</td>\n",
              "      <td>0.166375</td>\n",
              "      <td>0.052632</td>\n",
              "      <td>0.008757</td>\n",
              "      <td>0.0</td>\n",
              "    </tr>\n",
              "    <tr>\n",
              "      <th>11</th>\n",
              "      <td>0.60</td>\n",
              "      <td>0.216000</td>\n",
              "      <td>0.052632</td>\n",
              "      <td>0.011368</td>\n",
              "      <td>0.0</td>\n",
              "    </tr>\n",
              "    <tr>\n",
              "      <th>12</th>\n",
              "      <td>0.65</td>\n",
              "      <td>0.274625</td>\n",
              "      <td>0.052632</td>\n",
              "      <td>0.014454</td>\n",
              "      <td>0.0</td>\n",
              "    </tr>\n",
              "    <tr>\n",
              "      <th>13</th>\n",
              "      <td>0.70</td>\n",
              "      <td>0.343000</td>\n",
              "      <td>0.052632</td>\n",
              "      <td>0.018053</td>\n",
              "      <td>0.0</td>\n",
              "    </tr>\n",
              "    <tr>\n",
              "      <th>14</th>\n",
              "      <td>0.75</td>\n",
              "      <td>0.421875</td>\n",
              "      <td>0.052632</td>\n",
              "      <td>0.022204</td>\n",
              "      <td>0.0</td>\n",
              "    </tr>\n",
              "    <tr>\n",
              "      <th>15</th>\n",
              "      <td>0.80</td>\n",
              "      <td>0.512000</td>\n",
              "      <td>0.052632</td>\n",
              "      <td>0.026947</td>\n",
              "      <td>0.0</td>\n",
              "    </tr>\n",
              "    <tr>\n",
              "      <th>16</th>\n",
              "      <td>0.85</td>\n",
              "      <td>0.614125</td>\n",
              "      <td>0.052632</td>\n",
              "      <td>0.032322</td>\n",
              "      <td>0.0</td>\n",
              "    </tr>\n",
              "    <tr>\n",
              "      <th>17</th>\n",
              "      <td>0.90</td>\n",
              "      <td>0.729000</td>\n",
              "      <td>0.052632</td>\n",
              "      <td>0.038368</td>\n",
              "      <td>0.0</td>\n",
              "    </tr>\n",
              "    <tr>\n",
              "      <th>18</th>\n",
              "      <td>0.95</td>\n",
              "      <td>0.857375</td>\n",
              "      <td>0.052632</td>\n",
              "      <td>0.045125</td>\n",
              "      <td>0.0</td>\n",
              "    </tr>\n",
              "  </tbody>\n",
              "</table>\n",
              "</div>"
            ],
            "text/plain": [
              "    teta  jointlik     prior  unnorm_post  post\n",
              "0   0.05  0.000125  0.052632     0.000007   0.0\n",
              "1   0.10  0.001000  0.052632     0.000053   0.0\n",
              "2   0.15  0.003375  0.052632     0.000178   0.0\n",
              "3   0.20  0.008000  0.052632     0.000421   0.0\n",
              "4   0.25  0.015625  0.052632     0.000822   0.0\n",
              "5   0.30  0.027000  0.052632     0.001421   0.0\n",
              "6   0.35  0.042875  0.052632     0.002257   0.0\n",
              "7   0.40  0.064000  0.052632     0.003368   0.0\n",
              "8   0.45  0.091125  0.052632     0.004796   0.0\n",
              "9   0.50  0.125000  0.052632     0.006579   0.0\n",
              "10  0.55  0.166375  0.052632     0.008757   0.0\n",
              "11  0.60  0.216000  0.052632     0.011368   0.0\n",
              "12  0.65  0.274625  0.052632     0.014454   0.0\n",
              "13  0.70  0.343000  0.052632     0.018053   0.0\n",
              "14  0.75  0.421875  0.052632     0.022204   0.0\n",
              "15  0.80  0.512000  0.052632     0.026947   0.0\n",
              "16  0.85  0.614125  0.052632     0.032322   0.0\n",
              "17  0.90  0.729000  0.052632     0.038368   0.0\n",
              "18  0.95  0.857375  0.052632     0.045125   0.0"
            ]
          },
          "metadata": {
            "tags": []
          },
          "execution_count": 283
        }
      ]
    },
    {
      "cell_type": "code",
      "metadata": {
        "id": "AR8xqzptOlku",
        "colab_type": "code",
        "colab": {}
      },
      "source": [
        "RES[\"post\"]=RES[\"unnorm_post\"]/np.sum(RES[\"unnorm_post\"])"
      ],
      "execution_count": 0,
      "outputs": []
    },
    {
      "cell_type": "code",
      "metadata": {
        "id": "7z6X_zLbO6YJ",
        "colab_type": "code",
        "colab": {
          "base_uri": "https://localhost:8080/",
          "height": 404
        },
        "outputId": "0c7f8e20-b1e0-428d-dcab-d03ef03cddbe"
      },
      "source": [
        "plt.figure(figsize=(16,6))\n",
        "plt.subplot(1,2,1)\n",
        "plt.stem(RES[\"teta\"],RES[\"prior\"])\n",
        "plt.xlabel(\"teta\")\n",
        "plt.ylabel(\"density\")\n",
        "plt.ylim([0,0.5])\n",
        "plt.title(\"prior distribution\")\n",
        "plt.subplot(1,2,2)\n",
        "plt.stem(RES[\"teta\"],RES[\"post\"])\n",
        "plt.ylim([0,0.5])\n",
        "plt.xlabel(\"teta\")\n",
        "plt.ylabel(\"density\")\n",
        "plt.title(\"posterior distribution\")\n",
        "plt.show()"
      ],
      "execution_count": 285,
      "outputs": [
        {
          "output_type": "display_data",
          "data": {
            "image/png": "[encoded data removed]",
            "text/plain": [
              "<Figure size 1152x432 with 2 Axes>"
            ]
          },
          "metadata": {
            "tags": []
          }
        }
      ]
    },
    {
      "cell_type": "code",
      "metadata": {
        "id": "L2RUS58hQwKk",
        "colab_type": "code",
        "colab": {
          "base_uri": "https://localhost:8080/",
          "height": 34
        },
        "outputId": "792ac933-c320-4958-9d4d-27f7d7bfdd26"
      },
      "source": [
        "np.sum((1-RES[\"teta\"])*RES[\"post\"]) # genährtes integral für teta-1\n"
      ],
      "execution_count": 286,
      "outputs": [
        {
          "output_type": "execute_result",
          "data": {
            "text/plain": [
              "0.22068421052631568"
            ]
          },
          "metadata": {
            "tags": []
          },
          "execution_count": 286
        }
      ]
    },
    {
      "cell_type": "code",
      "metadata": {
        "id": "ZjzmrjigRL-d",
        "colab_type": "code",
        "colab": {
          "base_uri": "https://localhost:8080/",
          "height": 34
        },
        "outputId": "fb36533e-cb75-4885-fb3f-3a1d1a7d92f9"
      },
      "source": [
        "np.sum((RES[\"teta\"])*RES[\"post\"]) # genährtes integral"
      ],
      "execution_count": 287,
      "outputs": [
        {
          "output_type": "execute_result",
          "data": {
            "text/plain": [
              "0.7793157894736843"
            ]
          },
          "metadata": {
            "tags": []
          },
          "execution_count": 287
        }
      ]
    },
    {
      "cell_type": "code",
      "metadata": {
        "id": "LZQVQO_vRQOK",
        "colab_type": "code",
        "colab": {
          "base_uri": "https://localhost:8080/",
          "height": 34
        },
        "outputId": "da2e7f73-9dd8-4a9f-a60b-6060ecd48e19"
      },
      "source": [
        "np.sum((1-RES[\"teta\"])*RES[\"prior\"]) # genährtes integral für teta-1"
      ],
      "execution_count": 288,
      "outputs": [
        {
          "output_type": "execute_result",
          "data": {
            "text/plain": [
              "0.49999999999999994"
            ]
          },
          "metadata": {
            "tags": []
          },
          "execution_count": 288
        }
      ]
    },
    {
      "cell_type": "code",
      "metadata": {
        "id": "tzbQrRjdRQUg",
        "colab_type": "code",
        "colab": {
          "base_uri": "https://localhost:8080/",
          "height": 34
        },
        "outputId": "acdb6165-e885-43de-d96b-d5a4897c5c3e"
      },
      "source": [
        "np.sum((1-RES[\"teta\"])*RES[\"prior\"]) # genährtes integral für teta-1"
      ],
      "execution_count": 289,
      "outputs": [
        {
          "output_type": "execute_result",
          "data": {
            "text/plain": [
              "0.49999999999999994"
            ]
          },
          "metadata": {
            "tags": []
          },
          "execution_count": 289
        }
      ]
    },
    {
      "cell_type": "code",
      "metadata": {
        "id": "gi9mbjPPvLKs",
        "colab_type": "code",
        "colab": {
          "base_uri": "https://localhost:8080/",
          "height": 34
        },
        "outputId": "c9a4b7bf-4a32-4e16-db39-13b819200d96"
      },
      "source": [
        "[np.sum((1-RES[\"teta\"])*RES[\"post\"]),np.sum((1-RES[\"teta\"])*RES[\"post\"])]"
      ],
      "execution_count": 290,
      "outputs": [
        {
          "output_type": "execute_result",
          "data": {
            "text/plain": [
              "[0.22068421052631568, 0.22068421052631568]"
            ]
          },
          "metadata": {
            "tags": []
          },
          "execution_count": 290
        }
      ]
    },
    {
      "cell_type": "code",
      "metadata": {
        "id": "T79DCZEOuwb4",
        "colab_type": "code",
        "colab": {
          "base_uri": "https://localhost:8080/",
          "height": 404
        },
        "outputId": "6a4321e6-68da-46b5-bed9-4bb1fa58cbec"
      },
      "source": [
        "plt.figure(figsize=(16,6))\n",
        "plt.subplot(1,2,1)\n",
        "plt.stem([0,1],[np.sum((1-RES[\"teta\"])*RES[\"prior\"]),np.sum((RES[\"teta\"])*RES[\"prior\"])])\n",
        "plt.xlabel(\"Y\")\n",
        "plt.ylabel(\"P(y)\")\n",
        "plt.ylim([0,1])\n",
        "plt.title(\"prior distribution\")\n",
        "plt.subplot(1,2,2)\n",
        "plt.stem([0,1],[np.sum((1-RES[\"teta\"])*RES[\"post\"]),np.sum((RES[\"teta\"])*RES[\"post\"])])\n",
        "plt.ylim([0,1])\n",
        "plt.xlabel(\"Y\")\n",
        "plt.ylabel(\"P(y)\")\n",
        "plt.title(\"posterior distribution\")\n",
        "plt.show()"
      ],
      "execution_count": 291,
      "outputs": [
        {
          "output_type": "display_data",
          "data": {
            "image/png": "[encoded data removed]",
            "text/plain": [
              "<Figure size 1152x432 with 2 Axes>"
            ]
          },
          "metadata": {
            "tags": []
          }
        }
      ]
    },
    {
      "cell_type": "code",
      "metadata": {
        "id": "2oCpkvDAMHUV",
        "colab_type": "code",
        "colab": {}
      },
      "source": [
        ""
      ],
      "execution_count": 0,
      "outputs": []
    },
    {
      "cell_type": "code",
      "metadata": {
        "id": "QjfdqUiLMHUa",
        "colab_type": "code",
        "colab": {}
      },
      "source": [
        ""
      ],
      "execution_count": 0,
      "outputs": []
    }
  ]
}