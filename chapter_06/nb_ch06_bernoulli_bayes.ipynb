{
  "nbformat": 4,
  "nbformat_minor": 0,
  "metadata": {
    "kernelspec": {
      "display_name": "Python 3",
      "language": "python",
      "name": "python3"
    },
    "language_info": {
      "codemirror_mode": {
        "name": "ipython",
        "version": 3
      },
      "file_extension": ".py",
      "mimetype": "text/x-python",
      "name": "python",
      "nbconvert_exporter": "python",
      "pygments_lexer": "ipython3",
      "version": "3.5.2"
    },
    "colab": {
      "name": "nb_ch06_bayes.ipynb",
      "version": "0.3.2",
      "provenance": []
    }
  },
  "cells": [
    {
      "cell_type": "code",
      "metadata": {
        "id": "_PvChf9tMHSv",
        "colab_type": "code",
        "outputId": "bc67d5c6-44f1-498a-d13f-890a7a50c7f2",
        "colab": {
          "base_uri": "https://localhost:8080/",
          "height": 35
        }
      },
      "source": [
        "import tensorflow as tf\n",
        "try: #If running in colab \n",
        "    import google.colab\n",
        "    IN_COLAB = True \n",
        "except:\n",
        "    IN_COLAB = False\n",
        "if (not tf.__version__.startswith('2')): #Checking if tf 2.0 is installed\n",
        "    if IN_COLAB: #If running in colab install tf 2.0\n",
        "        !pip install tensorflow==2.0.0-alpha0 \n",
        "        !pip install tfp-nightly==0.7.0-dev20190511\n",
        "    print('Please install tensorflow 2.0 to run this notebook')\n",
        "print('Tensorflow version: ',tf.__version__, ' running in colab?: ', IN_COLAB)"
      ],
      "execution_count": 1,
      "outputs": [
        {
          "output_type": "stream",
          "text": [
            "Tensorflow version:  2.0.0-alpha0  running in colab?:  True\n"
          ],
          "name": "stdout"
        }
      ]
    },
    {
      "cell_type": "code",
      "metadata": {
        "id": "_VSparStMHS6",
        "colab_type": "code",
        "outputId": "f4b456ba-e51c-4c20-9594-947bd1a901e1",
        "colab": {
          "base_uri": "https://localhost:8080/",
          "height": 52
        }
      },
      "source": [
        "import matplotlib.pyplot as plt\n",
        "import numpy as np\n",
        "\n",
        "import tensorflow as tf\n",
        "import tensorflow_probability as tfp\n",
        "\n",
        "plt.style.use('default') \n",
        "%matplotlib inline\n",
        "\n",
        "tfd = tfp.distributions\n",
        "print(\"TFB Version\", tfp.__version__)\n",
        "print(\"TF  Version\",tf.__version__)"
      ],
      "execution_count": 3,
      "outputs": [
        {
          "output_type": "stream",
          "text": [
            "TFB Version 0.7.0-dev20190511\n",
            "TF  Version 2.0.0-alpha0\n"
          ],
          "name": "stdout"
        }
      ]
    },
    {
      "cell_type": "code",
      "metadata": {
        "id": "KYNnP9ZzR9wq",
        "colab_type": "code",
        "colab": {}
      },
      "source": [
        "obs_data=np.repeat(1,3)\n",
        "theta=np.arange(0.05,1,0.05)"
      ],
      "execution_count": 0,
      "outputs": []
    },
    {
      "cell_type": "code",
      "metadata": {
        "id": "LjPTrOWPBboz",
        "colab_type": "code",
        "outputId": "dc4c4434-01c9-4a97-8430-6656c7bb5fe9",
        "colab": {
          "base_uri": "https://localhost:8080/",
          "height": 52
        }
      },
      "source": [
        "### ML\n",
        "est_theta_ml=sum(obs_data)/len(obs_data)\n",
        "print(est_theta_ml)\n",
        "sd_est_theta_ml=np.std(obs_data, ddof=1)\n",
        "print(sd_est_theta_ml)\n"
      ],
      "execution_count": 36,
      "outputs": [
        {
          "output_type": "stream",
          "text": [
            "1.0\n",
            "0.0\n"
          ],
          "name": "stdout"
        }
      ]
    },
    {
      "cell_type": "code",
      "metadata": {
        "id": "gv8JQ7ph-xtM",
        "colab_type": "code",
        "outputId": "a2c51fc6-fbd9-4328-d22d-4f66ff84f7b5",
        "colab": {
          "base_uri": "https://localhost:8080/",
          "height": 52
        }
      },
      "source": [
        "theta"
      ],
      "execution_count": 37,
      "outputs": [
        {
          "output_type": "execute_result",
          "data": {
            "text/plain": [
              "array([0.05, 0.1 , 0.15, 0.2 , 0.25, 0.3 , 0.35, 0.4 , 0.45, 0.5 , 0.55,\n",
              "       0.6 , 0.65, 0.7 , 0.75, 0.8 , 0.85, 0.9 , 0.95])"
            ]
          },
          "metadata": {
            "tags": []
          },
          "execution_count": 37
        }
      ]
    },
    {
      "cell_type": "code",
      "metadata": {
        "id": "TEViuTAq-giI",
        "colab_type": "code",
        "colab": {}
      },
      "source": [
        "dist = tfp.distributions.Bernoulli(probs=0.5)         "
      ],
      "execution_count": 0,
      "outputs": []
    },
    {
      "cell_type": "code",
      "metadata": {
        "id": "CAoYKCTdMDSH",
        "colab_type": "code",
        "outputId": "985ea787-6c69-4988-f705-0612539ddf1d",
        "colab": {
          "base_uri": "https://localhost:8080/",
          "height": 35
        }
      },
      "source": [
        "dist.prob(1.0)"
      ],
      "execution_count": 39,
      "outputs": [
        {
          "output_type": "execute_result",
          "data": {
            "text/plain": [
              "<tf.Tensor: id=2083, shape=(), dtype=float32, numpy=0.5>"
            ]
          },
          "metadata": {
            "tags": []
          },
          "execution_count": 39
        }
      ]
    },
    {
      "cell_type": "code",
      "metadata": {
        "id": "k2G689dcEEoF",
        "colab_type": "code",
        "colab": {}
      },
      "source": [
        "prior=1/len(theta) #uniformdist"
      ],
      "execution_count": 0,
      "outputs": []
    },
    {
      "cell_type": "code",
      "metadata": {
        "id": "bNdzugd4-gll",
        "colab_type": "code",
        "outputId": "34ac728e-5f72-46cc-d241-f54d2549721a",
        "colab": {
          "base_uri": "https://localhost:8080/",
          "height": 35
        }
      },
      "source": [
        "np.prod(dist.prob(obs_data))#joint likelyhood"
      ],
      "execution_count": 41,
      "outputs": [
        {
          "output_type": "execute_result",
          "data": {
            "text/plain": [
              "0.125"
            ]
          },
          "metadata": {
            "tags": []
          },
          "execution_count": 41
        }
      ]
    },
    {
      "cell_type": "code",
      "metadata": {
        "id": "MKs0PYIkFSM8",
        "colab_type": "code",
        "outputId": "aaae78ca-7b1a-4278-bbfd-e50928851379",
        "colab": {
          "base_uri": "https://localhost:8080/",
          "height": 35
        }
      },
      "source": [
        "np.prod(dist.prob(obs_data))*prior #unnormalized posterior"
      ],
      "execution_count": 42,
      "outputs": [
        {
          "output_type": "execute_result",
          "data": {
            "text/plain": [
              "0.006578947368421052"
            ]
          },
          "metadata": {
            "tags": []
          },
          "execution_count": 42
        }
      ]
    },
    {
      "cell_type": "code",
      "metadata": {
        "id": "_PGX3RSbF9qT",
        "colab_type": "code",
        "colab": {}
      },
      "source": [
        "RES=np.zeros((len(theta),5))\n",
        "for i in range(0,len(theta)):\n",
        "  dist = tfp.distributions.Bernoulli(probs=theta[i])   \n",
        "  RES[i,0:4]=np.array((theta[i],np.prod(dist.prob(obs_data)),prior,np.prod(dist.prob(obs_data))*prior))"
      ],
      "execution_count": 0,
      "outputs": []
    },
    {
      "cell_type": "code",
      "metadata": {
        "id": "i1EhebTRHu-G",
        "colab_type": "code",
        "outputId": "571892cb-1f22-4ad0-8594-af09a02169d0",
        "colab": {
          "base_uri": "https://localhost:8080/",
          "height": 631
        }
      },
      "source": [
        "import pandas as pd\n",
        "RES=pd.DataFrame(RES,columns=[\"theta\",\"jointlik\",\"prior\",\"unnorm_post\",\"post\"])\n",
        "RES[\"post\"]=RES[\"unnorm_post\"]/np.sum(RES[\"unnorm_post\"])\n",
        "RES"
      ],
      "execution_count": 44,
      "outputs": [
        {
          "output_type": "execute_result",
          "data": {
            "text/html": [
              "<div>\n",
              "<style scoped>\n",
              "    .dataframe tbody tr th:only-of-type {\n",
              "        vertical-align: middle;\n",
              "    }\n",
              "\n",
              "    .dataframe tbody tr th {\n",
              "        vertical-align: top;\n",
              "    }\n",
              "\n",
              "    .dataframe thead th {\n",
              "        text-align: right;\n",
              "    }\n",
              "</style>\n",
              "<table border=\"1\" class=\"dataframe\">\n",
              "  <thead>\n",
              "    <tr style=\"text-align: right;\">\n",
              "      <th></th>\n",
              "      <th>theta</th>\n",
              "      <th>jointlik</th>\n",
              "      <th>prior</th>\n",
              "      <th>unnorm_post</th>\n",
              "      <th>post</th>\n",
              "    </tr>\n",
              "  </thead>\n",
              "  <tbody>\n",
              "    <tr>\n",
              "      <th>0</th>\n",
              "      <td>0.05</td>\n",
              "      <td>0.000125</td>\n",
              "      <td>0.052632</td>\n",
              "      <td>0.000007</td>\n",
              "      <td>0.000028</td>\n",
              "    </tr>\n",
              "    <tr>\n",
              "      <th>1</th>\n",
              "      <td>0.10</td>\n",
              "      <td>0.001000</td>\n",
              "      <td>0.052632</td>\n",
              "      <td>0.000053</td>\n",
              "      <td>0.000222</td>\n",
              "    </tr>\n",
              "    <tr>\n",
              "      <th>2</th>\n",
              "      <td>0.15</td>\n",
              "      <td>0.003375</td>\n",
              "      <td>0.052632</td>\n",
              "      <td>0.000178</td>\n",
              "      <td>0.000748</td>\n",
              "    </tr>\n",
              "    <tr>\n",
              "      <th>3</th>\n",
              "      <td>0.20</td>\n",
              "      <td>0.008000</td>\n",
              "      <td>0.052632</td>\n",
              "      <td>0.000421</td>\n",
              "      <td>0.001773</td>\n",
              "    </tr>\n",
              "    <tr>\n",
              "      <th>4</th>\n",
              "      <td>0.25</td>\n",
              "      <td>0.015625</td>\n",
              "      <td>0.052632</td>\n",
              "      <td>0.000822</td>\n",
              "      <td>0.003463</td>\n",
              "    </tr>\n",
              "    <tr>\n",
              "      <th>5</th>\n",
              "      <td>0.30</td>\n",
              "      <td>0.027000</td>\n",
              "      <td>0.052632</td>\n",
              "      <td>0.001421</td>\n",
              "      <td>0.005983</td>\n",
              "    </tr>\n",
              "    <tr>\n",
              "      <th>6</th>\n",
              "      <td>0.35</td>\n",
              "      <td>0.042875</td>\n",
              "      <td>0.052632</td>\n",
              "      <td>0.002257</td>\n",
              "      <td>0.009501</td>\n",
              "    </tr>\n",
              "    <tr>\n",
              "      <th>7</th>\n",
              "      <td>0.40</td>\n",
              "      <td>0.064000</td>\n",
              "      <td>0.052632</td>\n",
              "      <td>0.003368</td>\n",
              "      <td>0.014183</td>\n",
              "    </tr>\n",
              "    <tr>\n",
              "      <th>8</th>\n",
              "      <td>0.45</td>\n",
              "      <td>0.091125</td>\n",
              "      <td>0.052632</td>\n",
              "      <td>0.004796</td>\n",
              "      <td>0.020194</td>\n",
              "    </tr>\n",
              "    <tr>\n",
              "      <th>9</th>\n",
              "      <td>0.50</td>\n",
              "      <td>0.125000</td>\n",
              "      <td>0.052632</td>\n",
              "      <td>0.006579</td>\n",
              "      <td>0.027701</td>\n",
              "    </tr>\n",
              "    <tr>\n",
              "      <th>10</th>\n",
              "      <td>0.55</td>\n",
              "      <td>0.166375</td>\n",
              "      <td>0.052632</td>\n",
              "      <td>0.008757</td>\n",
              "      <td>0.036870</td>\n",
              "    </tr>\n",
              "    <tr>\n",
              "      <th>11</th>\n",
              "      <td>0.60</td>\n",
              "      <td>0.216000</td>\n",
              "      <td>0.052632</td>\n",
              "      <td>0.011368</td>\n",
              "      <td>0.047867</td>\n",
              "    </tr>\n",
              "    <tr>\n",
              "      <th>12</th>\n",
              "      <td>0.65</td>\n",
              "      <td>0.274625</td>\n",
              "      <td>0.052632</td>\n",
              "      <td>0.014454</td>\n",
              "      <td>0.060859</td>\n",
              "    </tr>\n",
              "    <tr>\n",
              "      <th>13</th>\n",
              "      <td>0.70</td>\n",
              "      <td>0.343000</td>\n",
              "      <td>0.052632</td>\n",
              "      <td>0.018053</td>\n",
              "      <td>0.076011</td>\n",
              "    </tr>\n",
              "    <tr>\n",
              "      <th>14</th>\n",
              "      <td>0.75</td>\n",
              "      <td>0.421875</td>\n",
              "      <td>0.052632</td>\n",
              "      <td>0.022204</td>\n",
              "      <td>0.093490</td>\n",
              "    </tr>\n",
              "    <tr>\n",
              "      <th>15</th>\n",
              "      <td>0.80</td>\n",
              "      <td>0.512000</td>\n",
              "      <td>0.052632</td>\n",
              "      <td>0.026947</td>\n",
              "      <td>0.113463</td>\n",
              "    </tr>\n",
              "    <tr>\n",
              "      <th>16</th>\n",
              "      <td>0.85</td>\n",
              "      <td>0.614125</td>\n",
              "      <td>0.052632</td>\n",
              "      <td>0.032322</td>\n",
              "      <td>0.136094</td>\n",
              "    </tr>\n",
              "    <tr>\n",
              "      <th>17</th>\n",
              "      <td>0.90</td>\n",
              "      <td>0.729000</td>\n",
              "      <td>0.052632</td>\n",
              "      <td>0.038368</td>\n",
              "      <td>0.161551</td>\n",
              "    </tr>\n",
              "    <tr>\n",
              "      <th>18</th>\n",
              "      <td>0.95</td>\n",
              "      <td>0.857375</td>\n",
              "      <td>0.052632</td>\n",
              "      <td>0.045125</td>\n",
              "      <td>0.190000</td>\n",
              "    </tr>\n",
              "  </tbody>\n",
              "</table>\n",
              "</div>"
            ],
            "text/plain": [
              "    theta  jointlik     prior  unnorm_post      post\n",
              "0    0.05  0.000125  0.052632     0.000007  0.000028\n",
              "1    0.10  0.001000  0.052632     0.000053  0.000222\n",
              "2    0.15  0.003375  0.052632     0.000178  0.000748\n",
              "3    0.20  0.008000  0.052632     0.000421  0.001773\n",
              "4    0.25  0.015625  0.052632     0.000822  0.003463\n",
              "5    0.30  0.027000  0.052632     0.001421  0.005983\n",
              "6    0.35  0.042875  0.052632     0.002257  0.009501\n",
              "7    0.40  0.064000  0.052632     0.003368  0.014183\n",
              "8    0.45  0.091125  0.052632     0.004796  0.020194\n",
              "9    0.50  0.125000  0.052632     0.006579  0.027701\n",
              "10   0.55  0.166375  0.052632     0.008757  0.036870\n",
              "11   0.60  0.216000  0.052632     0.011368  0.047867\n",
              "12   0.65  0.274625  0.052632     0.014454  0.060859\n",
              "13   0.70  0.343000  0.052632     0.018053  0.076011\n",
              "14   0.75  0.421875  0.052632     0.022204  0.093490\n",
              "15   0.80  0.512000  0.052632     0.026947  0.113463\n",
              "16   0.85  0.614125  0.052632     0.032322  0.136094\n",
              "17   0.90  0.729000  0.052632     0.038368  0.161551\n",
              "18   0.95  0.857375  0.052632     0.045125  0.190000"
            ]
          },
          "metadata": {
            "tags": []
          },
          "execution_count": 44
        }
      ]
    },
    {
      "cell_type": "code",
      "metadata": {
        "id": "7z6X_zLbO6YJ",
        "colab_type": "code",
        "outputId": "020b856c-2866-48c7-9f12-9982d834995d",
        "colab": {
          "base_uri": "https://localhost:8080/",
          "height": 405
        }
      },
      "source": [
        "plt.figure(figsize=(16,6))\n",
        "plt.subplot(1,2,1)\n",
        "plt.stem(RES[\"theta\"],RES[\"prior\"])\n",
        "plt.xlabel(\"theta\")\n",
        "plt.ylabel(\"density\")\n",
        "plt.ylim([0,0.5])\n",
        "plt.title(\"prior distribution\")\n",
        "plt.subplot(1,2,2)\n",
        "plt.stem(RES[\"theta\"],RES[\"post\"])\n",
        "plt.ylim([0,0.5])\n",
        "plt.xlabel(\"theta\")\n",
        "plt.ylabel(\"density\")\n",
        "plt.title(\"posterior distribution\")\n",
        "plt.show()"
      ],
      "execution_count": 45,
      "outputs": [
        {
          "output_type": "display_data",
          "data": {
            "image/png": "[encoded data removed]",
            "text/plain": [
              "<Figure size 1152x432 with 2 Axes>"
            ]
          },
          "metadata": {
            "tags": []
          }
        }
      ]
    },
    {
      "cell_type": "code",
      "metadata": {
        "id": "L2RUS58hQwKk",
        "colab_type": "code",
        "outputId": "4d0d18d3-5939-4c6a-cdc3-334e3e8070a3",
        "colab": {
          "base_uri": "https://localhost:8080/",
          "height": 35
        }
      },
      "source": [
        "np.sum((1-RES[\"theta\"])*RES[\"post\"]) # genährtes integral für teta-1\n"
      ],
      "execution_count": 46,
      "outputs": [
        {
          "output_type": "execute_result",
          "data": {
            "text/plain": [
              "0.22068421052631568"
            ]
          },
          "metadata": {
            "tags": []
          },
          "execution_count": 46
        }
      ]
    },
    {
      "cell_type": "code",
      "metadata": {
        "id": "ZjzmrjigRL-d",
        "colab_type": "code",
        "outputId": "bff09bd3-181a-4f5e-9b67-ec8929395a73",
        "colab": {
          "base_uri": "https://localhost:8080/",
          "height": 35
        }
      },
      "source": [
        "np.sum((RES[\"theta\"])*RES[\"post\"]) # genährtes integral"
      ],
      "execution_count": 47,
      "outputs": [
        {
          "output_type": "execute_result",
          "data": {
            "text/plain": [
              "0.7793157894736843"
            ]
          },
          "metadata": {
            "tags": []
          },
          "execution_count": 47
        }
      ]
    },
    {
      "cell_type": "code",
      "metadata": {
        "id": "LZQVQO_vRQOK",
        "colab_type": "code",
        "outputId": "f8efc12f-67e2-4fb8-ded2-40c6cc264f44",
        "colab": {
          "base_uri": "https://localhost:8080/",
          "height": 35
        }
      },
      "source": [
        "np.sum((1-RES[\"theta\"])*RES[\"prior\"]) # genährtes integral für teta-1"
      ],
      "execution_count": 52,
      "outputs": [
        {
          "output_type": "execute_result",
          "data": {
            "text/plain": [
              "0.49999999999999994"
            ]
          },
          "metadata": {
            "tags": []
          },
          "execution_count": 52
        }
      ]
    },
    {
      "cell_type": "code",
      "metadata": {
        "id": "UeXeSy80cECH",
        "colab_type": "code",
        "colab": {
          "base_uri": "https://localhost:8080/",
          "height": 35
        },
        "outputId": "a54e3e70-10f6-4363-d6f6-aafca34089cc"
      },
      "source": [
        "np.sum((RES[\"theta\"])*RES[\"prior\"]) # genährtes integral für teta"
      ],
      "execution_count": 53,
      "outputs": [
        {
          "output_type": "execute_result",
          "data": {
            "text/plain": [
              "0.5"
            ]
          },
          "metadata": {
            "tags": []
          },
          "execution_count": 53
        }
      ]
    },
    {
      "cell_type": "code",
      "metadata": {
        "id": "T79DCZEOuwb4",
        "colab_type": "code",
        "outputId": "0693bea2-e5c0-41eb-f02d-6fd032828bbb",
        "colab": {
          "base_uri": "https://localhost:8080/",
          "height": 405
        }
      },
      "source": [
        "plt.figure(figsize=(16,6))\n",
        "plt.subplot(1,2,1)\n",
        "plt.stem([0,1],[np.sum((1-RES[\"theta\"])*RES[\"prior\"]),np.sum((RES[\"theta\"])*RES[\"prior\"])])\n",
        "plt.xlabel(\"Y\")\n",
        "plt.ylabel(\"P(y)\")\n",
        "plt.ylim([0,1])\n",
        "plt.title(\"prior distribution\")\n",
        "plt.subplot(1,2,2)\n",
        "plt.stem([0,1],[np.sum((1-RES[\"theta\"])*RES[\"post\"]),np.sum((RES[\"theta\"])*RES[\"post\"])])\n",
        "plt.ylim([0,1])\n",
        "plt.xlabel(\"Y\")\n",
        "plt.ylabel(\"P(y)\")\n",
        "plt.title(\"posterior distribution\")\n",
        "plt.show()"
      ],
      "execution_count": 54,
      "outputs": [
        {
          "output_type": "display_data",
          "data": {
            "image/png": "[encoded data removed]",
            "text/plain": [
              "<Figure size 1152x432 with 2 Axes>"
            ]
          },
          "metadata": {
            "tags": []
          }
        }
      ]
    },
    {
      "cell_type": "code",
      "metadata": {
        "id": "gi9mbjPPvLKs",
        "colab_type": "code",
        "outputId": "d7690909-8f5a-412a-b641-992f76959112",
        "colab": {
          "base_uri": "https://localhost:8080/",
          "height": 35
        }
      },
      "source": [
        "[np.sum((1-RES[\"theta\"])*RES[\"post\"]),np.sum((RES[\"theta\"])*RES[\"post\"])]"
      ],
      "execution_count": 55,
      "outputs": [
        {
          "output_type": "execute_result",
          "data": {
            "text/plain": [
              "[0.22068421052631568, 0.7793157894736843]"
            ]
          },
          "metadata": {
            "tags": []
          },
          "execution_count": 55
        }
      ]
    },
    {
      "cell_type": "markdown",
      "metadata": {
        "id": "6O-XLU9BYy7T",
        "colab_type": "text"
      },
      "source": [
        "### Posterior and the predictive distribution for different observed data\n",
        "\n",
        "<img src=\"https://raw.githubusercontent.com/tensorchiefs/dl_book/master/imgs/paper-pen.png\" width=\"60\" align=\"left\" />  \n",
        "\n",
        "*Exercise 1: Let's assume fist you observed 20 times head and then you observed 11 times head and 9 times tail. How does the posterior and the predictive distribution look, for these two cases?*"
      ]
    },
    {
      "cell_type": "code",
      "metadata": {
        "id": "dUrZY3abdBPz",
        "colab_type": "code",
        "colab": {}
      },
      "source": [
        "# Write your code here"
      ],
      "execution_count": 0,
      "outputs": []
    },
    {
      "cell_type": "markdown",
      "metadata": {
        "id": "-OdDUr7odDoa",
        "colab_type": "text"
      },
      "source": [
        "Scroll down to see the solution.\n",
        "\n",
        "</br>\n",
        "</br>\n",
        "</br>\n",
        "</br>\n",
        "</br>\n",
        "</br>\n",
        "</br>\n",
        "</br>\n",
        "</br>\n",
        "</br>\n",
        "</br>\n",
        "</br>\n",
        "</br>\n",
        "</br>\n",
        "</br>\n",
        "</br>\n",
        "</br>\n",
        "</br>\n",
        "</br>\n",
        "</br>\n",
        "</br>"
      ]
    },
    {
      "cell_type": "code",
      "metadata": {
        "id": "2oCpkvDAMHUV",
        "colab_type": "code",
        "colab": {}
      },
      "source": [
        "obs_data=np.repeat(1,20)\n",
        "theta=np.arange(0.05,1,0.05)\n",
        "RES=np.zeros((len(theta),5))\n",
        "for i in range(0,len(theta)):\n",
        "  dist = tfp.distributions.Bernoulli(probs=theta[i])   \n",
        "  RES[i,0:4]=np.array((theta[i],np.prod(dist.prob(obs_data)),prior,np.prod(dist.prob(obs_data))*prior))\n",
        "RES=pd.DataFrame(RES,columns=[\"theta\",\"jointlik\",\"prior\",\"unnorm_post\",\"post\"])\n",
        "RES[\"post\"]=RES[\"unnorm_post\"]/np.sum(RES[\"unnorm_post\"])  "
      ],
      "execution_count": 0,
      "outputs": []
    },
    {
      "cell_type": "code",
      "metadata": {
        "id": "QjfdqUiLMHUa",
        "colab_type": "code",
        "colab": {
          "base_uri": "https://localhost:8080/",
          "height": 405
        },
        "outputId": "78231991-3fb8-4d62-af69-7b18b44c7d78"
      },
      "source": [
        "plt.figure(figsize=(16,6))\n",
        "plt.subplot(1,2,1)\n",
        "plt.stem(RES[\"theta\"],RES[\"post\"])\n",
        "plt.ylim([0,1])\n",
        "plt.xlabel(\"theta\")\n",
        "plt.ylabel(\"density\")\n",
        "plt.title(\"posterior distribution\")\n",
        "plt.subplot(1,2,2)\n",
        "plt.stem([0,1],[np.sum((1-RES[\"theta\"])*RES[\"post\"]),np.sum((RES[\"theta\"])*RES[\"post\"])])\n",
        "plt.ylim([0,1])\n",
        "plt.xlabel(\"Y\")\n",
        "plt.ylabel(\"P(y)\")\n",
        "plt.title(\"posterior distribution\")\n",
        "plt.show()\n"
      ],
      "execution_count": 61,
      "outputs": [
        {
          "output_type": "display_data",
          "data": {
            "image/png": "[encoded data removed]",
            "text/plain": [
              "<Figure size 1152x432 with 2 Axes>"
            ]
          },
          "metadata": {
            "tags": []
          }
        }
      ]
    },
    {
      "cell_type": "code",
      "metadata": {
        "id": "sehkxNCba6oz",
        "colab_type": "code",
        "colab": {
          "base_uri": "https://localhost:8080/",
          "height": 35
        },
        "outputId": "e2d37105-1513-4d23-cc50-afa8cacc5997"
      },
      "source": [
        "[np.sum((1-RES[\"theta\"])*RES[\"post\"]),np.sum((RES[\"theta\"])*RES[\"post\"])]"
      ],
      "execution_count": 62,
      "outputs": [
        {
          "output_type": "execute_result",
          "data": {
            "text/plain": [
              "[0.07354919302542323, 0.9264508069745767]"
            ]
          },
          "metadata": {
            "tags": []
          },
          "execution_count": 62
        }
      ]
    },
    {
      "cell_type": "code",
      "metadata": {
        "id": "i1iP-dYYbZm0",
        "colab_type": "code",
        "colab": {}
      },
      "source": [
        "obs_data=np.concatenate((np.repeat(1,11),np.repeat(0,9)))\n",
        "theta=np.arange(0.05,1,0.05)\n",
        "RES=np.zeros((len(theta),5))\n",
        "for i in range(0,len(theta)):\n",
        "  dist = tfp.distributions.Bernoulli(probs=theta[i])   \n",
        "  RES[i,0:4]=np.array((theta[i],np.prod(dist.prob(obs_data)),prior,np.prod(dist.prob(obs_data))*prior))\n",
        "RES=pd.DataFrame(RES,columns=[\"theta\",\"jointlik\",\"prior\",\"unnorm_post\",\"post\"])\n",
        "RES[\"post\"]=RES[\"unnorm_post\"]/np.sum(RES[\"unnorm_post\"])  "
      ],
      "execution_count": 0,
      "outputs": []
    },
    {
      "cell_type": "code",
      "metadata": {
        "id": "Rjc99SMScz-q",
        "colab_type": "code",
        "colab": {
          "base_uri": "https://localhost:8080/",
          "height": 405
        },
        "outputId": "19d90ae6-26e0-4843-a66a-4a086585bc3f"
      },
      "source": [
        "plt.figure(figsize=(16,6))\n",
        "plt.subplot(1,2,1)\n",
        "plt.stem(RES[\"theta\"],RES[\"post\"])\n",
        "plt.ylim([0,1])\n",
        "plt.xlabel(\"theta\")\n",
        "plt.ylabel(\"density\")\n",
        "plt.title(\"posterior distribution\")\n",
        "plt.subplot(1,2,2)\n",
        "plt.stem([0,1],[np.sum((1-RES[\"theta\"])*RES[\"post\"]),np.sum((RES[\"theta\"])*RES[\"post\"])])\n",
        "plt.ylim([0,1])\n",
        "plt.xlabel(\"Y\")\n",
        "plt.ylabel(\"P(y)\")\n",
        "plt.title(\"posterior distribution\")\n",
        "plt.show()\n"
      ],
      "execution_count": 68,
      "outputs": [
        {
          "output_type": "display_data",
          "data": {
            "image/png": "[encoded data removed]",
            "text/plain": [
              "<Figure size 1152x432 with 2 Axes>"
            ]
          },
          "metadata": {
            "tags": []
          }
        }
      ]
    },
    {
      "cell_type": "code",
      "metadata": {
        "id": "5qiJsGftc4HE",
        "colab_type": "code",
        "colab": {
          "base_uri": "https://localhost:8080/",
          "height": 35
        },
        "outputId": "ebb4d815-ed4b-4573-ab98-9868a1a95ef8"
      },
      "source": [
        "[np.sum((1-RES[\"theta\"])*RES[\"post\"]),np.sum((RES[\"theta\"])*RES[\"post\"])]"
      ],
      "execution_count": 69,
      "outputs": [
        {
          "output_type": "execute_result",
          "data": {
            "text/plain": [
              "[0.4545454551377407, 0.5454545448622592]"
            ]
          },
          "metadata": {
            "tags": []
          },
          "execution_count": 69
        }
      ]
    },
    {
      "cell_type": "code",
      "metadata": {
        "id": "T-lnHLIPc6yp",
        "colab_type": "code",
        "colab": {}
      },
      "source": [
        ""
      ],
      "execution_count": 0,
      "outputs": []
    }
  ]
}