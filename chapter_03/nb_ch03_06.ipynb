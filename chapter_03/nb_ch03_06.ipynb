{
 "cells": [
  {
   "cell_type": "markdown",
   "metadata": {
    "colab_type": "text",
    "id": "O2sP8Kwe7L9Z"
   },
   "source": [
    "\n",
    "## Fitting a linear regression model with TF Eager\n",
    "\n",
    "**Goal:** In this notebook you will see how to use TF Eager to fit the parameters (slope and intercept) of a simple linear regression model via gradient descent (GD). \n",
    "\n",
    "**Usage:** The idea of the notebook is that you try to understand the provided code by running it, checking the output and playing with it by slightly changing the code and rerunning it. \n",
    "\n",
    "**Dataset:** You work again with the systolic blood pressure and age data of 33 American women, which is generated and visualized in the upper part of the notebook.\n",
    "\n",
    "**Content:**\n",
    "\n",
    "* fit a linear model via the sklearn machine learning library of python to get the fitted values of the intercept and slope as reference. \n",
    "\n",
    "* use the tensorflow library and enable the tf eager mode to fit the parameters of the simple linear model via GD with the objective to minimize the MSE loss. \n",
    "    * define the mse loss function \n",
    "    * apply the gradients_function of tf eager on the loss w.r.t. the parameters\n",
    "    * use the gradients to update the parameter values via update formula\n",
    "    * iterate over the two former steps for many steps and check the current values of the estimated model parameters and the loss after each updatestep \n",
    "    * verify that the estimated parameter values converge to the values which you got from the sklearn fit.  \n",
    "\n",
    "\n",
    "[open in colab](https://colab.research.google.com/github/tensorchiefs/dl_book/blob/master/chapter_03/nb_ch03_06.ipynb)"
   ]
  },
  {
   "cell_type": "code",
   "execution_count": 1,
   "metadata": {},
   "outputs": [
    {
     "name": "stdout",
     "output_type": "stream",
     "text": [
      "Tensorflow version:  2.0.0-rc0  running in colab?:  False\n"
     ]
    }
   ],
   "source": [
    "import tensorflow as tf\n",
    "try: #If running in colab \n",
    "    import google.colab\n",
    "    IN_COLAB = True \n",
    "except:\n",
    "    IN_COLAB = False\n",
    "if (not tf.__version__.startswith('2')): #Checking if tf 2.0 is installed\n",
    "    if IN_COLAB: #If running in colab install tf 2.0\n",
    "        !pip install tensorflow==2.0.0 \n",
    "    print('Please install tensorflow 2.0 to run this notebook')\n",
    "print('Tensorflow version: ',tf.__version__, ' running in colab?: ', IN_COLAB)"
   ]
  },
  {
   "cell_type": "code",
   "execution_count": 2,
   "metadata": {
    "colab": {},
    "colab_type": "code",
    "id": "RMlU4PJJ5QO7"
   },
   "outputs": [],
   "source": [
    "import numpy as np\n",
    "import matplotlib.pyplot as plt\n",
    "%matplotlib inline\n",
    "plt.style.use('default')\n",
    "from sklearn.linear_model import LinearRegression"
   ]
  },
  {
   "cell_type": "markdown",
   "metadata": {
    "colab_type": "text",
    "id": "p3c9bh7zMVhP"
   },
   "source": [
    "Here we read in the systolic blood pressure and the age of the 33 American women in our dataset. Then we use the sklearn library to find the optimal values for the slope a and the intercept b."
   ]
  },
  {
   "cell_type": "code",
   "execution_count": 3,
   "metadata": {
    "colab": {},
    "colab_type": "code",
    "id": "RvINwW1vydo9"
   },
   "outputs": [],
   "source": [
    "# Blood Pressure data\n",
    "x = [22, 41, 52, 23, 41, 54, 24, 46, 56, 27, 47, 57, 28, 48, 58,  9, \n",
    "     49, 59, 30, 49, 63, 32, 50, 67, 33, 51, 71, 35, 51, 77, 40, 51, 81]\n",
    "y = [131, 139, 128, 128, 171, 105, 116, 137, 145, 106, 111, 141, 114, \n",
    "     115, 153, 123, 133, 157, 117, 128, 155, 122, 183,\n",
    "     176,  99, 130, 172, 121, 133, 178, 147, 144, 217] \n",
    "x = np.asarray(x, np.float32) \n",
    "y = np.asarray(y, np.float32)"
   ]
  },
  {
   "cell_type": "code",
   "execution_count": 4,
   "metadata": {
    "colab": {
     "base_uri": "https://localhost:8080/",
     "height": 490
    },
    "colab_type": "code",
    "id": "OurbybEoydpB",
    "outputId": "2887d477-074a-47d1-9e50-65a5b483b997"
   },
   "outputs": [
    {
     "data": {
      "image/png": "[encoded data removed]",
      "text/plain": [
       "<Figure size 432x288 with 1 Axes>"
      ]
     },
     "metadata": {
      "needs_background": "light"
     },
     "output_type": "display_data"
    },
    {
     "name": "stdout",
     "output_type": "stream",
     "text": [
      "intercept =  87.67143 solpe =  1.1050216\n"
     ]
    }
   ],
   "source": [
    "plt.scatter(x=x,y=y)\n",
    "plt.title(\"blood pressure vs age\")\n",
    "plt.xlabel(\"x (age)\")\n",
    "plt.ylabel(\"y (sbp)\")\n",
    "\n",
    "model = LinearRegression()\n",
    "res = model.fit(x.reshape((len(x),1)), y)\n",
    "predictions = model.predict(x.reshape((len(x),1)))\n",
    "plt.plot(x, predictions)\n",
    "plt.show()\n",
    "print(\"intercept = \",res.intercept_,\"solpe = \", res.coef_[0],)"
   ]
  },
  {
   "cell_type": "markdown",
   "metadata": {
    "colab_type": "text",
    "id": "oxlyNp9uSKYd"
   },
   "source": [
    "## TF Eager\n",
    "\n",
    "Now we want to use the TF Eager mode to find the optimal parameters for the linear regression problem. First we define our mse loss function."
   ]
  },
  {
   "cell_type": "code",
   "execution_count": 5,
   "metadata": {
    "colab": {},
    "colab_type": "code",
    "id": "LQI88BUK_FN0"
   },
   "outputs": [],
   "source": [
    "def loss(a, b):\n",
    "  y_hat = a*x + b\n",
    "  return tf.reduce_mean((y_hat - y)**2)"
   ]
  },
  {
   "cell_type": "markdown",
   "metadata": {
    "colab_type": "text",
    "id": "EzQzM4Kq56Ai"
   },
   "source": [
    "We can do a forwad pass and can calculate the loss (mse) with the initial values a=0 and b=139 (139 is the mean of the blood pressure and slope a=0 implies that the model predicts the mean for each age). Note that `a` and `b` must be `tf.Variables`. We see the loss value in the numpy argument in the output. In contrast to old (pre 2.0) TensorFlow we don't need to run a session to get loss!"
   ]
  },
  {
   "cell_type": "code",
   "execution_count": 6,
   "metadata": {
    "colab": {
     "base_uri": "https://localhost:8080/",
     "height": 107
    },
    "colab_type": "code",
    "id": "nYbreWHHcX0e",
    "outputId": "62d2fac4-a285-4f81-a742-2a48c9d71b25"
   },
   "outputs": [
    {
     "data": {
      "text/plain": [
       "<tf.Tensor: id=25, shape=(), dtype=float32, numpy=673.4545>"
      ]
     },
     "execution_count": 6,
     "metadata": {},
     "output_type": "execute_result"
    }
   ],
   "source": [
    "a = tf.Variable(0.0)\n",
    "b = tf.Variable(139.0)\n",
    "loss(a,b)"
   ]
  },
  {
   "cell_type": "markdown",
   "metadata": {
    "colab_type": "text",
    "id": "W4gDPW676omn"
   },
   "source": [
    "Now we define that we want to have the gradients of the loss w.r.t to our two model parameters, the slope `a` and the intercept `b`. In the next cell we print the gradient of the loss w.r.t `a` and gradient of the loss w.r.t to `b`. Note that we calculated the loss for all data points and therefore we get different gradients compared to nb_04, where we only used one datapoint. To be able to calculate the gradient of the loss, we must store the itermediate values needed for calculating the gradients in an object called tape."
   ]
  },
  {
   "cell_type": "code",
   "execution_count": 7,
   "metadata": {
    "colab": {
     "base_uri": "https://localhost:8080/",
     "height": 52
    },
    "colab_type": "code",
    "id": "VC0mP77EFwWX",
    "outputId": "83e7d2f7-383b-4526-ff58-2385e8ec6b0c"
   },
   "outputs": [
    {
     "name": "stdout",
     "output_type": "stream",
     "text": [
      "Loss at  tf.Tensor(673.4545, shape=(), dtype=float32)\n",
      "tf.Tensor(-553.09094, shape=(), dtype=float32) tf.Tensor(0.727273, shape=(), dtype=float32)\n"
     ]
    }
   ],
   "source": [
    "a = tf.Variable(0.0)\n",
    "b = tf.Variable(139.0)\n",
    "with tf.GradientTape() as tape:\n",
    "  loss_val = loss(a,b)\n",
    "  print(\"Loss at \", loss_val)\n",
    "  grad_a, grad_b = tape.gradient(loss_val, [a,b])\n",
    "  print(grad_a, grad_b)"
   ]
  },
  {
   "cell_type": "markdown",
   "metadata": {
    "colab_type": "text",
    "id": "A3u3ksK39s70"
   },
   "source": [
    "Now, let's use gradient descent to opimize the slope a and the intercept b. The start values are a=0 and b=139, our learning rate eta is 0.0004 and we do 80000 updatesteps with all 33 observations. "
   ]
  },
  {
   "cell_type": "code",
   "execution_count": 8,
   "metadata": {
    "colab": {
     "base_uri": "https://localhost:8080/",
     "height": 295
    },
    "colab_type": "code",
    "id": "HCasZHdLWmG9",
    "outputId": "ce82424d-0904-45c8-bdb0-850f06d8f8b9"
   },
   "outputs": [
    {
     "name": "stdout",
     "output_type": "stream",
     "text": [
      "Epoch: 0 slope= 0.22123638 intercept= 138.99971 gradient_a -553.09094 gradient_b 0.727273 mse= 673.4545 time for 1000 epochs  0.0006892204284667969\n",
      "Epoch: 5000 slope= 0.47009143 intercept= 120.60784 gradient_a -0.14053345 gradient_b 7.3059855 mse= 469.57272 time for 1000 epochs  2.417998027801514\n",
      "Epoch: 10000 slope= 0.6975813 intercept= 108.807014 gradient_a -0.09031677 gradient_b 4.688313 mse= 398.76877 time for 1000 epochs  2.401115131378174\n",
      "Epoch: 15000 slope= 0.8435634 intercept= 101.23433 gradient_a -0.058013916 gradient_b 3.0085347 mse= 369.61255 time for 1000 epochs  2.465251398086548\n",
      "Epoch: 20000 slope= 0.9372412 intercept= 96.37488 gradient_a -0.036483765 gradient_b 1.9306204 mse= 357.6062 time for 1000 epochs  3.0992573261260987\n",
      "Epoch: 25000 slope= 0.99735403 intercept= 93.256584 gradient_a -0.023651123 gradient_b 1.2389097 mse= 352.66214 time for 1000 epochs  2.6289466381073\n",
      "Epoch: 30000 slope= 1.0359306 intercept= 91.25547 gradient_a -0.016540527 gradient_b 0.7949929 mse= 350.62622 time for 1000 epochs  2.828418016433716\n",
      "Epoch: 35000 slope= 1.0606831 intercept= 89.97145 gradient_a -0.010864258 gradient_b 0.5101743 mse= 349.78793 time for 1000 epochs  2.7590006828308105\n",
      "Epoch: 40000 slope= 1.0765644 intercept= 89.14761 gradient_a -0.0056152344 gradient_b 0.32746363 mse= 349.4427 time for 1000 epochs  2.9034304141998293\n",
      "Epoch: 45000 slope= 1.0867523 intercept= 88.61913 gradient_a -0.004211426 gradient_b 0.21021843 mse= 349.30048 time for 1000 epochs  2.828148078918457\n",
      "Epoch: 50000 slope= 1.0932869 intercept= 88.28015 gradient_a -0.0022277832 gradient_b 0.13503599 mse= 349.242 time for 1000 epochs  2.7961384296417235\n",
      "Epoch: 55000 slope= 1.0975146 intercept= 88.060844 gradient_a -0.0016784668 gradient_b 0.08638334 mse= 349.21765 time for 1000 epochs  2.795926332473755\n",
      "Epoch: 60000 slope= 1.1001551 intercept= 87.923874 gradient_a -0.0010681152 gradient_b 0.05599904 mse= 349.20798 time for 1000 epochs  2.8734206199645995\n",
      "Epoch: 65000 slope= 1.1018678 intercept= 87.83504 gradient_a -0.0016021729 gradient_b 0.03627515 mse= 349.20377 time for 1000 epochs  2.5472561836242678\n",
      "Epoch: 70000 slope= 1.1029379 intercept= 87.77952 gradient_a -0.0006713867 gradient_b 0.023973227 mse= 349.20218 time for 1000 epochs  2.6364916801452636\n",
      "Epoch: 75000 slope= 1.1036732 intercept= 87.74137 gradient_a 0.00010681152 gradient_b 0.015524149 mse= 349.20145 time for 1000 epochs  2.496338939666748\n"
     ]
    }
   ],
   "source": [
    "from time import time\n",
    "a  = tf.Variable(0.) \n",
    "b = tf.Variable(139.0) \n",
    "eta = 0.0004  \n",
    "start= time()\n",
    "for i in range(80000): \n",
    "  with tf.GradientTape() as tape: \n",
    "    y_hat = a*x + b  \n",
    "    loss = tf.reduce_mean((y_hat - y)**2) \n",
    "    grad_a, grad_b  = tape.gradient(loss, [a,b]) \n",
    "    a = tf.Variable(a - eta * grad_a) \n",
    "    b = tf.Variable(b - eta * grad_b) \n",
    "    if (i % 5000 == 0): \n",
    "        t = time() - start\n",
    "        print(\"Epoch:\",i, \"slope=\",a.numpy(),\"intercept=\",b.numpy(),\"gradient_a\", grad_a.numpy(), \"gradient_b\",grad_b.numpy(), \"mse=\", loss.numpy(), \"time for 1000 epochs \", t/5.)\n",
    "        start = time()\n",
    "      \n"
   ]
  },
  {
   "cell_type": "markdown",
   "metadata": {
    "colab_type": "text",
    "id": "Kt9XXxcH8d3k"
   },
   "source": [
    "Let's look at the final values for the slope a,the intercept b and the mse loss. We know form the closed formula solution that:\n",
    "\n",
    "1.   optimal value for a: 1.1050216\n",
    "2.   optimal value for b: 87.67143\n",
    "3.   minimal loss: 349.200787168560\n",
    "\n",
    "After 80000 update steps we are very close to the optimal values\n",
    "\n",
    "\n",
    "\n",
    "\n"
   ]
  },
  {
   "cell_type": "code",
   "execution_count": 9,
   "metadata": {
    "colab": {
     "base_uri": "https://localhost:8080/",
     "height": 35
    },
    "colab_type": "code",
    "id": "y_46N75AEbuM",
    "outputId": "48c140f0-1704-402e-ed20-9ecd203924c6"
   },
   "outputs": [
    {
     "name": "stdout",
     "output_type": "stream",
     "text": [
      "1.1041987 87.71413 349.20105\n"
     ]
    }
   ],
   "source": [
    "print(a.numpy(), b.numpy(), loss.numpy())"
   ]
  },
  {
   "cell_type": "markdown",
   "metadata": {},
   "source": [
    "### Making it faster with tf.function\n",
    "\n",
    "Eager is really great when you start building a network from scratch. You can use debugging and immediately spot problems as they occur. You don't have to compile a graph first and then run it. \n",
    "\n",
    "However, if you use many small operations this might become slow. A way to speed this up, is the use of the `@tf.function` decorator. See https://www.tensorflow.org/guide/function for more details. "
   ]
  },
  {
   "cell_type": "code",
   "execution_count": 10,
   "metadata": {},
   "outputs": [
    {
     "name": "stdout",
     "output_type": "stream",
     "text": [
      "Epoch: 0 slope= 0.22123638 intercept= 138.99971 gradient_a -0.00093078613 gradient_b 0.009457111 mse= 349.20105 time for 1000 epochs  0.024369335174560545\n",
      "Epoch: 5000 slope= 0.47009143 intercept= 120.60784 gradient_a -0.00093078613 gradient_b 0.009457111 mse= 349.20105 time for 1000 epochs  0.26144886016845703\n",
      "Epoch: 10000 slope= 0.6975813 intercept= 108.807014 gradient_a -0.00093078613 gradient_b 0.009457111 mse= 349.20105 time for 1000 epochs  0.25389609336853025\n",
      "Epoch: 15000 slope= 0.8435634 intercept= 101.23433 gradient_a -0.00093078613 gradient_b 0.009457111 mse= 349.20105 time for 1000 epochs  0.25403523445129395\n",
      "Epoch: 20000 slope= 0.9372412 intercept= 96.37488 gradient_a -0.00093078613 gradient_b 0.009457111 mse= 349.20105 time for 1000 epochs  0.2569833755493164\n",
      "Epoch: 25000 slope= 0.99735403 intercept= 93.256584 gradient_a -0.00093078613 gradient_b 0.009457111 mse= 349.20105 time for 1000 epochs  0.2565422058105469\n",
      "Epoch: 30000 slope= 1.0359306 intercept= 91.25547 gradient_a -0.00093078613 gradient_b 0.009457111 mse= 349.20105 time for 1000 epochs  0.2558902263641357\n",
      "Epoch: 35000 slope= 1.0606831 intercept= 89.97145 gradient_a -0.00093078613 gradient_b 0.009457111 mse= 349.20105 time for 1000 epochs  0.2539824962615967\n",
      "Epoch: 40000 slope= 1.0765644 intercept= 89.14761 gradient_a -0.00093078613 gradient_b 0.009457111 mse= 349.20105 time for 1000 epochs  0.2690378189086914\n",
      "Epoch: 45000 slope= 1.0867523 intercept= 88.61913 gradient_a -0.00093078613 gradient_b 0.009457111 mse= 349.20105 time for 1000 epochs  0.26211256980895997\n",
      "Epoch: 50000 slope= 1.0932869 intercept= 88.28015 gradient_a -0.00093078613 gradient_b 0.009457111 mse= 349.20105 time for 1000 epochs  0.2687190532684326\n",
      "Epoch: 55000 slope= 1.0975146 intercept= 88.060844 gradient_a -0.00093078613 gradient_b 0.009457111 mse= 349.20105 time for 1000 epochs  0.2695228099822998\n",
      "Epoch: 60000 slope= 1.1001551 intercept= 87.923874 gradient_a -0.00093078613 gradient_b 0.009457111 mse= 349.20105 time for 1000 epochs  0.2636560440063477\n",
      "Epoch: 65000 slope= 1.1018678 intercept= 87.83504 gradient_a -0.00093078613 gradient_b 0.009457111 mse= 349.20105 time for 1000 epochs  0.26027679443359375\n",
      "Epoch: 70000 slope= 1.1029379 intercept= 87.77952 gradient_a -0.00093078613 gradient_b 0.009457111 mse= 349.20105 time for 1000 epochs  0.24962306022644043\n",
      "Epoch: 75000 slope= 1.1036732 intercept= 87.74137 gradient_a -0.00093078613 gradient_b 0.009457111 mse= 349.20105 time for 1000 epochs  0.26503739356994627\n"
     ]
    }
   ],
   "source": [
    "start= time()\n",
    "a  = tf.Variable(0.0)\n",
    "b = tf.Variable(139.0)\n",
    "eta = 0.0004\n",
    "\n",
    "@tf.function #Will tell tf to build a graph from this code\n",
    "def train_step():\n",
    "    y_hat = a*x + b\n",
    "    loss = tf.reduce_mean((y_hat - y)**2)   \n",
    "    grad_a, grad_b  = tape.gradient(loss, [a,b])\n",
    "    a.assign(a - eta * grad_a)\n",
    "    b.assign(b - eta * grad_b)\n",
    "\n",
    "for i in range(80000):\n",
    "  with tf.GradientTape() as tape: #Record the gradients from now on\n",
    "    train_step()\n",
    "    if (i % 5000 == 0):\n",
    "        t = time() - start\n",
    "        print(\"Epoch:\",i, \"slope=\",a.numpy(),\"intercept=\",b.numpy(),\"gradient_a\", grad_a.numpy(), \"gradient_b\",grad_b.numpy(), \"mse=\", loss.numpy(), \"time for 1000 epochs \", t/5.)\n",
    "        start = time()\n",
    "        "
   ]
  }
 ],
 "metadata": {
  "colab": {
   "collapsed_sections": [],
   "name": "nb_06.ipynb",
   "provenance": [],
   "version": "0.3.2"
  },
  "kernelspec": {
   "display_name": "Python 3",
   "language": "python",
   "name": "python3"
  },
  "language_info": {
   "codemirror_mode": {
    "name": "ipython",
    "version": 3
   },
   "file_extension": ".py",
   "mimetype": "text/x-python",
   "name": "python",
   "nbconvert_exporter": "python",
   "pygments_lexer": "ipython3",
   "version": "3.6.8"
  }
 },
 "nbformat": 4,
 "nbformat_minor": 1
}
