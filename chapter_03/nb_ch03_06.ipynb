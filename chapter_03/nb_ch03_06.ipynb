{
 "cells": [
  {
   "cell_type": "markdown",
   "metadata": {
    "colab_type": "text",
    "id": "O2sP8Kwe7L9Z"
   },
   "source": [
    "\n",
    "## Fitting a linear regression model with TF Eager\n",
    "\n",
    "**Goal:** In this notebook you will see how to use TF Eager to fit the parameters (slope and intercept) of a simple linear regression model via gradient descent (GD). \n",
    "\n",
    "**Usage:** The idea of the notebook is that you try to understand the provided code by running it, checking the output and playing with it by slightly changing the code and rerunning it. \n",
    "\n",
    "**Dataset:** You work again with the systolic blood pressure and age data of 33 American women, which is generated and visualized in the upper part of the notebook.\n",
    "\n",
    "* fit a linear model via the sklearn machine learning library of python to get the fitted values of the intercept and slope as reference. \n",
    "\n",
    "* use the tensorflow library and enable the tf eager mode to fit the parameters of the simple linear model via GD with the objective to minimize the MSE loss. \n",
    "    * define the mse loss function \n",
    "    * apply the gradients_function of tf eager on the loss w.r.t. the parameters\n",
    "    * use the gradients to update the parameter values via update formula\n",
    "    * iterate over the two former steps for many steps and check the current values of the estimated model parameters and the loss after each updatestep \n",
    "    * verify that the estimated parameter values converge to the values which you got from the sklearn fit.  \n",
    "\n",
    "\n",
    "[open in colab](https://colab.research.google.com/github/tensorchiefs/dl_book/blob/master/chapter_03/nb_ch03_06.ipynb)"
   ]
  },
  {
   "cell_type": "code",
   "execution_count": 1,
   "metadata": {
    "colab": {},
    "colab_type": "code",
    "id": "RMlU4PJJ5QO7"
   },
   "outputs": [],
   "source": [
    "import numpy as np\n",
    "import matplotlib.pyplot as plt\n",
    "%matplotlib inline\n",
    "plt.style.use('default')\n",
    "from sklearn.linear_model import LinearRegression"
   ]
  },
  {
   "cell_type": "markdown",
   "metadata": {
    "colab_type": "text",
    "id": "p3c9bh7zMVhP"
   },
   "source": [
    "Here we read in the systolic blood pressure and the age of the 33 American women in our dataset. Then we use the sklearn library to find the optimal values for the slope a and the intercept b."
   ]
  },
  {
   "cell_type": "code",
   "execution_count": 2,
   "metadata": {
    "colab": {},
    "colab_type": "code",
    "id": "RvINwW1vydo9"
   },
   "outputs": [],
   "source": [
    "# Blood Pressure data\n",
    "x = [22, 41, 52, 23, 41, 54, 24, 46, 56, 27, 47, 57, 28, 48, 58,  9, \n",
    "     49, 59, 30, 49, 63, 32, 50, 67, 33, 51, 71, 35, 51, 77, 40, 51, 81]\n",
    "y = [131, 139, 128, 128, 171, 105, 116, 137, 145, 106, 111, 141, 114, \n",
    "     115, 153, 123, 133, 157, 117, 128, 155, 122, 183,\n",
    "     176,  99, 130, 172, 121, 133, 178, 147, 144, 217] \n",
    "x = np.asarray(x, np.float32) \n",
    "y = np.asarray(y, np.float32)"
   ]
  },
  {
   "cell_type": "code",
   "execution_count": 3,
   "metadata": {
    "colab": {
     "base_uri": "https://localhost:8080/",
     "height": 490
    },
    "colab_type": "code",
    "id": "OurbybEoydpB",
    "outputId": "2100a0fe-7d0e-4f7d-aaf3-17573cc6f313"
   },
   "outputs": [
    {
     "data": {
      "image/png": "[encoded data removed]",
      "text/plain": [
       "<Figure size 432x288 with 1 Axes>"
      ]
     },
     "metadata": {},
     "output_type": "display_data"
    },
    {
     "name": "stdout",
     "output_type": "stream",
     "text": [
      "intercept =  87.67143 solpe =  1.1050216\n"
     ]
    }
   ],
   "source": [
    "plt.scatter(x=x,y=y)\n",
    "plt.title(\"blood pressure vs age\")\n",
    "plt.xlabel(\"x (age)\")\n",
    "plt.ylabel(\"y (sbp)\")\n",
    "\n",
    "model = LinearRegression()\n",
    "res = model.fit(x.reshape((len(x),1)), y)\n",
    "predictions = model.predict(x.reshape((len(x),1)))\n",
    "plt.plot(x, predictions)\n",
    "plt.show()\n",
    "print(\"intercept = \",res.intercept_,\"solpe = \", res.coef_[0],)"
   ]
  },
  {
   "cell_type": "markdown",
   "metadata": {
    "colab_type": "text",
    "id": "oxlyNp9uSKYd"
   },
   "source": [
    "## TF Eager\n",
    "\n",
    "Now we want to use the TF Eager mode to find the optimal parameters for the linear regression problem. First we enable the eager execution mode and define our mse loss function."
   ]
  },
  {
   "cell_type": "code",
   "execution_count": 4,
   "metadata": {
    "colab": {},
    "colab_type": "code",
    "id": "NuVKJNXh-992"
   },
   "outputs": [],
   "source": [
    "import tensorflow as tf\n",
    "tf.enable_eager_execution()\n",
    "tfe = tf.contrib.eager"
   ]
  },
  {
   "cell_type": "code",
   "execution_count": 5,
   "metadata": {
    "colab": {},
    "colab_type": "code",
    "id": "LQI88BUK_FN0"
   },
   "outputs": [],
   "source": [
    "def loss(a, b):\n",
    "  y_hat = a*x + b\n",
    "  return tf.reduce_mean((y_hat - y)**2)"
   ]
  },
  {
   "cell_type": "markdown",
   "metadata": {
    "colab_type": "text",
    "id": "EzQzM4Kq56Ai"
   },
   "source": [
    "We can do a forwad pass and can calculate the loss (mse) with the initial values a=0 and b=139 (139 is the mean of the blood pressure and slope a=0 implies that the model predicts the mean for each age). Note that a and b must be \"tfe.Variables\". We see the loss value in the numpy argument in the output (In contrast to \"normal\" TensoFlow we dont need to run a session to get loss!)."
   ]
  },
  {
   "cell_type": "code",
   "execution_count": 6,
   "metadata": {
    "colab": {
     "base_uri": "https://localhost:8080/",
     "height": 35
    },
    "colab_type": "code",
    "id": "nYbreWHHcX0e",
    "outputId": "45f8ad82-5eea-41c1-820d-046821c4a859"
   },
   "outputs": [
    {
     "data": {
      "text/plain": [
       "<tf.Tensor: id=27, shape=(), dtype=float32, numpy=673.4545>"
      ]
     },
     "execution_count": 6,
     "metadata": {},
     "output_type": "execute_result"
    }
   ],
   "source": [
    "loss(tfe.Variable(0.0), tfe.Variable(139.0))"
   ]
  },
  {
   "cell_type": "markdown",
   "metadata": {
    "colab_type": "text",
    "id": "W4gDPW676omn"
   },
   "source": [
    "Now we define that we want to have the gradients of the loss w.r.t to our two model parameters, the slope a and the intercept b. In the nex cell we print the gradient of the loss w.r.t to at and gradient of the loss w.r.t to b. Note that we calculated the loss for all data points and therefore we get diffrent gradients then in nb_04, where we only used one datapoint."
   ]
  },
  {
   "cell_type": "code",
   "execution_count": 7,
   "metadata": {
    "colab": {},
    "colab_type": "code",
    "id": "gYSjVPrmAdQo"
   },
   "outputs": [],
   "source": [
    "grad_f = tfe.gradients_function(loss)"
   ]
  },
  {
   "cell_type": "code",
   "execution_count": 8,
   "metadata": {
    "colab": {
     "base_uri": "https://localhost:8080/",
     "height": 52
    },
    "colab_type": "code",
    "id": "l-4KKuZXRumb",
    "outputId": "e4e8e620-dde7-4fc6-9db4-321ddec0f8a6"
   },
   "outputs": [
    {
     "name": "stdout",
     "output_type": "stream",
     "text": [
      "-553.09094\n",
      "0.727273\n"
     ]
    }
   ],
   "source": [
    "grad_a, grad_b = grad_f(tfe.Variable(0.0), tfe.Variable(139.0))\n",
    "print(grad_a.numpy())\n",
    "print(grad_b.numpy())"
   ]
  },
  {
   "cell_type": "code",
   "execution_count": 9,
   "metadata": {
    "colab": {
     "base_uri": "https://localhost:8080/",
     "height": 52
    },
    "colab_type": "code",
    "id": "VC0mP77EFwWX",
    "outputId": "5fb2c252-7604-4938-ca80-4f9846d8e6d6"
   },
   "outputs": [
    {
     "name": "stdout",
     "output_type": "stream",
     "text": [
      "Loss at  tf.Tensor(673.4545, shape=(), dtype=float32)\n",
      "tf.Tensor(-553.09094, shape=(), dtype=float32) tf.Tensor(0.727273, shape=(), dtype=float32)\n"
     ]
    }
   ],
   "source": [
    "a = tfe.Variable(0.0)\n",
    "b = tfe.Variable(139.0)\n",
    "with tf.GradientTape() as tape:\n",
    "  loss_val = loss(a,b)\n",
    "  print(\"Loss at \", loss_val)\n",
    "  grad_a, grad_b = tape.gradient(loss_val, [a,b])\n",
    "  print(grad_a, grad_b)"
   ]
  },
  {
   "cell_type": "markdown",
   "metadata": {
    "colab_type": "text",
    "id": "A3u3ksK39s70"
   },
   "source": [
    "Now lets use gradient descent to opimize the slope a and the intercept b. The start values are a=0 and b=139, our learning rate eta is 0.0004 and we do 80000 updatesteps with all 33 observations. "
   ]
  },
  {
   "cell_type": "code",
   "execution_count": 10,
   "metadata": {
    "colab": {
     "base_uri": "https://localhost:8080/",
     "height": 295
    },
    "colab_type": "code",
    "id": "HCasZHdLWmG9",
    "outputId": "054835de-781b-4c62-f2a9-81dee52aee60"
   },
   "outputs": [
    {
     "name": "stdout",
     "output_type": "stream",
     "text": [
      "Epoch: 0 slope= 0.22123638 intercept= 138.99971 gradient_a -553.09094 gradient_b 0.727273 mse= 673.4545\n",
      "Epoch: 5000 slope= 0.47009143 intercept= 120.60784 gradient_a -0.14053345 gradient_b 7.3059855 mse= 469.57272\n",
      "Epoch: 10000 slope= 0.6975813 intercept= 108.807014 gradient_a -0.09031677 gradient_b 4.688313 mse= 398.76877\n",
      "Epoch: 15000 slope= 0.8435634 intercept= 101.23433 gradient_a -0.058013916 gradient_b 3.0085347 mse= 369.61255\n",
      "Epoch: 20000 slope= 0.9372412 intercept= 96.37488 gradient_a -0.036483765 gradient_b 1.9306204 mse= 357.6062\n",
      "Epoch: 25000 slope= 0.99735403 intercept= 93.256584 gradient_a -0.023651123 gradient_b 1.2389097 mse= 352.66214\n",
      "Epoch: 30000 slope= 1.0359306 intercept= 91.25547 gradient_a -0.016540527 gradient_b 0.7949929 mse= 350.62622\n",
      "Epoch: 35000 slope= 1.0606831 intercept= 89.97145 gradient_a -0.010864258 gradient_b 0.5101743 mse= 349.78793\n",
      "Epoch: 40000 slope= 1.0765644 intercept= 89.14761 gradient_a -0.0056152344 gradient_b 0.32746363 mse= 349.4427\n",
      "Epoch: 45000 slope= 1.0867523 intercept= 88.61913 gradient_a -0.004211426 gradient_b 0.21021843 mse= 349.30048\n",
      "Epoch: 50000 slope= 1.0932869 intercept= 88.28015 gradient_a -0.0022277832 gradient_b 0.13503599 mse= 349.242\n",
      "Epoch: 55000 slope= 1.0975146 intercept= 88.060844 gradient_a -0.0016784668 gradient_b 0.08638334 mse= 349.21765\n",
      "Epoch: 60000 slope= 1.1001551 intercept= 87.923874 gradient_a -0.0010681152 gradient_b 0.05599904 mse= 349.20798\n",
      "Epoch: 65000 slope= 1.1018678 intercept= 87.83504 gradient_a -0.0016021729 gradient_b 0.03627515 mse= 349.20377\n",
      "Epoch: 70000 slope= 1.1029379 intercept= 87.77952 gradient_a -0.0006713867 gradient_b 0.023973227 mse= 349.20218\n",
      "Epoch: 75000 slope= 1.1036732 intercept= 87.74137 gradient_a 0.00010681152 gradient_b 0.015524149 mse= 349.20145\n"
     ]
    }
   ],
   "source": [
    "a  = tfe.Variable(0.0)\n",
    "b = tfe.Variable(139.0)\n",
    "eta = 0.0004\n",
    "for i in range(80000):\n",
    "  with tf.GradientTape() as tape: #Record the gradients from now on\n",
    "    y_hat = a*x + b\n",
    "    loss = tf.reduce_mean((y_hat - y)**2)   \n",
    "    grad_a, grad_b  = tape.gradient(loss, [a,b])\n",
    "    a = tfe.Variable(a - eta * grad_a)\n",
    "    b = tfe.Variable(b - eta * grad_b)\n",
    "\n",
    "    if (i % 5000 == 0):\n",
    "      print(\"Epoch:\",i, \"slope=\",a.numpy(),\"intercept=\",b.numpy(),\"gradient_a\", grad_a.numpy(), \"gradient_b\",grad_b.numpy(), \"mse=\", loss.numpy())\n"
   ]
  },
  {
   "cell_type": "markdown",
   "metadata": {
    "colab_type": "text",
    "id": "Kt9XXxcH8d3k"
   },
   "source": [
    "Lets look at the final values for the slope a,the intercept b and the mse loss. We know form the closed formula solution that:\n",
    "\n",
    "1.   optimal value for a: 1.1050216\n",
    "2.   optimal value for b: 87.67143\n",
    "3.   minimal loss: 349.200787168560\n",
    "\n",
    "After 80000 update steps we are very close to the optimal values\n",
    "\n",
    "\n",
    "\n",
    "\n"
   ]
  },
  {
   "cell_type": "code",
   "execution_count": 0,
   "metadata": {
    "colab": {
     "base_uri": "https://localhost:8080/",
     "height": 35
    },
    "colab_type": "code",
    "id": "y_46N75AEbuM",
    "outputId": "486ac0a9-b39f-44af-8128-63ce04a5c1e0"
   },
   "outputs": [
    {
     "name": "stdout",
     "output_type": "stream",
     "text": [
      "1.1041987 87.71413 349.20105\n"
     ]
    }
   ],
   "source": [
    "print(a.numpy(), b.numpy(), loss.numpy())"
   ]
  },
  {
   "cell_type": "code",
   "execution_count": 0,
   "metadata": {
    "colab": {},
    "colab_type": "code",
    "id": "-QH-PZMaHFyn"
   },
   "outputs": [],
   "source": []
  }
 ],
 "metadata": {
  "colab": {
   "collapsed_sections": [],
   "name": "nb_06.ipynb",
   "provenance": [],
   "version": "0.3.2"
  },
  "kernelspec": {
   "display_name": "Python 3",
   "language": "python",
   "name": "python3"
  },
  "language_info": {
   "codemirror_mode": {
    "name": "ipython",
    "version": 3
   },
   "file_extension": ".py",
   "mimetype": "text/x-python",
   "name": "python",
   "nbconvert_exporter": "python",
   "pygments_lexer": "ipython3",
   "version": "3.5.2"
  }
 },
 "nbformat": 4,
 "nbformat_minor": 1
}
