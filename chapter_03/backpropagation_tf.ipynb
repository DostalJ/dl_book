{
  "nbformat": 4,
  "nbformat_minor": 0,
  "metadata": {
    "colab": {
      "name": "backpropagation_tf.ipynb",
      "version": "0.3.2",
      "provenance": [],
      "collapsed_sections": []
    }
  },
  "cells": [
    {
      "metadata": {
        "id": "bXDt1QFarxhc",
        "colab_type": "text"
      },
      "cell_type": "markdown",
      "source": [
        "## Notebook under construction \n",
        "\n",
        "## Backpropagation with Tensorflow\n",
        "\n",
        "* Builds the computational Graph for the forward pass\n",
        "* Displays the graph on TensorBoard\n",
        "* Using the TensorFlow Optimizer to minimize the loss\n",
        "\n",
        "<a href=\"https://colab.research.google.com/github/tensorchiefs/dl_book/blob/master/chapter_03/backpropagation_tf.ipynb\"> <img src=\"https://colab.research.google.com/assets/colab-badge.svg\" alt=\"open in colab\">\n",
        "</a>\n",
        "| [open in colab](https://colab.research.google.com/github/tensorchiefs/dl_book/blob/master/chapter_03/backpropagation_tf.ipynb)"
      ]
    },
    {
      "metadata": {
        "id": "ZkDvlnMjJxRe",
        "colab_type": "code",
        "outputId": "896a6720-35ed-4364-da43-482d7d975869",
        "colab": {
          "base_uri": "https://localhost:8080/",
          "height": 34
        }
      },
      "cell_type": "code",
      "source": [
        "import numpy as np\n",
        "import matplotlib.pyplot as plt\n",
        "import numpy as np\n",
        "%matplotlib inline\n",
        "\n",
        "import tensorflow as tf\n",
        "from __future__ import absolute_import, division, print_function\n",
        "print('TF Version:', tf.__version__)"
      ],
      "execution_count": 0,
      "outputs": [
        {
          "output_type": "stream",
          "text": [
            "TF Version: 1.12.0\n"
          ],
          "name": "stdout"
        }
      ]
    },
    {
      "metadata": {
        "id": "zACb9J35KP92",
        "colab_type": "code",
        "colab": {}
      },
      "cell_type": "code",
      "source": [
        "x = [22, 41, 52, 23, 41, 54, 24, 46, 56, 27, 47, 57, 28, 48, 58,  9, \n",
        "     49, 59, 30, 49, 63, 32, 50, 67, 33, 51, 71, 35, 51, 77, 40, 51, 81]\n",
        "y = [131, 139, 128, 128, 171, 105, 116, 137, 145, 106, 111, 141, 114, \n",
        "     115, 153, 123, 133, 157, 117, 128, 155, 122, 183,\n",
        "     176,  99, 130, 172, 121, 133, 178, 147, 144, 217] \n",
        "x = np.asarray(x, np.float32) \n",
        "y = np.asarray(y, np.float32) "
      ],
      "execution_count": 0,
      "outputs": []
    },
    {
      "metadata": {
        "id": "4PVZDLZA0J3M",
        "colab_type": "text"
      },
      "cell_type": "markdown",
      "source": [
        "###  Doing the back propagation by hand for the example"
      ]
    },
    {
      "metadata": {
        "id": "uigQYLMs0B6s",
        "colab_type": "code",
        "colab": {}
      },
      "cell_type": "code",
      "source": [
        "y = [1]\n",
        "x = [2]\n",
        "x = np.asarray(x, np.float32) \n",
        "y = np.asarray(y, np.float32) "
      ],
      "execution_count": 0,
      "outputs": []
    },
    {
      "metadata": {
        "id": "Q8thmhCF0fq9",
        "colab_type": "code",
        "colab": {}
      },
      "cell_type": "code",
      "source": [
        "# x,y are one dimensional numpy arrays\n",
        "# Defining the graph (construction phase)\n",
        "tf.reset_default_graph()   #  “Wipe the blackboard”, construct a new graph\n",
        "a_  = tf.Variable(3.0, name='a_var') #  Variables, with starting values, can be optimize later\n",
        "b_  = tf.Variable(4.0, name='b_var')  #  we name them so that they look nicer in the graph\n",
        "x_  = tf.constant(x, name='x_const')  # Constants these are fixed tensors holding the data values \n",
        "y_  = tf.constant(y, name='y_const')  \n",
        "\n",
        "\n",
        "# We know do it step by step so that we can calculate the intermediate values and gradients\n",
        "ax_ = a_* x_\n",
        "y_hat_ = ax_ + b_\n",
        "r_ = y_hat_ - y_\n",
        "s_ = tf.square(r_)\n",
        "mse_ = tf.reduce_mean(s_) #The final result, the MSE. Still symbolical\n",
        "\n",
        "grads_ = tf.gradients(mse_, [a_,b_,ax_,y_hat_,r_,s_])\n",
        "\n",
        "grads_s_ = tf.gradients(s_,r_ )\n",
        "grads_s_ = tf.gradients(s_,r_ )\n",
        "\n",
        "writer = tf.summary.FileWriter(\"linreg/\", tf.get_default_graph())\n",
        "writer.close()"
      ],
      "execution_count": 0,
      "outputs": []
    },
    {
      "metadata": {
        "id": "_-vlPfRlvfOV",
        "colab_type": "code",
        "colab": {}
      },
      "cell_type": "code",
      "source": [
        "#TOOD show on tensorboard"
      ],
      "execution_count": 0,
      "outputs": []
    },
    {
      "metadata": {
        "id": "5WPxq0WSxkx6",
        "colab_type": "code",
        "outputId": "89989161-9181-4d94-8076-10a49328c2b0",
        "colab": {
          "base_uri": "https://localhost:8080/",
          "height": 252
        }
      },
      "cell_type": "code",
      "source": [
        "sess = tf.Session() #Starts a session and grabs memory and other resources\n",
        "vals = sess.run([mse_, a_,b_,ax_,y_hat_,r_,s_], {a_:3,b_:4}) # Letting the variables a=3 b=1 flow through the graph\n",
        "for p in vals:\n",
        "  print(p)\n",
        "\n",
        "\n",
        "print(\"Hallo\")\n",
        "grads = sess.run(grads_, {a_:3,b_:4}) # Letting the variables a=3 b=1 flow through the graph\n",
        "for p in grads:\n",
        "  print(p)\n",
        "\n",
        "\n",
        "sess.close() # Don't forget to close the session"
      ],
      "execution_count": 0,
      "outputs": [
        {
          "output_type": "stream",
          "text": [
            "81.0\n",
            "3.0\n",
            "4.0\n",
            "[6.]\n",
            "[10.]\n",
            "[9.]\n",
            "[81.]\n",
            "Hallo\n",
            "36.0\n",
            "18.0\n",
            "[18.]\n",
            "[18.]\n",
            "[18.]\n",
            "[1.]\n"
          ],
          "name": "stdout"
        }
      ]
    },
    {
      "metadata": {
        "id": "JoSIz0E73JnD",
        "colab_type": "code",
        "colab": {}
      },
      "cell_type": "code",
      "source": [
        "# We add an addtional operation to the graph optimizing the mse_\n",
        "train_op_ = tf.train.GradientDescentOptimizer(learning_rate=0.00001).minimize(mse_) \n",
        "with tf.Session() as sess: \n",
        "    sess.run(tf.global_variables_initializer()) #Doing the initialization on the concrete realization of the graph\n",
        "    for i in range(1):\n",
        "      _, mse, grads,grads_rs, a, b = sess.run([train_op_, mse_, grads_,grads_s_, a_, b_])#fetch all the gradients here \n",
        "#      # These line are just for printing ou the gradients\n",
        "#      for g, v in grads_and_vars:\n",
        "#        tf.summary.histogram(v.name, v)\n",
        "#        tf.summary.histogram(v.name + '_grad', g)\n",
        "#      merged = tf.summary.merge_all()\n",
        "#      writer = tf.summary.FileWriter('train_log_layer', tf.get_default_graph())\n",
        "#      if (i % 10000 == 0): #Trick not to print so often\n",
        "#        print(a, b, mse)"
      ],
      "execution_count": 0,
      "outputs": []
    },
    {
      "metadata": {
        "id": "reQ0PK5rvNRN",
        "colab_type": "code",
        "outputId": "65729a3a-8ecb-4f15-dbac-68de4a1cfda9",
        "colab": {
          "base_uri": "https://localhost:8080/",
          "height": 34
        }
      },
      "cell_type": "code",
      "source": [
        "print(a,b)"
      ],
      "execution_count": 0,
      "outputs": [
        {
          "output_type": "stream",
          "text": [
            "2.99964 3.99982\n"
          ],
          "name": "stdout"
        }
      ]
    },
    {
      "metadata": {
        "id": "hPdw0dyXvGD2",
        "colab_type": "code",
        "outputId": "e13ba91c-8beb-4a51-ac8a-90c5103c3fc8",
        "colab": {
          "base_uri": "https://localhost:8080/",
          "height": 50
        }
      },
      "cell_type": "code",
      "source": [
        "print(grads)\n",
        "print(grads_rs)"
      ],
      "execution_count": 0,
      "outputs": [
        {
          "output_type": "stream",
          "text": [
            "[36.0, 18.0, array([18.], dtype=float32), array([18.], dtype=float32), array([18.], dtype=float32), array([1.], dtype=float32)]\n",
            "[array([18.], dtype=float32)]\n"
          ],
          "name": "stdout"
        }
      ]
    },
    {
      "metadata": {
        "id": "6hFXF7lmvWuV",
        "colab_type": "code",
        "outputId": "c1c0ea92-4237-43dc-a784-be62e5a0f48d",
        "colab": {
          "base_uri": "https://localhost:8080/",
          "height": 34
        }
      },
      "cell_type": "code",
      "source": [
        "#grads_ = tf.gradients(mse_, [a_,b_,ax_,y_hat_,r_,rs_])\n",
        "grads[5]*grads_rs*"
      ],
      "execution_count": 0,
      "outputs": [
        {
          "output_type": "execute_result",
          "data": {
            "text/plain": [
              "array([1.], dtype=float32)"
            ]
          },
          "metadata": {
            "tags": []
          },
          "execution_count": 20
        }
      ]
    },
    {
      "metadata": {
        "id": "LxMcy1iYqwYE",
        "colab_type": "code",
        "colab": {}
      },
      "cell_type": "code",
      "source": [
        "# Let's add an optimizer to the loss \n",
        "loss = rss #This is usually called loss and we want to minimize the loss.\n",
        "train_op = tf.train.AdamOptimizer().minimize(loss) \n",
        "init_op = tf.global_variables_initializer()\n",
        "with tf.Session() as sess: \n",
        "    sess.run(init_op) #Doing the initialization on the concrete realization of the graph\n",
        "    for i in range(100000):\n",
        "      _,a_val, b_val, loss_val = sess.run([train_op,a,b, loss])\n",
        "      if (i % 10000 == 0): #Trick not to print so often\n",
        "        print(a_val, b_val, loss_val)"
      ],
      "execution_count": 0,
      "outputs": []
    },
    {
      "metadata": {
        "id": "uYNRo3eFvSQp",
        "colab_type": "code",
        "colab": {}
      },
      "cell_type": "code",
      "source": [
        "loss = rss #This is usually called loss and we want to minimize the loss.\n",
        "train_op = tf.train.RMSPropOptimizer(learning_rate=0.01).minimize(loss)\n",
        "init_op = tf.global_variables_initializer()\n",
        "with tf.Session() as sess: \n",
        "    sess.run(init_op) #Doing the initialization on the concrete realization of the graph\n",
        "    for i in range(100000):\n",
        "      _,a_val, b_val, loss_val = sess.run([train_op,a,b, loss])\n",
        "      if (i % 10000 == 0): #Trick not to print so often\n",
        "        print(a_val, b_val, loss_val)"
      ],
      "execution_count": 0,
      "outputs": []
    },
    {
      "metadata": {
        "id": "PDJFqyRDG-5Q",
        "colab_type": "code",
        "colab": {}
      },
      "cell_type": "code",
      "source": [
        "import matplotlib.pyplot as plt\n",
        "%matplotlib inline\n",
        "av = np.linspace(-3,3,100)"
      ],
      "execution_count": 0,
      "outputs": []
    },
    {
      "metadata": {
        "id": "jBiVJXhgH_1V",
        "colab_type": "code",
        "colab": {}
      },
      "cell_type": "code",
      "source": [
        "resv = np.zeros_like(av)\n",
        "for i,a in enumerate(av):\n",
        "  resv[i] = np.sum((a*x + b - y)**2)"
      ],
      "execution_count": 0,
      "outputs": []
    },
    {
      "metadata": {
        "id": "fItPOsXmIgDx",
        "colab_type": "code",
        "outputId": "6343875a-1402-4a86-a56c-b7549079380a",
        "colab": {
          "base_uri": "https://localhost:8080/",
          "height": 282
        }
      },
      "cell_type": "code",
      "source": [
        "plt.plot(av, resv)"
      ],
      "execution_count": 0,
      "outputs": [
        {
          "output_type": "execute_result",
          "data": {
            "text/plain": [
              "[<matplotlib.lines.Line2D at 0x7fed72478e90>]"
            ]
          },
          "metadata": {
            "tags": []
          },
          "execution_count": 10
        },
        {
          "output_type": "display_data",
          "data": {
            "image/png": "[encoded data removed]",
            "text/plain": [
              "<matplotlib.figure.Figure at 0x7fed75e70d10>"
            ]
          },
          "metadata": {
            "tags": []
          }
        }
      ]
    },
    {
      "metadata": {
        "id": "93MFxmaGumoy",
        "colab_type": "code",
        "colab": {}
      },
      "cell_type": "code",
      "source": [
        ""
      ],
      "execution_count": 0,
      "outputs": []
    }
  ]
}