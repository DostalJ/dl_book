{
  "nbformat": 4,
  "nbformat_minor": 0,
  "metadata": {
    "colab": {
      "name": "gradient_descent_with_tf_eager.ipynb",
      "version": "0.3.2",
      "provenance": [],
      "collapsed_sections": []
    },
    "kernelspec": {
      "name": "python3",
      "display_name": "Python 3"
    }
  },
  "cells": [
    {
      "metadata": {
        "id": "O2sP8Kwe7L9Z",
        "colab_type": "text"
      },
      "cell_type": "markdown",
      "source": [
        "<a href=\"https://colab.research.google.com/github/tensorchiefs/dl_book/blob/master/chapter_03/gradient_descent_with_tf_eager.ipynb\"> <img src=\"https://colab.research.google.com/assets/colab-badge.svg\" alt=\"open in colab\">\n",
        "</a>\n",
        "| [open in colab](https://colab.research.google.com/github/tensorchiefs/dl_book/blob/master/chapter_03/gradient_descent_with_tf_eager.ipynb)\n"
      ]
    },
    {
      "metadata": {
        "id": "2Ns6420jRmbQ",
        "colab_type": "code",
        "colab": {}
      },
      "cell_type": "code",
      "source": [
        "import numpy as np\n",
        "from mpl_toolkits import mplot3d\n",
        "import matplotlib.pyplot as plt\n",
        "%matplotlib inline\n"
      ],
      "execution_count": 0,
      "outputs": []
    },
    {
      "metadata": {
        "id": "h5NlSPsPSFR-",
        "colab_type": "code",
        "colab": {}
      },
      "cell_type": "code",
      "source": [
        "# Blood Pressure data\n",
        "x = [22, 41, 52, 23, 41, 54, 24, 46, 56, 27, 47, 57, 28, 48, 58,  9, \n",
        "     49, 59, 30, 49, 63, 32, 50, 67, 33, 51, 71, 35, 51, 77, 40, 51, 81]\n",
        "y = [131, 139, 128, 128, 171, 105, 116, 137, 145, 106, 111, 141, 114, \n",
        "     115, 153, 123, 133, 157, 117, 128, 155, 122, 183,\n",
        "     176,  99, 130, 172, 121, 133, 178, 147, 144, 217] \n",
        "x = np.asarray(x, np.float32) \n",
        "y = np.asarray(y, np.float32)"
      ],
      "execution_count": 0,
      "outputs": []
    },
    {
      "metadata": {
        "id": "cFR-y-HER-Uo",
        "colab_type": "code",
        "outputId": "13c02f35-1cce-45ea-a1e6-e095888b412f",
        "colab": {
          "base_uri": "https://localhost:8080/",
          "height": 311
        }
      },
      "cell_type": "code",
      "source": [
        "plt.scatter(x=x,y=y)\n",
        "plt.title(\"blood pressure vs age\")\n",
        "plt.xlabel(\"x (age)\")\n",
        "plt.ylabel(\"y (sbp)\")\n",
        "\n",
        "from sklearn.linear_model import LinearRegression\n",
        "model = LinearRegression()\n",
        "res = model.fit(x.reshape((len(x),1)), y)\n",
        "predictions = model.predict(x.reshape((len(x),1)))\n",
        "plt.plot(x, predictions)\n",
        "plt.show()\n",
        "print(\"intercept = \",res.intercept_,\"solpe = \", res.coef_[0],)"
      ],
      "execution_count": 3,
      "outputs": [
        {
          "output_type": "display_data",
          "data": {
            "image/png": "[encoded data removed]",
            "text/plain": [
              "<matplotlib.figure.Figure at 0x7f90960cd6d8>"
            ]
          },
          "metadata": {
            "tags": []
          }
        },
        {
          "output_type": "stream",
          "text": [
            "intercept =  87.67143 solpe =  1.1050216\n"
          ],
          "name": "stdout"
        }
      ]
    },
    {
      "metadata": {
        "id": "oxlyNp9uSKYd",
        "colab_type": "text"
      },
      "cell_type": "markdown",
      "source": [
        "## TF Eager"
      ]
    },
    {
      "metadata": {
        "id": "NuVKJNXh-992",
        "colab_type": "code",
        "colab": {}
      },
      "cell_type": "code",
      "source": [
        "import tensorflow as tf\n",
        "tf.enable_eager_execution()\n",
        "tfe = tf.contrib.eager"
      ],
      "execution_count": 0,
      "outputs": []
    },
    {
      "metadata": {
        "id": "LQI88BUK_FN0",
        "colab_type": "code",
        "colab": {}
      },
      "cell_type": "code",
      "source": [
        "def loss(a, b):\n",
        "  y_hat = a*x + b\n",
        "  return tf.reduce_mean((y_hat - y)**2)"
      ],
      "execution_count": 0,
      "outputs": []
    },
    {
      "metadata": {
        "id": "nYbreWHHcX0e",
        "colab_type": "code",
        "outputId": "20522323-c7f2-437f-9e28-d0a01f9f230b",
        "colab": {
          "base_uri": "https://localhost:8080/",
          "height": 34
        }
      },
      "cell_type": "code",
      "source": [
        "loss(tfe.Variable(3), tfe.Variable(140))"
      ],
      "execution_count": 6,
      "outputs": [
        {
          "output_type": "execute_result",
          "data": {
            "text/plain": [
              "<tf.Tensor: id=27, shape=(), dtype=int32, numpy=20826>"
            ]
          },
          "metadata": {
            "tags": []
          },
          "execution_count": 6
        }
      ]
    },
    {
      "metadata": {
        "id": "gYSjVPrmAdQo",
        "colab_type": "code",
        "colab": {}
      },
      "cell_type": "code",
      "source": [
        "grad_f = tfe.gradients_function(loss)"
      ],
      "execution_count": 0,
      "outputs": []
    },
    {
      "metadata": {
        "id": "l-4KKuZXRumb",
        "colab_type": "code",
        "outputId": "164ca07d-b463-4b86-baf0-1cab33a3ae78",
        "colab": {
          "base_uri": "https://localhost:8080/",
          "height": 51
        }
      },
      "cell_type": "code",
      "source": [
        "grad_a, grad_b = grad_f(tfe.Variable(3.0), tfe.Variable(140.0))\n",
        "print(grad_a.numpy())\n",
        "print(grad_b.numpy())"
      ],
      "execution_count": 8,
      "outputs": [
        {
          "output_type": "stream",
          "text": [
            "13894.788\n",
            "279.45456\n"
          ],
          "name": "stdout"
        }
      ]
    },
    {
      "metadata": {
        "id": "VC0mP77EFwWX",
        "colab_type": "code",
        "outputId": "acf6b3ea-728b-49b3-b519-1fda35bd713a",
        "colab": {
          "base_uri": "https://localhost:8080/",
          "height": 51
        }
      },
      "cell_type": "code",
      "source": [
        "a = tfe.Variable(3.0)\n",
        "b = tfe.Variable(140.0)\n",
        "with tf.GradientTape() as tape:\n",
        "  loss_val = loss(a,b)\n",
        "  print(\"Loss at \", loss_val)\n",
        "  grad_a, grad_b = tape.gradient(loss_val, [a,b])\n",
        "  print(grad_a, grad_b)"
      ],
      "execution_count": 9,
      "outputs": [
        {
          "output_type": "stream",
          "text": [
            "Loss at  tf.Tensor(20826.092, shape=(), dtype=float32)\n",
            "tf.Tensor(13894.788, shape=(), dtype=float32) tf.Tensor(279.45456, shape=(), dtype=float32)\n"
          ],
          "name": "stdout"
        }
      ]
    },
    {
      "metadata": {
        "id": "HCasZHdLWmG9",
        "colab_type": "code",
        "outputId": "be5c89b9-7579-4542-c03c-9ef6db675abe",
        "colab": {
          "base_uri": "https://localhost:8080/",
          "height": 289
        }
      },
      "cell_type": "code",
      "source": [
        "a  = tfe.Variable(3.0) #We can optimize them later\n",
        "b = tfe.Variable(140.0)\n",
        "eps = 0.0004\n",
        "for i in range(80000):\n",
        "  with tf.GradientTape() as tape: #Record the gradients from now on\n",
        "    y_hat = a*x + b\n",
        "    loss = tf.reduce_mean((y_hat - y)**2)   \n",
        "    grad_a, grad_b  = tape.gradient(loss, [a,b])\n",
        "    a = tfe.Variable(a - eps * grad_a)\n",
        "    b = tfe.Variable(b - eps * grad_b)\n",
        "\n",
        "    if (i % 5000 == 0):\n",
        "      print(a.numpy(),b.numpy(), \"\\t\", grad_a.numpy(), grad_b.numpy(), \"\\t\\t\", loss.numpy())\n"
      ],
      "execution_count": 11,
      "outputs": [
        {
          "output_type": "stream",
          "text": [
            "-2.5579152 139.88821 \t 13894.788 279.45456 \t\t 20826.092\n",
            "0.4584417 121.21216 \t -0.1430664 7.4400373 \t\t 474.03043\n",
            "0.69010633 109.19477 \t -0.091552734 4.7743335 \t\t 400.60428\n",
            "0.83876675 101.483154 \t -0.059555054 3.0637195 \t\t 370.36835\n",
            "0.9341623 96.5346 \t -0.038116455 1.966033 \t\t 357.9175\n",
            "0.9953787 93.35905 \t -0.023757935 1.2616434 \t\t 352.7903\n",
            "1.0346644 91.321144 \t -0.01524353 0.80959034 \t\t 350.67886\n",
            "1.0598692 90.01367 \t -0.009796143 0.5195639 \t\t 349.80957\n",
            "1.0760521 89.1742 \t -0.0069274902 0.3333373 \t\t 349.45148\n",
            "1.0864205 88.63634 \t -0.003692627 0.21404529 \t\t 349.30426\n",
            "1.0930761 88.2911 \t -0.0031433105 0.13744712 \t\t 349.2435\n",
            "1.0973638 88.068665 \t -0.001373291 0.08812356 \t\t 349.21844\n",
            "1.1000648 87.928566 \t -0.0018463135 0.057024956 \t\t 349.20816\n",
            "1.1018075 87.838165 \t -0.0013885498 0.03697443 \t\t 349.20395\n",
            "1.1029078 87.78108 \t -0.0007171631 0.024318933 \t\t 349.20215\n",
            "1.1036431 87.742935 \t -0.0004119873 0.015861034 \t\t 349.20142\n"
          ],
          "name": "stdout"
        }
      ]
    },
    {
      "metadata": {
        "id": "y_46N75AEbuM",
        "colab_type": "code",
        "colab": {
          "base_uri": "https://localhost:8080/",
          "height": 34
        },
        "outputId": "7574e79a-af3d-4975-d835-d874038b8731"
      },
      "cell_type": "code",
      "source": [
        "print(a.numpy(), b.numpy(), loss.numpy())\n",
        "# optimal vlue for a:   1.1050216\n",
        "# optimal vlue for b:   87.67143\n",
        "# minimal loss:         349.2007871685606"
      ],
      "execution_count": 12,
      "outputs": [
        {
          "output_type": "stream",
          "text": [
            "1.1041983 87.71413 349.20108\n"
          ],
          "name": "stdout"
        }
      ]
    },
    {
      "metadata": {
        "id": "-QH-PZMaHFyn",
        "colab_type": "code",
        "colab": {}
      },
      "cell_type": "code",
      "source": [
        ""
      ],
      "execution_count": 0,
      "outputs": []
    }
  ]
}