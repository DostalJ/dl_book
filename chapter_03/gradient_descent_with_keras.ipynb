{
  "cells": [
    {
      "cell_type": "markdown",
      "source": [
        "## Notebook under construction \n",
        "\n",
        "## Gradient Descent with Keras\n",
        "\n",
        "* Demonstrates the parameter fitting using Keras\n",
        "\n\n\n",
        "<a href=\"https://colab.research.google.com/github/tensorchiefs/dl_book/blob/master/chapter_03/gradient_descent_with_keras.ipynb\"> <img src=\"https://colab.research.google.com/assets/colab-badge.svg\" alt=\"open in colab\">\n",
        "</a>\n",
        "| [open in colab](https://colab.research.google.com/github/tensorchiefs/dl_book/blob/master/chapter_03/gradient_descent_with_keras.ipynb)\n"
      ],
      "metadata": {
        "id": "O2sP8Kwe7L9Z",
        "colab_type": "text"
      }
    },
    {
      "cell_type": "code",
      "source": [
        "import numpy as np\n",
        "from mpl_toolkits import mplot3d\n",
        "import matplotlib.pyplot as plt\n",
        "%matplotlib inline\n"
      ],
      "outputs": [],
      "execution_count": 0,
      "metadata": {
        "id": "2Ns6420jRmbQ",
        "colab_type": "code",
        "colab": {}
      }
    },
    {
      "cell_type": "code",
      "source": [
        "# Blood Pressure data\n",
        "x = [22, 41, 52, 23, 41, 54, 24, 46, 56, 27, 47, 57, 28, 48, 58,  9, \n",
        "     49, 59, 30, 49, 63, 32, 50, 67, 33, 51, 71, 35, 51, 77, 40, 51, 81]\n",
        "y = [131, 139, 128, 128, 171, 105, 116, 137, 145, 106, 111, 141, 114, \n",
        "     115, 153, 123, 133, 157, 117, 128, 155, 122, 183,\n",
        "     176,  99, 130, 172, 121, 133, 178, 147, 144, 217] \n",
        "x = np.asarray(x, np.float32) \n",
        "y = np.asarray(y, np.float32)"
      ],
      "outputs": [],
      "execution_count": 0,
      "metadata": {
        "id": "h5NlSPsPSFR-",
        "colab_type": "code",
        "colab": {}
      }
    },
    {
      "cell_type": "code",
      "source": [
        "plt.scatter(x=x,y=y)\n",
        "plt.title(\"blood pressure vs age\")\n",
        "plt.xlabel(\"x (age)\")\n",
        "plt.ylabel(\"y (sbp)\")\n",
        "\n",
        "from sklearn.linear_model import LinearRegression\n",
        "model = LinearRegression()\n",
        "res = model.fit(x.reshape((len(x),1)), y)\n",
        "predictions = model.predict(x.reshape((len(x),1)))\n",
        "plt.plot(x, predictions)\n",
        "plt.show()\n",
        "print(\"intercept = \",res.intercept_,\"solpe = \", res.coef_[0],)"
      ],
      "outputs": [
        {
          "output_type": "display_data",
          "data": {
            "image/png": "[encoded data removed]",
            "text/plain": [
              "<matplotlib.figure.Figure at 0x7f8a9f22a630>"
            ]
          },
          "metadata": {
            "tags": []
          }
        },
        {
          "output_type": "stream",
          "name": "stdout",
          "text": [
            "intercept =  87.67143 solpe =  1.1050216\n"
          ]
        }
      ],
      "execution_count": 3,
      "metadata": {
        "id": "cFR-y-HER-Uo",
        "colab_type": "code",
        "outputId": "690abfa9-fdf1-40e6-896f-7b01c5c6f1a5",
        "colab": {
          "base_uri": "https://localhost:8080/",
          "height": 311
        }
      }
    },
    {
      "cell_type": "markdown",
      "source": [
        "\n## Keras"
      ],
      "metadata": {
        "id": "VDLGQiOALZV2",
        "colab_type": "text"
      }
    },
    {
      "cell_type": "code",
      "source": [
        "import keras\n",
        "from keras.models import Sequential\n",
        "from keras.layers import Dense, Activation\n",
        "from keras import optimizers"
      ],
      "outputs": [
        {
          "output_type": "stream",
          "name": "stderr",
          "text": [
            "Using TensorFlow backend.\n"
          ]
        }
      ],
      "execution_count": 4,
      "metadata": {
        "id": "8xELydr6Af5f",
        "colab_type": "code",
        "colab": {
          "base_uri": "https://localhost:8080/",
          "height": 34
        },
        "outputId": "7a3cb6ab-a235-4555-9f18-7995deaf2cdc"
      }
    },
    {
      "cell_type": "code",
      "source": [
        "a=np.array(3,dtype=\"float32\",ndmin=2)\n",
        "b=np.array(140,dtype=\"float32\",ndmin=1)"
      ],
      "outputs": [],
      "execution_count": 0,
      "metadata": {
        "id": "2BSRMZF948LS",
        "colab_type": "code",
        "colab": {}
      }
    },
    {
      "cell_type": "code",
      "source": [
        "model = Sequential()\n",
        "model.add(Dense(1,input_dim=1))\n",
        "model.add(Activation('linear'))\n",
        "\n",
        "opt = optimizers.SGD(lr=0.0004, momentum=0.0, decay=0.0, nesterov=False)\n",
        "\n",
        "model.compile(loss='mean_squared_error',\n",
        "              optimizer=opt)\n"
      ],
      "outputs": [],
      "execution_count": 0,
      "metadata": {
        "id": "DatMTnI-7gey",
        "colab_type": "code",
        "colab": {}
      }
    },
    {
      "cell_type": "code",
      "source": [
        "model.summary()"
      ],
      "outputs": [
        {
          "output_type": "stream",
          "name": "stdout",
          "text": [
            "_________________________________________________________________\n",
            "Layer (type)                 Output Shape              Param #   \n",
            "=================================================================\n",
            "dense_1 (Dense)              (None, 1)                 2         \n",
            "_________________________________________________________________\n",
            "activation_1 (Activation)    (None, 1)                 0         \n",
            "=================================================================\n",
            "Total params: 2\n",
            "Trainable params: 2\n",
            "Non-trainable params: 0\n",
            "_________________________________________________________________\n"
          ]
        }
      ],
      "execution_count": 7,
      "metadata": {
        "id": "6Bt1v76Q7gub",
        "colab_type": "code",
        "outputId": "e8e6b66c-c2d1-4bfb-d242-462ca58b09bd",
        "colab": {
          "base_uri": "https://localhost:8080/",
          "height": 204
        }
      }
    },
    {
      "cell_type": "code",
      "source": [
        "model.set_weights([a,b])"
      ],
      "outputs": [],
      "execution_count": 0,
      "metadata": {
        "id": "P9kC1uCq7g8q",
        "colab_type": "code",
        "colab": {}
      }
    },
    {
      "cell_type": "code",
      "source": [
        "a,b=model.get_weights()\n",
        "print(\"slope=\",a[0][0],\"intercept=\",b[0])"
      ],
      "outputs": [
        {
          "output_type": "stream",
          "name": "stdout",
          "text": [
            "slope= 3.0 intercept= 140.0\n"
          ]
        }
      ],
      "execution_count": 9,
      "metadata": {
        "id": "iXcp3QXs7oOz",
        "colab_type": "code",
        "outputId": "1442c388-39c4-4666-a88a-b22d13870306",
        "colab": {
          "base_uri": "https://localhost:8080/",
          "height": 34
        }
      }
    },
    {
      "cell_type": "code",
      "source": [
        "model.evaluate(x,y)\n",
        "#loss for the start values a=3 and b=140"
      ],
      "outputs": [
        {
          "output_type": "stream",
          "name": "stdout",
          "text": [
            "33/33 [==============================] - 0s 1ms/step\n"
          ]
        },
        {
          "output_type": "execute_result",
          "execution_count": 10,
          "data": {
            "text/plain": [
              "20826.090909090908"
            ]
          },
          "metadata": {
            "tags": []
          }
        }
      ],
      "execution_count": 10,
      "metadata": {
        "id": "tCeISjN1MPdy",
        "colab_type": "code",
        "colab": {
          "base_uri": "https://localhost:8080/",
          "height": 51
        },
        "outputId": "2ab0daa9-5210-48e7-d8a1-23556a357371"
      }
    },
    {
      "cell_type": "code",
      "source": [
        "for i in range(0,80000):\n",
        "    model.fit(x=x,y=y,batch_size=33,\n",
        "                    epochs=1,\n",
        "                    verbose = 0)\n",
        "    a,b=model.get_weights()\n",
        "    if i % 5000==0:\n",
        "        MSE=np.mean(np.square(model.predict(x).reshape(len(x),)-y))\n",
        "        print(\"Epoch:\",i,\"slope=\",a[0][0],\"intercept=\",b[0],\"MSE=\",MSE)"
      ],
      "outputs": [
        {
          "output_type": "stream",
          "name": "stdout",
          "text": [
            "Epoch: 0 slope= -2.5579157 intercept= 139.88821 MSE= 17534.736\n",
            "Epoch: 5000 slope= 0.45844206 intercept= 121.21214 MSE= 474.0081\n",
            "Epoch: 10000 slope= 0.69010645 intercept= 109.19476 MSE= 400.59506\n",
            "Epoch: 15000 slope= 0.838767 intercept= 101.48315 MSE= 370.36453\n",
            "Epoch: 20000 slope= 0.93416256 intercept= 96.534584 MSE= 357.91595\n",
            "Epoch: 25000 slope= 0.9953789 intercept= 93.35905 MSE= 352.7897\n",
            "Epoch: 30000 slope= 1.0346646 intercept= 91.321144 MSE= 350.67862\n",
            "Epoch: 35000 slope= 1.0598692 intercept= 90.01367 MSE= 349.8095\n",
            "Epoch: 40000 slope= 1.0760522 intercept= 89.174194 MSE= 349.45148\n",
            "Epoch: 45000 slope= 1.0864208 intercept= 88.63633 MSE= 349.3042\n",
            "Epoch: 50000 slope= 1.0930759 intercept= 88.29109 MSE= 349.24347\n",
            "Epoch: 55000 slope= 1.0973642 intercept= 88.068665 MSE= 349.21832\n",
            "Epoch: 60000 slope= 1.1000648 intercept= 87.928566 MSE= 349.20816\n",
            "Epoch: 65000 slope= 1.1018074 intercept= 87.83816 MSE= 349.20395\n",
            "Epoch: 70000 slope= 1.102908 intercept= 87.781075 MSE= 349.20218\n",
            "Epoch: 75000 slope= 1.1036431 intercept= 87.74293 MSE= 349.2015\n"
          ]
        }
      ],
      "execution_count": 12,
      "metadata": {
        "id": "s3Lr40BN7tzS",
        "colab_type": "code",
        "outputId": "094f727c-992c-402f-815f-890aa79b4a6a",
        "colab": {
          "base_uri": "https://localhost:8080/",
          "height": 289
        }
      }
    },
    {
      "cell_type": "code",
      "source": [
        "print(\"Epoch:\",i,\"slope=\",a[0][0],\"intercept=\",b[0],\"MSE=\",MSE)\n",
        "# optimal vlue for a:   1.1050216\n",
        "# optimal vlue for b:   87.67143\n",
        "# minimal loss:         349.2007871685606"
      ],
      "outputs": [
        {
          "output_type": "stream",
          "name": "stdout",
          "text": [
            "Epoch: 79999 slope= 1.1041998 intercept= 87.71408 MSE= 349.2015\n"
          ]
        }
      ],
      "execution_count": 14,
      "metadata": {
        "id": "Qw1FcSxgMnJ1",
        "colab_type": "code",
        "colab": {
          "base_uri": "https://localhost:8080/",
          "height": 34
        },
        "outputId": "d09b9f66-f445-44e3-b4da-df1bc589f327"
      }
    }
  ],
  "metadata": {
    "colab": {
      "name": "gradient_descent_with_keras.ipynb",
      "version": "0.3.2",
      "provenance": [],
      "collapsed_sections": []
    },
    "kernelspec": {
      "name": "python3",
      "language": "python",
      "display_name": "Python 3"
    },
    "kernel_info": {
      "name": "python3"
    },
    "language_info": {
      "name": "python",
      "version": "3.6.3",
      "mimetype": "text/x-python",
      "codemirror_mode": {
        "name": "ipython",
        "version": 3
      },
      "pygments_lexer": "ipython3",
      "nbconvert_exporter": "python",
      "file_extension": ".py"
    }
  },
  "nbformat": 4,
  "nbformat_minor": 0
}