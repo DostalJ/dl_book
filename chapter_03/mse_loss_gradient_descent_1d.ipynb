{
  "nbformat": 4,
  "nbformat_minor": 0,
  "metadata": {
    "colab": {
      "name": "mse_loss_gradient_descent_1d.ipynb",
      "version": "0.3.2",
      "provenance": [],
      "collapsed_sections": []
    },
    "kernelspec": {
      "name": "python3",
      "display_name": "Python 3"
    }
  },
  "cells": [
    {
      "metadata": {
        "id": "QIiKFIAOBdNR",
        "colab_type": "text"
      },
      "cell_type": "markdown",
      "source": [
        "<a href=\"https://colab.research.google.com/github/tensorchiefs/dl_book/blob/master/chapter_03/mse_loss_gradient_descent_1d.ipynb\"> <img src=\"https://colab.research.google.com/assets/colab-badge.svg\" alt=\"open in colab\">\n",
        "</a>\n"
      ]
    },
    {
      "metadata": {
        "id": "ApIdYV0Ad948",
        "colab_type": "text"
      },
      "cell_type": "markdown",
      "source": [
        "##3.1         “Hello world” in curve fitting\n"
      ]
    },
    {
      "metadata": {
        "id": "8vWzIzzZVHj8",
        "colab_type": "text"
      },
      "cell_type": "markdown",
      "source": [
        "#### Imports"
      ]
    },
    {
      "metadata": {
        "id": "nwsw1rEWULea",
        "colab_type": "code",
        "colab": {}
      },
      "cell_type": "code",
      "source": [
        "import numpy as np\n",
        "import matplotlib.pyplot as plt\n",
        "%matplotlib inline"
      ],
      "execution_count": 0,
      "outputs": []
    },
    {
      "metadata": {
        "id": "0bd-lcW1VTbk",
        "colab_type": "text"
      },
      "cell_type": "markdown",
      "source": [
        "#### Blood Pressure data \n"
      ]
    },
    {
      "metadata": {
        "id": "VMoG0p0kUT6b",
        "colab_type": "code",
        "colab": {}
      },
      "cell_type": "code",
      "source": [
        "# Blood Pressure data\n",
        "x = [22, 41, 52, 23, 41, 54, 24, 46, 56, 27, 47, 57, 28, 48, 58,  9, \n",
        "     49, 59, 30, 49, 63, 32, 50, 67, 33, 51, 71, 35, 51, 77, 40, 51, 81]\n",
        "y = [131, 139, 128, 128, 171, 105, 116, 137, 145, 106, 111, 141, 114, \n",
        "     115, 153, 123, 133, 157, 117, 128, 155, 122, 183,\n",
        "     176,  99, 130, 172, 121, 133, 178, 147, 144, 217] \n",
        "x = np.asarray(x, np.float32) \n",
        "y = np.asarray(y, np.float32) "
      ],
      "execution_count": 0,
      "outputs": []
    },
    {
      "metadata": {
        "id": "4xhW8KrNUUKw",
        "colab_type": "code",
        "outputId": "d74b86bf-b979-4278-96e0-f995c21225cf",
        "colab": {
          "base_uri": "https://localhost:8080/",
          "height": 310
        }
      },
      "cell_type": "code",
      "source": [
        "plt.scatter(x=x,y=y)\n",
        "plt.title(\"blood pressure vs age\")\n",
        "plt.xlabel(\"x (age)\")\n",
        "plt.ylabel(\"y (sbp)\")\n",
        "\n",
        "from sklearn.linear_model import LinearRegression\n",
        "model = LinearRegression()\n",
        "res = model.fit(x.reshape((len(x),1)), y)\n",
        "predictions = model.predict(x.reshape((len(x),1)))\n",
        "plt.plot(x, predictions)\n",
        "plt.show()\n",
        "print(\"intercept = \",res.intercept_,\"solpe = \", res.coef_[0],)\n"
      ],
      "execution_count": 0,
      "outputs": [
        {
          "output_type": "display_data",
          "data": {
            "image/png": "[encoded data removed]",
            "text/plain": [
              "<matplotlib.figure.Figure at 0x7f5a209f3278>"
            ]
          },
          "metadata": {
            "tags": []
          }
        },
        {
          "output_type": "stream",
          "text": [
            "intercept =  87.67143 solpe =  1.1050216\n"
          ],
          "name": "stdout"
        }
      ]
    },
    {
      "metadata": {
        "id": "Q0w2rDr-Y682",
        "colab_type": "text"
      },
      "cell_type": "markdown",
      "source": [
        "####  MSE for all data points"
      ]
    },
    {
      "metadata": {
        "id": "GRGE4hjdXagX",
        "colab_type": "code",
        "outputId": "1ec20268-7a5b-47c5-f124-01e7a6437175",
        "colab": {
          "base_uri": "https://localhost:8080/",
          "height": 34
        }
      },
      "cell_type": "code",
      "source": [
        "a = 1                            \n",
        "b = 100                          \n",
        "y_hat = a*x + b                  \n",
        "r = (y - y_hat)                  \n",
        "MSE = np.sum(np.square(r)) / len(y)     \n",
        "MSE\n"
      ],
      "execution_count": 0,
      "outputs": [
        {
          "output_type": "execute_result",
          "data": {
            "text/plain": [
              "408.1515151515151"
            ]
          },
          "metadata": {
            "tags": []
          },
          "execution_count": 7
        }
      ]
    },
    {
      "metadata": {
        "id": "aRTSy8tzYS3K",
        "colab_type": "text"
      },
      "cell_type": "markdown",
      "source": [
        "#### Minimize the  MSE by trying different values for the slope a and the intercept \n",
        "Exercise : try to find better values for a and b, yielding a lower MSE.  \n",
        "Remember that a was 1, b was 100 and the MSE was 408.15\n",
        "\n"
      ]
    },
    {
      "metadata": {
        "id": "JSurLqCDWA_B",
        "colab_type": "code",
        "outputId": "53a46a3a-7c1e-4eab-df4c-4256ca82931c",
        "colab": {
          "base_uri": "https://localhost:8080/",
          "height": 34
        }
      },
      "cell_type": "code",
      "source": [
        "\n",
        "a =0.9                            # try a diffrent value for a here that minimizes the MSE \n",
        "b =101                            # try a diffrent value for b here that minimizes the MSE\n",
        "\n",
        "\n",
        "y_hat = a*x + b                  \n",
        "r = (y - y_hat)                  \n",
        "MSE = np.sum(np.square(r)) / len(y)     \n",
        "MSE"
      ],
      "execution_count": 0,
      "outputs": [
        {
          "output_type": "execute_result",
          "data": {
            "text/plain": [
              "375.356415719697"
            ]
          },
          "metadata": {
            "tags": []
          },
          "execution_count": 8
        }
      ]
    },
    {
      "metadata": {
        "id": "ZA4ouvora5zG",
        "colab_type": "text"
      },
      "cell_type": "markdown",
      "source": [
        "#### Using the closed form solution to minimize the MSE with a and b\n",
        "TODO: add formula"
      ]
    },
    {
      "metadata": {
        "id": "ynaBwMiMa4se",
        "colab_type": "code",
        "outputId": "cc6b4f01-3613-407d-dd9d-a6ae3a946f50",
        "colab": {
          "base_uri": "https://localhost:8080/",
          "height": 67
        }
      },
      "cell_type": "code",
      "source": [
        "a_hat = np.sum((x-np.mean(x))*((y-np.mean(y)))) / (np.sum(np.square(x-np.mean(x))))\n",
        "b_hat = np.mean(y) - a_hat*np.mean(x)\n",
        "\n",
        "a = a_hat                         \n",
        "b = b_hat                       \n",
        "y_hat = a*x + b                  \n",
        "r = (y - y_hat)                  \n",
        "MSE = np.sum(r**2) / len(y)      \n",
        "\n",
        "print(\"slope : a_hat = \" ,a_hat)\n",
        "print(\"intercept : b_hat = \" ,b_hat)\n",
        "print(\"minimal MSE = \", MSE)"
      ],
      "execution_count": 0,
      "outputs": [
        {
          "output_type": "stream",
          "text": [
            "slope : a_hat =  1.1050217\n",
            "intercept : b_hat =  87.67143\n",
            "minimal MSE =  349.20090553977275\n"
          ],
          "name": "stdout"
        }
      ]
    },
    {
      "metadata": {
        "id": "vidTD2l2gq8Q",
        "colab_type": "text"
      },
      "cell_type": "markdown",
      "source": [
        "##3.2         Gradient descent method 1D\n"
      ]
    },
    {
      "metadata": {
        "id": "ZK9CtBAUbx5y",
        "colab_type": "code",
        "colab": {}
      },
      "cell_type": "code",
      "source": [
        "b = 87.6\n",
        "a = np.arange(-1, 2, 0.02)\n",
        "MSE=np.zeros(len(a))\n",
        "for i in range(0,len(a)):\n",
        "  MSE[i] =  np.mean(np.square(y-(a[i] * x + b)))\n",
        "#"
      ],
      "execution_count": 0,
      "outputs": []
    },
    {
      "metadata": {
        "id": "uh1kLv2lrOjK",
        "colab_type": "code",
        "outputId": "7fe744f0-ea99-4ff7-abe6-af8283a3aab1",
        "colab": {
          "base_uri": "https://localhost:8080/",
          "height": 294
        }
      },
      "cell_type": "code",
      "source": [
        "plt.plot(a,MSE)\n",
        "plt.title(\"MSE in in dependency of a, wtih fixed value for b = 87.6\")\n",
        "plt.xlabel(\"slope a\")\n",
        "plt.ylabel(\"MSE\")\n",
        "plt.show()"
      ],
      "execution_count": 0,
      "outputs": [
        {
          "output_type": "display_data",
          "data": {
            "image/png": "[encoded data removed]",
            "text/plain": [
              "<matplotlib.figure.Figure at 0x7f5a1b0a0ef0>"
            ]
          },
          "metadata": {
            "tags": []
          }
        }
      ]
    },
    {
      "metadata": {
        "id": "AspeSG1i5jpQ",
        "colab_type": "text"
      },
      "cell_type": "markdown",
      "source": [
        "#### Change the learning rate and study how the slope a gets updated\n",
        "Exercise : try to find a better learning rate eta that reaches the optimal value for a.\n",
        "Try larger and smaller values\n"
      ]
    },
    {
      "metadata": {
        "id": "5pDf5CweovQA",
        "colab_type": "code",
        "colab": {}
      },
      "cell_type": "code",
      "source": [
        "a_ = 0.5\n",
        "a_history = 0.5\n",
        "eta = 0.0003\n",
        "for i in range(0,5):\n",
        "  grad_a = -2/len(y)*np.sum((y -a_ * x - b) *x) \n",
        "  a_ = a_ - eta*grad_a\n",
        "  a_history =np.append(a_history,a_) "
      ],
      "execution_count": 0,
      "outputs": []
    },
    {
      "metadata": {
        "id": "Ap39lwiLuRmx",
        "colab_type": "code",
        "outputId": "5841e34f-5a7e-4ec2-dd62-52d66737c225",
        "colab": {
          "base_uri": "https://localhost:8080/",
          "height": 34
        }
      },
      "cell_type": "code",
      "source": [
        "print(a_history)"
      ],
      "execution_count": 0,
      "outputs": [
        {
          "output_type": "stream",
          "text": [
            "[0.5        1.37052365 0.99135518 1.15650723 1.08457298 1.11590489]\n"
          ],
          "name": "stdout"
        }
      ]
    },
    {
      "metadata": {
        "id": "sYVYl_tr_Qgq",
        "colab_type": "code",
        "outputId": "f37d24ee-487b-421f-d583-841765a6fb74",
        "colab": {
          "base_uri": "https://localhost:8080/",
          "height": 294
        }
      },
      "cell_type": "code",
      "source": [
        "plt.plot(a,MSE)\n",
        "plt.title(\"MSE in in dependency of a, wtih fixed value for b = 87.6\")\n",
        "plt.xlabel(\"slope a\")\n",
        "plt.ylabel(\"MSE\")\n",
        "plt.ylim((0,1400))\n",
        "plt.xlim((0.3,1.5))\n",
        "\n",
        "for i in range(0,len(a_history)):\n",
        "  plt.vlines(x=a_history[i],ymin=0,ymax= np.mean(np.square(y-(a_history[i] * x + b))))\n",
        "  plt.text(x=a_history[i],y= np.mean(np.square(y-(a_history[i] * x + b)))+100,s= i,horizontalalignment='center',verticalalignment='center',fontsize=12)\n",
        "for i in range(0,len(a_history)-1):\n",
        "  plt.plot([a_history[i], a_history[i+1]],[np.mean(np.square(y-(a_history[i] * x + b))), np.mean(np.square(y-(a_history[i+1] * x + b)))])\n",
        "plt.show()"
      ],
      "execution_count": 0,
      "outputs": [
        {
          "output_type": "display_data",
          "data": {
            "image/png": "[encoded data removed]",
            "text/plain": [
              "<matplotlib.figure.Figure at 0x7f5a1b039b00>"
            ]
          },
          "metadata": {
            "tags": []
          }
        }
      ]
    },
    {
      "metadata": {
        "id": "nFQhjHg8v22i",
        "colab_type": "code",
        "colab": {}
      },
      "cell_type": "code",
      "source": [
        ""
      ],
      "execution_count": 0,
      "outputs": []
    }
  ]
}