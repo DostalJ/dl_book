{
  "cells": [
    {
      "cell_type": "markdown",
      "source": [
        "#### Using the closed form solution to minimize the MSE with a and b\n",
        "\n",
        "Now we determine the optimal values for the slope a and intercept b with the closed solution formula and print them with the minimal MSE. if you compare the results with the ones form the skleran linear regression, you see that they are equal.   \n",
        "\n",
        "#### closed form solution:\n",
        "\n",
        "$$\\hat{\\alpha} = \\frac{\\sum\\limits_{i=1}^{n}(x_i – \\bar{x}) (y_i – \\bar{y})} {\\sum\\limits_{i=1}^{n}(x_i – \\bar{x})^2}$$  \n",
        "\n",
        "$$\\hat{\\beta} = \\bar{y} – \\hat{\\alpha} \\bar{x}$$\n"
      ],
      "metadata": {
        "collapsed": false,
        "outputHidden": false,
        "inputHidden": false
      }
    },
    {
      "cell_type": "code",
      "source": [],
      "outputs": [],
      "execution_count": null,
      "metadata": {
        "collapsed": false,
        "outputHidden": false,
        "inputHidden": false
      }
    }
  ],
  "metadata": {
    "kernelspec": {
      "name": "python3",
      "language": "python",
      "display_name": "Python 3"
    },
    "kernel_info": {
      "name": "python3"
    },
    "language_info": {
      "name": "python",
      "version": "3.5.3",
      "nbconvert_exporter": "python",
      "mimetype": "text/x-python",
      "pygments_lexer": "ipython3",
      "codemirror_mode": {
        "name": "ipython",
        "version": 3
      },
      "file_extension": ".py"
    }
  },
  "nbformat": 4,
  "nbformat_minor": 4
}