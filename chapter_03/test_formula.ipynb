{
  "cells": [
    {
      "cell_type": "markdown",
      "source": [
        "#### Using the closed form solution to minimize the MSE with a and b\n",
        "\n",
        "Now we determine the optimal values for the slope a and intercept b with the closed solution formula and print them with the minimal MSE. if you compare the results with the ones form the skleran linear regression, you see that they are equal.   \n",
        "\n",
        "#### closed form solution:\n",
        "\n",
        "\\begin{equation}\n",
        "\\hat{\\alpha} = \\frac{\\sum\\limits_{i=1}^{n}(x_i – \\bar{x}) (y_i – \\bar{y})} {\\sum\\limits_{i=1}^{n}(x_i – \\bar{x})^2}\n",
        "\\end{equation}\n",
        "\n",
        "\\begin{equation}\n",
        "\\hat{\\beta} = \\bar{y} – \\hat{\\alpha} \\bar{x} \n",
        "\\end{equation}\n"
      ],
      "metadata": {
        "collapsed": false,
        "outputHidden": false,
        "inputHidden": false
      }
    },
    {
      "cell_type": "code",
      "source": [],
      "outputs": [],
      "execution_count": null,
      "metadata": {
        "collapsed": false,
        "outputHidden": false,
        "inputHidden": false
      }
    }
  ],
  "metadata": {
    "kernelspec": {
      "name": "python3",
      "language": "python",
      "display_name": "Python 3"
    },
    "kernel_info": {
      "name": "python3"
    },
    "language_info": {
      "nbconvert_exporter": "python",
      "file_extension": ".py",
      "version": "3.5.3",
      "mimetype": "text/x-python",
      "codemirror_mode": {
        "version": 3,
        "name": "ipython"
      },
      "pygments_lexer": "ipython3",
      "name": "python"
    }
  },
  "nbformat": 4,
  "nbformat_minor": 4
}