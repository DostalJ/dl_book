{
  "cells": [
    {
      "cell_type": "markdown",
      "source": [
        "## Notebook under construction \n",
        "\n",
        "## Gradient Descent with TensorFlow\n",
        "\n",
        "* Builds the computational Graph for the forward pass\n",
        "* Displays the graph on TensorBoard\n",
        "* Using the TensorFlow Optimizer to minimize the loss\n",
        "\n",
        "<a href=\"https://colab.research.google.com/github/tensorchiefs/dl_book/blob/master/chapter_03/gradient_descent_with_tensorflow.ipynb\"> <img src=\"https://colab.research.google.com/assets/colab-badge.svg\" alt=\"open in colab\">\n",
        "</a>\n",
        "| [open in colab](https://colab.research.google.com/github/tensorchiefs/dl_book/blob/master/chapter_03/gradient_descent_with_tensorflow.ipynb)\n"
      ],
      "metadata": {
        "id": "O2sP8Kwe7L9Z",
        "colab_type": "text"
      }
    },
    {
      "cell_type": "code",
      "source": [
        "\n",
        "import numpy as np\n",
        "from mpl_toolkits import mplot3d\n",
        "import matplotlib.pyplot as plt\n",
        "%matplotlib inline\n"
      ],
      "outputs": [],
      "execution_count": 0,
      "metadata": {
        "id": "2Ns6420jRmbQ",
        "colab_type": "code",
        "colab": {}
      }
    },
    {
      "cell_type": "code",
      "source": [
        "# Blood Pressure data\n",
        "x = [22, 41, 52, 23, 41, 54, 24, 46, 56, 27, 47, 57, 28, 48, 58,  9, \n",
        "     49, 59, 30, 49, 63, 32, 50, 67, 33, 51, 71, 35, 51, 77, 40, 51, 81]\n",
        "y = [131, 139, 128, 128, 171, 105, 116, 137, 145, 106, 111, 141, 114, \n",
        "     115, 153, 123, 133, 157, 117, 128, 155, 122, 183,\n",
        "     176,  99, 130, 172, 121, 133, 178, 147, 144, 217] \n",
        "x = np.asarray(x, np.float32) \n",
        "y = np.asarray(y, np.float32)"
      ],
      "outputs": [],
      "execution_count": 0,
      "metadata": {
        "id": "h5NlSPsPSFR-",
        "colab_type": "code",
        "colab": {}
      }
    },
    {
      "cell_type": "code",
      "source": [
        "plt.scatter(x=x,y=y)\n",
        "plt.title(\"blood pressure vs age\")\n",
        "plt.xlabel(\"x (age)\")\n",
        "plt.ylabel(\"y (sbp)\")\n",
        "\n",
        "from sklearn.linear_model import LinearRegression\n",
        "model = LinearRegression()\n",
        "res = model.fit(x.reshape((len(x),1)), y)\n",
        "predictions = model.predict(x.reshape((len(x),1)))\n",
        "plt.plot(x, predictions)\n",
        "plt.show()\n",
        "print(\"intercept = \",res.intercept_,\"solpe = \", res.coef_[0],)"
      ],
      "outputs": [
        {
          "output_type": "display_data",
          "data": {
            "image/png": "[encoded data removed]",
            "text/plain": [
              "<matplotlib.figure.Figure at 0x7f44334af0b8>"
            ]
          },
          "metadata": {
            "tags": []
          }
        },
        {
          "output_type": "stream",
          "name": "stdout",
          "text": [
            "intercept =  87.67143 solpe =  1.1050216\n"
          ]
        }
      ],
      "execution_count": 9,
      "metadata": {
        "id": "cFR-y-HER-Uo",
        "colab_type": "code",
        "outputId": "bf14c7ed-79eb-478d-b549-b270c689573b",
        "colab": {
          "base_uri": "https://localhost:8080/",
          "height": 310
        }
      }
    },
    {
      "cell_type": "markdown",
      "source": [
        "## Tensorflow"
      ],
      "metadata": {
        "id": "oxlyNp9uSKYd",
        "colab_type": "text"
      }
    },
    {
      "cell_type": "code",
      "source": [
        "import tensorflow as tf"
      ],
      "outputs": [],
      "execution_count": 0,
      "metadata": {
        "id": "rAaTBfjxo_Vq",
        "colab_type": "code",
        "colab": {}
      }
    },
    {
      "cell_type": "markdown",
      "source": [
        "#### In Tensorflow we need to define the computational graph first\n",
        "\n"
      ],
      "metadata": {
        "id": "7lCheoSrpEmD",
        "colab_type": "text"
      }
    },
    {
      "cell_type": "code",
      "source": [
        "# x,y are one dimensional numpy arrays\n",
        "# Defining the graph (construction phase)\n",
        "\n",
        "tf.reset_default_graph()                                   # “Wipe the blackboard”, construct a new graph\n",
        "a_  = tf.Variable(3.0, name='a_var')                       # Variables, with starting values, can be optimize later\n",
        "b_  = tf.Variable(140.0, name='b_var')                     # we name them so that they look nicer in the graph\n",
        "x_  = tf.constant(x, name='x_const')                       # Constants these are fixed tensors holding the data values and cannot be changed by the optimization\n",
        "y_  = tf.constant(y, name='y_const')  \n",
        "\n",
        "y_hat_ = a_*x_ + b_                                        # we symbolically calculate y_hat    \n",
        "loss_ = tf.reduce_mean(tf.square(y_ - y_hat_))              #The final result, the MSE. Still symbolical\n",
        "\n",
        "#gradients_ = tf.gradients(loss_, [a_,b_])\n",
        "\n",
        "writer = tf.summary.FileWriter(\"linreg/\", tf.get_default_graph())\n",
        "writer.close()"
      ],
      "outputs": [],
      "execution_count": 0,
      "metadata": {
        "id": "LiNOds2vSOz8",
        "colab_type": "code",
        "colab": {}
      }
    },
    {
      "cell_type": "code",
      "source": [
        "!ls linreg"
      ],
      "outputs": [
        {
          "output_type": "stream",
          "name": "stdout",
          "text": [
            "events.out.tfevents.1542216222.52687b49a85f\n",
            "events.out.tfevents.1542225521.52687b49a85f\n",
            "events.out.tfevents.1542225760.52687b49a85f\n",
            "events.out.tfevents.1542228248.52687b49a85f\n",
            "events.out.tfevents.1542228304.52687b49a85f\n"
          ]
        }
      ],
      "execution_count": 12,
      "metadata": {
        "id": "6cyWFC0XqLD0",
        "colab_type": "code",
        "outputId": "f3d430a9-dc90-4e7b-dd7e-5ee4c2a5d7f0",
        "colab": {
          "base_uri": "https://localhost:8080/",
          "height": 101
        }
      }
    },
    {
      "cell_type": "markdown",
      "source": [
        "#### Displaying the code in Tensor Bord with colab\n",
        "\nIf you are using colab, it's currently (november 2018) not straight forward to show the graph from colab in TensorBoard. However, there is the possibility to tunnel from colab to your local box. See  https://www.dlology.com/blog/quick-guide-to-run-tensorboard-in-google-colab/ or https://stackoverflow.com/questions/47818822/can-i-use-tensorboard-with-google-colab"
      ],
      "metadata": {
        "id": "uilwX07SqYdZ",
        "colab_type": "text"
      }
    },
    {
      "cell_type": "code",
      "source": [
        "# Start Tensor Board\n",
        "LOG_DIR = './linreg'\n",
        "get_ipython().system_raw(\n",
        "    'tensorboard --logdir {} --host 0.0.0.0 --port 6006 &'\n",
        "    .format(LOG_DIR)\n",
        ")\n",
        "\n"
      ],
      "outputs": [],
      "execution_count": 0,
      "metadata": {
        "id": "HN3DkrjIqNO7",
        "colab_type": "code",
        "colab": {}
      }
    },
    {
      "cell_type": "code",
      "source": [
        "#! wget https://bin.equinox.io/c/4VmDzA7iaHb/ngrok-stable-linux-amd64.zip\n",
        "#! unzip ngrok-stable-linux-amd64.zip"
      ],
      "outputs": [],
      "execution_count": 0,
      "metadata": {
        "id": "B2xS6LEKtOsJ",
        "colab_type": "code",
        "colab": {}
      }
    },
    {
      "cell_type": "code",
      "source": [
        "# Start the tunnel\n",
        "get_ipython().system_raw('./ngrok http 6006 &')\n",
        "\n",
        "# Tell the ip so that one can click on it\n",
        "! curl -s http://localhost:4040/api/tunnels | python3 -c \\\n",
        "    \"import sys, json; print(json.load(sys.stdin)['tunnels'][0]['public_url'])\""
      ],
      "outputs": [
        {
          "output_type": "stream",
          "name": "stdout",
          "text": [
            "http://a4e50d48.ngrok.io\n"
          ]
        }
      ],
      "execution_count": 15,
      "metadata": {
        "id": "FhTdQQr2tL6W",
        "colab_type": "code",
        "outputId": "7205d5cb-219d-4ad6-e8cf-ce6747c1398c",
        "colab": {
          "base_uri": "https://localhost:8080/",
          "height": 34
        }
      }
    },
    {
      "cell_type": "markdown",
      "source": [
        "####Lets run the Graph and feed our start values for slope a and intercept b and fetch the mse loss\n"
      ],
      "metadata": {
        "id": "nkS4XL2QtxJk",
        "colab_type": "text"
      }
    },
    {
      "cell_type": "code",
      "source": [
        "sess = tf.Session()                            # Starts a session and grabs memory and other resources\n",
        "rss_val = sess.run([loss_,], {a_:3,b_:140})        # Letting the variables a=3 b=1 flow through the graph\n",
        "print(rss_val)\n",
        "sess.close()                                   # Don't forget to close the session"
      ],
      "outputs": [
        {
          "output_type": "stream",
          "name": "stdout",
          "text": [
            "[20826.092]\n"
          ]
        }
      ],
      "execution_count": 16,
      "metadata": {
        "id": "91qRdJJkqNrY",
        "colab_type": "code",
        "outputId": "daba7bce-83e4-431d-940d-19369bddf47b",
        "colab": {
          "base_uri": "https://localhost:8080/",
          "height": 34
        }
      }
    },
    {
      "cell_type": "code",
      "source": [
        "# Let's add an optimizer to the loss \n",
        "train_op = tf.train.GradientDescentOptimizer(learning_rate=0.0004).minimize(loss_) \n",
        "init_op = tf.global_variables_initializer()\n",
        "with tf.Session() as sess: \n",
        "    sess.run(init_op) #Doing the initialization on the concrete realization of the graph\n",
        "    for i in range(80000):\n",
        "      #_,a_val, b_val, loss_val, gradients_val = sess.run([train_op,a_,b_, loss_,gradients_])\n",
        "      _,a_val, b_val, loss_val,  = sess.run([train_op,a_,b_, loss_])\n",
        "      if (i % 5000 == 0): #Trick not to print so often\n",
        "        #print(a_val, b_val, loss_val,gradients_val[0],gradients_val[1])\n",
        "        print(a_val, b_val, loss_val)\n",
        "    #print(a_val, b_val, loss_val,gradients_val[0],gradients_val[1])\n",
        "    #print(a_val, b_val, loss_val)"
      ],
      "outputs": [
        {
          "output_type": "stream",
          "name": "stdout",
          "text": [
            "-2.5579152 139.88821 20826.092\n",
            "0.4584417 121.21216 474.03043\n",
            "0.69010633 109.19477 400.60428\n",
            "0.83876675 101.483154 370.36835\n",
            "0.9341623 96.5346 357.9175\n",
            "0.9953787 93.35905 352.7903\n",
            "1.0346644 91.321144 350.67886\n",
            "1.0598692 90.01367 349.80957\n",
            "1.0760521 89.1742 349.45148\n",
            "1.0864205 88.63634 349.30426\n",
            "1.0930761 88.2911 349.2435\n",
            "1.0973638 88.068665 349.21844\n",
            "1.1000648 87.928566 349.20816\n",
            "1.1018075 87.838165 349.20395\n",
            "1.1029078 87.78108 349.20215\n",
            "1.1036431 87.742935 349.20142\n"
          ]
        }
      ],
      "execution_count": 17,
      "metadata": {
        "id": "9ncGzsKwV4Yw",
        "colab_type": "code",
        "outputId": "4ebdfc99-42b1-4ffc-c23d-0a63c9556a26",
        "colab": {
          "base_uri": "https://localhost:8080/",
          "height": 286
        }
      }
    },
    {
      "cell_type": "code",
      "source": [
        " print(a_val, b_val, loss_val)\n",
        "# optimal vlue for a:   1.1050216\n",
        "# optimal vlue for b:   87.67143\n",
        "# minimal loss:         349.2007871685606"
      ],
      "outputs": [
        {
          "output_type": "stream",
          "name": "stdout",
          "text": [
            "1.1041983 87.71413 349.20108\n"
          ]
        }
      ],
      "execution_count": 18,
      "metadata": {
        "id": "ElBejUYn0u7Q",
        "colab_type": "code",
        "outputId": "60899f17-a3b3-4ccb-94cc-f9c8cf57dad8",
        "colab": {
          "base_uri": "https://localhost:8080/",
          "height": 34
        }
      }
    },
    {
      "cell_type": "code",
      "source": [],
      "outputs": [],
      "execution_count": 0,
      "metadata": {
        "id": "Fn-EPmL--NJ-",
        "colab_type": "code",
        "colab": {}
      }
    }
  ],
  "metadata": {
    "colab": {
      "name": "gradient_descent_with_tensorflow.ipynb",
      "version": "0.3.2",
      "provenance": [],
      "collapsed_sections": []
    },
    "kernelspec": {
      "name": "python3",
      "language": "python",
      "display_name": "Python 3"
    },
    "kernel_info": {
      "name": "python3"
    },
    "language_info": {
      "name": "python",
      "version": "3.6.3",
      "mimetype": "text/x-python",
      "codemirror_mode": {
        "name": "ipython",
        "version": 3
      },
      "pygments_lexer": "ipython3",
      "nbconvert_exporter": "python",
      "file_extension": ".py"
    }
  },
  "nbformat": 4,
  "nbformat_minor": 0
}