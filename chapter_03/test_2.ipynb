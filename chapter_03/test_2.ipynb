{
  "cells": [
    {
      "cell_type": "markdown",
      "source": [
        "\n",
        "#### closed form solution:  \n",
        "\n",
        "$$\n",
        "\\hat{\\alpha} = \\frac{\\sum\\limits_{i=1}^{n}(x_i – \\bar{x}) (y_i –\\bar{y})} {\\sum\\limits_{i=1}^{n}(x_i – \\bar{x})^2}\n",
        "$$\n"
      ],
      "metadata": {
        "id": "ZA4ouvora5zG",
        "colab_type": "text"
      }
    },
    {
      "cell_type": "markdown",
      "source": [
        "\n\n",
        "#### closed form solution:\n",
        "\n",
        "$$\n",
        "\\hat{\\alpha} = \\frac{\\sum\\limits_{i=1}^{n}(x_i – \\bar{x}) (y_i –\\bar{y})} {\\sum\\limits_{i=1}^{n}(x_i – \\bar{x})^2}\n",
        "$$"
      ],
      "metadata": {}
    },
    {
      "cell_type": "markdown",
      "source": [
        "\n",
        "from IPython.display import display, Math, Latex\n",
        "display(Math(r'F(k) = \\int_{-\\infty}^{\\infty} f(x) e^{2\\pi i k} dx')\n",
        "\n"
      ],
      "metadata": {
        "id": "5e8BkfT-wNYQ",
        "colab_type": "text"
      }
    },
    {
      "cell_type": "code",
      "source": [
        "from IPython.display import display, Math, Latex\n",
        "display(Math(r'F(k) = \\int_{-\\infty}^{\\infty} f(x) e^{2\\pi i k} dx'))"
      ],
      "outputs": [
        {
          "output_type": "display_data",
          "data": {
            "text/latex": [
              "$$F(k) = \\int_{-\\infty}^{\\infty} f(x) e^{2\\pi i k} dx$$"
            ],
            "text/plain": [
              "<IPython.core.display.Math object>"
            ]
          },
          "metadata": {
            "tags": []
          }
        }
      ],
      "execution_count": 4,
      "metadata": {
        "id": "qyHXsnfPwuO_",
        "colab_type": "code",
        "colab": {
          "base_uri": "https://localhost:8080/",
          "height": 35
        },
        "outputId": "aa150570-fcf4-45d8-ed4e-8fdd9f855ad2"
      }
    },
    {
      "cell_type": "markdown",
      "source": [
        "$$F(k) = \\int_{-\\infty}^{\\infty} f(x) e^{2\\pi i k} dx$$"
      ],
      "metadata": {
        "id": "YzyISWsZw9Uu",
        "colab_type": "text"
      }
    },
    {
      "cell_type": "code",
      "source": [],
      "outputs": [],
      "execution_count": 0,
      "metadata": {
        "id": "6Hz1xiKuwutt",
        "colab_type": "code",
        "colab": {}
      }
    }
  ],
  "metadata": {
    "colab": {
      "name": "nb_01.ipynb",
      "version": "0.3.2",
      "provenance": [],
      "collapsed_sections": []
    },
    "kernelspec": {
      "name": "python3",
      "language": "python",
      "display_name": "Python 3"
    },
    "kernel_info": {
      "name": "python3"
    },
    "language_info": {
      "name": "python",
      "codemirror_mode": {
        "name": "ipython",
        "version": 3
      },
      "pygments_lexer": "ipython3",
      "version": "3.5.3",
      "file_extension": ".py",
      "mimetype": "text/x-python",
      "nbconvert_exporter": "python"
    }
  },
  "nbformat": 4,
  "nbformat_minor": 0
}
