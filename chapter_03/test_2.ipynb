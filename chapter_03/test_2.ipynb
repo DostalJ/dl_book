{
  "cells": [
    {
      "cell_type": "markdown",
      "source": [
        "$$\\hat{\\alpha} = \\frac{\\sum\\limits_{i=1}^{n}(x_i – \\bar{x}) (y_i-\\bar{y})} {\\sum\\limits_{i=1}^{n}(x_i – \\bar{x})^2}$$"
      ],
      "metadata": {
        "id": "ZA4ouvora5zG",
        "colab_type": "text"
      }
    },
    {
      "cell_type": "markdown",
      "source": [
        "$$F(k) = \\int_{-\\infty}^{\\infty} f(x) e^{2\\pi i k}dx$$"
      ],
      "metadata": {
        "id": "YzyISWsZw9Uu",
        "colab_type": "text"
      }
    },
    {
      "cell_type": "markdown",
      "source": [],
      "metadata": {}
    },
    {
      "cell_type": "markdown",
      "source": [],
      "metadata": {}
    },
    {
      "cell_type": "markdown",
      "source": [],
      "metadata": {}
    }
  ],
  "metadata": {
    "colab": {
      "name": "nb_01.ipynb",
      "version": "0.3.2",
      "provenance": [],
      "collapsed_sections": []
    },
    "kernelspec": {
      "name": "python3",
      "language": "python",
      "display_name": "Python 3"
    },
    "kernel_info": {
      "name": "python3"
    },
    "language_info": {
      "codemirror_mode": {
        "version": 3,
        "name": "ipython"
      },
      "mimetype": "text/x-python",
      "pygments_lexer": "ipython3",
      "file_extension": ".py",
      "nbconvert_exporter": "python",
      "version": "3.5.3",
      "name": "python"
    }
  },
  "nbformat": 4,
  "nbformat_minor": 0
}
