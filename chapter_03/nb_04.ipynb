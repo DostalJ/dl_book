{
  "nbformat": 4,
  "nbformat_minor": 0,
  "metadata": {
    "colab": {
      "name": "nb_04.ipynb",
      "version": "0.3.2",
      "provenance": [],
      "collapsed_sections": []
    }
  },
  "cells": [
    {
      "metadata": {
        "id": "bXDt1QFarxhc",
        "colab_type": "text"
      },
      "cell_type": "markdown",
      "source": [
        "## Notebook under construction \n",
        "\n",
        "## Backpropagation with Tensorflow\n",
        "\n",
        "* Builds the computational Graph for the forward pass\n",
        "* Displays the graph on TensorBoard\n",
        "* Using the TensorFlow Optimizer to minimize the loss\n",
        "\n",
        "<a href=\"https://colab.research.google.com/github/tensorchiefs/dl_book/blob/master/chapter_03/nb_04.ipynb\"> <img src=\"https://colab.research.google.com/assets/colab-badge.svg\" alt=\"open in colab\">\n",
        "</a>\n",
        "| [open in colab](https://colab.research.google.com/github/tensorchiefs/dl_book/blob/master/chapter_03/nb_04.ipynb)"
      ]
    },
    {
      "metadata": {
        "id": "ZkDvlnMjJxRe",
        "colab_type": "code",
        "outputId": "789b3a3c-6b3a-489e-bc6d-7acf92dee31d",
        "colab": {
          "base_uri": "https://localhost:8080/",
          "height": 35
        }
      },
      "cell_type": "code",
      "source": [
        "import numpy as np\n",
        "import matplotlib.pyplot as plt\n",
        "%matplotlib inline\n",
        "plt.style.use('default')\n",
        "import tensorflow as tf\n",
        "print('TF Version:', tf.__version__)"
      ],
      "execution_count": 1,
      "outputs": [
        {
          "output_type": "stream",
          "text": [
            "('TF Version:', '1.12.0')\n"
          ],
          "name": "stdout"
        }
      ]
    },
    {
      "metadata": {
        "id": "qIev26Cqa0VC",
        "colab_type": "text"
      },
      "cell_type": "markdown",
      "source": [
        "#### Blood Pressure data\n",
        "\n",
        "Here we read in the systolic blood pressure and the age of the 33 American women in our dataset.\n",
        "\n"
      ]
    },
    {
      "metadata": {
        "id": "zACb9J35KP92",
        "colab_type": "code",
        "colab": {}
      },
      "cell_type": "code",
      "source": [
        "# Blood Pressure data\n",
        "x = [22, 41, 52, 23, 41, 54, 24, 46, 56, 27, 47, 57, 28, 48, 58,  9, \n",
        "     49, 59, 30, 49, 63, 32, 50, 67, 33, 51, 71, 35, 51, 77, 40, 51, 81]\n",
        "y = [131, 139, 128, 128, 171, 105, 116, 137, 145, 106, 111, 141, 114, \n",
        "     115, 153, 123, 133, 157, 117, 128, 155, 122, 183,\n",
        "     176,  99, 130, 172, 121, 133, 178, 147, 144, 217] \n",
        "x = np.asarray(x, np.float32) \n",
        "y = np.asarray(y, np.float32)"
      ],
      "execution_count": 0,
      "outputs": []
    },
    {
      "metadata": {
        "id": "4PVZDLZA0J3M",
        "colab_type": "text"
      },
      "cell_type": "markdown",
      "source": [
        "###  Doing the back propagation by hand for the example"
      ]
    },
    {
      "metadata": {
        "id": "GyWoQpLmjD_a",
        "colab_type": "text"
      },
      "cell_type": "markdown",
      "source": [
        "In the next cell we take only one woman of the dataset, we want to calculate the gradients with only one datapoint. The woman is 58 years old and has a sbp value of 153."
      ]
    },
    {
      "metadata": {
        "id": "uigQYLMs0B6s",
        "colab_type": "code",
        "colab": {
          "base_uri": "https://localhost:8080/",
          "height": 52
        },
        "outputId": "3f13274f-7513-4a85-e2d6-d676118672fe"
      },
      "cell_type": "code",
      "source": [
        "x = x[14]\n",
        "y = y[14]\n",
        "print(x)\n",
        "print(y)"
      ],
      "execution_count": 3,
      "outputs": [
        {
          "output_type": "stream",
          "text": [
            "58.0\n",
            "153.0\n"
          ],
          "name": "stdout"
        }
      ]
    },
    {
      "metadata": {
        "id": "LLnZCN2wjYlL",
        "colab_type": "text"
      },
      "cell_type": "markdown",
      "source": [
        "Here we define the computational graph with all the intermediate values and gradients in between, because we need them to apply the the chain rule and do the backpropagation. "
      ]
    },
    {
      "metadata": {
        "id": "Q8thmhCF0fq9",
        "colab_type": "code",
        "colab": {}
      },
      "cell_type": "code",
      "source": [
        "# Defining the graph (construction phase)\n",
        "\n",
        "tf.reset_default_graph()                                   # “Wipe the blackboard”, construct a new graph\n",
        "a_  = tf.Variable(0.0, name='a_var')                       # Variables, with starting values, will be optimized later\n",
        "b_  = tf.Variable(139.0, name='b_var')                     # we name them so that they look nicer in the graph\n",
        "x_  = tf.constant(x, name='x_const')                       # Constants, these are fixed tensors holding the data values and cannot be changed by the optimization\n",
        "y_  = tf.constant(y, name='y_const')  \n",
        "\n",
        "\n",
        "# We know do it step by step so that we can calculate the intermediate values and gradients\n",
        "ax_ = a_* x_\n",
        "abx_ = ax_ + b_\n",
        "r_ = abx_ - y_\n",
        "s_ = tf.square(r_)\n",
        "mse_ = tf.reduce_mean(s_)                                 \n",
        "\n",
        "grad_mse_s_ = tf.gradients(mse_, [s_])                      # gradient of mse_ w.r.t s_\n",
        "grad_s_r_ = tf.gradients(s_, [r_])                          # gradient of s_ w.r.t r_\n",
        "grad_r_abx_ = tf.gradients(r_, [abx_])                      # gradient of r_ w.r.t abx_\n",
        "grad_abx_b_ = tf.gradients(abx_, [b_])                      # gradient of abx_ w.r.t b_\n",
        "grad_abx_ax_ = tf.gradients(abx_, [ax_])                    # gradient of abx_ w.r.t ax_\n",
        "grad_ax_a_ = tf.gradients(ax_, [a_])                        # gradient of ax_ w.r.t a_\n",
        "\n",
        "grads_mse_a_b_ = tf.gradients(mse_, [a_,b_])                # gradient of mse_ w.r.t a_ and b_ (what we acually want)\n",
        "\n",
        "\n",
        "writer = tf.summary.FileWriter(\"linreg/\", tf.get_default_graph())\n",
        "writer.close()"
      ],
      "execution_count": 0,
      "outputs": []
    },
    {
      "metadata": {
        "id": "jsNG3naRgPrU",
        "colab_type": "text"
      },
      "cell_type": "markdown",
      "source": [
        "#### Simple forward pass\n",
        "\n",
        "Now lets do a simple forward pass and print the reulting values for ax, abx, r, s, and the mse."
      ]
    },
    {
      "metadata": {
        "id": "5WPxq0WSxkx6",
        "colab_type": "code",
        "outputId": "36ffffbd-130c-4481-d1f2-341e53d80d46",
        "colab": {
          "base_uri": "https://localhost:8080/",
          "height": 104
        }
      },
      "cell_type": "code",
      "source": [
        "sess = tf.Session() #Starts a session and grabs memory and other resources\n",
        "vals = sess.run([ax_,abx_,r_,s_,mse_], {a_:0,b_:139}) # Letting the variables a=3 b=1 flow through the graph\n",
        "for p in vals:\n",
        "  print(p)\n",
        "sess.close() # Don't forget to close the session"
      ],
      "execution_count": 5,
      "outputs": [
        {
          "output_type": "stream",
          "text": [
            "0.0\n",
            "139.0\n",
            "-14.0\n",
            "196.0\n",
            "196.0\n"
          ],
          "name": "stdout"
        }
      ]
    },
    {
      "metadata": {
        "id": "tjnLQHR5gder",
        "colab_type": "text"
      },
      "cell_type": "markdown",
      "source": [
        "#### Extracting the gradients and the updated values"
      ]
    },
    {
      "metadata": {
        "id": "JoSIz0E73JnD",
        "colab_type": "code",
        "colab": {}
      },
      "cell_type": "code",
      "source": [
        "# We add an addtional operation to the graph optimizing the mse_\n",
        "train_op_ = tf.train.GradientDescentOptimizer(learning_rate=0.00002).minimize(mse_) \n",
        "with tf.Session() as sess: \n",
        "    sess.run(tf.global_variables_initializer()) #Doing the initialization on the concrete realization of the graph\n",
        "    for i in range(1):\n",
        "      _, grad_mse_s,grad_s_r, grad_r_abx_,grad_abx_b, grad_abx_ax, grad_ax_a,a,b = sess.run([train_op_, grad_mse_s_, grad_s_r_, grad_r_abx_, grad_abx_b_, grad_abx_ax_,grad_ax_a_,a_,b_])   #fetch all the gradients here \n"
      ],
      "execution_count": 0,
      "outputs": []
    },
    {
      "metadata": {
        "id": "reQ0PK5rvNRN",
        "colab_type": "code",
        "outputId": "4d9c1b81-850a-469c-8cdb-581aa6abc1e0",
        "colab": {
          "base_uri": "https://localhost:8080/",
          "height": 35
        }
      },
      "cell_type": "code",
      "source": [
        "print(grad_mse_s,grad_s_r,grad_r_abx_,grad_abx_b,grad_abx_ax,grad_ax_a,a,b)"
      ],
      "execution_count": 7,
      "outputs": [
        {
          "output_type": "stream",
          "text": [
            "([1.0], [-28.0], [1.0], [1.0], [1.0], [58.0], 0.032479998, 139.00056)\n"
          ],
          "name": "stdout"
        }
      ]
    },
    {
      "metadata": {
        "id": "93MFxmaGumoy",
        "colab_type": "code",
        "colab": {}
      },
      "cell_type": "code",
      "source": [
        "# We add an addtional operation to the graph optimizing the mse_\n",
        "train_op_ = tf.train.GradientDescentOptimizer(learning_rate=0.00001).minimize(mse_) \n",
        "with tf.Session() as sess: \n",
        "    sess.run(tf.global_variables_initializer()) #Doing the initialization on the concrete realization of the graph\n",
        "    for i in range(1):\n",
        "      _, grads_mse_a_b = sess.run([train_op_, grads_mse_a_b_])   #fetch all the gradients here \n"
      ],
      "execution_count": 0,
      "outputs": []
    },
    {
      "metadata": {
        "id": "tjLESXafnhQB",
        "colab_type": "code",
        "colab": {
          "base_uri": "https://localhost:8080/",
          "height": 35
        },
        "outputId": "708a42b4-16db-445e-a833-7d407b5e8ff2"
      },
      "cell_type": "code",
      "source": [
        "#grad_mse_a \n",
        "print(grad_mse_s[0]*grad_s_r[0]*grad_r_abx_[0]*grad_abx_ax[0]*grad_ax_a[0])"
      ],
      "execution_count": 9,
      "outputs": [
        {
          "output_type": "stream",
          "text": [
            "-1624.0\n"
          ],
          "name": "stdout"
        }
      ]
    },
    {
      "metadata": {
        "id": "AUuVUqLwmg8Q",
        "colab_type": "code",
        "colab": {
          "base_uri": "https://localhost:8080/",
          "height": 35
        },
        "outputId": "106d5858-1152-4fa6-8513-c33df93ec57d"
      },
      "cell_type": "code",
      "source": [
        "#grad_mse_b \n",
        "print(grad_mse_s[0]*grad_s_r[0]*grad_r_abx_[0]*grad_abx_b[0])"
      ],
      "execution_count": 10,
      "outputs": [
        {
          "output_type": "stream",
          "text": [
            "-28.0\n"
          ],
          "name": "stdout"
        }
      ]
    },
    {
      "metadata": {
        "id": "Hn_gN5o3h5PC",
        "colab_type": "code",
        "colab": {
          "base_uri": "https://localhost:8080/",
          "height": 35
        },
        "outputId": "0bd6afbe-0a47-42f7-fa00-38bb00f99019"
      },
      "cell_type": "code",
      "source": [
        "print(grads_mse_a_b)"
      ],
      "execution_count": 11,
      "outputs": [
        {
          "output_type": "stream",
          "text": [
            "[-1624.0, -28.0]\n"
          ],
          "name": "stdout"
        }
      ]
    },
    {
      "metadata": {
        "id": "Subdq2jOmYMp",
        "colab_type": "text"
      },
      "cell_type": "markdown",
      "source": [
        "Check if we get the same if we do the upate \"by hand\". "
      ]
    },
    {
      "metadata": {
        "id": "yGa4Z599kwjx",
        "colab_type": "code",
        "colab": {
          "base_uri": "https://localhost:8080/",
          "height": 52
        },
        "outputId": "09c52368-3190-47b1-ff34-6b9663ba2780"
      },
      "cell_type": "code",
      "source": [
        "a0=0\n",
        "b0=139\n",
        "eta=0.00002\n",
        "print(a0-eta*grads_mse_a_b[0])\n",
        "print(b0-eta*grads_mse_a_b[1])"
      ],
      "execution_count": 12,
      "outputs": [
        {
          "output_type": "stream",
          "text": [
            "0.03248\n",
            "139.00056\n"
          ],
          "name": "stdout"
        }
      ]
    },
    {
      "metadata": {
        "id": "H1rny7pFof1H",
        "colab_type": "code",
        "colab": {}
      },
      "cell_type": "code",
      "source": [
        ""
      ],
      "execution_count": 0,
      "outputs": []
    }
  ]
}