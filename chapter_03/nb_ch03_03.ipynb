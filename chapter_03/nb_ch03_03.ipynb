{
 "cells": [
  {
   "cell_type": "markdown",
   "metadata": {
    "colab_type": "text",
    "id": "O2sP8Kwe7L9Z"
   },
   "source": [
    "## Fitting a linear regression model with TensorFlow\n",
    "\n",
    "**Goal:** In this notebook you will see how to use TensorFlow to fit the parameters (slope and intercept) of a simple linear regression model via gradient descent (GD). \n",
    "\n",
    "**Usage:** The idea of the notebook is that you try to understand the provided code by running it, checking the output and playing with it by slightly changing the code and rerunning it. \n",
    "\n",
    "**Dataset:** You work again with the systolic blood pressure and age data of 33 American women, which is generated and visualized in the upper part of the notebook. \n",
    "\n",
    "* fit a linear model via the sklearn machine learning library of python to get the fitted values of the intercept and slope as reference. \n",
    "\n",
    "* use the TensorFlow library to fit the parameter of the simple linear model via GD with the objective to minimize the MSE loss. \n",
    "    * define the computational graph of the model\n",
    "    * define the loss and the optimizer\n",
    "    * visualize the computational graph in tensorboard\n",
    "    * fit the model parameters via GD and check the current values of the estimated model parameters and the loss after each updatestep\n",
    "    * verify that the estimated parameters converge to the values which you got from the sklearn fit.  \n",
    "\n",
    "\n",
    "[open in colab](https://colab.research.google.com/github/tensorchiefs/dl_book/blob/master/chapter_03/nb_ch03_03.ipynb)(works with all browser)\n"
   ]
  },
  {
   "cell_type": "markdown",
   "metadata": {
    "colab_type": "text",
    "id": "IxDnHMLUL64a"
   },
   "source": [
    "#### Imports"
   ]
  },
  {
   "cell_type": "code",
   "execution_count": 1,
   "metadata": {
    "colab": {},
    "colab_type": "code",
    "id": "2Ns6420jRmbQ"
   },
   "outputs": [],
   "source": [
    "import numpy as np\n",
    "import matplotlib.pyplot as plt\n",
    "%matplotlib inline\n",
    "plt.style.use('default')\n",
    "from sklearn.linear_model import LinearRegression"
   ]
  },
  {
   "cell_type": "markdown",
   "metadata": {
    "colab_type": "text",
    "id": "p3c9bh7zMVhP"
   },
   "source": [
    "Here we read in the systolic blood pressure and the age of the 33 American women in our dataset. Then we use the sklearn library to find the optimal values for the slope a and the intercept b."
   ]
  },
  {
   "cell_type": "code",
   "execution_count": 2,
   "metadata": {
    "colab": {},
    "colab_type": "code",
    "id": "h5NlSPsPSFR-"
   },
   "outputs": [],
   "source": [
    "# Blood Pressure data\n",
    "x = [22, 41, 52, 23, 41, 54, 24, 46, 56, 27, 47, 57, 28, 48, 58,  9, \n",
    "     49, 59, 30, 49, 63, 32, 50, 67, 33, 51, 71, 35, 51, 77, 40, 51, 81]\n",
    "y = [131, 139, 128, 128, 171, 105, 116, 137, 145, 106, 111, 141, 114, \n",
    "     115, 153, 123, 133, 157, 117, 128, 155, 122, 183,\n",
    "     176,  99, 130, 172, 121, 133, 178, 147, 144, 217] \n",
    "x = np.asarray(x, np.float32) \n",
    "y = np.asarray(y, np.float32)"
   ]
  },
  {
   "cell_type": "code",
   "execution_count": 3,
   "metadata": {
    "colab": {
     "base_uri": "https://localhost:8080/",
     "height": 490
    },
    "colab_type": "code",
    "id": "cFR-y-HER-Uo",
    "outputId": "cefcce23-794b-47dc-b96b-19b2bf58710b"
   },
   "outputs": [
    {
     "data": {
      "image/png": "[encoded data removed]",
      "text/plain": [
       "<Figure size 432x288 with 1 Axes>"
      ]
     },
     "metadata": {},
     "output_type": "display_data"
    },
    {
     "name": "stdout",
     "output_type": "stream",
     "text": [
      "intercept =  87.67143 solpe =  1.1050216\n"
     ]
    }
   ],
   "source": [
    "plt.scatter(x=x,y=y)\n",
    "plt.title(\"blood pressure vs age\")\n",
    "plt.xlabel(\"x (age)\")\n",
    "plt.ylabel(\"y (sbp)\")\n",
    "\n",
    "model = LinearRegression()\n",
    "res = model.fit(x.reshape((len(x),1)), y)\n",
    "predictions = model.predict(x.reshape((len(x),1)))\n",
    "plt.plot(x, predictions)\n",
    "plt.show()\n",
    "print(\"intercept = \",res.intercept_,\"solpe = \", res.coef_[0],)"
   ]
  },
  {
   "cell_type": "markdown",
   "metadata": {
    "colab_type": "text",
    "id": "oxlyNp9uSKYd"
   },
   "source": [
    "## Tensorflow\n",
    "\n",
    "We now use Tensorflow to first define the computational graph, then we will run the graph and automatically get the gradients of the loss w.r.t the variables to update them."
   ]
  },
  {
   "cell_type": "code",
   "execution_count": 4,
   "metadata": {
    "colab": {},
    "colab_type": "code",
    "id": "rAaTBfjxo_Vq"
   },
   "outputs": [],
   "source": [
    "import tensorflow as tf"
   ]
  },
  {
   "cell_type": "markdown",
   "metadata": {
    "colab_type": "text",
    "id": "7lCheoSrpEmD"
   },
   "source": [
    "#### In Tensorflow we need to define the computational graph first\n",
    "\n"
   ]
  },
  {
   "cell_type": "code",
   "execution_count": 5,
   "metadata": {
    "colab": {},
    "colab_type": "code",
    "id": "LiNOds2vSOz8"
   },
   "outputs": [],
   "source": [
    "# x,y are one dimensional numpy arrays\n",
    "# Defining the graph (construction phase)\n",
    "\n",
    "tf.reset_default_graph()                                   # “Wipe the blackboard”, construct a new graph\n",
    "a_  = tf.Variable(0.0, name='a_var')                       # Variables, with starting values, will be optimized later\n",
    "b_  = tf.Variable(139.0, name='b_var')                     # we name them so that they look nicer in the graph\n",
    "x_  = tf.constant(x, name='x_const')                       # Constants, these are fixed tensors holding the data values and cannot be changed by the optimization\n",
    "y_  = tf.constant(y, name='y_const')  \n",
    "\n",
    "y_hat_ = a_*x_ + b_                                        # we symbolically calculate y_hat    \n",
    "loss_ = tf.reduce_mean(tf.square(y_ - y_hat_))             #The final result, the MSE. Still symbolical\n",
    "\n",
    "writer = tf.summary.FileWriter(\"linreg/\", tf.get_default_graph())\n",
    "writer.close()"
   ]
  },
  {
   "cell_type": "code",
   "execution_count": 6,
   "metadata": {
    "colab": {
     "base_uri": "https://localhost:8080/",
     "height": 35
    },
    "colab_type": "code",
    "id": "6cyWFC0XqLD0",
    "outputId": "0fb3a036-fa40-49bc-ba9b-55964ced0168"
   },
   "outputs": [
    {
     "name": "stdout",
     "output_type": "stream",
     "text": [
      "events.out.tfevents.1547574487.4fb9a1ea9bac\r\n",
      "events.out.tfevents.1547574913.4fb9a1ea9bac\r\n"
     ]
    }
   ],
   "source": [
    "!ls linreg"
   ]
  },
  {
   "cell_type": "markdown",
   "metadata": {
    "colab_type": "text",
    "id": "uilwX07SqYdZ"
   },
   "source": [
    "#### Displaying the computational graph in TensorBord with colab\n",
    "\n",
    "If you are using colab, it's currently (november 2018), there is no straight forward way to show the graph in TensorBoard. However, there is the possibility to tunnel from colab to your local machine. See  https://www.dlology.com/blog/quick-guide-to-run-tensorboard-in-google-colab/ or https://stackoverflow.com/questions/47818822/can-i-use-tensorboard-with-google-colab. We will need to install some things, just run the next 3 cells."
   ]
  },
  {
   "cell_type": "code",
   "execution_count": null,
   "metadata": {
    "colab": {
     "base_uri": "https://localhost:8080/",
     "height": 243
    },
    "colab_type": "code",
    "id": "B2xS6LEKtOsJ",
    "outputId": "a36a4bcb-38d4-4dd0-829d-ca492d6e272b"
   },
   "outputs": [],
   "source": [
    "! wget https://bin.equinox.io/c/4VmDzA7iaHb/ngrok-stable-linux-amd64.zip\n",
    "! unzip ngrok-stable-linux-amd64.zip"
   ]
  },
  {
   "cell_type": "code",
   "execution_count": null,
   "metadata": {
    "colab": {},
    "colab_type": "code",
    "id": "HN3DkrjIqNO7"
   },
   "outputs": [],
   "source": [
    "# Start Tensor Board\n",
    "LOG_DIR = './linreg'\n",
    "get_ipython().system_raw(\n",
    "    'tensorboard --logdir {} --host 0.0.0.0 --port 6006 &'\n",
    "    .format(LOG_DIR)\n",
    ")"
   ]
  },
  {
   "cell_type": "markdown",
   "metadata": {
    "colab_type": "text",
    "id": "-ePv3-f8O7NP"
   },
   "source": [
    "Now you can click on the link below and a new window will open where you can see the computational graph in Tensorboard"
   ]
  },
  {
   "cell_type": "code",
   "execution_count": null,
   "metadata": {
    "colab": {
     "base_uri": "https://localhost:8080/",
     "height": 35
    },
    "colab_type": "code",
    "id": "FhTdQQr2tL6W",
    "outputId": "33e10e19-3474-4a31-8bf6-02d7ab615a23"
   },
   "outputs": [],
   "source": [
    "# Start the tunnel\n",
    "get_ipython().system_raw('./ngrok http 6006 &')\n",
    "\n",
    "# Tell the ip so that one can click on it\n",
    "! curl -s http://localhost:4040/api/tunnels | python3 -c \\\n",
    "    \"import sys, json; print(json.load(sys.stdin)['tunnels'][0]['public_url'])\""
   ]
  },
  {
   "cell_type": "markdown",
   "metadata": {
    "colab_type": "text",
    "id": "nkS4XL2QtxJk"
   },
   "source": [
    "####Lets run the Graph and feed our start values for slope a and intercept b and fetch the mse loss\n"
   ]
  },
  {
   "cell_type": "code",
   "execution_count": 7,
   "metadata": {
    "colab": {
     "base_uri": "https://localhost:8080/",
     "height": 35
    },
    "colab_type": "code",
    "id": "91qRdJJkqNrY",
    "outputId": "5a1ea5bb-ef53-4253-b571-1ca5bc63edb3"
   },
   "outputs": [
    {
     "name": "stdout",
     "output_type": "stream",
     "text": [
      "[673.4545]\n"
     ]
    }
   ],
   "source": [
    "sess = tf.Session()                            # Starts a session and grabs memory and other resources\n",
    "res_val = sess.run([loss_,], {a_:0,b_:139})    # Letting the variables a=0 b=139 flow through the graph\n",
    "print(res_val)\n",
    "sess.close()                                   # Don't forget to close the session"
   ]
  },
  {
   "cell_type": "markdown",
   "metadata": {
    "colab_type": "text",
    "id": "RmVO643pRWzM"
   },
   "source": [
    "Now we add an optimizer (gradient descent) to the graph and opimize the slope a and the intercept b. The start values are a=0 and b=139 (139 is the mean of the blood pressure and slope a=0 implies that the model predicts the mean for each age). Our learning rate is 0.0004 and we do 80000 updatesteps."
   ]
  },
  {
   "cell_type": "code",
   "execution_count": 8,
   "metadata": {},
   "outputs": [
    {
     "name": "stdout",
     "output_type": "stream",
     "text": [
      "0.22123638 138.99971 673.4545\n",
      "0.47009143 120.60784 469.57272\n",
      "0.6975813 108.807014 398.76877\n",
      "0.8435634 101.23433 369.61255\n",
      "0.9372412 96.37488 357.6062\n",
      "0.99735403 93.256584 352.66214\n",
      "1.0359306 91.25547 350.62622\n",
      "1.0606831 89.97145 349.78793\n",
      "1.0765644 89.14761 349.4427\n",
      "1.0867523 88.61913 349.30048\n",
      "1.0932869 88.28015 349.242\n",
      "1.0975146 88.060844 349.21765\n",
      "1.1001551 87.923874 349.20798\n",
      "1.1018678 87.83504 349.20377\n",
      "1.1029379 87.77952 349.20218\n",
      "1.1036732 87.74137 349.20145\n"
     ]
    }
   ],
   "source": [
    "# See Listing 3.5\n",
    "train_op_ = tf.train.GradientDescentOptimizer(learning_rate=0.0004).minimize(loss_) #A\n",
    "with tf.Session() as sess: # B\n",
    "    sess.run(tf.global_variables_initializer()) # C\n",
    "    for i in range(80000): # D\n",
    "      _, mse, a_val, b_val = sess.run([train_op_, loss_, a_, b_]) # E\n",
    "      if (i % 5000 == 0): # F\n",
    "        print(a_val, b_val, mse)"
   ]
  },
  {
   "cell_type": "markdown",
   "metadata": {
    "colab_type": "text",
    "id": "IZgcbnOFVRxs"
   },
   "source": [
    "Lets look at the final values for the slope a and the intercept b. We know form the closed formula solution that:\n",
    "\n",
    "1.   optimal value for a:   1.1050216\n",
    "2.   optimal value for b:   87.67143\n",
    "3.   minimal loss:         349.200787168560\n",
    "\n",
    "After 80000 update steps we are very close to the optimal values\n"
   ]
  },
  {
   "cell_type": "code",
   "execution_count": 9,
   "metadata": {
    "colab": {
     "base_uri": "https://localhost:8080/",
     "height": 35
    },
    "colab_type": "code",
    "id": "ElBejUYn0u7Q",
    "outputId": "ed823d48-ad6a-4925-bf3c-2cd97369a674"
   },
   "outputs": [
    {
     "ename": "NameError",
     "evalue": "name 'loss_val' is not defined",
     "output_type": "error",
     "traceback": [
      "\u001b[0;31m---------------------------------------------------------------------------\u001b[0m",
      "\u001b[0;31mNameError\u001b[0m                                 Traceback (most recent call last)",
      "\u001b[0;32m<ipython-input-9-9885e817fbd2>\u001b[0m in \u001b[0;36m<module>\u001b[0;34m()\u001b[0m\n\u001b[0;32m----> 1\u001b[0;31m \u001b[0mprint\u001b[0m\u001b[0;34m(\u001b[0m\u001b[0ma_val\u001b[0m\u001b[0;34m,\u001b[0m \u001b[0mb_val\u001b[0m\u001b[0;34m,\u001b[0m \u001b[0mloss_val\u001b[0m\u001b[0;34m)\u001b[0m\u001b[0;34m\u001b[0m\u001b[0m\n\u001b[0m",
      "\u001b[0;31mNameError\u001b[0m: name 'loss_val' is not defined"
     ]
    }
   ],
   "source": [
    " print(a_val, b_val, loss_val)\n"
   ]
  },
  {
   "cell_type": "code",
   "execution_count": null,
   "metadata": {},
   "outputs": [],
   "source": []
  }
 ],
 "metadata": {
  "colab": {
   "collapsed_sections": [],
   "name": "nb_03.ipynb",
   "provenance": [],
   "version": "0.3.2"
  },
  "kernelspec": {
   "display_name": "Python 3",
   "language": "python",
   "name": "python3"
  },
  "language_info": {
   "codemirror_mode": {
    "name": "ipython",
    "version": 3
   },
   "file_extension": ".py",
   "mimetype": "text/x-python",
   "name": "python",
   "nbconvert_exporter": "python",
   "pygments_lexer": "ipython3",
   "version": "3.5.2"
  }
 },
 "nbformat": 4,
 "nbformat_minor": 1
}
