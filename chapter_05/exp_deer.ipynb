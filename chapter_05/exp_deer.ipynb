{
 "cells": [
  {
   "cell_type": "markdown",
   "metadata": {},
   "source": [
    "### Count regression\n",
    "\n",
    "This notebook demonstrates the use of TFP for regression on count data. The dataset is the number of fish caught in a state park. \n",
    "\n",
    "* Poisson Regression\n",
    "* Zero Infated Poisson Regression\n",
    "\n",
    "#### Results from the paper"
   ]
  },
  {
   "cell_type": "code",
   "execution_count": 2,
   "metadata": {},
   "outputs": [
    {
     "data": {
      "text/plain": [
       "(-1.9176013127853881, -1.6621860730593607, -1.659931506849315)"
      ]
     },
     "execution_count": 2,
     "metadata": {},
     "output_type": "execute_result"
    }
   ],
   "source": [
    "nt = 35040\n",
    "-67192.75 / nt, -58243/nt, -58164/nt #Poisson, NB, Count Trafo"
   ]
  },
  {
   "cell_type": "code",
   "execution_count": 3,
   "metadata": {},
   "outputs": [
    {
     "name": "stdout",
     "output_type": "stream",
     "text": [
      "Tensorflow version:  2.0.0-alpha0  running in colab?:  False\n"
     ]
    }
   ],
   "source": [
    "import tensorflow as tf\n",
    "try: #If running in colab \n",
    "    import google.colab\n",
    "    IN_COLAB = True \n",
    "except:\n",
    "    IN_COLAB = False\n",
    "if (not tf.__version__.startswith('2')): #Checking if tf 2.0 is installed\n",
    "    if IN_COLAB: #If running in colab install tf 2.0\n",
    "        !pip install tensorflow==2.0.0-alpha0\n",
    "        !pip install pip install tfp-nightly==0.7.0-dev20190511\n",
    "    print('Please install tensorflow 2.0 to run this notebook')\n",
    "print('Tensorflow version: ',tf.__version__, ' running in colab?: ', IN_COLAB)"
   ]
  },
  {
   "cell_type": "code",
   "execution_count": 4,
   "metadata": {},
   "outputs": [
    {
     "name": "stdout",
     "output_type": "stream",
     "text": [
      "TFP Version 0.7.0-dev20190511\n",
      "TF  Version 2.0.0-alpha0\n"
     ]
    }
   ],
   "source": [
    "import matplotlib.pyplot as plt\n",
    "import numpy as np\n",
    "from sklearn.model_selection import train_test_split\n",
    "from sklearn.metrics import mean_absolute_error, mean_squared_error\n",
    "import seaborn as sns\n",
    "import tensorflow_probability as tfp\n",
    "\n",
    "sns.reset_defaults()\n",
    "#sns.set_style('whitegrid')\n",
    "sns.set_context(context='talk',font_scale=0.7)\n",
    "\n",
    "\n",
    "%matplotlib inline\n",
    "plt.style.use('default')\n",
    "\n",
    "tfd = tfp.distributions\n",
    "tfb = tfp.bijectors\n",
    "from tensorflow.keras.models import Model\n",
    "from tensorflow.keras.layers import Dense\n",
    "print(\"TFP Version\", tfp.__version__)\n",
    "print(\"TF  Version\",tf.__version__)\n",
    "np.random.seed(42)\n",
    "tf.random.set_seed(42)"
   ]
  },
  {
   "cell_type": "markdown",
   "metadata": {},
   "source": [
    "### Creating some count data\n",
    "\n",
    "This is just to demonstrate how to use TF distributions for a Poisson distribution, with given parameters. Below we learn the paramters. "
   ]
  },
  {
   "cell_type": "code",
   "execution_count": 5,
   "metadata": {},
   "outputs": [
    {
     "name": "stdout",
     "output_type": "stream",
     "text": [
      "2.0\n",
      "1.4142135\n"
     ]
    },
    {
     "data": {
      "image/png": "[encoded data removed]",
      "text/plain": [
       "<Figure size 432x288 with 1 Axes>"
      ]
     },
     "metadata": {
      "needs_background": "light"
     },
     "output_type": "display_data"
    }
   ],
   "source": [
    "# 10          20       30        40       50         55\n",
    "#123456789012345678901234567890123456789012345678901234\n",
    "dist = tfd.poisson.Poisson(rate = 2) #A\n",
    "vals = np.linspace(0,10,11) #B\n",
    "p = dist.prob(vals) #C\n",
    "print(dist.mean().numpy())  #D\n",
    "print(dist.stddev().numpy())   #E\n",
    "plt.xticks(vals)\n",
    "plt.stem(vals, p)\n",
    "plt.xlabel('Number of Events')\n",
    "plt.ylabel('Probability')\n",
    "plt.savefig('ch05_rain.pdf')\n",
    "\n",
    "#A Poisson distribution with parameter rate 2\n",
    "#B some values for the x-axis in figure 5.rain\n",
    "#C the probability for the values\n",
    "#D the mean value yielding 2.0\n",
    "#E the standard deviation yielding sqrt(2.0) = 1.41..."
   ]
  },
  {
   "cell_type": "markdown",
   "metadata": {},
   "source": [
    "## Loading some count data\n",
    "\n",
    "We use some traditional count data from: https://stats.idre.ucla.edu/r/dae/zip/. The number fish caught during a state park visit."
   ]
  },
  {
   "cell_type": "code",
   "execution_count": 6,
   "metadata": {},
   "outputs": [],
   "source": [
    "# Alternative version\n",
    "# dat = np.loadtxt('https://raw.githubusercontent.com/tensorchiefs/dl_book/master/data/nb_data.csv') \n",
    "# X = dat[...,0:3]\n",
    "# y = dat[...,4]\n",
    "# X_tr, X_te, y_tr, y_te = train_test_split(X, y, test_size=0.33, random_state=42)\n",
    "# X_tr.shape, y_tr.shape, X_te.shape, y_te.shape"
   ]
  },
  {
   "cell_type": "code",
   "execution_count": 7,
   "metadata": {},
   "outputs": [],
   "source": [
    "# The Fish Data Set\n",
    "# See example 2 from https://stats.idre.ucla.edu/r/dae/zip/ \n",
    "#\"nofish\",\"livebait\",\"camper\",\"persons\",\"child\",\"xb\",\"zg\",\"count\"\n",
    "#dat = np.loadtxt('../data/fish.csv', delimiter=',', skiprows=1)\n",
    "# dat = np.loadtxt('https://raw.githubusercontent.com/tensorchiefs/dl_book/master/data/fish.csv',delimiter=',', skiprows=1)\n",
    "# X = dat[...,1:5] #\"livebait\",\"camper\",\"persons\",\"child\n",
    "# y = dat[...,7]\n",
    "# X_tr, X_te, y_tr, y_te = train_test_split(X, y, test_size=0.33, random_state=42)\n",
    "# d = X_tr.shape[1]\n",
    "# X_tr.shape, y_tr.shape, X_te.shape, y_te.shape,dat.shape\n"
   ]
  },
  {
   "cell_type": "code",
   "execution_count": 8,
   "metadata": {},
   "outputs": [
    {
     "name": "stdout",
     "output_type": "stream",
     "text": [
      "265911.0 17520.0\n"
     ]
    },
    {
     "data": {
      "text/plain": [
       "(75744.0, 2610.0)"
      ]
     },
     "execution_count": 8,
     "metadata": {},
     "output_type": "execute_result"
    }
   ],
   "source": [
    "# The Deer Data Set\n",
    "dat = np.loadtxt('../../dl_book_playground/deerdata/deer_train.csv',delimiter=',', skiprows=1)\n",
    "X_tr = dat[:,-1:]\n",
    "y_tr = dat[:,-1]\n",
    "X_tr = dat[:,:-1]\n",
    "y_tr = dat[:,-1]\n",
    "print(np.sum(y_tr), np.sum(X_tr[:,0]))#265911,#17520\n",
    "\n",
    "\n",
    "dat = np.loadtxt('../../dl_book_playground/deerdata/deer_test.csv',delimiter=',', skiprows=1)\n",
    "X_te = dat[:,-1:]\n",
    "y_te = dat[:,-1]\n",
    "X_te = dat[:,:-1]\n",
    "y_te = dat[:,-1]\n",
    "np.sum(y_te),np.sum(X_te[:,12])#2610,#75744"
   ]
  },
  {
   "cell_type": "code",
   "execution_count": 9,
   "metadata": {},
   "outputs": [
    {
     "data": {
      "text/plain": [
       "((140256, 222), (140256,), (35040, 222), (35040,), (35040, 223))"
      ]
     },
     "execution_count": 9,
     "metadata": {},
     "output_type": "execute_result"
    }
   ],
   "source": [
    "d = X_tr.shape[1]\n",
    "X_tr.shape, y_tr.shape, X_te.shape, y_te.shape,dat.shape"
   ]
  },
  {
   "cell_type": "code",
   "execution_count": 138,
   "metadata": {},
   "outputs": [
    {
     "data": {
      "text/plain": [
       "38.0"
      ]
     },
     "execution_count": 138,
     "metadata": {},
     "output_type": "execute_result"
    },
    {
     "data": {
      "image/png": "[encoded data removed]",
      "text/plain": [
       "<Figure size 432x288 with 1 Axes>"
      ]
     },
     "metadata": {
      "needs_background": "light"
     },
     "output_type": "display_data"
    }
   ],
   "source": [
    "vals, counts = np.unique(y_tr, return_counts=True)\n",
    "plt.stem(vals, counts)\n",
    "plt.xlabel('Count: number of deers killed')\n",
    "plt.ylabel('Frequency')\n",
    "plt.xlim(-1,40)\n",
    "plt.savefig('ch05_school.pdf')\n",
    "np.max(y_tr)"
   ]
  },
  {
   "cell_type": "markdown",
   "metadata": {},
   "source": [
    "## 1 Doing linear regression\n",
    "\n",
    "In this section we do a standard linear regression."
   ]
  },
  {
   "cell_type": "code",
   "execution_count": 9,
   "metadata": {},
   "outputs": [],
   "source": [
    "model_lr = tf.keras.Sequential() #A\n",
    "model_lr.add(tf.keras.layers.Dense(1,input_dim=d, activation='linear')) #B \n",
    "model_lr.compile(loss='mean_squared_error',optimizer=tf.optimizers.Adam(learning_rate=0.01))"
   ]
  },
  {
   "cell_type": "code",
   "execution_count": 10,
   "metadata": {},
   "outputs": [
    {
     "name": "stdout",
     "output_type": "stream",
     "text": [
      "Train on 140256 samples, validate on 35040 samples\n",
      "Epoch 1/5\n",
      "140256/140256 [==============================] - 4s 32us/sample - loss: 6.0291 - val_loss: 7.4762\n",
      "Epoch 2/5\n",
      "140256/140256 [==============================] - 5s 34us/sample - loss: 5.8744 - val_loss: 7.4651\n",
      "Epoch 3/5\n",
      "140256/140256 [==============================] - 5s 34us/sample - loss: 5.8696 - val_loss: 7.3960\n",
      "Epoch 4/5\n",
      "140256/140256 [==============================] - 5s 33us/sample - loss: 5.8641 - val_loss: 7.4229\n",
      "Epoch 5/5\n",
      "140256/140256 [==============================] - 5s 32us/sample - loss: 5.8687 - val_loss: 7.4149\n"
     ]
    }
   ],
   "source": [
    "hist_lr = model_lr.fit(x=X_tr, y=y_tr, validation_data=(X_te, y_te), epochs=5, verbose=True);\n",
    "#hist_lr = model_lr.fit(x=X_tr, y=np.sqrt(y_tr), validation_data=(X_te, y_te), epochs=600, verbose=False);"
   ]
  },
  {
   "cell_type": "code",
   "execution_count": 11,
   "metadata": {},
   "outputs": [
    {
     "data": {
      "text/plain": [
       "5.901177778394696"
      ]
     },
     "execution_count": 11,
     "metadata": {},
     "output_type": "execute_result"
    },
    {
     "data": {
      "image/png": "[encoded data removed]",
      "text/plain": [
       "<Figure size 432x288 with 1 Axes>"
      ]
     },
     "metadata": {
      "needs_background": "light"
     },
     "output_type": "display_data"
    }
   ],
   "source": [
    "plt.plot(hist_lr.history['loss'])\n",
    "plt.plot(hist_lr.history['val_loss'])\n",
    "plt.legend(['loss', 'val_loss'])\n",
    "plt.ylabel('MSE')\n",
    "plt.xlabel('Epochs')\n",
    "np.mean(hist_lr.history['loss'])"
   ]
  },
  {
   "cell_type": "code",
   "execution_count": 15,
   "metadata": {},
   "outputs": [
    {
     "data": {
      "text/plain": [
       "(dtype('float64'), 117047.99999999988)"
      ]
     },
     "execution_count": 15,
     "metadata": {},
     "output_type": "execute_result"
    }
   ],
   "source": [
    "X_te.dtype, np.sum(X_te)"
   ]
  },
  {
   "cell_type": "code",
   "execution_count": 16,
   "metadata": {},
   "outputs": [],
   "source": [
    "y_hat_te = model_lr.predict(X_te)"
   ]
  },
  {
   "cell_type": "code",
   "execution_count": 21,
   "metadata": {},
   "outputs": [],
   "source": [
    "y_hat_te = y_hat_te[:,0]"
   ]
  },
  {
   "cell_type": "code",
   "execution_count": 23,
   "metadata": {},
   "outputs": [
    {
     "data": {
      "text/plain": [
       "(2.7230254501034823, 1.682203523947785)"
      ]
     },
     "execution_count": 23,
     "metadata": {},
     "output_type": "execute_result"
    }
   ],
   "source": [
    "#y_hat_te = model_lr.predict(X_te)\n",
    "np.sqrt(np.mean((y_hat_te - y_te)**2)),np.mean(np.abs(y_hat_te - y_te)) #(8.540011535073502, 6.001939873018208)\n",
    "#np.sqrt(np.mean((y_hat_te**2 - y_te)**2)),np.mean(np.abs(y_hat_te**2 - y_te)) #(8.540011535073502, 6.001939873018208)"
   ]
  },
  {
   "cell_type": "code",
   "execution_count": 11,
   "metadata": {},
   "outputs": [
    {
     "data": {
      "text/plain": [
       "Text(0, 0.5, 'Predicted ')"
      ]
     },
     "execution_count": 11,
     "metadata": {},
     "output_type": "execute_result"
    },
    {
     "data": {
      "image/png": "[encoded data removed]",
      "text/plain": [
       "<Figure size 432x288 with 1 Axes>"
      ]
     },
     "metadata": {
      "needs_background": "light"
     },
     "output_type": "display_data"
    }
   ],
   "source": [
    "plt.scatter(y_te, y_hat_te**2)\n",
    "plt.xlabel('True ')\n",
    "plt.ylabel('Predicted ')"
   ]
  },
  {
   "cell_type": "code",
   "execution_count": 30,
   "metadata": {},
   "outputs": [
    {
     "data": {
      "text/plain": [
       "2.436387828257325"
      ]
     },
     "execution_count": 30,
     "metadata": {},
     "output_type": "execute_result"
    }
   ],
   "source": [
    "y_hat_tr = model_lr.predict(X_tr) #Testset\n",
    "sigma_hat_2 = np.var(y_hat_tr.flatten() - y_tr) \n",
    "0.5*np.log(2 * np.pi * sigma_hat_2) + 0.5*np.mean((y_hat_te - y_te)**2)/sigma_hat_2"
   ]
  },
  {
   "cell_type": "markdown",
   "metadata": {},
   "source": [
    "## 2 Doing Poisson Regression"
   ]
  },
  {
   "cell_type": "markdown",
   "metadata": {},
   "source": [
    "#### Definition of the Model\n",
    "\n",
    "$$\n",
    "    Y \\thicksim \\tt{Pois}(exp(w^{T} \\cdot x + b))\n",
    "$$"
   ]
  },
  {
   "cell_type": "code",
   "execution_count": 17,
   "metadata": {},
   "outputs": [
    {
     "name": "stdout",
     "output_type": "stream",
     "text": [
      "Model: \"model_3\"\n",
      "_________________________________________________________________\n",
      "Layer (type)                 Output Shape              Param #   \n",
      "=================================================================\n",
      "input_4 (InputLayer)         [(None, 222)]             0         \n",
      "_________________________________________________________________\n",
      "dense_6 (Dense)              (None, 1)                 223       \n",
      "_________________________________________________________________\n",
      "distribution_lambda_3 (Distr ((None, 1), (None, 1))    0         \n",
      "=================================================================\n",
      "Total params: 223\n",
      "Trainable params: 223\n",
      "Non-trainable params: 0\n",
      "_________________________________________________________________\n"
     ]
    }
   ],
   "source": [
    "# 10          20       30        40       50         55\n",
    "#123456789012345678901234567890123456789012345678901234\n",
    "inputs = tf.keras.layers.Input(shape=(X_tr.shape[1],))  \n",
    "# h = tf.keras.layers.Dense(500, \n",
    "#          activation='relu')(inputs)\n",
    "# h = tf.keras.layers.Dropout(0.1)(h)\n",
    "# h = tf.keras.layers.Dense(100, \n",
    "#          activation='relu')(inputs)\n",
    "# h = tf.keras.layers.Dropout(0.3)(h)\n",
    "# h = tf.keras.layers.Dense(10, \n",
    "#          activation='relu')(inputs)\n",
    "rate = tf.keras.layers.Dense(1, \n",
    "         activation=tf.exp, #A\n",
    "         bias_initializer='zeros', \n",
    "         kernel_initializer='zeros')(inputs)\n",
    "\n",
    "p_y = tfp.layers.DistributionLambda(tfd.Poisson)(rate) #B \n",
    "\n",
    "model_p = Model(inputs=inputs, outputs=p_y) #C\n",
    "\n",
    "\n",
    "def negloglik(y_true, y_hat): #D\n",
    "  return -y_hat.log_prob(y_true)\n",
    "\n",
    "model_p.compile(tf.optimizers.Adam(learning_rate=0.001), \n",
    "                loss=negloglik)\n",
    "\n",
    "#A Definition of a single layer with one output\n",
    "#B We use exponential of the output to model the rate\n",
    "#C Glueing input and output together. Note that output is a tf.distribution\n",
    "#D Since the second argument is the output of the model it is a distribution. It's as simple as calling log_prob to calculate the NLL.\n",
    "\n",
    "model_p.summary()"
   ]
  },
  {
   "cell_type": "code",
   "execution_count": 18,
   "metadata": {},
   "outputs": [
    {
     "name": "stdout",
     "output_type": "stream",
     "text": [
      "Train on 140256 samples, validate on 35040 samples\n",
      "Epoch 1/50\n",
      "140256/140256 [==============================] - 6s 43us/sample - loss: 1.9508 - val_loss: 1.9902\n",
      "Epoch 2/50\n",
      "140256/140256 [==============================] - 5s 38us/sample - loss: 1.8143 - val_loss: 1.9498\n",
      "Epoch 3/50\n",
      "140256/140256 [==============================] - 6s 39us/sample - loss: 1.7941 - val_loss: 1.9346\n",
      "Epoch 4/50\n",
      "140256/140256 [==============================] - 5s 38us/sample - loss: 1.7866 - val_loss: 1.9302\n",
      "Epoch 5/50\n",
      "140256/140256 [==============================] - 5s 38us/sample - loss: 1.7828 - val_loss: 1.9279\n",
      "Epoch 6/50\n",
      "140256/140256 [==============================] - 5s 39us/sample - loss: 1.7808 - val_loss: 1.9242\n",
      "Epoch 7/50\n",
      "140256/140256 [==============================] - 6s 39us/sample - loss: 1.7799 - val_loss: 1.9245\n",
      "Epoch 8/50\n",
      "140256/140256 [==============================] - 5s 39us/sample - loss: 1.7790 - val_loss: 1.9282\n",
      "Epoch 9/50\n",
      "140256/140256 [==============================] - 5s 39us/sample - loss: 1.7787 - val_loss: 1.9221\n",
      "Epoch 10/50\n",
      "140256/140256 [==============================] - 5s 38us/sample - loss: 1.7783 - val_loss: 1.9248\n",
      "Epoch 11/50\n",
      "140256/140256 [==============================] - 5s 37us/sample - loss: 1.7785 - val_loss: 1.9226\n",
      "Epoch 12/50\n",
      "140256/140256 [==============================] - 5s 38us/sample - loss: 1.7781 - val_loss: 1.9240\n",
      "Epoch 13/50\n",
      "140256/140256 [==============================] - 6s 40us/sample - loss: 1.7783 - val_loss: 1.9230\n",
      "Epoch 14/50\n",
      "140256/140256 [==============================] - 6s 42us/sample - loss: 1.7780 - val_loss: 1.9236\n",
      "Epoch 15/50\n",
      "140256/140256 [==============================] - 5s 38us/sample - loss: 1.7782 - val_loss: 1.9208\n",
      "Epoch 16/50\n",
      "140256/140256 [==============================] - 5s 38us/sample - loss: 1.7778 - val_loss: 1.9216\n",
      "Epoch 17/50\n",
      "140256/140256 [==============================] - 5s 38us/sample - loss: 1.7778 - val_loss: 1.9250\n",
      "Epoch 18/50\n",
      "140256/140256 [==============================] - 5s 39us/sample - loss: 1.7779 - val_loss: 1.9231\n",
      "Epoch 19/50\n",
      "140256/140256 [==============================] - 6s 40us/sample - loss: 1.7780 - val_loss: 1.9219\n",
      "Epoch 20/50\n",
      "140256/140256 [==============================] - 6s 40us/sample - loss: 1.7779 - val_loss: 1.9207\n",
      "Epoch 21/50\n",
      "140256/140256 [==============================] - 5s 36us/sample - loss: 1.7777 - val_loss: 1.9228\n",
      "Epoch 22/50\n",
      "140256/140256 [==============================] - 5s 39us/sample - loss: 1.7776 - val_loss: 1.9210\n",
      "Epoch 23/50\n",
      "140256/140256 [==============================] - 6s 39us/sample - loss: 1.7778 - val_loss: 1.9205\n",
      "Epoch 24/50\n",
      "140256/140256 [==============================] - 5s 39us/sample - loss: 1.7777 - val_loss: 1.9202\n",
      "Epoch 25/50\n",
      "140256/140256 [==============================] - 6s 40us/sample - loss: 1.7777 - val_loss: 1.9219\n",
      "Epoch 26/50\n",
      "140256/140256 [==============================] - 5s 38us/sample - loss: 1.7778 - val_loss: 1.9220\n",
      "Epoch 27/50\n",
      "140256/140256 [==============================] - 5s 37us/sample - loss: 1.7777 - val_loss: 1.9216\n",
      "Epoch 28/50\n",
      "140256/140256 [==============================] - 5s 38us/sample - loss: 1.7777 - val_loss: 1.9203\n",
      "Epoch 29/50\n",
      "140256/140256 [==============================] - 6s 41us/sample - loss: 1.7775 - val_loss: 1.9208\n",
      "Epoch 30/50\n",
      "140256/140256 [==============================] - 6s 41us/sample - loss: 1.7775 - val_loss: 1.9205\n",
      "Epoch 31/50\n",
      "140256/140256 [==============================] - 6s 41us/sample - loss: 1.7773 - val_loss: 1.9256\n",
      "Epoch 32/50\n",
      "140256/140256 [==============================] - 6s 40us/sample - loss: 1.7777 - val_loss: 1.9219\n",
      "Epoch 33/50\n",
      "140256/140256 [==============================] - 6s 43us/sample - loss: 1.7776 - val_loss: 1.9228\n",
      "Epoch 34/50\n",
      "140256/140256 [==============================] - 6s 41us/sample - loss: 1.7778 - val_loss: 1.9252\n",
      "Epoch 35/50\n",
      "140256/140256 [==============================] - 5s 36us/sample - loss: 1.7777 - val_loss: 1.9191\n",
      "Epoch 36/50\n",
      "140256/140256 [==============================] - 5s 38us/sample - loss: 1.7777 - val_loss: 1.9228\n",
      "Epoch 37/50\n",
      "140256/140256 [==============================] - 5s 38us/sample - loss: 1.7777 - val_loss: 1.9217\n",
      "Epoch 38/50\n",
      "140256/140256 [==============================] - 6s 40us/sample - loss: 1.7774 - val_loss: 1.9225\n",
      "Epoch 39/50\n",
      "140256/140256 [==============================] - 6s 40us/sample - loss: 1.7774 - val_loss: 1.9221\n",
      "Epoch 40/50\n",
      "140256/140256 [==============================] - 5s 38us/sample - loss: 1.7775 - val_loss: 1.9217\n",
      "Epoch 41/50\n",
      "140256/140256 [==============================] - 6s 39us/sample - loss: 1.7773 - val_loss: 1.9220\n",
      "Epoch 42/50\n",
      "140256/140256 [==============================] - 5s 38us/sample - loss: 1.7772 - val_loss: 1.9229\n",
      "Epoch 43/50\n",
      "140256/140256 [==============================] - 5s 39us/sample - loss: 1.7772 - val_loss: 1.9229\n",
      "Epoch 44/50\n",
      "140256/140256 [==============================] - 6s 40us/sample - loss: 1.7774 - val_loss: 1.9210\n",
      "Epoch 45/50\n",
      "140256/140256 [==============================] - 6s 40us/sample - loss: 1.7770 - val_loss: 1.9225\n",
      "Epoch 46/50\n",
      "140256/140256 [==============================] - 6s 40us/sample - loss: 1.7775 - val_loss: 1.9222\n",
      "Epoch 47/50\n",
      "140256/140256 [==============================] - 5s 37us/sample - loss: 1.7776 - val_loss: 1.9237\n",
      "Epoch 48/50\n",
      "140256/140256 [==============================] - 5s 38us/sample - loss: 1.7775 - val_loss: 1.9202\n",
      "Epoch 49/50\n",
      "140256/140256 [==============================] - 5s 37us/sample - loss: 1.7773 - val_loss: 1.9222\n",
      "Epoch 50/50\n",
      "140256/140256 [==============================] - 6s 40us/sample - loss: 1.7774 - val_loss: 1.9223\n"
     ]
    }
   ],
   "source": [
    "hist_p = model_p.fit(x=X_tr, y=y_tr, validation_data=(X_te, y_te), epochs=50, verbose=True);"
   ]
  },
  {
   "cell_type": "code",
   "execution_count": 19,
   "metadata": {
    "scrolled": false
   },
   "outputs": [
    {
     "data": {
      "text/plain": [
       "1.9223715233775578"
      ]
     },
     "execution_count": 19,
     "metadata": {},
     "output_type": "execute_result"
    },
    {
     "data": {
      "image/png": "[encoded data removed]",
      "text/plain": [
       "<Figure size 432x288 with 1 Axes>"
      ]
     },
     "metadata": {
      "needs_background": "light"
     },
     "output_type": "display_data"
    }
   ],
   "source": [
    "plt.plot(hist_p.history['loss'])\n",
    "plt.plot(hist_p.history['val_loss'])\n",
    "plt.legend(['loss', 'val_loss'])\n",
    "plt.xlabel('Epochs')\n",
    "plt.ylabel('NLL')\n",
    "np.mean(hist_p.history['loss'])\n",
    "plt.ylim(0,2.5)\n",
    "np.mean(hist_p.history['val_loss'][-20:]) #Paper -1.91760131278"
   ]
  },
  {
   "cell_type": "code",
   "execution_count": 15,
   "metadata": {},
   "outputs": [
    {
     "data": {
      "text/plain": [
       "(9.662406, 4.595026)"
      ]
     },
     "execution_count": 15,
     "metadata": {},
     "output_type": "execute_result"
    }
   ],
   "source": [
    "model_pm = tf.keras.models.Model(inputs=inputs, outputs=p_y.mean()) \n",
    "y_hat_te = model_pm(X_te)\n",
    "np.sqrt(np.mean((y_hat_te - y_te)**2)),np.mean(np.abs(y_hat_te - y_te))"
   ]
  },
  {
   "cell_type": "code",
   "execution_count": 43,
   "metadata": {},
   "outputs": [
    {
     "data": {
      "text/plain": [
       "array([[1.00000000e+00, 0.00000000e+00, 0.00000000e+00, 0.00000000e+00,\n",
       "        0.00000000e+00, 0.00000000e+00, 0.00000000e+00, 0.00000000e+00,\n",
       "        1.00000000e+00, 0.00000000e+00, 0.00000000e+00, 0.00000000e+00,\n",
       "        0.00000000e+00, 0.00000000e+00, 0.00000000e+00, 0.00000000e+00,\n",
       "        0.00000000e+00, 0.00000000e+00, 0.00000000e+00, 0.00000000e+00,\n",
       "        1.00000000e+00, 0.00000000e+00, 0.00000000e+00, 0.00000000e+00,\n",
       "        0.00000000e+00, 0.00000000e+00, 0.00000000e+00, 0.00000000e+00,\n",
       "        0.00000000e+00, 0.00000000e+00, 0.00000000e+00, 0.00000000e+00,\n",
       "        0.00000000e+00, 0.00000000e+00, 0.00000000e+00, 0.00000000e+00,\n",
       "        0.00000000e+00, 0.00000000e+00, 0.00000000e+00, 0.00000000e+00,\n",
       "        0.00000000e+00, 0.00000000e+00, 0.00000000e+00, 0.00000000e+00,\n",
       "        0.00000000e+00, 0.00000000e+00, 0.00000000e+00, 0.00000000e+00,\n",
       "        0.00000000e+00, 0.00000000e+00, 0.00000000e+00, 0.00000000e+00,\n",
       "        0.00000000e+00, 0.00000000e+00, 0.00000000e+00, 0.00000000e+00,\n",
       "        1.00000000e+00, 0.00000000e+00, 0.00000000e+00, 0.00000000e+00,\n",
       "        0.00000000e+00, 0.00000000e+00, 0.00000000e+00, 0.00000000e+00,\n",
       "        3.58629291e-04, 0.00000000e+00, 0.00000000e+00, 0.00000000e+00,\n",
       "        0.00000000e+00, 0.00000000e+00, 0.00000000e+00, 0.00000000e+00,\n",
       "        9.99999936e-01, 0.00000000e+00, 0.00000000e+00, 0.00000000e+00,\n",
       "        0.00000000e+00, 0.00000000e+00, 0.00000000e+00, 0.00000000e+00,\n",
       "        7.17258535e-04, 0.00000000e+00, 0.00000000e+00, 0.00000000e+00,\n",
       "        0.00000000e+00, 0.00000000e+00, 0.00000000e+00, 0.00000000e+00,\n",
       "        9.99999743e-01, 0.00000000e+00, 0.00000000e+00, 0.00000000e+00,\n",
       "        0.00000000e+00, 0.00000000e+00, 0.00000000e+00, 0.00000000e+00,\n",
       "        1.07588769e-03, 0.00000000e+00, 0.00000000e+00, 0.00000000e+00,\n",
       "        0.00000000e+00, 0.00000000e+00, 0.00000000e+00, 0.00000000e+00,\n",
       "        9.99999421e-01, 0.00000000e+00, 0.00000000e+00, 0.00000000e+00,\n",
       "        0.00000000e+00, 0.00000000e+00, 0.00000000e+00, 0.00000000e+00,\n",
       "        1.43451670e-03, 0.00000000e+00, 0.00000000e+00, 0.00000000e+00,\n",
       "        0.00000000e+00, 0.00000000e+00, 0.00000000e+00, 0.00000000e+00,\n",
       "        9.99998971e-01, 0.00000000e+00, 0.00000000e+00, 0.00000000e+00,\n",
       "        0.00000000e+00, 0.00000000e+00, 0.00000000e+00, 0.00000000e+00,\n",
       "        1.79314553e-03, 0.00000000e+00, 0.00000000e+00, 0.00000000e+00,\n",
       "        0.00000000e+00, 0.00000000e+00, 0.00000000e+00, 0.00000000e+00,\n",
       "        9.99998392e-01, 0.00000000e+00, 0.00000000e+00, 0.00000000e+00,\n",
       "        0.00000000e+00, 0.00000000e+00, 0.00000000e+00, 0.00000000e+00,\n",
       "        2.15177413e-03, 0.00000000e+00, 0.00000000e+00, 0.00000000e+00,\n",
       "        0.00000000e+00, 0.00000000e+00, 0.00000000e+00, 0.00000000e+00,\n",
       "        9.99997685e-01, 0.00000000e+00, 0.00000000e+00, 0.00000000e+00,\n",
       "        0.00000000e+00, 0.00000000e+00, 0.00000000e+00, 0.00000000e+00,\n",
       "        2.51040245e-03, 0.00000000e+00, 0.00000000e+00, 0.00000000e+00,\n",
       "        0.00000000e+00, 0.00000000e+00, 0.00000000e+00, 0.00000000e+00,\n",
       "        9.99996849e-01, 0.00000000e+00, 0.00000000e+00, 0.00000000e+00,\n",
       "        0.00000000e+00, 0.00000000e+00, 0.00000000e+00, 0.00000000e+00,\n",
       "        2.86903045e-03, 0.00000000e+00, 0.00000000e+00, 0.00000000e+00,\n",
       "        0.00000000e+00, 0.00000000e+00, 0.00000000e+00, 0.00000000e+00,\n",
       "        9.99995884e-01, 0.00000000e+00, 0.00000000e+00, 0.00000000e+00,\n",
       "        0.00000000e+00, 0.00000000e+00, 0.00000000e+00, 0.00000000e+00,\n",
       "        3.22765808e-03, 0.00000000e+00, 0.00000000e+00, 0.00000000e+00,\n",
       "        0.00000000e+00, 0.00000000e+00, 0.00000000e+00, 0.00000000e+00,\n",
       "        9.99994791e-01, 0.00000000e+00, 0.00000000e+00, 0.00000000e+00,\n",
       "        0.00000000e+00, 0.00000000e+00, 0.00000000e+00, 0.00000000e+00,\n",
       "        3.58628530e-03, 0.00000000e+00, 0.00000000e+00, 0.00000000e+00,\n",
       "        0.00000000e+00, 0.00000000e+00, 0.00000000e+00, 0.00000000e+00,\n",
       "        9.99993569e-01, 0.00000000e+00, 0.00000000e+00, 0.00000000e+00,\n",
       "        0.00000000e+00, 0.00000000e+00, 0.00000000e+00],\n",
       "       [1.00000000e+00, 0.00000000e+00, 0.00000000e+00, 0.00000000e+00,\n",
       "        0.00000000e+00, 0.00000000e+00, 0.00000000e+00, 0.00000000e+00,\n",
       "        1.00000000e+00, 0.00000000e+00, 0.00000000e+00, 0.00000000e+00,\n",
       "        0.00000000e+00, 0.00000000e+00, 0.00000000e+00, 0.00000000e+00,\n",
       "        0.00000000e+00, 0.00000000e+00, 0.00000000e+00, 0.00000000e+00,\n",
       "        1.00000000e+00, 0.00000000e+00, 0.00000000e+00, 0.00000000e+00,\n",
       "        0.00000000e+00, 0.00000000e+00, 0.00000000e+00, 0.00000000e+00,\n",
       "        0.00000000e+00, 0.00000000e+00, 0.00000000e+00, 0.00000000e+00,\n",
       "        0.00000000e+00, 0.00000000e+00, 0.00000000e+00, 0.00000000e+00,\n",
       "        0.00000000e+00, 0.00000000e+00, 0.00000000e+00, 0.00000000e+00,\n",
       "        0.00000000e+00, 0.00000000e+00, 0.00000000e+00, 0.00000000e+00,\n",
       "        0.00000000e+00, 0.00000000e+00, 0.00000000e+00, 0.00000000e+00,\n",
       "        0.00000000e+00, 0.00000000e+00, 0.00000000e+00, 0.00000000e+00,\n",
       "        0.00000000e+00, 0.00000000e+00, 0.00000000e+00, 0.00000000e+00,\n",
       "        1.00000000e+00, 0.00000000e+00, 0.00000000e+00, 0.00000000e+00,\n",
       "        0.00000000e+00, 0.00000000e+00, 0.00000000e+00, 0.00000000e+00,\n",
       "        7.17258535e-04, 0.00000000e+00, 0.00000000e+00, 0.00000000e+00,\n",
       "        0.00000000e+00, 0.00000000e+00, 0.00000000e+00, 0.00000000e+00,\n",
       "        9.99999743e-01, 0.00000000e+00, 0.00000000e+00, 0.00000000e+00,\n",
       "        0.00000000e+00, 0.00000000e+00, 0.00000000e+00, 0.00000000e+00,\n",
       "        1.43451670e-03, 0.00000000e+00, 0.00000000e+00, 0.00000000e+00,\n",
       "        0.00000000e+00, 0.00000000e+00, 0.00000000e+00, 0.00000000e+00,\n",
       "        9.99998971e-01, 0.00000000e+00, 0.00000000e+00, 0.00000000e+00,\n",
       "        0.00000000e+00, 0.00000000e+00, 0.00000000e+00, 0.00000000e+00,\n",
       "        2.15177413e-03, 0.00000000e+00, 0.00000000e+00, 0.00000000e+00,\n",
       "        0.00000000e+00, 0.00000000e+00, 0.00000000e+00, 0.00000000e+00,\n",
       "        9.99997685e-01, 0.00000000e+00, 0.00000000e+00, 0.00000000e+00,\n",
       "        0.00000000e+00, 0.00000000e+00, 0.00000000e+00, 0.00000000e+00,\n",
       "        2.86903045e-03, 0.00000000e+00, 0.00000000e+00, 0.00000000e+00,\n",
       "        0.00000000e+00, 0.00000000e+00, 0.00000000e+00, 0.00000000e+00,\n",
       "        9.99995884e-01, 0.00000000e+00, 0.00000000e+00, 0.00000000e+00,\n",
       "        0.00000000e+00, 0.00000000e+00, 0.00000000e+00, 0.00000000e+00,\n",
       "        3.58628530e-03, 0.00000000e+00, 0.00000000e+00, 0.00000000e+00,\n",
       "        0.00000000e+00, 0.00000000e+00, 0.00000000e+00, 0.00000000e+00,\n",
       "        9.99993569e-01, 0.00000000e+00, 0.00000000e+00, 0.00000000e+00,\n",
       "        0.00000000e+00, 0.00000000e+00, 0.00000000e+00, 0.00000000e+00,\n",
       "        4.30353830e-03, 0.00000000e+00, 0.00000000e+00, 0.00000000e+00,\n",
       "        0.00000000e+00, 0.00000000e+00, 0.00000000e+00, 0.00000000e+00,\n",
       "        9.99990740e-01, 0.00000000e+00, 0.00000000e+00, 0.00000000e+00,\n",
       "        0.00000000e+00, 0.00000000e+00, 0.00000000e+00, 0.00000000e+00,\n",
       "        5.02078908e-03, 0.00000000e+00, 0.00000000e+00, 0.00000000e+00,\n",
       "        0.00000000e+00, 0.00000000e+00, 0.00000000e+00, 0.00000000e+00,\n",
       "        9.99987396e-01, 0.00000000e+00, 0.00000000e+00, 0.00000000e+00,\n",
       "        0.00000000e+00, 0.00000000e+00, 0.00000000e+00, 0.00000000e+00,\n",
       "        5.73803729e-03, 0.00000000e+00, 0.00000000e+00, 0.00000000e+00,\n",
       "        0.00000000e+00, 0.00000000e+00, 0.00000000e+00, 0.00000000e+00,\n",
       "        9.99983537e-01, 0.00000000e+00, 0.00000000e+00, 0.00000000e+00,\n",
       "        0.00000000e+00, 0.00000000e+00, 0.00000000e+00, 0.00000000e+00,\n",
       "        6.45528254e-03, 0.00000000e+00, 0.00000000e+00, 0.00000000e+00,\n",
       "        0.00000000e+00, 0.00000000e+00, 0.00000000e+00, 0.00000000e+00,\n",
       "        9.99979164e-01, 0.00000000e+00, 0.00000000e+00, 0.00000000e+00,\n",
       "        0.00000000e+00, 0.00000000e+00, 0.00000000e+00, 0.00000000e+00,\n",
       "        7.17252447e-03, 0.00000000e+00, 0.00000000e+00, 0.00000000e+00,\n",
       "        0.00000000e+00, 0.00000000e+00, 0.00000000e+00, 0.00000000e+00,\n",
       "        9.99974277e-01, 0.00000000e+00, 0.00000000e+00, 0.00000000e+00,\n",
       "        0.00000000e+00, 0.00000000e+00, 0.00000000e+00],\n",
       "       [1.00000000e+00, 0.00000000e+00, 0.00000000e+00, 0.00000000e+00,\n",
       "        0.00000000e+00, 0.00000000e+00, 0.00000000e+00, 0.00000000e+00,\n",
       "        1.00000000e+00, 0.00000000e+00, 0.00000000e+00, 0.00000000e+00,\n",
       "        0.00000000e+00, 0.00000000e+00, 0.00000000e+00, 0.00000000e+00,\n",
       "        0.00000000e+00, 0.00000000e+00, 0.00000000e+00, 0.00000000e+00,\n",
       "        1.00000000e+00, 0.00000000e+00, 0.00000000e+00, 0.00000000e+00,\n",
       "        0.00000000e+00, 0.00000000e+00, 0.00000000e+00, 0.00000000e+00,\n",
       "        0.00000000e+00, 0.00000000e+00, 0.00000000e+00, 0.00000000e+00,\n",
       "        0.00000000e+00, 0.00000000e+00, 0.00000000e+00, 0.00000000e+00,\n",
       "        0.00000000e+00, 0.00000000e+00, 0.00000000e+00, 0.00000000e+00,\n",
       "        0.00000000e+00, 0.00000000e+00, 0.00000000e+00, 0.00000000e+00,\n",
       "        0.00000000e+00, 0.00000000e+00, 0.00000000e+00, 0.00000000e+00,\n",
       "        0.00000000e+00, 0.00000000e+00, 0.00000000e+00, 0.00000000e+00,\n",
       "        0.00000000e+00, 0.00000000e+00, 0.00000000e+00, 0.00000000e+00,\n",
       "        1.00000000e+00, 0.00000000e+00, 0.00000000e+00, 0.00000000e+00,\n",
       "        0.00000000e+00, 0.00000000e+00, 0.00000000e+00, 0.00000000e+00,\n",
       "        1.07588769e-03, 0.00000000e+00, 0.00000000e+00, 0.00000000e+00,\n",
       "        0.00000000e+00, 0.00000000e+00, 0.00000000e+00, 0.00000000e+00,\n",
       "        9.99999421e-01, 0.00000000e+00, 0.00000000e+00, 0.00000000e+00,\n",
       "        0.00000000e+00, 0.00000000e+00, 0.00000000e+00, 0.00000000e+00,\n",
       "        2.15177413e-03, 0.00000000e+00, 0.00000000e+00, 0.00000000e+00,\n",
       "        0.00000000e+00, 0.00000000e+00, 0.00000000e+00, 0.00000000e+00,\n",
       "        9.99997685e-01, 0.00000000e+00, 0.00000000e+00, 0.00000000e+00,\n",
       "        0.00000000e+00, 0.00000000e+00, 0.00000000e+00, 0.00000000e+00,\n",
       "        3.22765808e-03, 0.00000000e+00, 0.00000000e+00, 0.00000000e+00,\n",
       "        0.00000000e+00, 0.00000000e+00, 0.00000000e+00, 0.00000000e+00,\n",
       "        9.99994791e-01, 0.00000000e+00, 0.00000000e+00, 0.00000000e+00,\n",
       "        0.00000000e+00, 0.00000000e+00, 0.00000000e+00, 0.00000000e+00,\n",
       "        4.30353830e-03, 0.00000000e+00, 0.00000000e+00, 0.00000000e+00,\n",
       "        0.00000000e+00, 0.00000000e+00, 0.00000000e+00, 0.00000000e+00,\n",
       "        9.99990740e-01, 0.00000000e+00, 0.00000000e+00, 0.00000000e+00,\n",
       "        0.00000000e+00, 0.00000000e+00, 0.00000000e+00, 0.00000000e+00,\n",
       "        5.37941353e-03, 0.00000000e+00, 0.00000000e+00, 0.00000000e+00,\n",
       "        0.00000000e+00, 0.00000000e+00, 0.00000000e+00, 0.00000000e+00,\n",
       "        9.99985531e-01, 0.00000000e+00, 0.00000000e+00, 0.00000000e+00,\n",
       "        0.00000000e+00, 0.00000000e+00, 0.00000000e+00, 0.00000000e+00,\n",
       "        6.45528254e-03, 0.00000000e+00, 0.00000000e+00, 0.00000000e+00,\n",
       "        0.00000000e+00, 0.00000000e+00, 0.00000000e+00, 0.00000000e+00,\n",
       "        9.99979164e-01, 0.00000000e+00, 0.00000000e+00, 0.00000000e+00,\n",
       "        0.00000000e+00, 0.00000000e+00, 0.00000000e+00, 0.00000000e+00,\n",
       "        7.53114407e-03, 0.00000000e+00, 0.00000000e+00, 0.00000000e+00,\n",
       "        0.00000000e+00, 0.00000000e+00, 0.00000000e+00, 0.00000000e+00,\n",
       "        9.99971641e-01, 0.00000000e+00, 0.00000000e+00, 0.00000000e+00,\n",
       "        0.00000000e+00, 0.00000000e+00, 0.00000000e+00, 0.00000000e+00,\n",
       "        8.60699689e-03, 0.00000000e+00, 0.00000000e+00, 0.00000000e+00,\n",
       "        0.00000000e+00, 0.00000000e+00, 0.00000000e+00, 0.00000000e+00,\n",
       "        9.99962959e-01, 0.00000000e+00, 0.00000000e+00, 0.00000000e+00,\n",
       "        0.00000000e+00, 0.00000000e+00, 0.00000000e+00, 0.00000000e+00,\n",
       "        9.68283974e-03, 0.00000000e+00, 0.00000000e+00, 0.00000000e+00,\n",
       "        0.00000000e+00, 0.00000000e+00, 0.00000000e+00, 0.00000000e+00,\n",
       "        9.99953120e-01, 0.00000000e+00, 0.00000000e+00, 0.00000000e+00,\n",
       "        0.00000000e+00, 0.00000000e+00, 0.00000000e+00, 0.00000000e+00,\n",
       "        1.07586714e-02, 0.00000000e+00, 0.00000000e+00, 0.00000000e+00,\n",
       "        0.00000000e+00, 0.00000000e+00, 0.00000000e+00, 0.00000000e+00,\n",
       "        9.99942124e-01, 0.00000000e+00, 0.00000000e+00, 0.00000000e+00,\n",
       "        0.00000000e+00, 0.00000000e+00, 0.00000000e+00]])"
      ]
     },
     "execution_count": 43,
     "metadata": {},
     "output_type": "execute_result"
    }
   ],
   "source": [
    "# First build the model matrix, appending an intercept term\n",
    "d = np.shape(X_tr)[1]\n",
    "Xm = np.ones((np.shape(X_tr)[0],d+1))\n",
    "Xm[:,1:d+1] = X_tr"
   ]
  },
  {
   "cell_type": "code",
   "execution_count": 47,
   "metadata": {},
   "outputs": [],
   "source": [
    "d = np.shape(X_te)[1]\n",
    "X_te_in = np.ones((np.shape(X_te)[0],d+1))\n",
    "X_te_in[:,1:d+1] = X_te"
   ]
  },
  {
   "cell_type": "code",
   "execution_count": 49,
   "metadata": {},
   "outputs": [],
   "source": [
    "fit = tfp.glm.fit(\n",
    "    model_matrix=Xm,\n",
    "    response=y_tr,\n",
    "    model=tfp.glm.Poisson()\n",
    ")"
   ]
  },
  {
   "cell_type": "markdown",
   "metadata": {},
   "source": [
    "$$\n",
    "\\lambda = exp(X \\cdot \\hat \\beta)\n",
    "$$"
   ]
  },
  {
   "cell_type": "code",
   "execution_count": 84,
   "metadata": {},
   "outputs": [],
   "source": [
    "d = np.matmul(X_te_in,fit[0])\n",
    "lam = np.exp(d)"
   ]
  },
  {
   "cell_type": "code",
   "execution_count": 85,
   "metadata": {},
   "outputs": [],
   "source": [
    "dd = tfd.Poisson(lam).log_prob(y_te).numpy()"
   ]
  },
  {
   "cell_type": "code",
   "execution_count": 91,
   "metadata": {},
   "outputs": [
    {
     "data": {
      "text/plain": [
       "2.0509087961251282e-07"
      ]
     },
     "execution_count": 91,
     "metadata": {},
     "output_type": "execute_result"
    }
   ],
   "source": [
    "np.mean(dd) - -1.917601 #-1.917601 according to R"
   ]
  },
  {
   "cell_type": "code",
   "execution_count": 16,
   "metadata": {},
   "outputs": [
    {
     "name": "stdout",
     "output_type": "stream",
     "text": [
      "Training Set 2.3400428 59\n",
      "Validation Set 5.050113 36\n"
     ]
    },
    {
     "data": {
      "image/png": "[encoded data removed]",
      "text/plain": [
       "<Figure size 432x432 with 1 Axes>"
      ]
     },
     "metadata": {
      "needs_background": "light"
     },
     "output_type": "display_data"
    }
   ],
   "source": [
    "plt.figure(figsize=(6,6))\n",
    "plt.xlim(-0.1,5)\n",
    "plt.ylim(-0.1,5)\n",
    "y_hat_tr = model_pm(X_tr)\n",
    "plt.scatter(y_hat_te, np.random.normal(loc=y_te,scale=0.2), alpha=0.7)\n",
    "plt.xlabel('Counts: predicted by Poisson')\n",
    "plt.ylabel('Counts: true')\n",
    "plt.savefig('ch05_pois.pdf')\n",
    "print('Training Set', np.mean(np.square(y_hat_tr[y_tr == 0])),np.sum(y_hat_tr[y_tr == 0]>0.5))\n",
    "print('Validation Set', np.mean(np.square(y_hat_te[y_te == 0])),np.sum(y_hat_te[y_te == 0]>0.5))"
   ]
  },
  {
   "cell_type": "markdown",
   "metadata": {},
   "source": [
    "## 3 Using zero inflated Poisson Regression\n",
    "\n",
    "We define a network with two outputs. One for the poisson mean, one for the prob that there is a zero. \n",
    "\n",
    "First, we define a function which produces the zero inflated poisson distribution. \n",
    "\n",
    "### Definition of the distribution"
   ]
  },
  {
   "cell_type": "code",
   "execution_count": 10,
   "metadata": {},
   "outputs": [],
   "source": [
    "# 10          20       30        40       50         55\n",
    "#123456789012345678901234567890123456789012345678901234\n",
    "# Listing 5.l_zi\n",
    "def zero_inf(out): \n",
    "    rate = tf.math.exp(out[:,0]) #A \n",
    "    #rate = tf.math.softplus(out[:,0]) #A \n",
    "    s = tf.math.sigmoid(out[:,1:]) #B  \n",
    "    probs = tf.concat([s, 1-s], axis=1) #C \n",
    "    print(np.min(rate), \" \", np.max(rate), \" \", np.min(s), np.max(s),\"  \",np.min(out[:,1:]), np.max(out[:,1:]))\n",
    "    return tfd.Mixture(\n",
    "          cat=tfd.Categorical(probs=probs),#D\n",
    "          components=[\n",
    "            tfd.Deterministic(loc=tf.zeros_like(rate)), #E\n",
    "            tfd.Poisson(rate=rate), #F \n",
    "        ])\n",
    "\n",
    "#A The first component codes for the rate. We use exponential to guaranty values >0.\n",
    "#B The second component codes for the zero inflation, using sigmoid squeezes the value between 0 and 1.\n",
    "#C The two probabilities for zeros or Poissonian  \n",
    "#D The tfd.Categorical allows to create a mixture of two components. \n",
    "#E Zero as a deterministic value \n",
    "#F Value drawn from a Poissonian"
   ]
  },
  {
   "cell_type": "code",
   "execution_count": 11,
   "metadata": {},
   "outputs": [
    {
     "name": "stderr",
     "output_type": "stream",
     "text": [
      "WARNING: Logging before flag parsing goes to stderr.\n",
      "W0705 09:07:26.471500 139916574320384 deprecation.py:323] From /usr/local/lib/python3.5/dist-packages/tensorflow_probability/python/distributions/mixture.py:154: Categorical.event_size (from tensorflow_probability.python.distributions.categorical) is deprecated and will be removed after 2019-05-19.\n",
      "Instructions for updating:\n",
      "The `event_size` property is deprecated.  Use `num_categories` instead.  They have the same value, but `event_size` is misnamed.\n"
     ]
    },
    {
     "name": "stdout",
     "output_type": "stream",
     "text": [
      "2.715565   2.7182817   0.7310586 0.9999546    1.0 10.0\n"
     ]
    },
    {
     "data": {
      "text/plain": [
       "<tf.Tensor: id=52, shape=(5,), dtype=float32, numpy=\n",
       "array([7.3105848e-01, 7.3105848e-01, 7.3105848e-01, 7.3105848e-01,\n",
       "       1.2333754e-04], dtype=float32)>"
      ]
     },
     "execution_count": 11,
     "metadata": {},
     "output_type": "execute_result"
    }
   ],
   "source": [
    "## testinging the distribution\n",
    "t = np.ones((5,2), dtype=np.float32)\n",
    "t[4,0]=0.999\n",
    "t[4,1]=10\n",
    "zero_inf(t).mean()"
   ]
  },
  {
   "cell_type": "markdown",
   "metadata": {},
   "source": [
    "### Definition of the model"
   ]
  },
  {
   "cell_type": "code",
   "execution_count": 13,
   "metadata": {},
   "outputs": [
    {
     "name": "stdout",
     "output_type": "stream",
     "text": [
      "Tensor(\"distribution_lambda_1/Exp:0\", shape=(None,), dtype=float32)   Tensor(\"distribution_lambda_1/Exp:0\", shape=(None,), dtype=float32)   Tensor(\"distribution_lambda_1/Sigmoid:0\", shape=(None, 1), dtype=float32) Tensor(\"distribution_lambda_1/Sigmoid:0\", shape=(None, 1), dtype=float32)    Tensor(\"distribution_lambda_1/strided_slice_2:0\", shape=(None, 1), dtype=float32) Tensor(\"distribution_lambda_1/strided_slice_3:0\", shape=(None, 1), dtype=float32)\n",
      "Model: \"model_1\"\n",
      "_________________________________________________________________\n",
      "Layer (type)                 Output Shape              Param #   \n",
      "=================================================================\n",
      "input_2 (InputLayer)         [(None, 222)]             0         \n",
      "_________________________________________________________________\n",
      "dense_4 (Dense)              (None, 500)               111500    \n",
      "_________________________________________________________________\n",
      "dropout_2 (Dropout)          (None, 500)               0         \n",
      "_________________________________________________________________\n",
      "dense_5 (Dense)              (None, 100)               50100     \n",
      "_________________________________________________________________\n",
      "dropout_3 (Dropout)          (None, 100)               0         \n",
      "_________________________________________________________________\n",
      "dense_6 (Dense)              (None, 10)                1010      \n",
      "_________________________________________________________________\n",
      "dense_7 (Dense)              (None, 2)                 22        \n",
      "_________________________________________________________________\n",
      "distribution_lambda_1 (Distr ((None,), (None,))        0         \n",
      "=================================================================\n",
      "Total params: 162,632\n",
      "Trainable params: 162,632\n",
      "Non-trainable params: 0\n",
      "_________________________________________________________________\n"
     ]
    }
   ],
   "source": [
    "## Definition of the model\n",
    "# 10          20       30        40       50         55\n",
    "#123456789012345678901234567890123456789012345678901234\n",
    "## Definition of the custom parametrized distribution\n",
    "from tensorflow.keras.regularizers import l2\n",
    "inputs = tf.keras.layers.Input(shape=(X_tr.shape[1],))  \n",
    "h = tf.keras.layers.Dense(500, activation='relu')(inputs)\n",
    "h = tf.keras.layers.Dropout(0.1)(h)\n",
    "h = tf.keras.layers.Dense(100, activation='relu')(h)\n",
    "h = tf.keras.layers.Dropout(0.3)(h)\n",
    "h = tf.keras.layers.Dense(10, activation='relu')(h)\n",
    "\n",
    "\n",
    "out = Dense(2,  #A\n",
    "            kernel_regularizer=l2(0.01), #B\n",
    "            bias_regularizer=l2(0.01))(h)#B\n",
    "\n",
    "p_y_zi = tfp.layers.DistributionLambda(zero_inf)(out)\n",
    "model_zi = Model(inputs=inputs, outputs=p_y_zi)\n",
    "\n",
    "#A A dense layer is used without activation. The transformation is done in zero_inf listing 5.l_zi \n",
    "#B Using a regularisation prevents the network from learning too large weights. Without regularisation, you run into numerical problems.\n",
    "model_zi.summary()"
   ]
  },
  {
   "cell_type": "markdown",
   "metadata": {},
   "source": [
    "### Training of the model (by hand) [optional]\n",
    "\n",
    "The following code trains the NN using a evaluation loop by hand. This help us to find instabilities, which we got rid off using regularisation. See also: https://www.tensorflow.org/beta/guide/keras/training_and_evaluation#part_ii_writing_your_own_training_evaluation_loops_from_scratch\n"
   ]
  },
  {
   "cell_type": "code",
   "execution_count": null,
   "metadata": {},
   "outputs": [
    {
     "name": "stdout",
     "output_type": "stream",
     "text": [
      "0.75575185   1.4359596   0.3998792 0.5813893    -0.40596858 0.32847917\n"
     ]
    }
   ],
   "source": [
    "optimizer=tf.optimizers.RMSprop(learning_rate=0.05)\n",
    "loss_values = np.zeros((1000))\n",
    "for e in range(10):\n",
    "    with tf.GradientTape() as tape:\n",
    "        y_hat = model_zi(X_tr)\n",
    "        loss_value = -tf.reduce_mean(y_hat.log_prob(y_tr))\n",
    "        loss_values[e] = loss_value\n",
    "        grads = tape.gradient(loss_value, model_zi.trainable_weights)\n",
    "        weights =  model_zi.trainable_weights       \n",
    "        optimizer.apply_gradients(zip(grads,weights))"
   ]
  },
  {
   "cell_type": "markdown",
   "metadata": {},
   "source": [
    "### Training using keras' build in training"
   ]
  },
  {
   "cell_type": "code",
   "execution_count": 14,
   "metadata": {},
   "outputs": [
    {
     "name": "stdout",
     "output_type": "stream",
     "text": [
      "Train on 140256 samples, validate on 35040 samples\n",
      "Epoch 1/30\n",
      "140256/140256 [==============================] - 17s 120us/sample - loss: 1.7653 - val_loss: 1.8607\n",
      "Epoch 2/30\n",
      "140256/140256 [==============================] - 16s 115us/sample - loss: 1.7100 - val_loss: 1.8313\n",
      "Epoch 3/30\n",
      "140256/140256 [==============================] - 16s 117us/sample - loss: 1.6993 - val_loss: 1.8201\n",
      "Epoch 4/30\n",
      "140256/140256 [==============================] - 16s 116us/sample - loss: 1.6893 - val_loss: 1.8508\n",
      "Epoch 5/30\n",
      "140256/140256 [==============================] - 16s 114us/sample - loss: 1.6824 - val_loss: 1.8299\n",
      "Epoch 6/30\n",
      "140256/140256 [==============================] - 16s 113us/sample - loss: 1.6753 - val_loss: 1.8304\n",
      "Epoch 7/30\n",
      "140256/140256 [==============================] - 17s 121us/sample - loss: 1.6716 - val_loss: 1.8305\n",
      "Epoch 8/30\n",
      "140256/140256 [==============================] - 17s 122us/sample - loss: 1.6683 - val_loss: 1.8421\n",
      "Epoch 9/30\n",
      "140256/140256 [==============================] - 16s 113us/sample - loss: 1.6643 - val_loss: 1.8429\n",
      "Epoch 10/30\n",
      "140256/140256 [==============================] - 16s 116us/sample - loss: 1.6604 - val_loss: 1.8403\n",
      "Epoch 11/30\n",
      "140256/140256 [==============================] - 16s 117us/sample - loss: 1.6569 - val_loss: 1.8417\n",
      "Epoch 12/30\n",
      "140256/140256 [==============================] - 15s 110us/sample - loss: 1.6539 - val_loss: 1.8407\n",
      "Epoch 13/30\n",
      "140256/140256 [==============================] - 16s 117us/sample - loss: 1.6517 - val_loss: 1.8478\n",
      "Epoch 14/30\n",
      "140256/140256 [==============================] - 16s 117us/sample - loss: 1.6496 - val_loss: 1.8470\n",
      "Epoch 15/30\n",
      "140256/140256 [==============================] - 16s 113us/sample - loss: 1.6447 - val_loss: 1.8483\n",
      "Epoch 16/30\n",
      "140256/140256 [==============================] - 16s 113us/sample - loss: 1.6433 - val_loss: 1.8548\n",
      "Epoch 17/30\n",
      "140256/140256 [==============================] - 16s 117us/sample - loss: 1.6410 - val_loss: 1.8441\n",
      "Epoch 18/30\n",
      "140256/140256 [==============================] - 17s 119us/sample - loss: 1.6393 - val_loss: 1.8491\n",
      "Epoch 19/30\n",
      "140256/140256 [==============================] - 17s 119us/sample - loss: 1.6376 - val_loss: 1.8550\n",
      "Epoch 20/30\n",
      "140256/140256 [==============================] - 17s 118us/sample - loss: 1.6362 - val_loss: 1.8574\n",
      "Epoch 21/30\n",
      "140256/140256 [==============================] - 18s 129us/sample - loss: 1.6332 - val_loss: 1.8479\n",
      "Epoch 22/30\n",
      "140256/140256 [==============================] - 18s 126us/sample - loss: 1.6318 - val_loss: 1.8588\n",
      "Epoch 23/30\n",
      "140256/140256 [==============================] - 17s 121us/sample - loss: 1.6302 - val_loss: 1.8528\n",
      "Epoch 24/30\n",
      "140256/140256 [==============================] - 17s 119us/sample - loss: 1.6284 - val_loss: 1.8599\n",
      "Epoch 25/30\n",
      "140256/140256 [==============================] - 19s 134us/sample - loss: 1.6283 - val_loss: 1.8506\n",
      "Epoch 26/30\n",
      "140256/140256 [==============================] - 17s 120us/sample - loss: 1.6249 - val_loss: 1.8675\n",
      "Epoch 27/30\n",
      "140256/140256 [==============================] - 16s 117us/sample - loss: 1.6247 - val_loss: 1.8587\n",
      "Epoch 28/30\n",
      "140256/140256 [==============================] - 17s 121us/sample - loss: 1.6231 - val_loss: 1.8597\n",
      "Epoch 29/30\n",
      "140256/140256 [==============================] - 16s 115us/sample - loss: 1.6226 - val_loss: 1.8690\n",
      "Epoch 30/30\n",
      "140256/140256 [==============================] - 17s 118us/sample - loss: 1.6198 - val_loss: 1.8750\n"
     ]
    }
   ],
   "source": [
    "def negloglik2(y_true, y_hat):\n",
    "    # return -tf.reduce_mean(y_hat.log_prob(y_true))\n",
    "    return -tf.reduce_mean(y_hat.log_prob(tf.reshape(y_true,(-1,))))\n",
    "\n",
    "model_zi.compile(optimizer=tf.optimizers.Adam(learning_rate=0.001), loss=negloglik2)\n",
    "hist_zi = model_zi.fit(x=X_tr, y=y_tr, validation_data=(X_te, y_te), epochs=30, verbose=True)#, callbacks=[tb]);"
   ]
  },
  {
   "cell_type": "code",
   "execution_count": 22,
   "metadata": {},
   "outputs": [
    {
     "data": {
      "text/plain": [
       "(1.8200529714697573, 1.8335629808926068)"
      ]
     },
     "execution_count": 22,
     "metadata": {},
     "output_type": "execute_result"
    },
    {
     "data": {
      "image/png": "[encoded data removed]",
      "text/plain": [
       "<Figure size 432x288 with 1 Axes>"
      ]
     },
     "metadata": {
      "needs_background": "light"
     },
     "output_type": "display_data"
    }
   ],
   "source": [
    "#plt.plot(hist_p.history['loss'],linestyle='-.')\n",
    "plt.plot(hist_zi.history['val_loss'])\n",
    "#plt.plot(hist_zi.history['loss'])\n",
    "plt.plot(hist_zi.history['loss'])\n",
    "plt.ylim(1.2,2.2)\n",
    "#plt.legend(['Poisson loss','Poisson val_loss','ZI loss','ZI val_loss'])\n",
    "plt.legend(['val_loss','loss'])\n",
    "plt.xlabel('Epochs')\n",
    "plt.ylabel('NLL')\n",
    "plt.savefig('ch05_flik.pdf')\n",
    "#np.mean(hist_p.history['val_loss'][-30:]) ,\n",
    "np.min(hist_zi.history['val_loss']) ,np.mean(hist_zi.history['val_loss'][1:8]) "
   ]
  },
  {
   "cell_type": "code",
   "execution_count": 23,
   "metadata": {},
   "outputs": [
    {
     "data": {
      "text/plain": [
       "(6.5221105, 3.2028117)"
      ]
     },
     "execution_count": 23,
     "metadata": {},
     "output_type": "execute_result"
    }
   ],
   "source": [
    "model_zi = tf.keras.models.Model(inputs=inputs, outputs=p_y_zi.mean())\n",
    "y_hat_te = model_zi(X_te)\n",
    "#mean_absolute_error(y_hat_te, y_te), mean_squared_error(y_hat_te, y_te)\n",
    "np.sqrt(np.mean((y_hat_te - y_te)**2)),np.mean(np.abs(y_hat_te - y_te))"
   ]
  },
  {
   "cell_type": "code",
   "execution_count": 24,
   "metadata": {},
   "outputs": [
    {
     "name": "stdout",
     "output_type": "stream",
     "text": [
      "Training Set 2.658582 61\n",
      "Validation Set 5.71879 38\n"
     ]
    },
    {
     "data": {
      "image/png": "[encoded data removed]",
      "text/plain": [
       "<Figure size 432x432 with 1 Axes>"
      ]
     },
     "metadata": {
      "needs_background": "light"
     },
     "output_type": "display_data"
    }
   ],
   "source": [
    "plt.figure(figsize=(6,6))\n",
    "plt.xlim(-1,5)\n",
    "plt.ylim(-1,5)\n",
    "y_hat_tr = model_zi(X_tr)\n",
    "\n",
    "plt.scatter(y_hat_te, np.random.normal(loc=y_te,scale=0.2), alpha=0.7)\n",
    "plt.xlabel('Counts: predicted by ZI (Training)')\n",
    "plt.ylabel('Counts: true')\n",
    "\n",
    "plt.savefig('ch05_zi.pdf')\n",
    "print('Training Set', np.mean(np.square(y_hat_tr[y_tr == 0])),np.sum(y_hat_tr[y_tr == 0]>0.5))\n",
    "print('Validation Set', np.mean(np.square(y_hat_te[y_te == 0])),np.sum(y_hat_te[y_te == 0]>0.5))"
   ]
  },
  {
   "cell_type": "code",
   "execution_count": 142,
   "metadata": {},
   "outputs": [],
   "source": [
    "# 10          20       30        40       50         55\n",
    "#123456789012345678901234567890123456789012345678901234\n",
    "#See https://www.tensorflow.org/probability/api_docs/python/tfp/distributions/QuantizedDistribution\n",
    "\n",
    "def mixture(out, num=3,debug=False): \n",
    "    loc, un_scale, logits = tf.split(out,\n",
    "                                     num_or_size_splits=num,\n",
    "                                     axis=-1)\n",
    "    scale = tf.nn.softplus(un_scale)\n",
    "    if (debug):\n",
    "        print('location', loc.numpy(),' scale ',scale.numpy(), 'logits ', logits.numpy(), ' ', tf.nn.softmax(logits).numpy())\n",
    "#     discretized_logistic_dist=tfd.TransformedDistribution(\n",
    "#         distribution=tfd.Logistic(loc=loc, scale=scale),\n",
    "#         bijector=tfb.AffineScalar(shift=-0.5))\n",
    "    \n",
    "    #print(\"mix_logi \", np.min(logits), \" \", np.max(logits), \" \", np.min(scale), np.max(scale),\"  \",np.min(loc), np.max(loc))\n",
    "    mixture_dist = tfd.MixtureSameFamily(\n",
    "        mixture_distribution=tfd.Categorical(probs=tf.nn.softmax(logits)), #logits will be normalized to one\n",
    "        components_distribution=tfd.Poisson(rate=scale))\n",
    "        components_distribution=tfd.Logistic(loc=loc, scale=scale))\n",
    "    \n",
    "    \n",
    "    return mixture_dist"
   ]
  },
  {
   "cell_type": "code",
   "execution_count": 169,
   "metadata": {},
   "outputs": [],
   "source": [
    "# 10          20       30        40       50         55\n",
    "#123456789012345678901234567890123456789012345678901234\n",
    "#See https://www.tensorflow.org/probability/api_docs/python/tfp/distributions/QuantizedDistribution\n",
    "def mixture_discrete(out, bits=6, num=3): \n",
    "    loc, un_scale, logits = tf.split(out,\n",
    "                                     num_or_size_splits=num,\n",
    "                                     axis=-1)\n",
    "    scale = 0.5 + tf.nn.softplus(un_scale)\n",
    "    discretized_logistic_dist = tfd.QuantizedDistribution(\n",
    "    distribution=tfd.TransformedDistribution(\n",
    "        #distribution=tfd.Poisson(rate=scale),\n",
    "        distribution=tfd.Logistic(loc=loc, scale=scale),\n",
    "        bijector=tfb.AffineScalar(shift=-0.5)),\n",
    "    low=0.,\n",
    "    #high=2**16 - 1.)\n",
    "    high=2**bits - 1.)\n",
    "    mixture_dist = tfd.MixtureSameFamily(\n",
    "        mixture_distribution=tfd.Categorical(logits=logits), #logits will be normalized to one\n",
    "        components_distribution=discretized_logistic_dist)\n",
    "    return mixture_dist"
   ]
  },
  {
   "cell_type": "code",
   "execution_count": 182,
   "metadata": {},
   "outputs": [
    {
     "name": "stdout",
     "output_type": "stream",
     "text": [
      "Model: \"model_31\"\n",
      "_________________________________________________________________\n",
      "Layer (type)                 Output Shape              Param #   \n",
      "=================================================================\n",
      "input_17 (InputLayer)        [(None, 222)]             0         \n",
      "_________________________________________________________________\n",
      "dense_56 (Dense)             (None, 500)               111500    \n",
      "_________________________________________________________________\n",
      "dropout_32 (Dropout)         (None, 500)               0         \n",
      "_________________________________________________________________\n",
      "dense_57 (Dense)             (None, 100)               50100     \n",
      "_________________________________________________________________\n",
      "dropout_33 (Dropout)         (None, 100)               0         \n",
      "_________________________________________________________________\n",
      "dense_58 (Dense)             (None, 6)                 606       \n",
      "_________________________________________________________________\n",
      "distribution_lambda_17 (Dist ((None,), (None,))        0         \n",
      "=================================================================\n",
      "Total params: 162,206\n",
      "Trainable params: 162,206\n",
      "Non-trainable params: 0\n",
      "_________________________________________________________________\n"
     ]
    }
   ],
   "source": [
    "from tensorflow.keras.regularizers import l2\n",
    "inputs = tf.keras.layers.Input(shape=(X_tr.shape[1],))  \n",
    "h = tf.keras.layers.Dense(500, activation='relu')(inputs)\n",
    "h = tf.keras.layers.Dropout(0.1)(h)\n",
    "h = tf.keras.layers.Dense(100, activation='relu')(h)\n",
    "h = tf.keras.layers.Dropout(0.3)(h)\n",
    "h = tf.keras.layers.Dense(6, activation='relu')(h)\n",
    "#tt = tf.concat([loc1, scales1, logits], axis=1)\n",
    "p_y = tfp.layers.DistributionLambda(mixture_discrete)(h) \n",
    "model = tf.keras.models.Model(inputs=inputs, outputs=p_y)\n",
    "#model_mean = tf.keras.models.Model(inputs=inputs, outputs=p_y.mean()) #For evaluation we need the mean\n",
    "model.compile(optimizer=tf.optimizers.Adam(0.001), loss=negloglik2)\n",
    "model.summary()"
   ]
  },
  {
   "cell_type": "code",
   "execution_count": 183,
   "metadata": {},
   "outputs": [
    {
     "name": "stdout",
     "output_type": "stream",
     "text": [
      "Train on 140256 samples, validate on 35040 samples\n",
      "Epoch 1/15\n",
      "140256/140256 [==============================] - 16s 112us/sample - loss: 1.6407 - val_loss: 1.7031\n",
      "Epoch 2/15\n",
      "140256/140256 [==============================] - 15s 108us/sample - loss: 1.6237 - val_loss: 1.6984\n",
      "Epoch 3/15\n",
      "140256/140256 [==============================] - 15s 110us/sample - loss: 1.6178 - val_loss: 1.6994\n",
      "Epoch 4/15\n",
      "140256/140256 [==============================] - 16s 112us/sample - loss: 1.6135 - val_loss: 1.7010\n",
      "Epoch 5/15\n",
      "140256/140256 [==============================] - 15s 109us/sample - loss: 1.6103 - val_loss: 1.6999\n",
      "Epoch 6/15\n",
      "140256/140256 [==============================] - 15s 109us/sample - loss: 1.6082 - val_loss: 1.6986\n",
      "Epoch 7/15\n",
      "140256/140256 [==============================] - 16s 111us/sample - loss: 1.6050 - val_loss: 1.7071\n",
      "Epoch 8/15\n",
      "140256/140256 [==============================] - 15s 108us/sample - loss: 1.6033 - val_loss: 1.7030\n",
      "Epoch 9/15\n",
      "140256/140256 [==============================] - 15s 105us/sample - loss: 1.6012 - val_loss: 1.7054\n",
      "Epoch 10/15\n",
      "140256/140256 [==============================] - 16s 112us/sample - loss: 1.5997 - val_loss: 1.7066\n",
      "Epoch 11/15\n",
      "140256/140256 [==============================] - 15s 110us/sample - loss: 1.5983 - val_loss: 1.7093\n",
      "Epoch 12/15\n",
      "140256/140256 [==============================] - 16s 114us/sample - loss: 1.5963 - val_loss: 1.7068\n",
      "Epoch 13/15\n",
      "140256/140256 [==============================] - 15s 110us/sample - loss: 1.5947 - val_loss: 1.7080\n",
      "Epoch 14/15\n",
      "140256/140256 [==============================] - 15s 110us/sample - loss: 1.5938 - val_loss: 1.7051\n",
      "Epoch 15/15\n",
      "140256/140256 [==============================] - 16s 115us/sample - loss: 1.5929 - val_loss: 1.7095\n"
     ]
    }
   ],
   "source": [
    "hist = model.fit(X_tr, y_tr, epochs=15, verbose=1, validation_data=(X_te, y_te))"
   ]
  },
  {
   "cell_type": "code",
   "execution_count": 172,
   "metadata": {},
   "outputs": [
    {
     "data": {
      "text/plain": [
       "1.6596534722871066"
      ]
     },
     "execution_count": 172,
     "metadata": {},
     "output_type": "execute_result"
    },
    {
     "data": {
      "image/png": "[encoded data removed]",
      "text/plain": [
       "<Figure size 432x288 with 1 Axes>"
      ]
     },
     "metadata": {
      "needs_background": "light"
     },
     "output_type": "display_data"
    }
   ],
   "source": [
    "plt.plot(hist.history['loss'])\n",
    "plt.plot(hist.history['val_loss'])\n",
    "plt.legend(['loss', 'val_loss'])\n",
    "plt.xlabel('Epochs')\n",
    "plt.ylabel('NLL')\n",
    "np.mean(hist.history['loss'])\n",
    "plt.ylim(1.5,1.7)\n",
    "np.mean(hist.history['val_loss'][-20:]) #Paper -1.91760131278"
   ]
  },
  {
   "cell_type": "code",
   "execution_count": 173,
   "metadata": {},
   "outputs": [],
   "source": [
    "model_tt = tf.keras.models.Model(inputs=inputs, outputs=h)"
   ]
  },
  {
   "cell_type": "code",
   "execution_count": 174,
   "metadata": {},
   "outputs": [],
   "source": [
    "idx = np.random.permutation(len(y_te))[1:10]"
   ]
  },
  {
   "cell_type": "code",
   "execution_count": 175,
   "metadata": {},
   "outputs": [
    {
     "data": {
      "text/plain": [
       "array([19071, 10341,  1886, 34908, 14226, 15724,  6523,  8489, 31671])"
      ]
     },
     "execution_count": 175,
     "metadata": {},
     "output_type": "execute_result"
    }
   ],
   "source": [
    "idx"
   ]
  },
  {
   "cell_type": "code",
   "execution_count": 176,
   "metadata": {},
   "outputs": [],
   "source": [
    "ttt = model_tt.predict(X_te[idx])"
   ]
  },
  {
   "cell_type": "code",
   "execution_count": 177,
   "metadata": {},
   "outputs": [
    {
     "data": {
      "text/plain": [
       "array([[14.084252  ,  0.95350003,  1.6812018 ],\n",
       "       [ 0.9605331 ,  1.0458815 ,  0.9831837 ],\n",
       "       [ 4.4329543 ,  1.1802963 ,  1.3234575 ],\n",
       "       [ 0.        ,  1.0306635 ,  1.151938  ],\n",
       "       [ 0.        ,  0.        ,  0.        ],\n",
       "       [ 0.        ,  0.        ,  0.        ],\n",
       "       [ 9.988787  ,  2.6767857 ,  3.7489762 ],\n",
       "       [15.006411  ,  2.201109  ,  4.494405  ],\n",
       "       [ 6.901525  ,  2.2869334 ,  2.9005778 ]], dtype=float32)"
      ]
     },
     "execution_count": 177,
     "metadata": {},
     "output_type": "execute_result"
    }
   ],
   "source": [
    "ttt[:,0:3] #locs"
   ]
  },
  {
   "cell_type": "code",
   "execution_count": 178,
   "metadata": {},
   "outputs": [
    {
     "data": {
      "text/plain": [
       "<tf.Tensor: id=5371819, shape=(9, 3), dtype=float32, numpy=\n",
       "array([[ 1.0458436 ,  2.5068715 , 15.436159  ],\n",
       "       [ 1.2940074 ,  1.0343745 ,  0.8167605 ],\n",
       "       [ 1.3377087 ,  1.3352058 ,  5.7360687 ],\n",
       "       [ 1.696017  ,  1.5103444 ,  0.70041347],\n",
       "       [ 0.6931472 ,  0.6931472 ,  0.6931472 ],\n",
       "       [ 0.6931472 ,  0.6931472 ,  0.6931472 ],\n",
       "       [ 3.1870227 ,  5.365259  , 15.348511  ],\n",
       "       [ 2.19981   ,  5.7864537 , 18.979471  ],\n",
       "       [ 2.968444  ,  3.7179193 ,  9.963851  ]], dtype=float32)>"
      ]
     },
     "execution_count": 178,
     "metadata": {},
     "output_type": "execute_result"
    }
   ],
   "source": [
    "tf.nn.softplus(ttt[:,3:6]) #scales"
   ]
  },
  {
   "cell_type": "code",
   "execution_count": 179,
   "metadata": {},
   "outputs": [
    {
     "data": {
      "text/plain": [
       "<tf.Tensor: id=5371822, shape=(9, 4), dtype=float32, numpy=\n",
       "array([[1.3347227e-03, 1.0969617e-03, 9.9083662e-01, 6.7316825e-03],\n",
       "       [3.2063237e-01, 3.4335688e-01, 1.8860191e-01, 1.4740887e-01],\n",
       "       [3.2992776e-02, 3.0145483e-02, 8.9524424e-01, 4.1617490e-02],\n",
       "       [4.2081079e-01, 2.9309013e-01, 2.0507786e-01, 8.1021301e-02],\n",
       "       [2.5000000e-01, 2.5000000e-01, 2.5000000e-01, 2.5000000e-01],\n",
       "       [2.5000000e-01, 2.5000000e-01, 2.5000000e-01, 2.5000000e-01],\n",
       "       [2.7351452e-03, 3.7166146e-03, 9.9284124e-01, 7.0698647e-04],\n",
       "       [1.1007785e-03, 2.1666465e-03, 9.9262708e-01, 4.1055288e-03],\n",
       "       [2.0443810e-02, 2.6732074e-02, 9.5162064e-01, 1.2035624e-03]],\n",
       "      dtype=float32)>"
      ]
     },
     "execution_count": 179,
     "metadata": {},
     "output_type": "execute_result"
    }
   ],
   "source": [
    "tf.nn.softmax(ttt[:,6:10]) #Ratios"
   ]
  },
  {
   "cell_type": "code",
   "execution_count": 180,
   "metadata": {},
   "outputs": [],
   "source": [
    "model2 = tf.keras.models.Model(inputs=inputs, outputs=p_y)"
   ]
  },
  {
   "cell_type": "code",
   "execution_count": 181,
   "metadata": {},
   "outputs": [
    {
     "data": {
      "text/plain": [
       "[<matplotlib.lines.Line2D at 0x7f3fdf2d61d0>]"
      ]
     },
     "execution_count": 181,
     "metadata": {},
     "output_type": "execute_result"
    },
    {
     "data": {
      "image/png": "[encoded data removed]",
      "text/plain": [
       "<Figure size 432x288 with 1 Axes>"
      ]
     },
     "metadata": {
      "needs_background": "light"
     },
     "output_type": "display_data"
    }
   ],
   "source": [
    "y_vals = np.linspace(-2,10)\n",
    "py_vals = model2(X_te[23123:23124]).prob(y_vals)\n",
    "plt.plot(y_vals, py_vals)"
   ]
  },
  {
   "cell_type": "code",
   "execution_count": null,
   "metadata": {},
   "outputs": [],
   "source": []
  }
 ],
 "metadata": {
  "kernelspec": {
   "display_name": "Python 3",
   "language": "python",
   "name": "python3"
  },
  "language_info": {
   "codemirror_mode": {
    "name": "ipython",
    "version": 3
   },
   "file_extension": ".py",
   "mimetype": "text/x-python",
   "name": "python",
   "nbconvert_exporter": "python",
   "pygments_lexer": "ipython3",
   "version": "3.5.2"
  }
 },
 "nbformat": 4,
 "nbformat_minor": 2
}
