{
  "nbformat": 4,
  "nbformat_minor": 0,
  "metadata": {
    "kernelspec": {
      "display_name": "Python 3",
      "language": "python",
      "name": "python3"
    },
    "language_info": {
      "codemirror_mode": {
        "name": "ipython",
        "version": 3
      },
      "file_extension": ".py",
      "mimetype": "text/x-python",
      "name": "python",
      "nbconvert_exporter": "python",
      "pygments_lexer": "ipython3",
      "version": "3.5.2"
    },
    "colab": {
      "name": "nb_ch05_creg.ipynb",
      "version": "0.3.2",
      "provenance": [],
      "toc_visible": true
    }
  },
  "cells": [
    {
      "cell_type": "markdown",
      "metadata": {
        "id": "J33av_vA1Y3m",
        "colab_type": "text"
      },
      "source": [
        "# Modelling count data with Tensoflow Probability\n",
        "\n",
        "**Goal:** In this notebook you will again work with TFP. You will set up regression models that are able to output a poissonian conditional probability distribution. You will define different models with Keras, sklearn and the Tensorflow probability framework and optimize the negative log likelihood (NLL). You will model the conditional probability distribution as a Poisson distribution.\n",
        "You compare the performace of the Poisson regression vs. the linear regression on a test dataset. Finally, you will extend the Poisson Distribution to the zero-inflated Poisson distribution and compare the NLL of all models.\n",
        "\n",
        "**Usage:** The idea of the notebook is that you try to understand the provided code by running it, checking the output and playing with it by slightly changing the code and rerunning it.\n",
        "\n",
        "**Dataset:** \n",
        "You work with a dataset form https://stats.idre.ucla.edu/r/dae/zip/. The dataset contains data on 250 groups that went to a park. Each group was questioned about how many fish they caught (count), how many children were in the group (child), how many people were in the group (persons), if they used a live bait  and whether or not they brought a camper to the park (camper).\n",
        "You split the data into train and test dataset.\n",
        "\n",
        "**Content:**\n",
        "* Work with a Poisson distribution in TFP\n",
        "* Load and split the dataset \n",
        "* Fit a linear regression model sklearn and compute the minimal NLL with the optimal $\\sigma$\n",
        "* Fit a linear regression model keras and compute the minimal NLL with the optimal $\\sigma$\n",
        "* Fit a poisson regression model with keras and TFP\n",
        "* Fit a zero-inflated poisson regression model with keras and TFP \n",
        "* Compare the different models based on the NLL loss on the test dataset\n",
        "\n",
        "| [open in colab](https://colab.research.google.com/github/tensorchiefs/dl_book/blob/master/chapter_05/nb_ch05_02.ipynb)\n"
      ]
    },
    {
      "cell_type": "code",
      "metadata": {
        "id": "Fv5u8wSX1Y3p",
        "colab_type": "code",
        "colab": {
          "base_uri": "https://localhost:8080/",
          "height": 35
        },
        "outputId": "15d60d99-3f03-4e09-991b-597a2e233203"
      },
      "source": [
        "import tensorflow as tf\n",
        "try: #If running in colab \n",
        "    import google.colab\n",
        "    IN_COLAB = True \n",
        "except:\n",
        "    IN_COLAB = False\n",
        "if (not tf.__version__.startswith('2')): #Checking if tf 2.0 is installed\n",
        "    if IN_COLAB: #If running in colab install tf 2.0\n",
        "        !pip install tensorflow==2.0.0-alpha0\n",
        "        !pip install pip install tfp-nightly==0.7.0-dev20190511\n",
        "    print('Please install tensorflow 2.0 to run this notebook')\n",
        "print('Tensorflow version: ',tf.__version__, ' running in colab?: ', IN_COLAB)"
      ],
      "execution_count": 2,
      "outputs": [
        {
          "output_type": "stream",
          "text": [
            "Tensorflow version:  2.0.0-alpha0  running in colab?:  True\n"
          ],
          "name": "stdout"
        }
      ]
    },
    {
      "cell_type": "markdown",
      "metadata": {
        "id": "DOhO_5Pt-N9E",
        "colab_type": "text"
      },
      "source": [
        "#### Imports"
      ]
    },
    {
      "cell_type": "code",
      "metadata": {
        "id": "WLP-37UY1Y31",
        "colab_type": "code",
        "colab": {
          "base_uri": "https://localhost:8080/",
          "height": 52
        },
        "outputId": "dcbffec4-4fae-4d93-8965-c2351c7aceb6"
      },
      "source": [
        "import matplotlib.pyplot as plt\n",
        "import numpy as np\n",
        "from sklearn.model_selection import train_test_split\n",
        "import tensorflow_probability as tfp\n",
        "\n",
        "%matplotlib inline\n",
        "plt.style.use('default')\n",
        "\n",
        "tfd = tfp.distributions\n",
        "tfb = tfp.bijectors\n",
        "print(\"TFP Version\", tfp.__version__)\n",
        "print(\"TF  Version\",tf.__version__)\n",
        "np.random.seed(42)\n",
        "tf.random.set_seed(42)"
      ],
      "execution_count": 3,
      "outputs": [
        {
          "output_type": "stream",
          "text": [
            "TFP Version 0.7.0\n",
            "TF  Version 2.0.0-alpha0\n"
          ],
          "name": "stdout"
        }
      ]
    },
    {
      "cell_type": "markdown",
      "metadata": {
        "id": "ecQD6xNF1Y38",
        "colab_type": "text"
      },
      "source": [
        "### Working with a TFP Poisson distribution\n",
        "\n",
        "Here you can see small example how to work with Poisson distribution in TFP, we set the rate $\\lambda$ to 2, and plot the Probability mass function for the values 0 to 10. Below in the notebook you will defline model to leran this parameter."
      ]
    },
    {
      "cell_type": "code",
      "metadata": {
        "id": "NMzlJ8mO1Y39",
        "colab_type": "code",
        "colab": {
          "base_uri": "https://localhost:8080/",
          "height": 505
        },
        "outputId": "e5320e17-003d-4d47-9fce-951f7e4b4e12"
      },
      "source": [
        "# 10          20       30        40       50         55\n",
        "#123456789012345678901234567890123456789012345678901234\n",
        "dist = tfd.poisson.Poisson(rate = 2) #A\n",
        "vals = np.linspace(0,10,11) #B\n",
        "p = dist.prob(vals) #C\n",
        "print(dist.mean().numpy())  #D\n",
        "print(dist.stddev().numpy())   #E\n",
        "plt.xticks(vals)\n",
        "plt.stem(vals, p)\n",
        "plt.xlabel('Number of Events')\n",
        "plt.ylabel('Probability')\n",
        "\n",
        "#A Poisson distribution with parameter rate 2\n",
        "#B some values for the x-axis in figure 5.rain\n",
        "#C the probability for the values\n",
        "#D the mean value yielding 2.0\n",
        "#E the standard deviation yielding sqrt(2.0) = 1.41..."
      ],
      "execution_count": 4,
      "outputs": [
        {
          "output_type": "stream",
          "text": [
            "2.0\n",
            "1.4142135\n"
          ],
          "name": "stdout"
        },
        {
          "output_type": "execute_result",
          "data": {
            "text/plain": [
              "Text(0, 0.5, 'Probability')"
            ]
          },
          "metadata": {
            "tags": []
          },
          "execution_count": 4
        },
        {
          "output_type": "display_data",
          "data": {
            "image/png": "[encoded data removed]",
            "text/plain": [
              "<Figure size 640x480 with 1 Axes>"
            ]
          },
          "metadata": {
            "tags": []
          }
        }
      ]
    },
    {
      "cell_type": "markdown",
      "metadata": {
        "id": "18dtcjMG1Y4E",
        "colab_type": "text"
      },
      "source": [
        "### Loading real count data\n",
        "\n",
        "Here you load traditional count data from: https://stats.idre.ucla.edu/r/dae/zip/. The traget variable will be the number fish caught during a state park visit by a group. You have data on 250 groups that went to a park. Each group was questioned about how many fish they caught (count), how many children were in the group (child), how many people were in the group (persons), if they used a live bait (livebait) and whether or not they brought a camper to the park (camper). This will be the predictors.\n",
        "You randomly split the data into train and test dataset (80% train and 20% test)."
      ]
    },
    {
      "cell_type": "code",
      "metadata": {
        "id": "eQuwzZUj1Y4L",
        "colab_type": "code",
        "colab": {}
      },
      "source": [
        "# The Fish Data Set\n",
        "# See example 2 from https://stats.idre.ucla.edu/r/dae/zip/ \n",
        "#\"nofish\",\"livebait\",\"camper\",\"persons\",\"child\",\"xb\",\"zg\",\"count\"\n",
        "dat = np.loadtxt('https://raw.githubusercontent.com/tensorchiefs/dl_book/master/data/fish.csv',delimiter=',', skiprows=1)\n",
        "X = dat[...,1:5] #\"livebait\",\"camper\",\"persons\",\"child\n",
        "y = dat[...,7]"
      ],
      "execution_count": 0,
      "outputs": []
    },
    {
      "cell_type": "code",
      "metadata": {
        "id": "_58wisLu1Y4S",
        "colab_type": "code",
        "colab": {}
      },
      "source": [
        "# Uncomment the next line, to enhance the ZIP model (see below why you would like to do it)\n",
        "# n = len(y)\n",
        "# idx = np.random.permutation(n)[0:int(n*0.3)] \n",
        "# y[idx] = 0"
      ],
      "execution_count": 0,
      "outputs": []
    },
    {
      "cell_type": "markdown",
      "metadata": {
        "id": "ILaYEVVnBN3F",
        "colab_type": "text"
      },
      "source": [
        "Let's split the data and look at the counts (how many fish each group caught).\n"
      ]
    },
    {
      "cell_type": "code",
      "metadata": {
        "id": "RCdA9LKL1Y4Y",
        "colab_type": "code",
        "colab": {
          "base_uri": "https://localhost:8080/",
          "height": 503
        },
        "outputId": "89e2f26a-2a2c-43bb-8529-6919a2be6ab3"
      },
      "source": [
        "X_train, X_test, y_train, y_test = train_test_split(X, y, test_size=0.2, random_state=42,shuffle=True)\n",
        "d = X_train.shape[1]\n",
        "X_train.shape, y_train.shape, X_test.shape, y_test.shape,dat.shape, y_test, y_train"
      ],
      "execution_count": 7,
      "outputs": [
        {
          "output_type": "execute_result",
          "data": {
            "text/plain": [
              "((200, 4),\n",
              " (200,),\n",
              " (50, 4),\n",
              " (50,),\n",
              " (250, 8),\n",
              " array([ 0.,  0.,  2.,  2.,  0.,  0.,  0.,  0.,  1.,  0.,  0.,  0.,  2.,\n",
              "         1.,  0.,  0.,  2.,  1.,  0., 30.,  0.,  0.,  0.,  0.,  0.,  0.,\n",
              "         0.,  0.,  0.,  0.,  0.,  5.,  0.,  0.,  0.,  1.,  1.,  3.,  6.,\n",
              "        65.,  0.,  0.,  0., 16.,  0.,  0.,  6.,  0.,  9.,  0.]),\n",
              " array([  6.,   1.,   6.,   1.,   3.,   1.,   0.,  15.,   0.,   2.,   0.,\n",
              "          2.,   0.,   2.,   3.,   0.,   0.,   1.,   5.,   0.,   0.,   0.,\n",
              "          2.,   0.,   0.,   5.,   0.,   4.,   2.,   0.,   0.,   0.,   0.,\n",
              "          0.,   2.,   0.,   0.,   0.,   1.,   0.,   0.,   1.,   1.,   0.,\n",
              "          0.,   5.,   0.,   1.,   0.,   0.,   0.,   0.,   0.,  21.,   0.,\n",
              "         32.,   2.,   0.,   0.,   9.,  13.,   1.,   0.,   1.,  31.,   0.,\n",
              "          0.,   0.,   0.,   3.,   3.,   0.,   0.,   1.,   1.,   0.,   1.,\n",
              "          2.,   1.,   0.,   0.,   2.,   0.,   0.,   0.,   0.,   1.,   1.,\n",
              "          0.,  11.,   0.,  21.,   0.,   2.,   5.,   3.,   4.,   0.,   7.,\n",
              "          0.,   0.,   0.,   1.,   0.,   0.,   2.,   3.,   3.,   0.,   1.,\n",
              "         14.,   0.,   1.,   0.,  10.,   0.,   1.,   0.,   0.,   0.,   0.,\n",
              "          0.,   0.,   0.,   0.,   0.,   0.,   0.,   3.,   0.,  38.,   0.,\n",
              "          4.,   7.,   0.,   0.,   0.,   0.,   0.,   0.,   2.,   4.,   0.,\n",
              "          1.,   0.,   8.,   0.,   0.,   0.,   3.,   3.,  32.,  15.,   0.,\n",
              "          1.,   4.,   0.,   0.,   2.,   0.,   0.,   2.,   0.,   5.,   5.,\n",
              "        149.,   5.,   0.,   0.,   5.,   0.,   0.,   0.,   8.,   7.,   3.,\n",
              "          1.,   0.,  22.,   0.,   2.,   0.,   5.,  29.,   0.,   1.,   2.,\n",
              "          0.,   0.,   1.,   0.,   0.,   1.,   4.,   0.,   0.,   0.,   0.,\n",
              "          0.,   0.]))"
            ]
          },
          "metadata": {
            "tags": []
          },
          "execution_count": 7
        }
      ]
    },
    {
      "cell_type": "markdown",
      "metadata": {
        "id": "vTcHrKJVByqM",
        "colab_type": "text"
      },
      "source": [
        "Here you can see that most of the groups didn't caught any fish, most og them caught between 1 and 8 fish, there is only one group that was very successful and caught 149 fish!\n"
      ]
    },
    {
      "cell_type": "code",
      "metadata": {
        "scrolled": true,
        "id": "RVqCbgQZ1Y4e",
        "colab_type": "code",
        "colab": {
          "base_uri": "https://localhost:8080/",
          "height": 486
        },
        "outputId": "d875e628-10d0-4d2e-924f-7b4bd055d3e1"
      },
      "source": [
        "plt.figure(figsize=(14,5))\n",
        "\n",
        "vals, counts = np.unique(y_train, return_counts=True)\n",
        "plt.subplot(1,2,1)\n",
        "plt.stem(vals, counts)\n",
        "plt.xlabel('Count: number of fish caught')\n",
        "plt.ylabel('Frequency')\n",
        "plt.xlim(-1,10)\n",
        "plt.subplot(1,2,2)\n",
        "plt.stem(vals, counts)\n",
        "plt.xlabel('Count: number of fish caught')\n",
        "plt.ylabel('Frequency')\n",
        "plt.show()\n",
        "np.max(y_train)"
      ],
      "execution_count": 8,
      "outputs": [
        {
          "output_type": "display_data",
          "data": {
            "image/png": "[encoded data removed]",
            "text/plain": [
              "<Figure size 1400x500 with 2 Axes>"
            ]
          },
          "metadata": {
            "tags": []
          }
        },
        {
          "output_type": "execute_result",
          "data": {
            "text/plain": [
              "149.0"
            ]
          },
          "metadata": {
            "tags": []
          },
          "execution_count": 8
        }
      ]
    },
    {
      "cell_type": "markdown",
      "metadata": {
        "id": "QeOx8Gk91Y4l",
        "colab_type": "text"
      },
      "source": [
        "## Fit linear regression model with constant variance\n",
        "\n",
        "In the next few cells you will ignore the fact that you are dealing with count data here and just fit a linear regression model with constant variance to the data. You will fist do this with sklearn and then with keras. You will use the standart MSE loss and use the formula to calculate the optimal standart deviation to minimize the NLL. Finally, you predict the test data and compare the performance with the RSME, MAE and the NLL. "
      ]
    },
    {
      "cell_type": "markdown",
      "metadata": {
        "id": "Y2jVnNH71Y4m",
        "colab_type": "text"
      },
      "source": [
        "### Linear regression with sklearn \n",
        " \n",
        "Let's fist fit the linear regression with sklean on the training data."
      ]
    },
    {
      "cell_type": "code",
      "metadata": {
        "id": "kl72JqqH1Y4o",
        "colab_type": "code",
        "colab": {}
      },
      "source": [
        "# The linear regression using non deep learning methods\n",
        "# These methods have no problem with convergence \n",
        "from sklearn.linear_model import LinearRegression\n",
        "model_skl = LinearRegression()\n",
        "res = model_skl.fit(X_train, y_train)"
      ],
      "execution_count": 0,
      "outputs": []
    },
    {
      "cell_type": "markdown",
      "metadata": {
        "id": "43AlkxLU1Y4w",
        "colab_type": "text"
      },
      "source": [
        "In linear regression, we assuming that the $\\sigma$ is constant. To calculate the NLL, we need to estimate this quantity from the training data. But the prediction is of course done on the testdata. Note that we calculate the mean NLL."
      ]
    },
    {
      "cell_type": "code",
      "metadata": {
        "id": "aZrTcLWA1Y4z",
        "colab_type": "code",
        "colab": {
          "base_uri": "https://localhost:8080/",
          "height": 131
        },
        "outputId": "aa25338d-bce7-4401-e596-d5f4a765afc8"
      },
      "source": [
        "import pandas as pd\n",
        "# Calculation of the the optimal sigma \n",
        "y_hat_train = model_skl.predict(X_train)\n",
        "n = len(y_hat_train)\n",
        "sigma_hat_2 = (n-1.)/(n-2.) * np.var(y_train - y_hat_train.flatten(),ddof=1)\n",
        "print('Estimated variance ', sigma_hat_2)\n",
        "print('Estimated standart deviation ', np.sqrt(sigma_hat_2))\n",
        "\n",
        "y_hat = model_skl.predict(X_test) #Prediction on the testset\n",
        "RMSE_skl = np.sqrt(np.mean((y_test - y_hat.flatten())**2))\n",
        "MAE_skl = np.mean(np.abs(y_test- y_hat.flatten())) \n",
        "\n",
        "NLL_skl =  0.5*np.log(2 * np.pi * sigma_hat_2) + 0.5*np.mean((y_test - y_hat.flatten())**2)/sigma_hat_2\n",
        "print('NLL on training:', 0.5*np.log(2 * np.pi * sigma_hat_2) + 0.5*np.mean((y_train - y_hat_train.flatten())**2)/sigma_hat_2)\n",
        "\n",
        "df1 = pd.DataFrame(\n",
        "          {'RMSE' : RMSE_skl, 'MAE' : MAE_skl, 'NLL (mean)' : NLL_skl}, index=['Linear Regression (sklearn)']\n",
        ")\n",
        "df1"
      ],
      "execution_count": 10,
      "outputs": [
        {
          "output_type": "stream",
          "text": [
            "Estimated variance  118.45401800694137\n",
            "Estimated standart deviation  10.883658300725054\n",
            "NLL on training: 3.801200958991639\n"
          ],
          "name": "stdout"
        },
        {
          "output_type": "execute_result",
          "data": {
            "text/html": [
              "<div>\n",
              "<style scoped>\n",
              "    .dataframe tbody tr th:only-of-type {\n",
              "        vertical-align: middle;\n",
              "    }\n",
              "\n",
              "    .dataframe tbody tr th {\n",
              "        vertical-align: top;\n",
              "    }\n",
              "\n",
              "    .dataframe thead th {\n",
              "        text-align: right;\n",
              "    }\n",
              "</style>\n",
              "<table border=\"1\" class=\"dataframe\">\n",
              "  <thead>\n",
              "    <tr style=\"text-align: right;\">\n",
              "      <th></th>\n",
              "      <th>RMSE</th>\n",
              "      <th>MAE</th>\n",
              "      <th>NLL (mean)</th>\n",
              "    </tr>\n",
              "  </thead>\n",
              "  <tbody>\n",
              "    <tr>\n",
              "      <th>Linear Regression (sklearn)</th>\n",
              "      <td>8.588126</td>\n",
              "      <td>4.70509</td>\n",
              "      <td>3.617528</td>\n",
              "    </tr>\n",
              "  </tbody>\n",
              "</table>\n",
              "</div>"
            ],
            "text/plain": [
              "                                 RMSE      MAE  NLL (mean)\n",
              "Linear Regression (sklearn)  8.588126  4.70509    3.617528"
            ]
          },
          "metadata": {
            "tags": []
          },
          "execution_count": 10
        }
      ]
    },
    {
      "cell_type": "markdown",
      "metadata": {
        "id": "AxwxHcV_1Y4_",
        "colab_type": "text"
      },
      "source": [
        "### Linear regression with Keras \n",
        " \n",
        "Let's do the same as before with sklearn, but this time you use a linear regression  model with keras.\n",
        "You have 4 inputs (child , persons livebait, camper) and 1 output (count). Note that you'll use the standart MSE loss."
      ]
    },
    {
      "cell_type": "code",
      "metadata": {
        "id": "J8oUGFcK1Y5C",
        "colab_type": "code",
        "colab": {}
      },
      "source": [
        "from tensorflow.keras import Sequential, Model\n",
        "from tensorflow.keras.layers import Dense, Input \n",
        "from tensorflow.keras.optimizers import Adam\n",
        "\n",
        "model_lr = Sequential() \n",
        "model_lr.add(Dense(1,input_dim=d, activation='linear')) \n",
        "model_lr.compile(loss='mean_squared_error',optimizer=Adam(learning_rate=0.01))"
      ],
      "execution_count": 0,
      "outputs": []
    },
    {
      "cell_type": "code",
      "metadata": {
        "id": "7bZZMADo1Y5K",
        "colab_type": "code",
        "colab": {}
      },
      "source": [
        "hist_lr = model_lr.fit(x=X_train, y=y_train, validation_data=(X_test, y_test), epochs=5000, verbose=0, batch_size=len(y_train))"
      ],
      "execution_count": 0,
      "outputs": []
    },
    {
      "cell_type": "code",
      "metadata": {
        "id": "Eo4VNK9J1Y5R",
        "colab_type": "code",
        "colab": {
          "base_uri": "https://localhost:8080/",
          "height": 453
        },
        "outputId": "dd3bf8cd-d5b7-41bb-9470-2cc11c8462f3"
      },
      "source": [
        "plt.plot(hist_lr.history['loss']) #Note this is the MSE and not the RMSE\n",
        "plt.plot(hist_lr.history['val_loss'])\n",
        "plt.legend(['loss', 'val_loss'])\n",
        "plt.ylabel('MSE')\n",
        "plt.xlabel('Epochs')\n",
        "plt.show()"
      ],
      "execution_count": 13,
      "outputs": [
        {
          "output_type": "display_data",
          "data": {
            "image/png": "[encoded data removed]",
            "text/plain": [
              "<Figure size 640x480 with 1 Axes>"
            ]
          },
          "metadata": {
            "tags": []
          }
        }
      ]
    },
    {
      "cell_type": "code",
      "metadata": {
        "id": "Qyzmr9jLKJiK",
        "colab_type": "code",
        "colab": {
          "base_uri": "https://localhost:8080/",
          "height": 162
        },
        "outputId": "5469e0ec-4733-4bc8-9b07-313b32506475"
      },
      "source": [
        "# Calculation of the the optimal sigma \n",
        "y_hat_train = model_lr.predict(X_train)\n",
        "sigma_hat_2 = (n-1.)/(n-2.) * np.var(y_train - y_hat_train.flatten(),ddof=1)\n",
        "print('Estimated variance ', sigma_hat_2)\n",
        "print('Estimated standart deviation ', np.sqrt(sigma_hat_2))\n",
        "\n",
        "y_hat = model_lr.predict(X_test) #Prediction on the testset\n",
        "RMSE_lr = np.sqrt(np.mean((y_test - y_hat.flatten())**2))\n",
        "MAE_lr = np.mean(np.abs(y_test - y_hat.flatten())) \n",
        "\n",
        "NLL_lr =  0.5*np.log(2 * np.pi * sigma_hat_2) + 0.5*np.mean((y_test - y_hat.flatten())**2)/sigma_hat_2\n",
        "print('NLL on training:', 0.5*np.log(2 * np.pi * sigma_hat_2) + 0.5*np.mean((y_train - y_hat_train.flatten())**2)/sigma_hat_2)\n",
        "\n",
        "df2 = pd.DataFrame(\n",
        "          {'RMSE' : RMSE_lr, 'MAE' : MAE_lr, 'NLL (mean)' : NLL_lr}, index=['Linear Regression (MSE Keras)']\n",
        ")\n",
        "pd.concat([df1,df2])"
      ],
      "execution_count": 14,
      "outputs": [
        {
          "output_type": "stream",
          "text": [
            "Estimated variance  118.45401871262789\n",
            "Estimated standart deviation  10.8836583331446\n",
            "NLL on training: 3.801200961970407\n"
          ],
          "name": "stdout"
        },
        {
          "output_type": "execute_result",
          "data": {
            "text/html": [
              "<div>\n",
              "<style scoped>\n",
              "    .dataframe tbody tr th:only-of-type {\n",
              "        vertical-align: middle;\n",
              "    }\n",
              "\n",
              "    .dataframe tbody tr th {\n",
              "        vertical-align: top;\n",
              "    }\n",
              "\n",
              "    .dataframe thead th {\n",
              "        text-align: right;\n",
              "    }\n",
              "</style>\n",
              "<table border=\"1\" class=\"dataframe\">\n",
              "  <thead>\n",
              "    <tr style=\"text-align: right;\">\n",
              "      <th></th>\n",
              "      <th>RMSE</th>\n",
              "      <th>MAE</th>\n",
              "      <th>NLL (mean)</th>\n",
              "    </tr>\n",
              "  </thead>\n",
              "  <tbody>\n",
              "    <tr>\n",
              "      <th>Linear Regression (sklearn)</th>\n",
              "      <td>8.588126</td>\n",
              "      <td>4.705090</td>\n",
              "      <td>3.617528</td>\n",
              "    </tr>\n",
              "    <tr>\n",
              "      <th>Linear Regression (MSE Keras)</th>\n",
              "      <td>8.588128</td>\n",
              "      <td>4.705087</td>\n",
              "      <td>3.617528</td>\n",
              "    </tr>\n",
              "  </tbody>\n",
              "</table>\n",
              "</div>"
            ],
            "text/plain": [
              "                                   RMSE       MAE  NLL (mean)\n",
              "Linear Regression (sklearn)    8.588126  4.705090    3.617528\n",
              "Linear Regression (MSE Keras)  8.588128  4.705087    3.617528"
            ]
          },
          "metadata": {
            "tags": []
          },
          "execution_count": 14
        }
      ]
    },
    {
      "cell_type": "markdown",
      "metadata": {
        "id": "OTrEASJJ1Y5f",
        "colab_type": "text"
      },
      "source": [
        "Here we are comparing the coefficients of the keras and sklearn linear regression models. As you can see we get the same results! The RMSE, MAE and the NLL are also the same."
      ]
    },
    {
      "cell_type": "code",
      "metadata": {
        "id": "O_KZ6MI81Y5h",
        "colab_type": "code",
        "colab": {
          "base_uri": "https://localhost:8080/",
          "height": 87
        },
        "outputId": "5e7d0374-40bb-4fbf-8704-57d6f533c764"
      },
      "source": [
        "print('weights using deep learning:          ',model_lr.get_weights()[0][:,0])\n",
        "print('weights from sklearn:                 ',res.coef_)\n",
        "print('Intercept (bias) using deep learning: ',model_lr.get_weights()[1][0])\n",
        "print('Intercept (bias) using sklearn:       ',res.intercept_)"
      ],
      "execution_count": 15,
      "outputs": [
        {
          "output_type": "stream",
          "text": [
            "weights using deep learning:           [ 2.4821873  2.9542987  4.6495247 -5.4715924]\n",
            "weights from sklearn:                  [ 2.4822138   2.95430727  4.64953914 -5.47160051]\n",
            "Intercept (bias) using deep learning:  -8.4921665\n",
            "Intercept (bias) using sklearn:        -8.492228208419725\n"
          ],
          "name": "stdout"
        }
      ]
    },
    {
      "cell_type": "markdown",
      "metadata": {
        "id": "scvDQ-mg1Y5r",
        "colab_type": "text"
      },
      "source": [
        "#### Evaluation of the Performance \n",
        "Let's plot the predicted values of the the linear regression model. vs the true values on the train and test dataset."
      ]
    },
    {
      "cell_type": "code",
      "metadata": {
        "id": "FlzxWOQT1Y5u",
        "colab_type": "code",
        "colab": {
          "base_uri": "https://localhost:8080/",
          "height": 487
        },
        "outputId": "de1734a6-8ddb-4a8d-b7dc-95c9cc60fa8d"
      },
      "source": [
        "plt.figure(figsize=(14,5))\n",
        "\n",
        "plt.subplot(1,2,1)\n",
        "plt.scatter(model_lr.predict(X_train), y_train,alpha=0.3)\n",
        "plt.title('Comparison on the training set')\n",
        "plt.xlabel('Number of mean caught fish predicted')\n",
        "plt.ylabel('Number of fish caught (true label)')\n",
        "\n",
        "plt.subplot(1,2,2) \n",
        "plt.scatter(model_lr.predict(X_test), y_test,alpha=0.3)\n",
        "plt.title('Comparison on the testset')\n",
        "plt.xlabel('Number of mean caught fish predicted')\n",
        "plt.ylabel('Number of fish caught (true label)')\n",
        "plt.show()"
      ],
      "execution_count": 25,
      "outputs": [
        {
          "output_type": "display_data",
          "data": {
            "image/png": "[encoded data removed]",
            "text/plain": [
              "<Figure size 1400x500 with 2 Axes>"
            ]
          },
          "metadata": {
            "tags": []
          }
        }
      ]
    },
    {
      "cell_type": "markdown",
      "metadata": {
        "id": "UQQlDYPt1Y5_",
        "colab_type": "text"
      },
      "source": [
        "You can see that the prediction aren't that good. Note that the linear model predicts also negative values, which is obviously wrong. "
      ]
    },
    {
      "cell_type": "markdown",
      "metadata": {
        "id": "RC5yQ6Na1Y6u",
        "colab_type": "text"
      },
      "source": [
        "## Poisson Regression \n",
        "\n",
        "Now you use  the TFP framework and the Poission distribution to model the output of the network as a  poissonian conditional probability distribution. You will not use any hidden layers in between and the loss will be the NLL. After the fitting, you predict the test data and compare the performance with the linear regression model.\n",
        "$$\n",
        "    Y \\thicksim \\tt{Pois}(exp(w^{T} \\cdot x + b))\n",
        "$$"
      ]
    },
    {
      "cell_type": "code",
      "metadata": {
        "id": "c1D6mfOl1Y6w",
        "colab_type": "code",
        "colab": {
          "base_uri": "https://localhost:8080/",
          "height": 260
        },
        "outputId": "e91c2218-b4bc-4225-f53b-56f2bc331399"
      },
      "source": [
        "inputs = Input(shape=(X_train.shape[1],))  \n",
        "rate = Dense(1, \n",
        "         activation=tf.exp)(inputs) #A\n",
        "p_y = tfp.layers.DistributionLambda(tfd.Poisson)(rate) #B \n",
        "\n",
        "model_p = Model(inputs=inputs, outputs=p_y) #C\n",
        "\n",
        "\n",
        "def NLL(y_true, y_hat): #D\n",
        "  return -y_hat.log_prob(y_true)\n",
        "\n",
        "model_p.compile(Adam(learning_rate=0.01), loss=NLL)\n",
        "model_p.summary()\n",
        "\n",
        "#A Definition of a single layer with one output\n",
        "#B We use exponential of the output to model the rate\n",
        "#C Glueing input and output together. Note that output is a tf.distribution\n",
        "#D Since the second argument is the output of the model it is a distribution. It's as simple as calling log_prob to calculate the NLL."
      ],
      "execution_count": 18,
      "outputs": [
        {
          "output_type": "stream",
          "text": [
            "Model: \"model\"\n",
            "_________________________________________________________________\n",
            "Layer (type)                 Output Shape              Param #   \n",
            "=================================================================\n",
            "input_1 (InputLayer)         [(None, 4)]               0         \n",
            "_________________________________________________________________\n",
            "dense_1 (Dense)              (None, 1)                 5         \n",
            "_________________________________________________________________\n",
            "distribution_lambda (Distrib ((None, 1), (None, 1))    0         \n",
            "=================================================================\n",
            "Total params: 5\n",
            "Trainable params: 5\n",
            "Non-trainable params: 0\n",
            "_________________________________________________________________\n"
          ],
          "name": "stdout"
        }
      ]
    },
    {
      "cell_type": "code",
      "metadata": {
        "id": "kheyBbO_1Y6-",
        "colab_type": "code",
        "colab": {}
      },
      "source": [
        "hist_p = model_p.fit(x=X_train, y=y_train, validation_data=(X_test, y_test), epochs=2000, verbose=0)"
      ],
      "execution_count": 0,
      "outputs": []
    },
    {
      "cell_type": "code",
      "metadata": {
        "scrolled": true,
        "id": "kSO3GedG1Y7I",
        "colab_type": "code",
        "colab": {
          "base_uri": "https://localhost:8080/",
          "height": 471
        },
        "outputId": "269090d2-c30d-4c9b-9f45-3df4ffa7dc66"
      },
      "source": [
        "plt.plot(hist_p.history['loss'])\n",
        "plt.plot(hist_p.history['val_loss'])\n",
        "plt.legend(['loss', 'val_loss'])\n",
        "plt.xlabel('Epochs')"
      ],
      "execution_count": 20,
      "outputs": [
        {
          "output_type": "execute_result",
          "data": {
            "text/plain": [
              "Text(0.5, 0, 'Epochs')"
            ]
          },
          "metadata": {
            "tags": []
          },
          "execution_count": 20
        },
        {
          "output_type": "display_data",
          "data": {
            "image/png": "[encoded data removed]",
            "text/plain": [
              "<Figure size 640x480 with 1 Axes>"
            ]
          },
          "metadata": {
            "tags": []
          }
        }
      ]
    },
    {
      "cell_type": "code",
      "metadata": {
        "id": "oVjw2n-C1Y7P",
        "colab_type": "code",
        "colab": {
          "base_uri": "https://localhost:8080/",
          "height": 158
        },
        "outputId": "9d0c87ce-ee4e-4d92-e24a-0fc5ed85752c"
      },
      "source": [
        "model = Model(inputs=inputs, outputs=p_y.mean()) \n",
        "y_hat_test = model.predict(X_test).flatten()\n",
        "\n",
        "\n",
        "rmse=np.sqrt(np.mean((y_test - y_hat_test)**2))\n",
        "mae=np.mean(np.abs(y_test - y_hat_test)) \n",
        "\n",
        "NLL = model_p.evaluate(X_test, y_test) #returns the NLL \n",
        "\n",
        "df3 = pd.DataFrame(\n",
        "         { 'RMSE' : rmse, 'MAE' : mae, 'NLL (mean)' : NLL}, index=['Poisson Regression (TFP)']\n",
        ")\n",
        "pd.concat([df1,df2,df3])"
      ],
      "execution_count": 21,
      "outputs": [
        {
          "output_type": "stream",
          "text": [
            "50/50 [==============================] - 0s 68us/sample - loss: 2.7357\n"
          ],
          "name": "stdout"
        },
        {
          "output_type": "execute_result",
          "data": {
            "text/html": [
              "<div>\n",
              "<style scoped>\n",
              "    .dataframe tbody tr th:only-of-type {\n",
              "        vertical-align: middle;\n",
              "    }\n",
              "\n",
              "    .dataframe tbody tr th {\n",
              "        vertical-align: top;\n",
              "    }\n",
              "\n",
              "    .dataframe thead th {\n",
              "        text-align: right;\n",
              "    }\n",
              "</style>\n",
              "<table border=\"1\" class=\"dataframe\">\n",
              "  <thead>\n",
              "    <tr style=\"text-align: right;\">\n",
              "      <th></th>\n",
              "      <th>RMSE</th>\n",
              "      <th>MAE</th>\n",
              "      <th>NLL (mean)</th>\n",
              "    </tr>\n",
              "  </thead>\n",
              "  <tbody>\n",
              "    <tr>\n",
              "      <th>Linear Regression (sklearn)</th>\n",
              "      <td>8.588126</td>\n",
              "      <td>4.705090</td>\n",
              "      <td>3.617528</td>\n",
              "    </tr>\n",
              "    <tr>\n",
              "      <th>Linear Regression (MSE Keras)</th>\n",
              "      <td>8.588128</td>\n",
              "      <td>4.705087</td>\n",
              "      <td>3.617528</td>\n",
              "    </tr>\n",
              "    <tr>\n",
              "      <th>Poisson Regression (TFP)</th>\n",
              "      <td>7.362859</td>\n",
              "      <td>3.045387</td>\n",
              "      <td>2.735704</td>\n",
              "    </tr>\n",
              "  </tbody>\n",
              "</table>\n",
              "</div>"
            ],
            "text/plain": [
              "                                   RMSE       MAE  NLL (mean)\n",
              "Linear Regression (sklearn)    8.588126  4.705090    3.617528\n",
              "Linear Regression (MSE Keras)  8.588128  4.705087    3.617528\n",
              "Poisson Regression (TFP)       7.362859  3.045387    2.735704"
            ]
          },
          "metadata": {
            "tags": []
          },
          "execution_count": 21
        }
      ]
    },
    {
      "cell_type": "code",
      "metadata": {
        "scrolled": true,
        "id": "ddqrjcSb1Y7T",
        "colab_type": "code",
        "colab": {
          "base_uri": "https://localhost:8080/",
          "height": 453
        },
        "outputId": "ed7a36f7-745d-4214-819b-f9a7e1942552"
      },
      "source": [
        "plt.scatter(y_hat_test, y_test,alpha=0.3)\n",
        "plt.xlabel('Number of mean caught fish predicted')\n",
        "plt.ylabel('Number of fish caught (true label)')\n",
        "plt.show()"
      ],
      "execution_count": 24,
      "outputs": [
        {
          "output_type": "display_data",
          "data": {
            "image/png": "[encoded data removed]",
            "text/plain": [
              "<Figure size 640x480 with 1 Axes>"
            ]
          },
          "metadata": {
            "tags": []
          }
        }
      ]
    },
    {
      "cell_type": "markdown",
      "metadata": {
        "id": "RP8y4gdz1Y7a",
        "colab_type": "text"
      },
      "source": [
        "You see that the Poission regression is the best model so far, with the lowest NLL on the test data (~2.7) and also the RMSE and the MAE are lower. On the predicted vs true plot you see that the predictions are now a bit better then with the linear regression model. Note that the poission regression model does not predict any negative values. We have no values below zero."
      ]
    },
    {
      "cell_type": "markdown",
      "metadata": {
        "id": "qQY2rCxQuHfG",
        "colab_type": "text"
      },
      "source": [
        "### Return to the book \n",
        "<img src=\"https://raw.githubusercontent.com/tensorchiefs/dl_book/master/imgs/Page_turn_icon_A.png\" width=\"120\" align=\"left\" />  \n",
        "Return to the book to learn about zero inflated Poisson Regression."
      ]
    },
    {
      "cell_type": "markdown",
      "metadata": {
        "id": "PJWH_iYP1Y7a",
        "colab_type": "text"
      },
      "source": [
        "## 3 Using zero inflated Poisson Regression\n",
        "\n",
        "We define a network with two outputs. One for the poisson mean, one for the prob that there is a zero. \n",
        "\n",
        "First, we define a function which produces the zero inflated poisson distribution. \n",
        "\n",
        "### Definition of the distribution"
      ]
    },
    {
      "cell_type": "code",
      "metadata": {
        "id": "s9tYvDbj1Y7b",
        "colab_type": "code",
        "colab": {}
      },
      "source": [
        "# 10          20       30        40       50         55\n",
        "#123456789012345678901234567890123456789012345678901234\n",
        "# Listing 5.l_zi\n",
        "def zero_inf(out): \n",
        "    rate = tf.math.exp(out[:,0]) #A \n",
        "    #rate = tf.math.softplus(out[:,0]) #A \n",
        "    s = tf.math.sigmoid(out[:,1:]) #B  \n",
        "    probs = tf.concat([1-s, s], axis=1) #C \n",
        "    #print(np.min(rate), \" \", np.max(rate), \" \", np.min(s), np.max(s),\"  \",np.min(out[:,1:]), np.max(out[:,1:]))\n",
        "    return tfd.Mixture(\n",
        "          cat=tfd.Categorical(probs=probs),#D\n",
        "          components=[\n",
        "            tfd.Deterministic(loc=tf.zeros_like(rate)), #E\n",
        "            tfd.Poisson(rate=rate), #F \n",
        "        ])\n",
        "\n",
        "#A The first component codes for the rate. We use exponential to guaranty values >0.\n",
        "#B The second component codes for the zero inflation, using sigmoid squeezes the value between 0 and 1.\n",
        "#C The two probabilities for zeros or Poissonian  \n",
        "#D The tfd.Categorical allows to create a mixture of two components. \n",
        "#E Zero as a deterministic value \n",
        "#F Value drawn from a Poissonian"
      ],
      "execution_count": 0,
      "outputs": []
    },
    {
      "cell_type": "code",
      "metadata": {
        "id": "0cObilkk1Y7g",
        "colab_type": "code",
        "colab": {
          "base_uri": "https://localhost:8080/",
          "height": 211
        },
        "outputId": "6ef80414-080a-462f-d9d7-57a47c598522"
      },
      "source": [
        "## testinging the distribution, we evalute some data \n",
        "t = np.ones((5,2), dtype=np.float32)\n",
        "t[4,0]=0.999\n",
        "t[4,1]=10\n",
        "print('Input Tensor : ',t)\n",
        "print('Output Mean  : ',zero_inf(t).mean().numpy())"
      ],
      "execution_count": 63,
      "outputs": [
        {
          "output_type": "stream",
          "text": [
            "WARNING: Logging before flag parsing goes to stderr.\n",
            "W0730 12:02:25.244369 140161425778560 deprecation.py:323] From /usr/local/lib/python3.6/dist-packages/tensorflow_probability/python/distributions/mixture.py:154: Categorical.event_size (from tensorflow_probability.python.distributions.categorical) is deprecated and will be removed after 2019-05-19.\n",
            "Instructions for updating:\n",
            "The `event_size` property is deprecated.  Use `num_categories` instead.  They have the same value, but `event_size` is misnamed.\n"
          ],
          "name": "stderr"
        },
        {
          "output_type": "stream",
          "text": [
            "Input Tensor :  [[ 1.     1.   ]\n",
            " [ 1.     1.   ]\n",
            " [ 1.     1.   ]\n",
            " [ 1.     1.   ]\n",
            " [ 0.999 10.   ]]\n",
            "Output Mean  :  [1.9872233 1.9872233 1.9872233 1.9872233 2.7154417]\n"
          ],
          "name": "stdout"
        }
      ]
    },
    {
      "cell_type": "markdown",
      "metadata": {
        "id": "a181acdu1Y7l",
        "colab_type": "text"
      },
      "source": [
        "### Definition of the model"
      ]
    },
    {
      "cell_type": "code",
      "metadata": {
        "id": "IhkJUDNW1Y7m",
        "colab_type": "code",
        "colab": {
          "base_uri": "https://localhost:8080/",
          "height": 260
        },
        "outputId": "e77de16d-ac6f-46b8-c6f6-5b0aab0bf58b"
      },
      "source": [
        "## Definition of the model\n",
        "# 10          20       30        40       50         55\n",
        "#123456789012345678901234567890123456789012345678901234\n",
        "## Definition of the custom parametrized distribution\n",
        "from tensorflow.keras.regularizers import l2\n",
        "inputs = tf.keras.layers.Input(shape=(X_train.shape[1],))  \n",
        "out = Dense(2,  #A\n",
        "            kernel_regularizer=l2(0.01), #B\n",
        "            bias_regularizer=l2(0.01))(inputs)#B\n",
        "p_y_zi = tfp.layers.DistributionLambda(zero_inf)(out)\n",
        "model_zi = Model(inputs=inputs, outputs=p_y_zi)\n",
        "\n",
        "#A A dense layer is used without activation. The transformation is done in zero_inf listing 5.l_zi \n",
        "#B Using a regularisation prevents the network from learning too large weights. Without regularisation, you run into numerical problems.\n",
        "model_zi.summary()"
      ],
      "execution_count": 65,
      "outputs": [
        {
          "output_type": "stream",
          "text": [
            "Model: \"model_6\"\n",
            "_________________________________________________________________\n",
            "Layer (type)                 Output Shape              Param #   \n",
            "=================================================================\n",
            "input_5 (InputLayer)         [(None, 4)]               0         \n",
            "_________________________________________________________________\n",
            "dense_8 (Dense)              (None, 2)                 10        \n",
            "_________________________________________________________________\n",
            "distribution_lambda_4 (Distr ((None,), (None,))        0         \n",
            "=================================================================\n",
            "Total params: 10\n",
            "Trainable params: 10\n",
            "Non-trainable params: 0\n",
            "_________________________________________________________________\n"
          ],
          "name": "stdout"
        }
      ]
    },
    {
      "cell_type": "markdown",
      "metadata": {
        "id": "xVLRbGNg1Y7q",
        "colab_type": "text"
      },
      "source": [
        "### Training of the model (by hand) [optional]\n",
        "\n",
        "The following code trains the NN using a evaluation loop by hand. This help us to find instabilities, which we got rid off using regularisation. See also: https://www.tensorflow.org/beta/guide/keras/training_and_evaluation#part_ii_writing_your_own_training_evaluation_loops_from_scratch\n"
      ]
    },
    {
      "cell_type": "code",
      "metadata": {
        "id": "FQGr8xl-1Y7r",
        "colab_type": "code",
        "colab": {}
      },
      "source": [
        "#optimizer=tf.optimizers.RMSprop(learning_rate=0.05)\n",
        "#loss_values = np.zeros((1000))\n",
        "#for e in range(5):\n",
        "#    with tf.GradientTape() as tape:\n",
        "#        y_hat = model_zi(X_tr)\n",
        "#        loss_value = -tf.reduce_mean(y_hat.log_prob(y_tr))\n",
        "#        loss_values[e] = loss_value\n",
        "#        grads = tape.gradient(loss_value, model_zi.trainable_weights)\n",
        "#        weights =  model_zi.trainable_weights       \n",
        "#        optimizer.apply_gradients(zip(grads,weights))"
      ],
      "execution_count": 0,
      "outputs": []
    },
    {
      "cell_type": "markdown",
      "metadata": {
        "id": "LjpdKTYq1Y7t",
        "colab_type": "text"
      },
      "source": [
        "### Training using keras' build in training"
      ]
    },
    {
      "cell_type": "code",
      "metadata": {
        "id": "QbmF_D-p1Y7u",
        "colab_type": "code",
        "colab": {}
      },
      "source": [
        "def negloglik2(y_true, y_hat):\n",
        "    # return -tf.reduce_mean(y_hat.log_prob(y_true))\n",
        "    return -tf.reduce_mean(y_hat.log_prob(tf.reshape(y_true,(-1,))))\n",
        "\n",
        "model_zi.compile(optimizer=tf.optimizers.Adam(learning_rate=0.01), loss=negloglik2)\n",
        "hist_zi = model_zi.fit(x=X_train, y=y_train, validation_data=(X_test, y_test), epochs=2000, verbose=0)#, callbacks=[tb]);"
      ],
      "execution_count": 0,
      "outputs": []
    },
    {
      "cell_type": "code",
      "metadata": {
        "id": "7u3pYvhT1Y7x",
        "colab_type": "code",
        "colab": {
          "base_uri": "https://localhost:8080/",
          "height": 455
        },
        "outputId": "917c2a8a-0f1f-466d-fa42-33073cf39869"
      },
      "source": [
        "plt.plot(hist_p.history['loss'],linestyle='-.')\n",
        "plt.plot(hist_p.history['val_loss'])\n",
        "plt.plot(hist_zi.history['loss'])\n",
        "plt.plot(hist_zi.history['val_loss'])\n",
        "plt.legend(['Poisson loss','Poisson val_loss','ZI loss','ZI val_loss'])\n",
        "plt.xlabel('Epochs')\n",
        "plt.ylabel('NLL')\n",
        "plt.show()"
      ],
      "execution_count": 69,
      "outputs": [
        {
          "output_type": "display_data",
          "data": {
            "image/png": "[encoded data removed]",
            "text/plain": [
              "<Figure size 640x480 with 1 Axes>"
            ]
          },
          "metadata": {
            "tags": []
          }
        }
      ]
    },
    {
      "cell_type": "code",
      "metadata": {
        "id": "dwM1es891Y74",
        "colab_type": "code",
        "colab": {
          "base_uri": "https://localhost:8080/",
          "height": 189
        },
        "outputId": "b5768d44-ba40-45fd-bb88-8716c80fee36"
      },
      "source": [
        "model = Model(inputs=inputs, outputs=p_y_zi.mean()) \n",
        "y_hat_test = model.predict(X_test).flatten()\n",
        "\n",
        "\n",
        "mse=np.sqrt(np.mean((y_test - y_hat_test)**2))\n",
        "mae=np.mean(np.abs(y_test - y_hat_test)) \n",
        "\n",
        "NLL = model_zi.evaluate(X_test, y_test) #returns the NLL \n",
        "\n",
        "\n",
        "df4 = pd.DataFrame(\n",
        "         { 'RMSE' : mse, 'MAE' : mae, 'NLL (mean)' : NLL}, index=['ZIP (TFP)']\n",
        ")\n",
        "pd.concat([df1,df2,df3,df4])"
      ],
      "execution_count": 71,
      "outputs": [
        {
          "output_type": "stream",
          "text": [
            "50/50 [==============================] - 0s 78us/sample - loss: 2.3173\n"
          ],
          "name": "stdout"
        },
        {
          "output_type": "execute_result",
          "data": {
            "text/html": [
              "<div>\n",
              "<style scoped>\n",
              "    .dataframe tbody tr th:only-of-type {\n",
              "        vertical-align: middle;\n",
              "    }\n",
              "\n",
              "    .dataframe tbody tr th {\n",
              "        vertical-align: top;\n",
              "    }\n",
              "\n",
              "    .dataframe thead th {\n",
              "        text-align: right;\n",
              "    }\n",
              "</style>\n",
              "<table border=\"1\" class=\"dataframe\">\n",
              "  <thead>\n",
              "    <tr style=\"text-align: right;\">\n",
              "      <th></th>\n",
              "      <th>RMSE</th>\n",
              "      <th>MAE</th>\n",
              "      <th>NLL (mean)</th>\n",
              "    </tr>\n",
              "  </thead>\n",
              "  <tbody>\n",
              "    <tr>\n",
              "      <th>Linear Regression (sklearn)</th>\n",
              "      <td>8.588126</td>\n",
              "      <td>4.705090</td>\n",
              "      <td>3.617528</td>\n",
              "    </tr>\n",
              "    <tr>\n",
              "      <th>Linear Regression (MSE Keras)</th>\n",
              "      <td>8.588127</td>\n",
              "      <td>4.705088</td>\n",
              "      <td>3.617528</td>\n",
              "    </tr>\n",
              "    <tr>\n",
              "      <th>Poisson Regression (TFP)</th>\n",
              "      <td>7.146268</td>\n",
              "      <td>3.110232</td>\n",
              "      <td>2.677812</td>\n",
              "    </tr>\n",
              "    <tr>\n",
              "      <th>ZIP (TFP)</th>\n",
              "      <td>7.426555</td>\n",
              "      <td>3.200179</td>\n",
              "      <td>2.317286</td>\n",
              "    </tr>\n",
              "  </tbody>\n",
              "</table>\n",
              "</div>"
            ],
            "text/plain": [
              "                                   RMSE       MAE  NLL (mean)\n",
              "Linear Regression (sklearn)    8.588126  4.705090    3.617528\n",
              "Linear Regression (MSE Keras)  8.588127  4.705088    3.617528\n",
              "Poisson Regression (TFP)       7.146268  3.110232    2.677812\n",
              "ZIP (TFP)                      7.426555  3.200179    2.317286"
            ]
          },
          "metadata": {
            "tags": []
          },
          "execution_count": 71
        }
      ]
    },
    {
      "cell_type": "code",
      "metadata": {
        "id": "3Sc175du1Y79",
        "colab_type": "code",
        "colab": {
          "base_uri": "https://localhost:8080/",
          "height": 235
        },
        "outputId": "e5a0bf99-d152-4481-f1a4-f93c4a67e769"
      },
      "source": [
        "plt.scatter(y_hat_test, y_test)\n",
        "plt.xlabel('Counts: predicted by ZI')\n",
        "plt.ylabel('Counts: true')\n",
        "\n",
        "print('Training Set', np.mean(np.square(y_hat_train[y_train == 0])),np.sum(y_hat_train[y_train == 0]>0.5))\n",
        "print('Test Set', np.mean(np.square(y_hat_test[y_test == 0])),np.sum(y_hat_test[y_test == 0]>0.5))"
      ],
      "execution_count": 1,
      "outputs": [
        {
          "output_type": "error",
          "ename": "NameError",
          "evalue": "ignored",
          "traceback": [
            "\u001b[0;31m---------------------------------------------------------------------------\u001b[0m",
            "\u001b[0;31mNameError\u001b[0m                                 Traceback (most recent call last)",
            "\u001b[0;32m<ipython-input-1-13822900a76e>\u001b[0m in \u001b[0;36m<module>\u001b[0;34m()\u001b[0m\n\u001b[0;32m----> 1\u001b[0;31m \u001b[0mplt\u001b[0m\u001b[0;34m.\u001b[0m\u001b[0mscatter\u001b[0m\u001b[0;34m(\u001b[0m\u001b[0my_hat_test\u001b[0m\u001b[0;34m,\u001b[0m \u001b[0my_test\u001b[0m\u001b[0;34m)\u001b[0m\u001b[0;34m\u001b[0m\u001b[0;34m\u001b[0m\u001b[0m\n\u001b[0m\u001b[1;32m      2\u001b[0m \u001b[0mplt\u001b[0m\u001b[0;34m.\u001b[0m\u001b[0mxlabel\u001b[0m\u001b[0;34m(\u001b[0m\u001b[0;34m'Counts: predicted by ZI'\u001b[0m\u001b[0;34m)\u001b[0m\u001b[0;34m\u001b[0m\u001b[0;34m\u001b[0m\u001b[0m\n\u001b[1;32m      3\u001b[0m \u001b[0mplt\u001b[0m\u001b[0;34m.\u001b[0m\u001b[0mylabel\u001b[0m\u001b[0;34m(\u001b[0m\u001b[0;34m'Counts: true'\u001b[0m\u001b[0;34m)\u001b[0m\u001b[0;34m\u001b[0m\u001b[0;34m\u001b[0m\u001b[0m\n\u001b[1;32m      4\u001b[0m \u001b[0;34m\u001b[0m\u001b[0m\n\u001b[1;32m      5\u001b[0m \u001b[0mprint\u001b[0m\u001b[0;34m(\u001b[0m\u001b[0;34m'Training Set'\u001b[0m\u001b[0;34m,\u001b[0m \u001b[0mnp\u001b[0m\u001b[0;34m.\u001b[0m\u001b[0mmean\u001b[0m\u001b[0;34m(\u001b[0m\u001b[0mnp\u001b[0m\u001b[0;34m.\u001b[0m\u001b[0msquare\u001b[0m\u001b[0;34m(\u001b[0m\u001b[0my_hat_train\u001b[0m\u001b[0;34m[\u001b[0m\u001b[0my_train\u001b[0m \u001b[0;34m==\u001b[0m \u001b[0;36m0\u001b[0m\u001b[0;34m]\u001b[0m\u001b[0;34m)\u001b[0m\u001b[0;34m)\u001b[0m\u001b[0;34m,\u001b[0m\u001b[0mnp\u001b[0m\u001b[0;34m.\u001b[0m\u001b[0msum\u001b[0m\u001b[0;34m(\u001b[0m\u001b[0my_hat_train\u001b[0m\u001b[0;34m[\u001b[0m\u001b[0my_train\u001b[0m \u001b[0;34m==\u001b[0m \u001b[0;36m0\u001b[0m\u001b[0;34m]\u001b[0m\u001b[0;34m>\u001b[0m\u001b[0;36m0.5\u001b[0m\u001b[0;34m)\u001b[0m\u001b[0;34m)\u001b[0m\u001b[0;34m\u001b[0m\u001b[0;34m\u001b[0m\u001b[0m\n",
            "\u001b[0;31mNameError\u001b[0m: name 'plt' is not defined"
          ]
        }
      ]
    },
    {
      "cell_type": "markdown",
      "metadata": {
        "id": "vkWMUK151Y8A",
        "colab_type": "text"
      },
      "source": [
        "Note that the ZIP model is not so much better then the Poisson model. Let's see what happens if you make more fisherman unlucky and remove randomly remove some catched. You can uncomment the lines in cell 6."
      ]
    }
  ]
}