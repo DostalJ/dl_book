{
 "cells": [
  {
   "cell_type": "markdown",
   "metadata": {
    "colab_type": "text",
    "id": "J33av_vA1Y3m"
   },
   "source": [
    "# Modelling count data with Tensoflow Probability\n",
    "\n",
    "**Goal:** In this notebook you will again work with TFP. You will set up regression models that are able to output a poissonian conditional probability distribution. You will define different models with Keras, sklearn and the Tensorflow probability framework and optimize the negative log likelihood (NLL). You will model the conditional probability distribution as a Poisson distribution.\n",
    "You compare the performace of the Poisson regression vs. the linear regression on a test dataset. Finally, you will extend the Poisson Distribution to the zero-inflated Poisson distribution and compare the NLL of all models.\n",
    "\n",
    "**Usage:** The idea of the notebook is that you try to understand the provided code by running it, checking the output and playing with it by slightly changing the code and rerunning it.\n",
    "\n",
    "**Dataset:** \n",
    "You work with a dataset form https://stats.idre.ucla.edu/r/dae/zip/. The dataset contains data on 250 groups that went to a park. Each group was questioned about how many fish they caught (count), how many children were in the group (child), how many people were in the group (persons), if they used a live bait  and whether or not they brought a camper to the park (camper).\n",
    "You split the data into train and test dataset.\n",
    "\n",
    "**Content:**\n",
    "* Work with a Poisson distribution in TFP\n",
    "* Load and split the dataset \n",
    "* Fit a linear regression model sklearn and compute the minimal NLL with the optimal $\\sigma$\n",
    "* Fit a linear regression model keras and compute the minimal NLL with the optimal $\\sigma$\n",
    "* Fit a poisson regression model with keras and TFP\n",
    "* Fit a zero-inflated poisson regression model with keras and TFP \n",
    "* Compare the different models based on the NLL loss on the test dataset\n",
    "\n",
    "| [open in colab](https://colab.research.google.com/github/tensorchiefs/dl_book/blob/master/chapter_05/nb_ch05_02.ipynb)\n"
   ]
  },
  {
   "cell_type": "code",
   "execution_count": 1,
   "metadata": {
    "colab": {
     "base_uri": "https://localhost:8080/",
     "height": 35
    },
    "colab_type": "code",
    "id": "Fv5u8wSX1Y3p",
    "outputId": "7433cfbc-d903-4201-f61c-d54777a205a2"
   },
   "outputs": [
    {
     "name": "stdout",
     "output_type": "stream",
     "text": [
      "Tensorflow version:  2.0.0-rc0  running in colab?:  False\n"
     ]
    }
   ],
   "source": [
    "import tensorflow as tf\n",
    "try: #If running in colab \n",
    "    import google.colab\n",
    "    IN_COLAB = True \n",
    "except:\n",
    "    IN_COLAB = False\n",
    "if (not tf.__version__.startswith('2')): #Checking if tf 2.0 is installed\n",
    "    if IN_COLAB: #If running in colab install tf 2.0\n",
    "        !pip install tensorflow-gpu==2.0.0-rc0\n",
    "        !pip install tensorflow-probability==0.8.0-rc0\n",
    "    print('Please install tensorflow 2.0 to run this notebook')\n",
    "print('Tensorflow version: ',tf.__version__, ' running in colab?: ', IN_COLAB)"
   ]
  },
  {
   "cell_type": "markdown",
   "metadata": {
    "colab_type": "text",
    "id": "DOhO_5Pt-N9E"
   },
   "source": [
    "#### Imports"
   ]
  },
  {
   "cell_type": "code",
   "execution_count": 2,
   "metadata": {
    "colab": {
     "base_uri": "https://localhost:8080/",
     "height": 52
    },
    "colab_type": "code",
    "id": "WLP-37UY1Y31",
    "outputId": "3581ad12-b1ea-4a0c-ce43-39e62a46eba0"
   },
   "outputs": [
    {
     "name": "stdout",
     "output_type": "stream",
     "text": [
      "TFP Version 0.8.0-rc0\n",
      "TF  Version 2.0.0-rc0\n"
     ]
    }
   ],
   "source": [
    "import matplotlib.pyplot as plt\n",
    "import numpy as np\n",
    "from sklearn.model_selection import train_test_split\n",
    "import tensorflow_probability as tfp\n",
    "\n",
    "%matplotlib inline\n",
    "plt.style.use('default')\n",
    "\n",
    "tfd = tfp.distributions\n",
    "tfb = tfp.bijectors\n",
    "print(\"TFP Version\", tfp.__version__)\n",
    "print(\"TF  Version\",tf.__version__)\n",
    "np.random.seed(42)\n",
    "tf.random.set_seed(42)"
   ]
  },
  {
   "cell_type": "markdown",
   "metadata": {
    "colab_type": "text",
    "id": "ecQD6xNF1Y38"
   },
   "source": [
    "### Working with a TFP Poisson distribution\n",
    "\n",
    "Here you can see small example how to work with Poisson distribution in TFP, we set the rate $\\lambda$ to 2, and plot the Probability mass function for the values 0 to 10. Below in the notebook you will define a model to learn this parameter."
   ]
  },
  {
   "cell_type": "code",
   "execution_count": 3,
   "metadata": {
    "colab": {
     "base_uri": "https://localhost:8080/",
     "height": 505
    },
    "colab_type": "code",
    "id": "NMzlJ8mO1Y39",
    "outputId": "b989000e-c868-4f88-bef2-b38be583e73f"
   },
   "outputs": [
    {
     "name": "stdout",
     "output_type": "stream",
     "text": [
      "2.0\n",
      "1.4142135\n"
     ]
    },
    {
     "name": "stderr",
     "output_type": "stream",
     "text": [
      "/usr/local/lib/python3.6/dist-packages/ipykernel_launcher.py:7: UserWarning: In Matplotlib 3.3 individual lines on a stem plot will be added as a LineCollection instead of individual lines. This significantly improves the performance of a stem plot. To remove this warning and switch to the new behaviour, set the \"use_line_collection\" keyword argument to True.\n",
      "  import sys\n"
     ]
    },
    {
     "data": {
      "text/plain": [
       "Text(0, 0.5, 'Probability')"
      ]
     },
     "execution_count": 3,
     "metadata": {},
     "output_type": "execute_result"
    },
    {
     "data": {
      "image/png": "[encoded data removed]",
      "text/plain": [
       "<Figure size 432x288 with 1 Axes>"
      ]
     },
     "metadata": {
      "needs_background": "light"
     },
     "output_type": "display_data"
    }
   ],
   "source": [
    "dist = tfd.poisson.Poisson(rate = 2) #A\n",
    "vals = np.linspace(0,10,11) #B\n",
    "p = dist.prob(vals) #C\n",
    "print(dist.mean().numpy())  #D\n",
    "print(dist.stddev().numpy())   #E\n",
    "plt.xticks(vals)\n",
    "plt.stem(vals, p)\n",
    "plt.xlabel('Number of Events')\n",
    "plt.ylabel('Probability')\n",
    "\n",
    "#A Poisson distribution with parameter rate 2\n",
    "#B some values for the x-axis in figure 5.rain\n",
    "#C the probability for the values\n",
    "#D the mean value yielding 2.0\n",
    "#E the standard deviation yielding sqrt(2.0) = 1.41..."
   ]
  },
  {
   "cell_type": "markdown",
   "metadata": {
    "colab_type": "text",
    "id": "18dtcjMG1Y4E"
   },
   "source": [
    "### Loading real count data\n",
    "\n",
    "Here you load traditional count data from: https://stats.idre.ucla.edu/r/dae/zip/. The traget variable will be the number fish caught during a state park visit by a group. You have data on 250 groups that went to a park. Each group was questioned about how many fish they caught (count), how many children were in the group (child), how many people were in the group (persons), if they used a live bait (livebait) and whether or not they brought a camper to the park (camper). This will be the predictors.\n",
    "You randomly split the data into train and test dataset (80% train and 20% test)."
   ]
  },
  {
   "cell_type": "code",
   "execution_count": 4,
   "metadata": {
    "colab": {},
    "colab_type": "code",
    "id": "eQuwzZUj1Y4L"
   },
   "outputs": [],
   "source": [
    "# The Fish Data Set\n",
    "# See example 2 from https://stats.idre.ucla.edu/r/dae/zip/ \n",
    "#\"nofish\",\"livebait\",\"camper\",\"persons\",\"child\",\"xb\",\"zg\",\"count\"\n",
    "dat = np.loadtxt('https://raw.githubusercontent.com/tensorchiefs/dl_book/master/data/fish.csv',delimiter=',', skiprows=1)\n",
    "X = dat[...,1:5] #\"livebait\",\"camper\",\"persons\",\"child\n",
    "y = dat[...,7]"
   ]
  },
  {
   "cell_type": "code",
   "execution_count": 5,
   "metadata": {
    "colab": {},
    "colab_type": "code",
    "id": "_58wisLu1Y4S"
   },
   "outputs": [],
   "source": [
    "# Uncomment the next line, to enhance the ZIP model (see below why you would like to do it)\n",
    "# n = len(y)\n",
    "# idx = np.random.permutation(n)[0:int(n*0.3)] \n",
    "# y[idx] = 0"
   ]
  },
  {
   "cell_type": "markdown",
   "metadata": {
    "colab_type": "text",
    "id": "ILaYEVVnBN3F"
   },
   "source": [
    "Let's split the data and look at the counts (how many fish each group caught).\n"
   ]
  },
  {
   "cell_type": "code",
   "execution_count": 6,
   "metadata": {
    "colab": {
     "base_uri": "https://localhost:8080/",
     "height": 503
    },
    "colab_type": "code",
    "id": "RCdA9LKL1Y4Y",
    "outputId": "c2440218-a493-4464-c811-7532b8d55ce0"
   },
   "outputs": [
    {
     "data": {
      "text/plain": [
       "((200, 4),\n",
       " (200,),\n",
       " (50, 4),\n",
       " (50,),\n",
       " (250, 8),\n",
       " array([0., 0., 2., 2., 0., 0., 0., 0., 1., 0.]),\n",
       " array([ 6.,  1.,  6.,  1.,  3.,  1.,  0., 15.,  0.,  2.]))"
      ]
     },
     "execution_count": 6,
     "metadata": {},
     "output_type": "execute_result"
    }
   ],
   "source": [
    "X_train, X_test, y_train, y_test = train_test_split(X, y, test_size=0.2, random_state=42,shuffle=True)\n",
    "d = X_train.shape[1]\n",
    "X_train.shape, y_train.shape, X_test.shape, y_test.shape,dat.shape, y_test[0:10], y_train[0:10]"
   ]
  },
  {
   "cell_type": "markdown",
   "metadata": {
    "colab_type": "text",
    "id": "vTcHrKJVByqM"
   },
   "source": [
    "In the following we will at the number of fish each group caught. "
   ]
  },
  {
   "cell_type": "code",
   "execution_count": 7,
   "metadata": {
    "colab": {
     "base_uri": "https://localhost:8080/",
     "height": 486
    },
    "colab_type": "code",
    "id": "RVqCbgQZ1Y4e",
    "outputId": "c3cf8900-4aa6-473f-b402-61c51c905452",
    "scrolled": true
   },
   "outputs": [
    {
     "name": "stderr",
     "output_type": "stream",
     "text": [
      "/usr/local/lib/python3.6/dist-packages/ipykernel_launcher.py:5: UserWarning: In Matplotlib 3.3 individual lines on a stem plot will be added as a LineCollection instead of individual lines. This significantly improves the performance of a stem plot. To remove this warning and switch to the new behaviour, set the \"use_line_collection\" keyword argument to True.\n",
      "  \"\"\"\n",
      "/usr/local/lib/python3.6/dist-packages/ipykernel_launcher.py:10: UserWarning: In Matplotlib 3.3 individual lines on a stem plot will be added as a LineCollection instead of individual lines. This significantly improves the performance of a stem plot. To remove this warning and switch to the new behaviour, set the \"use_line_collection\" keyword argument to True.\n",
      "  # Remove the CWD from sys.path while we load stuff.\n"
     ]
    },
    {
     "data": {
      "image/png": "[encoded data removed]",
      "text/plain": [
       "<Figure size 1008x360 with 2 Axes>"
      ]
     },
     "metadata": {
      "needs_background": "light"
     },
     "output_type": "display_data"
    },
    {
     "data": {
      "text/plain": [
       "149.0"
      ]
     },
     "execution_count": 7,
     "metadata": {},
     "output_type": "execute_result"
    }
   ],
   "source": [
    "plt.figure(figsize=(14,5))\n",
    "\n",
    "vals, counts = np.unique(y_train, return_counts=True)\n",
    "plt.subplot(1,2,1)\n",
    "plt.stem(vals, counts)\n",
    "plt.xlabel('Count: number of fish caught')\n",
    "plt.ylabel('Frequency')\n",
    "plt.xlim(-1,10)\n",
    "plt.subplot(1,2,2)\n",
    "plt.stem(vals, counts)\n",
    "plt.xlabel('Count: number of fish caught')\n",
    "plt.ylabel('Frequency')\n",
    "plt.show()\n",
    "np.max(y_train)"
   ]
  },
  {
   "cell_type": "markdown",
   "metadata": {},
   "source": [
    "You see that most of the groups didn't caught any fish at all. The number of fish caught is between 1 and 8 fish, there is only one group that was very successful and caught 149 fish!"
   ]
  },
  {
   "cell_type": "markdown",
   "metadata": {
    "colab_type": "text",
    "id": "QeOx8Gk91Y4l"
   },
   "source": [
    "## Fit linear regression model with constant variance\n",
    "\n",
    "In the next few cells you will ignore the fact that you are dealing with count data here and just fit a linear regression model with constant variance to the data. You will fist do this with sklearn and then with keras. You will use the standart MSE loss and use the formula to calculate the optimal standart deviation to minimize the NLL. Finally, you predict the test data and compare the performance with the RSME, MAE and the NLL. "
   ]
  },
  {
   "cell_type": "markdown",
   "metadata": {
    "colab_type": "text",
    "id": "Y2jVnNH71Y4m"
   },
   "source": [
    "### Linear regression with sklearn \n",
    " \n",
    "Let's fist fit the linear regression with sklean on the training data."
   ]
  },
  {
   "cell_type": "code",
   "execution_count": 8,
   "metadata": {
    "colab": {},
    "colab_type": "code",
    "id": "kl72JqqH1Y4o"
   },
   "outputs": [],
   "source": [
    "# The linear regression using non deep learning methods\n",
    "# These methods have no problem with convergence \n",
    "from sklearn.linear_model import LinearRegression\n",
    "model_skl = LinearRegression()\n",
    "res = model_skl.fit(X_train, y_train)"
   ]
  },
  {
   "cell_type": "markdown",
   "metadata": {
    "colab_type": "text",
    "id": "43AlkxLU1Y4w"
   },
   "source": [
    "In linear regression, we assuming that the $\\sigma$ is constant. To calculate the NLL, we need to estimate this quantity from the training data. But the prediction is of course done on the testdata. Note that we calculate the mean NLL."
   ]
  },
  {
   "cell_type": "code",
   "execution_count": 9,
   "metadata": {
    "colab": {
     "base_uri": "https://localhost:8080/",
     "height": 131
    },
    "colab_type": "code",
    "id": "aZrTcLWA1Y4z",
    "outputId": "572a6d3e-5cce-46bc-c5ce-346e93432348"
   },
   "outputs": [
    {
     "name": "stdout",
     "output_type": "stream",
     "text": [
      "Estimated variance  118.45401800694137\n",
      "Estimated standart deviation  10.883658300725054\n",
      "NLL on training: 3.801200958991639\n"
     ]
    },
    {
     "data": {
      "text/html": [
       "<div>\n",
       "<style scoped>\n",
       "    .dataframe tbody tr th:only-of-type {\n",
       "        vertical-align: middle;\n",
       "    }\n",
       "\n",
       "    .dataframe tbody tr th {\n",
       "        vertical-align: top;\n",
       "    }\n",
       "\n",
       "    .dataframe thead th {\n",
       "        text-align: right;\n",
       "    }\n",
       "</style>\n",
       "<table border=\"1\" class=\"dataframe\">\n",
       "  <thead>\n",
       "    <tr style=\"text-align: right;\">\n",
       "      <th></th>\n",
       "      <th>RMSE</th>\n",
       "      <th>MAE</th>\n",
       "      <th>NLL (mean)</th>\n",
       "    </tr>\n",
       "  </thead>\n",
       "  <tbody>\n",
       "    <tr>\n",
       "      <td>Linear Regression (sklearn)</td>\n",
       "      <td>8.588126</td>\n",
       "      <td>4.70509</td>\n",
       "      <td>3.617528</td>\n",
       "    </tr>\n",
       "  </tbody>\n",
       "</table>\n",
       "</div>"
      ],
      "text/plain": [
       "                                 RMSE      MAE  NLL (mean)\n",
       "Linear Regression (sklearn)  8.588126  4.70509    3.617528"
      ]
     },
     "execution_count": 9,
     "metadata": {},
     "output_type": "execute_result"
    }
   ],
   "source": [
    "import pandas as pd\n",
    "# Calculation of the the optimal sigma \n",
    "y_hat_train = model_skl.predict(X_train)\n",
    "n = len(y_hat_train)\n",
    "sigma_hat_2 = (n-1.)/(n-2.) * np.var(y_train - y_hat_train.flatten(),ddof=1)\n",
    "print('Estimated variance ', sigma_hat_2)\n",
    "print('Estimated standart deviation ', np.sqrt(sigma_hat_2))\n",
    "\n",
    "y_hat = model_skl.predict(X_test) #Prediction on the testset\n",
    "RMSE_skl = np.sqrt(np.mean((y_test - y_hat.flatten())**2))\n",
    "MAE_skl = np.mean(np.abs(y_test- y_hat.flatten())) \n",
    "\n",
    "NLL_skl =  0.5*np.log(2 * np.pi * sigma_hat_2) + 0.5*np.mean((y_test - y_hat.flatten())**2)/sigma_hat_2\n",
    "print('NLL on training:', 0.5*np.log(2 * np.pi * sigma_hat_2) + 0.5*np.mean((y_train - y_hat_train.flatten())**2)/sigma_hat_2)\n",
    "\n",
    "df1 = pd.DataFrame(\n",
    "          {'RMSE' : RMSE_skl, 'MAE' : MAE_skl, 'NLL (mean)' : NLL_skl}, index=['Linear Regression (sklearn)']\n",
    ")\n",
    "df1"
   ]
  },
  {
   "cell_type": "markdown",
   "metadata": {
    "colab_type": "text",
    "id": "AxwxHcV_1Y4_"
   },
   "source": [
    "### Linear regression with Keras \n",
    " \n",
    "Let's do the same as before with sklearn, but this time you use a linear regression  model with keras.\n",
    "You have 4 inputs (child , persons livebait, camper) and 1 output (count). Note that you'll use the standart MSE loss."
   ]
  },
  {
   "cell_type": "code",
   "execution_count": 10,
   "metadata": {
    "colab": {},
    "colab_type": "code",
    "id": "J8oUGFcK1Y5C"
   },
   "outputs": [],
   "source": [
    "from tensorflow.keras import Sequential, Model\n",
    "from tensorflow.keras.layers import Dense, Input \n",
    "from tensorflow.keras.optimizers import Adam\n",
    "\n",
    "model_lr = Sequential() \n",
    "model_lr.add(Dense(1,input_dim=d, activation='linear')) \n",
    "model_lr.compile(loss='mean_squared_error',optimizer=Adam(learning_rate=0.01))"
   ]
  },
  {
   "cell_type": "code",
   "execution_count": 11,
   "metadata": {
    "colab": {},
    "colab_type": "code",
    "id": "7bZZMADo1Y5K"
   },
   "outputs": [],
   "source": [
    "hist_lr = model_lr.fit(x=X_train, y=y_train, validation_data=(X_test, y_test), epochs=5000, verbose=0, batch_size=len(y_train))"
   ]
  },
  {
   "cell_type": "code",
   "execution_count": 12,
   "metadata": {
    "colab": {
     "base_uri": "https://localhost:8080/",
     "height": 453
    },
    "colab_type": "code",
    "id": "Eo4VNK9J1Y5R",
    "outputId": "26e38ad2-c0b1-428d-a8c4-a9a223b34883"
   },
   "outputs": [
    {
     "data": {
      "image/png": "[encoded data removed]",
      "text/plain": [
       "<Figure size 432x288 with 1 Axes>"
      ]
     },
     "metadata": {
      "needs_background": "light"
     },
     "output_type": "display_data"
    }
   ],
   "source": [
    "plt.plot(hist_lr.history['loss']) #Note this is the MSE and not the RMSE\n",
    "plt.plot(hist_lr.history['val_loss'])\n",
    "plt.legend(['loss', 'val_loss'])\n",
    "plt.ylabel('MSE')\n",
    "plt.xlabel('Epochs')\n",
    "plt.show()"
   ]
  },
  {
   "cell_type": "code",
   "execution_count": 13,
   "metadata": {
    "colab": {
     "base_uri": "https://localhost:8080/",
     "height": 162
    },
    "colab_type": "code",
    "id": "Qyzmr9jLKJiK",
    "outputId": "78e17c0e-b077-4d73-e0b9-145e8829c5f1"
   },
   "outputs": [
    {
     "name": "stdout",
     "output_type": "stream",
     "text": [
      "Estimated variance  118.45401861383469\n",
      "Estimated standart deviation  10.883658328605998\n",
      "NLL on training: 3.801200961553415\n"
     ]
    },
    {
     "data": {
      "text/html": [
       "<div>\n",
       "<style scoped>\n",
       "    .dataframe tbody tr th:only-of-type {\n",
       "        vertical-align: middle;\n",
       "    }\n",
       "\n",
       "    .dataframe tbody tr th {\n",
       "        vertical-align: top;\n",
       "    }\n",
       "\n",
       "    .dataframe thead th {\n",
       "        text-align: right;\n",
       "    }\n",
       "</style>\n",
       "<table border=\"1\" class=\"dataframe\">\n",
       "  <thead>\n",
       "    <tr style=\"text-align: right;\">\n",
       "      <th></th>\n",
       "      <th>RMSE</th>\n",
       "      <th>MAE</th>\n",
       "      <th>NLL (mean)</th>\n",
       "    </tr>\n",
       "  </thead>\n",
       "  <tbody>\n",
       "    <tr>\n",
       "      <td>Linear Regression (sklearn)</td>\n",
       "      <td>8.588126</td>\n",
       "      <td>4.705090</td>\n",
       "      <td>3.617528</td>\n",
       "    </tr>\n",
       "    <tr>\n",
       "      <td>Linear Regression (MSE Keras)</td>\n",
       "      <td>8.588128</td>\n",
       "      <td>4.705087</td>\n",
       "      <td>3.617528</td>\n",
       "    </tr>\n",
       "  </tbody>\n",
       "</table>\n",
       "</div>"
      ],
      "text/plain": [
       "                                   RMSE       MAE  NLL (mean)\n",
       "Linear Regression (sklearn)    8.588126  4.705090    3.617528\n",
       "Linear Regression (MSE Keras)  8.588128  4.705087    3.617528"
      ]
     },
     "execution_count": 13,
     "metadata": {},
     "output_type": "execute_result"
    }
   ],
   "source": [
    "# Calculation of the the optimal sigma \n",
    "y_hat_train = model_lr.predict(X_train)\n",
    "sigma_hat_2 = (n-1.)/(n-2.) * np.var(y_train - y_hat_train.flatten(),ddof=1)\n",
    "print('Estimated variance ', sigma_hat_2)\n",
    "print('Estimated standart deviation ', np.sqrt(sigma_hat_2))\n",
    "\n",
    "y_hat = model_lr.predict(X_test) #Prediction on the testset\n",
    "RMSE_lr = np.sqrt(np.mean((y_test - y_hat.flatten())**2))\n",
    "MAE_lr = np.mean(np.abs(y_test - y_hat.flatten())) \n",
    "\n",
    "NLL_lr =  0.5*np.log(2 * np.pi * sigma_hat_2) + 0.5*np.mean((y_test - y_hat.flatten())**2)/sigma_hat_2\n",
    "print('NLL on training:', 0.5*np.log(2 * np.pi * sigma_hat_2) + 0.5*np.mean((y_train - y_hat_train.flatten())**2)/sigma_hat_2)\n",
    "\n",
    "df2 = pd.DataFrame(\n",
    "          {'RMSE' : RMSE_lr, 'MAE' : MAE_lr, 'NLL (mean)' : NLL_lr}, index=['Linear Regression (MSE Keras)']\n",
    ")\n",
    "pd.concat([df1,df2])"
   ]
  },
  {
   "cell_type": "markdown",
   "metadata": {
    "colab_type": "text",
    "id": "OTrEASJJ1Y5f"
   },
   "source": [
    "Here we are comparing the coefficients of the keras and sklearn linear regression models. As you can see we get the same results! The RMSE, MAE and the NLL are also the same."
   ]
  },
  {
   "cell_type": "code",
   "execution_count": 14,
   "metadata": {
    "colab": {
     "base_uri": "https://localhost:8080/",
     "height": 87
    },
    "colab_type": "code",
    "id": "O_KZ6MI81Y5h",
    "outputId": "8df677bf-e75c-4864-9aef-825307895a3f"
   },
   "outputs": [
    {
     "name": "stdout",
     "output_type": "stream",
     "text": [
      "weights using deep learning:           [ 2.482187   2.954299   4.6495247 -5.471593 ]\n",
      "weights from sklearn:                  [ 2.4822138   2.95430727  4.64953914 -5.47160051]\n",
      "Intercept (bias) using deep learning:  -8.492166\n",
      "Intercept (bias) using sklearn:        -8.492228208419718\n"
     ]
    }
   ],
   "source": [
    "print('weights using deep learning:          ',model_lr.get_weights()[0][:,0])\n",
    "print('weights from sklearn:                 ',res.coef_)\n",
    "print('Intercept (bias) using deep learning: ',model_lr.get_weights()[1][0])\n",
    "print('Intercept (bias) using sklearn:       ',res.intercept_)"
   ]
  },
  {
   "cell_type": "markdown",
   "metadata": {
    "colab_type": "text",
    "id": "scvDQ-mg1Y5r"
   },
   "source": [
    "#### Evaluation of the Performance \n",
    "Let's plot the predicted values of the the linear regression model. vs the true values on the train and test dataset."
   ]
  },
  {
   "cell_type": "code",
   "execution_count": 15,
   "metadata": {
    "colab": {
     "base_uri": "https://localhost:8080/",
     "height": 487
    },
    "colab_type": "code",
    "id": "FlzxWOQT1Y5u",
    "outputId": "759b1f1d-765e-4e4e-d6c4-b7787c8830db"
   },
   "outputs": [
    {
     "data": {
      "image/png": "[encoded data removed]",
      "text/plain": [
       "<Figure size 1008x360 with 2 Axes>"
      ]
     },
     "metadata": {
      "needs_background": "light"
     },
     "output_type": "display_data"
    }
   ],
   "source": [
    "plt.figure(figsize=(14,5))\n",
    "\n",
    "plt.subplot(1,2,1)\n",
    "plt.scatter(model_lr.predict(X_train), y_train,alpha=0.3)\n",
    "plt.title('Comparison on the training set')\n",
    "plt.xlabel('Number of mean caught fish predicted')\n",
    "plt.ylabel('Number of fish caught (true label)')\n",
    "\n",
    "plt.subplot(1,2,2) \n",
    "plt.scatter(model_lr.predict(X_test), y_test,alpha=0.3)\n",
    "plt.title('Comparison on the testset')\n",
    "plt.xlabel('Number of mean caught fish predicted')\n",
    "plt.ylabel('Number of fish caught (true label)')\n",
    "plt.show()"
   ]
  },
  {
   "cell_type": "markdown",
   "metadata": {
    "colab_type": "text",
    "id": "UQQlDYPt1Y5_"
   },
   "source": [
    "You can see that the prediction aren't that good. Note that the linear model predicts also negative values, which is obviously wrong. "
   ]
  },
  {
   "cell_type": "markdown",
   "metadata": {
    "colab_type": "text",
    "id": "RC5yQ6Na1Y6u"
   },
   "source": [
    "## Poisson Regression \n",
    "\n",
    "Now you use  the TFP framework and the Poission distribution to model the output of the network as a Poissonian conditional probability distribution. You will not use any hidden layers in between and the loss will be the NLL. After the fitting, you predict the test data and compare the performance with the linear regression model.\n",
    "$$\n",
    "    Y \\thicksim \\tt{Pois}(exp(w^{T} \\cdot x + b))\n",
    "$$"
   ]
  },
  {
   "cell_type": "code",
   "execution_count": 16,
   "metadata": {
    "colab": {
     "base_uri": "https://localhost:8080/",
     "height": 260
    },
    "colab_type": "code",
    "id": "c1D6mfOl1Y6w",
    "outputId": "23496c21-c6bd-44e0-b333-ca795ea456c2"
   },
   "outputs": [
    {
     "name": "stdout",
     "output_type": "stream",
     "text": [
      "Model: \"model\"\n",
      "_________________________________________________________________\n",
      "Layer (type)                 Output Shape              Param #   \n",
      "=================================================================\n",
      "input_1 (InputLayer)         [(None, 4)]               0         \n",
      "_________________________________________________________________\n",
      "dense_1 (Dense)              (None, 1)                 5         \n",
      "_________________________________________________________________\n",
      "distribution_lambda (Distrib ((None, 1), (None, 1))    0         \n",
      "=================================================================\n",
      "Total params: 5\n",
      "Trainable params: 5\n",
      "Non-trainable params: 0\n",
      "_________________________________________________________________\n"
     ]
    }
   ],
   "source": [
    "inputs = Input(shape=(X_train.shape[1],))  \n",
    "rate = Dense(1, \n",
    "         activation=tf.exp)(inputs) #A\n",
    "p_y = tfp.layers.DistributionLambda(tfd.Poisson)(rate) #B \n",
    "\n",
    "model_p = Model(inputs=inputs, outputs=p_y) #C\n",
    "\n",
    "\n",
    "def NLL(y_true, y_hat): #D\n",
    "  return -y_hat.log_prob(y_true)\n",
    "\n",
    "model_p.compile(Adam(learning_rate=0.01), loss=NLL)\n",
    "model_p.summary()\n",
    "\n",
    "#A Definition of a single layer with one output\n",
    "#B We use exponential of the output to model the rate\n",
    "#C Glueing input and output together. Note that output is a tf.distribution\n",
    "#D Since the second argument is the output of the model it is a distribution. It's as simple as calling log_prob to calculate the NLL."
   ]
  },
  {
   "cell_type": "code",
   "execution_count": 17,
   "metadata": {
    "colab": {},
    "colab_type": "code",
    "id": "kheyBbO_1Y6-"
   },
   "outputs": [],
   "source": [
    "hist_p = model_p.fit(x=X_train, y=y_train, validation_data=(X_test, y_test), epochs=2000, verbose=0)"
   ]
  },
  {
   "cell_type": "code",
   "execution_count": 18,
   "metadata": {
    "colab": {
     "base_uri": "https://localhost:8080/",
     "height": 471
    },
    "colab_type": "code",
    "id": "kSO3GedG1Y7I",
    "outputId": "c72d4c29-f5cd-4047-e46f-3ab81b4ea8b1",
    "scrolled": true
   },
   "outputs": [
    {
     "data": {
      "text/plain": [
       "Text(0.5, 0, 'Epochs')"
      ]
     },
     "execution_count": 18,
     "metadata": {},
     "output_type": "execute_result"
    },
    {
     "data": {
      "image/png": "[encoded data removed]",
      "text/plain": [
       "<Figure size 432x288 with 1 Axes>"
      ]
     },
     "metadata": {
      "needs_background": "light"
     },
     "output_type": "display_data"
    }
   ],
   "source": [
    "plt.plot(hist_p.history['loss'])\n",
    "plt.plot(hist_p.history['val_loss'])\n",
    "plt.legend(['loss', 'val_loss'])\n",
    "plt.xlabel('Epochs')"
   ]
  },
  {
   "cell_type": "code",
   "execution_count": 19,
   "metadata": {
    "colab": {
     "base_uri": "https://localhost:8080/",
     "height": 158
    },
    "colab_type": "code",
    "id": "oVjw2n-C1Y7P",
    "outputId": "cc167dc3-63cf-47b9-a204-aa3559f8d1cd"
   },
   "outputs": [
    {
     "name": "stdout",
     "output_type": "stream",
     "text": [
      "\r",
      "50/1 [============================================================================================================================================================================================================================================================================================================================================================================================================================================================================================================================================================================================================================================================================================================================================================================================================================================================================================================================================================================================================================================================================================================================================================================================================================================================================================================================================================================================================================================================================================================================================================] - 0s 78us/sample - loss: 3.6144\n"
     ]
    },
    {
     "data": {
      "text/html": [
       "<div>\n",
       "<style scoped>\n",
       "    .dataframe tbody tr th:only-of-type {\n",
       "        vertical-align: middle;\n",
       "    }\n",
       "\n",
       "    .dataframe tbody tr th {\n",
       "        vertical-align: top;\n",
       "    }\n",
       "\n",
       "    .dataframe thead th {\n",
       "        text-align: right;\n",
       "    }\n",
       "</style>\n",
       "<table border=\"1\" class=\"dataframe\">\n",
       "  <thead>\n",
       "    <tr style=\"text-align: right;\">\n",
       "      <th></th>\n",
       "      <th>RMSE</th>\n",
       "      <th>MAE</th>\n",
       "      <th>NLL (mean)</th>\n",
       "    </tr>\n",
       "  </thead>\n",
       "  <tbody>\n",
       "    <tr>\n",
       "      <td>Linear Regression (sklearn)</td>\n",
       "      <td>8.588126</td>\n",
       "      <td>4.705090</td>\n",
       "      <td>3.617528</td>\n",
       "    </tr>\n",
       "    <tr>\n",
       "      <td>Linear Regression (MSE Keras)</td>\n",
       "      <td>8.588128</td>\n",
       "      <td>4.705087</td>\n",
       "      <td>3.617528</td>\n",
       "    </tr>\n",
       "    <tr>\n",
       "      <td>Poisson Regression (TFP)</td>\n",
       "      <td>7.191673</td>\n",
       "      <td>3.117547</td>\n",
       "      <td>2.701041</td>\n",
       "    </tr>\n",
       "  </tbody>\n",
       "</table>\n",
       "</div>"
      ],
      "text/plain": [
       "                                   RMSE       MAE  NLL (mean)\n",
       "Linear Regression (sklearn)    8.588126  4.705090    3.617528\n",
       "Linear Regression (MSE Keras)  8.588128  4.705087    3.617528\n",
       "Poisson Regression (TFP)       7.191673  3.117547    2.701041"
      ]
     },
     "execution_count": 19,
     "metadata": {},
     "output_type": "execute_result"
    }
   ],
   "source": [
    "model = Model(inputs=inputs, outputs=p_y.mean()) \n",
    "y_hat_test = model.predict(X_test).flatten()\n",
    "\n",
    "\n",
    "rmse=np.sqrt(np.mean((y_test - y_hat_test)**2))\n",
    "mae=np.mean(np.abs(y_test - y_hat_test)) \n",
    "\n",
    "NLL = model_p.evaluate(X_test, y_test) #returns the NLL \n",
    "\n",
    "df3 = pd.DataFrame(\n",
    "         { 'RMSE' : rmse, 'MAE' : mae, 'NLL (mean)' : NLL}, index=['Poisson Regression (TFP)']\n",
    ")\n",
    "pd.concat([df1,df2,df3])"
   ]
  },
  {
   "cell_type": "code",
   "execution_count": 20,
   "metadata": {
    "colab": {
     "base_uri": "https://localhost:8080/",
     "height": 473
    },
    "colab_type": "code",
    "id": "ddqrjcSb1Y7T",
    "outputId": "ff9811e6-5b24-4c22-d936-a88230364342",
    "scrolled": true
   },
   "outputs": [
    {
     "data": {
      "image/png": "[encoded data removed]",
      "text/plain": [
       "<Figure size 432x288 with 1 Axes>"
      ]
     },
     "metadata": {
      "needs_background": "light"
     },
     "output_type": "display_data"
    }
   ],
   "source": [
    "plt.scatter(y_hat_test, y_test,alpha=0.3)\n",
    "plt.title('Comparison on the testset')\n",
    "plt.xlabel('Number of mean caught fish predicted')\n",
    "plt.ylabel('Number of fish caught (true label)')\n",
    "plt.show()"
   ]
  },
  {
   "cell_type": "markdown",
   "metadata": {
    "colab_type": "text",
    "id": "RP8y4gdz1Y7a"
   },
   "source": [
    "You see that the Poission regression is the best model so far, with the lowest NLL on the test data (~2.7) and also the RMSE and the MAE are lower. On the predicted vs true plot you see that the predictions are now a bit better then with the linear regression model. Note that the poission regression model does not predict any negative values. We have no values below zero. In an ideal model, all points would line up on the main diagonal."
   ]
  },
  {
   "cell_type": "markdown",
   "metadata": {
    "colab_type": "text",
    "id": "qQY2rCxQuHfG"
   },
   "source": [
    "### Return to the book \n",
    "<img src=\"https://raw.githubusercontent.com/tensorchiefs/dl_book/master/imgs/Page_turn_icon_A.png\" width=\"120\" align=\"left\" />  \n",
    "Return to the book to learn about zero inflated Poisson Regression."
   ]
  },
  {
   "cell_type": "markdown",
   "metadata": {
    "colab_type": "text",
    "id": "PJWH_iYP1Y7a"
   },
   "source": [
    "## Zero inflated Poisson Regression \n",
    "\n",
    "You saw that it seems that there are more unlucky groups that did not catch any fish at all, as you would expect from Poisson regression model. To tackle this problem you will define now a model with two outputs, one for the poisson mean and one for the probability that zero fish were caught. This is the so called zero inflated Poisson distribution. You use the TFP framework create a mixture of the Poission distribution and zeros. You will not use any hidden layers in between and the loss will be the NLL. After the fitting, you predict the test data and compare the performance with the linear regression model.\n",
    "\n"
   ]
  },
  {
   "cell_type": "markdown",
   "metadata": {
    "colab_type": "text",
    "id": "dWyekfiA9lxG"
   },
   "source": [
    "The ZIP needs two parameters:\n",
    "* the probability 1-p with which zeros are produced\n",
    "* the rate of a Poisson distribution with probability p\n"
   ]
  },
  {
   "cell_type": "code",
   "execution_count": 0,
   "metadata": {
    "colab": {},
    "colab_type": "code",
    "id": "s9tYvDbj1Y7b"
   },
   "outputs": [],
   "source": [
    "# Listing 5.l_zi\n",
    "def zero_inf(out): \n",
    "    rate = tf.squeeze(tf.math.exp(out[:,0:1])) #A \n",
    "    s = tf.math.sigmoid(out[:,1:2]) #B  \n",
    "    probs = tf.concat([1-s, s], axis=1) #C \n",
    "    return tfd.Mixture(\n",
    "          cat=tfd.Categorical(probs=probs),#D\n",
    "          components=[\n",
    "          tfd.Deterministic(loc=tf.zeros_like(rate)), #E\n",
    "          tfd.Poisson(rate=rate), #F \n",
    "        ])\n",
    "\n",
    "#A The first component codes for the rate. We use exponential to guaranty values >0. We use the squeeze function to flatten the tensor.\n",
    "#B The second component codes for the zero inflation, using sigmoid squeezes the value between 0 and 1.\n",
    "#C The two probabilities for zeros or Poissonian  \n",
    "#D The tfd.Categorical allows to create a mixture of two components. \n",
    "#E Zero as a deterministic value \n",
    "#F Value drawn from a Poissonian"
   ]
  },
  {
   "cell_type": "markdown",
   "metadata": {
    "colab_type": "text",
    "id": "2dxIHn1UkwHp"
   },
   "source": [
    "In the next cell you can check if the zip distribution is working. For the input values we chose 1 for the rate \n",
    "and +- 10 for the probability to pick the rate. Note that those values are transformed into exp(1) wich is ~2.71 and sigmoid(10)  which is almost 1 and sigmoid(-10) which is very close to 0. If you look at the predicted mean of the distribution, you see that the function works. It's is also possible to sample from the distribution."
   ]
  },
  {
   "cell_type": "code",
   "execution_count": 242,
   "metadata": {
    "colab": {
     "base_uri": "https://localhost:8080/",
     "height": 156
    },
    "colab_type": "code",
    "id": "0cObilkk1Y7g",
    "outputId": "fa2602da-c421-4b18-a9fd-1da5cf1afe5f"
   },
   "outputs": [
    {
     "name": "stdout",
     "output_type": "stream",
     "text": [
      "rate of the poissonian : 2.7182817\n",
      "probability to pick the rate : 0.9999546\n",
      "probability to pick the rate : 4.5397872e-05\n",
      "Input Tensor : \n",
      "[[  1.  10.]\n",
      " [  1. -10.]]\n",
      "Output Mean  :  [2.7181582e+00 1.2340420e-04]\n",
      "Output Sample  :  [1. 0.]\n"
     ]
    }
   ],
   "source": [
    "## testinging the distribution, we evalute some data \n",
    "\n",
    "print(\"rate of the poissonian :\", tf.exp(1.0).numpy())\n",
    "print(\"probability to pick the rate :\" ,tf.math.sigmoid(10.0).numpy())\n",
    "print(\"probability to pick the rate :\" ,tf.math.sigmoid(-10.0).numpy())\n",
    "\n",
    "\n",
    "t = np.ones((2,2), dtype=np.float32)\n",
    "t[0,0] = 1\n",
    "t[0,1] = 10#almost always take pois \n",
    "t[1,0] = 1\n",
    "t[1,1] = -10# almost always take zero\n",
    "#t = tf.cast(t, dtype=\"float32\")\n",
    "print('Input Tensor : ')\n",
    "print(t)\n",
    "print('Output Mean  : ',zero_inf(t).mean().numpy())\n",
    "print('Output Sample  : ',zero_inf(t).sample().numpy())"
   ]
  },
  {
   "cell_type": "markdown",
   "metadata": {
    "colab_type": "text",
    "id": "iNVLvmqF4jgL"
   },
   "source": [
    "Here you define the network and use the zero_inf distribution."
   ]
  },
  {
   "cell_type": "code",
   "execution_count": 229,
   "metadata": {
    "colab": {
     "base_uri": "https://localhost:8080/",
     "height": 260
    },
    "colab_type": "code",
    "id": "IhkJUDNW1Y7m",
    "outputId": "1e009e73-be11-425b-ad54-9d6d8a500755"
   },
   "outputs": [
    {
     "name": "stdout",
     "output_type": "stream",
     "text": [
      "Model: \"model_29\"\n",
      "_________________________________________________________________\n",
      "Layer (type)                 Output Shape              Param #   \n",
      "=================================================================\n",
      "input_32 (InputLayer)        [(None, 4)]               0         \n",
      "_________________________________________________________________\n",
      "dense_32 (Dense)             (None, 2)                 10        \n",
      "_________________________________________________________________\n",
      "distribution_lambda_31 (Dist ((None,), (None,))        0         \n",
      "=================================================================\n",
      "Total params: 10\n",
      "Trainable params: 10\n",
      "Non-trainable params: 0\n",
      "_________________________________________________________________\n"
     ]
    }
   ],
   "source": [
    "\n",
    "## Definition of the custom parametrized distribution\n",
    "inputs = tf.keras.layers.Input(shape=(X_train.shape[1],))  \n",
    "out = Dense(2)(inputs)#A\n",
    "p_y_zi = tfp.layers.DistributionLambda(zero_inf)(out)\n",
    "model_zi = Model(inputs=inputs, outputs=p_y_zi)\n",
    "\n",
    "#A A dense layer is used without activation. The transformation is done inside zero_inf function\n",
    "model_zi.summary()"
   ]
  },
  {
   "cell_type": "markdown",
   "metadata": {
    "colab_type": "text",
    "id": "xVLRbGNg1Y7q"
   },
   "source": [
    "### Training of the model (by hand)with GradientTape [optional]\n",
    "\n",
    "The following code trains the NN using a evaluation loop by hand. This help us to find instabilities, See also: https://www.tensorflow.org/beta/guide/keras/training_and_evaluation#part_ii_writing_your_own_training_evaluation_loops_from_scratch\n"
   ]
  },
  {
   "cell_type": "code",
   "execution_count": 230,
   "metadata": {
    "colab": {
     "base_uri": "https://localhost:8080/",
     "height": 191
    },
    "colab_type": "code",
    "id": "FQGr8xl-1Y7r",
    "outputId": "597b4042-401c-4333-8e2d-19c6beffb69f"
   },
   "outputs": [
    {
     "name": "stdout",
     "output_type": "stream",
     "text": [
      "tf.Tensor(6.14559, shape=(), dtype=float32)\n",
      "tf.Tensor(5.3447065, shape=(), dtype=float32)\n",
      "tf.Tensor(4.689412, shape=(), dtype=float32)\n",
      "tf.Tensor(4.230555, shape=(), dtype=float32)\n",
      "tf.Tensor(4.0073786, shape=(), dtype=float32)\n",
      "tf.Tensor(4.0057483, shape=(), dtype=float32)\n",
      "tf.Tensor(4.1153827, shape=(), dtype=float32)\n",
      "tf.Tensor(4.171398, shape=(), dtype=float32)\n",
      "tf.Tensor(4.1061964, shape=(), dtype=float32)\n",
      "tf.Tensor(3.9628437, shape=(), dtype=float32)\n"
     ]
    }
   ],
   "source": [
    "optimizer=tf.optimizers.Adam(learning_rate=0.05)\n",
    "steps=10\n",
    "loss_values = np.zeros((steps))\n",
    "for e in range(steps):\n",
    "    with tf.GradientTape() as tape:\n",
    "        y_hat = model_zi(X_train)\n",
    "        loss_value = -tf.reduce_mean(y_hat.log_prob(y_train))\n",
    "        loss_values[e] = loss_value\n",
    "        grads = tape.gradient(loss_value, model_zi.trainable_weights)\n",
    "        weights =  model_zi.trainable_weights       \n",
    "        optimizer.apply_gradients(zip(grads,weights))\n",
    "        print(loss_value)"
   ]
  },
  {
   "cell_type": "markdown",
   "metadata": {
    "colab_type": "text",
    "id": "LjpdKTYq1Y7t"
   },
   "source": [
    "### Training using keras' build in training"
   ]
  },
  {
   "cell_type": "code",
   "execution_count": 0,
   "metadata": {
    "colab": {},
    "colab_type": "code",
    "id": "QbmF_D-p1Y7u"
   },
   "outputs": [],
   "source": [
    "def NLL(y_true, y_hat):\n",
    "    return -y_hat.log_prob(tf.reshape(y_true,(-1,)))\n",
    "\n",
    "model_zi.compile(optimizer=tf.optimizers.Adam(learning_rate=0.01), loss=NLL)\n",
    "hist_zi = model_zi.fit(x=X_train, y=y_train, validation_data=(X_test, y_test), epochs=2000, verbose=0)"
   ]
  },
  {
   "cell_type": "code",
   "execution_count": 232,
   "metadata": {
    "colab": {
     "base_uri": "https://localhost:8080/",
     "height": 545
    },
    "colab_type": "code",
    "id": "BTrC-2dzW8_-",
    "outputId": "8ee02932-0210-43a5-974a-35fae68efd49"
   },
   "outputs": [
    {
     "data": {
      "image/png": "[encoded data removed]",
      "text/plain": [
       "<Figure size 1200x600 with 2 Axes>"
      ]
     },
     "metadata": {
      "tags": []
     },
     "output_type": "display_data"
    }
   ],
   "source": [
    "plt.figure(figsize=(12,6))\n",
    "plt.subplot(1,2,1)\n",
    "plt.plot(hist_zi.history['loss'])\n",
    "plt.plot(hist_zi.history['val_loss'])\n",
    "plt.legend(['ZI loss','ZI val_loss'])\n",
    "plt.xlabel('Epochs')\n",
    "plt.ylabel('NLL')\n",
    "plt.subplot(1,2,2)\n",
    "plt.plot(hist_p.history['loss'],linestyle='-.')\n",
    "plt.plot(hist_p.history['val_loss'])\n",
    "plt.plot(hist_zi.history['loss'])\n",
    "plt.plot(hist_zi.history['val_loss'])\n",
    "plt.legend(['Poisson loss','Poisson val_loss','ZI loss','ZI val_loss'])\n",
    "plt.xlabel('Epochs')\n",
    "plt.ylabel('NLL')\n",
    "plt.show()"
   ]
  },
  {
   "cell_type": "code",
   "execution_count": 235,
   "metadata": {
    "colab": {
     "base_uri": "https://localhost:8080/",
     "height": 189
    },
    "colab_type": "code",
    "id": "dwM1es891Y74",
    "outputId": "f88ecbcb-e549-405e-f5c6-db2407838cb3"
   },
   "outputs": [
    {
     "name": "stdout",
     "output_type": "stream",
     "text": [
      "50/50 [==============================] - 0s 69us/sample - loss: 2.2720\n"
     ]
    },
    {
     "data": {
      "text/html": [
       "<div>\n",
       "<style scoped>\n",
       "    .dataframe tbody tr th:only-of-type {\n",
       "        vertical-align: middle;\n",
       "    }\n",
       "\n",
       "    .dataframe tbody tr th {\n",
       "        vertical-align: top;\n",
       "    }\n",
       "\n",
       "    .dataframe thead th {\n",
       "        text-align: right;\n",
       "    }\n",
       "</style>\n",
       "<table border=\"1\" class=\"dataframe\">\n",
       "  <thead>\n",
       "    <tr style=\"text-align: right;\">\n",
       "      <th></th>\n",
       "      <th>RMSE</th>\n",
       "      <th>MAE</th>\n",
       "      <th>NLL (mean)</th>\n",
       "    </tr>\n",
       "  </thead>\n",
       "  <tbody>\n",
       "    <tr>\n",
       "      <th>Linear Regression (sklearn)</th>\n",
       "      <td>8.588126</td>\n",
       "      <td>4.705090</td>\n",
       "      <td>3.617528</td>\n",
       "    </tr>\n",
       "    <tr>\n",
       "      <th>Linear Regression (MSE Keras)</th>\n",
       "      <td>8.588128</td>\n",
       "      <td>4.705087</td>\n",
       "      <td>3.617528</td>\n",
       "    </tr>\n",
       "    <tr>\n",
       "      <th>Poisson Regression (TFP)</th>\n",
       "      <td>7.362859</td>\n",
       "      <td>3.045387</td>\n",
       "      <td>2.735704</td>\n",
       "    </tr>\n",
       "    <tr>\n",
       "      <th>ZIP (TFP)</th>\n",
       "      <td>7.347617</td>\n",
       "      <td>3.191299</td>\n",
       "      <td>2.271964</td>\n",
       "    </tr>\n",
       "  </tbody>\n",
       "</table>\n",
       "</div>"
      ],
      "text/plain": [
       "                                   RMSE       MAE  NLL (mean)\n",
       "Linear Regression (sklearn)    8.588126  4.705090    3.617528\n",
       "Linear Regression (MSE Keras)  8.588128  4.705087    3.617528\n",
       "Poisson Regression (TFP)       7.362859  3.045387    2.735704\n",
       "ZIP (TFP)                      7.347617  3.191299    2.271964"
      ]
     },
     "execution_count": 235,
     "metadata": {
      "tags": []
     },
     "output_type": "execute_result"
    }
   ],
   "source": [
    "model = Model(inputs=inputs, outputs=p_y_zi.mean()) \n",
    "y_hat_test = model.predict(X_test).flatten()\n",
    "\n",
    "\n",
    "mse=np.sqrt(np.mean((y_test - y_hat_test)**2))\n",
    "mae=np.mean(np.abs(y_test - y_hat_test)) \n",
    "\n",
    "NLL = model_zi.evaluate(X_test, y_test) #returns the NLL \n",
    "\n",
    "\n",
    "df4 = pd.DataFrame(\n",
    "         { 'RMSE' : mse, 'MAE' : mae, 'NLL (mean)' : NLL}, index=['ZIP (TFP)']\n",
    ")\n",
    "pd.concat([df1,df2,df3,df4])"
   ]
  },
  {
   "cell_type": "code",
   "execution_count": 236,
   "metadata": {
    "colab": {
     "base_uri": "https://localhost:8080/",
     "height": 507
    },
    "colab_type": "code",
    "id": "3Sc175du1Y79",
    "outputId": "be0c62ce-35c6-4a41-bb36-feff9b0c4951"
   },
   "outputs": [
    {
     "data": {
      "image/png": "[encoded data removed]",
      "text/plain": [
       "<Figure size 640x480 with 1 Axes>"
      ]
     },
     "metadata": {
      "tags": []
     },
     "output_type": "display_data"
    },
    {
     "name": "stdout",
     "output_type": "stream",
     "text": [
      "Training Set 10.535803 62\n",
      "Test Set 4.103934 22\n"
     ]
    }
   ],
   "source": [
    "plt.scatter(y_hat_test, y_test,alpha=0.3)\n",
    "plt.title('Comparison on the testset')\n",
    "plt.xlabel('Number of mean caught fish predicted')\n",
    "plt.ylabel('Number of fish caught (true label)')\n",
    "plt.show()\n",
    "\n",
    "print('Training Set', np.mean(np.square(y_hat_train[y_train == 0])),np.sum(y_hat_train[y_train == 0]>0.5))\n",
    "print('Test Set', np.mean(np.square(y_hat_test[y_test == 0])),np.sum(y_hat_test[y_test == 0]>0.5))"
   ]
  },
  {
   "cell_type": "markdown",
   "metadata": {
    "colab_type": "text",
    "id": "vkWMUK151Y8A"
   },
   "source": [
    "Note that the ZIP model is not so much better then the Poisson model. Let's see what happens if you make more fisherman unlucky and remove randomly remove some catched. You can uncomment the lines in cell 6."
   ]
  }
 ],
 "metadata": {
  "colab": {
   "name": "nb_ch05_creg_06_08_2019.ipynb",
   "provenance": [],
   "toc_visible": true,
   "version": "0.3.2"
  },
  "kernelspec": {
   "display_name": "Python 3",
   "language": "python",
   "name": "python3"
  },
  "language_info": {
   "codemirror_mode": {
    "name": "ipython",
    "version": 3
   },
   "file_extension": ".py",
   "mimetype": "text/x-python",
   "name": "python",
   "nbconvert_exporter": "python",
   "pygments_lexer": "ipython3",
   "version": "3.6.8"
  }
 },
 "nbformat": 4,
 "nbformat_minor": 1
}
