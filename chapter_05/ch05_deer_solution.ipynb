{
  "nbformat": 4,
  "nbformat_minor": 0,
  "metadata": {
    "colab": {
      "name": "ch05_deer_solution.ipynb",
      "version": "0.3.2",
      "provenance": [],
      "toc_visible": true
    },
    "language_info": {
      "codemirror_mode": {
        "name": "ipython",
        "version": 3
      },
      "file_extension": ".py",
      "mimetype": "text/x-python",
      "name": "python",
      "nbconvert_exporter": "python",
      "pygments_lexer": "ipython3",
      "version": "3.5.2"
    },
    "kernelspec": {
      "name": "python3",
      "display_name": "Python 3"
    },
    "accelerator": "GPU"
  },
  "cells": [
    {
      "cell_type": "markdown",
      "metadata": {
        "id": "u-mFWP7bJ2_g",
        "colab_type": "text"
      },
      "source": [
        "# Solution of the deer data\n",
        "\n",
        "** Try first yourself before continuing **\n",
        "### Count regression on deer data\n",
        "\n",
        "This notebook demonstrates the use of TFP for regression on count data. The dataset is the number of fish caught in a state park. \n",
        "\n",
        "* Poisson Regression\n",
        "* Zero Infated Poisson Regression\n",
        "\n",
        "#### Results from the paper"
      ]
    },
    {
      "cell_type": "code",
      "metadata": {
        "id": "rTWB39X_J2_h",
        "colab_type": "code",
        "colab": {
          "base_uri": "https://localhost:8080/",
          "height": 35
        },
        "outputId": "62263b50-023d-4845-fb0f-a49a632528e4"
      },
      "source": [
        "import tensorflow as tf\n",
        "try: #If running in colab \n",
        "    import google.colab\n",
        "    IN_COLAB = True \n",
        "except:\n",
        "  \n",
        "    IN_COLAB = False\n",
        "if (not tf.__version__.startswith('2')): #Checking if tf 2.0 is installed\n",
        "    if IN_COLAB: #If running in colab install tf 2.0\n",
        "        !pip install tensorflow==2.0.0-alpha0\n",
        "        !pip install pip install tfp-nightly==0.7.0-dev20190511\n",
        "    print('Please install tensorflow 2.0 to run this notebook')\n",
        "print('Tensorflow version: ',tf.__version__, ' running in colab?: ', IN_COLAB)"
      ],
      "execution_count": 1,
      "outputs": [
        {
          "output_type": "stream",
          "text": [
            "Tensorflow version:  2.0.0-alpha0  running in colab?:  True\n"
          ],
          "name": "stdout"
        }
      ]
    },
    {
      "cell_type": "code",
      "metadata": {
        "id": "p_pM4UKiJ2_l",
        "colab_type": "code",
        "colab": {
          "base_uri": "https://localhost:8080/",
          "height": 52
        },
        "outputId": "954b16a0-d595-4799-bf6c-c40e42bdb348"
      },
      "source": [
        "import matplotlib.pyplot as plt\n",
        "import numpy as np\n",
        "from sklearn.model_selection import train_test_split\n",
        "from sklearn.metrics import mean_absolute_error, mean_squared_error\n",
        "import seaborn as sns\n",
        "import tensorflow_probability as tfp\n",
        "\n",
        "sns.reset_defaults()\n",
        "#sns.set_style('whitegrid')\n",
        "sns.set_context(context='talk',font_scale=0.7)\n",
        "\n",
        "\n",
        "%matplotlib inline\n",
        "plt.style.use('default')\n",
        "\n",
        "tfd = tfp.distributions\n",
        "tfb = tfp.bijectors\n",
        "from tensorflow.keras.models import Model\n",
        "from tensorflow.keras.layers import Dense\n",
        "print(\"TFP Version\", tfp.__version__)\n",
        "print(\"TF  Version\",tf.__version__)\n",
        "np.random.seed(42)\n",
        "tf.random.set_seed(42)"
      ],
      "execution_count": 2,
      "outputs": [
        {
          "output_type": "stream",
          "text": [
            "TFP Version 0.7.0\n",
            "TF  Version 2.0.0-alpha0\n"
          ],
          "name": "stdout"
        }
      ]
    },
    {
      "cell_type": "markdown",
      "metadata": {
        "id": "EoCvV8OLJ2_o",
        "colab_type": "text"
      },
      "source": [
        "## Loading some count data"
      ]
    },
    {
      "cell_type": "code",
      "metadata": {
        "id": "siHMzK-1J2_p",
        "colab_type": "code",
        "colab": {}
      },
      "source": [
        "# Alternative version\n",
        "# dat = np.loadtxt('https://raw.githubusercontent.com/tensorchiefs/dl_book/master/data/nb_data.csv') \n",
        "# X = dat[...,0:3]\n",
        "# y = dat[...,4]\n",
        "# X_tr, X_te, y_tr, y_te = train_test_split(X, y, test_size=0.33, random_state=42)\n",
        "# X_tr.shape, y_tr.shape, X_te.shape, y_te.shape"
      ],
      "execution_count": 0,
      "outputs": []
    },
    {
      "cell_type": "code",
      "metadata": {
        "id": "2-crWO-uJ2_r",
        "colab_type": "code",
        "colab": {}
      },
      "source": [
        "# The Fish Data Set\n",
        "# See example 2 from https://stats.idre.ucla.edu/r/dae/zip/ \n",
        "#\"nofish\",\"livebait\",\"camper\",\"persons\",\"child\",\"xb\",\"zg\",\"count\"\n",
        "#dat = np.loadtxt('../data/fish.csv', delimiter=',', skiprows=1)\n",
        "# dat = np.loadtxt('https://raw.githubusercontent.com/tensorchiefs/dl_book/master/data/fish.csv',delimiter=',', skiprows=1)\n",
        "# X = dat[...,1:5] #\"livebait\",\"camper\",\"persons\",\"child\n",
        "# y = dat[...,7]\n",
        "# X_tr, X_te, y_tr, y_te = train_test_split(X, y, test_size=0.33, random_state=42)\n",
        "# d = X_tr.shape[1]\n",
        "# X_tr.shape, y_tr.shape, X_te.shape, y_te.shape,dat.shape"
      ],
      "execution_count": 0,
      "outputs": []
    },
    {
      "cell_type": "code",
      "metadata": {
        "id": "0G1IUxRwJ2_s",
        "colab_type": "code",
        "colab": {}
      },
      "source": [
        "#!wget http://www-home.htwg-konstanz.de/~oduerr/tmp/deer_train_short.csv"
      ],
      "execution_count": 0,
      "outputs": []
    },
    {
      "cell_type": "code",
      "metadata": {
        "id": "MwPlc220J2_u",
        "colab_type": "code",
        "colab": {}
      },
      "source": [
        "try:\n",
        "    import feather\n",
        "except:\n",
        "    !pip install feather-format\n",
        "    import feather"
      ],
      "execution_count": 0,
      "outputs": []
    },
    {
      "cell_type": "code",
      "metadata": {
        "id": "Zfx4qqJXJ2_w",
        "colab_type": "code",
        "colab": {}
      },
      "source": [
        "from urllib.request import urlretrieve\n",
        "import os\n",
        "def get_if_not_there(filename = 'deer_train.feather'):\n",
        "    if not os.path.isfile(filename):\n",
        "         urlretrieve('https://raw.githubusercontent.com/tensorchiefs/dl_book/master/data/{}'.format(filename),\n",
        "                    filename = filename)\n",
        "\n",
        "get_if_not_there('deer_train.feather')\n",
        "get_if_not_there('deer_test.feather')"
      ],
      "execution_count": 0,
      "outputs": []
    },
    {
      "cell_type": "code",
      "metadata": {
        "id": "cYzU5xxDJ2_x",
        "colab_type": "code",
        "colab": {
          "base_uri": "https://localhost:8080/",
          "height": 108
        },
        "outputId": "c9340f1f-214a-411f-9b11-ccf4d39916f2"
      },
      "source": [
        "import pandas as pd\n",
        "import numpy as np\n",
        "df_train = feather.read_dataframe('deer_train.feather')\n",
        "df_test = feather.read_dataframe('deer_test.feather')\n",
        "df_test[0:2]"
      ],
      "execution_count": 8,
      "outputs": [
        {
          "output_type": "execute_result",
          "data": {
            "text/html": [
              "<div>\n",
              "<style scoped>\n",
              "    .dataframe tbody tr th:only-of-type {\n",
              "        vertical-align: middle;\n",
              "    }\n",
              "\n",
              "    .dataframe tbody tr th {\n",
              "        vertical-align: top;\n",
              "    }\n",
              "\n",
              "    .dataframe thead th {\n",
              "        text-align: right;\n",
              "    }\n",
              "</style>\n",
              "<table border=\"1\" class=\"dataframe\">\n",
              "  <thead>\n",
              "    <tr style=\"text-align: right;\">\n",
              "      <th></th>\n",
              "      <th>wild</th>\n",
              "      <th>year</th>\n",
              "      <th>time</th>\n",
              "      <th>daytime</th>\n",
              "      <th>weekday</th>\n",
              "    </tr>\n",
              "  </thead>\n",
              "  <tbody>\n",
              "    <tr>\n",
              "      <th>0</th>\n",
              "      <td>0</td>\n",
              "      <td>2010.0</td>\n",
              "      <td>2922.000000</td>\n",
              "      <td>night.am</td>\n",
              "      <td>Sunday</td>\n",
              "    </tr>\n",
              "    <tr>\n",
              "      <th>1</th>\n",
              "      <td>2</td>\n",
              "      <td>2010.0</td>\n",
              "      <td>2922.020833</td>\n",
              "      <td>night.am</td>\n",
              "      <td>Sunday</td>\n",
              "    </tr>\n",
              "  </tbody>\n",
              "</table>\n",
              "</div>"
            ],
            "text/plain": [
              "   wild    year         time   daytime weekday\n",
              "0     0  2010.0  2922.000000  night.am  Sunday\n",
              "1     2  2010.0  2922.020833  night.am  Sunday"
            ]
          },
          "metadata": {
            "tags": []
          },
          "execution_count": 8
        }
      ]
    },
    {
      "cell_type": "code",
      "metadata": {
        "id": "Ir2r3HWMJ2_0",
        "colab_type": "code",
        "colab": {}
      },
      "source": [
        "y_tr = df_train.iloc[:,0].to_numpy(dtype='float32')\n",
        "y_te = df_test.iloc[:,0].to_numpy(dtype='float32')\n",
        "X_tr = pd.get_dummies(df_train.iloc[:,2:]) #We don't need the year\n",
        "X_te = pd.get_dummies(df_test.iloc[:,2:])\n",
        "X_tr.iloc[:,0] = X_tr.iloc[:,0]/2922.02    #We divide by the maximal number to something in the range 0 to 1\n",
        "X_te.iloc[:,0] = X_te.iloc[:,0]/2922.02 "
      ],
      "execution_count": 0,
      "outputs": []
    },
    {
      "cell_type": "code",
      "metadata": {
        "id": "MQWzBBylJ2_1",
        "colab_type": "code",
        "colab": {
          "base_uri": "https://localhost:8080/",
          "height": 128
        },
        "outputId": "8048cfad-8bac-4981-a21a-f4d21bec482e"
      },
      "source": [
        "X_tr[0:2]"
      ],
      "execution_count": 10,
      "outputs": [
        {
          "output_type": "execute_result",
          "data": {
            "text/html": [
              "<div>\n",
              "<style scoped>\n",
              "    .dataframe tbody tr th:only-of-type {\n",
              "        vertical-align: middle;\n",
              "    }\n",
              "\n",
              "    .dataframe tbody tr th {\n",
              "        vertical-align: top;\n",
              "    }\n",
              "\n",
              "    .dataframe thead th {\n",
              "        text-align: right;\n",
              "    }\n",
              "</style>\n",
              "<table border=\"1\" class=\"dataframe\">\n",
              "  <thead>\n",
              "    <tr style=\"text-align: right;\">\n",
              "      <th></th>\n",
              "      <th>time</th>\n",
              "      <th>daytime_day.am</th>\n",
              "      <th>daytime_night.am</th>\n",
              "      <th>daytime_pre.sunrise.am</th>\n",
              "      <th>daytime_post.sunrise.am</th>\n",
              "      <th>daytime_day.pm</th>\n",
              "      <th>daytime_night.pm</th>\n",
              "      <th>daytime_pre.sunset.pm</th>\n",
              "      <th>daytime_post.sunset.pm</th>\n",
              "      <th>weekday_Monday</th>\n",
              "      <th>weekday_Tuesday</th>\n",
              "      <th>weekday_Wednesday</th>\n",
              "      <th>weekday_Thursday</th>\n",
              "      <th>weekday_Friday</th>\n",
              "      <th>weekday_Saturday</th>\n",
              "      <th>weekday_Sunday</th>\n",
              "    </tr>\n",
              "  </thead>\n",
              "  <tbody>\n",
              "    <tr>\n",
              "      <th>0</th>\n",
              "      <td>0.000000</td>\n",
              "      <td>0</td>\n",
              "      <td>1</td>\n",
              "      <td>0</td>\n",
              "      <td>0</td>\n",
              "      <td>0</td>\n",
              "      <td>0</td>\n",
              "      <td>0</td>\n",
              "      <td>0</td>\n",
              "      <td>0</td>\n",
              "      <td>0</td>\n",
              "      <td>0</td>\n",
              "      <td>0</td>\n",
              "      <td>0</td>\n",
              "      <td>0</td>\n",
              "      <td>1</td>\n",
              "    </tr>\n",
              "    <tr>\n",
              "      <th>1</th>\n",
              "      <td>0.000007</td>\n",
              "      <td>0</td>\n",
              "      <td>1</td>\n",
              "      <td>0</td>\n",
              "      <td>0</td>\n",
              "      <td>0</td>\n",
              "      <td>0</td>\n",
              "      <td>0</td>\n",
              "      <td>0</td>\n",
              "      <td>0</td>\n",
              "      <td>0</td>\n",
              "      <td>0</td>\n",
              "      <td>0</td>\n",
              "      <td>0</td>\n",
              "      <td>0</td>\n",
              "      <td>1</td>\n",
              "    </tr>\n",
              "  </tbody>\n",
              "</table>\n",
              "</div>"
            ],
            "text/plain": [
              "       time  daytime_day.am  ...  weekday_Saturday  weekday_Sunday\n",
              "0  0.000000               0  ...                 0               1\n",
              "1  0.000007               0  ...                 0               1\n",
              "\n",
              "[2 rows x 16 columns]"
            ]
          },
          "metadata": {
            "tags": []
          },
          "execution_count": 10
        }
      ]
    },
    {
      "cell_type": "code",
      "metadata": {
        "id": "g8mhrDZTJ2_4",
        "colab_type": "code",
        "colab": {
          "base_uri": "https://localhost:8080/",
          "height": 128
        },
        "outputId": "9bdf1d25-f541-46a3-ccd1-eac4b097c5b9"
      },
      "source": [
        "X_te[0:2]"
      ],
      "execution_count": 11,
      "outputs": [
        {
          "output_type": "execute_result",
          "data": {
            "text/html": [
              "<div>\n",
              "<style scoped>\n",
              "    .dataframe tbody tr th:only-of-type {\n",
              "        vertical-align: middle;\n",
              "    }\n",
              "\n",
              "    .dataframe tbody tr th {\n",
              "        vertical-align: top;\n",
              "    }\n",
              "\n",
              "    .dataframe thead th {\n",
              "        text-align: right;\n",
              "    }\n",
              "</style>\n",
              "<table border=\"1\" class=\"dataframe\">\n",
              "  <thead>\n",
              "    <tr style=\"text-align: right;\">\n",
              "      <th></th>\n",
              "      <th>time</th>\n",
              "      <th>daytime_day.am</th>\n",
              "      <th>daytime_night.am</th>\n",
              "      <th>daytime_pre.sunrise.am</th>\n",
              "      <th>daytime_post.sunrise.am</th>\n",
              "      <th>daytime_day.pm</th>\n",
              "      <th>daytime_night.pm</th>\n",
              "      <th>daytime_pre.sunset.pm</th>\n",
              "      <th>daytime_post.sunset.pm</th>\n",
              "      <th>weekday_Monday</th>\n",
              "      <th>weekday_Tuesday</th>\n",
              "      <th>weekday_Wednesday</th>\n",
              "      <th>weekday_Thursday</th>\n",
              "      <th>weekday_Friday</th>\n",
              "      <th>weekday_Saturday</th>\n",
              "      <th>weekday_Sunday</th>\n",
              "    </tr>\n",
              "  </thead>\n",
              "  <tbody>\n",
              "    <tr>\n",
              "      <th>0</th>\n",
              "      <td>0.999993</td>\n",
              "      <td>0</td>\n",
              "      <td>1</td>\n",
              "      <td>0</td>\n",
              "      <td>0</td>\n",
              "      <td>0</td>\n",
              "      <td>0</td>\n",
              "      <td>0</td>\n",
              "      <td>0</td>\n",
              "      <td>0</td>\n",
              "      <td>0</td>\n",
              "      <td>0</td>\n",
              "      <td>0</td>\n",
              "      <td>0</td>\n",
              "      <td>0</td>\n",
              "      <td>1</td>\n",
              "    </tr>\n",
              "    <tr>\n",
              "      <th>1</th>\n",
              "      <td>1.000000</td>\n",
              "      <td>0</td>\n",
              "      <td>1</td>\n",
              "      <td>0</td>\n",
              "      <td>0</td>\n",
              "      <td>0</td>\n",
              "      <td>0</td>\n",
              "      <td>0</td>\n",
              "      <td>0</td>\n",
              "      <td>0</td>\n",
              "      <td>0</td>\n",
              "      <td>0</td>\n",
              "      <td>0</td>\n",
              "      <td>0</td>\n",
              "      <td>0</td>\n",
              "      <td>1</td>\n",
              "    </tr>\n",
              "  </tbody>\n",
              "</table>\n",
              "</div>"
            ],
            "text/plain": [
              "       time  daytime_day.am  ...  weekday_Saturday  weekday_Sunday\n",
              "0  0.999993               0  ...                 0               1\n",
              "1  1.000000               0  ...                 0               1\n",
              "\n",
              "[2 rows x 16 columns]"
            ]
          },
          "metadata": {
            "tags": []
          },
          "execution_count": 11
        }
      ]
    },
    {
      "cell_type": "code",
      "metadata": {
        "id": "xa2BOQY-J2_6",
        "colab_type": "code",
        "colab": {
          "base_uri": "https://localhost:8080/",
          "height": 35
        },
        "outputId": "c0697c82-0c85-4087-8550-b8e247e7c580"
      },
      "source": [
        "X_tr = X_tr.to_numpy(dtype='float32')\n",
        "X_te = X_te.to_numpy(dtype='float32')\n",
        "d = X_te.shape[1]\n",
        "# In R\n",
        "#> sum(df.train$wild);sum(df.test$wild)\n",
        "#[1] 265911\n",
        "#[1] 75744\n",
        "np.sum(y_te),np.sum(y_tr),X_tr.shape"
      ],
      "execution_count": 12,
      "outputs": [
        {
          "output_type": "execute_result",
          "data": {
            "text/plain": [
              "(75744.0, 265911.0, (140256, 16))"
            ]
          },
          "metadata": {
            "tags": []
          },
          "execution_count": 12
        }
      ]
    },
    {
      "cell_type": "code",
      "metadata": {
        "id": "33JErGaaJ2_8",
        "colab_type": "code",
        "colab": {}
      },
      "source": [
        "#### Some exploratory analysis"
      ],
      "execution_count": 0,
      "outputs": []
    },
    {
      "cell_type": "code",
      "metadata": {
        "id": "xHiYbM0eJ2_-",
        "colab_type": "code",
        "colab": {
          "base_uri": "https://localhost:8080/",
          "height": 478
        },
        "outputId": "9d86bd24-0608-4063-fd25-29b2a3526652"
      },
      "source": [
        "plt.style.use('default')\n",
        "plt.rcParams.update({'font.size': 12})\n",
        "vals, counts = np.unique(y_tr, return_counts=True)\n",
        "plt.stem(vals, counts)\n",
        "plt.xlabel('Count: number of deers killed')\n",
        "plt.ylabel('Frequency')\n",
        "plt.xlim(-1,40)\n",
        "plt.savefig('ch05_deer.pdf')\n",
        "np.max(y_tr)"
      ],
      "execution_count": 15,
      "outputs": [
        {
          "output_type": "execute_result",
          "data": {
            "text/plain": [
              "38.0"
            ]
          },
          "metadata": {
            "tags": []
          },
          "execution_count": 15
        },
        {
          "output_type": "display_data",
          "data": {
            "image/png": "[encoded data removed]",
            "text/plain": [
              "<Figure size 640x480 with 1 Axes>"
            ]
          },
          "metadata": {
            "tags": []
          }
        }
      ]
    },
    {
      "cell_type": "markdown",
      "metadata": {
        "id": "VBgo_-XtJ3AA",
        "colab_type": "text"
      },
      "source": [
        "# <------ Cut here for the solution file --->"
      ]
    },
    {
      "cell_type": "markdown",
      "metadata": {
        "id": "W49trBx1J3AB",
        "colab_type": "text"
      },
      "source": [
        "## 1 Doing linear regression\n",
        "\n",
        "In this section we do a standard linear regression."
      ]
    },
    {
      "cell_type": "code",
      "metadata": {
        "id": "kivyMRjFJ3AB",
        "colab_type": "code",
        "colab": {}
      },
      "source": [
        "model_lr = tf.keras.Sequential() #A\n",
        "model_lr.add(tf.keras.layers.Dense(1,input_dim=d, activation='linear')) #B \n",
        "model_lr.compile(loss='mean_squared_error',optimizer=tf.optimizers.Adam(learning_rate=0.01))"
      ],
      "execution_count": 0,
      "outputs": []
    },
    {
      "cell_type": "code",
      "metadata": {
        "id": "dOvtB581J3AF",
        "colab_type": "code",
        "colab": {
          "base_uri": "https://localhost:8080/",
          "height": 207
        },
        "outputId": "3d451821-bee0-4920-dfa5-582aee7fb7bd"
      },
      "source": [
        "hist_lr = model_lr.fit(x=X_tr, y=y_tr, validation_data=(X_te, y_te), epochs=5, verbose=True);\n",
        "#hist_lr = model_lr.fit(x=X_tr, y=np.sqrt(y_tr), validation_data=(X_te, y_te), epochs=600, verbose=False);"
      ],
      "execution_count": 14,
      "outputs": [
        {
          "output_type": "stream",
          "text": [
            "Train on 140256 samples, validate on 35040 samples\n",
            "Epoch 1/5\n",
            "140256/140256 [==============================] - 6s 42us/sample - loss: 6.6228 - val_loss: 8.3269\n",
            "Epoch 2/5\n",
            "140256/140256 [==============================] - 6s 42us/sample - loss: 6.5369 - val_loss: 8.3572\n",
            "Epoch 3/5\n",
            "140256/140256 [==============================] - 6s 42us/sample - loss: 6.5378 - val_loss: 8.3768\n",
            "Epoch 4/5\n",
            "140256/140256 [==============================] - 6s 42us/sample - loss: 6.5363 - val_loss: 8.3224\n",
            "Epoch 5/5\n",
            "140256/140256 [==============================] - 6s 42us/sample - loss: 6.5373 - val_loss: 8.3355\n"
          ],
          "name": "stdout"
        }
      ]
    },
    {
      "cell_type": "code",
      "metadata": {
        "id": "ZUY5A5pdJ3AI",
        "colab_type": "code",
        "colab": {
          "base_uri": "https://localhost:8080/",
          "height": 478
        },
        "outputId": "6638a69f-1373-4223-9d05-e5126bd2241f"
      },
      "source": [
        "plt.plot(hist_lr.history['loss'])\n",
        "plt.plot(hist_lr.history['val_loss'])\n",
        "plt.legend(['loss', 'val_loss'])\n",
        "plt.ylabel('MSE')\n",
        "plt.xlabel('Epochs')\n",
        "np.mean(hist_lr.history['loss'])"
      ],
      "execution_count": 15,
      "outputs": [
        {
          "output_type": "execute_result",
          "data": {
            "text/plain": [
              "6.554216869506232"
            ]
          },
          "metadata": {
            "tags": []
          },
          "execution_count": 15
        },
        {
          "output_type": "display_data",
          "data": {
            "image/png": "[encoded data removed]",
            "text/plain": [
              "<Figure size 640x480 with 1 Axes>"
            ]
          },
          "metadata": {
            "tags": []
          }
        }
      ]
    },
    {
      "cell_type": "code",
      "metadata": {
        "id": "Wf3olFXcJ3AK",
        "colab_type": "code",
        "colab": {}
      },
      "source": [
        "y_hat_te = model_lr.predict(X_te)\n",
        "#np.sqrt(np.mean((y_hat_te - y_te)**2)),np.mean(np.abs(y_hat_te - y_te))"
      ],
      "execution_count": 0,
      "outputs": []
    },
    {
      "cell_type": "code",
      "metadata": {
        "id": "-_lmtBCtJ3AN",
        "colab_type": "code",
        "colab": {
          "base_uri": "https://localhost:8080/",
          "height": 478
        },
        "outputId": "0352d234-2410-4b96-80a8-dcfc78bf577a"
      },
      "source": [
        "plt.scatter(y_te, y_hat_te**2)\n",
        "plt.xlabel('True ')\n",
        "plt.ylabel('Predicted ')"
      ],
      "execution_count": 17,
      "outputs": [
        {
          "output_type": "execute_result",
          "data": {
            "text/plain": [
              "Text(0, 0.5, 'Predicted ')"
            ]
          },
          "metadata": {
            "tags": []
          },
          "execution_count": 17
        },
        {
          "output_type": "display_data",
          "data": {
            "image/png": "[encoded data removed]",
            "text/plain": [
              "<Figure size 640x480 with 1 Axes>"
            ]
          },
          "metadata": {
            "tags": []
          }
        }
      ]
    },
    {
      "cell_type": "code",
      "metadata": {
        "id": "fnL4EzlNJ3AP",
        "colab_type": "code",
        "colab": {
          "base_uri": "https://localhost:8080/",
          "height": 35
        },
        "outputId": "eaaad271-b6ac-4c2a-deb2-30e2cf269bce"
      },
      "source": [
        "y_hat_tr = model_lr.predict(X_tr) #Testset\n",
        "sigma_hat_2 = np.var(y_hat_tr.flatten() - y_tr) \n",
        "0.5*np.log(2 * np.pi * sigma_hat_2) + 0.5*np.mean((y_hat_te - y_te)**2)/sigma_hat_2"
      ],
      "execution_count": 18,
      "outputs": [
        {
          "output_type": "execute_result",
          "data": {
            "text/plain": [
              "2.8874847721034294"
            ]
          },
          "metadata": {
            "tags": []
          },
          "execution_count": 18
        }
      ]
    },
    {
      "cell_type": "markdown",
      "metadata": {
        "id": "tAX3yjYKJ3AR",
        "colab_type": "text"
      },
      "source": [
        "## 2 Doing Poisson Regression"
      ]
    },
    {
      "cell_type": "markdown",
      "metadata": {
        "id": "u4KcuWUwJ3AR",
        "colab_type": "text"
      },
      "source": [
        "#### Definition of the Model\n",
        "\n",
        "$$\n",
        "    Y \\thicksim \\tt{Pois}(exp(w^{T} \\cdot x + b))\n",
        "$$"
      ]
    },
    {
      "cell_type": "code",
      "metadata": {
        "id": "E1DOBfteJ3AS",
        "colab_type": "code",
        "colab": {
          "base_uri": "https://localhost:8080/",
          "height": 501
        },
        "outputId": "b7db1f98-1e8c-4495-d7a3-22fa80b1ddcf"
      },
      "source": [
        "# 10          20       30        40       50         55\n",
        "#123456789012345678901234567890123456789012345678901234\n",
        "inputs = tf.keras.layers.Input(shape=(X_tr.shape[1],))  \n",
        "h = tf.keras.layers.Dense(30, \n",
        "         activation='relu')(inputs)\n",
        "h = tf.keras.layers.Dropout(0.1)(h)\n",
        "h = tf.keras.layers.Dense(100, \n",
        "         activation='relu')(h)\n",
        "h = tf.keras.layers.Dropout(0.3)(h)\n",
        "h = tf.keras.layers.Dense(100, \n",
        "         activation='relu')(h)\n",
        "h = tf.keras.layers.Dropout(0.3)(h)\n",
        "h = tf.keras.layers.Dense(10, \n",
        "         activation='relu')(h)\n",
        "rate = tf.keras.layers.Dense(1, \n",
        "         activation=tf.exp, #A\n",
        "         bias_initializer='zeros', \n",
        "         kernel_initializer='zeros')(h)\n",
        "\n",
        "p_y = tfp.layers.DistributionLambda(tfd.Poisson)(rate) #B \n",
        "\n",
        "model_p = Model(inputs=inputs, outputs=p_y) #C\n",
        "\n",
        "\n",
        "def negloglik(y_true, y_hat): #D\n",
        "  return -y_hat.log_prob(y_true)\n",
        "\n",
        "model_p.compile(tf.optimizers.Adam(learning_rate=0.001), \n",
        "                loss=negloglik)\n",
        "\n",
        "#A Definition of a single layer with one output\n",
        "#B We use exponential of the output to model the rate\n",
        "#C Glueing input and output together. Note that output is a tf.distribution\n",
        "#D Since the second argument is the output of the model it is a distribution. It's as simple as calling log_prob to calculate the NLL.\n",
        "\n",
        "model_p.summary()"
      ],
      "execution_count": 19,
      "outputs": [
        {
          "output_type": "stream",
          "text": [
            "Model: \"model\"\n",
            "_________________________________________________________________\n",
            "Layer (type)                 Output Shape              Param #   \n",
            "=================================================================\n",
            "input_1 (InputLayer)         [(None, 16)]              0         \n",
            "_________________________________________________________________\n",
            "dense_1 (Dense)              (None, 30)                510       \n",
            "_________________________________________________________________\n",
            "dropout (Dropout)            (None, 30)                0         \n",
            "_________________________________________________________________\n",
            "dense_2 (Dense)              (None, 100)               3100      \n",
            "_________________________________________________________________\n",
            "dropout_1 (Dropout)          (None, 100)               0         \n",
            "_________________________________________________________________\n",
            "dense_3 (Dense)              (None, 100)               10100     \n",
            "_________________________________________________________________\n",
            "dropout_2 (Dropout)          (None, 100)               0         \n",
            "_________________________________________________________________\n",
            "dense_4 (Dense)              (None, 10)                1010      \n",
            "_________________________________________________________________\n",
            "dense_5 (Dense)              (None, 1)                 11        \n",
            "_________________________________________________________________\n",
            "distribution_lambda (Distrib ((None, 1), (None, 1))    0         \n",
            "=================================================================\n",
            "Total params: 14,731\n",
            "Trainable params: 14,731\n",
            "Non-trainable params: 0\n",
            "_________________________________________________________________\n"
          ],
          "name": "stdout"
        }
      ]
    },
    {
      "cell_type": "code",
      "metadata": {
        "id": "A4LbaAodJ3AU",
        "colab_type": "code",
        "colab": {
          "base_uri": "https://localhost:8080/",
          "height": 553
        },
        "outputId": "3f691b2c-b85d-48f2-baaf-82db000ef42f"
      },
      "source": [
        "hist_p = model_p.fit(x=X_tr, y=y_tr, validation_data=(X_te, y_te), epochs=15, verbose=True);"
      ],
      "execution_count": 21,
      "outputs": [
        {
          "output_type": "stream",
          "text": [
            "Train on 140256 samples, validate on 35040 samples\n",
            "Epoch 1/15\n",
            "140256/140256 [==============================] - 12s 84us/sample - loss: 1.9151 - val_loss: 2.0376\n",
            "Epoch 2/15\n",
            "140256/140256 [==============================] - 12s 85us/sample - loss: 1.9033 - val_loss: 2.0359\n",
            "Epoch 3/15\n",
            "140256/140256 [==============================] - 12s 84us/sample - loss: 1.8964 - val_loss: 2.0677\n",
            "Epoch 4/15\n",
            "140256/140256 [==============================] - 12s 85us/sample - loss: 1.8941 - val_loss: 2.0353\n",
            "Epoch 5/15\n",
            "140256/140256 [==============================] - 12s 84us/sample - loss: 1.8923 - val_loss: 2.0373\n",
            "Epoch 6/15\n",
            "140256/140256 [==============================] - 12s 87us/sample - loss: 1.8912 - val_loss: 2.0364\n",
            "Epoch 7/15\n",
            "140256/140256 [==============================] - 12s 86us/sample - loss: 1.8905 - val_loss: 2.0503\n",
            "Epoch 8/15\n",
            "140256/140256 [==============================] - 12s 85us/sample - loss: 1.8906 - val_loss: 2.0440\n",
            "Epoch 9/15\n",
            "140256/140256 [==============================] - 12s 85us/sample - loss: 1.8899 - val_loss: 2.0415\n",
            "Epoch 10/15\n",
            "140256/140256 [==============================] - 12s 85us/sample - loss: 1.8883 - val_loss: 2.0533\n",
            "Epoch 11/15\n",
            "140256/140256 [==============================] - 12s 85us/sample - loss: 1.8893 - val_loss: 2.0439\n",
            "Epoch 12/15\n",
            "140256/140256 [==============================] - 12s 85us/sample - loss: 1.8892 - val_loss: 2.0389\n",
            "Epoch 13/15\n",
            "140256/140256 [==============================] - 12s 85us/sample - loss: 1.8887 - val_loss: 2.0376\n",
            "Epoch 14/15\n",
            "140256/140256 [==============================] - 12s 85us/sample - loss: 1.8882 - val_loss: 2.0531\n",
            "Epoch 15/15\n",
            "140256/140256 [==============================] - 12s 84us/sample - loss: 1.8883 - val_loss: 2.0517\n"
          ],
          "name": "stdout"
        }
      ]
    },
    {
      "cell_type": "code",
      "metadata": {
        "scrolled": false,
        "id": "2FL7fnmCJ3AW",
        "colab_type": "code",
        "colab": {
          "base_uri": "https://localhost:8080/",
          "height": 235
        },
        "outputId": "34619c07-e120-477d-9bbe-ef284951835b"
      },
      "source": [
        "plt.plot(hist_p.history['loss'])\n",
        "plt.plot(hist_p.history['val_loss'])\n",
        "plt.legend(['loss', 'val_loss'])\n",
        "plt.xlabel('Epochs')\n",
        "plt.ylabel('NLL')\n",
        "np.mean(hist_p.history['loss'])\n",
        "plt.ylim(1.75,2.07)\n",
        "np.mean(hist_p.history['val_loss'][-20:]) #Paper -1.91760131278"
      ],
      "execution_count": 2,
      "outputs": [
        {
          "output_type": "error",
          "ename": "NameError",
          "evalue": "ignored",
          "traceback": [
            "\u001b[0;31m---------------------------------------------------------------------------\u001b[0m",
            "\u001b[0;31mNameError\u001b[0m                                 Traceback (most recent call last)",
            "\u001b[0;32m<ipython-input-2-43026a52bad1>\u001b[0m in \u001b[0;36m<module>\u001b[0;34m()\u001b[0m\n\u001b[0;32m----> 1\u001b[0;31m \u001b[0mplt\u001b[0m\u001b[0;34m.\u001b[0m\u001b[0mplot\u001b[0m\u001b[0;34m(\u001b[0m\u001b[0mhist_p\u001b[0m\u001b[0;34m.\u001b[0m\u001b[0mhistory\u001b[0m\u001b[0;34m[\u001b[0m\u001b[0;34m'loss'\u001b[0m\u001b[0;34m]\u001b[0m\u001b[0;34m)\u001b[0m\u001b[0;34m\u001b[0m\u001b[0;34m\u001b[0m\u001b[0m\n\u001b[0m\u001b[1;32m      2\u001b[0m \u001b[0mplt\u001b[0m\u001b[0;34m.\u001b[0m\u001b[0mplot\u001b[0m\u001b[0;34m(\u001b[0m\u001b[0mhist_p\u001b[0m\u001b[0;34m.\u001b[0m\u001b[0mhistory\u001b[0m\u001b[0;34m[\u001b[0m\u001b[0;34m'val_loss'\u001b[0m\u001b[0;34m]\u001b[0m\u001b[0;34m)\u001b[0m\u001b[0;34m\u001b[0m\u001b[0;34m\u001b[0m\u001b[0m\n\u001b[1;32m      3\u001b[0m \u001b[0mplt\u001b[0m\u001b[0;34m.\u001b[0m\u001b[0mlegend\u001b[0m\u001b[0;34m(\u001b[0m\u001b[0;34m[\u001b[0m\u001b[0;34m'loss'\u001b[0m\u001b[0;34m,\u001b[0m \u001b[0;34m'val_loss'\u001b[0m\u001b[0;34m]\u001b[0m\u001b[0;34m)\u001b[0m\u001b[0;34m\u001b[0m\u001b[0;34m\u001b[0m\u001b[0m\n\u001b[1;32m      4\u001b[0m \u001b[0mplt\u001b[0m\u001b[0;34m.\u001b[0m\u001b[0mxlabel\u001b[0m\u001b[0;34m(\u001b[0m\u001b[0;34m'Epochs'\u001b[0m\u001b[0;34m)\u001b[0m\u001b[0;34m\u001b[0m\u001b[0;34m\u001b[0m\u001b[0m\n\u001b[1;32m      5\u001b[0m \u001b[0mplt\u001b[0m\u001b[0;34m.\u001b[0m\u001b[0mylabel\u001b[0m\u001b[0;34m(\u001b[0m\u001b[0;34m'NLL'\u001b[0m\u001b[0;34m)\u001b[0m\u001b[0;34m\u001b[0m\u001b[0;34m\u001b[0m\u001b[0m\n",
            "\u001b[0;31mNameError\u001b[0m: name 'plt' is not defined"
          ]
        }
      ]
    },
    {
      "cell_type": "code",
      "metadata": {
        "id": "-IGOqsT9J3AY",
        "colab_type": "code",
        "colab": {}
      },
      "source": [
        "# model_pm = tf.keras.models.Model(inputs=inputs, outputs=p_y.mean()) \n",
        "# y_hat_te = model_pm(X_te)\n",
        "# np.sqrt(np.mean((y_hat_te - y_te)**2)),np.mean(np.abs(y_hat_te - y_te))"
      ],
      "execution_count": 0,
      "outputs": []
    },
    {
      "cell_type": "markdown",
      "metadata": {
        "id": "AENHERfRNpIs",
        "colab_type": "text"
      },
      "source": [
        "## 2 Poisson regression with linear models "
      ]
    },
    {
      "cell_type": "code",
      "metadata": {
        "id": "CTvoawQvJ3AZ",
        "colab_type": "code",
        "colab": {}
      },
      "source": [
        "# First build the model matrix, appending an intercept term\n",
        "d = np.shape(X_tr)[1]\n",
        "Xm = np.ones((np.shape(X_tr)[0],d+1))\n",
        "Xm[:,1:d+1] = X_tr"
      ],
      "execution_count": 0,
      "outputs": []
    },
    {
      "cell_type": "code",
      "metadata": {
        "id": "fpzO9ZsHJ3Ab",
        "colab_type": "code",
        "colab": {}
      },
      "source": [
        "d = np.shape(X_te)[1]\n",
        "X_te_in = np.ones((np.shape(X_te)[0],d+1), dtype='float32')\n",
        "X_te_in[:,1:d+1] = X_te"
      ],
      "execution_count": 0,
      "outputs": []
    },
    {
      "cell_type": "code",
      "metadata": {
        "id": "kZc0A6kBJ3Ad",
        "colab_type": "code",
        "colab": {
          "base_uri": "https://localhost:8080/",
          "height": 362
        },
        "outputId": "e95d4ae8-5205-460d-c5db-14d93c821c56"
      },
      "source": [
        "fit = tfp.glm.fit(\n",
        "    model_matrix=Xm,\n",
        "    response=y_tr,\n",
        "    model=tfp.glm.Poisson()\n",
        ")"
      ],
      "execution_count": 23,
      "outputs": [
        {
          "output_type": "error",
          "ename": "TypeError",
          "evalue": "ignored",
          "traceback": [
            "\u001b[0;31m---------------------------------------------------------------------------\u001b[0m",
            "\u001b[0;31mTypeError\u001b[0m                                 Traceback (most recent call last)",
            "\u001b[0;32m<ipython-input-23-a7cc28a272a0>\u001b[0m in \u001b[0;36m<module>\u001b[0;34m()\u001b[0m\n\u001b[1;32m      2\u001b[0m     \u001b[0mmodel_matrix\u001b[0m\u001b[0;34m=\u001b[0m\u001b[0mXm\u001b[0m\u001b[0;34m,\u001b[0m\u001b[0;34m\u001b[0m\u001b[0;34m\u001b[0m\u001b[0m\n\u001b[1;32m      3\u001b[0m     \u001b[0mresponse\u001b[0m\u001b[0;34m=\u001b[0m\u001b[0my_tr\u001b[0m\u001b[0;34m,\u001b[0m\u001b[0;34m\u001b[0m\u001b[0;34m\u001b[0m\u001b[0m\n\u001b[0;32m----> 4\u001b[0;31m     \u001b[0mmodel\u001b[0m\u001b[0;34m=\u001b[0m\u001b[0mtfp\u001b[0m\u001b[0;34m.\u001b[0m\u001b[0mglm\u001b[0m\u001b[0;34m.\u001b[0m\u001b[0mPoisson\u001b[0m\u001b[0;34m(\u001b[0m\u001b[0;34m)\u001b[0m\u001b[0;34m\u001b[0m\u001b[0;34m\u001b[0m\u001b[0m\n\u001b[0m\u001b[1;32m      5\u001b[0m )\n",
            "\u001b[0;32m/usr/local/lib/python3.6/dist-packages/tensorflow_probability/python/glm/fisher_scoring.py\u001b[0m in \u001b[0;36mfit\u001b[0;34m(model_matrix, response, model, model_coefficients_start, predicted_linear_response_start, l2_regularizer, dispersion, offset, convergence_criteria_fn, learning_rate, fast_unsafe_numerics, maximum_iterations, name)\u001b[0m\n\u001b[1;32m    192\u001b[0m         \u001b[0mmodel_coefficients_start\u001b[0m\u001b[0;34m,\u001b[0m\u001b[0;34m\u001b[0m\u001b[0;34m\u001b[0m\u001b[0m\n\u001b[1;32m    193\u001b[0m         \u001b[0mpredicted_linear_response_start\u001b[0m\u001b[0;34m,\u001b[0m\u001b[0;34m\u001b[0m\u001b[0;34m\u001b[0m\u001b[0m\n\u001b[0;32m--> 194\u001b[0;31m         offset)\n\u001b[0m\u001b[1;32m    195\u001b[0m     \u001b[0;32mif\u001b[0m \u001b[0mconvergence_criteria_fn\u001b[0m \u001b[0;32mis\u001b[0m \u001b[0;32mNone\u001b[0m\u001b[0;34m:\u001b[0m\u001b[0;34m\u001b[0m\u001b[0;34m\u001b[0m\u001b[0m\n\u001b[1;32m    196\u001b[0m       convergence_criteria_fn = (\n",
            "\u001b[0;32m/usr/local/lib/python3.6/dist-packages/tensorflow_probability/python/glm/fisher_scoring.py\u001b[0m in \u001b[0;36mprepare_args\u001b[0;34m(model_matrix, response, model_coefficients, predicted_linear_response, offset, name)\u001b[0m\n\u001b[1;32m    564\u001b[0m                 predicted_linear_response, offset]\n\u001b[1;32m    565\u001b[0m   \u001b[0;32mwith\u001b[0m \u001b[0mtf\u001b[0m\u001b[0;34m.\u001b[0m\u001b[0mcompat\u001b[0m\u001b[0;34m.\u001b[0m\u001b[0mv1\u001b[0m\u001b[0;34m.\u001b[0m\u001b[0mname_scope\u001b[0m\u001b[0;34m(\u001b[0m\u001b[0mname\u001b[0m\u001b[0;34m,\u001b[0m \u001b[0;34m'prepare_args'\u001b[0m\u001b[0;34m,\u001b[0m \u001b[0mgraph_deps\u001b[0m\u001b[0;34m)\u001b[0m\u001b[0;34m:\u001b[0m\u001b[0;34m\u001b[0m\u001b[0;34m\u001b[0m\u001b[0m\n\u001b[0;32m--> 566\u001b[0;31m     \u001b[0mdtype\u001b[0m \u001b[0;34m=\u001b[0m \u001b[0mdtype_util\u001b[0m\u001b[0;34m.\u001b[0m\u001b[0mcommon_dtype\u001b[0m\u001b[0;34m(\u001b[0m\u001b[0mgraph_deps\u001b[0m\u001b[0;34m,\u001b[0m \u001b[0mnp\u001b[0m\u001b[0;34m.\u001b[0m\u001b[0mfloat32\u001b[0m\u001b[0;34m)\u001b[0m\u001b[0;34m\u001b[0m\u001b[0;34m\u001b[0m\u001b[0m\n\u001b[0m\u001b[1;32m    567\u001b[0m \u001b[0;34m\u001b[0m\u001b[0m\n\u001b[1;32m    568\u001b[0m     model_matrix = tf.convert_to_tensor(\n",
            "\u001b[0;32m/usr/local/lib/python3.6/dist-packages/tensorflow_probability/python/internal/dtype_util.py\u001b[0m in \u001b[0;36mcommon_dtype\u001b[0;34m(args_list, preferred_dtype)\u001b[0m\n\u001b[1;32m     74\u001b[0m       \u001b[0mdtype\u001b[0m \u001b[0;34m=\u001b[0m \u001b[0mdt\u001b[0m\u001b[0;34m\u001b[0m\u001b[0;34m\u001b[0m\u001b[0m\n\u001b[1;32m     75\u001b[0m     \u001b[0;32melif\u001b[0m \u001b[0mdtype\u001b[0m \u001b[0;34m!=\u001b[0m \u001b[0mdt\u001b[0m\u001b[0;34m:\u001b[0m\u001b[0;34m\u001b[0m\u001b[0;34m\u001b[0m\u001b[0m\n\u001b[0;32m---> 76\u001b[0;31m       \u001b[0;32mraise\u001b[0m \u001b[0mTypeError\u001b[0m\u001b[0;34m(\u001b[0m\u001b[0;34m'Found incompatible dtypes, {} and {}.'\u001b[0m\u001b[0;34m.\u001b[0m\u001b[0mformat\u001b[0m\u001b[0;34m(\u001b[0m\u001b[0mdtype\u001b[0m\u001b[0;34m,\u001b[0m \u001b[0mdt\u001b[0m\u001b[0;34m)\u001b[0m\u001b[0;34m)\u001b[0m\u001b[0;34m\u001b[0m\u001b[0;34m\u001b[0m\u001b[0m\n\u001b[0m\u001b[1;32m     77\u001b[0m   \u001b[0;32mreturn\u001b[0m \u001b[0mpreferred_dtype\u001b[0m \u001b[0;32mif\u001b[0m \u001b[0mdtype\u001b[0m \u001b[0;32mis\u001b[0m \u001b[0;32mNone\u001b[0m \u001b[0;32melse\u001b[0m \u001b[0mtf\u001b[0m\u001b[0;34m.\u001b[0m\u001b[0mas_dtype\u001b[0m\u001b[0;34m(\u001b[0m\u001b[0mdtype\u001b[0m\u001b[0;34m)\u001b[0m\u001b[0;34m\u001b[0m\u001b[0;34m\u001b[0m\u001b[0m\n\u001b[1;32m     78\u001b[0m \u001b[0;34m\u001b[0m\u001b[0m\n",
            "\u001b[0;31mTypeError\u001b[0m: Found incompatible dtypes, <class 'numpy.float64'> and <class 'numpy.float32'>."
          ]
        }
      ]
    },
    {
      "cell_type": "markdown",
      "metadata": {
        "id": "f0tNIuZXJ3Af",
        "colab_type": "text"
      },
      "source": [
        "$$\n",
        "\\lambda = exp(X \\cdot \\hat \\beta)\n",
        "$$"
      ]
    },
    {
      "cell_type": "code",
      "metadata": {
        "id": "0EAILZ45J3Af",
        "colab_type": "code",
        "colab": {}
      },
      "source": [
        "d = np.matmul(X_te_in,fit[0])\n",
        "lam = np.exp(d)"
      ],
      "execution_count": 0,
      "outputs": []
    },
    {
      "cell_type": "code",
      "metadata": {
        "id": "8mT-2VSvJ3Ah",
        "colab_type": "code",
        "colab": {}
      },
      "source": [
        "dd = tfd.Poisson(lam).log_prob(y_te).numpy()"
      ],
      "execution_count": 0,
      "outputs": []
    },
    {
      "cell_type": "code",
      "metadata": {
        "id": "7xGejNJVJ3Ai",
        "colab_type": "code",
        "colab": {}
      },
      "source": [
        "np.mean(dd) - -1.917601 #-1.917601 according to R"
      ],
      "execution_count": 0,
      "outputs": []
    },
    {
      "cell_type": "code",
      "metadata": {
        "id": "UV-tPzEeJ3Ak",
        "colab_type": "code",
        "colab": {}
      },
      "source": [
        "plt.figure(figsize=(6,6))\n",
        "plt.xlim(-0.1,5)\n",
        "plt.ylim(-0.1,5)\n",
        "y_hat_tr = model_pm(X_tr)\n",
        "plt.scatter(y_hat_te, np.random.normal(loc=y_te,scale=0.2), alpha=0.7)\n",
        "plt.xlabel('Counts: predicted by Poisson')\n",
        "plt.ylabel('Counts: true')\n",
        "plt.savefig('ch05_pois.pdf')\n",
        "print('Training Set', np.mean(np.square(y_hat_tr[y_tr == 0])),np.sum(y_hat_tr[y_tr == 0]>0.5))\n",
        "print('Validation Set', np.mean(np.square(y_hat_te[y_te == 0])),np.sum(y_hat_te[y_te == 0]>0.5))"
      ],
      "execution_count": 0,
      "outputs": []
    },
    {
      "cell_type": "markdown",
      "metadata": {
        "id": "xh5Ns_URJ3Al",
        "colab_type": "text"
      },
      "source": [
        "## 3 Using zero inflated Poisson Regression\n",
        "\n",
        "We define a network with two outputs. One for the poisson mean, one for the prob that there is a zero. \n",
        "\n",
        "First, we define a function which produces the zero inflated poisson distribution. \n",
        "\n",
        "### Definition of the distribution"
      ]
    },
    {
      "cell_type": "code",
      "metadata": {
        "id": "CC772myrJ3Al",
        "colab_type": "code",
        "colab": {}
      },
      "source": [
        "# 10          20       30        40       50         55\n",
        "#123456789012345678901234567890123456789012345678901234\n",
        "# Listing 5.l_zi\n",
        "def zero_inf(out): \n",
        "    rate = tf.math.exp(out[:,0]) #A \n",
        "    #rate = tf.math.softplus(out[:,0]) #A \n",
        "    s = tf.math.sigmoid(out[:,1:]) #B  \n",
        "    probs = tf.concat([s, 1-s], axis=1) #C \n",
        "    print(np.min(rate), \" \", np.max(rate), \" \", np.min(s), np.max(s),\"  \",np.min(out[:,1:]), np.max(out[:,1:]))\n",
        "    return tfd.Mixture(\n",
        "          cat=tfd.Categorical(probs=probs),#D\n",
        "          components=[\n",
        "            tfd.Deterministic(loc=tf.zeros_like(rate)), #E\n",
        "            tfd.Poisson(rate=rate), #F \n",
        "        ])\n",
        "\n",
        "#A The first component codes for the rate. We use exponential to guaranty values >0.\n",
        "#B The second component codes for the zero inflation, using sigmoid squeezes the value between 0 and 1.\n",
        "#C The two probabilities for zeros or Poissonian  \n",
        "#D The tfd.Categorical allows to create a mixture of two components. \n",
        "#E Zero as a deterministic value \n",
        "#F Value drawn from a Poissonian"
      ],
      "execution_count": 0,
      "outputs": []
    },
    {
      "cell_type": "code",
      "metadata": {
        "id": "2mtgtId5J3An",
        "colab_type": "code",
        "colab": {
          "base_uri": "https://localhost:8080/",
          "height": 175
        },
        "outputId": "0dcdb554-97b2-4471-8cda-2401365fde50"
      },
      "source": [
        "## testinging the distribution\n",
        "t = np.ones((5,2), dtype=np.float32)\n",
        "t[4,0]=0.999\n",
        "t[4,1]=10\n",
        "zero_inf(t).mean()"
      ],
      "execution_count": 25,
      "outputs": [
        {
          "output_type": "stream",
          "text": [
            "WARNING: Logging before flag parsing goes to stderr.\n",
            "W0714 11:23:07.939540 140568192554880 deprecation.py:323] From /usr/local/lib/python3.6/dist-packages/tensorflow_probability/python/distributions/mixture.py:154: Categorical.event_size (from tensorflow_probability.python.distributions.categorical) is deprecated and will be removed after 2019-05-19.\n",
            "Instructions for updating:\n",
            "The `event_size` property is deprecated.  Use `num_categories` instead.  They have the same value, but `event_size` is misnamed.\n"
          ],
          "name": "stderr"
        },
        {
          "output_type": "stream",
          "text": [
            "2.715565   2.7182817   0.7310586 0.9999546    1.0 10.0\n"
          ],
          "name": "stdout"
        },
        {
          "output_type": "execute_result",
          "data": {
            "text/plain": [
              "<tf.Tensor: id=29, shape=(5,), dtype=float32, numpy=\n",
              "array([7.3105848e-01, 7.3105848e-01, 7.3105848e-01, 7.3105848e-01,\n",
              "       1.2333754e-04], dtype=float32)>"
            ]
          },
          "metadata": {
            "tags": []
          },
          "execution_count": 25
        }
      ]
    },
    {
      "cell_type": "markdown",
      "metadata": {
        "id": "SNkNzDhLJ3Ap",
        "colab_type": "text"
      },
      "source": [
        "### Definition of the model"
      ]
    },
    {
      "cell_type": "code",
      "metadata": {
        "id": "T96Y6oBSJ3Aq",
        "colab_type": "code",
        "colab": {
          "base_uri": "https://localhost:8080/",
          "height": 504
        },
        "outputId": "c2f60ab3-bffb-4ea0-96e1-590940608ff6"
      },
      "source": [
        "## Definition of the model\n",
        "# 10          20       30        40       50         55\n",
        "#123456789012345678901234567890123456789012345678901234\n",
        "## Definition of the custom parametrized distribution\n",
        "from tensorflow.keras.regularizers import l2\n",
        "inputs = tf.keras.layers.Input(shape=(X_tr.shape[1],))  \n",
        "h = tf.keras.layers.Dense(500, activation='relu')(inputs)\n",
        "h = tf.keras.layers.Dropout(0.1)(h)\n",
        "h = tf.keras.layers.Dense(100, activation='relu')(h)\n",
        "h = tf.keras.layers.Dropout(0.3)(h)\n",
        "h = tf.keras.layers.Dense(10, activation='relu')(h)\n",
        "h = tf.keras.layers.Dropout(0.3)(h)\n",
        "\n",
        "out = Dense(2,  #A\n",
        "            kernel_regularizer=l2(0.01), #B\n",
        "            bias_regularizer=l2(0.01))(h)#B\n",
        "\n",
        "p_y_zi = tfp.layers.DistributionLambda(zero_inf)(out)\n",
        "model_zi = Model(inputs=inputs, outputs=p_y_zi)\n",
        "\n",
        "#A A dense layer is used without activation. The transformation is done in zero_inf listing 5.l_zi \n",
        "#B Using a regularisation prevents the network from learning too large weights. Without regularisation, you run into numerical problems.\n",
        "model_zi.summary()"
      ],
      "execution_count": 26,
      "outputs": [
        {
          "output_type": "stream",
          "text": [
            "Tensor(\"distribution_lambda/Exp:0\", shape=(None,), dtype=float32)   Tensor(\"distribution_lambda/Exp:0\", shape=(None,), dtype=float32)   Tensor(\"distribution_lambda/Sigmoid:0\", shape=(None, 1), dtype=float32) Tensor(\"distribution_lambda/Sigmoid:0\", shape=(None, 1), dtype=float32)    Tensor(\"distribution_lambda/strided_slice_2:0\", shape=(None, 1), dtype=float32) Tensor(\"distribution_lambda/strided_slice_3:0\", shape=(None, 1), dtype=float32)\n",
            "Model: \"model\"\n",
            "_________________________________________________________________\n",
            "Layer (type)                 Output Shape              Param #   \n",
            "=================================================================\n",
            "input_1 (InputLayer)         [(None, 16)]              0         \n",
            "_________________________________________________________________\n",
            "dense (Dense)                (None, 500)               8500      \n",
            "_________________________________________________________________\n",
            "dropout (Dropout)            (None, 500)               0         \n",
            "_________________________________________________________________\n",
            "dense_1 (Dense)              (None, 100)               50100     \n",
            "_________________________________________________________________\n",
            "dropout_1 (Dropout)          (None, 100)               0         \n",
            "_________________________________________________________________\n",
            "dense_2 (Dense)              (None, 10)                1010      \n",
            "_________________________________________________________________\n",
            "dropout_2 (Dropout)          (None, 10)                0         \n",
            "_________________________________________________________________\n",
            "dense_3 (Dense)              (None, 2)                 22        \n",
            "_________________________________________________________________\n",
            "distribution_lambda (Distrib ((None,), (None,))        0         \n",
            "=================================================================\n",
            "Total params: 59,632\n",
            "Trainable params: 59,632\n",
            "Non-trainable params: 0\n",
            "_________________________________________________________________\n"
          ],
          "name": "stdout"
        }
      ]
    },
    {
      "cell_type": "markdown",
      "metadata": {
        "id": "2q18rJR6J3As",
        "colab_type": "text"
      },
      "source": [
        "### Training of the model (by hand) [optional]\n",
        "\n",
        "The following code trains the NN using a evaluation loop by hand. This help us to find instabilities, which we got rid off using regularisation. See also: https://www.tensorflow.org/beta/guide/keras/training_and_evaluation#part_ii_writing_your_own_training_evaluation_loops_from_scratch\n"
      ]
    },
    {
      "cell_type": "code",
      "metadata": {
        "id": "0S85MnPTJ3As",
        "colab_type": "code",
        "colab": {}
      },
      "source": [
        "# optimizer=tf.optimizers.RMSprop(learning_rate=0.05)\n",
        "# loss_values = np.zeros((1000))\n",
        "# for e in range(10):\n",
        "#     with tf.GradientTape() as tape:\n",
        "#         y_hat = model_zi(X_tr)\n",
        "#         loss_value = -tf.reduce_mean(y_hat.log_prob(y_tr))\n",
        "#         loss_values[e] = loss_value\n",
        "#         grads = tape.gradient(loss_value, model_zi.trainable_weights)\n",
        "#         weights =  model_zi.trainable_weights       \n",
        "#         optimizer.apply_gradients(zip(grads,weights))"
      ],
      "execution_count": 0,
      "outputs": []
    },
    {
      "cell_type": "markdown",
      "metadata": {
        "id": "unuNCoHRJ3Au",
        "colab_type": "text"
      },
      "source": [
        "### Training using keras' build in training"
      ]
    },
    {
      "cell_type": "code",
      "metadata": {
        "id": "oiH9JQdHJ3Au",
        "colab_type": "code",
        "colab": {
          "base_uri": "https://localhost:8080/",
          "height": 1000
        },
        "outputId": "9cd95d23-6539-4ed9-d577-678533ff0f4e"
      },
      "source": [
        "def negloglik2(y_true, y_hat):\n",
        "    # return -tf.reduce_mean(y_hat.log_prob(y_true))\n",
        "    return -tf.reduce_mean(y_hat.log_prob(tf.reshape(y_true,(-1,))))\n",
        "\n",
        "model_zi.compile(optimizer=tf.optimizers.Adam(learning_rate=0.001), loss=negloglik2)\n",
        "hist_zi = model_zi.fit(x=X_tr, y=y_tr, validation_data=(X_te, y_te), epochs=30, verbose=True)#, callbacks=[tb]);"
      ],
      "execution_count": 27,
      "outputs": [
        {
          "output_type": "stream",
          "text": [
            "Train on 140256 samples, validate on 35040 samples\n",
            "Epoch 1/30\n",
            "140256/140256 [==============================] - 17s 120us/sample - loss: 1.8844 - val_loss: 1.9472\n",
            "Epoch 2/30\n",
            "140256/140256 [==============================] - 17s 120us/sample - loss: 1.8423 - val_loss: 1.9276\n",
            "Epoch 3/30\n",
            "140256/140256 [==============================] - 17s 121us/sample - loss: 1.8346 - val_loss: 1.9260\n",
            "Epoch 4/30\n",
            "140256/140256 [==============================] - 17s 120us/sample - loss: 1.8314 - val_loss: 1.9422\n",
            "Epoch 5/30\n",
            "140256/140256 [==============================] - 17s 120us/sample - loss: 1.8302 - val_loss: 1.9196\n",
            "Epoch 6/30\n",
            "140256/140256 [==============================] - 17s 121us/sample - loss: 1.8326 - val_loss: 1.9189\n",
            "Epoch 7/30\n",
            "140256/140256 [==============================] - 17s 120us/sample - loss: 1.8312 - val_loss: 1.9197\n",
            "Epoch 8/30\n",
            "140256/140256 [==============================] - 17s 120us/sample - loss: 1.8305 - val_loss: 1.9219\n",
            "Epoch 9/30\n",
            "140256/140256 [==============================] - 17s 121us/sample - loss: 1.8308 - val_loss: 1.9279\n",
            "Epoch 10/30\n",
            "140256/140256 [==============================] - 17s 121us/sample - loss: 1.8315 - val_loss: 1.9272\n",
            "Epoch 11/30\n",
            "140256/140256 [==============================] - 17s 121us/sample - loss: 1.8278 - val_loss: 1.9288\n",
            "Epoch 12/30\n",
            "140256/140256 [==============================] - 17s 122us/sample - loss: 1.8288 - val_loss: 1.9237\n",
            "Epoch 13/30\n",
            "140256/140256 [==============================] - 17s 120us/sample - loss: 1.8274 - val_loss: 1.9146\n",
            "Epoch 14/30\n",
            "140256/140256 [==============================] - 17s 121us/sample - loss: 1.8286 - val_loss: 1.9264\n",
            "Epoch 15/30\n",
            "140256/140256 [==============================] - 17s 120us/sample - loss: 1.8286 - val_loss: 1.9182\n",
            "Epoch 16/30\n",
            "140256/140256 [==============================] - 17s 120us/sample - loss: 1.8277 - val_loss: 1.9474\n",
            "Epoch 17/30\n",
            "140256/140256 [==============================] - 17s 124us/sample - loss: 1.8274 - val_loss: 1.9260\n",
            "Epoch 18/30\n",
            "140256/140256 [==============================] - 17s 122us/sample - loss: 1.8276 - val_loss: 1.9191\n",
            "Epoch 19/30\n",
            "140256/140256 [==============================] - 17s 120us/sample - loss: 1.8291 - val_loss: 1.9169\n",
            "Epoch 20/30\n",
            "140256/140256 [==============================] - 17s 120us/sample - loss: 1.8270 - val_loss: 1.9301\n",
            "Epoch 21/30\n",
            "140256/140256 [==============================] - 17s 120us/sample - loss: 1.8254 - val_loss: 1.9268\n",
            "Epoch 22/30\n",
            "140256/140256 [==============================] - 17s 120us/sample - loss: 1.8261 - val_loss: 1.9233\n",
            "Epoch 23/30\n",
            "140256/140256 [==============================] - 17s 120us/sample - loss: 1.8288 - val_loss: 1.9221\n",
            "Epoch 24/30\n",
            "140256/140256 [==============================] - 17s 119us/sample - loss: 1.8266 - val_loss: 1.9207\n",
            "Epoch 25/30\n",
            "140256/140256 [==============================] - 17s 121us/sample - loss: 1.8265 - val_loss: 1.9250\n",
            "Epoch 26/30\n",
            "140256/140256 [==============================] - 17s 119us/sample - loss: 1.8277 - val_loss: 1.9247\n",
            "Epoch 27/30\n",
            "140256/140256 [==============================] - 17s 120us/sample - loss: 1.8273 - val_loss: 1.9208\n",
            "Epoch 28/30\n",
            "140256/140256 [==============================] - 17s 120us/sample - loss: 1.8262 - val_loss: 1.9237\n",
            "Epoch 29/30\n",
            "140256/140256 [==============================] - 17s 120us/sample - loss: 1.8268 - val_loss: 1.9310\n",
            "Epoch 30/30\n",
            "140256/140256 [==============================] - 17s 121us/sample - loss: 1.8290 - val_loss: 1.9260\n"
          ],
          "name": "stdout"
        }
      ]
    },
    {
      "cell_type": "code",
      "metadata": {
        "id": "zCt7uOt5J3Av",
        "colab_type": "code",
        "colab": {
          "base_uri": "https://localhost:8080/",
          "height": 482
        },
        "outputId": "654ad98b-13c8-414c-b69f-9c0333de9cbb"
      },
      "source": [
        "#plt.plot(hist_p.history['loss'],linestyle='-.')\n",
        "plt.plot(hist_zi.history['val_loss'])\n",
        "#plt.plot(hist_zi.history['loss'])\n",
        "plt.plot(hist_zi.history['loss'])\n",
        "plt.ylim(1.2,2.2)\n",
        "#plt.legend(['Poisson loss','Poisson val_loss','ZI loss','ZI val_loss'])\n",
        "plt.legend(['val_loss','loss'])\n",
        "plt.xlabel('Epochs')\n",
        "plt.ylabel('NLL')\n",
        "plt.savefig('ch05_flik.pdf')\n",
        "#np.mean(hist_p.history['val_loss'][-30:]) ,\n",
        "np.min(hist_zi.history['val_loss']) ,np.mean(hist_zi.history['val_loss'][1:8]) "
      ],
      "execution_count": 28,
      "outputs": [
        {
          "output_type": "execute_result",
          "data": {
            "text/plain": [
              "(1.914584106724012, 1.9251369697473755)"
            ]
          },
          "metadata": {
            "tags": []
          },
          "execution_count": 28
        },
        {
          "output_type": "display_data",
          "data": {
            "image/png": "[encoded data removed]",
            "text/plain": [
              "<Figure size 640x480 with 1 Axes>"
            ]
          },
          "metadata": {
            "tags": []
          }
        }
      ]
    },
    {
      "cell_type": "code",
      "metadata": {
        "id": "V9yNtAZoJ3Ax",
        "colab_type": "code",
        "colab": {}
      },
      "source": [
        "model_zi = tf.keras.models.Model(inputs=inputs, outputs=p_y_zi.mean())\n",
        "y_hat_te = model_zi(X_te)\n",
        "#mean_absolute_error(y_hat_te, y_te), mean_squared_error(y_hat_te, y_te)\n",
        "np.sqrt(np.mean((y_hat_te - y_te)**2)),np.mean(np.abs(y_hat_te - y_te))"
      ],
      "execution_count": 0,
      "outputs": []
    },
    {
      "cell_type": "code",
      "metadata": {
        "id": "KpjPtFvhJ3Az",
        "colab_type": "code",
        "colab": {
          "base_uri": "https://localhost:8080/",
          "height": 35
        },
        "outputId": "22b5982c-ea8f-4afe-d733-a41a70d391a4"
      },
      "source": [
        "plt.figure(figsize=(6,6))\n",
        "plt.xlim(-1,5)\n",
        "plt.ylim(-1,5)\n",
        "y_hat_tr = model_zi(X_tr)\n",
        "\n",
        "plt.scatter(y_hat_te, np.random.normal(loc=y_te,scale=0.2), alpha=0.7)\n",
        "plt.xlabel('Counts: predicted by ZI (Training)')\n",
        "plt.ylabel('Counts: true')\n",
        "\n",
        "plt.savefig('ch05_zi.pdf')\n",
        "print('Training Set', np.mean(np.square(y_hat_tr[y_tr == 0])),np.sum(y_hat_tr[y_tr == 0]>0.5))\n",
        "print('Validation Set', np.mean(np.square(y_hat_te[y_te == 0])),np.sum(y_hat_te[y_te == 0]>0.5))"
      ],
      "execution_count": 0,
      "outputs": [
        {
          "output_type": "stream",
          "text": [
            "0.4524578   6.018858   0.066725224 0.41756886    -2.6381164 -0.33276153\n"
          ],
          "name": "stdout"
        }
      ]
    },
    {
      "cell_type": "markdown",
      "metadata": {
        "id": "zqgWm9QPQlle",
        "colab_type": "text"
      },
      "source": [
        "## 4 Using Mixture Models"
      ]
    },
    {
      "cell_type": "code",
      "metadata": {
        "id": "0l4pkNpgQ7nR",
        "colab_type": "code",
        "colab": {}
      },
      "source": [
        "def negloglik2(y_true, y_hat):\n",
        "    # return -tf.reduce_mean(y_hat.log_prob(y_true))\n",
        "    return -tf.reduce_mean(y_hat.log_prob(tf.reshape(y_true,(-1,))))"
      ],
      "execution_count": 0,
      "outputs": []
    },
    {
      "cell_type": "code",
      "metadata": {
        "id": "WTrEeR94J3A4",
        "colab_type": "code",
        "colab": {}
      },
      "source": [
        "# 10          20       30        40       50         55\n",
        "#123456789012345678901234567890123456789012345678901234\n",
        "#See https://www.tensorflow.org/probability/api_docs/python/tfp/distributions/QuantizedDistribution\n",
        "def mixture_discrete(out, bits=6, num=3): \n",
        "    loc, un_scale, logits = tf.split(out,\n",
        "                                     num_or_size_splits=num,\n",
        "                                     axis=-1)\n",
        "    scale = 0.5 + tf.nn.softplus(un_scale)\n",
        "    \n",
        "    distribution=tfd.TransformedDistribution(\n",
        "        #distribution=tfd.Poisson(rate=scale),\n",
        "        distribution=tfd.Logistic(loc=loc, scale=scale),\n",
        "        bijector=tfb.AffineScalar(shift=-0.5)\n",
        "    )\n",
        "       \n",
        "    \n",
        "    discretized_logistic_dist = tfd.QuantizedDistribution(distribution, low=0.,high=2**bits - 1.)\n",
        "    \n",
        "    mixture_dist = tfd.MixtureSameFamily(\n",
        "        mixture_distribution=tfd.Categorical(logits=logits), #logits will be normalized to one\n",
        "        components_distribution=discretized_logistic_dist)\n",
        "    return mixture_dist"
      ],
      "execution_count": 0,
      "outputs": []
    },
    {
      "cell_type": "code",
      "metadata": {
        "id": "7fxviCkeJ3A6",
        "colab_type": "code",
        "colab": {}
      },
      "source": [
        "# 10          20       30        40       50         55\n",
        "#123456789012345678901234567890123456789012345678901234\n",
        "#See https://www.tensorflow.org/probability/api_docs/python/tfp/distributions/QuantizedDistribution\n",
        "def nvp_discrete(out, bits=6, num=3): \n",
        "    loc, un_scale, logits = tf.split(out,\n",
        "                                     num_or_size_splits=num,\n",
        "                                     axis=-1)\n",
        "    scale = 0.5 + tf.nn.softplus(un_scale)\n",
        "    \n",
        "    distribution=tfd.TransformedDistribution(\n",
        "        distribution=tfd.Logistic(loc=loc, scale=scale),\n",
        "        bijector=tfb.RealNVP(\n",
        "        num_masked=2,\n",
        "        shift_and_log_scale_fn=tfb.real_nvp_default_template(\n",
        "            hidden_layers=[16, 16]))\n",
        "    )\n",
        "       \n",
        "    \n",
        "    discretized_logistic_dist = tfd.QuantizedDistribution(distribution, low=0.,high=2**bits - 1.)\n",
        "   \n",
        "    return discretized_logistic_dist"
      ],
      "execution_count": 0,
      "outputs": []
    },
    {
      "cell_type": "code",
      "metadata": {
        "id": "oneQnZIaJ3A-",
        "colab_type": "code",
        "colab": {
          "base_uri": "https://localhost:8080/",
          "height": 466
        },
        "outputId": "e2130e61-68cf-4f08-aaf1-ab1b68938d2f"
      },
      "source": [
        "from tensorflow.keras.regularizers import l2\n",
        "inputs = tf.keras.layers.Input(shape=(X_tr.shape[1],))  \n",
        "h = tf.keras.layers.Dense(50, activation='relu')(inputs)\n",
        "h = tf.keras.layers.Dropout(0.1)(h)\n",
        "h = tf.keras.layers.Dense(500, activation='relu')(inputs)\n",
        "h = tf.keras.layers.Dropout(0.1)(h)\n",
        "h = tf.keras.layers.Dense(100, activation='relu')(h)\n",
        "h = tf.keras.layers.Dropout(0.2)(h)\n",
        "h = tf.keras.layers.Dense(100, activation='relu')(h)\n",
        "h = tf.keras.layers.Dropout(0.3)(h)\n",
        "h = tf.keras.layers.Dense(9, activation='relu')(h)\n",
        "#tt = tf.concat([loc1, scales1, logits], axis=1)\n",
        "p_y = tfp.layers.DistributionLambda(mixture_discrete)(h) \n",
        "model = tf.keras.models.Model(inputs=inputs, outputs=p_y)\n",
        "#model_mean = tf.keras.models.Model(inputs=inputs, outputs=p_y.mean()) #For evaluation we need the mean\n",
        "model.compile(optimizer=tf.optimizers.Adam(0.01), loss=negloglik2)\n",
        "model.summary()"
      ],
      "execution_count": 19,
      "outputs": [
        {
          "output_type": "stream",
          "text": [
            "Model: \"model_1\"\n",
            "_________________________________________________________________\n",
            "Layer (type)                 Output Shape              Param #   \n",
            "=================================================================\n",
            "input_2 (InputLayer)         [(None, 16)]              0         \n",
            "_________________________________________________________________\n",
            "dense_6 (Dense)              (None, 500)               8500      \n",
            "_________________________________________________________________\n",
            "dropout_5 (Dropout)          (None, 500)               0         \n",
            "_________________________________________________________________\n",
            "dense_7 (Dense)              (None, 100)               50100     \n",
            "_________________________________________________________________\n",
            "dropout_6 (Dropout)          (None, 100)               0         \n",
            "_________________________________________________________________\n",
            "dense_8 (Dense)              (None, 100)               10100     \n",
            "_________________________________________________________________\n",
            "dropout_7 (Dropout)          (None, 100)               0         \n",
            "_________________________________________________________________\n",
            "dense_9 (Dense)              (None, 9)                 909       \n",
            "_________________________________________________________________\n",
            "distribution_lambda_1 (Distr ((None,), (None,))        0         \n",
            "=================================================================\n",
            "Total params: 69,609\n",
            "Trainable params: 69,609\n",
            "Non-trainable params: 0\n",
            "_________________________________________________________________\n"
          ],
          "name": "stdout"
        }
      ]
    },
    {
      "cell_type": "code",
      "metadata": {
        "id": "I0rNmGI1J3BB",
        "colab_type": "code",
        "colab": {
          "base_uri": "https://localhost:8080/",
          "height": 553
        },
        "outputId": "6b221bdf-8a4e-4381-fe43-054f845d7c04"
      },
      "source": [
        "hist = model.fit(X_tr, y_tr, epochs=15, verbose=1, validation_data=(X_te, y_te))"
      ],
      "execution_count": 20,
      "outputs": [
        {
          "output_type": "stream",
          "text": [
            "Train on 140256 samples, validate on 35040 samples\n",
            "Epoch 1/15\n",
            "140256/140256 [==============================] - 21s 149us/sample - loss: 1.6822 - val_loss: 1.7528\n",
            "Epoch 2/15\n",
            "140256/140256 [==============================] - 20s 144us/sample - loss: 1.6767 - val_loss: 1.7493\n",
            "Epoch 3/15\n",
            "140256/140256 [==============================] - 20s 145us/sample - loss: 1.6759 - val_loss: 1.7479\n",
            "Epoch 4/15\n",
            "140256/140256 [==============================] - 20s 146us/sample - loss: 1.6758 - val_loss: 1.7580\n",
            "Epoch 5/15\n",
            "140256/140256 [==============================] - 21s 146us/sample - loss: 1.6789 - val_loss: 1.7495\n",
            "Epoch 6/15\n",
            "140256/140256 [==============================] - 21s 146us/sample - loss: 1.6734 - val_loss: 1.7474\n",
            "Epoch 7/15\n",
            "140256/140256 [==============================] - 20s 145us/sample - loss: 1.6808 - val_loss: 1.7538\n",
            "Epoch 8/15\n",
            "140256/140256 [==============================] - 20s 146us/sample - loss: 1.6804 - val_loss: 1.7542\n",
            "Epoch 9/15\n",
            "140256/140256 [==============================] - 20s 146us/sample - loss: 1.6829 - val_loss: 1.7677\n",
            "Epoch 10/15\n",
            "140256/140256 [==============================] - 21s 149us/sample - loss: 1.6847 - val_loss: 1.7659\n",
            "Epoch 11/15\n",
            "140256/140256 [==============================] - 20s 146us/sample - loss: 1.6859 - val_loss: 1.7676\n",
            "Epoch 12/15\n",
            "140256/140256 [==============================] - 20s 145us/sample - loss: 1.6855 - val_loss: 1.7606\n",
            "Epoch 13/15\n",
            "140256/140256 [==============================] - 20s 146us/sample - loss: 1.6784 - val_loss: 1.7545\n",
            "Epoch 14/15\n",
            "140256/140256 [==============================] - 20s 145us/sample - loss: 1.6821 - val_loss: 1.7632\n",
            "Epoch 15/15\n",
            "140256/140256 [==============================] - 20s 145us/sample - loss: 1.6865 - val_loss: 1.7799\n"
          ],
          "name": "stdout"
        }
      ]
    },
    {
      "cell_type": "code",
      "metadata": {
        "id": "268pEn4PJ3BC",
        "colab_type": "code",
        "colab": {
          "base_uri": "https://localhost:8080/",
          "height": 478
        },
        "outputId": "d9479e33-1a9d-41e4-a777-b241ccae7b8f"
      },
      "source": [
        "plt.plot(hist.history['loss'])\n",
        "plt.plot(hist.history['val_loss'])\n",
        "plt.legend(['loss', 'val_loss'])\n",
        "plt.xlabel('Epochs')\n",
        "plt.ylabel('NLL')\n",
        "np.mean(hist.history['loss'])\n",
        "#plt.ylim(1.5,1.7)\n",
        "np.mean(hist.history['val_loss'][-5:]) #Paper -1.91760131278"
      ],
      "execution_count": 21,
      "outputs": [
        {
          "output_type": "execute_result",
          "data": {
            "text/plain": [
              "1.765172602041671"
            ]
          },
          "metadata": {
            "tags": []
          },
          "execution_count": 21
        },
        {
          "output_type": "display_data",
          "data": {
            "image/png": "[encoded data removed]",
            "text/plain": [
              "<Figure size 640x480 with 1 Axes>"
            ]
          },
          "metadata": {
            "tags": []
          }
        }
      ]
    },
    {
      "cell_type": "code",
      "metadata": {
        "id": "xB-ttM7-J3BQ",
        "colab_type": "code",
        "colab": {}
      },
      "source": [
        ""
      ],
      "execution_count": 0,
      "outputs": []
    }
  ]
}