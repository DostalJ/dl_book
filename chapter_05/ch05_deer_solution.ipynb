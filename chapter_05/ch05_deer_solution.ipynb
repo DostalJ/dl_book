{
 "cells": [
  {
   "cell_type": "markdown",
   "metadata": {},
   "source": [
    "# Solution of the deer data\n",
    "\n",
    "** Try first yourself before continuing **\n",
    "### Count regression on deer data\n",
    "\n",
    "This notebook demonstrates the use of TFP for regression on count data. The dataset is the number of fish caught in a state park. \n",
    "\n",
    "* Poisson Regression\n",
    "* Zero Infated Poisson Regression\n",
    "\n",
    "#### Results from the paper"
   ]
  },
  {
   "cell_type": "code",
   "execution_count": 22,
   "metadata": {},
   "outputs": [
    {
     "name": "stdout",
     "output_type": "stream",
     "text": [
      "Tensorflow version:  2.0.0-alpha0  running in colab?:  False\n"
     ]
    }
   ],
   "source": [
    "import tensorflow as tf\n",
    "try: #If running in colab \n",
    "    import google.colab\n",
    "    IN_COLAB = True \n",
    "except:\n",
    "    IN_COLAB = False\n",
    "if (not tf.__version__.startswith('2')): #Checking if tf 2.0 is installed\n",
    "    if IN_COLAB: #If running in colab install tf 2.0\n",
    "        !pip install tensorflow==2.0.0-alpha0\n",
    "        !pip install pip install tfp-nightly==0.7.0-dev20190511\n",
    "    print('Please install tensorflow 2.0 to run this notebook')\n",
    "print('Tensorflow version: ',tf.__version__, ' running in colab?: ', IN_COLAB)"
   ]
  },
  {
   "cell_type": "code",
   "execution_count": 23,
   "metadata": {},
   "outputs": [
    {
     "name": "stdout",
     "output_type": "stream",
     "text": [
      "TFP Version 0.7.0-dev20190511\n",
      "TF  Version 2.0.0-alpha0\n"
     ]
    }
   ],
   "source": [
    "import matplotlib.pyplot as plt\n",
    "import numpy as np\n",
    "from sklearn.model_selection import train_test_split\n",
    "from sklearn.metrics import mean_absolute_error, mean_squared_error\n",
    "import seaborn as sns\n",
    "import tensorflow_probability as tfp\n",
    "\n",
    "sns.reset_defaults()\n",
    "#sns.set_style('whitegrid')\n",
    "sns.set_context(context='talk',font_scale=0.7)\n",
    "\n",
    "\n",
    "%matplotlib inline\n",
    "plt.style.use('default')\n",
    "\n",
    "tfd = tfp.distributions\n",
    "tfb = tfp.bijectors\n",
    "from tensorflow.keras.models import Model\n",
    "from tensorflow.keras.layers import Dense\n",
    "print(\"TFP Version\", tfp.__version__)\n",
    "print(\"TF  Version\",tf.__version__)\n",
    "np.random.seed(42)\n",
    "tf.random.set_seed(42)"
   ]
  },
  {
   "cell_type": "markdown",
   "metadata": {},
   "source": [
    "## Loading some count data"
   ]
  },
  {
   "cell_type": "code",
   "execution_count": 3,
   "metadata": {},
   "outputs": [],
   "source": [
    "# Alternative version\n",
    "# dat = np.loadtxt('https://raw.githubusercontent.com/tensorchiefs/dl_book/master/data/nb_data.csv') \n",
    "# X = dat[...,0:3]\n",
    "# y = dat[...,4]\n",
    "# X_tr, X_te, y_tr, y_te = train_test_split(X, y, test_size=0.33, random_state=42)\n",
    "# X_tr.shape, y_tr.shape, X_te.shape, y_te.shape"
   ]
  },
  {
   "cell_type": "code",
   "execution_count": 4,
   "metadata": {},
   "outputs": [],
   "source": [
    "# The Fish Data Set\n",
    "# See example 2 from https://stats.idre.ucla.edu/r/dae/zip/ \n",
    "#\"nofish\",\"livebait\",\"camper\",\"persons\",\"child\",\"xb\",\"zg\",\"count\"\n",
    "#dat = np.loadtxt('../data/fish.csv', delimiter=',', skiprows=1)\n",
    "# dat = np.loadtxt('https://raw.githubusercontent.com/tensorchiefs/dl_book/master/data/fish.csv',delimiter=',', skiprows=1)\n",
    "# X = dat[...,1:5] #\"livebait\",\"camper\",\"persons\",\"child\n",
    "# y = dat[...,7]\n",
    "# X_tr, X_te, y_tr, y_te = train_test_split(X, y, test_size=0.33, random_state=42)\n",
    "# d = X_tr.shape[1]\n",
    "# X_tr.shape, y_tr.shape, X_te.shape, y_te.shape,dat.shape"
   ]
  },
  {
   "cell_type": "code",
   "execution_count": 5,
   "metadata": {},
   "outputs": [],
   "source": [
    "#!wget http://www-home.htwg-konstanz.de/~oduerr/tmp/deer_train_short.csv"
   ]
  },
  {
   "cell_type": "code",
   "execution_count": 2,
   "metadata": {},
   "outputs": [],
   "source": [
    "try:\n",
    "    import feather\n",
    "except:\n",
    "    !pip install feather-format\n",
    "    import feather"
   ]
  },
  {
   "cell_type": "code",
   "execution_count": 14,
   "metadata": {},
   "outputs": [],
   "source": [
    "from urllib.request import urlretrieve\n",
    "import os\n",
    "def get_if_not_there(filename = 'deer_train.feather'):\n",
    "    if not os.path.isfile(filename):\n",
    "         urlretrieve('https://raw.githubusercontent.com/tensorchiefs/dl_book/master/data/{}'.format(filename),\n",
    "                    filename = filename)\n",
    "\n",
    "get_if_not_there('deer_train.feather')\n",
    "get_if_not_there('deer_test.feather')"
   ]
  },
  {
   "cell_type": "code",
   "execution_count": 15,
   "metadata": {},
   "outputs": [
    {
     "data": {
      "text/html": [
       "<div>\n",
       "<style scoped>\n",
       "    .dataframe tbody tr th:only-of-type {\n",
       "        vertical-align: middle;\n",
       "    }\n",
       "\n",
       "    .dataframe tbody tr th {\n",
       "        vertical-align: top;\n",
       "    }\n",
       "\n",
       "    .dataframe thead th {\n",
       "        text-align: right;\n",
       "    }\n",
       "</style>\n",
       "<table border=\"1\" class=\"dataframe\">\n",
       "  <thead>\n",
       "    <tr style=\"text-align: right;\">\n",
       "      <th></th>\n",
       "      <th>wild</th>\n",
       "      <th>year</th>\n",
       "      <th>time</th>\n",
       "      <th>daytime</th>\n",
       "      <th>weekday</th>\n",
       "    </tr>\n",
       "  </thead>\n",
       "  <tbody>\n",
       "    <tr>\n",
       "      <th>0</th>\n",
       "      <td>0</td>\n",
       "      <td>2010.0</td>\n",
       "      <td>2922.000000</td>\n",
       "      <td>night.am</td>\n",
       "      <td>Sunday</td>\n",
       "    </tr>\n",
       "    <tr>\n",
       "      <th>1</th>\n",
       "      <td>2</td>\n",
       "      <td>2010.0</td>\n",
       "      <td>2922.020833</td>\n",
       "      <td>night.am</td>\n",
       "      <td>Sunday</td>\n",
       "    </tr>\n",
       "  </tbody>\n",
       "</table>\n",
       "</div>"
      ],
      "text/plain": [
       "   wild    year         time   daytime weekday\n",
       "0     0  2010.0  2922.000000  night.am  Sunday\n",
       "1     2  2010.0  2922.020833  night.am  Sunday"
      ]
     },
     "execution_count": 15,
     "metadata": {},
     "output_type": "execute_result"
    }
   ],
   "source": [
    "import pandas as pd\n",
    "import numpy as np\n",
    "df_train = feather.read_dataframe('deer_train.feather')\n",
    "df_test = feather.read_dataframe('deer_test.feather')\n",
    "df_test[0:2]"
   ]
  },
  {
   "cell_type": "code",
   "execution_count": 16,
   "metadata": {},
   "outputs": [],
   "source": [
    "y_tr = df_train.iloc[:,0].to_numpy(dtype='float32')\n",
    "y_te = df_test.iloc[:,0].to_numpy(dtype='float32')\n",
    "X_tr = pd.get_dummies(df_train.iloc[:,2:]) #We don't need the year\n",
    "X_te = pd.get_dummies(df_test.iloc[:,2:])\n",
    "X_tr.iloc[:,0] = X_tr.iloc[:,0]/2922.02    #We divide by the maximal number to something in the range 0 to 1\n",
    "X_te.iloc[:,0] = X_te.iloc[:,0]/2922.02 "
   ]
  },
  {
   "cell_type": "code",
   "execution_count": 17,
   "metadata": {},
   "outputs": [
    {
     "data": {
      "text/html": [
       "<div>\n",
       "<style scoped>\n",
       "    .dataframe tbody tr th:only-of-type {\n",
       "        vertical-align: middle;\n",
       "    }\n",
       "\n",
       "    .dataframe tbody tr th {\n",
       "        vertical-align: top;\n",
       "    }\n",
       "\n",
       "    .dataframe thead th {\n",
       "        text-align: right;\n",
       "    }\n",
       "</style>\n",
       "<table border=\"1\" class=\"dataframe\">\n",
       "  <thead>\n",
       "    <tr style=\"text-align: right;\">\n",
       "      <th></th>\n",
       "      <th>time</th>\n",
       "      <th>daytime_day.am</th>\n",
       "      <th>daytime_night.am</th>\n",
       "      <th>daytime_pre.sunrise.am</th>\n",
       "      <th>daytime_post.sunrise.am</th>\n",
       "      <th>daytime_day.pm</th>\n",
       "      <th>daytime_night.pm</th>\n",
       "      <th>daytime_pre.sunset.pm</th>\n",
       "      <th>daytime_post.sunset.pm</th>\n",
       "      <th>weekday_Monday</th>\n",
       "      <th>weekday_Tuesday</th>\n",
       "      <th>weekday_Wednesday</th>\n",
       "      <th>weekday_Thursday</th>\n",
       "      <th>weekday_Friday</th>\n",
       "      <th>weekday_Saturday</th>\n",
       "      <th>weekday_Sunday</th>\n",
       "    </tr>\n",
       "  </thead>\n",
       "  <tbody>\n",
       "    <tr>\n",
       "      <th>0</th>\n",
       "      <td>0.000000</td>\n",
       "      <td>0</td>\n",
       "      <td>1</td>\n",
       "      <td>0</td>\n",
       "      <td>0</td>\n",
       "      <td>0</td>\n",
       "      <td>0</td>\n",
       "      <td>0</td>\n",
       "      <td>0</td>\n",
       "      <td>0</td>\n",
       "      <td>0</td>\n",
       "      <td>0</td>\n",
       "      <td>0</td>\n",
       "      <td>0</td>\n",
       "      <td>0</td>\n",
       "      <td>1</td>\n",
       "    </tr>\n",
       "    <tr>\n",
       "      <th>1</th>\n",
       "      <td>0.000007</td>\n",
       "      <td>0</td>\n",
       "      <td>1</td>\n",
       "      <td>0</td>\n",
       "      <td>0</td>\n",
       "      <td>0</td>\n",
       "      <td>0</td>\n",
       "      <td>0</td>\n",
       "      <td>0</td>\n",
       "      <td>0</td>\n",
       "      <td>0</td>\n",
       "      <td>0</td>\n",
       "      <td>0</td>\n",
       "      <td>0</td>\n",
       "      <td>0</td>\n",
       "      <td>1</td>\n",
       "    </tr>\n",
       "  </tbody>\n",
       "</table>\n",
       "</div>"
      ],
      "text/plain": [
       "       time  daytime_day.am  daytime_night.am  daytime_pre.sunrise.am  \\\n",
       "0  0.000000               0                 1                       0   \n",
       "1  0.000007               0                 1                       0   \n",
       "\n",
       "   daytime_post.sunrise.am  daytime_day.pm  daytime_night.pm  \\\n",
       "0                        0               0                 0   \n",
       "1                        0               0                 0   \n",
       "\n",
       "   daytime_pre.sunset.pm  daytime_post.sunset.pm  weekday_Monday  \\\n",
       "0                      0                       0               0   \n",
       "1                      0                       0               0   \n",
       "\n",
       "   weekday_Tuesday  weekday_Wednesday  weekday_Thursday  weekday_Friday  \\\n",
       "0                0                  0                 0               0   \n",
       "1                0                  0                 0               0   \n",
       "\n",
       "   weekday_Saturday  weekday_Sunday  \n",
       "0                 0               1  \n",
       "1                 0               1  "
      ]
     },
     "execution_count": 17,
     "metadata": {},
     "output_type": "execute_result"
    }
   ],
   "source": [
    "X_tr[0:2]"
   ]
  },
  {
   "cell_type": "code",
   "execution_count": 18,
   "metadata": {},
   "outputs": [
    {
     "data": {
      "text/html": [
       "<div>\n",
       "<style scoped>\n",
       "    .dataframe tbody tr th:only-of-type {\n",
       "        vertical-align: middle;\n",
       "    }\n",
       "\n",
       "    .dataframe tbody tr th {\n",
       "        vertical-align: top;\n",
       "    }\n",
       "\n",
       "    .dataframe thead th {\n",
       "        text-align: right;\n",
       "    }\n",
       "</style>\n",
       "<table border=\"1\" class=\"dataframe\">\n",
       "  <thead>\n",
       "    <tr style=\"text-align: right;\">\n",
       "      <th></th>\n",
       "      <th>time</th>\n",
       "      <th>daytime_day.am</th>\n",
       "      <th>daytime_night.am</th>\n",
       "      <th>daytime_pre.sunrise.am</th>\n",
       "      <th>daytime_post.sunrise.am</th>\n",
       "      <th>daytime_day.pm</th>\n",
       "      <th>daytime_night.pm</th>\n",
       "      <th>daytime_pre.sunset.pm</th>\n",
       "      <th>daytime_post.sunset.pm</th>\n",
       "      <th>weekday_Monday</th>\n",
       "      <th>weekday_Tuesday</th>\n",
       "      <th>weekday_Wednesday</th>\n",
       "      <th>weekday_Thursday</th>\n",
       "      <th>weekday_Friday</th>\n",
       "      <th>weekday_Saturday</th>\n",
       "      <th>weekday_Sunday</th>\n",
       "    </tr>\n",
       "  </thead>\n",
       "  <tbody>\n",
       "    <tr>\n",
       "      <th>0</th>\n",
       "      <td>0.999993</td>\n",
       "      <td>0</td>\n",
       "      <td>1</td>\n",
       "      <td>0</td>\n",
       "      <td>0</td>\n",
       "      <td>0</td>\n",
       "      <td>0</td>\n",
       "      <td>0</td>\n",
       "      <td>0</td>\n",
       "      <td>0</td>\n",
       "      <td>0</td>\n",
       "      <td>0</td>\n",
       "      <td>0</td>\n",
       "      <td>0</td>\n",
       "      <td>0</td>\n",
       "      <td>1</td>\n",
       "    </tr>\n",
       "    <tr>\n",
       "      <th>1</th>\n",
       "      <td>1.000000</td>\n",
       "      <td>0</td>\n",
       "      <td>1</td>\n",
       "      <td>0</td>\n",
       "      <td>0</td>\n",
       "      <td>0</td>\n",
       "      <td>0</td>\n",
       "      <td>0</td>\n",
       "      <td>0</td>\n",
       "      <td>0</td>\n",
       "      <td>0</td>\n",
       "      <td>0</td>\n",
       "      <td>0</td>\n",
       "      <td>0</td>\n",
       "      <td>0</td>\n",
       "      <td>1</td>\n",
       "    </tr>\n",
       "  </tbody>\n",
       "</table>\n",
       "</div>"
      ],
      "text/plain": [
       "       time  daytime_day.am  daytime_night.am  daytime_pre.sunrise.am  \\\n",
       "0  0.999993               0                 1                       0   \n",
       "1  1.000000               0                 1                       0   \n",
       "\n",
       "   daytime_post.sunrise.am  daytime_day.pm  daytime_night.pm  \\\n",
       "0                        0               0                 0   \n",
       "1                        0               0                 0   \n",
       "\n",
       "   daytime_pre.sunset.pm  daytime_post.sunset.pm  weekday_Monday  \\\n",
       "0                      0                       0               0   \n",
       "1                      0                       0               0   \n",
       "\n",
       "   weekday_Tuesday  weekday_Wednesday  weekday_Thursday  weekday_Friday  \\\n",
       "0                0                  0                 0               0   \n",
       "1                0                  0                 0               0   \n",
       "\n",
       "   weekday_Saturday  weekday_Sunday  \n",
       "0                 0               1  \n",
       "1                 0               1  "
      ]
     },
     "execution_count": 18,
     "metadata": {},
     "output_type": "execute_result"
    }
   ],
   "source": [
    "X_te[0:2]"
   ]
  },
  {
   "cell_type": "code",
   "execution_count": 19,
   "metadata": {},
   "outputs": [
    {
     "data": {
      "text/plain": [
       "(75744.0, 265911.0, (140256, 16))"
      ]
     },
     "execution_count": 19,
     "metadata": {},
     "output_type": "execute_result"
    }
   ],
   "source": [
    "X_tr = X_tr.to_numpy(dtype='float32')\n",
    "X_te = X_te.to_numpy(dtype='float32')\n",
    "d = X_te.shape[1]\n",
    "# In R\n",
    "#> sum(df.train$wild);sum(df.test$wild)\n",
    "#[1] 265911\n",
    "#[1] 75744\n",
    "np.sum(y_te),np.sum(y_tr),X_tr.shape"
   ]
  },
  {
   "cell_type": "code",
   "execution_count": 20,
   "metadata": {},
   "outputs": [],
   "source": [
    "#### Some exploratory analysis"
   ]
  },
  {
   "cell_type": "code",
   "execution_count": 24,
   "metadata": {},
   "outputs": [
    {
     "data": {
      "text/plain": [
       "38.0"
      ]
     },
     "execution_count": 24,
     "metadata": {},
     "output_type": "execute_result"
    },
    {
     "data": {
      "image/png": "[encoded data removed]",
      "text/plain": [
       "<Figure size 640x480 with 1 Axes>"
      ]
     },
     "metadata": {},
     "output_type": "display_data"
    }
   ],
   "source": [
    "plt.style.use('default')\n",
    "plt.rcParams.update({'font.size': 12})\n",
    "vals, counts = np.unique(y_tr, return_counts=True)\n",
    "plt.stem(vals, counts)\n",
    "plt.xlabel('Count: number of deers killed')\n",
    "plt.ylabel('Frequency')\n",
    "plt.xlim(-1,40)\n",
    "plt.savefig('ch05_deer.pdf')\n",
    "np.max(y_tr)"
   ]
  },
  {
   "cell_type": "markdown",
   "metadata": {},
   "source": [
    "# <------ Cut here for the solution file --->"
   ]
  },
  {
   "cell_type": "markdown",
   "metadata": {},
   "source": [
    "## 1 Doing linear regression\n",
    "\n",
    "In this section we do a standard linear regression."
   ]
  },
  {
   "cell_type": "code",
   "execution_count": null,
   "metadata": {},
   "outputs": [],
   "source": [
    "model_lr = tf.keras.Sequential() #A\n",
    "model_lr.add(tf.keras.layers.Dense(1,input_dim=d, activation='linear')) #B \n",
    "model_lr.compile(loss='mean_squared_error',optimizer=tf.optimizers.Adam(learning_rate=0.01))"
   ]
  },
  {
   "cell_type": "code",
   "execution_count": null,
   "metadata": {},
   "outputs": [
    {
     "name": "stdout",
     "output_type": "stream",
     "text": [
      "Train on 140256 samples, validate on 35040 samples\n",
      "Epoch 1/5\n",
      "140256/140256 [==============================] - 5s 33us/sample - loss: 6.6228 - val_loss: 8.3269\n",
      "Epoch 2/5\n",
      "140256/140256 [==============================] - 4s 31us/sample - loss: 6.5369 - val_loss: 8.3572\n",
      "Epoch 3/5\n",
      "140256/140256 [==============================] - 5s 34us/sample - loss: 6.5378 - val_loss: 8.3768\n",
      "Epoch 4/5\n",
      "140256/140256 [==============================] - 5s 34us/sample - loss: 6.5363 - val_loss: 8.3224\n",
      "Epoch 5/5\n",
      "140256/140256 [==============================] - 5s 34us/sample - loss: 6.5373 - val_loss: 8.3355\n"
     ]
    }
   ],
   "source": [
    "hist_lr = model_lr.fit(x=X_tr, y=y_tr, validation_data=(X_te, y_te), epochs=5, verbose=True);\n",
    "#hist_lr = model_lr.fit(x=X_tr, y=np.sqrt(y_tr), validation_data=(X_te, y_te), epochs=600, verbose=False);"
   ]
  },
  {
   "cell_type": "code",
   "execution_count": null,
   "metadata": {},
   "outputs": [
    {
     "data": {
      "text/plain": [
       "6.55421687081174"
      ]
     },
     "execution_count": 16,
     "metadata": {},
     "output_type": "execute_result"
    },
    {
     "data": {
      "image/png": "[encoded data removed]",
      "text/plain": [
       "<Figure size 640x480 with 1 Axes>"
      ]
     },
     "metadata": {},
     "output_type": "display_data"
    }
   ],
   "source": [
    "plt.plot(hist_lr.history['loss'])\n",
    "plt.plot(hist_lr.history['val_loss'])\n",
    "plt.legend(['loss', 'val_loss'])\n",
    "plt.ylabel('MSE')\n",
    "plt.xlabel('Epochs')\n",
    "np.mean(hist_lr.history['loss'])"
   ]
  },
  {
   "cell_type": "code",
   "execution_count": null,
   "metadata": {},
   "outputs": [],
   "source": [
    "y_hat_te = model_lr.predict(X_te)\n",
    "#np.sqrt(np.mean((y_hat_te - y_te)**2)),np.mean(np.abs(y_hat_te - y_te))"
   ]
  },
  {
   "cell_type": "code",
   "execution_count": null,
   "metadata": {},
   "outputs": [],
   "source": [
    "plt.scatter(y_te, y_hat_te**2)\n",
    "plt.xlabel('True ')\n",
    "plt.ylabel('Predicted ')"
   ]
  },
  {
   "cell_type": "code",
   "execution_count": null,
   "metadata": {},
   "outputs": [],
   "source": [
    "y_hat_tr = model_lr.predict(X_tr) #Testset\n",
    "sigma_hat_2 = np.var(y_hat_tr.flatten() - y_tr) \n",
    "0.5*np.log(2 * np.pi * sigma_hat_2) + 0.5*np.mean((y_hat_te - y_te)**2)/sigma_hat_2"
   ]
  },
  {
   "cell_type": "markdown",
   "metadata": {},
   "source": [
    "## 2 Doing Poisson Regression"
   ]
  },
  {
   "cell_type": "markdown",
   "metadata": {},
   "source": [
    "#### Definition of the Model\n",
    "\n",
    "$$\n",
    "    Y \\thicksim \\tt{Pois}(exp(w^{T} \\cdot x + b))\n",
    "$$"
   ]
  },
  {
   "cell_type": "code",
   "execution_count": 24,
   "metadata": {},
   "outputs": [
    {
     "name": "stdout",
     "output_type": "stream",
     "text": [
      "Model: \"model\"\n",
      "_________________________________________________________________\n",
      "Layer (type)                 Output Shape              Param #   \n",
      "=================================================================\n",
      "input_1 (InputLayer)         [(None, 16)]              0         \n",
      "_________________________________________________________________\n",
      "dense_1 (Dense)              (None, 30)                510       \n",
      "_________________________________________________________________\n",
      "dropout (Dropout)            (None, 30)                0         \n",
      "_________________________________________________________________\n",
      "dense_2 (Dense)              (None, 100)               3100      \n",
      "_________________________________________________________________\n",
      "dropout_1 (Dropout)          (None, 100)               0         \n",
      "_________________________________________________________________\n",
      "dense_3 (Dense)              (None, 100)               10100     \n",
      "_________________________________________________________________\n",
      "dropout_2 (Dropout)          (None, 100)               0         \n",
      "_________________________________________________________________\n",
      "dense_4 (Dense)              (None, 10)                1010      \n",
      "_________________________________________________________________\n",
      "dense_5 (Dense)              (None, 1)                 11        \n",
      "_________________________________________________________________\n",
      "distribution_lambda (Distrib ((None, 1), (None, 1))    0         \n",
      "=================================================================\n",
      "Total params: 14,731\n",
      "Trainable params: 14,731\n",
      "Non-trainable params: 0\n",
      "_________________________________________________________________\n"
     ]
    }
   ],
   "source": [
    "# 10          20       30        40       50         55\n",
    "#123456789012345678901234567890123456789012345678901234\n",
    "inputs = tf.keras.layers.Input(shape=(X_tr.shape[1],))  \n",
    "h = tf.keras.layers.Dense(30, \n",
    "         activation='relu')(inputs)\n",
    "h = tf.keras.layers.Dropout(0.1)(h)\n",
    "h = tf.keras.layers.Dense(100, \n",
    "         activation='relu')(h)\n",
    "h = tf.keras.layers.Dropout(0.3)(h)\n",
    "h = tf.keras.layers.Dense(100, \n",
    "         activation='relu')(h)\n",
    "h = tf.keras.layers.Dropout(0.3)(h)\n",
    "h = tf.keras.layers.Dense(10, \n",
    "         activation='relu')(h)\n",
    "rate = tf.keras.layers.Dense(1, \n",
    "         activation=tf.exp, #A\n",
    "         bias_initializer='zeros', \n",
    "         kernel_initializer='zeros')(h)\n",
    "\n",
    "p_y = tfp.layers.DistributionLambda(tfd.Poisson)(rate) #B \n",
    "\n",
    "model_p = Model(inputs=inputs, outputs=p_y) #C\n",
    "\n",
    "\n",
    "def negloglik(y_true, y_hat): #D\n",
    "  return -y_hat.log_prob(y_true)\n",
    "\n",
    "model_p.compile(tf.optimizers.Adam(learning_rate=0.001), \n",
    "                loss=negloglik)\n",
    "\n",
    "#A Definition of a single layer with one output\n",
    "#B We use exponential of the output to model the rate\n",
    "#C Glueing input and output together. Note that output is a tf.distribution\n",
    "#D Since the second argument is the output of the model it is a distribution. It's as simple as calling log_prob to calculate the NLL.\n",
    "\n",
    "model_p.summary()"
   ]
  },
  {
   "cell_type": "code",
   "execution_count": 25,
   "metadata": {},
   "outputs": [
    {
     "name": "stdout",
     "output_type": "stream",
     "text": [
      "Train on 140256 samples, validate on 35040 samples\n",
      "Epoch 1/50\n",
      "140256/140256 [==============================] - 8s 57us/sample - loss: 1.9850 - val_loss: 2.0398\n",
      "Epoch 2/50\n",
      "140256/140256 [==============================] - 8s 54us/sample - loss: 1.9153 - val_loss: 2.0349\n",
      "Epoch 3/50\n",
      "140256/140256 [==============================] - 8s 54us/sample - loss: 1.9032 - val_loss: 2.0361\n",
      "Epoch 4/50\n",
      "140256/140256 [==============================] - 8s 56us/sample - loss: 1.8959 - val_loss: 2.0711\n",
      "Epoch 5/50\n",
      "140256/140256 [==============================] - 8s 58us/sample - loss: 1.8938 - val_loss: 2.0358\n",
      "Epoch 6/50\n",
      "140256/140256 [==============================] - 8s 55us/sample - loss: 1.8923 - val_loss: 2.0403\n",
      "Epoch 7/50\n",
      "140256/140256 [==============================] - 8s 57us/sample - loss: 1.8917 - val_loss: 2.0376\n",
      "Epoch 8/50\n",
      "140256/140256 [==============================] - 8s 56us/sample - loss: 1.8917 - val_loss: 2.0397\n",
      "Epoch 9/50\n",
      "140256/140256 [==============================] - 8s 55us/sample - loss: 1.8912 - val_loss: 2.0436\n",
      "Epoch 10/50\n",
      "140256/140256 [==============================] - 8s 57us/sample - loss: 1.8898 - val_loss: 2.0468\n",
      "Epoch 11/50\n",
      "140256/140256 [==============================] - 10s 69us/sample - loss: 1.8892 - val_loss: 2.0531\n",
      "Epoch 12/50\n",
      "140256/140256 [==============================] - 10s 75us/sample - loss: 1.8898 - val_loss: 2.0476\n",
      "Epoch 13/50\n",
      "140256/140256 [==============================] - 8s 56us/sample - loss: 1.8895 - val_loss: 2.0352\n",
      "Epoch 14/50\n",
      "140256/140256 [==============================] - 8s 59us/sample - loss: 1.8892 - val_loss: 2.0456\n",
      "Epoch 15/50\n",
      "140256/140256 [==============================] - 9s 64us/sample - loss: 1.8895 - val_loss: 2.0427\n",
      "Epoch 16/50\n",
      "111392/140256 [======================>.......] - ETA: 1s - loss: 1.8868"
     ]
    },
    {
     "ename": "KeyboardInterrupt",
     "evalue": "",
     "output_type": "error",
     "traceback": [
      "\u001b[0;31m---------------------------------------------------------------------------\u001b[0m",
      "\u001b[0;31mKeyboardInterrupt\u001b[0m                         Traceback (most recent call last)",
      "\u001b[0;32m<ipython-input-25-f7c0381d9b5e>\u001b[0m in \u001b[0;36m<module>\u001b[0;34m\u001b[0m\n\u001b[0;32m----> 1\u001b[0;31m \u001b[0mhist_p\u001b[0m \u001b[0;34m=\u001b[0m \u001b[0mmodel_p\u001b[0m\u001b[0;34m.\u001b[0m\u001b[0mfit\u001b[0m\u001b[0;34m(\u001b[0m\u001b[0mx\u001b[0m\u001b[0;34m=\u001b[0m\u001b[0mX_tr\u001b[0m\u001b[0;34m,\u001b[0m \u001b[0my\u001b[0m\u001b[0;34m=\u001b[0m\u001b[0my_tr\u001b[0m\u001b[0;34m,\u001b[0m \u001b[0mvalidation_data\u001b[0m\u001b[0;34m=\u001b[0m\u001b[0;34m(\u001b[0m\u001b[0mX_te\u001b[0m\u001b[0;34m,\u001b[0m \u001b[0my_te\u001b[0m\u001b[0;34m)\u001b[0m\u001b[0;34m,\u001b[0m \u001b[0mepochs\u001b[0m\u001b[0;34m=\u001b[0m\u001b[0;36m50\u001b[0m\u001b[0;34m,\u001b[0m \u001b[0mverbose\u001b[0m\u001b[0;34m=\u001b[0m\u001b[0;32mTrue\u001b[0m\u001b[0;34m)\u001b[0m\u001b[0;34m;\u001b[0m\u001b[0;34m\u001b[0m\u001b[0m\n\u001b[0m",
      "\u001b[0;32m/usr/local/lib/python3.5/dist-packages/tensorflow/python/keras/engine/training.py\u001b[0m in \u001b[0;36mfit\u001b[0;34m(self, x, y, batch_size, epochs, verbose, callbacks, validation_split, validation_data, shuffle, class_weight, sample_weight, initial_epoch, steps_per_epoch, validation_steps, validation_freq, max_queue_size, workers, use_multiprocessing, **kwargs)\u001b[0m\n\u001b[1;32m    871\u001b[0m           \u001b[0mvalidation_steps\u001b[0m\u001b[0;34m=\u001b[0m\u001b[0mvalidation_steps\u001b[0m\u001b[0;34m,\u001b[0m\u001b[0;34m\u001b[0m\u001b[0m\n\u001b[1;32m    872\u001b[0m           \u001b[0mvalidation_freq\u001b[0m\u001b[0;34m=\u001b[0m\u001b[0mvalidation_freq\u001b[0m\u001b[0;34m,\u001b[0m\u001b[0;34m\u001b[0m\u001b[0m\n\u001b[0;32m--> 873\u001b[0;31m           steps_name='steps_per_epoch')\n\u001b[0m\u001b[1;32m    874\u001b[0m \u001b[0;34m\u001b[0m\u001b[0m\n\u001b[1;32m    875\u001b[0m   def evaluate(self,\n",
      "\u001b[0;32m/usr/local/lib/python3.5/dist-packages/tensorflow/python/keras/engine/training_arrays.py\u001b[0m in \u001b[0;36mmodel_iteration\u001b[0;34m(model, inputs, targets, sample_weights, batch_size, epochs, verbose, callbacks, val_inputs, val_targets, val_sample_weights, shuffle, initial_epoch, steps_per_epoch, validation_steps, validation_freq, mode, validation_in_fit, prepared_feed_values_from_dataset, steps_name, **kwargs)\u001b[0m\n\u001b[1;32m    350\u001b[0m \u001b[0;34m\u001b[0m\u001b[0m\n\u001b[1;32m    351\u001b[0m         \u001b[0;31m# Get outputs.\u001b[0m\u001b[0;34m\u001b[0m\u001b[0;34m\u001b[0m\u001b[0m\n\u001b[0;32m--> 352\u001b[0;31m         \u001b[0mbatch_outs\u001b[0m \u001b[0;34m=\u001b[0m \u001b[0mf\u001b[0m\u001b[0;34m(\u001b[0m\u001b[0mins_batch\u001b[0m\u001b[0;34m)\u001b[0m\u001b[0;34m\u001b[0m\u001b[0m\n\u001b[0m\u001b[1;32m    353\u001b[0m         \u001b[0;32mif\u001b[0m \u001b[0;32mnot\u001b[0m \u001b[0misinstance\u001b[0m\u001b[0;34m(\u001b[0m\u001b[0mbatch_outs\u001b[0m\u001b[0;34m,\u001b[0m \u001b[0mlist\u001b[0m\u001b[0;34m)\u001b[0m\u001b[0;34m:\u001b[0m\u001b[0;34m\u001b[0m\u001b[0m\n\u001b[1;32m    354\u001b[0m           \u001b[0mbatch_outs\u001b[0m \u001b[0;34m=\u001b[0m \u001b[0;34m[\u001b[0m\u001b[0mbatch_outs\u001b[0m\u001b[0;34m]\u001b[0m\u001b[0;34m\u001b[0m\u001b[0m\n",
      "\u001b[0;32m/usr/local/lib/python3.5/dist-packages/tensorflow/python/keras/backend.py\u001b[0m in \u001b[0;36m__call__\u001b[0;34m(self, inputs)\u001b[0m\n\u001b[1;32m   3215\u001b[0m         \u001b[0mvalue\u001b[0m \u001b[0;34m=\u001b[0m \u001b[0mmath_ops\u001b[0m\u001b[0;34m.\u001b[0m\u001b[0mcast\u001b[0m\u001b[0;34m(\u001b[0m\u001b[0mvalue\u001b[0m\u001b[0;34m,\u001b[0m \u001b[0mtensor\u001b[0m\u001b[0;34m.\u001b[0m\u001b[0mdtype\u001b[0m\u001b[0;34m)\u001b[0m\u001b[0;34m\u001b[0m\u001b[0m\n\u001b[1;32m   3216\u001b[0m       \u001b[0mconverted_inputs\u001b[0m\u001b[0;34m.\u001b[0m\u001b[0mappend\u001b[0m\u001b[0;34m(\u001b[0m\u001b[0mvalue\u001b[0m\u001b[0;34m)\u001b[0m\u001b[0;34m\u001b[0m\u001b[0m\n\u001b[0;32m-> 3217\u001b[0;31m     \u001b[0moutputs\u001b[0m \u001b[0;34m=\u001b[0m \u001b[0mself\u001b[0m\u001b[0;34m.\u001b[0m\u001b[0m_graph_fn\u001b[0m\u001b[0;34m(\u001b[0m\u001b[0;34m*\u001b[0m\u001b[0mconverted_inputs\u001b[0m\u001b[0;34m)\u001b[0m\u001b[0;34m\u001b[0m\u001b[0m\n\u001b[0m\u001b[1;32m   3218\u001b[0m     return nest.pack_sequence_as(self._outputs_structure,\n\u001b[1;32m   3219\u001b[0m                                  [x.numpy() for x in outputs])\n",
      "\u001b[0;32m/usr/local/lib/python3.5/dist-packages/tensorflow/python/eager/function.py\u001b[0m in \u001b[0;36m__call__\u001b[0;34m(self, *args, **kwargs)\u001b[0m\n\u001b[1;32m    556\u001b[0m       raise TypeError(\"Keyword arguments {} unknown. Expected {}.\".format(\n\u001b[1;32m    557\u001b[0m           list(kwargs.keys()), list(self._arg_keywords)))\n\u001b[0;32m--> 558\u001b[0;31m     \u001b[0;32mreturn\u001b[0m \u001b[0mself\u001b[0m\u001b[0;34m.\u001b[0m\u001b[0m_call_flat\u001b[0m\u001b[0;34m(\u001b[0m\u001b[0margs\u001b[0m\u001b[0;34m)\u001b[0m\u001b[0;34m\u001b[0m\u001b[0m\n\u001b[0m\u001b[1;32m    559\u001b[0m \u001b[0;34m\u001b[0m\u001b[0m\n\u001b[1;32m    560\u001b[0m   \u001b[0;32mdef\u001b[0m \u001b[0m_filtered_call\u001b[0m\u001b[0;34m(\u001b[0m\u001b[0mself\u001b[0m\u001b[0;34m,\u001b[0m \u001b[0margs\u001b[0m\u001b[0;34m,\u001b[0m \u001b[0mkwargs\u001b[0m\u001b[0;34m)\u001b[0m\u001b[0;34m:\u001b[0m\u001b[0;34m\u001b[0m\u001b[0m\n",
      "\u001b[0;32m/usr/local/lib/python3.5/dist-packages/tensorflow/python/eager/function.py\u001b[0m in \u001b[0;36m_call_flat\u001b[0;34m(self, args)\u001b[0m\n\u001b[1;32m    625\u001b[0m     \u001b[0;31m# Only need to override the gradient in graph mode and when we have outputs.\u001b[0m\u001b[0;34m\u001b[0m\u001b[0;34m\u001b[0m\u001b[0m\n\u001b[1;32m    626\u001b[0m     \u001b[0;32mif\u001b[0m \u001b[0mcontext\u001b[0m\u001b[0;34m.\u001b[0m\u001b[0mexecuting_eagerly\u001b[0m\u001b[0;34m(\u001b[0m\u001b[0;34m)\u001b[0m \u001b[0;32mor\u001b[0m \u001b[0;32mnot\u001b[0m \u001b[0mself\u001b[0m\u001b[0;34m.\u001b[0m\u001b[0moutputs\u001b[0m\u001b[0;34m:\u001b[0m\u001b[0;34m\u001b[0m\u001b[0m\n\u001b[0;32m--> 627\u001b[0;31m       \u001b[0moutputs\u001b[0m \u001b[0;34m=\u001b[0m \u001b[0mself\u001b[0m\u001b[0;34m.\u001b[0m\u001b[0m_inference_function\u001b[0m\u001b[0;34m.\u001b[0m\u001b[0mcall\u001b[0m\u001b[0;34m(\u001b[0m\u001b[0mctx\u001b[0m\u001b[0;34m,\u001b[0m \u001b[0margs\u001b[0m\u001b[0;34m)\u001b[0m\u001b[0;34m\u001b[0m\u001b[0m\n\u001b[0m\u001b[1;32m    628\u001b[0m     \u001b[0;32melse\u001b[0m\u001b[0;34m:\u001b[0m\u001b[0;34m\u001b[0m\u001b[0m\n\u001b[1;32m    629\u001b[0m       \u001b[0mself\u001b[0m\u001b[0;34m.\u001b[0m\u001b[0m_register_gradient\u001b[0m\u001b[0;34m(\u001b[0m\u001b[0;34m)\u001b[0m\u001b[0;34m\u001b[0m\u001b[0m\n",
      "\u001b[0;32m/usr/local/lib/python3.5/dist-packages/tensorflow/python/eager/function.py\u001b[0m in \u001b[0;36mcall\u001b[0;34m(self, ctx, args)\u001b[0m\n\u001b[1;32m    413\u001b[0m             attrs=(\"executor_type\", executor_type,\n\u001b[1;32m    414\u001b[0m                    \"config_proto\", config),\n\u001b[0;32m--> 415\u001b[0;31m             ctx=ctx)\n\u001b[0m\u001b[1;32m    416\u001b[0m       \u001b[0;31m# Replace empty list with None\u001b[0m\u001b[0;34m\u001b[0m\u001b[0;34m\u001b[0m\u001b[0m\n\u001b[1;32m    417\u001b[0m       \u001b[0moutputs\u001b[0m \u001b[0;34m=\u001b[0m \u001b[0moutputs\u001b[0m \u001b[0;32mor\u001b[0m \u001b[0;32mNone\u001b[0m\u001b[0;34m\u001b[0m\u001b[0m\n",
      "\u001b[0;32m/usr/local/lib/python3.5/dist-packages/tensorflow/python/eager/execute.py\u001b[0m in \u001b[0;36mquick_execute\u001b[0;34m(op_name, num_outputs, inputs, attrs, ctx, name)\u001b[0m\n\u001b[1;32m     58\u001b[0m     tensors = pywrap_tensorflow.TFE_Py_Execute(ctx._handle, device_name,\n\u001b[1;32m     59\u001b[0m                                                \u001b[0mop_name\u001b[0m\u001b[0;34m,\u001b[0m \u001b[0minputs\u001b[0m\u001b[0;34m,\u001b[0m \u001b[0mattrs\u001b[0m\u001b[0;34m,\u001b[0m\u001b[0;34m\u001b[0m\u001b[0m\n\u001b[0;32m---> 60\u001b[0;31m                                                num_outputs)\n\u001b[0m\u001b[1;32m     61\u001b[0m   \u001b[0;32mexcept\u001b[0m \u001b[0mcore\u001b[0m\u001b[0;34m.\u001b[0m\u001b[0m_NotOkStatusException\u001b[0m \u001b[0;32mas\u001b[0m \u001b[0me\u001b[0m\u001b[0;34m:\u001b[0m\u001b[0;34m\u001b[0m\u001b[0m\n\u001b[1;32m     62\u001b[0m     \u001b[0;32mif\u001b[0m \u001b[0mname\u001b[0m \u001b[0;32mis\u001b[0m \u001b[0;32mnot\u001b[0m \u001b[0;32mNone\u001b[0m\u001b[0;34m:\u001b[0m\u001b[0;34m\u001b[0m\u001b[0m\n",
      "\u001b[0;31mKeyboardInterrupt\u001b[0m: "
     ]
    }
   ],
   "source": [
    "hist_p = model_p.fit(x=X_tr, y=y_tr, validation_data=(X_te, y_te), epochs=50, verbose=True);"
   ]
  },
  {
   "cell_type": "code",
   "execution_count": 26,
   "metadata": {
    "scrolled": false
   },
   "outputs": [
    {
     "ename": "NameError",
     "evalue": "name 'hist_p' is not defined",
     "output_type": "error",
     "traceback": [
      "\u001b[0;31m---------------------------------------------------------------------------\u001b[0m",
      "\u001b[0;31mNameError\u001b[0m                                 Traceback (most recent call last)",
      "\u001b[0;32m<ipython-input-26-43026a52bad1>\u001b[0m in \u001b[0;36m<module>\u001b[0;34m\u001b[0m\n\u001b[0;32m----> 1\u001b[0;31m \u001b[0mplt\u001b[0m\u001b[0;34m.\u001b[0m\u001b[0mplot\u001b[0m\u001b[0;34m(\u001b[0m\u001b[0mhist_p\u001b[0m\u001b[0;34m.\u001b[0m\u001b[0mhistory\u001b[0m\u001b[0;34m[\u001b[0m\u001b[0;34m'loss'\u001b[0m\u001b[0;34m]\u001b[0m\u001b[0;34m)\u001b[0m\u001b[0;34m\u001b[0m\u001b[0m\n\u001b[0m\u001b[1;32m      2\u001b[0m \u001b[0mplt\u001b[0m\u001b[0;34m.\u001b[0m\u001b[0mplot\u001b[0m\u001b[0;34m(\u001b[0m\u001b[0mhist_p\u001b[0m\u001b[0;34m.\u001b[0m\u001b[0mhistory\u001b[0m\u001b[0;34m[\u001b[0m\u001b[0;34m'val_loss'\u001b[0m\u001b[0;34m]\u001b[0m\u001b[0;34m)\u001b[0m\u001b[0;34m\u001b[0m\u001b[0m\n\u001b[1;32m      3\u001b[0m \u001b[0mplt\u001b[0m\u001b[0;34m.\u001b[0m\u001b[0mlegend\u001b[0m\u001b[0;34m(\u001b[0m\u001b[0;34m[\u001b[0m\u001b[0;34m'loss'\u001b[0m\u001b[0;34m,\u001b[0m \u001b[0;34m'val_loss'\u001b[0m\u001b[0;34m]\u001b[0m\u001b[0;34m)\u001b[0m\u001b[0;34m\u001b[0m\u001b[0m\n\u001b[1;32m      4\u001b[0m \u001b[0mplt\u001b[0m\u001b[0;34m.\u001b[0m\u001b[0mxlabel\u001b[0m\u001b[0;34m(\u001b[0m\u001b[0;34m'Epochs'\u001b[0m\u001b[0;34m)\u001b[0m\u001b[0;34m\u001b[0m\u001b[0m\n\u001b[1;32m      5\u001b[0m \u001b[0mplt\u001b[0m\u001b[0;34m.\u001b[0m\u001b[0mylabel\u001b[0m\u001b[0;34m(\u001b[0m\u001b[0;34m'NLL'\u001b[0m\u001b[0;34m)\u001b[0m\u001b[0;34m\u001b[0m\u001b[0m\n",
      "\u001b[0;31mNameError\u001b[0m: name 'hist_p' is not defined"
     ]
    }
   ],
   "source": [
    "plt.plot(hist_p.history['loss'])\n",
    "plt.plot(hist_p.history['val_loss'])\n",
    "plt.legend(['loss', 'val_loss'])\n",
    "plt.xlabel('Epochs')\n",
    "plt.ylabel('NLL')\n",
    "np.mean(hist_p.history['loss'])\n",
    "plt.ylim(1.75,2.07)\n",
    "np.mean(hist_p.history['val_loss'][-20:]) #Paper -1.91760131278"
   ]
  },
  {
   "cell_type": "code",
   "execution_count": null,
   "metadata": {},
   "outputs": [],
   "source": [
    "model_pm = tf.keras.models.Model(inputs=inputs, outputs=p_y.mean()) \n",
    "y_hat_te = model_pm(X_te)\n",
    "np.sqrt(np.mean((y_hat_te - y_te)**2)),np.mean(np.abs(y_hat_te - y_te))"
   ]
  },
  {
   "cell_type": "code",
   "execution_count": 1,
   "metadata": {},
   "outputs": [
    {
     "ename": "NameError",
     "evalue": "name 'np' is not defined",
     "output_type": "error",
     "traceback": [
      "\u001b[0;31m---------------------------------------------------------------------------\u001b[0m",
      "\u001b[0;31mNameError\u001b[0m                                 Traceback (most recent call last)",
      "\u001b[0;32m<ipython-input-1-157a77f59722>\u001b[0m in \u001b[0;36m<module>\u001b[0;34m\u001b[0m\n\u001b[1;32m      1\u001b[0m \u001b[0;31m# First build the model matrix, appending an intercept term\u001b[0m\u001b[0;34m\u001b[0m\u001b[0;34m\u001b[0m\u001b[0m\n\u001b[0;32m----> 2\u001b[0;31m \u001b[0md\u001b[0m \u001b[0;34m=\u001b[0m \u001b[0mnp\u001b[0m\u001b[0;34m.\u001b[0m\u001b[0mshape\u001b[0m\u001b[0;34m(\u001b[0m\u001b[0mX_tr\u001b[0m\u001b[0;34m)\u001b[0m\u001b[0;34m[\u001b[0m\u001b[0;36m1\u001b[0m\u001b[0;34m]\u001b[0m\u001b[0;34m\u001b[0m\u001b[0m\n\u001b[0m\u001b[1;32m      3\u001b[0m \u001b[0mXm\u001b[0m \u001b[0;34m=\u001b[0m \u001b[0mnp\u001b[0m\u001b[0;34m.\u001b[0m\u001b[0mones\u001b[0m\u001b[0;34m(\u001b[0m\u001b[0;34m(\u001b[0m\u001b[0mnp\u001b[0m\u001b[0;34m.\u001b[0m\u001b[0mshape\u001b[0m\u001b[0;34m(\u001b[0m\u001b[0mX_tr\u001b[0m\u001b[0;34m)\u001b[0m\u001b[0;34m[\u001b[0m\u001b[0;36m0\u001b[0m\u001b[0;34m]\u001b[0m\u001b[0;34m,\u001b[0m\u001b[0md\u001b[0m\u001b[0;34m+\u001b[0m\u001b[0;36m1\u001b[0m\u001b[0;34m)\u001b[0m\u001b[0;34m)\u001b[0m\u001b[0;34m\u001b[0m\u001b[0m\n\u001b[1;32m      4\u001b[0m \u001b[0mXm\u001b[0m\u001b[0;34m[\u001b[0m\u001b[0;34m:\u001b[0m\u001b[0;34m,\u001b[0m\u001b[0;36m1\u001b[0m\u001b[0;34m:\u001b[0m\u001b[0md\u001b[0m\u001b[0;34m+\u001b[0m\u001b[0;36m1\u001b[0m\u001b[0;34m]\u001b[0m \u001b[0;34m=\u001b[0m \u001b[0mX_tr\u001b[0m\u001b[0;34m\u001b[0m\u001b[0m\n",
      "\u001b[0;31mNameError\u001b[0m: name 'np' is not defined"
     ]
    }
   ],
   "source": [
    "# First build the model matrix, appending an intercept term\n",
    "d = np.shape(X_tr)[1]\n",
    "Xm = np.ones((np.shape(X_tr)[0],d+1))\n",
    "Xm[:,1:d+1] = X_tr"
   ]
  },
  {
   "cell_type": "code",
   "execution_count": null,
   "metadata": {},
   "outputs": [],
   "source": [
    "d = np.shape(X_te)[1]\n",
    "X_te_in = np.ones((np.shape(X_te)[0],d+1))\n",
    "X_te_in[:,1:d+1] = X_te"
   ]
  },
  {
   "cell_type": "code",
   "execution_count": null,
   "metadata": {},
   "outputs": [],
   "source": [
    "fit = tfp.glm.fit(\n",
    "    model_matrix=Xm,\n",
    "    response=y_tr,\n",
    "    model=tfp.glm.Poisson()\n",
    ")"
   ]
  },
  {
   "cell_type": "markdown",
   "metadata": {},
   "source": [
    "$$\n",
    "\\lambda = exp(X \\cdot \\hat \\beta)\n",
    "$$"
   ]
  },
  {
   "cell_type": "code",
   "execution_count": null,
   "metadata": {},
   "outputs": [],
   "source": [
    "d = np.matmul(X_te_in,fit[0])\n",
    "lam = np.exp(d)"
   ]
  },
  {
   "cell_type": "code",
   "execution_count": null,
   "metadata": {},
   "outputs": [],
   "source": [
    "dd = tfd.Poisson(lam).log_prob(y_te).numpy()"
   ]
  },
  {
   "cell_type": "code",
   "execution_count": null,
   "metadata": {},
   "outputs": [],
   "source": [
    "np.mean(dd) - -1.917601 #-1.917601 according to R"
   ]
  },
  {
   "cell_type": "code",
   "execution_count": null,
   "metadata": {},
   "outputs": [],
   "source": [
    "plt.figure(figsize=(6,6))\n",
    "plt.xlim(-0.1,5)\n",
    "plt.ylim(-0.1,5)\n",
    "y_hat_tr = model_pm(X_tr)\n",
    "plt.scatter(y_hat_te, np.random.normal(loc=y_te,scale=0.2), alpha=0.7)\n",
    "plt.xlabel('Counts: predicted by Poisson')\n",
    "plt.ylabel('Counts: true')\n",
    "plt.savefig('ch05_pois.pdf')\n",
    "print('Training Set', np.mean(np.square(y_hat_tr[y_tr == 0])),np.sum(y_hat_tr[y_tr == 0]>0.5))\n",
    "print('Validation Set', np.mean(np.square(y_hat_te[y_te == 0])),np.sum(y_hat_te[y_te == 0]>0.5))"
   ]
  },
  {
   "cell_type": "markdown",
   "metadata": {},
   "source": [
    "## 3 Using zero inflated Poisson Regression\n",
    "\n",
    "We define a network with two outputs. One for the poisson mean, one for the prob that there is a zero. \n",
    "\n",
    "First, we define a function which produces the zero inflated poisson distribution. \n",
    "\n",
    "### Definition of the distribution"
   ]
  },
  {
   "cell_type": "code",
   "execution_count": null,
   "metadata": {},
   "outputs": [],
   "source": [
    "# 10          20       30        40       50         55\n",
    "#123456789012345678901234567890123456789012345678901234\n",
    "# Listing 5.l_zi\n",
    "def zero_inf(out): \n",
    "    rate = tf.math.exp(out[:,0]) #A \n",
    "    #rate = tf.math.softplus(out[:,0]) #A \n",
    "    s = tf.math.sigmoid(out[:,1:]) #B  \n",
    "    probs = tf.concat([s, 1-s], axis=1) #C \n",
    "    print(np.min(rate), \" \", np.max(rate), \" \", np.min(s), np.max(s),\"  \",np.min(out[:,1:]), np.max(out[:,1:]))\n",
    "    return tfd.Mixture(\n",
    "          cat=tfd.Categorical(probs=probs),#D\n",
    "          components=[\n",
    "            tfd.Deterministic(loc=tf.zeros_like(rate)), #E\n",
    "            tfd.Poisson(rate=rate), #F \n",
    "        ])\n",
    "\n",
    "#A The first component codes for the rate. We use exponential to guaranty values >0.\n",
    "#B The second component codes for the zero inflation, using sigmoid squeezes the value between 0 and 1.\n",
    "#C The two probabilities for zeros or Poissonian  \n",
    "#D The tfd.Categorical allows to create a mixture of two components. \n",
    "#E Zero as a deterministic value \n",
    "#F Value drawn from a Poissonian"
   ]
  },
  {
   "cell_type": "code",
   "execution_count": null,
   "metadata": {},
   "outputs": [],
   "source": [
    "## testinging the distribution\n",
    "t = np.ones((5,2), dtype=np.float32)\n",
    "t[4,0]=0.999\n",
    "t[4,1]=10\n",
    "zero_inf(t).mean()"
   ]
  },
  {
   "cell_type": "markdown",
   "metadata": {},
   "source": [
    "### Definition of the model"
   ]
  },
  {
   "cell_type": "code",
   "execution_count": null,
   "metadata": {},
   "outputs": [],
   "source": [
    "## Definition of the model\n",
    "# 10          20       30        40       50         55\n",
    "#123456789012345678901234567890123456789012345678901234\n",
    "## Definition of the custom parametrized distribution\n",
    "from tensorflow.keras.regularizers import l2\n",
    "inputs = tf.keras.layers.Input(shape=(X_tr.shape[1],))  \n",
    "h = tf.keras.layers.Dense(500, activation='relu')(inputs)\n",
    "h = tf.keras.layers.Dropout(0.1)(h)\n",
    "h = tf.keras.layers.Dense(100, activation='relu')(h)\n",
    "h = tf.keras.layers.Dropout(0.3)(h)\n",
    "h = tf.keras.layers.Dense(10, activation='relu')(h)\n",
    "h = tf.keras.layers.Dropout(0.3)(h)\n",
    "\n",
    "out = Dense(2,  #A\n",
    "            kernel_regularizer=l2(0.01), #B\n",
    "            bias_regularizer=l2(0.01))(h)#B\n",
    "\n",
    "p_y_zi = tfp.layers.DistributionLambda(zero_inf)(out)\n",
    "model_zi = Model(inputs=inputs, outputs=p_y_zi)\n",
    "\n",
    "#A A dense layer is used without activation. The transformation is done in zero_inf listing 5.l_zi \n",
    "#B Using a regularisation prevents the network from learning too large weights. Without regularisation, you run into numerical problems.\n",
    "model_zi.summary()"
   ]
  },
  {
   "cell_type": "markdown",
   "metadata": {},
   "source": [
    "### Training of the model (by hand) [optional]\n",
    "\n",
    "The following code trains the NN using a evaluation loop by hand. This help us to find instabilities, which we got rid off using regularisation. See also: https://www.tensorflow.org/beta/guide/keras/training_and_evaluation#part_ii_writing_your_own_training_evaluation_loops_from_scratch\n"
   ]
  },
  {
   "cell_type": "code",
   "execution_count": null,
   "metadata": {},
   "outputs": [],
   "source": [
    "# optimizer=tf.optimizers.RMSprop(learning_rate=0.05)\n",
    "# loss_values = np.zeros((1000))\n",
    "# for e in range(10):\n",
    "#     with tf.GradientTape() as tape:\n",
    "#         y_hat = model_zi(X_tr)\n",
    "#         loss_value = -tf.reduce_mean(y_hat.log_prob(y_tr))\n",
    "#         loss_values[e] = loss_value\n",
    "#         grads = tape.gradient(loss_value, model_zi.trainable_weights)\n",
    "#         weights =  model_zi.trainable_weights       \n",
    "#         optimizer.apply_gradients(zip(grads,weights))"
   ]
  },
  {
   "cell_type": "markdown",
   "metadata": {},
   "source": [
    "### Training using keras' build in training"
   ]
  },
  {
   "cell_type": "code",
   "execution_count": null,
   "metadata": {},
   "outputs": [],
   "source": [
    "def negloglik2(y_true, y_hat):\n",
    "    # return -tf.reduce_mean(y_hat.log_prob(y_true))\n",
    "    return -tf.reduce_mean(y_hat.log_prob(tf.reshape(y_true,(-1,))))\n",
    "\n",
    "model_zi.compile(optimizer=tf.optimizers.Adam(learning_rate=0.001), loss=negloglik2)\n",
    "hist_zi = model_zi.fit(x=X_tr, y=y_tr, validation_data=(X_te, y_te), epochs=30, verbose=True)#, callbacks=[tb]);"
   ]
  },
  {
   "cell_type": "code",
   "execution_count": null,
   "metadata": {},
   "outputs": [],
   "source": [
    "#plt.plot(hist_p.history['loss'],linestyle='-.')\n",
    "plt.plot(hist_zi.history['val_loss'])\n",
    "#plt.plot(hist_zi.history['loss'])\n",
    "plt.plot(hist_zi.history['loss'])\n",
    "plt.ylim(1.2,2.2)\n",
    "#plt.legend(['Poisson loss','Poisson val_loss','ZI loss','ZI val_loss'])\n",
    "plt.legend(['val_loss','loss'])\n",
    "plt.xlabel('Epochs')\n",
    "plt.ylabel('NLL')\n",
    "plt.savefig('ch05_flik.pdf')\n",
    "#np.mean(hist_p.history['val_loss'][-30:]) ,\n",
    "np.min(hist_zi.history['val_loss']) ,np.mean(hist_zi.history['val_loss'][1:8]) "
   ]
  },
  {
   "cell_type": "code",
   "execution_count": null,
   "metadata": {},
   "outputs": [],
   "source": [
    "model_zi = tf.keras.models.Model(inputs=inputs, outputs=p_y_zi.mean())\n",
    "y_hat_te = model_zi(X_te)\n",
    "#mean_absolute_error(y_hat_te, y_te), mean_squared_error(y_hat_te, y_te)\n",
    "np.sqrt(np.mean((y_hat_te - y_te)**2)),np.mean(np.abs(y_hat_te - y_te))"
   ]
  },
  {
   "cell_type": "code",
   "execution_count": null,
   "metadata": {},
   "outputs": [],
   "source": [
    "plt.figure(figsize=(6,6))\n",
    "plt.xlim(-1,5)\n",
    "plt.ylim(-1,5)\n",
    "y_hat_tr = model_zi(X_tr)\n",
    "\n",
    "plt.scatter(y_hat_te, np.random.normal(loc=y_te,scale=0.2), alpha=0.7)\n",
    "plt.xlabel('Counts: predicted by ZI (Training)')\n",
    "plt.ylabel('Counts: true')\n",
    "\n",
    "plt.savefig('ch05_zi.pdf')\n",
    "print('Training Set', np.mean(np.square(y_hat_tr[y_tr == 0])),np.sum(y_hat_tr[y_tr == 0]>0.5))\n",
    "print('Validation Set', np.mean(np.square(y_hat_te[y_te == 0])),np.sum(y_hat_te[y_te == 0]>0.5))"
   ]
  },
  {
   "cell_type": "code",
   "execution_count": null,
   "metadata": {},
   "outputs": [],
   "source": [
    "# 10          20       30        40       50         55\n",
    "#123456789012345678901234567890123456789012345678901234\n",
    "#See https://www.tensorflow.org/probability/api_docs/python/tfp/distributions/QuantizedDistribution\n",
    "\n",
    "def mixture(out, num=3,debug=False): \n",
    "    loc, un_scale, logits = tf.split(out,\n",
    "                                     num_or_size_splits=num,\n",
    "                                     axis=-1)\n",
    "    scale = tf.nn.softplus(un_scale)\n",
    "    if (debug):\n",
    "        print('location', loc.numpy(),' scale ',scale.numpy(), 'logits ', logits.numpy(), ' ', tf.nn.softmax(logits).numpy())\n",
    "#     discretized_logistic_dist=tfd.TransformedDistribution(\n",
    "#         distribution=tfd.Logistic(loc=loc, scale=scale),\n",
    "#         bijector=tfb.AffineScalar(shift=-0.5))\n",
    "    \n",
    "    #print(\"mix_logi \", np.min(logits), \" \", np.max(logits), \" \", np.min(scale), np.max(scale),\"  \",np.min(loc), np.max(loc))\n",
    "    mixture_dist = tfd.MixtureSameFamily(\n",
    "        mixture_distribution=tfd.Categorical(probs=tf.nn.softmax(logits)), #logits will be normalized to one\n",
    "        components_distribution=tfd.Poisson(rate=scale))\n",
    "        components_distribution=tfd.Logistic(loc=loc, scale=scale))\n",
    "    \n",
    "    \n",
    "    return mixture_dist"
   ]
  },
  {
   "cell_type": "code",
   "execution_count": null,
   "metadata": {},
   "outputs": [],
   "source": [
    "# 10          20       30        40       50         55\n",
    "#123456789012345678901234567890123456789012345678901234\n",
    "#See https://www.tensorflow.org/probability/api_docs/python/tfp/distributions/QuantizedDistribution\n",
    "def mixture_discrete(out, bits=6, num=3): \n",
    "    loc, un_scale, logits = tf.split(out,\n",
    "                                     num_or_size_splits=num,\n",
    "                                     axis=-1)\n",
    "    scale = 0.5 + tf.nn.softplus(un_scale)\n",
    "    \n",
    "    distribution=tfd.TransformedDistribution(\n",
    "        #distribution=tfd.Poisson(rate=scale),\n",
    "        distribution=tfd.Logistic(loc=loc, scale=scale),\n",
    "        bijector=tfb.AffineScalar(shift=-0.5)\n",
    "    )\n",
    "       \n",
    "    \n",
    "    discretized_logistic_dist = tfd.QuantizedDistribution(distribution, low=0.,high=2**bits - 1.)\n",
    "    \n",
    "    mixture_dist = tfd.MixtureSameFamily(\n",
    "        mixture_distribution=tfd.Categorical(logits=logits), #logits will be normalized to one\n",
    "        components_distribution=discretized_logistic_dist)\n",
    "    return mixture_dist"
   ]
  },
  {
   "cell_type": "code",
   "execution_count": null,
   "metadata": {},
   "outputs": [],
   "source": [
    "# 10          20       30        40       50         55\n",
    "#123456789012345678901234567890123456789012345678901234\n",
    "#See https://www.tensorflow.org/probability/api_docs/python/tfp/distributions/QuantizedDistribution\n",
    "def nvp_discrete(out, bits=6, num=3): \n",
    "    loc, un_scale, logits = tf.split(out,\n",
    "                                     num_or_size_splits=num,\n",
    "                                     axis=-1)\n",
    "    scale = 0.5 + tf.nn.softplus(un_scale)\n",
    "    \n",
    "    distribution=tfd.TransformedDistribution(\n",
    "        distribution=tfd.Logistic(loc=loc, scale=scale),\n",
    "        bijector=tfb.RealNVP(\n",
    "        num_masked=2,\n",
    "        shift_and_log_scale_fn=tfb.real_nvp_default_template(\n",
    "            hidden_layers=[16, 16]))\n",
    "    )\n",
    "       \n",
    "    \n",
    "    discretized_logistic_dist = tfd.QuantizedDistribution(distribution, low=0.,high=2**bits - 1.)\n",
    "   \n",
    "    return discretized_logistic_dist"
   ]
  },
  {
   "cell_type": "code",
   "execution_count": null,
   "metadata": {},
   "outputs": [],
   "source": [
    "from tensorflow.keras.regularizers import l2\n",
    "inputs = tf.keras.layers.Input(shape=(X_tr.shape[1],))  \n",
    "h = tf.keras.layers.Dense(50, activation='relu')(inputs)\n",
    "h = tf.keras.layers.Dropout(0.1)(h)\n",
    "h = tf.keras.layers.Dense(500, activation='relu')(inputs)\n",
    "h = tf.keras.layers.Dropout(0.1)(h)\n",
    "h = tf.keras.layers.Dense(100, activation='relu')(h)\n",
    "h = tf.keras.layers.Dropout(0.2)(h)\n",
    "h = tf.keras.layers.Dense(100, activation='relu')(h)\n",
    "h = tf.keras.layers.Dropout(0.3)(h)\n",
    "h = tf.keras.layers.Dense(9, activation='relu')(h)\n",
    "#tt = tf.concat([loc1, scales1, logits], axis=1)\n",
    "p_y = tfp.layers.DistributionLambda(mixture_discrete)(h) \n",
    "model = tf.keras.models.Model(inputs=inputs, outputs=p_y)\n",
    "#model_mean = tf.keras.models.Model(inputs=inputs, outputs=p_y.mean()) #For evaluation we need the mean\n",
    "model.compile(optimizer=tf.optimizers.Adam(0.01), loss=negloglik2)\n",
    "model.summary()"
   ]
  },
  {
   "cell_type": "code",
   "execution_count": null,
   "metadata": {},
   "outputs": [],
   "source": [
    "hist = model.fit(X_tr, y_tr, epochs=15, verbose=1, validation_data=(X_te, y_te))"
   ]
  },
  {
   "cell_type": "code",
   "execution_count": null,
   "metadata": {},
   "outputs": [],
   "source": [
    "plt.plot(hist.history['loss'])\n",
    "plt.plot(hist.history['val_loss'])\n",
    "plt.legend(['loss', 'val_loss'])\n",
    "plt.xlabel('Epochs')\n",
    "plt.ylabel('NLL')\n",
    "np.mean(hist.history['loss'])\n",
    "#plt.ylim(1.5,1.7)\n",
    "np.mean(hist.history['val_loss'][-5:]) #Paper -1.91760131278"
   ]
  },
  {
   "cell_type": "code",
   "execution_count": null,
   "metadata": {},
   "outputs": [],
   "source": [
    "model_tt = tf.keras.models.Model(inputs=inputs, outputs=h)"
   ]
  },
  {
   "cell_type": "code",
   "execution_count": null,
   "metadata": {},
   "outputs": [],
   "source": [
    "idx = np.random.permutation(len(y_te))[1:10]"
   ]
  },
  {
   "cell_type": "code",
   "execution_count": null,
   "metadata": {},
   "outputs": [],
   "source": [
    "idx"
   ]
  },
  {
   "cell_type": "code",
   "execution_count": null,
   "metadata": {},
   "outputs": [],
   "source": [
    "ttt = model_tt.predict(X_te[idx])"
   ]
  },
  {
   "cell_type": "code",
   "execution_count": null,
   "metadata": {},
   "outputs": [],
   "source": [
    "ttt[:,0:3] #locs"
   ]
  },
  {
   "cell_type": "code",
   "execution_count": null,
   "metadata": {},
   "outputs": [],
   "source": [
    "tf.nn.softplus(ttt[:,3:6]) #scales"
   ]
  },
  {
   "cell_type": "code",
   "execution_count": null,
   "metadata": {},
   "outputs": [],
   "source": [
    "tf.nn.softmax(ttt[:,6:10]) #Ratios"
   ]
  },
  {
   "cell_type": "code",
   "execution_count": null,
   "metadata": {},
   "outputs": [],
   "source": [
    "model2 = tf.keras.models.Model(inputs=inputs, outputs=p_y)"
   ]
  },
  {
   "cell_type": "code",
   "execution_count": null,
   "metadata": {},
   "outputs": [],
   "source": [
    "y_vals = np.linspace(-2,10)\n",
    "py_vals = model2(X_te[23123:23124]).prob(y_vals)\n",
    "plt.plot(y_vals, py_vals)"
   ]
  },
  {
   "cell_type": "code",
   "execution_count": null,
   "metadata": {},
   "outputs": [],
   "source": []
  }
 ],
 "metadata": {
  "kernelspec": {
   "display_name": "Python 3",
   "language": "python",
   "name": "python3"
  },
  "language_info": {
   "codemirror_mode": {
    "name": "ipython",
    "version": 3
   },
   "file_extension": ".py",
   "mimetype": "text/x-python",
   "name": "python",
   "nbconvert_exporter": "python",
   "pygments_lexer": "ipython3",
   "version": "3.5.2"
  }
 },
 "nbformat": 4,
 "nbformat_minor": 2
}
