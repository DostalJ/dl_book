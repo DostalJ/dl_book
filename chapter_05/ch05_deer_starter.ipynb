{
 "cells": [
  {
   "cell_type": "markdown",
   "metadata": {
    "colab_type": "text",
    "id": "u-mFWP7bJ2_g"
   },
   "source": [
    "### Deer Data (loading the data)\n",
    "\n",
    "This notebooks loads the deer data. Thinks you might want to try are: \n",
    "\n",
    "* Poisson Regression\n",
    "* Zero Infated Poisson Regression\n",
    "* Mixture of Discrete Logistics \n",
    "\n",
    "For a real good results, you might also want to do some feature engineering."
   ]
  },
  {
   "cell_type": "code",
   "execution_count": 1,
   "metadata": {
    "colab": {
     "base_uri": "https://localhost:8080/",
     "height": 35
    },
    "colab_type": "code",
    "id": "rTWB39X_J2_h",
    "outputId": "422ea39d-5376-4833-85a0-e0b703326869"
   },
   "outputs": [
    {
     "name": "stdout",
     "output_type": "stream",
     "text": [
      "Tensorflow version:  2.0.0-alpha0  running in colab?:  False\n"
     ]
    }
   ],
   "source": [
    "import tensorflow as tf\n",
    "try: #If running in colab \n",
    "    import google.colab\n",
    "    IN_COLAB = True \n",
    "except:\n",
    "  \n",
    "    IN_COLAB = False\n",
    "if (not tf.__version__.startswith('2')): #Checking if tf 2.0 is installed\n",
    "    if IN_COLAB: #If running in colab install tf 2.0\n",
    "        !pip install tensorflow==2.0.0-alpha0\n",
    "        !pip install pip install tfp-nightly==0.7.0-dev20190511\n",
    "    print('Please install tensorflow 2.0 to run this notebook')\n",
    "print('Tensorflow version: ',tf.__version__, ' running in colab?: ', IN_COLAB)"
   ]
  },
  {
   "cell_type": "code",
   "execution_count": 2,
   "metadata": {
    "colab": {
     "base_uri": "https://localhost:8080/",
     "height": 52
    },
    "colab_type": "code",
    "id": "p_pM4UKiJ2_l",
    "outputId": "b7a34667-f989-4a9b-fda0-fb0ea9bfaf20"
   },
   "outputs": [
    {
     "name": "stdout",
     "output_type": "stream",
     "text": [
      "TFP Version 0.7.0-dev20190511\n",
      "TF  Version 2.0.0-alpha0\n"
     ]
    }
   ],
   "source": [
    "import matplotlib.pyplot as plt\n",
    "import numpy as np\n",
    "from sklearn.model_selection import train_test_split\n",
    "from sklearn.metrics import mean_absolute_error, mean_squared_error\n",
    "import seaborn as sns\n",
    "import tensorflow_probability as tfp\n",
    "\n",
    "sns.reset_defaults()\n",
    "#sns.set_style('whitegrid')\n",
    "sns.set_context(context='talk',font_scale=0.7)\n",
    "\n",
    "\n",
    "%matplotlib inline\n",
    "plt.style.use('default')\n",
    "\n",
    "tfd = tfp.distributions\n",
    "tfb = tfp.bijectors\n",
    "from tensorflow.keras.models import Model\n",
    "from tensorflow.keras.layers import Dense\n",
    "print(\"TFP Version\", tfp.__version__)\n",
    "print(\"TF  Version\",tf.__version__)\n",
    "np.random.seed(42)\n",
    "tf.random.set_seed(42)"
   ]
  },
  {
   "cell_type": "markdown",
   "metadata": {
    "colab_type": "text",
    "id": "EoCvV8OLJ2_o"
   },
   "source": [
    "## Loading the data"
   ]
  },
  {
   "cell_type": "code",
   "execution_count": 3,
   "metadata": {
    "colab": {},
    "colab_type": "code",
    "id": "MwPlc220J2_u"
   },
   "outputs": [],
   "source": [
    "try:\n",
    "    import feather\n",
    "except:\n",
    "    !pip install feather-format\n",
    "    import feather"
   ]
  },
  {
   "cell_type": "code",
   "execution_count": 4,
   "metadata": {
    "colab": {},
    "colab_type": "code",
    "id": "Zfx4qqJXJ2_w"
   },
   "outputs": [],
   "source": [
    "from urllib.request import urlretrieve\n",
    "import os\n",
    "def get_if_not_there(filename = 'deer_train.feather'):\n",
    "    if not os.path.isfile(filename):\n",
    "         urlretrieve('https://raw.githubusercontent.com/tensorchiefs/dl_book/master/data/{}'.format(filename),\n",
    "                    filename = filename)\n",
    "\n",
    "get_if_not_there('deer_train.feather')\n",
    "get_if_not_there('deer_test.feather')"
   ]
  },
  {
   "cell_type": "code",
   "execution_count": 5,
   "metadata": {
    "colab": {
     "base_uri": "https://localhost:8080/",
     "height": 108
    },
    "colab_type": "code",
    "id": "cYzU5xxDJ2_x",
    "outputId": "0b1627ec-f398-47fd-dfb4-1586313a6755"
   },
   "outputs": [
    {
     "data": {
      "text/html": [
       "<div>\n",
       "<style scoped>\n",
       "    .dataframe tbody tr th:only-of-type {\n",
       "        vertical-align: middle;\n",
       "    }\n",
       "\n",
       "    .dataframe tbody tr th {\n",
       "        vertical-align: top;\n",
       "    }\n",
       "\n",
       "    .dataframe thead th {\n",
       "        text-align: right;\n",
       "    }\n",
       "</style>\n",
       "<table border=\"1\" class=\"dataframe\">\n",
       "  <thead>\n",
       "    <tr style=\"text-align: right;\">\n",
       "      <th></th>\n",
       "      <th>wild</th>\n",
       "      <th>year</th>\n",
       "      <th>time</th>\n",
       "      <th>daytime</th>\n",
       "      <th>weekday</th>\n",
       "    </tr>\n",
       "  </thead>\n",
       "  <tbody>\n",
       "    <tr>\n",
       "      <th>0</th>\n",
       "      <td>0</td>\n",
       "      <td>2010.0</td>\n",
       "      <td>2922.000000</td>\n",
       "      <td>night.am</td>\n",
       "      <td>Sunday</td>\n",
       "    </tr>\n",
       "    <tr>\n",
       "      <th>1</th>\n",
       "      <td>2</td>\n",
       "      <td>2010.0</td>\n",
       "      <td>2922.020833</td>\n",
       "      <td>night.am</td>\n",
       "      <td>Sunday</td>\n",
       "    </tr>\n",
       "  </tbody>\n",
       "</table>\n",
       "</div>"
      ],
      "text/plain": [
       "   wild    year         time   daytime weekday\n",
       "0     0  2010.0  2922.000000  night.am  Sunday\n",
       "1     2  2010.0  2922.020833  night.am  Sunday"
      ]
     },
     "execution_count": 5,
     "metadata": {},
     "output_type": "execute_result"
    }
   ],
   "source": [
    "import pandas as pd\n",
    "import numpy as np\n",
    "df_train = feather.read_dataframe('deer_train.feather')\n",
    "df_test = feather.read_dataframe('deer_test.feather')\n",
    "df_test[0:2]"
   ]
  },
  {
   "cell_type": "code",
   "execution_count": 6,
   "metadata": {
    "colab": {},
    "colab_type": "code",
    "id": "Ir2r3HWMJ2_0"
   },
   "outputs": [],
   "source": [
    "y_tr = df_train.iloc[:,0].to_numpy(dtype='float32')\n",
    "y_te = df_test.iloc[:,0].to_numpy(dtype='float32')\n",
    "X_tr = pd.get_dummies(df_train.iloc[:,2:]) #We don't need the year\n",
    "X_te = pd.get_dummies(df_test.iloc[:,2:])\n",
    "X_tr.iloc[:,0] = X_tr.iloc[:,0]/2922.02    #We divide by the maximal number to something in the range 0 to 1\n",
    "X_te.iloc[:,0] = X_te.iloc[:,0]/2922.02 \n",
    "del df_train, df_test"
   ]
  },
  {
   "cell_type": "code",
   "execution_count": 7,
   "metadata": {
    "colab": {
     "base_uri": "https://localhost:8080/",
     "height": 128
    },
    "colab_type": "code",
    "id": "MQWzBBylJ2_1",
    "outputId": "79c16e11-f011-4cbf-955e-f4437ccc708a"
   },
   "outputs": [
    {
     "data": {
      "text/html": [
       "<div>\n",
       "<style scoped>\n",
       "    .dataframe tbody tr th:only-of-type {\n",
       "        vertical-align: middle;\n",
       "    }\n",
       "\n",
       "    .dataframe tbody tr th {\n",
       "        vertical-align: top;\n",
       "    }\n",
       "\n",
       "    .dataframe thead th {\n",
       "        text-align: right;\n",
       "    }\n",
       "</style>\n",
       "<table border=\"1\" class=\"dataframe\">\n",
       "  <thead>\n",
       "    <tr style=\"text-align: right;\">\n",
       "      <th></th>\n",
       "      <th>time</th>\n",
       "      <th>daytime_day.am</th>\n",
       "      <th>daytime_night.am</th>\n",
       "      <th>daytime_pre.sunrise.am</th>\n",
       "      <th>daytime_post.sunrise.am</th>\n",
       "      <th>daytime_day.pm</th>\n",
       "      <th>daytime_night.pm</th>\n",
       "      <th>daytime_pre.sunset.pm</th>\n",
       "      <th>daytime_post.sunset.pm</th>\n",
       "      <th>weekday_Monday</th>\n",
       "      <th>weekday_Tuesday</th>\n",
       "      <th>weekday_Wednesday</th>\n",
       "      <th>weekday_Thursday</th>\n",
       "      <th>weekday_Friday</th>\n",
       "      <th>weekday_Saturday</th>\n",
       "      <th>weekday_Sunday</th>\n",
       "    </tr>\n",
       "  </thead>\n",
       "  <tbody>\n",
       "    <tr>\n",
       "      <th>0</th>\n",
       "      <td>0.000000</td>\n",
       "      <td>0</td>\n",
       "      <td>1</td>\n",
       "      <td>0</td>\n",
       "      <td>0</td>\n",
       "      <td>0</td>\n",
       "      <td>0</td>\n",
       "      <td>0</td>\n",
       "      <td>0</td>\n",
       "      <td>0</td>\n",
       "      <td>0</td>\n",
       "      <td>0</td>\n",
       "      <td>0</td>\n",
       "      <td>0</td>\n",
       "      <td>0</td>\n",
       "      <td>1</td>\n",
       "    </tr>\n",
       "    <tr>\n",
       "      <th>1</th>\n",
       "      <td>0.000007</td>\n",
       "      <td>0</td>\n",
       "      <td>1</td>\n",
       "      <td>0</td>\n",
       "      <td>0</td>\n",
       "      <td>0</td>\n",
       "      <td>0</td>\n",
       "      <td>0</td>\n",
       "      <td>0</td>\n",
       "      <td>0</td>\n",
       "      <td>0</td>\n",
       "      <td>0</td>\n",
       "      <td>0</td>\n",
       "      <td>0</td>\n",
       "      <td>0</td>\n",
       "      <td>1</td>\n",
       "    </tr>\n",
       "  </tbody>\n",
       "</table>\n",
       "</div>"
      ],
      "text/plain": [
       "       time  daytime_day.am  daytime_night.am  daytime_pre.sunrise.am  \\\n",
       "0  0.000000               0                 1                       0   \n",
       "1  0.000007               0                 1                       0   \n",
       "\n",
       "   daytime_post.sunrise.am  daytime_day.pm  daytime_night.pm  \\\n",
       "0                        0               0                 0   \n",
       "1                        0               0                 0   \n",
       "\n",
       "   daytime_pre.sunset.pm  daytime_post.sunset.pm  weekday_Monday  \\\n",
       "0                      0                       0               0   \n",
       "1                      0                       0               0   \n",
       "\n",
       "   weekday_Tuesday  weekday_Wednesday  weekday_Thursday  weekday_Friday  \\\n",
       "0                0                  0                 0               0   \n",
       "1                0                  0                 0               0   \n",
       "\n",
       "   weekday_Saturday  weekday_Sunday  \n",
       "0                 0               1  \n",
       "1                 0               1  "
      ]
     },
     "execution_count": 7,
     "metadata": {},
     "output_type": "execute_result"
    }
   ],
   "source": [
    "X_tr[0:2]"
   ]
  },
  {
   "cell_type": "code",
   "execution_count": 8,
   "metadata": {
    "colab": {
     "base_uri": "https://localhost:8080/",
     "height": 128
    },
    "colab_type": "code",
    "id": "g8mhrDZTJ2_4",
    "outputId": "9cb7984d-55b9-4f58-c720-a7b30ac734d1"
   },
   "outputs": [
    {
     "data": {
      "text/html": [
       "<div>\n",
       "<style scoped>\n",
       "    .dataframe tbody tr th:only-of-type {\n",
       "        vertical-align: middle;\n",
       "    }\n",
       "\n",
       "    .dataframe tbody tr th {\n",
       "        vertical-align: top;\n",
       "    }\n",
       "\n",
       "    .dataframe thead th {\n",
       "        text-align: right;\n",
       "    }\n",
       "</style>\n",
       "<table border=\"1\" class=\"dataframe\">\n",
       "  <thead>\n",
       "    <tr style=\"text-align: right;\">\n",
       "      <th></th>\n",
       "      <th>time</th>\n",
       "      <th>daytime_day.am</th>\n",
       "      <th>daytime_night.am</th>\n",
       "      <th>daytime_pre.sunrise.am</th>\n",
       "      <th>daytime_post.sunrise.am</th>\n",
       "      <th>daytime_day.pm</th>\n",
       "      <th>daytime_night.pm</th>\n",
       "      <th>daytime_pre.sunset.pm</th>\n",
       "      <th>daytime_post.sunset.pm</th>\n",
       "      <th>weekday_Monday</th>\n",
       "      <th>weekday_Tuesday</th>\n",
       "      <th>weekday_Wednesday</th>\n",
       "      <th>weekday_Thursday</th>\n",
       "      <th>weekday_Friday</th>\n",
       "      <th>weekday_Saturday</th>\n",
       "      <th>weekday_Sunday</th>\n",
       "    </tr>\n",
       "  </thead>\n",
       "  <tbody>\n",
       "    <tr>\n",
       "      <th>0</th>\n",
       "      <td>0.999993</td>\n",
       "      <td>0</td>\n",
       "      <td>1</td>\n",
       "      <td>0</td>\n",
       "      <td>0</td>\n",
       "      <td>0</td>\n",
       "      <td>0</td>\n",
       "      <td>0</td>\n",
       "      <td>0</td>\n",
       "      <td>0</td>\n",
       "      <td>0</td>\n",
       "      <td>0</td>\n",
       "      <td>0</td>\n",
       "      <td>0</td>\n",
       "      <td>0</td>\n",
       "      <td>1</td>\n",
       "    </tr>\n",
       "    <tr>\n",
       "      <th>1</th>\n",
       "      <td>1.000000</td>\n",
       "      <td>0</td>\n",
       "      <td>1</td>\n",
       "      <td>0</td>\n",
       "      <td>0</td>\n",
       "      <td>0</td>\n",
       "      <td>0</td>\n",
       "      <td>0</td>\n",
       "      <td>0</td>\n",
       "      <td>0</td>\n",
       "      <td>0</td>\n",
       "      <td>0</td>\n",
       "      <td>0</td>\n",
       "      <td>0</td>\n",
       "      <td>0</td>\n",
       "      <td>1</td>\n",
       "    </tr>\n",
       "  </tbody>\n",
       "</table>\n",
       "</div>"
      ],
      "text/plain": [
       "       time  daytime_day.am  daytime_night.am  daytime_pre.sunrise.am  \\\n",
       "0  0.999993               0                 1                       0   \n",
       "1  1.000000               0                 1                       0   \n",
       "\n",
       "   daytime_post.sunrise.am  daytime_day.pm  daytime_night.pm  \\\n",
       "0                        0               0                 0   \n",
       "1                        0               0                 0   \n",
       "\n",
       "   daytime_pre.sunset.pm  daytime_post.sunset.pm  weekday_Monday  \\\n",
       "0                      0                       0               0   \n",
       "1                      0                       0               0   \n",
       "\n",
       "   weekday_Tuesday  weekday_Wednesday  weekday_Thursday  weekday_Friday  \\\n",
       "0                0                  0                 0               0   \n",
       "1                0                  0                 0               0   \n",
       "\n",
       "   weekday_Saturday  weekday_Sunday  \n",
       "0                 0               1  \n",
       "1                 0               1  "
      ]
     },
     "execution_count": 8,
     "metadata": {},
     "output_type": "execute_result"
    }
   ],
   "source": [
    "X_te[0:2]"
   ]
  },
  {
   "cell_type": "code",
   "execution_count": 9,
   "metadata": {
    "colab": {
     "base_uri": "https://localhost:8080/",
     "height": 35
    },
    "colab_type": "code",
    "id": "xa2BOQY-J2_6",
    "outputId": "238ed373-e5c6-4161-e61c-627c61859a27"
   },
   "outputs": [
    {
     "data": {
      "text/plain": [
       "(75744.0, 265911.0, (140256, 16))"
      ]
     },
     "execution_count": 9,
     "metadata": {},
     "output_type": "execute_result"
    }
   ],
   "source": [
    "X_tr = X_tr.to_numpy(dtype='float32')\n",
    "X_te = X_te.to_numpy(dtype='float32')\n",
    "d = X_te.shape[1]\n",
    "# In R\n",
    "#> sum(df.train$wild);sum(df.test$wild)\n",
    "#[1] 265911\n",
    "#[1] 75744\n",
    "np.sum(y_te),np.sum(y_tr),X_tr.shape"
   ]
  },
  {
   "cell_type": "code",
   "execution_count": 10,
   "metadata": {
    "colab": {},
    "colab_type": "code",
    "id": "33JErGaaJ2_8"
   },
   "outputs": [],
   "source": [
    "#### Some exploratory analysis"
   ]
  },
  {
   "cell_type": "code",
   "execution_count": 11,
   "metadata": {
    "colab": {
     "base_uri": "https://localhost:8080/",
     "height": 478
    },
    "colab_type": "code",
    "id": "xHiYbM0eJ2_-",
    "outputId": "dece1c17-d865-43a3-c664-30dc62a98e86"
   },
   "outputs": [
    {
     "data": {
      "text/plain": [
       "38.0"
      ]
     },
     "execution_count": 11,
     "metadata": {},
     "output_type": "execute_result"
    },
    {
     "data": {
      "image/png": "[encoded data removed]",
      "text/plain": [
       "<Figure size 640x480 with 1 Axes>"
      ]
     },
     "metadata": {},
     "output_type": "display_data"
    }
   ],
   "source": [
    "plt.style.use('default')\n",
    "plt.rcParams.update({'font.size': 12})\n",
    "vals, counts = np.unique(y_tr, return_counts=True)\n",
    "plt.stem(vals, counts)\n",
    "plt.xlabel('Count: number of deers killed')\n",
    "plt.ylabel('Frequency')\n",
    "plt.xlim(-1,40)\n",
    "plt.savefig('ch05_deer.pdf')\n",
    "np.max(y_tr)"
   ]
  }
 ],
 "metadata": {
  "accelerator": "GPU",
  "colab": {
   "name": "ch05_deer_solution.ipynb",
   "provenance": [],
   "toc_visible": true,
   "version": "0.3.2"
  },
  "kernelspec": {
   "display_name": "Python 3",
   "language": "python",
   "name": "python3"
  },
  "language_info": {
   "codemirror_mode": {
    "name": "ipython",
    "version": 3
   },
   "file_extension": ".py",
   "mimetype": "text/x-python",
   "name": "python",
   "nbconvert_exporter": "python",
   "pygments_lexer": "ipython3",
   "version": "3.5.2"
  }
 },
 "nbformat": 4,
 "nbformat_minor": 1
}
