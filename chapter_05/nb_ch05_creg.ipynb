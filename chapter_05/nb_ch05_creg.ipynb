{
 "cells": [
  {
   "cell_type": "markdown",
   "metadata": {},
   "source": [
    "### Count regression\n",
    "\n",
    "This notebook demonstrates the use of TFP for regression on count data. The dataset is the number of fish caught in a state park. \n",
    "\n",
    "* Linear Regression\n",
    "* Poisson Regression\n",
    "* Zero Infated Poisson Regression"
   ]
  },
  {
   "cell_type": "code",
   "execution_count": 1,
   "metadata": {},
   "outputs": [
    {
     "name": "stdout",
     "output_type": "stream",
     "text": [
      "Tensorflow version:  2.0.0-alpha0  running in colab?:  False\n"
     ]
    }
   ],
   "source": [
    "import tensorflow as tf\n",
    "try: #If running in colab \n",
    "    import google.colab\n",
    "    IN_COLAB = True \n",
    "except:\n",
    "    IN_COLAB = False\n",
    "if (not tf.__version__.startswith('2')): #Checking if tf 2.0 is installed\n",
    "    if IN_COLAB: #If running in colab install tf 2.0\n",
    "        !pip install tensorflow==2.0.0-alpha0\n",
    "        !pip install pip install tfp-nightly==0.7.0-dev20190511\n",
    "    print('Please install tensorflow 2.0 to run this notebook')\n",
    "print('Tensorflow version: ',tf.__version__, ' running in colab?: ', IN_COLAB)"
   ]
  },
  {
   "cell_type": "code",
   "execution_count": 2,
   "metadata": {},
   "outputs": [
    {
     "name": "stdout",
     "output_type": "stream",
     "text": [
      "TFP Version 0.7.0-dev20190511\n",
      "TF  Version 2.0.0-alpha0\n"
     ]
    }
   ],
   "source": [
    "import matplotlib.pyplot as plt\n",
    "import numpy as np\n",
    "from sklearn.model_selection import train_test_split\n",
    "from sklearn.metrics import mean_absolute_error, mean_squared_error\n",
    "import seaborn as sns\n",
    "import tensorflow_probability as tfp\n",
    "\n",
    "sns.reset_defaults()\n",
    "#sns.set_style('whitegrid')\n",
    "sns.set_context(context='talk',font_scale=0.7)\n",
    "\n",
    "\n",
    "%matplotlib inline\n",
    "plt.style.use('default')\n",
    "\n",
    "tfd = tfp.distributions\n",
    "tfb = tfp.bijectors\n",
    "from tensorflow.keras.models import Model\n",
    "from tensorflow.keras.layers import Dense\n",
    "print(\"TFP Version\", tfp.__version__)\n",
    "print(\"TF  Version\",tf.__version__)\n",
    "seed = 42\n",
    "np.random.seed(seed)\n",
    "tf.random.set_seed(seed)"
   ]
  },
  {
   "cell_type": "markdown",
   "metadata": {},
   "source": [
    "##### Creating some count data for figure 5.rain\n",
    "\n",
    "This is just to demonstrate how to use TF distributions for a Poisson distribution, with given parameters. Below we learn the paramters. "
   ]
  },
  {
   "cell_type": "code",
   "execution_count": 3,
   "metadata": {},
   "outputs": [
    {
     "name": "stdout",
     "output_type": "stream",
     "text": [
      "2.0\n",
      "1.4142135\n"
     ]
    },
    {
     "data": {
      "image/png": "[encoded data removed]",
      "text/plain": [
       "<Figure size 432x288 with 1 Axes>"
      ]
     },
     "metadata": {
      "needs_background": "light"
     },
     "output_type": "display_data"
    }
   ],
   "source": [
    "# 10          20       30        40       50         55\n",
    "#123456789012345678901234567890123456789012345678901234\n",
    "dist = tfd.poisson.Poisson(rate = 2) #A\n",
    "vals = np.linspace(0,10,11) #B\n",
    "p = dist.prob(vals) #C\n",
    "print(dist.mean().numpy())  #D\n",
    "print(dist.stddev().numpy())   #E\n",
    "plt.xticks(vals)\n",
    "plt.stem(vals, p)\n",
    "plt.xlabel('Number of Events')\n",
    "plt.ylabel('Probability')\n",
    "plt.savefig('ch05_rain.pdf')\n",
    "\n",
    "#A Poisson distribution with parameter rate 2\n",
    "#B some values for the x-axis in figure 5.rain\n",
    "#C the probability for the values\n",
    "#D the mean value yielding 2.0\n",
    "#E the standard deviation yielding sqrt(2.0) = 1.41..."
   ]
  },
  {
   "cell_type": "markdown",
   "metadata": {},
   "source": [
    "## Loading some real count data\n",
    "\n",
    "We use some traditional count data from: https://stats.idre.ucla.edu/r/dae/zip/. The number fish caught during a state park visit."
   ]
  },
  {
   "cell_type": "code",
   "execution_count": 4,
   "metadata": {},
   "outputs": [],
   "source": [
    "# Alternative dataset version\n",
    "# dat = np.loadtxt('https://raw.githubusercontent.com/tensorchiefs/dl_book/master/data/nb_data.csv') \n",
    "# X = dat[...,0:3]\n",
    "# y = dat[...,4]\n",
    "# X_tr, X_te, y_tr, y_te = train_test_split(X, y, test_size=0.33, random_state=42)\n",
    "# X_tr.shape, y_tr.shape, X_te.shape, y_te.shape"
   ]
  },
  {
   "cell_type": "code",
   "execution_count": 5,
   "metadata": {},
   "outputs": [],
   "source": [
    "# The Fish Data Set\n",
    "# See example 2 from https://stats.idre.ucla.edu/r/dae/zip/ \n",
    "#\"nofish\",\"livebait\",\"camper\",\"persons\",\"child\",\"xb\",\"zg\",\"count\"\n",
    "dat = np.loadtxt('https://raw.githubusercontent.com/tensorchiefs/dl_book/master/data/fish.csv',delimiter=',', skiprows=1)\n",
    "X = dat[...,1:5] #\"livebait\",\"camper\",\"persons\",\"child\n",
    "#y = np.sqrt(dat[...,7])\n",
    "y = dat[...,7]"
   ]
  },
  {
   "cell_type": "code",
   "execution_count": 6,
   "metadata": {},
   "outputs": [],
   "source": [
    "# Uncomment the next line, to enhance the ZIP model (see below why you would like to do it)\n",
    "# n = len(y)\n",
    "# idx = np.random.permutation(n)[0:int(n*0.3)] \n",
    "# y[idx] = 0"
   ]
  },
  {
   "cell_type": "code",
   "execution_count": 8,
   "metadata": {},
   "outputs": [
    {
     "data": {
      "text/plain": [
       "((200, 4),\n",
       " (200,),\n",
       " (50, 4),\n",
       " (50,),\n",
       " (250, 8),\n",
       " array([ 0.,  0.,  2.,  2.,  0.,  0.,  0.,  0.,  1.,  0.,  0.,  0.,  2.,\n",
       "         1.,  0.,  0.,  2.,  1.,  0., 30.,  0.,  0.,  0.,  0.,  0.,  0.,\n",
       "         0.,  0.,  0.,  0.,  0.,  5.,  0.,  0.,  0.,  1.,  1.,  3.,  6.,\n",
       "        65.,  0.,  0.,  0., 16.,  0.,  0.,  6.,  0.,  9.,  0.]),\n",
       " array([  6.,   1.,   6.,   1.,   3.,   1.,   0.,  15.,   0.,   2.,   0.,\n",
       "          2.,   0.,   2.,   3.,   0.,   0.,   1.,   5.,   0.,   0.,   0.,\n",
       "          2.,   0.,   0.,   5.,   0.,   4.,   2.,   0.,   0.,   0.,   0.,\n",
       "          0.,   2.,   0.,   0.,   0.,   1.,   0.,   0.,   1.,   1.,   0.,\n",
       "          0.,   5.,   0.,   1.,   0.,   0.,   0.,   0.,   0.,  21.,   0.,\n",
       "         32.,   2.,   0.,   0.,   9.,  13.,   1.,   0.,   1.,  31.,   0.,\n",
       "          0.,   0.,   0.,   3.,   3.,   0.,   0.,   1.,   1.,   0.,   1.,\n",
       "          2.,   1.,   0.,   0.,   2.,   0.,   0.,   0.,   0.,   1.,   1.,\n",
       "          0.,  11.,   0.,  21.,   0.,   2.,   5.,   3.,   4.,   0.,   7.,\n",
       "          0.,   0.,   0.,   1.,   0.,   0.,   2.,   3.,   3.,   0.,   1.,\n",
       "         14.,   0.,   1.,   0.,  10.,   0.,   1.,   0.,   0.,   0.,   0.,\n",
       "          0.,   0.,   0.,   0.,   0.,   0.,   0.,   3.,   0.,  38.,   0.,\n",
       "          4.,   7.,   0.,   0.,   0.,   0.,   0.,   0.,   2.,   4.,   0.,\n",
       "          1.,   0.,   8.,   0.,   0.,   0.,   3.,   3.,  32.,  15.,   0.,\n",
       "          1.,   4.,   0.,   0.,   2.,   0.,   0.,   2.,   0.,   5.,   5.,\n",
       "        149.,   5.,   0.,   0.,   5.,   0.,   0.,   0.,   8.,   7.,   3.,\n",
       "          1.,   0.,  22.,   0.,   2.,   0.,   5.,  29.,   0.,   1.,   2.,\n",
       "          0.,   0.,   1.,   0.,   0.,   1.,   4.,   0.,   0.,   0.,   0.,\n",
       "          0.,   0.]))"
      ]
     },
     "execution_count": 8,
     "metadata": {},
     "output_type": "execute_result"
    }
   ],
   "source": [
    "X_tr, X_te, y_tr, y_te = train_test_split(X, y, test_size=0.2, random_state=seed,shuffle=True)\n",
    "d = X_tr.shape[1]\n",
    "X_tr.shape, y_tr.shape, X_te.shape, y_te.shape,dat.shape, y_te, y_tr"
   ]
  },
  {
   "cell_type": "code",
   "execution_count": 9,
   "metadata": {
    "scrolled": true
   },
   "outputs": [
    {
     "data": {
      "text/plain": [
       "149.0"
      ]
     },
     "execution_count": 9,
     "metadata": {},
     "output_type": "execute_result"
    },
    {
     "data": {
      "image/png": "[encoded data removed]",
      "text/plain": [
       "<Figure size 432x288 with 1 Axes>"
      ]
     },
     "metadata": {
      "needs_background": "light"
     },
     "output_type": "display_data"
    }
   ],
   "source": [
    "vals, counts = np.unique(y_tr, return_counts=True)\n",
    "plt.stem(vals, counts)\n",
    "plt.xlabel('Count: number of fish caught')\n",
    "plt.ylabel('Frequency')\n",
    "plt.xlim(-1,10)\n",
    "plt.savefig('ch05_school.pdf')\n",
    "np.max(y_tr)"
   ]
  },
  {
   "cell_type": "markdown",
   "metadata": {},
   "source": [
    "## 1 Doing linear regression\n",
    "\n",
    "### 1.1 Assuming constant variance and using MSE \n",
    "\n",
    "In this section we do a linear regression, for the count data."
   ]
  },
  {
   "cell_type": "markdown",
   "metadata": {},
   "source": [
    "#### 1.1.1 With sklearn \n",
    "\n",
    "Linear regression can also be done with mehods specialized for that case. Let's compare the results:"
   ]
  },
  {
   "cell_type": "code",
   "execution_count": 10,
   "metadata": {},
   "outputs": [],
   "source": [
    "# The linear regression using non deep learning methods\n",
    "# These methods have no problem with convergence \n",
    "from sklearn.linear_model import LinearRegression\n",
    "model_skl = LinearRegression()\n",
    "res = model_skl.fit(X_tr, y_tr)"
   ]
  },
  {
   "cell_type": "markdown",
   "metadata": {},
   "source": [
    "Estimating the likelihood in LR (estimating $\\sigma$)\n",
    "\n",
    "In linear regression, we assuming that the $\\sigma$ is constant. To calculate the NLL, we need to estimate this quantity from the training data. But the prediction is of course done on the testdata. Note that we calculate the mean NLL."
   ]
  },
  {
   "cell_type": "code",
   "execution_count": 11,
   "metadata": {},
   "outputs": [
    {
     "name": "stdout",
     "output_type": "stream",
     "text": [
      "Estimated variance  117.86174791690665\n",
      "NLL on training: 3.8011821252657967\n"
     ]
    },
    {
     "data": {
      "text/html": [
       "<div>\n",
       "<style scoped>\n",
       "    .dataframe tbody tr th:only-of-type {\n",
       "        vertical-align: middle;\n",
       "    }\n",
       "\n",
       "    .dataframe tbody tr th {\n",
       "        vertical-align: top;\n",
       "    }\n",
       "\n",
       "    .dataframe thead th {\n",
       "        text-align: right;\n",
       "    }\n",
       "</style>\n",
       "<table border=\"1\" class=\"dataframe\">\n",
       "  <thead>\n",
       "    <tr style=\"text-align: right;\">\n",
       "      <th></th>\n",
       "      <th>MAE</th>\n",
       "      <th>NLL (mean)</th>\n",
       "      <th>RMSE</th>\n",
       "    </tr>\n",
       "  </thead>\n",
       "  <tbody>\n",
       "    <tr>\n",
       "      <th>Linear Regression (sklearn)</th>\n",
       "      <td>4.70509</td>\n",
       "      <td>3.616586</td>\n",
       "      <td>8.588126</td>\n",
       "    </tr>\n",
       "  </tbody>\n",
       "</table>\n",
       "</div>"
      ],
      "text/plain": [
       "                                 MAE  NLL (mean)      RMSE\n",
       "Linear Regression (sklearn)  4.70509    3.616586  8.588126"
      ]
     },
     "execution_count": 11,
     "metadata": {},
     "output_type": "execute_result"
    }
   ],
   "source": [
    "import pandas as pd\n",
    "# Calculation of the NLL (using deep learnin)\n",
    "y_hat_tr = model_skl.predict(X_tr) #Trainingset!\n",
    "n = len(y_hat_tr)\n",
    "sigma_hat_2 = (n-1.)/(n-2.) * np.var(y_hat_tr.flatten() - y_tr)\n",
    "print('Estimated variance ', sigma_hat_2)\n",
    "\n",
    "y_hat = model_skl.predict(X_te) #Prediction on the testset\n",
    "#Alternatively: y_hat = np.matmul(X_te,res.coef_) + res.intercept_\n",
    "MSE_skl = np.sqrt(np.mean((y_te - y_hat)**2))\n",
    "MAE_skl = np.mean(np.abs(y_hat - y_te)) \n",
    "\n",
    "NLL_skl =  0.5*np.log(2 * np.pi * sigma_hat_2) + 0.5*np.mean((y_hat - y_te)**2)/sigma_hat_2\n",
    "print('NLL on training:', 0.5*np.log(2 * np.pi * sigma_hat_2) + 0.5*np.mean((y_hat_tr - y_tr)**2)/sigma_hat_2)\n",
    "\n",
    "df = pd.DataFrame(\n",
    "          {'RMSE' : MSE_skl, 'MAE' : MAE_skl, 'NLL (mean)' : NLL_skl}, index=['Linear Regression (sklearn)']\n",
    ")\n",
    "df"
   ]
  },
  {
   "cell_type": "markdown",
   "metadata": {},
   "source": [
    "#### 1.1.2 With Keras\n",
    "\n",
    "We use Keras to directly optimize the MSE. "
   ]
  },
  {
   "cell_type": "code",
   "execution_count": 12,
   "metadata": {},
   "outputs": [],
   "source": [
    "model_lr = tf.keras.Sequential() \n",
    "model_lr.add(tf.keras.layers.Dense(1,input_dim=d, activation='linear')) \n",
    "model_lr.compile(loss='mean_squared_error',optimizer=tf.optimizers.Adam(learning_rate=0.01))"
   ]
  },
  {
   "cell_type": "code",
   "execution_count": 13,
   "metadata": {},
   "outputs": [],
   "source": [
    "hist_lr = model_lr.fit(x=X_tr, y=y_tr, validation_data=(X_te, y_te), epochs=5000, verbose=False, batch_size=len(y_tr));\n",
    "#hist_lr = model_lr.fit(x=X_tr, y=np.sqrt(y_tr), validation_data=(X_te, y_te), epochs=600, verbose=False);"
   ]
  },
  {
   "cell_type": "code",
   "execution_count": 14,
   "metadata": {},
   "outputs": [
    {
     "data": {
      "text/plain": [
       "76.84066018066406"
      ]
     },
     "execution_count": 14,
     "metadata": {},
     "output_type": "execute_result"
    },
    {
     "data": {
      "image/png": "[encoded data removed]",
      "text/plain": [
       "<Figure size 432x288 with 1 Axes>"
      ]
     },
     "metadata": {
      "needs_background": "light"
     },
     "output_type": "display_data"
    }
   ],
   "source": [
    "plt.plot(hist_lr.history['loss']) #Note this is the MSE and not the RMSE\n",
    "plt.plot(hist_lr.history['val_loss'])\n",
    "plt.legend(['loss', 'val_loss'])\n",
    "plt.ylabel('MSE')\n",
    "plt.xlabel('Epochs')\n",
    "np.mean(hist_lr.history['val_loss'])"
   ]
  },
  {
   "cell_type": "markdown",
   "metadata": {},
   "source": [
    "Comparing Keras and sklearn"
   ]
  },
  {
   "cell_type": "code",
   "execution_count": 15,
   "metadata": {},
   "outputs": [
    {
     "name": "stdout",
     "output_type": "stream",
     "text": [
      "weights using deep learning:           [ 2.4821873  2.9542987  4.6495247 -5.4715924]\n",
      "weights from sklearn:                  [ 2.4822138   2.95430727  4.64953914 -5.47160051]\n",
      "Intercept (bias) using deep learning:  -8.4921665\n",
      "Intercept (bias) using sklearn:        -8.492228208419725\n"
     ]
    }
   ],
   "source": [
    "print('weights using deep learning:          ',model_lr.get_weights()[0][:,0])\n",
    "print('weights from sklearn:                 ',res.coef_)\n",
    "print('Intercept (bias) using deep learning: ',model_lr.get_weights()[1][0])\n",
    "print('Intercept (bias) using sklearn:       ',res.intercept_)"
   ]
  },
  {
   "cell_type": "markdown",
   "metadata": {},
   "source": [
    "#### Evaluation of the Performance "
   ]
  },
  {
   "cell_type": "code",
   "execution_count": 16,
   "metadata": {},
   "outputs": [
    {
     "data": {
      "image/png": "[encoded data removed]",
      "text/plain": [
       "<Figure size 432x288 with 1 Axes>"
      ]
     },
     "metadata": {
      "needs_background": "light"
     },
     "output_type": "display_data"
    }
   ],
   "source": [
    "plt.scatter(y_hat_tr, y_tr)\n",
    "plt.title('Comparison on the training set')\n",
    "plt.xlabel('Number of fish predicted')\n",
    "plt.ylabel('Number of fish caught (true label)')\n",
    "plt.show()"
   ]
  },
  {
   "cell_type": "code",
   "execution_count": 17,
   "metadata": {},
   "outputs": [
    {
     "data": {
      "image/png": "[encoded data removed]",
      "text/plain": [
       "<Figure size 432x288 with 1 Axes>"
      ]
     },
     "metadata": {
      "needs_background": "light"
     },
     "output_type": "display_data"
    }
   ],
   "source": [
    "y_hat_te = model_lr.predict(X_te)\n",
    "plt.scatter(y_hat_te, y_te)\n",
    "plt.title('Comparison on the testset')\n",
    "plt.xlabel('Number of fish predicted')\n",
    "plt.ylabel('Number of fish caught (true label)')\n",
    "plt.show()"
   ]
  },
  {
   "cell_type": "markdown",
   "metadata": {},
   "source": [
    "Note that the linear model predicts also negative values, which is obviously wrong. "
   ]
  },
  {
   "cell_type": "code",
   "execution_count": 18,
   "metadata": {},
   "outputs": [
    {
     "name": "stdout",
     "output_type": "stream",
     "text": [
      "Estimated variance  117.86174861906474\n"
     ]
    },
    {
     "data": {
      "text/html": [
       "<div>\n",
       "<style scoped>\n",
       "    .dataframe tbody tr th:only-of-type {\n",
       "        vertical-align: middle;\n",
       "    }\n",
       "\n",
       "    .dataframe tbody tr th {\n",
       "        vertical-align: top;\n",
       "    }\n",
       "\n",
       "    .dataframe thead th {\n",
       "        text-align: right;\n",
       "    }\n",
       "</style>\n",
       "<table border=\"1\" class=\"dataframe\">\n",
       "  <thead>\n",
       "    <tr style=\"text-align: right;\">\n",
       "      <th></th>\n",
       "      <th>MAE</th>\n",
       "      <th>NLL (mean)</th>\n",
       "      <th>RMSE</th>\n",
       "    </tr>\n",
       "  </thead>\n",
       "  <tbody>\n",
       "    <tr>\n",
       "      <th>Linear Regression (sklearn)</th>\n",
       "      <td>4.705090</td>\n",
       "      <td>3.616586</td>\n",
       "      <td>8.588126</td>\n",
       "    </tr>\n",
       "    <tr>\n",
       "      <th>Linear Regression (MSE Keras)</th>\n",
       "      <td>4.705087</td>\n",
       "      <td>3.616586</td>\n",
       "      <td>8.588128</td>\n",
       "    </tr>\n",
       "  </tbody>\n",
       "</table>\n",
       "</div>"
      ],
      "text/plain": [
       "                                    MAE  NLL (mean)      RMSE\n",
       "Linear Regression (sklearn)    4.705090    3.616586  8.588126\n",
       "Linear Regression (MSE Keras)  4.705087    3.616586  8.588128"
      ]
     },
     "execution_count": 18,
     "metadata": {},
     "output_type": "execute_result"
    }
   ],
   "source": [
    "y_hat_tr = model_lr.predict(X_tr) #Trainingset\n",
    "sigma_hat_2 = (n-1.)/(n-2.) * np.var(y_hat_tr.flatten() - y_tr)\n",
    "print('Estimated variance ', sigma_hat_2)\n",
    "\n",
    "y_hat_te = model_lr.predict(X_te).flatten()\n",
    "NLL_lr =  0.5*np.log(2 * np.pi * sigma_hat_2) + 0.5*np.mean((y_hat_te - y_te)**2)/sigma_hat_2\n",
    "\n",
    "mse_lr=np.sqrt(np.mean((y_hat_te - y_te)**2))\n",
    "mae_lr=np.mean(np.abs(y_hat_te - y_te)) \n",
    "\n",
    "\n",
    "\n",
    "df1 = pd.DataFrame(\n",
    "         { 'RMSE' : mse_lr, 'MAE' : mae_lr, 'NLL (mean)' : NLL_lr}, index=['Linear Regression (MSE Keras)']\n",
    ")\n",
    "\n",
    "df = df.append(df1)\n",
    "df"
   ]
  },
  {
   "cell_type": "markdown",
   "metadata": {},
   "source": [
    "#### 1.1.3 With TFP \n",
    "\n",
    "In the standard linear regression $\\sigma$ does not depend x, it is assumed to be the same at each position. To mimik this in the network, we here introduce a variable not connected to the data."
   ]
  },
  {
   "cell_type": "code",
   "execution_count": 19,
   "metadata": {},
   "outputs": [],
   "source": [
    "# sig = tf.Variable(1.1153, dtype='float32') #The Variable sigma, which we also learn\n",
    "\n",
    "# def gauss(out): \n",
    "#     return tfd.Normal(loc=out, scale=sig)\n",
    "\n",
    "# def negloglik(y_true, y_hat): \n",
    "#   return -tf.reduce_mean(y_hat.log_prob(y_true))\n",
    "\n",
    "# inputs = tf.keras.layers.Input(shape=(X_tr.shape[1],))  \n",
    "# mu = tf.keras.layers.Dense(1)(inputs)\n",
    "# #out = tf.concat([mu, sig],axis=-1)\n",
    "# p_y = tfp.layers.DistributionLambda(gauss)(mu) \n",
    "# model_lr_tfp = Model(inputs=inputs, outputs=p_y) \n",
    "\n",
    "\n",
    "# model_lr_tfp.compile(tf.optimizers.Adam(learning_rate=0.01),loss=negloglik) "
   ]
  },
  {
   "cell_type": "markdown",
   "metadata": {},
   "source": [
    "#### [Optional] Fitting using eager mode"
   ]
  },
  {
   "cell_type": "code",
   "execution_count": 20,
   "metadata": {},
   "outputs": [],
   "source": [
    "# optimizer=tf.optimizers.RMSprop()\n",
    "# loss_values = np.zeros((500))\n",
    "# for e in range(500):\n",
    "#     with tf.GradientTape() as tape:\n",
    "#         y_hat = model_lr(X_tr)\n",
    "#         loss_value = -tf.reduce_mean(y_hat.log_prob(y_tr))\n",
    "#         loss_values[e] = loss_value\n",
    "#         weights =  model_lr_tfp.trainable_weights\n",
    "#         weights.append(sig)\n",
    "#         grads = tape.gradient(loss_value, weights)              \n",
    "#         #weights =  model_lr.trainable_weights\n",
    "#         optimizer.apply_gradients(zip(grads,weights))\n",
    "#         if e % 100 == 0:\n",
    "#             print(loss_value, \" \", sig)"
   ]
  },
  {
   "cell_type": "code",
   "execution_count": 21,
   "metadata": {},
   "outputs": [],
   "source": [
    "# Need quite some time to converge\n",
    "#hist_lr_tfp = model_lr_tfp.fit(x=X_tr, y=y_tr, validation_data=(X_te, y_te), epochs=10000, verbose=False);"
   ]
  },
  {
   "cell_type": "code",
   "execution_count": 22,
   "metadata": {},
   "outputs": [],
   "source": [
    "# print('weights using deep learning:          ',model_lr_tfp.get_weights()[0][:,0])\n",
    "# print('weights from sklearn:                 ',res.coef_)\n",
    "# print('Intercept (bias) using deep learning: ',model_lr_tfp.get_weights()[1][0])\n",
    "# print('Intercept (bias) using sklearn:       ',res.intercept_)"
   ]
  },
  {
   "cell_type": "code",
   "execution_count": 23,
   "metadata": {},
   "outputs": [],
   "source": [
    "# plt.plot(hist_lr_tfp.history['loss']) #Note this is the MSE and not the RMSE\n",
    "# plt.plot(hist_lr_tfp.history['val_loss'])\n",
    "# plt.legend(['loss', 'val_loss'])\n",
    "# plt.ylabel('NLL')\n",
    "# plt.xlabel('Epochs')\n",
    "# np.mean(hist_lr_tfp.history['val_loss'])"
   ]
  },
  {
   "cell_type": "code",
   "execution_count": 24,
   "metadata": {},
   "outputs": [],
   "source": [
    "#sig"
   ]
  },
  {
   "cell_type": "code",
   "execution_count": 25,
   "metadata": {},
   "outputs": [],
   "source": [
    "# sigma_hat_2 = sig.numpy()\n",
    "# print('Estimated variance ', sigma_hat_2)\n",
    "\n",
    "# model = Model(inputs=inputs, outputs=p_y.mean()) \n",
    "# y_hat_te = model.predict(X_te).flatten()\n",
    "\n",
    "# mse_lr=np.sqrt(np.mean((y_hat_te - y_te)**2))\n",
    "# mae_lr=np.mean(np.abs(y_hat_te - y_te)) \n",
    "\n",
    "\n",
    "# NLL_lr = model_lr_tfp.evaluate(X_te, y_te) #returns the NLL \n",
    "# df1 = pd.DataFrame(\n",
    "#          { 'RMSE' : mse_lr, 'MAE' : mae_lr, 'NLL (mean)' : NLL_lr}, index=['Linear Regression (TFP)']\n",
    "# )\n",
    "\n",
    "# df = df.append(df1)\n",
    "# df"
   ]
  },
  {
   "cell_type": "markdown",
   "metadata": {},
   "source": [
    "## 2 Doing Poisson Regression"
   ]
  },
  {
   "cell_type": "markdown",
   "metadata": {},
   "source": [
    "#### Definition of the Model\n",
    "\n",
    "$$\n",
    "    Y \\thicksim \\tt{Pois}(exp(w^{T} \\cdot x + b))\n",
    "$$"
   ]
  },
  {
   "cell_type": "code",
   "execution_count": 26,
   "metadata": {},
   "outputs": [
    {
     "name": "stdout",
     "output_type": "stream",
     "text": [
      "Model: \"model\"\n",
      "_________________________________________________________________\n",
      "Layer (type)                 Output Shape              Param #   \n",
      "=================================================================\n",
      "input_1 (InputLayer)         [(None, 4)]               0         \n",
      "_________________________________________________________________\n",
      "dense_1 (Dense)              (None, 1)                 5         \n",
      "_________________________________________________________________\n",
      "distribution_lambda (Distrib ((None, 1), (None, 1))    0         \n",
      "=================================================================\n",
      "Total params: 5\n",
      "Trainable params: 5\n",
      "Non-trainable params: 0\n",
      "_________________________________________________________________\n"
     ]
    }
   ],
   "source": [
    "# 10          20       30        40       50         55\n",
    "#123456789012345678901234567890123456789012345678901234\n",
    "inputs = tf.keras.layers.Input(shape=(X_tr.shape[1],))  \n",
    "rate = tf.keras.layers.Dense(1, \n",
    "         activation=tf.exp, #A\n",
    "         bias_initializer='zeros', \n",
    "         kernel_initializer='zeros')(inputs)\n",
    "p_y = tfp.layers.DistributionLambda(tfd.Poisson)(rate) #B \n",
    "\n",
    "model_p = Model(inputs=inputs, outputs=p_y) #C\n",
    "\n",
    "\n",
    "def negloglik(y_true, y_hat): #D\n",
    "  return -y_hat.log_prob(y_true)\n",
    "\n",
    "model_p.compile(tf.optimizers.Adam(learning_rate=0.01), \n",
    "                loss=negloglik)\n",
    "\n",
    "#A Definition of a single layer with one output\n",
    "#B We use exponential of the output to model the rate\n",
    "#C Glueing input and output together. Note that output is a tf.distribution\n",
    "#D Since the second argument is the output of the model it is a distribution. It's as simple as calling log_prob to calculate the NLL.\n",
    "\n",
    "\n",
    "model_p.summary()"
   ]
  },
  {
   "cell_type": "code",
   "execution_count": 27,
   "metadata": {},
   "outputs": [],
   "source": [
    "hist_p = model_p.fit(x=X_tr, y=y_tr, validation_data=(X_te, y_te), epochs=2000, verbose=False);"
   ]
  },
  {
   "cell_type": "code",
   "execution_count": 28,
   "metadata": {
    "scrolled": true
   },
   "outputs": [
    {
     "data": {
      "text/plain": [
       "(2.5, 4.5)"
      ]
     },
     "execution_count": 28,
     "metadata": {},
     "output_type": "execute_result"
    },
    {
     "data": {
      "image/png": "[encoded data removed]",
      "text/plain": [
       "<Figure size 432x288 with 1 Axes>"
      ]
     },
     "metadata": {
      "needs_background": "light"
     },
     "output_type": "display_data"
    }
   ],
   "source": [
    "plt.plot(hist_p.history['loss'])\n",
    "plt.plot(hist_p.history['val_loss'])\n",
    "plt.legend(['loss', 'val_loss'])\n",
    "plt.xlabel('Epochs')\n",
    "np.mean(hist_p.history['loss'])\n",
    "plt.ylim(2.5,4.5)"
   ]
  },
  {
   "cell_type": "code",
   "execution_count": 29,
   "metadata": {},
   "outputs": [
    {
     "name": "stdout",
     "output_type": "stream",
     "text": [
      "50/50 [==============================] - 0s 62us/sample - loss: 2.7358\n"
     ]
    },
    {
     "data": {
      "text/html": [
       "<div>\n",
       "<style scoped>\n",
       "    .dataframe tbody tr th:only-of-type {\n",
       "        vertical-align: middle;\n",
       "    }\n",
       "\n",
       "    .dataframe tbody tr th {\n",
       "        vertical-align: top;\n",
       "    }\n",
       "\n",
       "    .dataframe thead th {\n",
       "        text-align: right;\n",
       "    }\n",
       "</style>\n",
       "<table border=\"1\" class=\"dataframe\">\n",
       "  <thead>\n",
       "    <tr style=\"text-align: right;\">\n",
       "      <th></th>\n",
       "      <th>MAE</th>\n",
       "      <th>NLL (mean)</th>\n",
       "      <th>RMSE</th>\n",
       "    </tr>\n",
       "  </thead>\n",
       "  <tbody>\n",
       "    <tr>\n",
       "      <th>Linear Regression (sklearn)</th>\n",
       "      <td>4.705090</td>\n",
       "      <td>3.616586</td>\n",
       "      <td>8.588126</td>\n",
       "    </tr>\n",
       "    <tr>\n",
       "      <th>Linear Regression (MSE Keras)</th>\n",
       "      <td>4.705087</td>\n",
       "      <td>3.616586</td>\n",
       "      <td>8.588128</td>\n",
       "    </tr>\n",
       "    <tr>\n",
       "      <th>Poisson Regression (TFP)</th>\n",
       "      <td>3.045626</td>\n",
       "      <td>2.735845</td>\n",
       "      <td>7.363067</td>\n",
       "    </tr>\n",
       "  </tbody>\n",
       "</table>\n",
       "</div>"
      ],
      "text/plain": [
       "                                    MAE  NLL (mean)      RMSE\n",
       "Linear Regression (sklearn)    4.705090    3.616586  8.588126\n",
       "Linear Regression (MSE Keras)  4.705087    3.616586  8.588128\n",
       "Poisson Regression (TFP)       3.045626    2.735845  7.363067"
      ]
     },
     "execution_count": 29,
     "metadata": {},
     "output_type": "execute_result"
    }
   ],
   "source": [
    "model = Model(inputs=inputs, outputs=p_y.mean()) \n",
    "y_hat_te = model.predict(X_te).flatten()\n",
    "\n",
    "\n",
    "mse=np.sqrt(np.mean((y_hat_te - y_te)**2))\n",
    "mae=np.mean(np.abs(y_hat_te - y_te)) \n",
    "\n",
    "NLL = model_p.evaluate(X_te, y_te) #returns the NLL \n",
    "\n",
    "df1 = pd.DataFrame(\n",
    "         { 'RMSE' : mse, 'MAE' : mae, 'NLL (mean)' : NLL}, index=['Poisson Regression (TFP)']\n",
    ")\n",
    "df1\n",
    "df = df.append(df1)\n",
    "df"
   ]
  },
  {
   "cell_type": "code",
   "execution_count": 39,
   "metadata": {
    "scrolled": true
   },
   "outputs": [
    {
     "data": {
      "image/png": "[encoded data removed]",
      "text/plain": [
       "<Figure size 432x432 with 1 Axes>"
      ]
     },
     "metadata": {
      "needs_background": "light"
     },
     "output_type": "display_data"
    }
   ],
   "source": [
    "plt.figure(figsize=(6,6))\n",
    "plt.style.use('default') # macht den hintergrund weg \n",
    "plt.rcParams.update({'font.size': 15}) #Macht grosse axen\n",
    "plt.xlim(-0.1,5)\n",
    "plt.ylim(-0.1,5)\n",
    "y_hat_te = model(X_te)\n",
    "plt.scatter(y_hat_te, np.random.normal(loc=y_te,scale=0.2), alpha=0.7)\n",
    "plt.xlabel('Counts: predicted by Poisson')\n",
    "plt.ylabel('Counts: true')\n",
    "plt.savefig('ch05_pois.pdf')"
   ]
  },
  {
   "cell_type": "markdown",
   "metadata": {},
   "source": [
    "This time there a no values less then zero."
   ]
  },
  {
   "cell_type": "markdown",
   "metadata": {},
   "source": [
    "## 3 Using zero inflated Poisson Regression\n",
    "\n",
    "We define a network with two outputs. One for the poisson mean, one for the prob that there is a zero. \n",
    "\n",
    "First, we define a function which produces the zero inflated poisson distribution. \n",
    "\n",
    "### Definition of the distribution"
   ]
  },
  {
   "cell_type": "code",
   "execution_count": 31,
   "metadata": {},
   "outputs": [],
   "source": [
    "# 10          20       30        40       50         55\n",
    "#123456789012345678901234567890123456789012345678901234\n",
    "# Listing 5.l_zi\n",
    "def zero_inf(out): \n",
    "    rate = tf.math.exp(out[:,0]) #A \n",
    "    #rate = tf.math.softplus(out[:,0]) #A \n",
    "    s = tf.math.sigmoid(out[:,1:]) #B  \n",
    "    probs = tf.concat([1-s, s], axis=1) #C \n",
    "    #print(np.min(rate), \" \", np.max(rate), \" \", np.min(s), np.max(s),\"  \",np.min(out[:,1:]), np.max(out[:,1:]))\n",
    "    return tfd.Mixture(\n",
    "          cat=tfd.Categorical(probs=probs),#D\n",
    "          components=[\n",
    "            tfd.Deterministic(loc=tf.zeros_like(rate)), #E\n",
    "            tfd.Poisson(rate=rate), #F \n",
    "        ])\n",
    "\n",
    "#A The first component codes for the rate. We use exponential to guaranty values >0.\n",
    "#B The second component codes for the zero inflation, using sigmoid squeezes the value between 0 and 1.\n",
    "#C The two probabilities for zeros or Poissonian  \n",
    "#D The tfd.Categorical allows to create a mixture of two components. \n",
    "#E Zero as a deterministic value \n",
    "#F Value drawn from a Poissonian"
   ]
  },
  {
   "cell_type": "code",
   "execution_count": 32,
   "metadata": {},
   "outputs": [
    {
     "name": "stderr",
     "output_type": "stream",
     "text": [
      "WARNING: Logging before flag parsing goes to stderr.\n",
      "W0718 16:09:24.215142 140568438875904 deprecation.py:323] From /usr/local/lib/python3.5/dist-packages/tensorflow_probability/python/distributions/mixture.py:154: Categorical.event_size (from tensorflow_probability.python.distributions.categorical) is deprecated and will be removed after 2019-05-19.\n",
      "Instructions for updating:\n",
      "The `event_size` property is deprecated.  Use `num_categories` instead.  They have the same value, but `event_size` is misnamed.\n"
     ]
    },
    {
     "name": "stdout",
     "output_type": "stream",
     "text": [
      "Input Tensor :  [[ 1.     1.   ]\n",
      " [ 1.     1.   ]\n",
      " [ 1.     1.   ]\n",
      " [ 1.     1.   ]\n",
      " [ 0.999 10.   ]]\n",
      "Output Mean  :  [1.9872233 1.9872233 1.9872233 1.9872233 2.7154417]\n"
     ]
    }
   ],
   "source": [
    "## testinging the distribution, we evalute some data \n",
    "t = np.ones((5,2), dtype=np.float32)\n",
    "t[4,0]=0.999\n",
    "t[4,1]=10\n",
    "print('Input Tensor : ',t)\n",
    "print('Output Mean  : ',zero_inf(t).mean().numpy())"
   ]
  },
  {
   "cell_type": "markdown",
   "metadata": {},
   "source": [
    "### Definition of the model"
   ]
  },
  {
   "cell_type": "code",
   "execution_count": 33,
   "metadata": {},
   "outputs": [
    {
     "name": "stdout",
     "output_type": "stream",
     "text": [
      "Model: \"model_2\"\n",
      "_________________________________________________________________\n",
      "Layer (type)                 Output Shape              Param #   \n",
      "=================================================================\n",
      "input_2 (InputLayer)         [(None, 4)]               0         \n",
      "_________________________________________________________________\n",
      "dense_2 (Dense)              (None, 2)                 10        \n",
      "_________________________________________________________________\n",
      "distribution_lambda_1 (Distr ((None,), (None,))        0         \n",
      "=================================================================\n",
      "Total params: 10\n",
      "Trainable params: 10\n",
      "Non-trainable params: 0\n",
      "_________________________________________________________________\n"
     ]
    }
   ],
   "source": [
    "## Definition of the model\n",
    "# 10          20       30        40       50         55\n",
    "#123456789012345678901234567890123456789012345678901234\n",
    "## Definition of the custom parametrized distribution\n",
    "from tensorflow.keras.regularizers import l2\n",
    "inputs = tf.keras.layers.Input(shape=(X_tr.shape[1],))  \n",
    "out = Dense(2,  #A\n",
    "            kernel_regularizer=l2(0.01), #B\n",
    "            bias_regularizer=l2(0.01))(inputs)#B\n",
    "p_y_zi = tfp.layers.DistributionLambda(zero_inf)(out)\n",
    "model_zi = Model(inputs=inputs, outputs=p_y_zi)\n",
    "\n",
    "#A A dense layer is used without activation. The transformation is done in zero_inf listing 5.l_zi \n",
    "#B Using a regularisation prevents the network from learning too large weights. Without regularisation, you run into numerical problems.\n",
    "model_zi.summary()"
   ]
  },
  {
   "cell_type": "markdown",
   "metadata": {},
   "source": [
    "### Training of the model (by hand) [optional]\n",
    "\n",
    "The following code trains the NN using a evaluation loop by hand. This help us to find instabilities, which we got rid off using regularisation. See also: https://www.tensorflow.org/beta/guide/keras/training_and_evaluation#part_ii_writing_your_own_training_evaluation_loops_from_scratch\n"
   ]
  },
  {
   "cell_type": "code",
   "execution_count": 34,
   "metadata": {},
   "outputs": [],
   "source": [
    "optimizer=tf.optimizers.RMSprop(learning_rate=0.05)\n",
    "loss_values = np.zeros((1000))\n",
    "for e in range(5):\n",
    "    with tf.GradientTape() as tape:\n",
    "        y_hat = model_zi(X_tr)\n",
    "        loss_value = -tf.reduce_mean(y_hat.log_prob(y_tr))\n",
    "        loss_values[e] = loss_value\n",
    "        grads = tape.gradient(loss_value, model_zi.trainable_weights)\n",
    "        weights =  model_zi.trainable_weights       \n",
    "        optimizer.apply_gradients(zip(grads,weights))"
   ]
  },
  {
   "cell_type": "markdown",
   "metadata": {},
   "source": [
    "### Training using keras' build in training"
   ]
  },
  {
   "cell_type": "code",
   "execution_count": 35,
   "metadata": {},
   "outputs": [],
   "source": [
    "def negloglik2(y_true, y_hat):\n",
    "    # return -tf.reduce_mean(y_hat.log_prob(y_true))\n",
    "    return -tf.reduce_mean(y_hat.log_prob(tf.reshape(y_true,(-1,))))\n",
    "\n",
    "model_zi.compile(optimizer=tf.optimizers.Adam(learning_rate=0.01), loss=negloglik2)\n",
    "hist_zi = model_zi.fit(x=X_tr, y=y_tr, validation_data=(X_te, y_te), epochs=2000, verbose=False)#, callbacks=[tb]);"
   ]
  },
  {
   "cell_type": "code",
   "execution_count": 36,
   "metadata": {},
   "outputs": [
    {
     "data": {
      "image/png": "[encoded data removed]",
      "text/plain": [
       "<Figure size 432x288 with 1 Axes>"
      ]
     },
     "metadata": {
      "needs_background": "light"
     },
     "output_type": "display_data"
    }
   ],
   "source": [
    "plt.plot(hist_p.history['loss'],linestyle='-.')\n",
    "plt.plot(hist_p.history['val_loss'])\n",
    "plt.plot(hist_zi.history['loss'])\n",
    "plt.plot(hist_zi.history['val_loss'])\n",
    "plt.ylim(1.5,4.5)\n",
    "plt.legend(['Poisson loss','Poisson val_loss','ZI loss','ZI val_loss'])\n",
    "#plt.legend(['Poisson','Zero-Inflated'])\n",
    "#plt.legend(['loss','val'])\n",
    "plt.xlabel('Epochs')\n",
    "plt.ylabel('NLL')\n",
    "plt.savefig('ch05_flik.pdf')"
   ]
  },
  {
   "cell_type": "code",
   "execution_count": 37,
   "metadata": {},
   "outputs": [
    {
     "name": "stdout",
     "output_type": "stream",
     "text": [
      "50/50 [==============================] - 0s 43us/sample - loss: 2.3844\n"
     ]
    },
    {
     "data": {
      "text/html": [
       "<div>\n",
       "<style scoped>\n",
       "    .dataframe tbody tr th:only-of-type {\n",
       "        vertical-align: middle;\n",
       "    }\n",
       "\n",
       "    .dataframe tbody tr th {\n",
       "        vertical-align: top;\n",
       "    }\n",
       "\n",
       "    .dataframe thead th {\n",
       "        text-align: right;\n",
       "    }\n",
       "</style>\n",
       "<table border=\"1\" class=\"dataframe\">\n",
       "  <thead>\n",
       "    <tr style=\"text-align: right;\">\n",
       "      <th></th>\n",
       "      <th>MAE</th>\n",
       "      <th>NLL (mean)</th>\n",
       "      <th>RMSE</th>\n",
       "    </tr>\n",
       "  </thead>\n",
       "  <tbody>\n",
       "    <tr>\n",
       "      <th>Linear Regression (sklearn)</th>\n",
       "      <td>4.705090</td>\n",
       "      <td>3.616586</td>\n",
       "      <td>8.588126</td>\n",
       "    </tr>\n",
       "    <tr>\n",
       "      <th>Linear Regression (MSE Keras)</th>\n",
       "      <td>4.705087</td>\n",
       "      <td>3.616586</td>\n",
       "      <td>8.588128</td>\n",
       "    </tr>\n",
       "    <tr>\n",
       "      <th>Poisson Regression (TFP)</th>\n",
       "      <td>3.045626</td>\n",
       "      <td>2.735845</td>\n",
       "      <td>7.363067</td>\n",
       "    </tr>\n",
       "    <tr>\n",
       "      <th>ZIP (TFP)</th>\n",
       "      <td>3.154015</td>\n",
       "      <td>2.384404</td>\n",
       "      <td>7.610579</td>\n",
       "    </tr>\n",
       "  </tbody>\n",
       "</table>\n",
       "</div>"
      ],
      "text/plain": [
       "                                    MAE  NLL (mean)      RMSE\n",
       "Linear Regression (sklearn)    4.705090    3.616586  8.588126\n",
       "Linear Regression (MSE Keras)  4.705087    3.616586  8.588128\n",
       "Poisson Regression (TFP)       3.045626    2.735845  7.363067\n",
       "ZIP (TFP)                      3.154015    2.384404  7.610579"
      ]
     },
     "execution_count": 37,
     "metadata": {},
     "output_type": "execute_result"
    }
   ],
   "source": [
    "model = Model(inputs=inputs, outputs=p_y_zi.mean()) \n",
    "y_hat_te = model.predict(X_te).flatten()\n",
    "\n",
    "\n",
    "mse=np.sqrt(np.mean((y_hat_te - y_te)**2))\n",
    "mae=np.mean(np.abs(y_hat_te - y_te)) \n",
    "\n",
    "NLL = model_zi.evaluate(X_te, y_te) #returns the NLL \n",
    "\n",
    "\n",
    "df1 = pd.DataFrame(\n",
    "         { 'RMSE' : mse, 'MAE' : mae, 'NLL (mean)' : NLL}, index=['ZIP (TFP)']\n",
    ")\n",
    "df1\n",
    "df = df.append(df1)\n",
    "df"
   ]
  },
  {
   "cell_type": "code",
   "execution_count": 38,
   "metadata": {},
   "outputs": [
    {
     "name": "stdout",
     "output_type": "stream",
     "text": [
      "Training Set 2.7155964 35\n",
      "Validation Set 3.2108147 24\n"
     ]
    },
    {
     "data": {
      "image/png": "[encoded data removed]",
      "text/plain": [
       "<Figure size 432x432 with 1 Axes>"
      ]
     },
     "metadata": {
      "needs_background": "light"
     },
     "output_type": "display_data"
    }
   ],
   "source": [
    "plt.figure(figsize=(6,6))\n",
    "plt.xlim(-1,5)\n",
    "plt.ylim(-1,5)\n",
    "y_hat_tr = model_zi(X_tr)\n",
    "\n",
    "plt.scatter(y_hat_te, np.random.normal(loc=y_te,scale=0.2), alpha=0.7)\n",
    "plt.xlabel('Counts: predicted by ZI (Training)')\n",
    "plt.ylabel('Counts: true')\n",
    "\n",
    "plt.savefig('ch05_zi.pdf')\n",
    "print('Training Set', np.mean(np.square(y_hat_tr[y_tr == 0])),np.sum(y_hat_tr[y_tr == 0]>0.5))\n",
    "print('Validation Set', np.mean(np.square(y_hat_te[y_te == 0])),np.sum(y_hat_te[y_te == 0]>0.5))"
   ]
  },
  {
   "cell_type": "markdown",
   "metadata": {},
   "source": [
    "Note that the ZIP model is not so much better then the Poisson model. Let's see what happens if you make more fisherman unlucky and remove randomly remove some catched. You can uncomment the lines in cell 6."
   ]
  }
 ],
 "metadata": {
  "kernelspec": {
   "display_name": "Python 3",
   "language": "python",
   "name": "python3"
  },
  "language_info": {
   "codemirror_mode": {
    "name": "ipython",
    "version": 3
   },
   "file_extension": ".py",
   "mimetype": "text/x-python",
   "name": "python",
   "nbconvert_exporter": "python",
   "pygments_lexer": "ipython3",
   "version": "3.5.2"
  }
 },
 "nbformat": 4,
 "nbformat_minor": 2
}
