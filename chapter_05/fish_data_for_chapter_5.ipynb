{
  "nbformat": 4,
  "nbformat_minor": 0,
  "metadata": {
    "colab": {
      "name": "fish_data_for_chapter_5.ipynb",
      "version": "0.3.2",
      "provenance": [],
      "toc_visible": true
    },
    "kernelspec": {
      "name": "python3",
      "display_name": "Python 3"
    }
  },
  "cells": [
    {
      "cell_type": "code",
      "metadata": {
        "id": "dYor0KPPDn7n",
        "colab_type": "code",
        "outputId": "57896344-3e4d-4bc8-a0fb-eca6a76bd82a",
        "colab": {
          "base_uri": "https://localhost:8080/",
          "height": 451
        }
      },
      "source": [
        "!pip install tensorflow-gpu==2.0.0-alpha0\n",
        "!pip install tfp-nightly==0.7.0.dev20190519\n"
      ],
      "execution_count": 1,
      "outputs": [
        {
          "output_type": "stream",
          "text": [
            "Requirement already satisfied: tensorflow-gpu==2.0.0-alpha0 in /usr/local/lib/python3.6/dist-packages (2.0.0a0)\n",
            "Requirement already satisfied: numpy<2.0,>=1.14.5 in /usr/local/lib/python3.6/dist-packages (from tensorflow-gpu==2.0.0-alpha0) (1.16.4)\n",
            "Requirement already satisfied: keras-preprocessing>=1.0.5 in /usr/local/lib/python3.6/dist-packages (from tensorflow-gpu==2.0.0-alpha0) (1.1.0)\n",
            "Requirement already satisfied: protobuf>=3.6.1 in /usr/local/lib/python3.6/dist-packages (from tensorflow-gpu==2.0.0-alpha0) (3.7.1)\n",
            "Requirement already satisfied: six>=1.10.0 in /usr/local/lib/python3.6/dist-packages (from tensorflow-gpu==2.0.0-alpha0) (1.12.0)\n",
            "Requirement already satisfied: google-pasta>=0.1.2 in /usr/local/lib/python3.6/dist-packages (from tensorflow-gpu==2.0.0-alpha0) (0.1.7)\n",
            "Requirement already satisfied: gast>=0.2.0 in /usr/local/lib/python3.6/dist-packages (from tensorflow-gpu==2.0.0-alpha0) (0.2.2)\n",
            "Requirement already satisfied: tf-estimator-nightly<1.14.0.dev2019030116,>=1.14.0.dev2019030115 in /usr/local/lib/python3.6/dist-packages (from tensorflow-gpu==2.0.0-alpha0) (1.14.0.dev2019030115)\n",
            "Requirement already satisfied: keras-applications>=1.0.6 in /usr/local/lib/python3.6/dist-packages (from tensorflow-gpu==2.0.0-alpha0) (1.0.8)\n",
            "Requirement already satisfied: termcolor>=1.1.0 in /usr/local/lib/python3.6/dist-packages (from tensorflow-gpu==2.0.0-alpha0) (1.1.0)\n",
            "Requirement already satisfied: wheel>=0.26 in /usr/local/lib/python3.6/dist-packages (from tensorflow-gpu==2.0.0-alpha0) (0.33.4)\n",
            "Requirement already satisfied: grpcio>=1.8.6 in /usr/local/lib/python3.6/dist-packages (from tensorflow-gpu==2.0.0-alpha0) (1.15.0)\n",
            "Requirement already satisfied: astor>=0.6.0 in /usr/local/lib/python3.6/dist-packages (from tensorflow-gpu==2.0.0-alpha0) (0.8.0)\n",
            "Requirement already satisfied: tb-nightly<1.14.0a20190302,>=1.14.0a20190301 in /usr/local/lib/python3.6/dist-packages (from tensorflow-gpu==2.0.0-alpha0) (1.14.0a20190301)\n",
            "Requirement already satisfied: absl-py>=0.7.0 in /usr/local/lib/python3.6/dist-packages (from tensorflow-gpu==2.0.0-alpha0) (0.7.1)\n",
            "Requirement already satisfied: setuptools in /usr/local/lib/python3.6/dist-packages (from protobuf>=3.6.1->tensorflow-gpu==2.0.0-alpha0) (41.0.1)\n",
            "Requirement already satisfied: h5py in /usr/local/lib/python3.6/dist-packages (from keras-applications>=1.0.6->tensorflow-gpu==2.0.0-alpha0) (2.8.0)\n",
            "Requirement already satisfied: werkzeug>=0.11.15 in /usr/local/lib/python3.6/dist-packages (from tb-nightly<1.14.0a20190302,>=1.14.0a20190301->tensorflow-gpu==2.0.0-alpha0) (0.15.4)\n",
            "Requirement already satisfied: markdown>=2.6.8 in /usr/local/lib/python3.6/dist-packages (from tb-nightly<1.14.0a20190302,>=1.14.0a20190301->tensorflow-gpu==2.0.0-alpha0) (3.1.1)\n",
            "Requirement already satisfied: tfp-nightly==0.7.0.dev20190519 in /usr/local/lib/python3.6/dist-packages (0.7.0.dev20190519)\n",
            "Requirement already satisfied: decorator in /usr/local/lib/python3.6/dist-packages (from tfp-nightly==0.7.0.dev20190519) (4.4.0)\n",
            "Requirement already satisfied: six>=1.10.0 in /usr/local/lib/python3.6/dist-packages (from tfp-nightly==0.7.0.dev20190519) (1.12.0)\n",
            "Requirement already satisfied: numpy>=1.13.3 in /usr/local/lib/python3.6/dist-packages (from tfp-nightly==0.7.0.dev20190519) (1.16.4)\n",
            "Requirement already satisfied: cloudpickle>=0.6.1 in /usr/local/lib/python3.6/dist-packages (from tfp-nightly==0.7.0.dev20190519) (0.6.1)\n"
          ],
          "name": "stdout"
        }
      ]
    },
    {
      "cell_type": "markdown",
      "metadata": {
        "id": "r6_m-OXstXNm",
        "colab_type": "text"
      },
      "source": [
        "## Imports"
      ]
    },
    {
      "cell_type": "code",
      "metadata": {
        "id": "z_B7cCoKDosK",
        "colab_type": "code",
        "colab": {}
      },
      "source": [
        "import matplotlib.pyplot as plt\n",
        "import numpy as np\n",
        "\n",
        "import tensorflow as tf\n",
        "\n",
        "import tensorflow_probability as tfp\n",
        "tfd = tfp.distributions\n",
        "\n",
        "from tensorflow.keras.layers import Input, Dense\n",
        "from tensorflow.keras.models import Model\n",
        "\n",
        "%matplotlib inline\n",
        "\n",
        "from google.colab import files\n",
        "\n",
        "from sklearn.model_selection import train_test_split\n"
      ],
      "execution_count": 0,
      "outputs": []
    },
    {
      "cell_type": "code",
      "metadata": {
        "id": "Xbxk2SrPDovA",
        "colab_type": "code",
        "outputId": "e682b4d4-6dc4-4127-bf21-928940507eb5",
        "colab": {
          "base_uri": "https://localhost:8080/",
          "height": 51
        }
      },
      "source": [
        "print(tf.__version__)\n",
        "print(tfp.__version__)"
      ],
      "execution_count": 3,
      "outputs": [
        {
          "output_type": "stream",
          "text": [
            "2.0.0-alpha0\n",
            "0.7.0-dev20190519\n"
          ],
          "name": "stdout"
        }
      ]
    },
    {
      "cell_type": "markdown",
      "metadata": {
        "id": "LbagonrStPb8",
        "colab_type": "text"
      },
      "source": [
        "## Simulate the fish data"
      ]
    },
    {
      "cell_type": "code",
      "metadata": {
        "id": "EGyWMIv6-PlO",
        "colab_type": "code",
        "outputId": "6307c878-ec07-4ca9-ab13-b03e4bdc9cf0",
        "colab": {
          "base_uri": "https://localhost:8080/",
          "height": 86
        }
      },
      "source": [
        "x1=np.arange(1,12,0.15)\n",
        "x1=x1[::-1]\n",
        "print(len(x1))\n",
        "x2=np.repeat(1,20)\n",
        "print(len(x2))\n",
        "x3=np.arange(1,15,0.1)\n",
        "x4=np.repeat(15,30)\n",
        "print(len(x3))\n",
        "x5=x3[::-1]\n",
        "print(len(x4))\n",
        "x6=np.repeat(1,20)\n",
        "#x5=np.arange(0,20,0.02)\n",
        "#print(len(x5))\n",
        "#x6=x5[::-1]\n",
        "#x7=np.repeat(0,20)\n",
        "\n",
        "#x=np.concatenate([x1,x2,x3,x4,x5,x6,x7])\n",
        "\n",
        "x=np.concatenate([x1,x2,x3,x4,x5,x6])\n"
      ],
      "execution_count": 4,
      "outputs": [
        {
          "output_type": "stream",
          "text": [
            "74\n",
            "20\n",
            "140\n",
            "30\n"
          ],
          "name": "stdout"
        }
      ]
    },
    {
      "cell_type": "code",
      "metadata": {
        "id": "Ryr7eRy1_Ksn",
        "colab_type": "code",
        "outputId": "b249f2c0-9cad-4aa7-c5df-6972f3d6562c",
        "colab": {
          "base_uri": "https://localhost:8080/",
          "height": 286
        }
      },
      "source": [
        "plt.plot(x)"
      ],
      "execution_count": 5,
      "outputs": [
        {
          "output_type": "execute_result",
          "data": {
            "text/plain": [
              "[<matplotlib.lines.Line2D at 0x7f8e9893f208>]"
            ]
          },
          "metadata": {
            "tags": []
          },
          "execution_count": 5
        },
        {
          "output_type": "display_data",
          "data": {
            "image/png": "[encoded data removed]",
            "text/plain": [
              "<Figure size 432x288 with 1 Axes>"
            ]
          },
          "metadata": {
            "tags": []
          }
        }
      ]
    },
    {
      "cell_type": "code",
      "metadata": {
        "id": "K8c6R_iYHF7e",
        "colab_type": "code",
        "outputId": "9329da62-b7ff-4121-bf84-f818b5660d66",
        "colab": {
          "base_uri": "https://localhost:8080/",
          "height": 34
        }
      },
      "source": [
        "print(len(x))"
      ],
      "execution_count": 6,
      "outputs": [
        {
          "output_type": "stream",
          "text": [
            "424\n"
          ],
          "name": "stdout"
        }
      ]
    },
    {
      "cell_type": "code",
      "metadata": {
        "id": "4lQBPO0Y9wRG",
        "colab_type": "code",
        "colab": {}
      },
      "source": [
        "np.random.seed(4710)\n",
        "noise=np.random.normal(0,x,len(x))"
      ],
      "execution_count": 0,
      "outputs": []
    },
    {
      "cell_type": "code",
      "metadata": {
        "id": "gzADy4P69wNU",
        "colab_type": "code",
        "outputId": "343f5c7d-6a90-4163-bf90-2ecff86c3e39",
        "colab": {
          "base_uri": "https://localhost:8080/",
          "height": 286
        }
      },
      "source": [
        "plt.plot(noise)"
      ],
      "execution_count": 8,
      "outputs": [
        {
          "output_type": "execute_result",
          "data": {
            "text/plain": [
              "[<matplotlib.lines.Line2D at 0x7f8e960d6f60>]"
            ]
          },
          "metadata": {
            "tags": []
          },
          "execution_count": 8
        },
        {
          "output_type": "display_data",
          "data": {
            "image/png": "[encoded data removed]",
            "text/plain": [
              "<Figure size 432x288 with 1 Axes>"
            ]
          },
          "metadata": {
            "tags": []
          }
        }
      ]
    },
    {
      "cell_type": "code",
      "metadata": {
        "id": "F6u_nDxtHP8R",
        "colab_type": "code",
        "outputId": "3ad1cbd6-797e-4a98-bb92-76524b675218",
        "colab": {
          "base_uri": "https://localhost:8080/",
          "height": 34
        }
      },
      "source": [
        "print(len(x))#anz punkte"
      ],
      "execution_count": 9,
      "outputs": [
        {
          "output_type": "stream",
          "text": [
            "424\n"
          ],
          "name": "stdout"
        }
      ]
    },
    {
      "cell_type": "code",
      "metadata": {
        "id": "60b0dOUd9wKL",
        "colab_type": "code",
        "colab": {}
      },
      "source": [
        "np.random.seed(99)\n",
        "first_part=len(x1)\n",
        "x11=np.random.uniform(-1,1,first_part)\n",
        "np.random.seed(97)\n",
        "x12=np.random.uniform(1,6,len(noise)-first_part)\n",
        "x=np.concatenate([x11,x12])"
      ],
      "execution_count": 0,
      "outputs": []
    },
    {
      "cell_type": "code",
      "metadata": {
        "id": "PtvfVee3FE-o",
        "colab_type": "code",
        "colab": {}
      },
      "source": [
        "x=np.sort(x)"
      ],
      "execution_count": 0,
      "outputs": []
    },
    {
      "cell_type": "code",
      "metadata": {
        "id": "XDGPV4WX9wHU",
        "colab_type": "code",
        "colab": {}
      },
      "source": [
        "y=2.7*x+noise"
      ],
      "execution_count": 0,
      "outputs": []
    },
    {
      "cell_type": "code",
      "metadata": {
        "id": "rOZ-tdQ8YiQV",
        "colab_type": "code",
        "colab": {}
      },
      "source": [
        "y=y.reshape((len(y),1))\n",
        "x=x.reshape((len(x),1))\n",
        "\n",
        "x_all = x\n",
        "y_all = y"
      ],
      "execution_count": 0,
      "outputs": []
    },
    {
      "cell_type": "code",
      "metadata": {
        "id": "fFayPsJvDdgH",
        "colab_type": "code",
        "outputId": "62470581-e95a-43b5-ace7-c8ce9dc5fc9d",
        "colab": {
          "base_uri": "https://localhost:8080/",
          "height": 287
        }
      },
      "source": [
        "plt.scatter(x,y)\n",
        "plt.xlabel(\"x\",size=16)\n",
        "plt.ylabel(\"y\",size=16)#pred\n",
        "plt.show()"
      ],
      "execution_count": 14,
      "outputs": [
        {
          "output_type": "display_data",
          "data": {
            "image/png": "[encoded data removed]",
            "text/plain": [
              "<Figure size 432x288 with 1 Axes>"
            ]
          },
          "metadata": {
            "tags": []
          }
        }
      ]
    },
    {
      "cell_type": "markdown",
      "metadata": {
        "id": "pA9H9VStAzow",
        "colab_type": "text"
      },
      "source": [
        "### Split data in train and test"
      ]
    },
    {
      "cell_type": "code",
      "metadata": {
        "id": "eCF5RhVes1kv",
        "colab_type": "code",
        "colab": {}
      },
      "source": [
        "X=x\n",
        "Y=y"
      ],
      "execution_count": 0,
      "outputs": []
    },
    {
      "cell_type": "code",
      "metadata": {
        "id": "HNUefcVZqqg2",
        "colab_type": "code",
        "outputId": "26229038-6d6a-4ff2-9e67-988b3dfb8ebe",
        "colab": {
          "base_uri": "https://localhost:8080/",
          "height": 34
        }
      },
      "source": [
        "\n",
        "x_train, x_test, y_train, y_test = train_test_split(X, Y, test_size=0.25, random_state=47)\n",
        "len(x_test)"
      ],
      "execution_count": 16,
      "outputs": [
        {
          "output_type": "execute_result",
          "data": {
            "text/plain": [
              "106"
            ]
          },
          "metadata": {
            "tags": []
          },
          "execution_count": 16
        }
      ]
    },
    {
      "cell_type": "code",
      "metadata": {
        "id": "M7yA6LvjwzwP",
        "colab_type": "code",
        "colab": {}
      },
      "source": [
        "x = x_train\n",
        "y = y_train\n"
      ],
      "execution_count": 0,
      "outputs": []
    },
    {
      "cell_type": "code",
      "metadata": {
        "id": "Aa9_Dwo5Nf-t",
        "colab_type": "code",
        "outputId": "ab064d79-8242-4dfb-c47a-51f46f9e4ac4",
        "colab": {
          "base_uri": "https://localhost:8080/",
          "height": 317
        }
      },
      "source": [
        "#plt.figure(figsize=(10,10))\n",
        "plt.scatter(x,y,color=\"steelblue\")\n",
        "plt.xlabel(\"x\",size=16)\n",
        "plt.ylabel(\"y\",size=16)#pred\n",
        "plt.title(\"train data\")\n",
        "#plt.savefig(\"fish_train.pdf\")\n",
        "#files.download(\"fish_train.pdf\")"
      ],
      "execution_count": 18,
      "outputs": [
        {
          "output_type": "execute_result",
          "data": {
            "text/plain": [
              "Text(0.5, 1.0, 'train data')"
            ]
          },
          "metadata": {
            "tags": []
          },
          "execution_count": 18
        },
        {
          "output_type": "display_data",
          "data": {
            "image/png": "[encoded data removed]",
            "text/plain": [
              "<Figure size 432x288 with 1 Axes>"
            ]
          },
          "metadata": {
            "tags": []
          }
        }
      ]
    },
    {
      "cell_type": "code",
      "metadata": {
        "id": "SWilb1DmmS9h",
        "colab_type": "code",
        "colab": {}
      },
      "source": [
        "\n",
        "np.savetxt('fish_train_x.out', (x))\n",
        "files.download('fish_train_x.out')\n",
        "np.savetxt('fish_train_y.out', (y))\n",
        "files.download('fish_train_y.out')"
      ],
      "execution_count": 0,
      "outputs": []
    },
    {
      "cell_type": "code",
      "metadata": {
        "id": "pYiZi6eHkndG",
        "colab_type": "code",
        "outputId": "0f0fa595-3128-4b5f-8980-7063cd42dd15",
        "colab": {
          "base_uri": "https://localhost:8080/",
          "height": 317
        }
      },
      "source": [
        "plt.scatter(x_test,y_test,facecolors='none', edgecolors=\"steelblue\")\n",
        "plt.xlabel(\"x\",size=16)\n",
        "plt.ylabel(\"y\",size=16)#pred\n",
        "plt.title(\"test data\")\n",
        "#plt.savefig(\"fish_test.pdf\")\n",
        "#files.download(\"fish_test.pdf\")"
      ],
      "execution_count": 19,
      "outputs": [
        {
          "output_type": "execute_result",
          "data": {
            "text/plain": [
              "Text(0.5, 1.0, 'test data')"
            ]
          },
          "metadata": {
            "tags": []
          },
          "execution_count": 19
        },
        {
          "output_type": "display_data",
          "data": {
            "image/png": "[encoded data removed]",
            "text/plain": [
              "<Figure size 432x288 with 1 Axes>"
            ]
          },
          "metadata": {
            "tags": []
          }
        }
      ]
    },
    {
      "cell_type": "code",
      "metadata": {
        "id": "Ig7HorrDnIbO",
        "colab_type": "code",
        "colab": {}
      },
      "source": [
        "np.savetxt('fish_test_x.out', (x_test))\n",
        "files.download('fish_test_x.out')\n",
        "np.savetxt('fish_test_y.out', (y_test))\n",
        "files.download('fish_test_y.out')"
      ],
      "execution_count": 0,
      "outputs": []
    },
    {
      "cell_type": "markdown",
      "metadata": {
        "id": "ARV44o-honey",
        "colab_type": "text"
      },
      "source": [
        "## Fit linear regression with constant variance"
      ]
    },
    {
      "cell_type": "code",
      "metadata": {
        "id": "m_3TDllj5qUa",
        "colab_type": "code",
        "colab": {}
      },
      "source": [
        "def NLL(y, rv_y):\n",
        "  return -rv_y.log_prob(y) #A"
      ],
      "execution_count": 0,
      "outputs": []
    },
    {
      "cell_type": "code",
      "metadata": {
        "id": "2Y5gk2-rSmtf",
        "colab_type": "code",
        "colab": {}
      },
      "source": [
        "# without tfp\n",
        "model = tf.keras.Sequential()\n",
        "model.add(tf.keras.layers.Dense(1,input_shape=(1,)))\n",
        "model.compile(loss='mse',                    #A\n",
        "         optimizer=\"adam\", metrics=['accuracy'])\n",
        "\n",
        "#A call the standard Keras loss MSE \n"
      ],
      "execution_count": 0,
      "outputs": []
    },
    {
      "cell_type": "code",
      "metadata": {
        "id": "SipffGG7ns6w",
        "colab_type": "code",
        "colab": {
          "base_uri": "https://localhost:8080/",
          "height": 34
        },
        "outputId": "2fe39d26-075a-4e64-b88d-72ca4f21dbb6"
      },
      "source": [
        "model.fit(x,y,batch_size=16,epochs=2000,verbose=0)"
      ],
      "execution_count": 22,
      "outputs": [
        {
          "output_type": "execute_result",
          "data": {
            "text/plain": [
              "<tensorflow.python.keras.callbacks.History at 0x7f8e960614a8>"
            ]
          },
          "metadata": {
            "tags": []
          },
          "execution_count": 22
        }
      ]
    },
    {
      "cell_type": "code",
      "metadata": {
        "id": "slN_JKkwJkxb",
        "colab_type": "code",
        "outputId": "464c0802-19f9-4b03-ef96-24592a3e1b8f",
        "colab": {
          "base_uri": "https://localhost:8080/",
          "height": 305
        }
      },
      "source": [
        "plt.scatter(x,y,color=\"steelblue\") #observerd \n",
        "plt.plot(x,model.predict(x),color=\"black\",linewidth=2)\n",
        "plt.plot(x,model.predict(x)+2,color=\"red\",linestyle=\"--\",linewidth=2)\n",
        "plt.plot(x,model.predict(x)-2,color=\"red\",linestyle=\"--\",linewidth=2)\n",
        "plt.xlabel(\"x\",size=16)\n",
        "plt.ylabel(\"y\",size=16)\n",
        "#plt.savefig(\"fish_2.pdf\")\n",
        "#files.download(\"fish_2.pdf\")"
      ],
      "execution_count": 23,
      "outputs": [
        {
          "output_type": "execute_result",
          "data": {
            "text/plain": [
              "Text(0, 0.5, 'y')"
            ]
          },
          "metadata": {
            "tags": []
          },
          "execution_count": 23
        },
        {
          "output_type": "display_data",
          "data": {
            "image/png": "[encoded data removed]",
            "text/plain": [
              "<Figure size 432x288 with 1 Axes>"
            ]
          },
          "metadata": {
            "tags": []
          }
        }
      ]
    },
    {
      "cell_type": "markdown",
      "metadata": {
        "id": "ckYZCr3n5kS9",
        "colab_type": "text"
      },
      "source": [
        ""
      ]
    },
    {
      "cell_type": "markdown",
      "metadata": {
        "id": "sJgUkCIeo4y1",
        "colab_type": "text"
      },
      "source": [
        "## Fit linear regression allow the sd to depend in a monotonic way on the input"
      ]
    },
    {
      "cell_type": "code",
      "metadata": {
        "id": "_gxFPq2ln_3c",
        "colab_type": "code",
        "colab": {}
      },
      "source": [
        "def NLL(y, rv_y):\n",
        "  return -rv_y.log_prob(y) #A"
      ],
      "execution_count": 0,
      "outputs": []
    },
    {
      "cell_type": "code",
      "metadata": {
        "id": "V32TXJMHYBO5",
        "colab_type": "code",
        "colab": {}
      },
      "source": [
        "# montonic sd change\n",
        "model = tf.keras.Sequential() \n",
        "model.add(tf.keras.layers.Dense(2,input_shape=(1,))) #B\n",
        "model.add(tfp.layers.DistributionLambda(  \n",
        "        lambda t: tfd.Normal(loc=t[:,0:1], #C\n",
        "        scale=1e-3 + tf.math.softplus(0.05 * t[:,1:2])))) #D\n",
        "model.compile(optimizer=tf.optimizers.Adam(), loss=NLL) \n",
        "\n"
      ],
      "execution_count": 0,
      "outputs": []
    },
    {
      "cell_type": "code",
      "metadata": {
        "id": "Ng9q8paln6i9",
        "colab_type": "code",
        "colab": {
          "base_uri": "https://localhost:8080/",
          "height": 224
        },
        "outputId": "c65e1ecb-d9ce-4764-a34a-8af7625c2d55"
      },
      "source": [
        "model.summary()"
      ],
      "execution_count": 30,
      "outputs": [
        {
          "output_type": "stream",
          "text": [
            "Model: \"sequential_2\"\n",
            "_________________________________________________________________\n",
            "Layer (type)                 Output Shape              Param #   \n",
            "=================================================================\n",
            "dense_2 (Dense)              (None, 2)                 4         \n",
            "_________________________________________________________________\n",
            "distribution_lambda_1 (Distr ((None, 1), (None, 1))    0         \n",
            "=================================================================\n",
            "Total params: 4\n",
            "Trainable params: 4\n",
            "Non-trainable params: 0\n",
            "_________________________________________________________________\n"
          ],
          "name": "stdout"
        }
      ]
    },
    {
      "cell_type": "code",
      "metadata": {
        "id": "iRn1dI5Kn8n7",
        "colab_type": "code",
        "colab": {
          "base_uri": "https://localhost:8080/",
          "height": 34
        },
        "outputId": "32575e32-725d-4556-d8cd-3eb8233439ba"
      },
      "source": [
        "model.fit(x, y, epochs=1000, verbose=0)"
      ],
      "execution_count": 31,
      "outputs": [
        {
          "output_type": "execute_result",
          "data": {
            "text/plain": [
              "<tensorflow.python.keras.callbacks.History at 0x7f8e8b752630>"
            ]
          },
          "metadata": {
            "tags": []
          },
          "execution_count": 31
        }
      ]
    },
    {
      "cell_type": "code",
      "metadata": {
        "id": "MBHkyez7JksT",
        "colab_type": "code",
        "outputId": "10d26f0f-03bb-4583-b2f7-fa615238eadd",
        "colab": {
          "base_uri": "https://localhost:8080/",
          "height": 305
        }
      },
      "source": [
        "plt.scatter(x,y,color=\"steelblue\") #observerd \n",
        "plt.plot(x,model(x).mean(),color=\"black\",linewidth=2)\n",
        "plt.plot(x,model(x).mean()+2*model(x).stddev(),color=\"red\",linestyle=\"--\",linewidth=2)\n",
        "plt.plot(x,model(x).mean()-2*model(x).stddev(),color=\"red\",linestyle=\"--\",linewidth=2)\n",
        "plt.xlabel(\"x\",size=16)\n",
        "plt.ylabel(\"y\",size=16)\n",
        "#plt.savefig(\"fish_3.pdf\")\n",
        "#files.download(\"fish_3.pdf\")"
      ],
      "execution_count": 32,
      "outputs": [
        {
          "output_type": "execute_result",
          "data": {
            "text/plain": [
              "Text(0, 0.5, 'y')"
            ]
          },
          "metadata": {
            "tags": []
          },
          "execution_count": 32
        },
        {
          "output_type": "display_data",
          "data": {
            "image/png": "[encoded data removed]",
            "text/plain": [
              "<Figure size 432x288 with 1 Axes>"
            ]
          },
          "metadata": {
            "tags": []
          }
        }
      ]
    },
    {
      "cell_type": "code",
      "metadata": {
        "id": "J49KKkJrrTkY",
        "colab_type": "code",
        "colab": {
          "base_uri": "https://localhost:8080/",
          "height": 317
        },
        "outputId": "8b3af16b-ad58-4b48-b73d-5ebb935d1342"
      },
      "source": [
        "# test data\n",
        "plt.scatter(x_test,y_test,edgecolors=\"steelblue\") #observerd \n",
        "plt.plot(x_test,model(x_test).mean(),color=\"black\",linewidth=2)\n",
        "plt.plot(x_test,model(x_test).mean()+2*model(x_test).stddev(),color=\"red\",linestyle=\"--\",linewidth=1)\n",
        "plt.plot(x_test,model(x_test).mean()-2*model(x_test).stddev(),color=\"red\",linestyle=\"--\",linewidth=1)\n",
        "plt.xlabel(\"x\",size=16)\n",
        "plt.ylabel(\"y\",size=16)\n",
        "plt.title(\"test data\")\n",
        "#plt.savefig(\"fish_3.pdf\")\n",
        "#files.download(\"fish_3.pdf\")"
      ],
      "execution_count": 33,
      "outputs": [
        {
          "output_type": "execute_result",
          "data": {
            "text/plain": [
              "Text(0.5, 1.0, 'test data')"
            ]
          },
          "metadata": {
            "tags": []
          },
          "execution_count": 33
        },
        {
          "output_type": "display_data",
          "data": {
            "image/png": "[encoded data removed]",
            "text/plain": [
              "<Figure size 432x288 with 1 Axes>"
            ]
          },
          "metadata": {
            "tags": []
          }
        }
      ]
    },
    {
      "cell_type": "code",
      "metadata": {
        "id": "pEs2VEkhqDeW",
        "colab_type": "code",
        "colab": {}
      },
      "source": [
        "mean_test_b = model(x_test).mean()\n",
        "sd_test_b = model(x_test).stddev()\n"
      ],
      "execution_count": 0,
      "outputs": []
    },
    {
      "cell_type": "code",
      "metadata": {
        "id": "ZEhbLVEOr3DB",
        "colab_type": "code",
        "colab": {}
      },
      "source": [
        "mean_test_b\n",
        "np.savetxt('mean_test_b.out', (mean_test_b))\n",
        "files.download('mean_test_b.out')\n",
        "np.savetxt('sd_test_b.out', (mean_test_b))\n",
        "files.download('sd_test_b.out')"
      ],
      "execution_count": 0,
      "outputs": []
    },
    {
      "cell_type": "markdown",
      "metadata": {
        "id": "Wf63xZ_npMjJ",
        "colab_type": "text"
      },
      "source": [
        "## Fit a linear regression and allow the sd to depend in a flexible manner on the input"
      ]
    },
    {
      "cell_type": "code",
      "metadata": {
        "id": "Zv4uuHQTt1N2",
        "colab_type": "code",
        "colab": {}
      },
      "source": [
        "def NLL(y, rv_y):\n",
        "  return -rv_y.log_prob(y) #A"
      ],
      "execution_count": 0,
      "outputs": []
    },
    {
      "cell_type": "code",
      "metadata": {
        "id": "sxiN_V87JkgX",
        "colab_type": "code",
        "colab": {}
      },
      "source": [
        "\n",
        "inputs = Input(shape=(1,))\n",
        "out1 = tf.keras.layers.Dense(1)(inputs)\n",
        "hidden1 = tf.keras.layers.Dense(20,activation=\"relu\")(inputs)\n",
        "hidden2 = tf.keras.layers.Dense(10,activation=\"relu\")(hidden1)\n",
        "out2 = tf.keras.layers.Dense(1)(hidden2)\n",
        "out = tf.keras.layers.Concatenate()([out1,out2])\n",
        "predictions = tfp.layers.DistributionLambda(lambda t: \n",
        "     tfd.Normal(loc=t[:, 0:1],\n",
        "     scale=1e-3 + tf.math.softplus(0.05 * t[:,1:2])))(out)\n",
        "model2 = Model(inputs=inputs, outputs=predictions)\n",
        "model2.compile(optimizer=tf.optimizers.Adam(), loss=NLL)\n"
      ],
      "execution_count": 0,
      "outputs": []
    },
    {
      "cell_type": "code",
      "metadata": {
        "id": "3D-GLvt8KFOR",
        "colab_type": "code",
        "outputId": "aceb2824-fff8-4cbb-f5ee-78ccdbb51c86",
        "colab": {
          "base_uri": "https://localhost:8080/",
          "height": 434
        }
      },
      "source": [
        "model2.summary()"
      ],
      "execution_count": 36,
      "outputs": [
        {
          "output_type": "stream",
          "text": [
            "Model: \"model\"\n",
            "__________________________________________________________________________________________________\n",
            "Layer (type)                    Output Shape         Param #     Connected to                     \n",
            "==================================================================================================\n",
            "input_1 (InputLayer)            [(None, 1)]          0                                            \n",
            "__________________________________________________________________________________________________\n",
            "dense_4 (Dense)                 (None, 20)           40          input_1[0][0]                    \n",
            "__________________________________________________________________________________________________\n",
            "dense_5 (Dense)                 (None, 10)           210         dense_4[0][0]                    \n",
            "__________________________________________________________________________________________________\n",
            "dense_3 (Dense)                 (None, 1)            2           input_1[0][0]                    \n",
            "__________________________________________________________________________________________________\n",
            "dense_6 (Dense)                 (None, 1)            11          dense_5[0][0]                    \n",
            "__________________________________________________________________________________________________\n",
            "concatenate (Concatenate)       (None, 2)            0           dense_3[0][0]                    \n",
            "                                                                 dense_6[0][0]                    \n",
            "__________________________________________________________________________________________________\n",
            "distribution_lambda_2 (Distribu ((None, 1), (None, 1 0           concatenate[0][0]                \n",
            "==================================================================================================\n",
            "Total params: 263\n",
            "Trainable params: 263\n",
            "Non-trainable params: 0\n",
            "__________________________________________________________________________________________________\n"
          ],
          "name": "stdout"
        }
      ]
    },
    {
      "cell_type": "code",
      "metadata": {
        "id": "nIJza6KpJcLH",
        "colab_type": "code",
        "outputId": "5e65aec3-b15a-433e-a028-c94b4cbddc9c",
        "colab": {
          "base_uri": "https://localhost:8080/",
          "height": 34
        }
      },
      "source": [
        "model2.fit(x,y,epochs=4000,verbose=0)\n",
        "\n"
      ],
      "execution_count": 37,
      "outputs": [
        {
          "output_type": "execute_result",
          "data": {
            "text/plain": [
              "<tensorflow.python.keras.callbacks.History at 0x7f8e83844a58>"
            ]
          },
          "metadata": {
            "tags": []
          },
          "execution_count": 37
        }
      ]
    },
    {
      "cell_type": "code",
      "metadata": {
        "id": "I76UELYJafIr",
        "colab_type": "code",
        "outputId": "ce6bb696-7f99-467d-85b4-000a21bd2e5e",
        "colab": {
          "base_uri": "https://localhost:8080/",
          "height": 51
        }
      },
      "source": [
        "model2.evaluate(x,y)#should be around 3.1\n",
        "#if not train longer"
      ],
      "execution_count": 38,
      "outputs": [
        {
          "output_type": "stream",
          "text": [
            "318/318 [==============================] - 0s 200us/sample - loss: 3.1940\n"
          ],
          "name": "stdout"
        },
        {
          "output_type": "execute_result",
          "data": {
            "text/plain": [
              "3.194048596628057"
            ]
          },
          "metadata": {
            "tags": []
          },
          "execution_count": 38
        }
      ]
    },
    {
      "cell_type": "code",
      "metadata": {
        "id": "HXotm76vy_W_",
        "colab_type": "code",
        "outputId": "d1674b63-3136-49a0-9c5e-1fcdcbbe43c8",
        "colab": {
          "base_uri": "https://localhost:8080/",
          "height": 34
        }
      },
      "source": [
        "x_val = np.linspace(-1,6,50)\n",
        "x_val = x_val.reshape((50,1))\n",
        "x_val.shape, x.shape"
      ],
      "execution_count": 41,
      "outputs": [
        {
          "output_type": "execute_result",
          "data": {
            "text/plain": [
              "((50, 1), (318, 1))"
            ]
          },
          "metadata": {
            "tags": []
          },
          "execution_count": 41
        }
      ]
    },
    {
      "cell_type": "code",
      "metadata": {
        "id": "nw783cBj5pV3",
        "colab_type": "code",
        "outputId": "ecfdefce-ff3d-4d68-8c79-7c959db4c898",
        "colab": {
          "base_uri": "https://localhost:8080/",
          "height": 34
        }
      },
      "source": [
        "# for extrapolation\n",
        "#x_val = np.linspace(-5,10,50)\n",
        "#x_val = x_val.reshape((50,1))\n",
        "#x_val.shape, x.shape"
      ],
      "execution_count": 40,
      "outputs": [
        {
          "output_type": "execute_result",
          "data": {
            "text/plain": [
              "((50, 1), (318, 1))"
            ]
          },
          "metadata": {
            "tags": []
          },
          "execution_count": 40
        }
      ]
    },
    {
      "cell_type": "code",
      "metadata": {
        "id": "Ruc29zuiZ9gK",
        "colab_type": "code",
        "outputId": "8044ed75-2832-441b-e128-5f9c5995d52a",
        "colab": {
          "base_uri": "https://localhost:8080/",
          "height": 305
        }
      },
      "source": [
        "plt.scatter(x,y,color=\"steelblue\") #observerd \n",
        "plt.plot(x_val,model2(x_val).mean(),color=\"black\",linewidth=2)\n",
        "plt.plot(x_val,model2(x_val).mean()+2*model2(x_val).stddev(),color=\"red\",linestyle=\"--\",linewidth=2)\n",
        "plt.plot(x_val,model2(x_val).mean()-2*model2(x_val).stddev(),color=\"red\",linestyle=\"--\",linewidth=2)\n",
        "plt.xlabel(\"x\",size=16)\n",
        "plt.ylabel(\"y\",size=16)\n",
        "#plt.savefig(\"fish_4.pdf\")\n",
        "#files.download(\"fish_4.pdf\")"
      ],
      "execution_count": 42,
      "outputs": [
        {
          "output_type": "execute_result",
          "data": {
            "text/plain": [
              "Text(0, 0.5, 'y')"
            ]
          },
          "metadata": {
            "tags": []
          },
          "execution_count": 42
        },
        {
          "output_type": "display_data",
          "data": {
            "image/png": "[encoded data removed]",
            "text/plain": [
              "<Figure size 432x288 with 1 Axes>"
            ]
          },
          "metadata": {
            "tags": []
          }
        }
      ]
    },
    {
      "cell_type": "code",
      "metadata": {
        "id": "TCQkIjHzy86g",
        "colab_type": "code",
        "colab": {}
      },
      "source": [
        "mean_test = model2(x_test).mean()\n",
        "sd_test = model2(x_val).stddev()\n",
        "#print(mean_test)\n",
        "\n"
      ],
      "execution_count": 0,
      "outputs": []
    },
    {
      "cell_type": "code",
      "metadata": {
        "id": "TGO5F2iMQhnN",
        "colab_type": "code",
        "colab": {}
      },
      "source": [
        "np.savetxt('test.out', (mean_test))\n",
        "from google.colab import files\n",
        "files.download('test.out')"
      ],
      "execution_count": 0,
      "outputs": []
    },
    {
      "cell_type": "code",
      "metadata": {
        "id": "cUoXH886cf0C",
        "colab_type": "code",
        "colab": {}
      },
      "source": [
        ""
      ],
      "execution_count": 0,
      "outputs": []
    }
  ]
}