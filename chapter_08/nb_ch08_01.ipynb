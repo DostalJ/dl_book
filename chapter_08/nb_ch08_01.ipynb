{
  "nbformat": 4,
  "nbformat_minor": 0,
  "metadata": {
    "colab": {
      "name": "nb_ch08_01.ipynb",
      "provenance": [],
      "collapsed_sections": []
    },
    "kernelspec": {
      "display_name": "Python 3",
      "language": "python",
      "name": "python3"
    },
    "language_info": {
      "codemirror_mode": {
        "name": "ipython",
        "version": 3
      },
      "file_extension": ".py",
      "mimetype": "text/x-python",
      "name": "python",
      "nbconvert_exporter": "python",
      "pygments_lexer": "ipython3",
      "version": "3.6.8"
    }
  },
  "cells": [
    {
      "cell_type": "markdown",
      "metadata": {
        "colab_type": "text",
        "id": "hSwg4-3zJ-az",
        "pycharm": {}
      },
      "source": [
        "### Linear Regression the Bayesian Way\n",
        "\n",
        "**Goal:** This is a simple notebook demonstrating three approaches to fitting Bayesian Linear Regression. We use a model, where we assume that the variance $\\sigma^2$ of the data generating process is known. For that simple setting it is possible to derive a analytical solution. The notebook consists of the following parts.\n",
        "\n",
        "* Analytical solution\n",
        "* Variational Approch (\"by hand\")\n",
        "* Variational Approch using the keras layers `tfp.layers.DenseReparameterization` \n",
        "\n",
        "**Usage:** Try to understand the provided code.\n",
        "\n",
        "**Dataset:** Linear Regression with 4 random data points (also used in chapter 7 in the Bayesian the hackers way).\n",
        "\n",
        "This notebook is acompaning code to the book [https://www.manning.com/books/probabilistic-deep-learning-with-python](https://www.manning.com/books/probabilistic-deep-learning-with-python?a_aid=probabilistic_deep_learning&a_bid=78e55885)\n",
        "\n",
        "### Status content complete, need a little wording and polishing"
      ]
    },
    {
      "cell_type": "code",
      "metadata": {
        "colab_type": "code",
        "id": "CUNwjuxBJ-a1",
        "pycharm": {
          "is_executing": false,
          "metadata": false,
          "name": "#%%\n"
        },
        "colab": {}
      },
      "source": [
        "try: #If running in colab \n",
        "    import google.colab\n",
        "    IN_COLAB = True \n",
        "    %tensorflow_version 2.x\n",
        "except:\n",
        "    IN_COLAB = False"
      ],
      "execution_count": 0,
      "outputs": []
    },
    {
      "cell_type": "code",
      "metadata": {
        "id": "e1maq58BQsW1",
        "colab_type": "code",
        "outputId": "7e6ea27e-8d3b-46ee-cb41-548d600614a6",
        "colab": {}
      },
      "source": [
        "import tensorflow as tf\n",
        "if (not tf.__version__.startswith('2')): #Checking if tf 2.0 is installed\n",
        "    print('Please install tensorflow 2.0 to run this notebook')\n",
        "print('Tensorflow version: ',tf.__version__, ' running in colab?: ', IN_COLAB)"
      ],
      "execution_count": 0,
      "outputs": [
        {
          "output_type": "stream",
          "text": [
            "Tensorflow version:  2.0.0  running in colab?:  False\n"
          ],
          "name": "stdout"
        }
      ]
    },
    {
      "cell_type": "code",
      "metadata": {
        "id": "5_2IoLtZQsW6",
        "colab_type": "code",
        "colab": {}
      },
      "source": [
        "if IN_COLAB:\n",
        "    !pip install tensorflow_probability==0.8.0"
      ],
      "execution_count": 0,
      "outputs": []
    },
    {
      "cell_type": "code",
      "metadata": {
        "id": "KGBZQnqAQsW_",
        "colab_type": "code",
        "outputId": "abfa836f-116e-4365-9218-fcdda210f4b9",
        "colab": {}
      },
      "source": [
        "import matplotlib.pyplot as plt\n",
        "import numpy as np\n",
        "import pandas as pd\n",
        "from sklearn.model_selection import train_test_split\n",
        "import tensorflow_probability as tfp\n",
        "\n",
        "\n",
        "%matplotlib inline\n",
        "plt.style.use('default')\n",
        "plt.rcParams.update({'font.size': 15}) # Large Fonts\n",
        "\n",
        "tfd = tfp.distributions\n",
        "tfb = tfp.bijectors\n",
        "print(\"TFP Version\", tfp.__version__)\n",
        "print(\"TF  Version\",tf.__version__)\n",
        "np.random.seed(42)\n",
        "tf.random.set_seed(42)"
      ],
      "execution_count": 0,
      "outputs": [
        {
          "output_type": "stream",
          "text": [
            "TFP Version 0.8.0\n",
            "TF  Version 2.0.0\n"
          ],
          "name": "stdout"
        }
      ]
    },
    {
      "cell_type": "markdown",
      "metadata": {
        "colab_type": "text",
        "id": "l9U3Jn_GJ-a7",
        "pycharm": {
          "metadata": false,
          "name": "#%% md\n"
        }
      },
      "source": [
        "# Creation of data\n",
        "\n",
        "Creation of some data and definition of parameters"
      ]
    },
    {
      "cell_type": "code",
      "metadata": {
        "id": "pSpWtWJbQsXE",
        "colab_type": "code",
        "outputId": "86a7e7e4-ba83-49f8-f37e-6756f98ffa2b",
        "colab": {}
      },
      "source": [
        "np.random.seed(2)\n",
        "num = 4\n",
        "#nbins = 30 #used to create the plots for the book (takes quite some time)\n",
        "#nbins = 30\n",
        "#nbins_c=30; \n",
        "\n",
        "sigma=3\n",
        "bmin=-10;bmax=8\n",
        "amin=-3;amax=8\n",
        "xmin = -5;xmax = +5;ymin=-40;ymax=40;\n",
        "\n",
        "#x = np.random.normal(0,1,(num,1)) \n",
        "x = np.linspace(-2,2,num=num).reshape((num,1))\n",
        "y = 2 * x[:,0] - 1 + 1.*np.random.normal(0,sigma,num) \n",
        "\n",
        "plt.scatter(x,y, marker='.', color='r')\n",
        "plt.show()\n",
        "\n",
        "#d = np.transpose(np.vstack((x[:,0],y)))\n",
        "#np.savetxt('data_blr_{}.csv'.format(num), d, delimiter=',', header='x,y',comments=\"\",fmt='%.4e');     "
      ],
      "execution_count": 0,
      "outputs": [
        {
          "output_type": "display_data",
          "data": {
            "image/png": "[encoded data removed]",
            "text/plain": [
              "<Figure size 432x288 with 1 Axes>"
            ]
          },
          "metadata": {
            "tags": [],
            "needs_background": "light"
          }
        }
      ]
    },
    {
      "cell_type": "markdown",
      "metadata": {
        "id": "mLvI7u0AQsXI",
        "colab_type": "text"
      },
      "source": [
        "## Linear Regression as baseline\n",
        "Using a non-Bayesian treatment with fixed weights."
      ]
    },
    {
      "cell_type": "code",
      "metadata": {
        "id": "UMHdy04HQsXJ",
        "colab_type": "code",
        "outputId": "a411ba58-d162-4b38-f80e-06bbb41b3d50",
        "colab": {}
      },
      "source": [
        "from sklearn import linear_model\n",
        "regr = linear_model.LinearRegression(fit_intercept=True)\n",
        "regr.fit(x,y)\n",
        "# The coefficients\n",
        "a_ml = regr.coef_\n",
        "b_ml = regr.intercept_\n",
        "print('Coefficients a_ml: ', a_ml[0], 'Coefficients b_ml', b_ml)"
      ],
      "execution_count": 0,
      "outputs": [
        {
          "output_type": "stream",
          "text": [
            "Coefficients a_ml:  2.9205102572725816 Coefficients b_ml -1.726712471421449\n"
          ],
          "name": "stdout"
        }
      ]
    },
    {
      "cell_type": "markdown",
      "metadata": {
        "colab_type": "text",
        "id": "M9W4jmHYJ-bJ",
        "pycharm": {
          "metadata": false
        }
      },
      "source": [
        "# Analytical Solution\n",
        "\n",
        "See also: nb_ch07_02.\n",
        "\n",
        "For the special case that $\\sigma$ is known there exists an analytic solution. For the analytical solution is is further assumed that the prios for a and b are both normally descributed (no correlation) with same spread of the prior distribution $\\sigma_0$.\n",
        "\n",
        "$$\n",
        "    a \\sim N(0,\\sigma_0)\n",
        "$$\n",
        "\n",
        "$$\n",
        "    b \\sim N(0,\\sigma_0)\n",
        "$$\n",
        "\n",
        "Without going into details, the analytical solution can be obtained using the following code. If you are interested the analytical details, they are derived in [Bishop Pattern Recognition and Machine Learning.](https://www.microsoft.com/en-us/research/uploads/prod/2006/01/Bishop-Pattern-Recognition-and-Machine-Learning-2006.pdf). There is also a blog post describing descriping the solution http://krasserm.github.io/2019/02/23/bayesian-linear-regression/."
      ]
    },
    {
      "cell_type": "code",
      "metadata": {
        "id": "YGy1gTJKQsXO",
        "colab_type": "code",
        "outputId": "13cc2205-8abb-4dd0-c9bc-5de008f624a3",
        "colab": {}
      },
      "source": [
        "def make_design_matrix(x):\n",
        "    return np.hstack((np.ones((len(x),1)), x))\n",
        "\n",
        "def posterior(x, y, one_over_var0, var):\n",
        "    \"\"\"\n",
        "        x vector with training x data\n",
        "        y vector with training y values\n",
        "        one_over_var0 1/𝜎0^2 the variances of the prior distribution\n",
        "        var is the assumed to be known variance of data\n",
        "        @returns mean vector mu and covariance Matrix Sig \n",
        "    \"\"\"\n",
        "    X = make_design_matrix(x)\n",
        "    Sig_inv = one_over_var0 * np.eye(X.shape[1]) + X.T.dot(X) / var\n",
        "    Sig = np.linalg.inv(Sig_inv)\n",
        "    mu = Sig.dot(X.T).dot(y) / var\n",
        "    return mu, Sig\n",
        "\n",
        "def posterior_predictive(x_test, mu, Sig, var):\n",
        "    \"\"\"\n",
        "        x_test the positions, where the posterior is to be evaluated\n",
        "        mu the mean values of the weight-posterior\n",
        "        Sig the covariance matrix \n",
        "        var is the assumed to be known variance of data \n",
        "        Computes mean and variances of the posterior predictive distribution of y\n",
        "    \"\"\"\n",
        "    X_test = make_design_matrix(x_test)\n",
        "    y = X_test.dot(mu)\n",
        "    # Only compute variances (diagonal elements of covariance matrix)\n",
        "    y_var = var + np.sum(X_test.dot(Sig) * X_test, axis=1)  \n",
        "    return y, y_var\n",
        "\n",
        "m, Sigma = posterior(x, y, 1./1.0**2, sigma**2)\n",
        "print('Analytical Solution:\\n mean (b,a):',m, '\\n sigma:\\n',Sigma)\n",
        "\n",
        "mu_b_ana,mu_a_ana = m\n",
        "sig_b_ana = Sigma[0,0] \n",
        "sig_a_ana = Sigma[1,1]"
      ],
      "execution_count": 0,
      "outputs": [
        {
          "output_type": "stream",
          "text": [
            "Analytical Solution:\n",
            " mean (b,a): [-0.53129615  1.45118522] \n",
            " sigma:\n",
            " [[6.92307692e-01 1.71864434e-17]\n",
            " [1.71864434e-17 5.03105590e-01]]\n"
          ],
          "name": "stdout"
        }
      ]
    },
    {
      "cell_type": "markdown",
      "metadata": {
        "id": "1ezExy7FQsXS",
        "colab_type": "text"
      },
      "source": [
        "# Variational inference by hand\n",
        "\n",
        "An approximation to Bayes, which is used especially for Neural Networks, is Variational Bayes. We now calculate the variational inference \"by hand\" i.e. without using Keras layers. \n",
        "\n",
        "We model the posterior with 2 independent Gaussians. The four variational parameters are: $\\mu_a, \\sigma_a$ for the distribution determining the slope $a$, and $\\mu_a, \\sigma_a$ for the intercept $b$. For all parameters $N(0,1)$ Gaussians are assumed as priors.\n",
        "\n",
        "$$\n",
        "KL(p(q|\\theta) || P(w)) \n",
        "$$\n",
        "\n",
        "\n",
        "For Gaussians with $N(0,1)$ priors, we can calculate this as (see Kingma Welling 2013 VAE paper in the appendix)\n",
        "$$\n",
        "    KL(q(\\mu_1|\\sigma_1) || N(0,1)) = -\\frac{1}{2}  (1 + log(\\sigma^2) - \\mu^2 - \\sigma^2) \n",
        "$$"
      ]
    },
    {
      "cell_type": "markdown",
      "metadata": {
        "id": "DXk5SAQOQsXU",
        "colab_type": "text"
      },
      "source": [
        "We can check this result by using TFP. "
      ]
    },
    {
      "cell_type": "code",
      "metadata": {
        "id": "N7D2S07_QsXW",
        "colab_type": "code",
        "outputId": "da961179-3660-4b71-d84e-514910fc6b1c",
        "colab": {}
      },
      "source": [
        "mu = 2.\n",
        "s  = 3.\n",
        "print(tfd.Normal(2, 3).kl_divergence(tfd.Normal(0, 1)))\n",
        "-(1. + np.log(s**2) - mu**2 - s**2)/2."
      ],
      "execution_count": 0,
      "outputs": [
        {
          "output_type": "stream",
          "text": [
            "tf.Tensor(4.9013877, shape=(), dtype=float32)\n"
          ],
          "name": "stdout"
        },
        {
          "output_type": "execute_result",
          "data": {
            "text/plain": [
              "4.90138771133189"
            ]
          },
          "metadata": {
            "tags": []
          },
          "execution_count": 8
        }
      ]
    },
    {
      "cell_type": "markdown",
      "metadata": {
        "id": "neb0qFKZQsXZ",
        "colab_type": "text"
      },
      "source": [
        "We use one vector of size 4 to encode the variational parameters. Foreach Gaussian we model $\\mu$ and $\\sigma = \\tt{softplus(\\rho)}$. The softplus ensures that, we do not get negative values for $\\sigma$. "
      ]
    },
    {
      "cell_type": "markdown",
      "metadata": {
        "id": "2AxXpaxZQsXa",
        "colab_type": "text"
      },
      "source": [
        "We further imply the reparameterization trick (for backpropagation) and write\n",
        "\n",
        "$$\n",
        " q(b) = N(\\mu_b, \\sigma_b) = \\mu_b + \\sigma_b \\cdot \\epsilon \\; \\; \\epsilon \\thicksim N(0,1)  \n",
        "$$\n",
        "\n",
        "Don't trust this? We can try to write\n",
        "$N(2,3)=2+3 \\cdot N(0,1)$"
      ]
    },
    {
      "cell_type": "code",
      "metadata": {
        "id": "IzxPOrfdQsXb",
        "colab_type": "code",
        "outputId": "3b42bc4b-6ade-48a3-d074-f92e0ab4b3af",
        "colab": {}
      },
      "source": [
        "# Verification with sampling\n",
        "n23 = tfd.Normal(2,3)\n",
        "print('Normal (2,3) mu = ',n23.mean().numpy(),' sdtdev = ',n23.stddev().numpy())\n",
        "fig = plt.figure(figsize=(3,3))\n",
        "import scipy.stats as stats\n",
        "n23_rep_sample = 2. + 3. * tfd.Normal(0,1).sample(1000)\n",
        "stats.probplot(n23_rep_sample, dist=\"norm\", plot=plt) \n",
        "plt.ylabel(\"~ 3 + 2 * N(0,1)\")\n",
        "plt.show()\n",
        "np.mean(n23_rep_sample), np.std(n23_rep_sample)"
      ],
      "execution_count": 0,
      "outputs": [
        {
          "output_type": "stream",
          "text": [
            "Normal (2,3) mu =  2.0  sdtdev =  3.0\n"
          ],
          "name": "stdout"
        },
        {
          "output_type": "display_data",
          "data": {
            "image/png": "[encoded data removed]",
            "text/plain": [
              "<Figure size 216x216 with 1 Axes>"
            ]
          },
          "metadata": {
            "tags": [],
            "needs_background": "light"
          }
        },
        {
          "output_type": "execute_result",
          "data": {
            "text/plain": [
              "(2.001256, 2.964035)"
            ]
          },
          "metadata": {
            "tags": []
          },
          "execution_count": 9
        }
      ]
    },
    {
      "cell_type": "code",
      "metadata": {
        "id": "xicphbnvQsXe",
        "colab_type": "code",
        "outputId": "99dc71a2-953b-4e6f-d61f-07ccde056cdf",
        "colab": {}
      },
      "source": [
        "# Side note: You cannot calculate and have a distribution. \n",
        "# n23_rep = 2. + 3. * tfd.Normal(0,1) \n",
        "# But you can use a Bijector to go from one distribution to another \n",
        "tfb = tfp.bijectors\n",
        "base = tfd.Normal(0,1)\n",
        "bijector = tfp.bijectors.AffineScalar(shift=2, scale=3)\n",
        "dist = tfd.TransformedDistribution(distribution=base, bijector=bijector)\n",
        "dist.mean()"
      ],
      "execution_count": 0,
      "outputs": [
        {
          "output_type": "execute_result",
          "data": {
            "text/plain": [
              "<tf.Tensor: id=76, shape=(), dtype=float32, numpy=2.0>"
            ]
          },
          "metadata": {
            "tags": []
          },
          "execution_count": 10
        }
      ]
    },
    {
      "cell_type": "code",
      "metadata": {
        "id": "imWGr74SQsXi",
        "colab_type": "code",
        "colab": {}
      },
      "source": [
        "## Convenience function to write out weights\n",
        "class Logger:\n",
        "    \"\"\"\n",
        "        Writes out the weights, gradient, and losses. To be used later in e.g. R. n is the numbver of weights\n",
        "    \"\"\"  \n",
        "    def __init__(self, steps, num_weights = 4):\n",
        "        self.steps = steps\n",
        "        self.num_weights = num_weights\n",
        "        self.X = np.zeros((steps, 12))\n",
        "        self.header = 'epoch,w0,w1,w2,w3,wg0,wg1,wg2,wg3,loss,loss_kl,loss_mse'\n",
        "        \n",
        "    def log(self, step, epoch, w, w_grad, loss, loss_kl, loss_mse):\n",
        "        n = self.num_weights\n",
        "        self.X[step,0] = epoch\n",
        "        self.X[step,1:(n+1)] = w.numpy()\n",
        "        self.X[step,(n+1):((2*n)+1)] = w_grad.numpy()\n",
        "        self.X[step,((2*n)+1)] = loss.numpy()\n",
        "        self.X[step,((2*n)+2)] = loss_kl.numpy()\n",
        "        self.X[step,((2*n)+3)] = loss_mse.numpy()\n",
        "        \n",
        "    def write4r(self, filename):\n",
        "        np.savetxt(filename, self.X, delimiter=',', header=self.header,comments=\"\",fmt='%.4e');\n",
        "        \n",
        "    def getX(self):\n",
        "        return self.X"
      ],
      "execution_count": 0,
      "outputs": []
    },
    {
      "cell_type": "markdown",
      "metadata": {
        "id": "TH1OrfoQQsXl",
        "colab_type": "text"
      },
      "source": [
        "#### Listing 8.1 The full code of doing variational inference for the example"
      ]
    },
    {
      "cell_type": "code",
      "metadata": {
        "id": "qaiY2tyOQsXn",
        "colab_type": "code",
        "outputId": "a9471844-e83d-4ba6-f94b-1cb909dcb90b",
        "colab": {}
      },
      "source": [
        "epochs=10000\n",
        "logger = Logger(epochs)\n",
        "lr = 0.001\n",
        "optimizer = tf.keras.optimizers.SGD(lr)\n",
        "\n",
        "# 10          20       30        40       50         55\n",
        "#123456789012345678901234567890123456789012345678901234\n",
        "w_0=(1.,1.,1.,1.)  #A \n",
        "log = tf.math.log\n",
        "w = tf.Variable(w_0)   \n",
        "e = tfd.Normal(loc=0., scale=1.) #B \n",
        "ytensor = y.reshape([len(y),1]) #A\n",
        "for i in range(epochs):\n",
        "    with tf.GradientTape() as tape: \n",
        "        \n",
        "        mu_a = w[0] #C\n",
        "        sig_a = tf.math.softplus(w[1]) #D\n",
        "        \n",
        "        mu_b= w[2]  #E \n",
        "        sig_b= tf.math.softplus(w[3]) #F \n",
        "            \n",
        "        l_kl = -0.5*(1.0 + #G\n",
        "            log(sig_a**2) - sig_a**2 - mu_a**2 + #G\n",
        "            1.0 + log(sig_b**2) - sig_b**2 - mu_b**2)#G\n",
        "       \n",
        "        a =  mu_a + sig_a * e.sample()  #H\n",
        "        b =  mu_b + sig_b * e.sample()  #I\n",
        "        \n",
        "        y_prob = tfd.Normal(loc=x*a+b, scale=sigma)\n",
        "        l_nll = -tf.reduce_sum(y_prob.log_prob(ytensor)) #J\n",
        "       \n",
        "        loss = l_nll + l_kl\n",
        "    grads = tape.gradient(loss, w) \n",
        "    logger.log(i, i, w, grads, loss, loss_kl, loss_nll)\n",
        "    w = tf.Variable(w - lr*grads)  # G\n",
        "    \n",
        "\n",
        "#A The initial condition of the weight vector w\n",
        "#B The noise term, needed for the variational trick\n",
        "#C This controls the center of parameter a \n",
        "#D This controls the spread of parameter a\n",
        "#E This controls the center of b \n",
        "#F Control of the spread of b\n",
        "#G KL-Divergence with Gaussian Priors \n",
        "#H Sample a ~ N(mu_a, sig_a) with reparametrization trick\n",
        "#I Sample b ~ N(mu_b, sig_b)\n",
        "#J Calculation of the NLL\n",
        "#G Gradient Descent step\n",
        "\n",
        "    if i % 2000 == 0 or i < 2:\n",
        "        print(i, \" loss \", loss.numpy(), \" lr \", lr)\n",
        "        print('a_mu', w[0].numpy(),'b_mu', w[2].numpy())"
      ],
      "execution_count": 0,
      "outputs": [
        {
          "output_type": "stream",
          "text": [
            "0  loss  16.525488  lr  0.001\n",
            "a_mu 1.0003681 b_mu 0.9973271\n",
            "1  loss  15.791278  lr  0.001\n",
            "a_mu 1.0019454 b_mu 0.9962966\n",
            "2000  loss  13.093626  lr  0.001\n",
            "a_mu 1.4481025 b_mu -0.43815133\n",
            "4000  loss  17.911259  lr  0.001\n",
            "a_mu 1.4410343 b_mu -0.5415213\n",
            "6000  loss  15.17641  lr  0.001\n",
            "a_mu 1.469027 b_mu -0.52681375\n",
            "8000  loss  13.849514  lr  0.001\n",
            "a_mu 1.4544222 b_mu -0.53137904\n"
          ],
          "name": "stdout"
        }
      ]
    },
    {
      "cell_type": "code",
      "metadata": {
        "id": "0L3p1c1MQsXr",
        "colab_type": "code",
        "outputId": "d9e42e1b-a3e2-486f-cc84-26b892e7536c",
        "colab": {}
      },
      "source": [
        "W = logger.getX()\n",
        "loss_history = W[:,9]\n",
        "loss_history_nll = W[:,10]\n",
        "loss_history_kl = W[:,11]\n",
        "plt.plot(loss_history)\n",
        "plt.plot(loss_history_kl)\n",
        "plt.plot(loss_history_nll)\n",
        "plt.legend(('total', 'nll', 'kl'))\n",
        "plt.ylim(0,60)\n",
        "plt.show()\n",
        "print('b = ', tf.math.softplus(w[0]).numpy(), ' ', tf.math.softplus(w[1]).numpy(), \n",
        "      ' a = ', w[2].numpy(), ' ',  tf.math.softplus(w[3]).numpy())"
      ],
      "execution_count": 0,
      "outputs": [
        {
          "output_type": "display_data",
          "data": {
            "image/png": "[encoded data removed]",
            "text/plain": [
              "<Figure size 432x288 with 1 Axes>"
            ]
          },
          "metadata": {
            "tags": [],
            "needs_background": "light"
          }
        },
        {
          "output_type": "stream",
          "text": [
            "b =  1.6634312   0.70992655  a =  -0.53281224   0.83142906\n"
          ],
          "name": "stdout"
        }
      ]
    },
    {
      "cell_type": "code",
      "metadata": {
        "id": "E4V5gwZOQsXu",
        "colab_type": "code",
        "outputId": "56869afb-2b97-4859-ef69-bc29d48e4c0c",
        "colab": {}
      },
      "source": [
        "W = logger.getX()\n",
        "weights = W[:,1:5]\n",
        "epochs = W.shape[0]\n",
        "from matplotlib.pyplot import figure\n",
        "\n",
        "#slope a\n",
        "plt.plot(weights[:,0],color='r',linestyle='-.')\n",
        "plt.plot([0, epochs], [mu_a_ana, mu_a_ana], linewidth=1,color='r', linestyle='-')\n",
        "plt.xlabel('Epochs')\n",
        "plt.ylabel('Parameter Values')\n",
        "\n",
        "plt.plot(weights[:,2],color='b', linestyle='-.')\n",
        "plt.plot([0, epochs], [mu_b_ana, mu_b_ana], linewidth=2, color='b', linestyle='-')\n",
        "plt.legend(('mu_a [VI]', 'mu_a [Analytical]', 'mu_b [VI]','mu_b [Analytical]'))\n",
        "\n",
        "plt.title('Convergence to Analytical Solution')\n",
        "plt.savefig('ch08_lr.pdf')   # no plt.show() in previous line! "
      ],
      "execution_count": 0,
      "outputs": [
        {
          "output_type": "display_data",
          "data": {
            "image/png": "[encoded data removed]",
            "text/plain": [
              "<Figure size 432x288 with 1 Axes>"
            ]
          },
          "metadata": {
            "tags": [],
            "needs_background": "light"
          }
        }
      ]
    },
    {
      "cell_type": "markdown",
      "metadata": {
        "id": "CQAfm8OcQsXy",
        "colab_type": "text"
      },
      "source": [
        "The log file has been processed using R (make_animation.R) to create the following animation using \n",
        "\n",
        "logger.write4r('vi.csv')"
      ]
    },
    {
      "cell_type": "code",
      "metadata": {
        "id": "2S36syA8QsX0",
        "colab_type": "code",
        "outputId": "d597d8e7-de53-4f8c-8744-06964a4f283f",
        "colab": {}
      },
      "source": [
        "from IPython.display import HTML\n",
        "# Youtube\n",
        "HTML('<iframe width=\"560\" height=\"315\" src=\"https://www.youtube.com/embed/MC_5Ne3Dj6g\" frameborder=\"0\" allow=\"accelerometer; autoplay; encrypted-media; gyroscope; picture-in-picture\" allowfullscreen></iframe>')"
      ],
      "execution_count": 0,
      "outputs": [
        {
          "output_type": "stream",
          "text": [
            "/usr/local/lib/python3.6/dist-packages/IPython/core/display.py:694: UserWarning: Consider using IPython.display.IFrame instead\n",
            "  warnings.warn(\"Consider using IPython.display.IFrame instead\")\n"
          ],
          "name": "stderr"
        },
        {
          "output_type": "execute_result",
          "data": {
            "text/html": [
              "<iframe width=\"560\" height=\"315\" src=\"https://www.youtube.com/embed/MC_5Ne3Dj6g\" frameborder=\"0\" allow=\"accelerometer; autoplay; encrypted-media; gyroscope; picture-in-picture\" allowfullscreen></iframe>"
            ],
            "text/plain": [
              "<IPython.core.display.HTML object>"
            ]
          },
          "metadata": {
            "tags": []
          },
          "execution_count": 16
        }
      ]
    },
    {
      "cell_type": "markdown",
      "metadata": {
        "id": "drSUwnGaQsX3",
        "colab_type": "text"
      },
      "source": [
        "### Return to the book \n",
        "<img src=\"https://raw.githubusercontent.com/tensorchiefs/dl_book/master/imgs/Page_turn_icon_A.png\" width=\"120\" align=\"left\" /> Now return the the main text to chapter 8.3, where variational inference with TFP is described."
      ]
    },
    {
      "cell_type": "markdown",
      "metadata": {
        "id": "V9-ZMhB1QsX4",
        "colab_type": "text"
      },
      "source": [
        "# Introduction to TFP\n",
        "\n",
        "Now let's reproduce the above result with TFP. But bevor we show how simple it is to create a network."
      ]
    },
    {
      "cell_type": "markdown",
      "metadata": {
        "id": "zFJXaBHtQsX4",
        "colab_type": "text"
      },
      "source": [
        "#### Listing 8.2 Setting up a VI network with three layers in TFP"
      ]
    },
    {
      "cell_type": "code",
      "metadata": {
        "id": "FOQRVzkwQsX6",
        "colab_type": "code",
        "outputId": "73845b4a-4115-41ad-b01f-d36f81cad902",
        "colab": {}
      },
      "source": [
        "model = tf.keras.Sequential([\n",
        "  tfp.layers.DenseReparameterization(1, input_shape=(None,1)),\n",
        "  tfp.layers.DenseReparameterization(2),\n",
        "  tfp.layers.DenseReparameterization(3)\n",
        "])\n",
        "model.summary()"
      ],
      "execution_count": 0,
      "outputs": [
        {
          "output_type": "stream",
          "text": [
            "WARNING:tensorflow:From /usr/local/lib/python3.6/dist-packages/tensorflow_probability/python/layers/util.py:104: Layer.add_variable (from tensorflow.python.keras.engine.base_layer) is deprecated and will be removed in a future version.\n",
            "Instructions for updating:\n",
            "Please use `layer.add_weight` method instead.\n",
            "Model: \"sequential\"\n",
            "_________________________________________________________________\n",
            "Layer (type)                 Output Shape              Param #   \n",
            "=================================================================\n",
            "dense_reparameterization (De (None, None, 1)           3         \n",
            "_________________________________________________________________\n",
            "dense_reparameterization_1 ( (None, None, 2)           6         \n",
            "_________________________________________________________________\n",
            "dense_reparameterization_2 ( (None, None, 3)           15        \n",
            "=================================================================\n",
            "Total params: 24\n",
            "Trainable params: 24\n",
            "Non-trainable params: 0\n",
            "_________________________________________________________________\n"
          ],
          "name": "stdout"
        }
      ]
    },
    {
      "cell_type": "markdown",
      "metadata": {
        "pycharm": {
          "metadata": false
        },
        "id": "ououvTmQQsYA",
        "colab_type": "text"
      },
      "source": [
        "### Comparing with TFP\n",
        "\n",
        "Now we compare again TFP. Note that we also have to include a distribution on the bias and weight."
      ]
    },
    {
      "cell_type": "markdown",
      "metadata": {
        "id": "8-exdsxCQsYA",
        "colab_type": "text"
      },
      "source": [
        "#### Listing 8.3 The code for  our simple network from figure 8.bnn4"
      ]
    },
    {
      "cell_type": "code",
      "metadata": {
        "pycharm": {
          "is_executing": false,
          "metadata": false,
          "name": "#%%\n"
        },
        "id": "BsXsBV0-QsYD",
        "colab_type": "code",
        "colab": {}
      },
      "source": [
        "from tensorflow.keras.layers import Input\n",
        "from tensorflow.keras import Model\n",
        "from tensorflow.keras.optimizers import Adam\n",
        "\n",
        "#123456789012345678901234567890123456789012345678901234\n",
        "def NLL(y, distr):#C\n",
        "    return -distr.log_prob(y) \n",
        "    \n",
        "def my_dist(mu): #C\n",
        "    return tfd.Normal(loc=mu[:,0:1], scale=sigma)\n",
        "\n",
        "kl = tfp.distributions.kl_divergence\n",
        "divergence_fn=lambda q, p, _: kl(q, p) / (num * 1.0) #B\n",
        "\n",
        "\n",
        "model = tf.keras.Sequential([\n",
        "    tfp.layers.DenseReparameterization(1,\n",
        "       kernel_divergence_fn=divergence_fn,\n",
        "       bias_divergence_fn=divergence_fn, #A\n",
        "       bias_prior_fn=tfp.layers.util.default_multivariate_normal_fn,#A\n",
        "       bias_posterior_fn=tfp.layers.util.default_mean_field_normal_fn()#A\n",
        "                                       ),\n",
        "    tfp.layers.DistributionLambda(my_dist)\n",
        "])\n",
        "\n",
        "\n",
        "sgd = tf.keras.optimizers.SGD(lr=.005)\n",
        "model.compile(loss=NLL, optimizer=sgd)\n",
        "\n",
        "# A note that TFP usually does not assume distributions on the bias, we overwrite this here. \n",
        "# B Rescaling KL-divergence term. Kind of Bug fix for TFP\n",
        "# C The usual NLL loss for a Gaussian Distribution with fixed variance "
      ],
      "execution_count": 0,
      "outputs": []
    },
    {
      "cell_type": "code",
      "metadata": {
        "id": "DfsGNRR9QsYJ",
        "colab_type": "code",
        "outputId": "194ffdda-367a-4f78-f903-df9c74cd2ecc",
        "colab": {}
      },
      "source": [
        "hist = model.fit(x, y, epochs=5000, batch_size=num, verbose=False)\n",
        "plt.plot(hist.history['loss'])\n",
        "plt.xlabel('Epochs')\n",
        "plt.ylabel('Total loss')"
      ],
      "execution_count": 0,
      "outputs": [
        {
          "output_type": "execute_result",
          "data": {
            "text/plain": [
              "Text(0, 0.5, 'Total loss')"
            ]
          },
          "metadata": {
            "tags": []
          },
          "execution_count": 22
        },
        {
          "output_type": "display_data",
          "data": {
            "image/png": "[encoded data removed]",
            "text/plain": [
              "<Figure size 432x288 with 1 Axes>"
            ]
          },
          "metadata": {
            "tags": [],
            "needs_background": "light"
          }
        }
      ]
    },
    {
      "cell_type": "markdown",
      "metadata": {
        "id": "3OO6593TQsYS",
        "colab_type": "text"
      },
      "source": [
        "## Comparison of the results"
      ]
    },
    {
      "cell_type": "code",
      "metadata": {
        "pycharm": {
          "is_executing": false,
          "metadata": false,
          "name": "#%%\n"
        },
        "id": "cu0HtnrhQsYU",
        "colab_type": "code",
        "outputId": "31b257fa-3fd8-495b-9da0-8c3060fdf5d2",
        "colab": {}
      },
      "source": [
        "import pandas as pd\n",
        "def sp(x):\n",
        "    return np.log(1 + np.exp(x))**2\n",
        "\n",
        "wtfp = model.get_weights()\n",
        "ww = w.numpy()\n",
        "pd.DataFrame({\n",
        "    'Analytical ':[mu_a_ana, sig_a_ana,  mu_b_ana, sig_b_ana], \n",
        "    'TFP ':[wtfp[0][0,0], sp(wtfp[1][[0]])[0,0],wtfp[2][0], sp(wtfp[3][[0]])[0]], \n",
        "    'VI Manual ': [ww[0], sp(ww[1]), ww[2], sp(ww[3])], \n",
        "    'MaxLike':[a_ml[0], '-', b_ml, '-'] \n",
        "    }, \n",
        "    index=['a_loc','a_sig','b_loc','b_sig']\n",
        ")"
      ],
      "execution_count": 0,
      "outputs": [
        {
          "output_type": "execute_result",
          "data": {
            "text/html": [
              "<div>\n",
              "<style scoped>\n",
              "    .dataframe tbody tr th:only-of-type {\n",
              "        vertical-align: middle;\n",
              "    }\n",
              "\n",
              "    .dataframe tbody tr th {\n",
              "        vertical-align: top;\n",
              "    }\n",
              "\n",
              "    .dataframe thead th {\n",
              "        text-align: right;\n",
              "    }\n",
              "</style>\n",
              "<table border=\"1\" class=\"dataframe\">\n",
              "  <thead>\n",
              "    <tr style=\"text-align: right;\">\n",
              "      <th></th>\n",
              "      <th>Analytical</th>\n",
              "      <th>TFP</th>\n",
              "      <th>VI Manual</th>\n",
              "      <th>MaxLike</th>\n",
              "    </tr>\n",
              "  </thead>\n",
              "  <tbody>\n",
              "    <tr>\n",
              "      <td>a_loc</td>\n",
              "      <td>1.451185</td>\n",
              "      <td>1.468724</td>\n",
              "      <td>1.453342</td>\n",
              "      <td>2.92051</td>\n",
              "    </tr>\n",
              "    <tr>\n",
              "      <td>a_sig</td>\n",
              "      <td>0.503106</td>\n",
              "      <td>0.475487</td>\n",
              "      <td>0.503996</td>\n",
              "      <td>-</td>\n",
              "    </tr>\n",
              "    <tr>\n",
              "      <td>b_loc</td>\n",
              "      <td>-0.531296</td>\n",
              "      <td>-0.532996</td>\n",
              "      <td>-0.532812</td>\n",
              "      <td>-1.72671</td>\n",
              "    </tr>\n",
              "    <tr>\n",
              "      <td>b_sig</td>\n",
              "      <td>0.692308</td>\n",
              "      <td>0.642398</td>\n",
              "      <td>0.691274</td>\n",
              "      <td>-</td>\n",
              "    </tr>\n",
              "  </tbody>\n",
              "</table>\n",
              "</div>"
            ],
            "text/plain": [
              "       Analytical       TFP   VI Manual   MaxLike\n",
              "a_loc     1.451185  1.468724    1.453342  2.92051\n",
              "a_sig     0.503106  0.475487    0.503996        -\n",
              "b_loc    -0.531296 -0.532996   -0.532812 -1.72671\n",
              "b_sig     0.692308  0.642398    0.691274        -"
            ]
          },
          "metadata": {
            "tags": []
          },
          "execution_count": 24
        }
      ]
    },
    {
      "cell_type": "markdown",
      "metadata": {
        "id": "OHMngYJGQsYZ",
        "colab_type": "text"
      },
      "source": [
        "<!--img src=\"https://as1.ftcdn.net/jpg/01/33/91/60/500_F_133916095_PS4juqjP6hNZvIHHT43ehNqlpRyqGDTV.jpg\" width=\"300\" align=\"left\" /-->"
      ]
    },
    {
      "cell_type": "code",
      "metadata": {
        "id": "p3qk6RJzQsYa",
        "colab_type": "code",
        "colab": {}
      },
      "source": [
        ""
      ],
      "execution_count": 0,
      "outputs": []
    }
  ]
}