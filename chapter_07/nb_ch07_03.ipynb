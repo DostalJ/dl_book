{
  "nbformat": 4,
  "nbformat_minor": 0,
  "metadata": {
    "kernelspec": {
      "display_name": "Python 3",
      "language": "python",
      "name": "python3"
    },
    "language_info": {
      "codemirror_mode": {
        "name": "ipython",
        "version": 3
      },
      "file_extension": ".py",
      "mimetype": "text/x-python",
      "name": "python",
      "nbconvert_exporter": "python",
      "pygments_lexer": "ipython3",
      "version": "3.5.2"
    },
    "colab": {
      "name": "nb_ch06_bayes.ipynb",
      "provenance": []
    },
    "nteract": {
      "version": "0.12.3"
    }
  },
  "cells": [
    {
      "cell_type": "markdown",
      "metadata": {
        "id": "TdjHPdOouzBM",
        "colab_type": "text"
      },
      "source": [
        "# A Bayesian model for a coin toss\n",
        "\n",
        "**Goal:** In this notebook you will learn how you can calculate the postirior distribution for the parameter $\\theta$ of a bernoulli experiment. You will use the brute force approach and assume a prior distribution for the parameter $\\theta$. With the observed data of some coin tosses you will then calculate the likelihood under a specific $\\theta$. After that, you will calculate the unormalized posterior under each $\\theta$ (going for 0 to 1 by 0.05 steps) by multiplying the prior of the specific theta with the likelihood. Finally you will normalize the unormalized posterior so that the sum of the posterior distribution is one. To get the outcome distribution you will sum over all the multilication of every theta with the correspondig posterior value. \n",
        "Note that you will use discrete values for the prior and postirior of $\\theta$ here but in theory they can take any value. You will work with sums in this notebook to approximate the integrals.\n",
        "\n",
        "**Usage:** The idea of the notebook is that you try to understand the provided code by running it, checking the output and playing with it by slightly changing the code and rerunning it. You \n",
        "\n",
        "**Dataset:** You work with the observed values of coin tosses, 1 for head and 0 for tail\n",
        "\n",
        "**Content:**\n",
        "* Define a uniform prior for $\\theta$\n",
        "* Plot a random example of each class label\n",
        "* Normalize the data to be in the range from -1 and 1\n",
        "* Define and fit a Convolutional neural network without any dropout layers\n",
        "* Define and fit a Convolutional neural network with dropout layers in the fully connected part\n",
        "* Compare the loss and accuracy curves of the two models \n",
        "\n",
        "| [open in colab](https://colab.research.google.com/github/tensorchiefs/dl_book/blob/master/chapter_07/nb_ch07_03.ipynb)\n",
        "\n",
        "\n"
      ]
    },
    {
      "cell_type": "code",
      "metadata": {
        "id": "_PvChf9tMHSv",
        "colab_type": "code",
        "outputId": "f2ee2e8f-6fb2-462b-e746-e4d2872e625b",
        "colab": {
          "base_uri": "https://localhost:8080/",
          "height": 35
        }
      },
      "source": [
        "import tensorflow as tf\n",
        "try: #If running in colab \n",
        "    import google.colab\n",
        "    IN_COLAB = True \n",
        "except:\n",
        "    IN_COLAB = False\n",
        "if (not tf.__version__.startswith('2')): #Checking if tf 2.0 is installed\n",
        "    if IN_COLAB: #If running in colab install tf 2.0\n",
        "      !pip install tensorflow-gpu==2.0.0\n",
        "      !pip install tensorflow-probability==0.8.0\n",
        "    print('Please install tensorflow 2.0 to run this notebook')\n",
        "print('Tensorflow version: ',tf.__version__, ' running in colab?: ', IN_COLAB)"
      ],
      "execution_count": 1,
      "outputs": [
        {
          "output_type": "stream",
          "text": [
            "Tensorflow version:  2.0.0  running in colab?:  True\n"
          ],
          "name": "stdout"
        }
      ]
    },
    {
      "cell_type": "code",
      "metadata": {
        "id": "_VSparStMHS6",
        "colab_type": "code",
        "outputId": "b9501e7a-6823-4aed-c621-50c4bc254e90",
        "colab": {
          "base_uri": "https://localhost:8080/",
          "height": 52
        }
      },
      "source": [
        "import matplotlib.pyplot as plt\n",
        "import numpy as np\n",
        "\n",
        "import tensorflow as tf\n",
        "import tensorflow_probability as tfp\n",
        "\n",
        "plt.style.use('default') \n",
        "%matplotlib inline\n",
        "\n",
        "tfd = tfp.distributions\n",
        "print(\"TF  Version\",tf.__version__)\n",
        "print(\"TFP Version\", tfp.__version__)"
      ],
      "execution_count": 2,
      "outputs": [
        {
          "output_type": "stream",
          "text": [
            "TF  Version 2.0.0\n",
            "TFP Version 0.8.0\n"
          ],
          "name": "stdout"
        }
      ]
    },
    {
      "cell_type": "code",
      "metadata": {
        "id": "KYNnP9ZzR9wq",
        "colab_type": "code",
        "colab": {}
      },
      "source": [
        "obs_data=np.repeat(1,3)\n",
        "theta=np.arange(0.05,1,0.05)"
      ],
      "execution_count": 0,
      "outputs": []
    },
    {
      "cell_type": "code",
      "metadata": {
        "id": "LjPTrOWPBboz",
        "colab_type": "code",
        "outputId": "33f88507-bd09-467a-a96d-2c60f684b690",
        "colab": {
          "base_uri": "https://localhost:8080/",
          "height": 52
        }
      },
      "source": [
        "### ML\n",
        "est_theta_ml=sum(obs_data)/len(obs_data)\n",
        "print(est_theta_ml)\n",
        "sd_est_theta_ml=np.std(obs_data, ddof=1)\n",
        "print(sd_est_theta_ml)\n"
      ],
      "execution_count": 4,
      "outputs": [
        {
          "output_type": "stream",
          "text": [
            "1.0\n",
            "0.0\n"
          ],
          "name": "stdout"
        }
      ]
    },
    {
      "cell_type": "code",
      "metadata": {
        "id": "gv8JQ7ph-xtM",
        "colab_type": "code",
        "outputId": "3cb49341-7110-4a66-c052-90ae2d7d4637",
        "colab": {
          "base_uri": "https://localhost:8080/",
          "height": 87
        }
      },
      "source": [
        "theta\n",
        "print(theta)\n",
        "prior=1/len(theta) #uniformdisti\n",
        "dist = tfp.distributions.Bernoulli(probs=0.5)#one spcific theta\n",
        "print(np.prod(dist.prob(obs_data)))#joint likelyhood\n",
        "print(np.prod(dist.prob(obs_data))*prior) #unnormalized posterior"
      ],
      "execution_count": 5,
      "outputs": [
        {
          "output_type": "stream",
          "text": [
            "[0.05 0.1  0.15 0.2  0.25 0.3  0.35 0.4  0.45 0.5  0.55 0.6  0.65 0.7\n",
            " 0.75 0.8  0.85 0.9  0.95]\n",
            "0.125\n",
            "0.006578947368421052\n"
          ],
          "name": "stdout"
        }
      ]
    },
    {
      "cell_type": "code",
      "metadata": {
        "id": "bNdzugd4-gll",
        "colab_type": "code",
        "colab": {}
      },
      "source": [
        ""
      ],
      "execution_count": 0,
      "outputs": []
    },
    {
      "cell_type": "code",
      "metadata": {
        "id": "MKs0PYIkFSM8",
        "colab_type": "code",
        "outputId": "85cdf041-4fba-4f9f-9edd-a890d681cd50",
        "colab": {
          "base_uri": "https://localhost:8080/",
          "height": 35
        }
      },
      "source": [
        "np.prod(dist.prob(obs_data))*prior #unnormalized posterior"
      ],
      "execution_count": 6,
      "outputs": [
        {
          "output_type": "execute_result",
          "data": {
            "text/plain": [
              "0.006578947368421052"
            ]
          },
          "metadata": {
            "tags": []
          },
          "execution_count": 6
        }
      ]
    },
    {
      "cell_type": "code",
      "metadata": {
        "id": "_PGX3RSbF9qT",
        "colab_type": "code",
        "colab": {}
      },
      "source": [
        "RES=np.zeros((len(theta),5))\n",
        "for i in range(0,len(theta)):\n",
        "  dist = tfp.distributions.Bernoulli(probs=theta[i])   \n",
        "  RES[i,0:4]=np.array((theta[i],np.prod(dist.prob(obs_data)),prior,np.prod(dist.prob(obs_data))*prior))"
      ],
      "execution_count": 0,
      "outputs": []
    },
    {
      "cell_type": "code",
      "metadata": {
        "id": "i1EhebTRHu-G",
        "colab_type": "code",
        "outputId": "c61ee6db-7b49-4499-cd70-7e8371611164",
        "colab": {
          "base_uri": "https://localhost:8080/",
          "height": 631
        }
      },
      "source": [
        "import pandas as pd\n",
        "RES=pd.DataFrame(RES,columns=[\"theta\",\"jointlik\",\"prior\",\"unnorm_post\",\"post\"])\n",
        "RES[\"post\"]=RES[\"unnorm_post\"]/np.sum(RES[\"unnorm_post\"])\n",
        "RES"
      ],
      "execution_count": 8,
      "outputs": [
        {
          "output_type": "execute_result",
          "data": {
            "text/html": [
              "<div>\n",
              "<style scoped>\n",
              "    .dataframe tbody tr th:only-of-type {\n",
              "        vertical-align: middle;\n",
              "    }\n",
              "\n",
              "    .dataframe tbody tr th {\n",
              "        vertical-align: top;\n",
              "    }\n",
              "\n",
              "    .dataframe thead th {\n",
              "        text-align: right;\n",
              "    }\n",
              "</style>\n",
              "<table border=\"1\" class=\"dataframe\">\n",
              "  <thead>\n",
              "    <tr style=\"text-align: right;\">\n",
              "      <th></th>\n",
              "      <th>theta</th>\n",
              "      <th>jointlik</th>\n",
              "      <th>prior</th>\n",
              "      <th>unnorm_post</th>\n",
              "      <th>post</th>\n",
              "    </tr>\n",
              "  </thead>\n",
              "  <tbody>\n",
              "    <tr>\n",
              "      <th>0</th>\n",
              "      <td>0.05</td>\n",
              "      <td>0.000125</td>\n",
              "      <td>0.052632</td>\n",
              "      <td>0.000007</td>\n",
              "      <td>0.000028</td>\n",
              "    </tr>\n",
              "    <tr>\n",
              "      <th>1</th>\n",
              "      <td>0.10</td>\n",
              "      <td>0.001000</td>\n",
              "      <td>0.052632</td>\n",
              "      <td>0.000053</td>\n",
              "      <td>0.000222</td>\n",
              "    </tr>\n",
              "    <tr>\n",
              "      <th>2</th>\n",
              "      <td>0.15</td>\n",
              "      <td>0.003375</td>\n",
              "      <td>0.052632</td>\n",
              "      <td>0.000178</td>\n",
              "      <td>0.000748</td>\n",
              "    </tr>\n",
              "    <tr>\n",
              "      <th>3</th>\n",
              "      <td>0.20</td>\n",
              "      <td>0.008000</td>\n",
              "      <td>0.052632</td>\n",
              "      <td>0.000421</td>\n",
              "      <td>0.001773</td>\n",
              "    </tr>\n",
              "    <tr>\n",
              "      <th>4</th>\n",
              "      <td>0.25</td>\n",
              "      <td>0.015625</td>\n",
              "      <td>0.052632</td>\n",
              "      <td>0.000822</td>\n",
              "      <td>0.003463</td>\n",
              "    </tr>\n",
              "    <tr>\n",
              "      <th>5</th>\n",
              "      <td>0.30</td>\n",
              "      <td>0.027000</td>\n",
              "      <td>0.052632</td>\n",
              "      <td>0.001421</td>\n",
              "      <td>0.005983</td>\n",
              "    </tr>\n",
              "    <tr>\n",
              "      <th>6</th>\n",
              "      <td>0.35</td>\n",
              "      <td>0.042875</td>\n",
              "      <td>0.052632</td>\n",
              "      <td>0.002257</td>\n",
              "      <td>0.009501</td>\n",
              "    </tr>\n",
              "    <tr>\n",
              "      <th>7</th>\n",
              "      <td>0.40</td>\n",
              "      <td>0.064000</td>\n",
              "      <td>0.052632</td>\n",
              "      <td>0.003368</td>\n",
              "      <td>0.014183</td>\n",
              "    </tr>\n",
              "    <tr>\n",
              "      <th>8</th>\n",
              "      <td>0.45</td>\n",
              "      <td>0.091125</td>\n",
              "      <td>0.052632</td>\n",
              "      <td>0.004796</td>\n",
              "      <td>0.020194</td>\n",
              "    </tr>\n",
              "    <tr>\n",
              "      <th>9</th>\n",
              "      <td>0.50</td>\n",
              "      <td>0.125000</td>\n",
              "      <td>0.052632</td>\n",
              "      <td>0.006579</td>\n",
              "      <td>0.027701</td>\n",
              "    </tr>\n",
              "    <tr>\n",
              "      <th>10</th>\n",
              "      <td>0.55</td>\n",
              "      <td>0.166375</td>\n",
              "      <td>0.052632</td>\n",
              "      <td>0.008757</td>\n",
              "      <td>0.036870</td>\n",
              "    </tr>\n",
              "    <tr>\n",
              "      <th>11</th>\n",
              "      <td>0.60</td>\n",
              "      <td>0.216000</td>\n",
              "      <td>0.052632</td>\n",
              "      <td>0.011368</td>\n",
              "      <td>0.047867</td>\n",
              "    </tr>\n",
              "    <tr>\n",
              "      <th>12</th>\n",
              "      <td>0.65</td>\n",
              "      <td>0.274625</td>\n",
              "      <td>0.052632</td>\n",
              "      <td>0.014454</td>\n",
              "      <td>0.060859</td>\n",
              "    </tr>\n",
              "    <tr>\n",
              "      <th>13</th>\n",
              "      <td>0.70</td>\n",
              "      <td>0.343000</td>\n",
              "      <td>0.052632</td>\n",
              "      <td>0.018053</td>\n",
              "      <td>0.076011</td>\n",
              "    </tr>\n",
              "    <tr>\n",
              "      <th>14</th>\n",
              "      <td>0.75</td>\n",
              "      <td>0.421875</td>\n",
              "      <td>0.052632</td>\n",
              "      <td>0.022204</td>\n",
              "      <td>0.093490</td>\n",
              "    </tr>\n",
              "    <tr>\n",
              "      <th>15</th>\n",
              "      <td>0.80</td>\n",
              "      <td>0.512000</td>\n",
              "      <td>0.052632</td>\n",
              "      <td>0.026947</td>\n",
              "      <td>0.113463</td>\n",
              "    </tr>\n",
              "    <tr>\n",
              "      <th>16</th>\n",
              "      <td>0.85</td>\n",
              "      <td>0.614125</td>\n",
              "      <td>0.052632</td>\n",
              "      <td>0.032322</td>\n",
              "      <td>0.136094</td>\n",
              "    </tr>\n",
              "    <tr>\n",
              "      <th>17</th>\n",
              "      <td>0.90</td>\n",
              "      <td>0.729000</td>\n",
              "      <td>0.052632</td>\n",
              "      <td>0.038368</td>\n",
              "      <td>0.161551</td>\n",
              "    </tr>\n",
              "    <tr>\n",
              "      <th>18</th>\n",
              "      <td>0.95</td>\n",
              "      <td>0.857375</td>\n",
              "      <td>0.052632</td>\n",
              "      <td>0.045125</td>\n",
              "      <td>0.190000</td>\n",
              "    </tr>\n",
              "  </tbody>\n",
              "</table>\n",
              "</div>"
            ],
            "text/plain": [
              "    theta  jointlik     prior  unnorm_post      post\n",
              "0    0.05  0.000125  0.052632     0.000007  0.000028\n",
              "1    0.10  0.001000  0.052632     0.000053  0.000222\n",
              "2    0.15  0.003375  0.052632     0.000178  0.000748\n",
              "3    0.20  0.008000  0.052632     0.000421  0.001773\n",
              "4    0.25  0.015625  0.052632     0.000822  0.003463\n",
              "5    0.30  0.027000  0.052632     0.001421  0.005983\n",
              "6    0.35  0.042875  0.052632     0.002257  0.009501\n",
              "7    0.40  0.064000  0.052632     0.003368  0.014183\n",
              "8    0.45  0.091125  0.052632     0.004796  0.020194\n",
              "9    0.50  0.125000  0.052632     0.006579  0.027701\n",
              "10   0.55  0.166375  0.052632     0.008757  0.036870\n",
              "11   0.60  0.216000  0.052632     0.011368  0.047867\n",
              "12   0.65  0.274625  0.052632     0.014454  0.060859\n",
              "13   0.70  0.343000  0.052632     0.018053  0.076011\n",
              "14   0.75  0.421875  0.052632     0.022204  0.093490\n",
              "15   0.80  0.512000  0.052632     0.026947  0.113463\n",
              "16   0.85  0.614125  0.052632     0.032322  0.136094\n",
              "17   0.90  0.729000  0.052632     0.038368  0.161551\n",
              "18   0.95  0.857375  0.052632     0.045125  0.190000"
            ]
          },
          "metadata": {
            "tags": []
          },
          "execution_count": 8
        }
      ]
    },
    {
      "cell_type": "code",
      "metadata": {
        "id": "7z6X_zLbO6YJ",
        "colab_type": "code",
        "outputId": "30f2e29c-88ac-44d6-f93f-03e6e15e5495",
        "colab": {
          "base_uri": "https://localhost:8080/",
          "height": 407
        }
      },
      "source": [
        "plt.figure(figsize=(16,6))\n",
        "plt.subplot(1,2,1)\n",
        "plt.stem(RES[\"theta\"],RES[\"prior\"])\n",
        "plt.xlabel(\"theta\")\n",
        "plt.ylabel(\"density\")\n",
        "plt.ylim([0,0.5])\n",
        "plt.title(\"prior \" +r\"$p(\\theta)$\",fontsize=14)\n",
        "plt.subplot(1,2,2)\n",
        "plt.stem(RES[\"theta\"],RES[\"post\"])\n",
        "plt.ylim([0,0.5])\n",
        "plt.xlabel(\"theta\")\n",
        "plt.ylabel(\"density\")\n",
        "plt.title(\"posterior \" +r\"$p(\\theta|D)$\",fontsize=14)\n",
        "plt.show()"
      ],
      "execution_count": 9,
      "outputs": [
        {
          "output_type": "display_data",
          "data": {
            "image/png": "[encoded data removed]",
            "text/plain": [
              "<Figure size 1152x432 with 2 Axes>"
            ]
          },
          "metadata": {
            "tags": []
          }
        }
      ]
    },
    {
      "cell_type": "code",
      "metadata": {
        "id": "L2RUS58hQwKk",
        "colab_type": "code",
        "outputId": "6fda0634-ba13-424b-c195-c9e7b4f181a1",
        "colab": {
          "base_uri": "https://localhost:8080/",
          "height": 35
        }
      },
      "source": [
        "np.sum((1-RES[\"theta\"])*RES[\"post\"]) # genährtes integral für teta-1\n"
      ],
      "execution_count": 10,
      "outputs": [
        {
          "output_type": "execute_result",
          "data": {
            "text/plain": [
              "0.22068421371448946"
            ]
          },
          "metadata": {
            "tags": []
          },
          "execution_count": 10
        }
      ]
    },
    {
      "cell_type": "code",
      "metadata": {
        "id": "ZjzmrjigRL-d",
        "colab_type": "code",
        "outputId": "1def3453-2f81-4cbf-b8ba-c9a29e67c66c",
        "colab": {
          "base_uri": "https://localhost:8080/",
          "height": 35
        }
      },
      "source": [
        "np.sum((RES[\"theta\"])*RES[\"post\"]) # genährtes integral"
      ],
      "execution_count": 11,
      "outputs": [
        {
          "output_type": "execute_result",
          "data": {
            "text/plain": [
              "0.7793157862855107"
            ]
          },
          "metadata": {
            "tags": []
          },
          "execution_count": 11
        }
      ]
    },
    {
      "cell_type": "code",
      "metadata": {
        "id": "LZQVQO_vRQOK",
        "colab_type": "code",
        "outputId": "33155770-28fa-42f9-f88d-d8ffb0c4eafd",
        "colab": {
          "base_uri": "https://localhost:8080/",
          "height": 35
        }
      },
      "source": [
        "np.sum((1-RES[\"theta\"])*RES[\"prior\"]) # genährtes integral für teta-1"
      ],
      "execution_count": 12,
      "outputs": [
        {
          "output_type": "execute_result",
          "data": {
            "text/plain": [
              "0.49999999999999994"
            ]
          },
          "metadata": {
            "tags": []
          },
          "execution_count": 12
        }
      ]
    },
    {
      "cell_type": "code",
      "metadata": {
        "id": "UeXeSy80cECH",
        "colab_type": "code",
        "outputId": "93ed3cf0-d762-47f1-898c-b47fd299aa35",
        "colab": {
          "base_uri": "https://localhost:8080/",
          "height": 35
        }
      },
      "source": [
        "np.sum((RES[\"theta\"])*RES[\"prior\"]) # genährtes integral für teta"
      ],
      "execution_count": 13,
      "outputs": [
        {
          "output_type": "execute_result",
          "data": {
            "text/plain": [
              "0.5"
            ]
          },
          "metadata": {
            "tags": []
          },
          "execution_count": 13
        }
      ]
    },
    {
      "cell_type": "code",
      "metadata": {
        "id": "T79DCZEOuwb4",
        "colab_type": "code",
        "outputId": "51b288bb-b712-49e3-9984-088c7c83ffb4",
        "colab": {
          "base_uri": "https://localhost:8080/",
          "height": 407
        }
      },
      "source": [
        "plt.figure(figsize=(16,6))\n",
        "plt.subplot(1,2,1)\n",
        "plt.stem([0,1],[np.sum((1-RES[\"theta\"])*RES[\"prior\"]),np.sum((RES[\"theta\"])*RES[\"prior\"])])\n",
        "plt.xlabel(\"Y\")\n",
        "plt.ylabel(\"P(y)\")\n",
        "plt.ylim([0,1])\n",
        "plt.title(\"predictive distribution \" +r\"$p(y)$\",fontsize=14)\n",
        "plt.xticks([0,1]) \n",
        "plt.subplot(1,2,2)\n",
        "plt.stem([0,1],[np.sum((1-RES[\"theta\"])*RES[\"post\"]),np.sum((RES[\"theta\"])*RES[\"post\"])])\n",
        "plt.ylim([0,1])\n",
        "plt.xlabel(\"Y\")\n",
        "plt.ylabel(\"P(y)\")\n",
        "plt.title(\"predictive distribution \" +r\"$p(y|D)$\",fontsize=14)\n",
        "plt.xticks([0,1]) \n",
        "plt.show()"
      ],
      "execution_count": 14,
      "outputs": [
        {
          "output_type": "display_data",
          "data": {
            "image/png": "[encoded data removed]",
            "text/plain": [
              "<Figure size 1152x432 with 2 Axes>"
            ]
          },
          "metadata": {
            "tags": []
          }
        }
      ]
    },
    {
      "cell_type": "code",
      "metadata": {
        "id": "p5C2O-aWagFK",
        "colab_type": "code",
        "outputId": "e8b899e0-2730-4637-fa4d-85bb680f2756",
        "colab": {
          "base_uri": "https://localhost:8080/",
          "height": 969
        }
      },
      "source": [
        "plt.figure(figsize=(22,16))\n",
        "plt.subplot(2,2,1)\n",
        "plt.stem(RES[\"theta\"],RES[\"prior\"])\n",
        "plt.xlabel(\"theta\",fontsize=20)\n",
        "plt.ylabel(\"density\",fontsize=20)\n",
        "plt.ylim([0,0.5])\n",
        "plt.title(\"prior \" +r\"$p(\\theta)$\",fontsize=20)\n",
        "plt.xticks(np.arange(0,1,0.1),fontsize=16) \n",
        "plt.yticks(np.arange(0,0.5,0.1),fontsize=16) \n",
        "plt.subplot(2,2,2)\n",
        "plt.stem(RES[\"theta\"],RES[\"post\"])\n",
        "plt.ylim([0,0.5])\n",
        "plt.xlabel(\"theta\",fontsize=20)\n",
        "plt.ylabel(\"density\",fontsize=20)\n",
        "plt.title(\"posterior \" +r\"$p(\\theta|D)$\",fontsize=20)\n",
        "plt.xticks(np.arange(0,1,0.1),fontsize=16) \n",
        "plt.yticks(np.arange(0,0.5,0.1),fontsize=16) \n",
        "\n",
        "plt.subplot(2,2,3)\n",
        "plt.stem([0,1],[np.sum((1-RES[\"theta\"])*RES[\"prior\"]),np.sum((RES[\"theta\"])*RES[\"prior\"])])\n",
        "plt.xlabel(\"Y\",fontsize=20)\n",
        "plt.ylabel(\"P(y)\",fontsize=20)\n",
        "plt.ylim([0,1])\n",
        "plt.title(\"predictive distribution \" +r\"$p(y)$\",fontsize=20)\n",
        "plt.xticks([0,1],fontsize=16) \n",
        "plt.yticks(np.arange(0,1,0.1),fontsize=16) \n",
        "\n",
        "plt.subplot(2,2,4)\n",
        "plt.stem([0,1],[np.sum((1-RES[\"theta\"])*RES[\"post\"]),np.sum((RES[\"theta\"])*RES[\"post\"])])\n",
        "plt.ylim([0,1])\n",
        "plt.xlabel(\"Y\",fontsize=20)\n",
        "plt.ylabel(\"P(y)\",fontsize=20)\n",
        "plt.title(\"predictive distribution \" +r\"$p(y|D)$\",fontsize=20)\n",
        "plt.xticks([0,1],fontsize=16) \n",
        "plt.yticks(np.arange(0,1,0.1),fontsize=16) \n",
        "#plt.show()\n",
        "plt.savefig(\"7.b2a.pdf\")\n",
        "from google.colab import files\n",
        "files.download('7.b2a.pdf') "
      ],
      "execution_count": 25,
      "outputs": [
        {
          "output_type": "display_data",
          "data": {
            "image/png": "[encoded data removed]",
            "text/plain": [
              "<Figure size 1584x1152 with 4 Axes>"
            ]
          },
          "metadata": {
            "tags": []
          }
        }
      ]
    },
    {
      "cell_type": "code",
      "metadata": {
        "id": "gi9mbjPPvLKs",
        "colab_type": "code",
        "outputId": "8075ee55-e4b9-4897-a961-2d10a609af72",
        "colab": {
          "base_uri": "https://localhost:8080/",
          "height": 35
        }
      },
      "source": [
        "[np.sum((1-RES[\"theta\"])*RES[\"post\"]),np.sum((RES[\"theta\"])*RES[\"post\"])]"
      ],
      "execution_count": 0,
      "outputs": [
        {
          "output_type": "execute_result",
          "data": {
            "text/plain": [
              "[0.22068421052631568, 0.7793157894736843]"
            ]
          },
          "metadata": {
            "tags": []
          },
          "execution_count": 49
        }
      ]
    },
    {
      "cell_type": "markdown",
      "metadata": {
        "id": "6O-XLU9BYy7T",
        "colab_type": "text"
      },
      "source": [
        "### Posterior and the predictive distribution for different observed data\n",
        "\n",
        "<img src=\"https://raw.githubusercontent.com/tensorchiefs/dl_book/master/imgs/paper-pen.png\" width=\"60\" align=\"left\" />  \n",
        "\n",
        "*Exercise 1: Let's assume fist you observed 40 times head and then you observed 11 times head and 9 times tail. How does the posterior and the predictive distribution look, for these two cases?*"
      ]
    },
    {
      "cell_type": "code",
      "metadata": {
        "id": "dUrZY3abdBPz",
        "colab_type": "code",
        "colab": {}
      },
      "source": [
        "# Write your code here"
      ],
      "execution_count": 0,
      "outputs": []
    },
    {
      "cell_type": "markdown",
      "metadata": {
        "id": "-OdDUr7odDoa",
        "colab_type": "text"
      },
      "source": [
        "Scroll down to see the solution.\n",
        "\n",
        "</br>\n",
        "</br>\n",
        "</br>\n",
        "</br>\n",
        "</br>\n",
        "</br>\n",
        "</br>\n",
        "</br>\n",
        "</br>\n",
        "</br>\n",
        "</br>\n",
        "</br>\n",
        "</br>\n",
        "</br>\n",
        "</br>\n",
        "</br>\n",
        "</br>\n",
        "</br>\n",
        "</br>\n",
        "</br>\n",
        "</br>"
      ]
    },
    {
      "cell_type": "code",
      "metadata": {
        "id": "2oCpkvDAMHUV",
        "colab_type": "code",
        "colab": {}
      },
      "source": [
        "obs_data=np.repeat(1,40)\n",
        "theta=np.arange(0.05,1,0.05)\n",
        "RES=np.zeros((len(theta),5))\n",
        "for i in range(0,len(theta)):\n",
        "  dist = tfp.distributions.Bernoulli(probs=theta[i])   \n",
        "  RES[i,0:4]=np.array((theta[i],np.prod(dist.prob(obs_data)),prior,np.prod(dist.prob(obs_data))*prior))\n",
        "RES=pd.DataFrame(RES,columns=[\"theta\",\"jointlik\",\"prior\",\"unnorm_post\",\"post\"])\n",
        "RES[\"post\"]=RES[\"unnorm_post\"]/np.sum(RES[\"unnorm_post\"])  "
      ],
      "execution_count": 0,
      "outputs": []
    },
    {
      "cell_type": "code",
      "metadata": {
        "id": "QjfdqUiLMHUa",
        "colab_type": "code",
        "outputId": "ef1ef117-edd9-4067-9390-eec7c47a33b0",
        "colab": {
          "base_uri": "https://localhost:8080/",
          "height": 405
        }
      },
      "source": [
        "plt.figure(figsize=(16,6))\n",
        "plt.subplot(1,2,1)\n",
        "plt.stem(RES[\"theta\"],RES[\"post\"])\n",
        "plt.ylim([0,1])\n",
        "plt.xlabel(\"theta\")\n",
        "plt.ylabel(\"density\")\n",
        "plt.title(\"posterior distribution\")\n",
        "plt.subplot(1,2,2)\n",
        "plt.stem([0,1],[np.sum((1-RES[\"theta\"])*RES[\"post\"]),np.sum((RES[\"theta\"])*RES[\"post\"])])\n",
        "plt.ylim([0,1])\n",
        "plt.xlabel(\"Y\")\n",
        "plt.ylabel(\"P(y)\")\n",
        "plt.title(\"posterior distribution\")\n",
        "plt.show()\n"
      ],
      "execution_count": 0,
      "outputs": [
        {
          "output_type": "display_data",
          "data": {
            "image/png": "[encoded data removed]",
            "text/plain": [
              "<Figure size 1152x432 with 2 Axes>"
            ]
          },
          "metadata": {
            "tags": []
          }
        }
      ]
    },
    {
      "cell_type": "code",
      "metadata": {
        "id": "sehkxNCba6oz",
        "colab_type": "code",
        "outputId": "5896d695-5785-4d45-c9cb-00f9a3cdf156",
        "colab": {
          "base_uri": "https://localhost:8080/",
          "height": 35
        }
      },
      "source": [
        "[np.sum((1-RES[\"theta\"])*RES[\"post\"]),np.sum((RES[\"theta\"])*RES[\"post\"])]"
      ],
      "execution_count": 0,
      "outputs": [
        {
          "output_type": "execute_result",
          "data": {
            "text/plain": [
              "[0.05628811827850312, 0.943711881721497]"
            ]
          },
          "metadata": {
            "tags": []
          },
          "execution_count": 54
        }
      ]
    },
    {
      "cell_type": "code",
      "metadata": {
        "id": "i1iP-dYYbZm0",
        "colab_type": "code",
        "colab": {}
      },
      "source": [
        "obs_data=np.concatenate((np.repeat(1,11),np.repeat(0,9)))\n",
        "theta=np.arange(0.05,1,0.05)\n",
        "RES=np.zeros((len(theta),5))\n",
        "for i in range(0,len(theta)):\n",
        "  dist = tfp.distributions.Bernoulli(probs=theta[i])   \n",
        "  RES[i,0:4]=np.array((theta[i],np.prod(dist.prob(obs_data)),prior,np.prod(dist.prob(obs_data))*prior))\n",
        "RES=pd.DataFrame(RES,columns=[\"theta\",\"jointlik\",\"prior\",\"unnorm_post\",\"post\"])\n",
        "RES[\"post\"]=RES[\"unnorm_post\"]/np.sum(RES[\"unnorm_post\"])  "
      ],
      "execution_count": 0,
      "outputs": []
    },
    {
      "cell_type": "code",
      "metadata": {
        "id": "Rjc99SMScz-q",
        "colab_type": "code",
        "outputId": "0e5c3f5a-a348-47f3-d182-9f743b188291",
        "colab": {
          "base_uri": "https://localhost:8080/",
          "height": 405
        }
      },
      "source": [
        "plt.figure(figsize=(16,6))\n",
        "plt.subplot(1,2,1)\n",
        "plt.stem(RES[\"theta\"],RES[\"post\"])\n",
        "plt.ylim([0,1])\n",
        "plt.xlabel(\"theta\")\n",
        "plt.ylabel(\"density\")\n",
        "plt.title(\"posterior distribution\")\n",
        "plt.subplot(1,2,2)\n",
        "plt.stem([0,1],[np.sum((1-RES[\"theta\"])*RES[\"post\"]),np.sum((RES[\"theta\"])*RES[\"post\"])])\n",
        "plt.ylim([0,1])\n",
        "plt.xlabel(\"Y\")\n",
        "plt.ylabel(\"P(y)\")\n",
        "plt.title(\"posterior distribution\")\n",
        "plt.show()\n"
      ],
      "execution_count": 0,
      "outputs": [
        {
          "output_type": "display_data",
          "data": {
            "image/png": "[encoded data removed]",
            "text/plain": [
              "<Figure size 1152x432 with 2 Axes>"
            ]
          },
          "metadata": {
            "tags": []
          }
        }
      ]
    },
    {
      "cell_type": "code",
      "metadata": {
        "id": "5qiJsGftc4HE",
        "colab_type": "code",
        "outputId": "7f2c00c3-67a0-4e72-ff77-29eec19aebcb",
        "colab": {
          "base_uri": "https://localhost:8080/",
          "height": 35
        }
      },
      "source": [
        "[np.sum((1-RES[\"theta\"])*RES[\"post\"]),np.sum((RES[\"theta\"])*RES[\"post\"])]"
      ],
      "execution_count": 0,
      "outputs": [
        {
          "output_type": "execute_result",
          "data": {
            "text/plain": [
              "[0.4545454551377407, 0.5454545448622592]"
            ]
          },
          "metadata": {
            "tags": []
          },
          "execution_count": 57
        }
      ]
    },
    {
      "cell_type": "markdown",
      "metadata": {
        "id": "yL6K_2GlpO8W",
        "colab_type": "text"
      },
      "source": [
        "### Different prior\n",
        "\n",
        "<img src=\"https://raw.githubusercontent.com/tensorchiefs/dl_book/master/imgs/paper-pen.png\" width=\"60\" align=\"left\" />  \n",
        "\n",
        "*Exercise 2: Let's now repeat the experiment with a non-uniform distributed prior. You will use a halfcircle as prior. With this prior calculate again the posterior when you fist observe 40 times head and then you observed 11 times head and 9 times tail. How does the posterior and the predictive distribution look with the new prior?*"
      ]
    },
    {
      "cell_type": "code",
      "metadata": {
        "id": "T-lnHLIPc6yp",
        "colab_type": "code",
        "colab": {}
      },
      "source": [
        "prior=np.sqrt(np.square(0.5)-np.square(theta-0.5))-0.2\n",
        "prior=prior/np.sum(prior)#normalzation"
      ],
      "execution_count": 0,
      "outputs": []
    },
    {
      "cell_type": "code",
      "metadata": {
        "id": "eX5soBHCq46R",
        "colab_type": "code",
        "outputId": "9b9f864b-ecef-4ec4-c513-dbda0fb0f8e0",
        "colab": {
          "base_uri": "https://localhost:8080/",
          "height": 287
        }
      },
      "source": [
        "plt.stem(theta,prior)\n",
        "plt.xlim([0,1])"
      ],
      "execution_count": 0,
      "outputs": [
        {
          "output_type": "execute_result",
          "data": {
            "text/plain": [
              "(0, 1)"
            ]
          },
          "metadata": {
            "tags": []
          },
          "execution_count": 59
        },
        {
          "output_type": "display_data",
          "data": {
            "image/png": "[encoded data removed]",
            "text/plain": [
              "<Figure size 432x288 with 1 Axes>"
            ]
          },
          "metadata": {
            "tags": []
          }
        }
      ]
    },
    {
      "cell_type": "markdown",
      "metadata": {
        "id": "7GbiabtT9fI3",
        "colab_type": "text"
      },
      "source": [
        "Scroll down to see the solution.\n",
        "\n",
        "</br>\n",
        "</br>\n",
        "</br>\n",
        "</br>\n",
        "</br>\n",
        "</br>\n",
        "</br>\n",
        "</br>\n",
        "</br>\n",
        "</br>\n",
        "</br>\n",
        "</br>\n",
        "</br>\n",
        "</br>\n",
        "</br>\n",
        "</br>\n",
        "</br>\n",
        "</br>\n",
        "</br>\n",
        "</br>\n",
        "</br>"
      ]
    },
    {
      "cell_type": "code",
      "metadata": {
        "id": "Q4kQ4H9eq7qg",
        "colab_type": "code",
        "outputId": "0514d114-3254-4e2e-9d90-c5e4d9ded191",
        "colab": {
          "base_uri": "https://localhost:8080/",
          "height": 631
        }
      },
      "source": [
        "obs_data=np.repeat(1,40)\n",
        "theta=np.arange(0.05,1,0.05)\n",
        "RES=np.zeros((len(theta),5))\n",
        "for i in range(0,len(theta)):\n",
        "  dist = tfp.distributions.Bernoulli(probs=theta[i])   \n",
        "  RES[i,0:4]=np.array((theta[i],np.prod(dist.prob(obs_data)),prior[i],np.prod(dist.prob(obs_data))*prior[i]))\n",
        "RES=pd.DataFrame(RES,columns=[\"theta\",\"jointlik\",\"prior\",\"unnorm_post\",\"post\"])\n",
        "RES[\"post\"]=RES[\"unnorm_post\"]/np.sum(RES[\"unnorm_post\"])  \n",
        "RES"
      ],
      "execution_count": 0,
      "outputs": [
        {
          "output_type": "execute_result",
          "data": {
            "text/html": [
              "<div>\n",
              "<style scoped>\n",
              "    .dataframe tbody tr th:only-of-type {\n",
              "        vertical-align: middle;\n",
              "    }\n",
              "\n",
              "    .dataframe tbody tr th {\n",
              "        vertical-align: top;\n",
              "    }\n",
              "\n",
              "    .dataframe thead th {\n",
              "        text-align: right;\n",
              "    }\n",
              "</style>\n",
              "<table border=\"1\" class=\"dataframe\">\n",
              "  <thead>\n",
              "    <tr style=\"text-align: right;\">\n",
              "      <th></th>\n",
              "      <th>theta</th>\n",
              "      <th>jointlik</th>\n",
              "      <th>prior</th>\n",
              "      <th>unnorm_post</th>\n",
              "      <th>post</th>\n",
              "    </tr>\n",
              "  </thead>\n",
              "  <tbody>\n",
              "    <tr>\n",
              "      <th>0</th>\n",
              "      <td>0.05</td>\n",
              "      <td>9.094947e-53</td>\n",
              "      <td>0.004530</td>\n",
              "      <td>4.120075e-55</td>\n",
              "      <td>4.030530e-52</td>\n",
              "    </tr>\n",
              "    <tr>\n",
              "      <th>1</th>\n",
              "      <td>0.10</td>\n",
              "      <td>1.000000e-40</td>\n",
              "      <td>0.025244</td>\n",
              "      <td>2.524426e-42</td>\n",
              "      <td>2.469561e-39</td>\n",
              "    </tr>\n",
              "    <tr>\n",
              "      <th>2</th>\n",
              "      <td>0.15</td>\n",
              "      <td>1.105733e-33</td>\n",
              "      <td>0.039652</td>\n",
              "      <td>4.384401e-35</td>\n",
              "      <td>4.289111e-32</td>\n",
              "    </tr>\n",
              "    <tr>\n",
              "      <th>3</th>\n",
              "      <td>0.20</td>\n",
              "      <td>1.099512e-28</td>\n",
              "      <td>0.050489</td>\n",
              "      <td>5.551273e-30</td>\n",
              "      <td>5.430622e-27</td>\n",
              "    </tr>\n",
              "    <tr>\n",
              "      <th>4</th>\n",
              "      <td>0.25</td>\n",
              "      <td>8.271806e-25</td>\n",
              "      <td>0.058822</td>\n",
              "      <td>4.865670e-26</td>\n",
              "      <td>4.759921e-23</td>\n",
              "    </tr>\n",
              "    <tr>\n",
              "      <th>5</th>\n",
              "      <td>0.30</td>\n",
              "      <td>1.215767e-21</td>\n",
              "      <td>0.065195</td>\n",
              "      <td>7.926217e-23</td>\n",
              "      <td>7.753950e-20</td>\n",
              "    </tr>\n",
              "    <tr>\n",
              "      <th>6</th>\n",
              "      <td>0.35</td>\n",
              "      <td>5.790576e-19</td>\n",
              "      <td>0.069919</td>\n",
              "      <td>4.048709e-20</td>\n",
              "      <td>3.960716e-17</td>\n",
              "    </tr>\n",
              "    <tr>\n",
              "      <th>7</th>\n",
              "      <td>0.40</td>\n",
              "      <td>1.208926e-16</td>\n",
              "      <td>0.073183</td>\n",
              "      <td>8.847234e-18</td>\n",
              "      <td>8.654950e-15</td>\n",
              "    </tr>\n",
              "    <tr>\n",
              "      <th>8</th>\n",
              "      <td>0.45</td>\n",
              "      <td>1.344313e-14</td>\n",
              "      <td>0.075100</td>\n",
              "      <td>1.009581e-15</td>\n",
              "      <td>9.876388e-13</td>\n",
              "    </tr>\n",
              "    <tr>\n",
              "      <th>9</th>\n",
              "      <td>0.50</td>\n",
              "      <td>9.094947e-13</td>\n",
              "      <td>0.075733</td>\n",
              "      <td>6.887857e-14</td>\n",
              "      <td>6.738158e-11</td>\n",
              "    </tr>\n",
              "    <tr>\n",
              "      <th>10</th>\n",
              "      <td>0.55</td>\n",
              "      <td>4.116305e-11</td>\n",
              "      <td>0.075100</td>\n",
              "      <td>3.091349e-12</td>\n",
              "      <td>3.024163e-09</td>\n",
              "    </tr>\n",
              "    <tr>\n",
              "      <th>11</th>\n",
              "      <td>0.60</td>\n",
              "      <td>1.336749e-09</td>\n",
              "      <td>0.073183</td>\n",
              "      <td>9.782681e-11</td>\n",
              "      <td>9.570066e-08</td>\n",
              "    </tr>\n",
              "    <tr>\n",
              "      <th>12</th>\n",
              "      <td>0.65</td>\n",
              "      <td>3.284992e-08</td>\n",
              "      <td>0.069919</td>\n",
              "      <td>2.296831e-09</td>\n",
              "      <td>2.246912e-06</td>\n",
              "    </tr>\n",
              "    <tr>\n",
              "      <th>13</th>\n",
              "      <td>0.70</td>\n",
              "      <td>6.366806e-07</td>\n",
              "      <td>0.065195</td>\n",
              "      <td>4.150853e-08</td>\n",
              "      <td>4.060639e-05</td>\n",
              "    </tr>\n",
              "    <tr>\n",
              "      <th>14</th>\n",
              "      <td>0.75</td>\n",
              "      <td>1.005659e-05</td>\n",
              "      <td>0.058822</td>\n",
              "      <td>5.915519e-07</td>\n",
              "      <td>5.786952e-04</td>\n",
              "    </tr>\n",
              "    <tr>\n",
              "      <th>15</th>\n",
              "      <td>0.80</td>\n",
              "      <td>1.329228e-04</td>\n",
              "      <td>0.050489</td>\n",
              "      <td>6.711077e-06</td>\n",
              "      <td>6.565219e-03</td>\n",
              "    </tr>\n",
              "    <tr>\n",
              "      <th>16</th>\n",
              "      <td>0.85</td>\n",
              "      <td>1.502301e-03</td>\n",
              "      <td>0.039652</td>\n",
              "      <td>5.956854e-05</td>\n",
              "      <td>5.827389e-02</td>\n",
              "    </tr>\n",
              "    <tr>\n",
              "      <th>17</th>\n",
              "      <td>0.90</td>\n",
              "      <td>1.478088e-02</td>\n",
              "      <td>0.025244</td>\n",
              "      <td>3.731325e-04</td>\n",
              "      <td>3.650229e-01</td>\n",
              "    </tr>\n",
              "    <tr>\n",
              "      <th>18</th>\n",
              "      <td>0.95</td>\n",
              "      <td>1.285122e-01</td>\n",
              "      <td>0.004530</td>\n",
              "      <td>5.821691e-04</td>\n",
              "      <td>5.695163e-01</td>\n",
              "    </tr>\n",
              "  </tbody>\n",
              "</table>\n",
              "</div>"
            ],
            "text/plain": [
              "    theta      jointlik     prior   unnorm_post          post\n",
              "0    0.05  9.094947e-53  0.004530  4.120075e-55  4.030530e-52\n",
              "1    0.10  1.000000e-40  0.025244  2.524426e-42  2.469561e-39\n",
              "2    0.15  1.105733e-33  0.039652  4.384401e-35  4.289111e-32\n",
              "3    0.20  1.099512e-28  0.050489  5.551273e-30  5.430622e-27\n",
              "4    0.25  8.271806e-25  0.058822  4.865670e-26  4.759921e-23\n",
              "5    0.30  1.215767e-21  0.065195  7.926217e-23  7.753950e-20\n",
              "6    0.35  5.790576e-19  0.069919  4.048709e-20  3.960716e-17\n",
              "7    0.40  1.208926e-16  0.073183  8.847234e-18  8.654950e-15\n",
              "8    0.45  1.344313e-14  0.075100  1.009581e-15  9.876388e-13\n",
              "9    0.50  9.094947e-13  0.075733  6.887857e-14  6.738158e-11\n",
              "10   0.55  4.116305e-11  0.075100  3.091349e-12  3.024163e-09\n",
              "11   0.60  1.336749e-09  0.073183  9.782681e-11  9.570066e-08\n",
              "12   0.65  3.284992e-08  0.069919  2.296831e-09  2.246912e-06\n",
              "13   0.70  6.366806e-07  0.065195  4.150853e-08  4.060639e-05\n",
              "14   0.75  1.005659e-05  0.058822  5.915519e-07  5.786952e-04\n",
              "15   0.80  1.329228e-04  0.050489  6.711077e-06  6.565219e-03\n",
              "16   0.85  1.502301e-03  0.039652  5.956854e-05  5.827389e-02\n",
              "17   0.90  1.478088e-02  0.025244  3.731325e-04  3.650229e-01\n",
              "18   0.95  1.285122e-01  0.004530  5.821691e-04  5.695163e-01"
            ]
          },
          "metadata": {
            "tags": []
          },
          "execution_count": 60
        }
      ]
    },
    {
      "cell_type": "code",
      "metadata": {
        "id": "WtHtCIcm8nkB",
        "colab_type": "code",
        "outputId": "78174e2c-75b2-4d41-a9f0-b2fd305ed203",
        "colab": {
          "base_uri": "https://localhost:8080/",
          "height": 405
        }
      },
      "source": [
        "plt.figure(figsize=(16,6))\n",
        "plt.subplot(1,2,1)\n",
        "plt.stem([0,1],[np.sum((1-RES[\"theta\"])*RES[\"prior\"]),np.sum((RES[\"theta\"])*RES[\"prior\"])])\n",
        "plt.xlabel(\"Y\")\n",
        "plt.ylabel(\"P(y)\")\n",
        "plt.ylim([0,1])\n",
        "plt.title(\"prior distribution\")\n",
        "plt.subplot(1,2,2)\n",
        "plt.stem([0,1],[np.sum((1-RES[\"theta\"])*RES[\"post\"]),np.sum((RES[\"theta\"])*RES[\"post\"])])\n",
        "plt.ylim([0,1])\n",
        "plt.xlabel(\"Y\")\n",
        "plt.ylabel(\"P(y)\")\n",
        "plt.title(\"posterior distribution\")\n",
        "plt.show()"
      ],
      "execution_count": 0,
      "outputs": [
        {
          "output_type": "display_data",
          "data": {
            "image/png": "[encoded data removed]",
            "text/plain": [
              "<Figure size 1152x432 with 2 Axes>"
            ]
          },
          "metadata": {
            "tags": []
          }
        }
      ]
    },
    {
      "cell_type": "code",
      "metadata": {
        "id": "ImpZYlWO74l3",
        "colab_type": "code",
        "outputId": "8473b995-6d25-4c02-e81c-8839d2ad84dc",
        "colab": {
          "base_uri": "https://localhost:8080/",
          "height": 405
        }
      },
      "source": [
        "plt.figure(figsize=(16,6))\n",
        "plt.subplot(1,2,1)\n",
        "plt.stem(RES[\"theta\"],RES[\"post\"])\n",
        "plt.ylim([0,1])\n",
        "plt.xlabel(\"theta\")\n",
        "plt.ylabel(\"density\")\n",
        "plt.title(\"posterior distribution\")\n",
        "plt.subplot(1,2,2)\n",
        "plt.stem([0,1],[np.sum((1-RES[\"theta\"])*RES[\"post\"]),np.sum((RES[\"theta\"])*RES[\"post\"])])\n",
        "plt.ylim([0,1])\n",
        "plt.xlabel(\"Y\")\n",
        "plt.ylabel(\"P(y)\")\n",
        "plt.title(\"posterior distribution\")\n",
        "plt.show()\n"
      ],
      "execution_count": 0,
      "outputs": [
        {
          "output_type": "display_data",
          "data": {
            "image/png": "[encoded data removed]",
            "text/plain": [
              "<Figure size 1152x432 with 2 Axes>"
            ]
          },
          "metadata": {
            "tags": []
          }
        }
      ]
    },
    {
      "cell_type": "code",
      "metadata": {
        "id": "PQYqEkvc8O5S",
        "colab_type": "code",
        "outputId": "04a517d8-881c-4fc7-cd49-c2dc2ea51c12",
        "colab": {
          "base_uri": "https://localhost:8080/",
          "height": 35
        }
      },
      "source": [
        "[np.sum((1-RES[\"theta\"])*RES[\"post\"]),np.sum((RES[\"theta\"])*RES[\"post\"])]"
      ],
      "execution_count": 0,
      "outputs": [
        {
          "output_type": "execute_result",
          "data": {
            "text/plain": [
              "[0.07518991759722617, 0.9248100824027736]"
            ]
          },
          "metadata": {
            "tags": []
          },
          "execution_count": 63
        }
      ]
    },
    {
      "cell_type": "code",
      "metadata": {
        "id": "Am6ntqgi8Usa",
        "colab_type": "code",
        "outputId": "d9745a1a-8166-437a-d6fd-6c7d34df5543",
        "colab": {
          "base_uri": "https://localhost:8080/",
          "height": 631
        }
      },
      "source": [
        "obs_data=np.concatenate((np.repeat(1,11),np.repeat(0,9)))\n",
        "theta=np.arange(0.05,1,0.05)\n",
        "RES=np.zeros((len(theta),5))\n",
        "for i in range(0,len(theta)):\n",
        "  dist = tfp.distributions.Bernoulli(probs=theta[i])   \n",
        "  RES[i,0:4]=np.array((theta[i],np.prod(dist.prob(obs_data)),prior[i],np.prod(dist.prob(obs_data))*prior[i]))\n",
        "RES=pd.DataFrame(RES,columns=[\"theta\",\"jointlik\",\"prior\",\"unnorm_post\",\"post\"])\n",
        "RES[\"post\"]=RES[\"unnorm_post\"]/np.sum(RES[\"unnorm_post\"])  \n",
        "RES"
      ],
      "execution_count": 0,
      "outputs": [
        {
          "output_type": "execute_result",
          "data": {
            "text/html": [
              "<div>\n",
              "<style scoped>\n",
              "    .dataframe tbody tr th:only-of-type {\n",
              "        vertical-align: middle;\n",
              "    }\n",
              "\n",
              "    .dataframe tbody tr th {\n",
              "        vertical-align: top;\n",
              "    }\n",
              "\n",
              "    .dataframe thead th {\n",
              "        text-align: right;\n",
              "    }\n",
              "</style>\n",
              "<table border=\"1\" class=\"dataframe\">\n",
              "  <thead>\n",
              "    <tr style=\"text-align: right;\">\n",
              "      <th></th>\n",
              "      <th>theta</th>\n",
              "      <th>jointlik</th>\n",
              "      <th>prior</th>\n",
              "      <th>unnorm_post</th>\n",
              "      <th>post</th>\n",
              "    </tr>\n",
              "  </thead>\n",
              "  <tbody>\n",
              "    <tr>\n",
              "      <th>0</th>\n",
              "      <td>0.05</td>\n",
              "      <td>3.077390e-15</td>\n",
              "      <td>0.004530</td>\n",
              "      <td>1.394079e-17</td>\n",
              "      <td>3.397537e-11</td>\n",
              "    </tr>\n",
              "    <tr>\n",
              "      <th>1</th>\n",
              "      <td>0.10</td>\n",
              "      <td>3.874205e-12</td>\n",
              "      <td>0.025244</td>\n",
              "      <td>9.780145e-14</td>\n",
              "      <td>2.383538e-07</td>\n",
              "    </tr>\n",
              "    <tr>\n",
              "      <th>2</th>\n",
              "      <td>0.15</td>\n",
              "      <td>2.003430e-10</td>\n",
              "      <td>0.039652</td>\n",
              "      <td>7.943906e-12</td>\n",
              "      <td>1.936025e-05</td>\n",
              "    </tr>\n",
              "    <tr>\n",
              "      <th>3</th>\n",
              "      <td>0.20</td>\n",
              "      <td>2.748779e-09</td>\n",
              "      <td>0.050489</td>\n",
              "      <td>1.387818e-10</td>\n",
              "      <td>3.382278e-04</td>\n",
              "    </tr>\n",
              "    <tr>\n",
              "      <th>4</th>\n",
              "      <td>0.25</td>\n",
              "      <td>1.790158e-08</td>\n",
              "      <td>0.058822</td>\n",
              "      <td>1.053013e-09</td>\n",
              "      <td>2.566319e-03</td>\n",
              "    </tr>\n",
              "    <tr>\n",
              "      <th>5</th>\n",
              "      <td>0.30</td>\n",
              "      <td>7.148520e-08</td>\n",
              "      <td>0.065195</td>\n",
              "      <td>4.660494e-09</td>\n",
              "      <td>1.135818e-02</td>\n",
              "    </tr>\n",
              "    <tr>\n",
              "      <th>6</th>\n",
              "      <td>0.35</td>\n",
              "      <td>1.999718e-07</td>\n",
              "      <td>0.069919</td>\n",
              "      <td>1.398181e-08</td>\n",
              "      <td>3.407535e-02</td>\n",
              "    </tr>\n",
              "    <tr>\n",
              "      <th>7</th>\n",
              "      <td>0.40</td>\n",
              "      <td>4.226892e-07</td>\n",
              "      <td>0.073183</td>\n",
              "      <td>3.093350e-08</td>\n",
              "      <td>7.538862e-02</td>\n",
              "    </tr>\n",
              "    <tr>\n",
              "      <th>8</th>\n",
              "      <td>0.45</td>\n",
              "      <td>7.056703e-07</td>\n",
              "      <td>0.075100</td>\n",
              "      <td>5.299591e-08</td>\n",
              "      <td>1.291574e-01</td>\n",
              "    </tr>\n",
              "    <tr>\n",
              "      <th>9</th>\n",
              "      <td>0.50</td>\n",
              "      <td>9.536743e-07</td>\n",
              "      <td>0.075733</td>\n",
              "      <td>7.222442e-08</td>\n",
              "      <td>1.760195e-01</td>\n",
              "    </tr>\n",
              "    <tr>\n",
              "      <th>10</th>\n",
              "      <td>0.55</td>\n",
              "      <td>1.054150e-06</td>\n",
              "      <td>0.075100</td>\n",
              "      <td>7.916673e-08</td>\n",
              "      <td>1.929388e-01</td>\n",
              "    </tr>\n",
              "    <tr>\n",
              "      <th>11</th>\n",
              "      <td>0.60</td>\n",
              "      <td>9.510507e-07</td>\n",
              "      <td>0.073183</td>\n",
              "      <td>6.960037e-08</td>\n",
              "      <td>1.696244e-01</td>\n",
              "    </tr>\n",
              "    <tr>\n",
              "      <th>12</th>\n",
              "      <td>0.65</td>\n",
              "      <td>6.896986e-07</td>\n",
              "      <td>0.069919</td>\n",
              "      <td>4.822299e-08</td>\n",
              "      <td>1.175252e-01</td>\n",
              "    </tr>\n",
              "    <tr>\n",
              "      <th>13</th>\n",
              "      <td>0.70</td>\n",
              "      <td>3.891972e-07</td>\n",
              "      <td>0.065195</td>\n",
              "      <td>2.537380e-08</td>\n",
              "      <td>6.183898e-02</td>\n",
              "    </tr>\n",
              "    <tr>\n",
              "      <th>14</th>\n",
              "      <td>0.75</td>\n",
              "      <td>1.611143e-07</td>\n",
              "      <td>0.058822</td>\n",
              "      <td>9.477118e-09</td>\n",
              "      <td>2.309687e-02</td>\n",
              "    </tr>\n",
              "    <tr>\n",
              "      <th>15</th>\n",
              "      <td>0.80</td>\n",
              "      <td>4.398047e-08</td>\n",
              "      <td>0.050489</td>\n",
              "      <td>2.220509e-09</td>\n",
              "      <td>5.411645e-03</td>\n",
              "    </tr>\n",
              "    <tr>\n",
              "      <th>16</th>\n",
              "      <td>0.85</td>\n",
              "      <td>6.433236e-09</td>\n",
              "      <td>0.039652</td>\n",
              "      <td>2.550876e-10</td>\n",
              "      <td>6.216790e-04</td>\n",
              "    </tr>\n",
              "    <tr>\n",
              "      <th>17</th>\n",
              "      <td>0.90</td>\n",
              "      <td>3.138106e-10</td>\n",
              "      <td>0.025244</td>\n",
              "      <td>7.921918e-12</td>\n",
              "      <td>1.930666e-05</td>\n",
              "    </tr>\n",
              "    <tr>\n",
              "      <th>18</th>\n",
              "      <td>0.95</td>\n",
              "      <td>1.110938e-12</td>\n",
              "      <td>0.004530</td>\n",
              "      <td>5.032625e-15</td>\n",
              "      <td>1.226511e-08</td>\n",
              "    </tr>\n",
              "  </tbody>\n",
              "</table>\n",
              "</div>"
            ],
            "text/plain": [
              "    theta      jointlik     prior   unnorm_post          post\n",
              "0    0.05  3.077390e-15  0.004530  1.394079e-17  3.397537e-11\n",
              "1    0.10  3.874205e-12  0.025244  9.780145e-14  2.383538e-07\n",
              "2    0.15  2.003430e-10  0.039652  7.943906e-12  1.936025e-05\n",
              "3    0.20  2.748779e-09  0.050489  1.387818e-10  3.382278e-04\n",
              "4    0.25  1.790158e-08  0.058822  1.053013e-09  2.566319e-03\n",
              "5    0.30  7.148520e-08  0.065195  4.660494e-09  1.135818e-02\n",
              "6    0.35  1.999718e-07  0.069919  1.398181e-08  3.407535e-02\n",
              "7    0.40  4.226892e-07  0.073183  3.093350e-08  7.538862e-02\n",
              "8    0.45  7.056703e-07  0.075100  5.299591e-08  1.291574e-01\n",
              "9    0.50  9.536743e-07  0.075733  7.222442e-08  1.760195e-01\n",
              "10   0.55  1.054150e-06  0.075100  7.916673e-08  1.929388e-01\n",
              "11   0.60  9.510507e-07  0.073183  6.960037e-08  1.696244e-01\n",
              "12   0.65  6.896986e-07  0.069919  4.822299e-08  1.175252e-01\n",
              "13   0.70  3.891972e-07  0.065195  2.537380e-08  6.183898e-02\n",
              "14   0.75  1.611143e-07  0.058822  9.477118e-09  2.309687e-02\n",
              "15   0.80  4.398047e-08  0.050489  2.220509e-09  5.411645e-03\n",
              "16   0.85  6.433236e-09  0.039652  2.550876e-10  6.216790e-04\n",
              "17   0.90  3.138106e-10  0.025244  7.921918e-12  1.930666e-05\n",
              "18   0.95  1.110938e-12  0.004530  5.032625e-15  1.226511e-08"
            ]
          },
          "metadata": {
            "tags": []
          },
          "execution_count": 64
        }
      ]
    },
    {
      "cell_type": "code",
      "metadata": {
        "id": "3afjJZJb86eI",
        "colab_type": "code",
        "outputId": "c4ce7940-7cc3-4a72-a1d5-08e0697750ba",
        "colab": {
          "base_uri": "https://localhost:8080/",
          "height": 405
        }
      },
      "source": [
        "plt.figure(figsize=(16,6))\n",
        "plt.subplot(1,2,1)\n",
        "plt.stem([0,1],[np.sum((1-RES[\"theta\"])*RES[\"prior\"]),np.sum((RES[\"theta\"])*RES[\"prior\"])])\n",
        "plt.xlabel(\"Y\")\n",
        "plt.ylabel(\"P(y)\")\n",
        "plt.ylim([0,1])\n",
        "plt.title(\"prior distribution\")\n",
        "plt.subplot(1,2,2)\n",
        "plt.stem([0,1],[np.sum((1-RES[\"theta\"])*RES[\"post\"]),np.sum((RES[\"theta\"])*RES[\"post\"])])\n",
        "plt.ylim([0,1])\n",
        "plt.xlabel(\"Y\")\n",
        "plt.ylabel(\"P(y)\")\n",
        "plt.title(\"posterior distribution\")\n",
        "plt.show()"
      ],
      "execution_count": 0,
      "outputs": [
        {
          "output_type": "display_data",
          "data": {
            "image/png": "[encoded data removed]",
            "text/plain": [
              "<Figure size 1152x432 with 2 Axes>"
            ]
          },
          "metadata": {
            "tags": []
          }
        }
      ]
    },
    {
      "cell_type": "code",
      "metadata": {
        "id": "UKom4dgQ89nQ",
        "colab_type": "code",
        "outputId": "7ad89acb-a0f2-416b-de54-f7cb6a57725a",
        "colab": {
          "base_uri": "https://localhost:8080/",
          "height": 405
        }
      },
      "source": [
        "plt.figure(figsize=(16,6))\n",
        "plt.subplot(1,2,1)\n",
        "plt.stem(RES[\"theta\"],RES[\"post\"])\n",
        "plt.ylim([0,1])\n",
        "plt.xlabel(\"theta\")\n",
        "plt.ylabel(\"density\")\n",
        "plt.title(\"posterior distribution\")\n",
        "plt.subplot(1,2,2)\n",
        "plt.stem([0,1],[np.sum((1-RES[\"theta\"])*RES[\"post\"]),np.sum((RES[\"theta\"])*RES[\"post\"])])\n",
        "plt.ylim([0,1])\n",
        "plt.xlabel(\"Y\")\n",
        "plt.ylabel(\"P(y)\")\n",
        "plt.title(\"posterior distribution\")\n",
        "plt.show()\n"
      ],
      "execution_count": 0,
      "outputs": [
        {
          "output_type": "display_data",
          "data": {
            "image/png": "[encoded data removed]",
            "text/plain": [
              "<Figure size 1152x432 with 2 Axes>"
            ]
          },
          "metadata": {
            "tags": []
          }
        }
      ]
    },
    {
      "cell_type": "code",
      "metadata": {
        "id": "TrXOlt-W9Iwh",
        "colab_type": "code",
        "outputId": "be5729db-0651-4f29-f53d-60cbe3fae380",
        "colab": {
          "base_uri": "https://localhost:8080/",
          "height": 35
        }
      },
      "source": [
        "[np.sum((1-RES[\"theta\"])*RES[\"post\"]),np.sum((RES[\"theta\"])*RES[\"post\"])]"
      ],
      "execution_count": 0,
      "outputs": [
        {
          "output_type": "execute_result",
          "data": {
            "text/plain": [
              "[0.4579006113490388, 0.5420993886509612]"
            ]
          },
          "metadata": {
            "tags": []
          },
          "execution_count": 67
        }
      ]
    },
    {
      "cell_type": "code",
      "metadata": {
        "id": "ynbLxmnH9P-p",
        "colab_type": "code",
        "colab": {}
      },
      "source": [
        ""
      ],
      "execution_count": 0,
      "outputs": []
    }
  ]
}