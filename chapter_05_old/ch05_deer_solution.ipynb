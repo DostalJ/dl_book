{
  "nbformat": 4,
  "nbformat_minor": 0,
  "metadata": {
    "colab": {
      "name": "ch05_deer_solution.ipynb",
      "version": "0.3.2",
      "provenance": [],
      "toc_visible": true
    },
    "language_info": {
      "codemirror_mode": {
        "name": "ipython",
        "version": 3
      },
      "file_extension": ".py",
      "mimetype": "text/x-python",
      "name": "python",
      "nbconvert_exporter": "python",
      "pygments_lexer": "ipython3",
      "version": "3.5.2"
    },
    "kernelspec": {
      "name": "python3",
      "display_name": "Python 3"
    },
    "accelerator": "GPU"
  },
  "cells": [
    {
      "cell_type": "markdown",
      "metadata": {
        "id": "u-mFWP7bJ2_g",
        "colab_type": "text"
      },
      "source": [
        "# Solution of the deer data\n",
        "\n",
        "** Try first yourself before continuing **\n",
        "### Count regression on deer data\n",
        "\n",
        "This notebook demonstrates the use of TFP for regression on count data. The dataset is the number of fish caught in a state park. \n",
        "\n",
        "* Poisson Regression\n",
        "* Zero Infated Poisson Regression\n",
        "\n",
        "#### Results from the paper"
      ]
    },
    {
      "cell_type": "code",
      "metadata": {
        "id": "tMBSW9yAT6jv",
        "colab_type": "code",
        "colab": {}
      },
      "source": [
        "EPOCHS = 15\n",
        "HIGHMEN = False #Also excute code with needs RAM "
      ],
      "execution_count": 0,
      "outputs": []
    },
    {
      "cell_type": "code",
      "metadata": {
        "id": "rTWB39X_J2_h",
        "colab_type": "code",
        "colab": {
          "base_uri": "https://localhost:8080/",
          "height": 35
        },
        "outputId": "422ea39d-5376-4833-85a0-e0b703326869"
      },
      "source": [
        "import tensorflow as tf\n",
        "try: #If running in colab \n",
        "    import google.colab\n",
        "    IN_COLAB = True \n",
        "except:\n",
        "  \n",
        "    IN_COLAB = False\n",
        "if (not tf.__version__.startswith('2')): #Checking if tf 2.0 is installed\n",
        "    if IN_COLAB: #If running in colab install tf 2.0\n",
        "        !pip install tensorflow==2.0.0-alpha0\n",
        "        !pip install pip install tfp-nightly==0.7.0-dev20190511\n",
        "    print('Please install tensorflow 2.0 to run this notebook')\n",
        "print('Tensorflow version: ',tf.__version__, ' running in colab?: ', IN_COLAB)"
      ],
      "execution_count": 2,
      "outputs": [
        {
          "output_type": "stream",
          "text": [
            "Tensorflow version:  2.0.0-alpha0  running in colab?:  True\n"
          ],
          "name": "stdout"
        }
      ]
    },
    {
      "cell_type": "code",
      "metadata": {
        "id": "p_pM4UKiJ2_l",
        "colab_type": "code",
        "colab": {
          "base_uri": "https://localhost:8080/",
          "height": 52
        },
        "outputId": "b7a34667-f989-4a9b-fda0-fb0ea9bfaf20"
      },
      "source": [
        "import matplotlib.pyplot as plt\n",
        "import numpy as np\n",
        "from sklearn.model_selection import train_test_split\n",
        "from sklearn.metrics import mean_absolute_error, mean_squared_error\n",
        "import seaborn as sns\n",
        "import tensorflow_probability as tfp\n",
        "\n",
        "sns.reset_defaults()\n",
        "#sns.set_style('whitegrid')\n",
        "sns.set_context(context='talk',font_scale=0.7)\n",
        "\n",
        "\n",
        "%matplotlib inline\n",
        "plt.style.use('default')\n",
        "\n",
        "tfd = tfp.distributions\n",
        "tfb = tfp.bijectors\n",
        "from tensorflow.keras.models import Model\n",
        "from tensorflow.keras.layers import Dense\n",
        "print(\"TFP Version\", tfp.__version__)\n",
        "print(\"TF  Version\",tf.__version__)\n",
        "np.random.seed(42)\n",
        "tf.random.set_seed(42)"
      ],
      "execution_count": 3,
      "outputs": [
        {
          "output_type": "stream",
          "text": [
            "TFP Version 0.7.0\n",
            "TF  Version 2.0.0-alpha0\n"
          ],
          "name": "stdout"
        }
      ]
    },
    {
      "cell_type": "markdown",
      "metadata": {
        "id": "EoCvV8OLJ2_o",
        "colab_type": "text"
      },
      "source": [
        "## Loading some count data"
      ]
    },
    {
      "cell_type": "code",
      "metadata": {
        "id": "siHMzK-1J2_p",
        "colab_type": "code",
        "colab": {}
      },
      "source": [
        "# Alternative version\n",
        "# dat = np.loadtxt('https://raw.githubusercontent.com/tensorchiefs/dl_book/master/data/nb_data.csv') \n",
        "# X = dat[...,0:3]\n",
        "# y = dat[...,4]\n",
        "# X_tr, X_te, y_tr, y_te = train_test_split(X, y, test_size=0.33, random_state=42)\n",
        "# X_tr.shape, y_tr.shape, X_te.shape, y_te.shape"
      ],
      "execution_count": 0,
      "outputs": []
    },
    {
      "cell_type": "code",
      "metadata": {
        "id": "2-crWO-uJ2_r",
        "colab_type": "code",
        "colab": {}
      },
      "source": [
        "# The Fish Data Set\n",
        "# See example 2 from https://stats.idre.ucla.edu/r/dae/zip/ \n",
        "#\"nofish\",\"livebait\",\"camper\",\"persons\",\"child\",\"xb\",\"zg\",\"count\"\n",
        "#dat = np.loadtxt('../data/fish.csv', delimiter=',', skiprows=1)\n",
        "# dat = np.loadtxt('https://raw.githubusercontent.com/tensorchiefs/dl_book/master/data/fish.csv',delimiter=',', skiprows=1)\n",
        "# X = dat[...,1:5] #\"livebait\",\"camper\",\"persons\",\"child\n",
        "# y = dat[...,7]\n",
        "# X_tr, X_te, y_tr, y_te = train_test_split(X, y, test_size=0.33, random_state=42)\n",
        "# d = X_tr.shape[1]\n",
        "# X_tr.shape, y_tr.shape, X_te.shape, y_te.shape,dat.shape"
      ],
      "execution_count": 0,
      "outputs": []
    },
    {
      "cell_type": "code",
      "metadata": {
        "id": "0G1IUxRwJ2_s",
        "colab_type": "code",
        "colab": {}
      },
      "source": [
        "#!wget http://www-home.htwg-konstanz.de/~oduerr/tmp/deer_train_short.csv"
      ],
      "execution_count": 0,
      "outputs": []
    },
    {
      "cell_type": "code",
      "metadata": {
        "id": "MwPlc220J2_u",
        "colab_type": "code",
        "colab": {}
      },
      "source": [
        "try:\n",
        "    import feather\n",
        "except:\n",
        "    !pip install feather-format\n",
        "    import feather"
      ],
      "execution_count": 0,
      "outputs": []
    },
    {
      "cell_type": "code",
      "metadata": {
        "id": "Zfx4qqJXJ2_w",
        "colab_type": "code",
        "colab": {}
      },
      "source": [
        "from urllib.request import urlretrieve\n",
        "import os\n",
        "def get_if_not_there(filename = 'deer_train.feather'):\n",
        "    if not os.path.isfile(filename):\n",
        "         urlretrieve('https://raw.githubusercontent.com/tensorchiefs/dl_book/master/data/{}'.format(filename),\n",
        "                    filename = filename)\n",
        "\n",
        "get_if_not_there('deer_train.feather')\n",
        "get_if_not_there('deer_test.feather')"
      ],
      "execution_count": 0,
      "outputs": []
    },
    {
      "cell_type": "code",
      "metadata": {
        "id": "cYzU5xxDJ2_x",
        "colab_type": "code",
        "colab": {
          "base_uri": "https://localhost:8080/",
          "height": 108
        },
        "outputId": "0b1627ec-f398-47fd-dfb4-1586313a6755"
      },
      "source": [
        "import pandas as pd\n",
        "import numpy as np\n",
        "df_train = feather.read_dataframe('deer_train.feather')\n",
        "df_test = feather.read_dataframe('deer_test.feather')\n",
        "df_test[0:2]"
      ],
      "execution_count": 9,
      "outputs": [
        {
          "output_type": "execute_result",
          "data": {
            "text/html": [
              "<div>\n",
              "<style scoped>\n",
              "    .dataframe tbody tr th:only-of-type {\n",
              "        vertical-align: middle;\n",
              "    }\n",
              "\n",
              "    .dataframe tbody tr th {\n",
              "        vertical-align: top;\n",
              "    }\n",
              "\n",
              "    .dataframe thead th {\n",
              "        text-align: right;\n",
              "    }\n",
              "</style>\n",
              "<table border=\"1\" class=\"dataframe\">\n",
              "  <thead>\n",
              "    <tr style=\"text-align: right;\">\n",
              "      <th></th>\n",
              "      <th>wild</th>\n",
              "      <th>year</th>\n",
              "      <th>time</th>\n",
              "      <th>daytime</th>\n",
              "      <th>weekday</th>\n",
              "    </tr>\n",
              "  </thead>\n",
              "  <tbody>\n",
              "    <tr>\n",
              "      <th>0</th>\n",
              "      <td>0</td>\n",
              "      <td>2010.0</td>\n",
              "      <td>2922.000000</td>\n",
              "      <td>night.am</td>\n",
              "      <td>Sunday</td>\n",
              "    </tr>\n",
              "    <tr>\n",
              "      <th>1</th>\n",
              "      <td>2</td>\n",
              "      <td>2010.0</td>\n",
              "      <td>2922.020833</td>\n",
              "      <td>night.am</td>\n",
              "      <td>Sunday</td>\n",
              "    </tr>\n",
              "  </tbody>\n",
              "</table>\n",
              "</div>"
            ],
            "text/plain": [
              "   wild    year         time   daytime weekday\n",
              "0     0  2010.0  2922.000000  night.am  Sunday\n",
              "1     2  2010.0  2922.020833  night.am  Sunday"
            ]
          },
          "metadata": {
            "tags": []
          },
          "execution_count": 9
        }
      ]
    },
    {
      "cell_type": "code",
      "metadata": {
        "id": "Ir2r3HWMJ2_0",
        "colab_type": "code",
        "colab": {}
      },
      "source": [
        "y_tr = df_train.iloc[:,0].to_numpy(dtype='float32')\n",
        "y_te = df_test.iloc[:,0].to_numpy(dtype='float32')\n",
        "X_tr = pd.get_dummies(df_train.iloc[:,2:]) #We don't need the year\n",
        "X_te = pd.get_dummies(df_test.iloc[:,2:])\n",
        "X_tr.iloc[:,0] = X_tr.iloc[:,0]/2922.02    #We divide by the maximal number to something in the range 0 to 1\n",
        "X_te.iloc[:,0] = X_te.iloc[:,0]/2922.02 \n",
        "del df_train, df_test"
      ],
      "execution_count": 0,
      "outputs": []
    },
    {
      "cell_type": "code",
      "metadata": {
        "id": "MQWzBBylJ2_1",
        "colab_type": "code",
        "colab": {
          "base_uri": "https://localhost:8080/",
          "height": 128
        },
        "outputId": "79c16e11-f011-4cbf-955e-f4437ccc708a"
      },
      "source": [
        "X_tr[0:2]"
      ],
      "execution_count": 11,
      "outputs": [
        {
          "output_type": "execute_result",
          "data": {
            "text/html": [
              "<div>\n",
              "<style scoped>\n",
              "    .dataframe tbody tr th:only-of-type {\n",
              "        vertical-align: middle;\n",
              "    }\n",
              "\n",
              "    .dataframe tbody tr th {\n",
              "        vertical-align: top;\n",
              "    }\n",
              "\n",
              "    .dataframe thead th {\n",
              "        text-align: right;\n",
              "    }\n",
              "</style>\n",
              "<table border=\"1\" class=\"dataframe\">\n",
              "  <thead>\n",
              "    <tr style=\"text-align: right;\">\n",
              "      <th></th>\n",
              "      <th>time</th>\n",
              "      <th>daytime_day.am</th>\n",
              "      <th>daytime_night.am</th>\n",
              "      <th>daytime_pre.sunrise.am</th>\n",
              "      <th>daytime_post.sunrise.am</th>\n",
              "      <th>daytime_day.pm</th>\n",
              "      <th>daytime_night.pm</th>\n",
              "      <th>daytime_pre.sunset.pm</th>\n",
              "      <th>daytime_post.sunset.pm</th>\n",
              "      <th>weekday_Monday</th>\n",
              "      <th>weekday_Tuesday</th>\n",
              "      <th>weekday_Wednesday</th>\n",
              "      <th>weekday_Thursday</th>\n",
              "      <th>weekday_Friday</th>\n",
              "      <th>weekday_Saturday</th>\n",
              "      <th>weekday_Sunday</th>\n",
              "    </tr>\n",
              "  </thead>\n",
              "  <tbody>\n",
              "    <tr>\n",
              "      <th>0</th>\n",
              "      <td>0.000000</td>\n",
              "      <td>0</td>\n",
              "      <td>1</td>\n",
              "      <td>0</td>\n",
              "      <td>0</td>\n",
              "      <td>0</td>\n",
              "      <td>0</td>\n",
              "      <td>0</td>\n",
              "      <td>0</td>\n",
              "      <td>0</td>\n",
              "      <td>0</td>\n",
              "      <td>0</td>\n",
              "      <td>0</td>\n",
              "      <td>0</td>\n",
              "      <td>0</td>\n",
              "      <td>1</td>\n",
              "    </tr>\n",
              "    <tr>\n",
              "      <th>1</th>\n",
              "      <td>0.000007</td>\n",
              "      <td>0</td>\n",
              "      <td>1</td>\n",
              "      <td>0</td>\n",
              "      <td>0</td>\n",
              "      <td>0</td>\n",
              "      <td>0</td>\n",
              "      <td>0</td>\n",
              "      <td>0</td>\n",
              "      <td>0</td>\n",
              "      <td>0</td>\n",
              "      <td>0</td>\n",
              "      <td>0</td>\n",
              "      <td>0</td>\n",
              "      <td>0</td>\n",
              "      <td>1</td>\n",
              "    </tr>\n",
              "  </tbody>\n",
              "</table>\n",
              "</div>"
            ],
            "text/plain": [
              "       time  daytime_day.am  ...  weekday_Saturday  weekday_Sunday\n",
              "0  0.000000               0  ...                 0               1\n",
              "1  0.000007               0  ...                 0               1\n",
              "\n",
              "[2 rows x 16 columns]"
            ]
          },
          "metadata": {
            "tags": []
          },
          "execution_count": 11
        }
      ]
    },
    {
      "cell_type": "code",
      "metadata": {
        "id": "g8mhrDZTJ2_4",
        "colab_type": "code",
        "colab": {
          "base_uri": "https://localhost:8080/",
          "height": 128
        },
        "outputId": "9cb7984d-55b9-4f58-c720-a7b30ac734d1"
      },
      "source": [
        "X_te[0:2]"
      ],
      "execution_count": 12,
      "outputs": [
        {
          "output_type": "execute_result",
          "data": {
            "text/html": [
              "<div>\n",
              "<style scoped>\n",
              "    .dataframe tbody tr th:only-of-type {\n",
              "        vertical-align: middle;\n",
              "    }\n",
              "\n",
              "    .dataframe tbody tr th {\n",
              "        vertical-align: top;\n",
              "    }\n",
              "\n",
              "    .dataframe thead th {\n",
              "        text-align: right;\n",
              "    }\n",
              "</style>\n",
              "<table border=\"1\" class=\"dataframe\">\n",
              "  <thead>\n",
              "    <tr style=\"text-align: right;\">\n",
              "      <th></th>\n",
              "      <th>time</th>\n",
              "      <th>daytime_day.am</th>\n",
              "      <th>daytime_night.am</th>\n",
              "      <th>daytime_pre.sunrise.am</th>\n",
              "      <th>daytime_post.sunrise.am</th>\n",
              "      <th>daytime_day.pm</th>\n",
              "      <th>daytime_night.pm</th>\n",
              "      <th>daytime_pre.sunset.pm</th>\n",
              "      <th>daytime_post.sunset.pm</th>\n",
              "      <th>weekday_Monday</th>\n",
              "      <th>weekday_Tuesday</th>\n",
              "      <th>weekday_Wednesday</th>\n",
              "      <th>weekday_Thursday</th>\n",
              "      <th>weekday_Friday</th>\n",
              "      <th>weekday_Saturday</th>\n",
              "      <th>weekday_Sunday</th>\n",
              "    </tr>\n",
              "  </thead>\n",
              "  <tbody>\n",
              "    <tr>\n",
              "      <th>0</th>\n",
              "      <td>0.999993</td>\n",
              "      <td>0</td>\n",
              "      <td>1</td>\n",
              "      <td>0</td>\n",
              "      <td>0</td>\n",
              "      <td>0</td>\n",
              "      <td>0</td>\n",
              "      <td>0</td>\n",
              "      <td>0</td>\n",
              "      <td>0</td>\n",
              "      <td>0</td>\n",
              "      <td>0</td>\n",
              "      <td>0</td>\n",
              "      <td>0</td>\n",
              "      <td>0</td>\n",
              "      <td>1</td>\n",
              "    </tr>\n",
              "    <tr>\n",
              "      <th>1</th>\n",
              "      <td>1.000000</td>\n",
              "      <td>0</td>\n",
              "      <td>1</td>\n",
              "      <td>0</td>\n",
              "      <td>0</td>\n",
              "      <td>0</td>\n",
              "      <td>0</td>\n",
              "      <td>0</td>\n",
              "      <td>0</td>\n",
              "      <td>0</td>\n",
              "      <td>0</td>\n",
              "      <td>0</td>\n",
              "      <td>0</td>\n",
              "      <td>0</td>\n",
              "      <td>0</td>\n",
              "      <td>1</td>\n",
              "    </tr>\n",
              "  </tbody>\n",
              "</table>\n",
              "</div>"
            ],
            "text/plain": [
              "       time  daytime_day.am  ...  weekday_Saturday  weekday_Sunday\n",
              "0  0.999993               0  ...                 0               1\n",
              "1  1.000000               0  ...                 0               1\n",
              "\n",
              "[2 rows x 16 columns]"
            ]
          },
          "metadata": {
            "tags": []
          },
          "execution_count": 12
        }
      ]
    },
    {
      "cell_type": "code",
      "metadata": {
        "id": "xa2BOQY-J2_6",
        "colab_type": "code",
        "colab": {
          "base_uri": "https://localhost:8080/",
          "height": 35
        },
        "outputId": "238ed373-e5c6-4161-e61c-627c61859a27"
      },
      "source": [
        "X_tr = X_tr.to_numpy(dtype='float32')\n",
        "X_te = X_te.to_numpy(dtype='float32')\n",
        "d = X_te.shape[1]\n",
        "# In R\n",
        "#> sum(df.train$wild);sum(df.test$wild)\n",
        "#[1] 265911\n",
        "#[1] 75744\n",
        "np.sum(y_te),np.sum(y_tr),X_tr.shape"
      ],
      "execution_count": 13,
      "outputs": [
        {
          "output_type": "execute_result",
          "data": {
            "text/plain": [
              "(75744.0, 265911.0, (140256, 16))"
            ]
          },
          "metadata": {
            "tags": []
          },
          "execution_count": 13
        }
      ]
    },
    {
      "cell_type": "code",
      "metadata": {
        "id": "33JErGaaJ2_8",
        "colab_type": "code",
        "colab": {}
      },
      "source": [
        "#### Some exploratory analysis"
      ],
      "execution_count": 0,
      "outputs": []
    },
    {
      "cell_type": "code",
      "metadata": {
        "id": "xHiYbM0eJ2_-",
        "colab_type": "code",
        "colab": {
          "base_uri": "https://localhost:8080/",
          "height": 478
        },
        "outputId": "dece1c17-d865-43a3-c664-30dc62a98e86"
      },
      "source": [
        "plt.style.use('default')\n",
        "plt.rcParams.update({'font.size': 12})\n",
        "vals, counts = np.unique(y_tr, return_counts=True)\n",
        "plt.stem(vals, counts)\n",
        "plt.xlabel('Count: number of deers killed')\n",
        "plt.ylabel('Frequency')\n",
        "plt.xlim(-1,40)\n",
        "plt.savefig('ch05_deer.pdf')\n",
        "np.max(y_tr)"
      ],
      "execution_count": 15,
      "outputs": [
        {
          "output_type": "execute_result",
          "data": {
            "text/plain": [
              "38.0"
            ]
          },
          "metadata": {
            "tags": []
          },
          "execution_count": 15
        },
        {
          "output_type": "display_data",
          "data": {
            "image/png": "[encoded data removed]",
            "text/plain": [
              "<Figure size 640x480 with 1 Axes>"
            ]
          },
          "metadata": {
            "tags": []
          }
        }
      ]
    },
    {
      "cell_type": "markdown",
      "metadata": {
        "id": "VBgo_-XtJ3AA",
        "colab_type": "text"
      },
      "source": [
        "# <------ Cut here for the solution file --->"
      ]
    },
    {
      "cell_type": "markdown",
      "metadata": {
        "id": "W49trBx1J3AB",
        "colab_type": "text"
      },
      "source": [
        "## 1 Doing linear regression\n",
        "\n",
        "In this section we do a standard linear regression."
      ]
    },
    {
      "cell_type": "code",
      "metadata": {
        "id": "kivyMRjFJ3AB",
        "colab_type": "code",
        "colab": {}
      },
      "source": [
        "model_lr = tf.keras.Sequential() #A\n",
        "model_lr.add(tf.keras.layers.Dense(1,input_dim=d, activation='linear')) #B \n",
        "model_lr.compile(loss='mean_squared_error',optimizer=tf.optimizers.Adam(learning_rate=0.01))"
      ],
      "execution_count": 0,
      "outputs": []
    },
    {
      "cell_type": "code",
      "metadata": {
        "id": "dOvtB581J3AF",
        "colab_type": "code",
        "colab": {
          "base_uri": "https://localhost:8080/",
          "height": 553
        },
        "outputId": "cf17fa26-ad24-48d6-b990-368ac6d0668c"
      },
      "source": [
        "hist_lr = model_lr.fit(x=X_tr, y=y_tr, validation_data=(X_te, y_te), epochs=EPOCHS, verbose=True);\n",
        "#hist_lr = model_lr.fit(x=X_tr, y=np.sqrt(y_tr), validation_data=(X_te, y_te), epochs=600, verbose=False);"
      ],
      "execution_count": 17,
      "outputs": [
        {
          "output_type": "stream",
          "text": [
            "Train on 140256 samples, validate on 35040 samples\n",
            "Epoch 1/15\n",
            "140256/140256 [==============================] - 7s 48us/sample - loss: 6.6228 - val_loss: 8.3269\n",
            "Epoch 2/15\n",
            "140256/140256 [==============================] - 6s 44us/sample - loss: 6.5369 - val_loss: 8.3572\n",
            "Epoch 3/15\n",
            "140256/140256 [==============================] - 6s 45us/sample - loss: 6.5378 - val_loss: 8.3768\n",
            "Epoch 4/15\n",
            "140256/140256 [==============================] - 6s 45us/sample - loss: 6.5363 - val_loss: 8.3224\n",
            "Epoch 5/15\n",
            "140256/140256 [==============================] - 6s 44us/sample - loss: 6.5373 - val_loss: 8.3355\n",
            "Epoch 6/15\n",
            "140256/140256 [==============================] - 6s 44us/sample - loss: 6.5368 - val_loss: 8.3643\n",
            "Epoch 7/15\n",
            "140256/140256 [==============================] - 6s 44us/sample - loss: 6.5375 - val_loss: 8.3554\n",
            "Epoch 8/15\n",
            "140256/140256 [==============================] - 6s 45us/sample - loss: 6.5362 - val_loss: 8.3262\n",
            "Epoch 9/15\n",
            "140256/140256 [==============================] - 6s 45us/sample - loss: 6.5366 - val_loss: 8.4010\n",
            "Epoch 10/15\n",
            "140256/140256 [==============================] - 6s 44us/sample - loss: 6.5372 - val_loss: 8.3408\n",
            "Epoch 11/15\n",
            "140256/140256 [==============================] - 6s 45us/sample - loss: 6.5375 - val_loss: 8.3495\n",
            "Epoch 12/15\n",
            "140256/140256 [==============================] - 6s 44us/sample - loss: 6.5365 - val_loss: 8.3925\n",
            "Epoch 13/15\n",
            "140256/140256 [==============================] - 6s 44us/sample - loss: 6.5362 - val_loss: 8.3316\n",
            "Epoch 14/15\n",
            "140256/140256 [==============================] - 6s 44us/sample - loss: 6.5385 - val_loss: 8.3269\n",
            "Epoch 15/15\n",
            "140256/140256 [==============================] - 6s 44us/sample - loss: 6.5371 - val_loss: 8.3496\n"
          ],
          "name": "stdout"
        }
      ]
    },
    {
      "cell_type": "code",
      "metadata": {
        "id": "ZUY5A5pdJ3AI",
        "colab_type": "code",
        "colab": {
          "base_uri": "https://localhost:8080/",
          "height": 478
        },
        "outputId": "eb07ce39-e874-479a-f009-a363e5d409ad"
      },
      "source": [
        "plt.plot(hist_lr.history['loss'])\n",
        "plt.plot(hist_lr.history['val_loss'])\n",
        "plt.legend(['loss', 'val_loss'])\n",
        "plt.ylabel('MSE')\n",
        "plt.xlabel('Epochs')\n",
        "np.mean(hist_lr.history['loss'])"
      ],
      "execution_count": 18,
      "outputs": [
        {
          "output_type": "execute_result",
          "data": {
            "text/plain": [
              "6.5427484298959975"
            ]
          },
          "metadata": {
            "tags": []
          },
          "execution_count": 18
        },
        {
          "output_type": "display_data",
          "data": {
            "image/png": "[encoded data removed]",
            "text/plain": [
              "<Figure size 640x480 with 1 Axes>"
            ]
          },
          "metadata": {
            "tags": []
          }
        }
      ]
    },
    {
      "cell_type": "code",
      "metadata": {
        "id": "Wf3olFXcJ3AK",
        "colab_type": "code",
        "colab": {}
      },
      "source": [
        "if (HIGHMEN):\n",
        "  y_hat_te = model_lr.predict(X_te)\n",
        "  print(np.sqrt(np.mean((y_hat_te - y_te)**2)),np.mean(np.abs(y_hat_te - y_te)))\n",
        "  plt.scatter(y_te, y_hat_te**2)\n",
        "  plt.xlabel('True ')\n",
        "  plt.ylabel('Predicted ')\n",
        "  y_hat_tr = model_lr.predict(X_tr) #Testset\n",
        "  sigma_hat_2 = np.var(y_hat_tr.flatten() - y_tr) \n",
        "  0.5*np.log(2 * np.pi * sigma_hat_2) + 0.5*np.mean((y_hat_te - y_te)**2)/sigma_hat_2"
      ],
      "execution_count": 0,
      "outputs": []
    },
    {
      "cell_type": "markdown",
      "metadata": {
        "id": "tAX3yjYKJ3AR",
        "colab_type": "text"
      },
      "source": [
        "## 2 Doing Poisson Regression"
      ]
    },
    {
      "cell_type": "markdown",
      "metadata": {
        "id": "u4KcuWUwJ3AR",
        "colab_type": "text"
      },
      "source": [
        "#### Definition of the Model\n",
        "\n",
        "$$\n",
        "    Y \\thicksim \\tt{Pois}(exp(w^{T} \\cdot x + b))\n",
        "$$"
      ]
    },
    {
      "cell_type": "code",
      "metadata": {
        "id": "E1DOBfteJ3AS",
        "colab_type": "code",
        "colab": {
          "base_uri": "https://localhost:8080/",
          "height": 501
        },
        "outputId": "611dd27b-d0b3-4dac-ebc9-fd5eb5ec6598"
      },
      "source": [
        "# 10          20       30        40       50         55\n",
        "#123456789012345678901234567890123456789012345678901234\n",
        "inputs = tf.keras.layers.Input(shape=(X_tr.shape[1],))  \n",
        "h = tf.keras.layers.Dense(30, \n",
        "         activation='relu')(inputs)\n",
        "h = tf.keras.layers.Dropout(0.1)(h)\n",
        "h = tf.keras.layers.Dense(100, \n",
        "         activation='relu')(h)\n",
        "h = tf.keras.layers.Dropout(0.3)(h)\n",
        "h = tf.keras.layers.Dense(100, \n",
        "         activation='relu')(h)\n",
        "h = tf.keras.layers.Dropout(0.3)(h)\n",
        "h = tf.keras.layers.Dense(10, \n",
        "         activation='relu')(h)\n",
        "rate = tf.keras.layers.Dense(1, \n",
        "         activation=tf.exp, #A\n",
        "         bias_initializer='zeros', \n",
        "         kernel_initializer='zeros')(h)\n",
        "\n",
        "p_y = tfp.layers.DistributionLambda(tfd.Poisson)(rate) #B \n",
        "\n",
        "model_p = Model(inputs=inputs, outputs=p_y) #C\n",
        "\n",
        "\n",
        "def negloglik(y_true, y_hat): #D\n",
        "  return -y_hat.log_prob(y_true)\n",
        "\n",
        "model_p.compile(tf.optimizers.Adam(learning_rate=0.001), \n",
        "                loss=negloglik)\n",
        "\n",
        "#A Definition of a single layer with one output\n",
        "#B We use exponential of the output to model the rate\n",
        "#C Glueing input and output together. Note that output is a tf.distribution\n",
        "#D Since the second argument is the output of the model it is a distribution. It's as simple as calling log_prob to calculate the NLL.\n",
        "\n",
        "model_p.summary()"
      ],
      "execution_count": 20,
      "outputs": [
        {
          "output_type": "stream",
          "text": [
            "Model: \"model\"\n",
            "_________________________________________________________________\n",
            "Layer (type)                 Output Shape              Param #   \n",
            "=================================================================\n",
            "input_1 (InputLayer)         [(None, 16)]              0         \n",
            "_________________________________________________________________\n",
            "dense_1 (Dense)              (None, 30)                510       \n",
            "_________________________________________________________________\n",
            "dropout (Dropout)            (None, 30)                0         \n",
            "_________________________________________________________________\n",
            "dense_2 (Dense)              (None, 100)               3100      \n",
            "_________________________________________________________________\n",
            "dropout_1 (Dropout)          (None, 100)               0         \n",
            "_________________________________________________________________\n",
            "dense_3 (Dense)              (None, 100)               10100     \n",
            "_________________________________________________________________\n",
            "dropout_2 (Dropout)          (None, 100)               0         \n",
            "_________________________________________________________________\n",
            "dense_4 (Dense)              (None, 10)                1010      \n",
            "_________________________________________________________________\n",
            "dense_5 (Dense)              (None, 1)                 11        \n",
            "_________________________________________________________________\n",
            "distribution_lambda (Distrib ((None, 1), (None, 1))    0         \n",
            "=================================================================\n",
            "Total params: 14,731\n",
            "Trainable params: 14,731\n",
            "Non-trainable params: 0\n",
            "_________________________________________________________________\n"
          ],
          "name": "stdout"
        }
      ]
    },
    {
      "cell_type": "code",
      "metadata": {
        "id": "A4LbaAodJ3AU",
        "colab_type": "code",
        "colab": {
          "base_uri": "https://localhost:8080/",
          "height": 553
        },
        "outputId": "fbf695e3-aaae-4be4-a52c-06e3b9221541"
      },
      "source": [
        "hist_p = model_p.fit(x=X_tr, y=y_tr, validation_data=(X_te, y_te), epochs=EPOCHS, verbose=True);"
      ],
      "execution_count": 21,
      "outputs": [
        {
          "output_type": "stream",
          "text": [
            "Train on 140256 samples, validate on 35040 samples\n",
            "Epoch 1/15\n",
            "140256/140256 [==============================] - 13s 90us/sample - loss: 1.9821 - val_loss: 2.0434\n",
            "Epoch 2/15\n",
            "140256/140256 [==============================] - 12s 88us/sample - loss: 1.9146 - val_loss: 2.0591\n",
            "Epoch 3/15\n",
            "140256/140256 [==============================] - 13s 90us/sample - loss: 1.9028 - val_loss: 2.0402\n",
            "Epoch 4/15\n",
            "140256/140256 [==============================] - 12s 88us/sample - loss: 1.8969 - val_loss: 2.0448\n",
            "Epoch 5/15\n",
            "140256/140256 [==============================] - 12s 87us/sample - loss: 1.8939 - val_loss: 2.0460\n",
            "Epoch 6/15\n",
            "140256/140256 [==============================] - 12s 88us/sample - loss: 1.8915 - val_loss: 2.0360\n",
            "Epoch 7/15\n",
            "140256/140256 [==============================] - 12s 87us/sample - loss: 1.8920 - val_loss: 2.0352\n",
            "Epoch 8/15\n",
            "140256/140256 [==============================] - 12s 88us/sample - loss: 1.8904 - val_loss: 2.0355\n",
            "Epoch 9/15\n",
            "140256/140256 [==============================] - 12s 88us/sample - loss: 1.8906 - val_loss: 2.0403\n",
            "Epoch 10/15\n",
            "140256/140256 [==============================] - 12s 87us/sample - loss: 1.8896 - val_loss: 2.0410\n",
            "Epoch 11/15\n",
            "140256/140256 [==============================] - 12s 88us/sample - loss: 1.8895 - val_loss: 2.0428\n",
            "Epoch 12/15\n",
            "140256/140256 [==============================] - 12s 88us/sample - loss: 1.8906 - val_loss: 2.0431\n",
            "Epoch 13/15\n",
            "140256/140256 [==============================] - 12s 88us/sample - loss: 1.8899 - val_loss: 2.0407\n",
            "Epoch 14/15\n",
            "140256/140256 [==============================] - 12s 88us/sample - loss: 1.8895 - val_loss: 2.0530\n",
            "Epoch 15/15\n",
            "140256/140256 [==============================] - 13s 92us/sample - loss: 1.8889 - val_loss: 2.0462\n"
          ],
          "name": "stdout"
        }
      ]
    },
    {
      "cell_type": "code",
      "metadata": {
        "scrolled": false,
        "id": "2FL7fnmCJ3AW",
        "colab_type": "code",
        "colab": {
          "base_uri": "https://localhost:8080/",
          "height": 478
        },
        "outputId": "b9a36871-12bf-4e21-870a-e0e9286b6fd6"
      },
      "source": [
        "plt.plot(hist_p.history['loss'])\n",
        "plt.plot(hist_p.history['val_loss'])\n",
        "plt.legend(['loss', 'val_loss'])\n",
        "plt.xlabel('Epochs')\n",
        "plt.ylabel('NLL')\n",
        "np.mean(hist_p.history['loss'])\n",
        "plt.ylim(1.75,2.07)\n",
        "np.mean(hist_p.history['val_loss'][-20:]) #Paper -1.91760131278"
      ],
      "execution_count": 22,
      "outputs": [
        {
          "output_type": "execute_result",
          "data": {
            "text/plain": [
              "2.0431637420465596"
            ]
          },
          "metadata": {
            "tags": []
          },
          "execution_count": 22
        },
        {
          "output_type": "display_data",
          "data": {
            "image/png": "[encoded data removed]",
            "text/plain": [
              "<Figure size 640x480 with 1 Axes>"
            ]
          },
          "metadata": {
            "tags": []
          }
        }
      ]
    },
    {
      "cell_type": "code",
      "metadata": {
        "id": "-IGOqsT9J3AY",
        "colab_type": "code",
        "colab": {}
      },
      "source": [
        "if (HIGHMEN):\n",
        "  model_pm = tf.keras.models.Model(inputs=inputs, outputs=p_y.mean()) \n",
        "  y_hat_te = model_pm(X_te).numpy()\n",
        "  y_hat_te\n",
        "  np.sqrt(np.mean((y_hat_te - y_te)**2)),np.mean(np.abs(y_hat_te - y_te)) "
      ],
      "execution_count": 0,
      "outputs": []
    },
    {
      "cell_type": "markdown",
      "metadata": {
        "id": "AENHERfRNpIs",
        "colab_type": "text"
      },
      "source": [
        "## 2 Poisson regression with linear models "
      ]
    },
    {
      "cell_type": "code",
      "metadata": {
        "id": "CTvoawQvJ3AZ",
        "colab_type": "code",
        "colab": {}
      },
      "source": [
        "# First build the model matrix, appending an intercept term\n",
        "# d = np.shape(X_tr)[1]\n",
        "# Xm = np.ones((np.shape(X_tr)[0],d+1))\n",
        "# Xm[:,1:d+1] = X_tr"
      ],
      "execution_count": 0,
      "outputs": []
    },
    {
      "cell_type": "code",
      "metadata": {
        "id": "fpzO9ZsHJ3Ab",
        "colab_type": "code",
        "colab": {}
      },
      "source": [
        "# d = np.shape(X_te)[1]\n",
        "# X_te_in = np.ones((np.shape(X_te)[0],d+1), dtype='float32')\n",
        "# X_te_in[:,1:d+1] = X_te"
      ],
      "execution_count": 0,
      "outputs": []
    },
    {
      "cell_type": "code",
      "metadata": {
        "id": "kZc0A6kBJ3Ad",
        "colab_type": "code",
        "colab": {}
      },
      "source": [
        "# fit = tfp.glm.fit(\n",
        "#     model_matrix=Xm,\n",
        "#     response=y_tr,\n",
        "#     model=tfp.glm.Poisson()\n",
        "# )"
      ],
      "execution_count": 0,
      "outputs": []
    },
    {
      "cell_type": "markdown",
      "metadata": {
        "id": "f0tNIuZXJ3Af",
        "colab_type": "text"
      },
      "source": [
        "$$\n",
        "\\lambda = exp(X \\cdot \\hat \\beta)\n",
        "$$"
      ]
    },
    {
      "cell_type": "code",
      "metadata": {
        "id": "0EAILZ45J3Af",
        "colab_type": "code",
        "colab": {}
      },
      "source": [
        "# d = np.matmul(X_te_in,fit[0])\n",
        "# lam = np.exp(d)\n",
        "#dd = tfd.Poisson(lam).log_prob(y_te).numpy()\n",
        "#print(np.mean(dd) - -1.917601) #-1.917601 according to R\n",
        "# plt.figure(figsize=(6,6))\n",
        "# plt.xlim(-0.1,5)\n",
        "# plt.ylim(-0.1,5)\n",
        "# y_hat_tr = model_pm(X_tr)\n",
        "# plt.scatter(y_hat_te, np.random.normal(loc=y_te,scale=0.2), alpha=0.7)\n",
        "# plt.xlabel('Counts: predicted by Poisson')\n",
        "# plt.ylabel('Counts: true')\n",
        "# plt.savefig('ch05_pois.pdf')\n",
        "# print('Training Set', np.mean(np.square(y_hat_tr[y_tr == 0])),np.sum(y_hat_tr[y_tr == 0]>0.5))\n",
        "# print('Validation Set', np.mean(np.square(y_hat_te[y_te == 0])),np.sum(y_hat_te[y_te == 0]>0.5))"
      ],
      "execution_count": 0,
      "outputs": []
    },
    {
      "cell_type": "markdown",
      "metadata": {
        "id": "xh5Ns_URJ3Al",
        "colab_type": "text"
      },
      "source": [
        "## 3 Using zero inflated Poisson Regression\n",
        "\n",
        "We define a network with two outputs. One for the poisson mean, one for the prob that there is a zero. \n",
        "\n",
        "First, we define a function which produces the zero inflated poisson distribution. \n",
        "\n",
        "### Definition of the distribution"
      ]
    },
    {
      "cell_type": "code",
      "metadata": {
        "id": "CC772myrJ3Al",
        "colab_type": "code",
        "colab": {}
      },
      "source": [
        "# 10          20       30        40       50         55\n",
        "#123456789012345678901234567890123456789012345678901234\n",
        "# Listing 5.l_zi\n",
        "def zero_inf(out): \n",
        "    rate = tf.math.exp(out[:,0]) #A \n",
        "    #rate = tf.math.softplus(out[:,0]) #A \n",
        "    s = tf.math.sigmoid(out[:,1:]) #B  \n",
        "    probs = tf.concat([s, 1-s], axis=1) #C \n",
        "    print(np.min(rate), \" \", np.max(rate), \" \", np.min(s), np.max(s),\"  \",np.min(out[:,1:]), np.max(out[:,1:]))\n",
        "    return tfd.Mixture(\n",
        "          cat=tfd.Categorical(probs=probs),#D\n",
        "          components=[\n",
        "            tfd.Deterministic(loc=tf.zeros_like(rate)), #E\n",
        "            tfd.Poisson(rate=rate), #F \n",
        "        ])\n",
        "\n",
        "#A The first component codes for the rate. We use exponential to guaranty values >0.\n",
        "#B The second component codes for the zero inflation, using sigmoid squeezes the value between 0 and 1.\n",
        "#C The two probabilities for zeros or Poissonian  \n",
        "#D The tfd.Categorical allows to create a mixture of two components. \n",
        "#E Zero as a deterministic value \n",
        "#F Value drawn from a Poissonian"
      ],
      "execution_count": 0,
      "outputs": []
    },
    {
      "cell_type": "markdown",
      "metadata": {
        "id": "SNkNzDhLJ3Ap",
        "colab_type": "text"
      },
      "source": [
        "### Definition of the model"
      ]
    },
    {
      "cell_type": "code",
      "metadata": {
        "id": "T96Y6oBSJ3Aq",
        "colab_type": "code",
        "colab": {
          "base_uri": "https://localhost:8080/",
          "height": 573
        },
        "outputId": "80f86ae2-d469-4936-88be-cc0431fc4dc0"
      },
      "source": [
        "## Definition of the model\n",
        "# 10          20       30        40       50         55\n",
        "#123456789012345678901234567890123456789012345678901234\n",
        "## Definition of the custom parametrized distribution\n",
        "from tensorflow.keras.regularizers import l2\n",
        "inputs = tf.keras.layers.Input(shape=(X_tr.shape[1],))  \n",
        "h = tf.keras.layers.Dense(500, activation='relu')(inputs)\n",
        "h = tf.keras.layers.Dropout(0.1)(h)\n",
        "h = tf.keras.layers.Dense(100, activation='relu')(h)\n",
        "h = tf.keras.layers.Dropout(0.3)(h)\n",
        "h = tf.keras.layers.Dense(10, activation='relu')(h)\n",
        "h = tf.keras.layers.Dropout(0.3)(h)\n",
        "\n",
        "out = Dense(2,  #A\n",
        "            kernel_regularizer=l2(0.01), #B\n",
        "            bias_regularizer=l2(0.01))(h)#B\n",
        "\n",
        "p_y_zi = tfp.layers.DistributionLambda(zero_inf)(out)\n",
        "model_zi = Model(inputs=inputs, outputs=p_y_zi)\n",
        "\n",
        "#A A dense layer is used without activation. The transformation is done in zero_inf listing 5.l_zi \n",
        "#B Using a regularisation prevents the network from learning too large weights. Without regularisation, you run into numerical problems.\n",
        "model_zi.summary()"
      ],
      "execution_count": 29,
      "outputs": [
        {
          "output_type": "stream",
          "text": [
            "WARNING: Logging before flag parsing goes to stderr.\n",
            "W0714 12:30:26.316057 140489400952704 deprecation.py:323] From /usr/local/lib/python3.6/dist-packages/tensorflow_probability/python/distributions/mixture.py:154: Categorical.event_size (from tensorflow_probability.python.distributions.categorical) is deprecated and will be removed after 2019-05-19.\n",
            "Instructions for updating:\n",
            "The `event_size` property is deprecated.  Use `num_categories` instead.  They have the same value, but `event_size` is misnamed.\n"
          ],
          "name": "stderr"
        },
        {
          "output_type": "stream",
          "text": [
            "Tensor(\"distribution_lambda_1/Exp:0\", shape=(None,), dtype=float32)   Tensor(\"distribution_lambda_1/Exp:0\", shape=(None,), dtype=float32)   Tensor(\"distribution_lambda_1/Sigmoid:0\", shape=(None, 1), dtype=float32) Tensor(\"distribution_lambda_1/Sigmoid:0\", shape=(None, 1), dtype=float32)    Tensor(\"distribution_lambda_1/strided_slice_2:0\", shape=(None, 1), dtype=float32) Tensor(\"distribution_lambda_1/strided_slice_3:0\", shape=(None, 1), dtype=float32)\n",
            "Model: \"model_1\"\n",
            "_________________________________________________________________\n",
            "Layer (type)                 Output Shape              Param #   \n",
            "=================================================================\n",
            "input_2 (InputLayer)         [(None, 16)]              0         \n",
            "_________________________________________________________________\n",
            "dense_6 (Dense)              (None, 500)               8500      \n",
            "_________________________________________________________________\n",
            "dropout_3 (Dropout)          (None, 500)               0         \n",
            "_________________________________________________________________\n",
            "dense_7 (Dense)              (None, 100)               50100     \n",
            "_________________________________________________________________\n",
            "dropout_4 (Dropout)          (None, 100)               0         \n",
            "_________________________________________________________________\n",
            "dense_8 (Dense)              (None, 10)                1010      \n",
            "_________________________________________________________________\n",
            "dropout_5 (Dropout)          (None, 10)                0         \n",
            "_________________________________________________________________\n",
            "dense_9 (Dense)              (None, 2)                 22        \n",
            "_________________________________________________________________\n",
            "distribution_lambda_1 (Distr ((None,), (None,))        0         \n",
            "=================================================================\n",
            "Total params: 59,632\n",
            "Trainable params: 59,632\n",
            "Non-trainable params: 0\n",
            "_________________________________________________________________\n"
          ],
          "name": "stdout"
        }
      ]
    },
    {
      "cell_type": "markdown",
      "metadata": {
        "id": "2q18rJR6J3As",
        "colab_type": "text"
      },
      "source": [
        "### Training of the model (by hand) [optional]\n",
        "\n",
        "The following code trains the NN using a evaluation loop by hand. This help us to find instabilities, which we got rid off using regularisation. See also: https://www.tensorflow.org/beta/guide/keras/training_and_evaluation#part_ii_writing_your_own_training_evaluation_loops_from_scratch\n"
      ]
    },
    {
      "cell_type": "code",
      "metadata": {
        "id": "0S85MnPTJ3As",
        "colab_type": "code",
        "colab": {}
      },
      "source": [
        "# optimizer=tf.optimizers.RMSprop(learning_rate=0.05)\n",
        "# loss_values = np.zeros((1000))\n",
        "# for e in range(10):\n",
        "#     with tf.GradientTape() as tape:\n",
        "#         y_hat = model_zi(X_tr)\n",
        "#         loss_value = -tf.reduce_mean(y_hat.log_prob(y_tr))\n",
        "#         loss_values[e] = loss_value\n",
        "#         grads = tape.gradient(loss_value, model_zi.trainable_weights)\n",
        "#         weights =  model_zi.trainable_weights       \n",
        "#         optimizer.apply_gradients(zip(grads,weights))"
      ],
      "execution_count": 0,
      "outputs": []
    },
    {
      "cell_type": "markdown",
      "metadata": {
        "id": "unuNCoHRJ3Au",
        "colab_type": "text"
      },
      "source": [
        "### Training using keras' build in training"
      ]
    },
    {
      "cell_type": "code",
      "metadata": {
        "id": "oiH9JQdHJ3Au",
        "colab_type": "code",
        "colab": {
          "base_uri": "https://localhost:8080/",
          "height": 553
        },
        "outputId": "5265b4fa-1d8f-4615-838c-184b0514542f"
      },
      "source": [
        "def negloglik2(y_true, y_hat):\n",
        "    # return -tf.reduce_mean(y_hat.log_prob(y_true))\n",
        "    return -tf.reduce_mean(y_hat.log_prob(tf.reshape(y_true,(-1,))))\n",
        "\n",
        "model_zi.compile(optimizer=tf.optimizers.Adam(learning_rate=0.001), loss=negloglik2)\n",
        "hist_zi = model_zi.fit(x=X_tr, y=y_tr, validation_data=(X_te, y_te), epochs=EPOCHS, verbose=True)#, callbacks=[tb]);"
      ],
      "execution_count": 31,
      "outputs": [
        {
          "output_type": "stream",
          "text": [
            "Train on 140256 samples, validate on 35040 samples\n",
            "Epoch 1/15\n",
            "140256/140256 [==============================] - 17s 124us/sample - loss: 1.8933 - val_loss: 1.9341\n",
            "Epoch 2/15\n",
            "140256/140256 [==============================] - 17s 121us/sample - loss: 1.8422 - val_loss: 1.9309\n",
            "Epoch 3/15\n",
            "140256/140256 [==============================] - 17s 119us/sample - loss: 1.8392 - val_loss: 1.9375\n",
            "Epoch 4/15\n",
            "140256/140256 [==============================] - 17s 121us/sample - loss: 1.8359 - val_loss: 1.9253\n",
            "Epoch 5/15\n",
            "140256/140256 [==============================] - 17s 119us/sample - loss: 1.8311 - val_loss: 1.9297\n",
            "Epoch 6/15\n",
            "140256/140256 [==============================] - 17s 119us/sample - loss: 1.8320 - val_loss: 1.9210\n",
            "Epoch 7/15\n",
            "140256/140256 [==============================] - 17s 122us/sample - loss: 1.8301 - val_loss: 1.9355\n",
            "Epoch 8/15\n",
            "140256/140256 [==============================] - 17s 122us/sample - loss: 1.8307 - val_loss: 1.9313\n",
            "Epoch 9/15\n",
            "140256/140256 [==============================] - 17s 123us/sample - loss: 1.8298 - val_loss: 1.9268\n",
            "Epoch 10/15\n",
            "140256/140256 [==============================] - 17s 120us/sample - loss: 1.8286 - val_loss: 1.9359\n",
            "Epoch 11/15\n",
            "140256/140256 [==============================] - 17s 120us/sample - loss: 1.8304 - val_loss: 1.9219\n",
            "Epoch 12/15\n",
            "140256/140256 [==============================] - 17s 120us/sample - loss: 1.8318 - val_loss: 1.9220\n",
            "Epoch 13/15\n",
            "140256/140256 [==============================] - 17s 120us/sample - loss: 1.8303 - val_loss: 1.9209\n",
            "Epoch 14/15\n",
            "140256/140256 [==============================] - 17s 119us/sample - loss: 1.8300 - val_loss: 1.9276\n",
            "Epoch 15/15\n",
            "140256/140256 [==============================] - 17s 121us/sample - loss: 1.8299 - val_loss: 1.9198\n"
          ],
          "name": "stdout"
        }
      ]
    },
    {
      "cell_type": "code",
      "metadata": {
        "id": "zCt7uOt5J3Av",
        "colab_type": "code",
        "colab": {
          "base_uri": "https://localhost:8080/",
          "height": 482
        },
        "outputId": "b6806201-5ba4-4a4f-b9bd-0ae5d90b04de"
      },
      "source": [
        "#plt.plot(hist_p.history['loss'],linestyle='-.')\n",
        "plt.plot(hist_zi.history['val_loss'])\n",
        "#plt.plot(hist_zi.history['loss'])\n",
        "plt.plot(hist_zi.history['loss'])\n",
        "plt.ylim(1.2,2.2)\n",
        "#plt.legend(['Poisson loss','Poisson val_loss','ZI loss','ZI val_loss'])\n",
        "plt.legend(['val_loss','loss'])\n",
        "plt.xlabel('Epochs')\n",
        "plt.ylabel('NLL')\n",
        "plt.savefig('ch05_flik.pdf')\n",
        "#np.mean(hist_p.history['val_loss'][-30:]) ,\n",
        "np.min(hist_zi.history['val_loss']) ,np.mean(hist_zi.history['val_loss'][-10:]) "
      ],
      "execution_count": 32,
      "outputs": [
        {
          "output_type": "execute_result",
          "data": {
            "text/plain": [
              "(1.919754906005511, 1.926263478814739)"
            ]
          },
          "metadata": {
            "tags": []
          },
          "execution_count": 32
        },
        {
          "output_type": "display_data",
          "data": {
            "image/png": "[encoded data removed]",
            "text/plain": [
              "<Figure size 640x480 with 1 Axes>"
            ]
          },
          "metadata": {
            "tags": []
          }
        }
      ]
    },
    {
      "cell_type": "code",
      "metadata": {
        "id": "V9yNtAZoJ3Ax",
        "colab_type": "code",
        "colab": {}
      },
      "source": [
        "# model_zi = tf.keras.models.Model(inputs=inputs, outputs=p_y_zi.mean())\n",
        "# y_hat_te = model_zi(X_te)\n",
        "# #mean_absolute_error(y_hat_te, y_te), mean_squared_error(y_hat_te, y_te)\n",
        "# np.sqrt(np.mean((y_hat_te - y_te)**2)),np.mean(np.abs(y_hat_te - y_te))"
      ],
      "execution_count": 0,
      "outputs": []
    },
    {
      "cell_type": "code",
      "metadata": {
        "id": "KpjPtFvhJ3Az",
        "colab_type": "code",
        "colab": {}
      },
      "source": [
        "if HIGHMEN:\n",
        "  plt.figure(figsize=(6,6))\n",
        "  plt.xlim(-1,5)\n",
        "  plt.ylim(-1,5)\n",
        "  y_hat_tr = model_zi(X_tr)\n",
        "\n",
        "  plt.scatter(y_hat_te, np.random.normal(loc=y_te,scale=0.2), alpha=0.7)\n",
        "  plt.xlabel('Counts: predicted by ZI (Training)')\n",
        "  plt.ylabel('Counts: true')\n",
        "\n",
        "  plt.savefig('ch05_zi.pdf')\n",
        "  print('Training Set', np.mean(np.square(y_hat_tr[y_tr == 0])),np.sum(y_hat_tr[y_tr == 0]>0.5))\n",
        "  print('Validation Set', np.mean(np.square(y_hat_te[y_te == 0])),np.sum(y_hat_te[y_te == 0]>0.5))"
      ],
      "execution_count": 0,
      "outputs": []
    },
    {
      "cell_type": "markdown",
      "metadata": {
        "id": "zqgWm9QPQlle",
        "colab_type": "text"
      },
      "source": [
        "## 4 Using Mixture Models"
      ]
    },
    {
      "cell_type": "code",
      "metadata": {
        "id": "0l4pkNpgQ7nR",
        "colab_type": "code",
        "colab": {}
      },
      "source": [
        "def negloglik2(y_true, y_hat):\n",
        "    # return -tf.reduce_mean(y_hat.log_prob(y_true))\n",
        "    return -tf.reduce_mean(y_hat.log_prob(tf.reshape(y_true,(-1,))))"
      ],
      "execution_count": 0,
      "outputs": []
    },
    {
      "cell_type": "code",
      "metadata": {
        "id": "WTrEeR94J3A4",
        "colab_type": "code",
        "colab": {}
      },
      "source": [
        "# 10          20       30        40       50         55\n",
        "#123456789012345678901234567890123456789012345678901234\n",
        "#See https://www.tensorflow.org/probability/api_docs/python/tfp/distributions/QuantizedDistribution\n",
        "def mixture_discrete(out, bits=6, num=3): \n",
        "    loc, un_scale, logits = tf.split(out,\n",
        "                                     num_or_size_splits=num,\n",
        "                                     axis=-1)\n",
        "    scale = 0.5 + tf.nn.softplus(un_scale)\n",
        "    \n",
        "    distribution=tfd.TransformedDistribution(\n",
        "        #distribution=tfd.Poisson(rate=scale),\n",
        "        distribution=tfd.Logistic(loc=loc, scale=scale),\n",
        "        bijector=tfb.AffineScalar(shift=-0.5)\n",
        "    )\n",
        "       \n",
        "    \n",
        "    discretized_logistic_dist = tfd.QuantizedDistribution(distribution, low=0.,high=2**bits - 1.)\n",
        "    \n",
        "    mixture_dist = tfd.MixtureSameFamily(\n",
        "        mixture_distribution=tfd.Categorical(logits=logits), #logits will be normalized to one\n",
        "        components_distribution=discretized_logistic_dist)\n",
        "    return mixture_dist"
      ],
      "execution_count": 0,
      "outputs": []
    },
    {
      "cell_type": "code",
      "metadata": {
        "id": "7fxviCkeJ3A6",
        "colab_type": "code",
        "colab": {}
      },
      "source": [
        "# 10          20       30        40       50         55\n",
        "#123456789012345678901234567890123456789012345678901234\n",
        "#See https://www.tensorflow.org/probability/api_docs/python/tfp/distributions/QuantizedDistribution\n",
        "def nvp_discrete(out, bits=6, num=3): \n",
        "    loc, un_scale, logits = tf.split(out,\n",
        "                                     num_or_size_splits=num,\n",
        "                                     axis=-1)\n",
        "    scale = 0.5 + tf.nn.softplus(un_scale)\n",
        "    \n",
        "    distribution=tfd.TransformedDistribution(\n",
        "        distribution=tfd.Logistic(loc=loc, scale=scale),\n",
        "        bijector=tfb.RealNVP(\n",
        "        num_masked=2,\n",
        "        shift_and_log_scale_fn=tfb.real_nvp_default_template(\n",
        "            hidden_layers=[16, 16]))\n",
        "    )\n",
        "       \n",
        "    \n",
        "    discretized_logistic_dist = tfd.QuantizedDistribution(distribution, low=0.,high=2**bits - 1.)\n",
        "   \n",
        "    return discretized_logistic_dist"
      ],
      "execution_count": 0,
      "outputs": []
    },
    {
      "cell_type": "code",
      "metadata": {
        "id": "oneQnZIaJ3A-",
        "colab_type": "code",
        "colab": {
          "base_uri": "https://localhost:8080/",
          "height": 466
        },
        "outputId": "9221b803-7380-407d-d6a8-3b9dee023450"
      },
      "source": [
        "from tensorflow.keras.regularizers import l2\n",
        "inputs = tf.keras.layers.Input(shape=(X_tr.shape[1],))  \n",
        "h = tf.keras.layers.Dense(50, activation='relu')(inputs)\n",
        "h = tf.keras.layers.Dropout(0.1)(h)\n",
        "h = tf.keras.layers.Dense(500, activation='relu')(inputs)\n",
        "h = tf.keras.layers.Dropout(0.1)(h)\n",
        "h = tf.keras.layers.Dense(100, activation='relu')(h)\n",
        "h = tf.keras.layers.Dropout(0.2)(h)\n",
        "h = tf.keras.layers.Dense(100, activation='relu')(h)\n",
        "h = tf.keras.layers.Dropout(0.3)(h)\n",
        "h = tf.keras.layers.Dense(9, activation='relu')(h)\n",
        "#tt = tf.concat([loc1, scales1, logits], axis=1)\n",
        "p_y = tfp.layers.DistributionLambda(mixture_discrete)(h) \n",
        "model = tf.keras.models.Model(inputs=inputs, outputs=p_y)\n",
        "#model_mean = tf.keras.models.Model(inputs=inputs, outputs=p_y.mean()) #For evaluation we need the mean\n",
        "model.compile(optimizer=tf.optimizers.Adam(0.01), loss=negloglik2)\n",
        "model.summary()"
      ],
      "execution_count": 38,
      "outputs": [
        {
          "output_type": "stream",
          "text": [
            "Model: \"model_2\"\n",
            "_________________________________________________________________\n",
            "Layer (type)                 Output Shape              Param #   \n",
            "=================================================================\n",
            "input_3 (InputLayer)         [(None, 16)]              0         \n",
            "_________________________________________________________________\n",
            "dense_11 (Dense)             (None, 500)               8500      \n",
            "_________________________________________________________________\n",
            "dropout_7 (Dropout)          (None, 500)               0         \n",
            "_________________________________________________________________\n",
            "dense_12 (Dense)             (None, 100)               50100     \n",
            "_________________________________________________________________\n",
            "dropout_8 (Dropout)          (None, 100)               0         \n",
            "_________________________________________________________________\n",
            "dense_13 (Dense)             (None, 100)               10100     \n",
            "_________________________________________________________________\n",
            "dropout_9 (Dropout)          (None, 100)               0         \n",
            "_________________________________________________________________\n",
            "dense_14 (Dense)             (None, 9)                 909       \n",
            "_________________________________________________________________\n",
            "distribution_lambda_2 (Distr ((None,), (None,))        0         \n",
            "=================================================================\n",
            "Total params: 69,609\n",
            "Trainable params: 69,609\n",
            "Non-trainable params: 0\n",
            "_________________________________________________________________\n"
          ],
          "name": "stdout"
        }
      ]
    },
    {
      "cell_type": "markdown",
      "metadata": {
        "id": "CILdIEHPWtOt",
        "colab_type": "text"
      },
      "source": [
        "### Results"
      ]
    },
    {
      "cell_type": "code",
      "metadata": {
        "id": "I0rNmGI1J3BB",
        "colab_type": "code",
        "colab": {
          "base_uri": "https://localhost:8080/",
          "height": 553
        },
        "outputId": "0c351cf4-2701-4368-d323-7352335f2380"
      },
      "source": [
        "hist = model.fit(X_tr, y_tr, epochs=EPOCHS, verbose=1, validation_data=(X_te, y_te))"
      ],
      "execution_count": 39,
      "outputs": [
        {
          "output_type": "stream",
          "text": [
            "Train on 140256 samples, validate on 35040 samples\n",
            "Epoch 1/15\n",
            "140256/140256 [==============================] - 21s 149us/sample - loss: 1.6799 - val_loss: 1.7494\n",
            "Epoch 2/15\n",
            "140256/140256 [==============================] - 21s 146us/sample - loss: 1.6743 - val_loss: 1.7551\n",
            "Epoch 3/15\n",
            "140256/140256 [==============================] - 21s 150us/sample - loss: 1.6747 - val_loss: 1.7686\n",
            "Epoch 4/15\n",
            "140256/140256 [==============================] - 21s 146us/sample - loss: 1.6831 - val_loss: 1.7539\n",
            "Epoch 5/15\n",
            "140256/140256 [==============================] - 20s 146us/sample - loss: 1.6718 - val_loss: 1.7691\n",
            "Epoch 6/15\n",
            "140256/140256 [==============================] - 20s 145us/sample - loss: 1.6727 - val_loss: 1.7527\n",
            "Epoch 7/15\n",
            "140256/140256 [==============================] - 20s 145us/sample - loss: 1.6752 - val_loss: 1.7476\n",
            "Epoch 8/15\n",
            "140256/140256 [==============================] - 20s 145us/sample - loss: 1.6770 - val_loss: 1.7716\n",
            "Epoch 9/15\n",
            "140256/140256 [==============================] - 20s 145us/sample - loss: 1.6857 - val_loss: 1.7638\n",
            "Epoch 10/15\n",
            "140256/140256 [==============================] - 20s 146us/sample - loss: 1.6835 - val_loss: 1.7714\n",
            "Epoch 11/15\n",
            "140256/140256 [==============================] - 20s 145us/sample - loss: 1.6837 - val_loss: 1.7619\n",
            "Epoch 12/15\n",
            "140256/140256 [==============================] - 20s 146us/sample - loss: 1.6927 - val_loss: 1.7809\n",
            "Epoch 13/15\n",
            "140256/140256 [==============================] - 20s 145us/sample - loss: 1.6940 - val_loss: 1.7851\n",
            "Epoch 14/15\n",
            "140256/140256 [==============================] - 20s 145us/sample - loss: 1.6953 - val_loss: 1.7763\n",
            "Epoch 15/15\n",
            "140256/140256 [==============================] - 20s 145us/sample - loss: 1.6933 - val_loss: 1.7792\n"
          ],
          "name": "stdout"
        }
      ]
    },
    {
      "cell_type": "code",
      "metadata": {
        "id": "268pEn4PJ3BC",
        "colab_type": "code",
        "colab": {
          "base_uri": "https://localhost:8080/",
          "height": 478
        },
        "outputId": "c50c13b3-e8ea-463b-9421-f8921abe5234"
      },
      "source": [
        "plt.plot(hist.history['loss'])\n",
        "plt.plot(hist.history['val_loss'])\n",
        "plt.legend(['loss', 'val_loss'])\n",
        "plt.xlabel('Epochs')\n",
        "plt.ylabel('NLL')\n",
        "np.mean(hist.history['loss'])\n",
        "#plt.ylim(1.5,1.7)\n",
        "np.mean(hist.history['val_loss'][4:10]) "
      ],
      "execution_count": 41,
      "outputs": [
        {
          "output_type": "execute_result",
          "data": {
            "text/plain": [
              "1.7627262576348521"
            ]
          },
          "metadata": {
            "tags": []
          },
          "execution_count": 41
        },
        {
          "output_type": "display_data",
          "data": {
            "image/png": "[encoded data removed]",
            "text/plain": [
              "<Figure size 640x480 with 1 Axes>"
            ]
          },
          "metadata": {
            "tags": []
          }
        }
      ]
    },
    {
      "cell_type": "code",
      "metadata": {
        "id": "xB-ttM7-J3BQ",
        "colab_type": "code",
        "colab": {}
      },
      "source": [
        ""
      ],
      "execution_count": 0,
      "outputs": []
    }
  ]
}