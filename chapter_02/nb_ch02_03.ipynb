{
  "nbformat": 4,
  "nbformat_minor": 0,
  "metadata": {
    "colab": {
      "name": "nb_ch02_03.ipynb",
      "provenance": [],
      "collapsed_sections": []
    },
    "language_info": {
      "codemirror_mode": {
        "name": "ipython",
        "version": 3
      },
      "file_extension": ".py",
      "mimetype": "text/x-python",
      "name": "python",
      "nbconvert_exporter": "python",
      "pygments_lexer": "ipython3",
      "version": "3.5.2"
    },
    "kernelspec": {
      "display_name": "Python 3",
      "language": "python",
      "name": "python3"
    },
    "accelerator": "GPU"
  },
  "cells": [
    {
      "cell_type": "markdown",
      "metadata": {
        "colab_type": "text",
        "id": "4K8Ug6ICkRtQ"
      },
      "source": [
        "# A simple CNN for the edge lover task\n",
        "\n",
        "**Goal:** In this notebook you train a very simple CNN with only 1 kernel to discriminate images containing vertical from those containing horizontal stripes. To check what pattern is recognized by the learned kernel you will visualize the weights of the kernel as an image. You will see that the CNN leans a useful kernel (either a vertical or horiziontal bar).You can experiment with the code to check the influence of the kernel size, the activation function and the pooling method on the result.  \n",
        "\n",
        "**Usage:** The idea of the notebook is that you try to understand the provided code by running it, checking the output and playing with it by slightly changing the code and rerunning it.  \n",
        "\n",
        "**Dataset:** You work with an artficially generatet dataset of greyscale images (50x50 pixel) with 10 vertical or horizontal bars. We want to classify them into whether or not an art lover will like them(0 or 1).  \n",
        "\n",
        "**Content:**\n",
        "* definig and generating the dataset X_train and X_val\n",
        "* visualize samples of the generated images\n",
        "* use keras to train a CNN with only one kernel (5x5 pixel)\n",
        "* visualize the weights of the leaned kernel and interpret if it is useful\n",
        "* repeat the last two steps to check if the learned kernel is always the same\n",
        "\n",
        "\n",
        "| [open in colab](https://colab.research.google.com/github/tensorchiefs/dl_book/blob/master/chapter_02/nb_ch02_03.ipynb)\n"
      ]
    },
    {
      "cell_type": "markdown",
      "metadata": {
        "colab_type": "text",
        "id": "eiB8bJNYn8oP"
      },
      "source": [
        "#### Imports and image generator functions\n",
        "\n",
        "In the next two cells, we load all the required libraries and functions. We define two functions to generate images with vertical and horizontal images. "
      ]
    },
    {
      "cell_type": "code",
      "metadata": {
        "id": "2CahmsWJfyee",
        "colab_type": "code",
        "outputId": "803e51c7-7916-47c3-d4ec-41036610de8a",
        "colab": {
          "base_uri": "https://localhost:8080/",
          "height": 35
        }
      },
      "source": [
        "try: #If running in colab \n",
        "    import google.colab\n",
        "    IN_COLAB = True \n",
        "    %tensorflow_version 2.x\n",
        "except:\n",
        "    IN_COLAB = False\n"
      ],
      "execution_count": 1,
      "outputs": [
        {
          "output_type": "stream",
          "text": [
            "TensorFlow 2.x selected.\n"
          ],
          "name": "stdout"
        }
      ]
    },
    {
      "cell_type": "code",
      "metadata": {
        "id": "dcjno7cXfzPN",
        "colab_type": "code",
        "outputId": "c06364cc-6fda-4f47-bf69-55efb5a3a2eb",
        "colab": {
          "base_uri": "https://localhost:8080/",
          "height": 35
        }
      },
      "source": [
        "import tensorflow as tf\n",
        "if (not tf.__version__.startswith('2')): #Checking if tf 2.0 is installed\n",
        "    print('Please install tensorflow 2.0 to run this notebook')\n",
        "print('Tensorflow version: ',tf.__version__, ' running in colab?: ', IN_COLAB)"
      ],
      "execution_count": 2,
      "outputs": [
        {
          "output_type": "stream",
          "text": [
            "Tensorflow version:  2.1.0-rc1  running in colab?:  True\n"
          ],
          "name": "stdout"
        }
      ]
    },
    {
      "cell_type": "code",
      "metadata": {
        "colab_type": "code",
        "id": "2PDLAWRQ7iUB",
        "colab": {}
      },
      "source": [
        "# load required libraries:\n",
        "import numpy as np\n",
        "import matplotlib.pyplot as plt\n",
        "%matplotlib inline\n",
        "plt.style.use('default')\n",
        "\n",
        "import tensorflow.keras \n",
        "from tensorflow.keras.models import Sequential\n",
        "from tensorflow.keras.layers import Dense, Convolution2D, MaxPooling2D, Flatten , Activation\n",
        "from tensorflow.keras.utils import to_categorical "
      ],
      "execution_count": 0,
      "outputs": []
    },
    {
      "cell_type": "markdown",
      "metadata": {
        "colab_type": "text",
        "id": "Oq0FNqcBpj23"
      },
      "source": [
        "### Defining functions to generate images \n",
        "\n",
        "Here we define the function to genere images with vertical and horizontal bars, the arguments of the functions are the size of the image and the nr of bars you want to have. The bars are at random positions in the image with a random length. The image is black and white, meaning we have only two values for the pixels, 0 for black and 255 for white."
      ]
    },
    {
      "cell_type": "code",
      "metadata": {
        "colab_type": "code",
        "id": "nqVBlR8yAO9c",
        "colab": {}
      },
      "source": [
        "#define function to generate image with shape (size, size, 1) with stripes\n",
        "def generate_image_with_bars(size, bar_nr, vertical = True):\n",
        "  img=np.zeros((size,size,1),dtype=\"uint8\")\n",
        "  for i in range(0,bar_nr):\n",
        "    x,y = np.random.randint(0,size,2)\n",
        "    l  = np.int(np.random.randint(y,size,1))\n",
        "    if (vertical):\n",
        "      img[y:l,x,0]=255\n",
        "    else:\n",
        "      img[x,y:l,0]=255\n",
        "  return img  "
      ],
      "execution_count": 0,
      "outputs": []
    },
    {
      "cell_type": "markdown",
      "metadata": {
        "colab_type": "text",
        "id": "bUmdGzQLdqzB"
      },
      "source": [
        "Let's have a look how the generated images. We choose a size of 50x50 pixels and set the nr of bars in the image to 10. "
      ]
    },
    {
      "cell_type": "code",
      "metadata": {
        "colab_type": "code",
        "id": "EccLz0FlXGuU",
        "outputId": "0514b883-36de-4df4-a6af-fb8b3ed47759",
        "colab": {
          "base_uri": "https://localhost:8080/",
          "height": 363
        }
      },
      "source": [
        "# have a look on two generated images\n",
        "plt.figure(figsize=(8,8))\n",
        "plt.subplot(1,2,1)\n",
        "img=generate_image_with_bars(50,10, vertical=True)\n",
        "plt.imshow(img[:,:,0],cmap='gray')\n",
        "plt.subplot(1,2,2)\n",
        "img=generate_image_with_bars(50,10, vertical=False)\n",
        "plt.imshow(img[:,:,0],cmap='gray')"
      ],
      "execution_count": 5,
      "outputs": [
        {
          "output_type": "execute_result",
          "data": {
            "text/plain": [
              "<matplotlib.image.AxesImage at 0x7ff414035198>"
            ]
          },
          "metadata": {
            "tags": []
          },
          "execution_count": 5
        },
        {
          "output_type": "display_data",
          "data": {
            "image/png": "[encoded data removed]",
            "text/plain": [
              "<Figure size 800x800 with 2 Axes>"
            ]
          },
          "metadata": {
            "tags": []
          }
        }
      ]
    },
    {
      "cell_type": "markdown",
      "metadata": {
        "colab_type": "text",
        "id": "Y8gSwmyaevTk"
      },
      "source": [
        "### Make a train and validation dataset of images with vertical and horizontal images\n",
        "Now, let's make a train dataset *X_train* with 1000 images (500 images with vertical and 500 images with horizontal bars). We normalize the images values to be between 0 and 1 by dividing all values with 255. We create a secont dataste *X_val* with exactly the same properties to validate the training of the CNN."
      ]
    },
    {
      "cell_type": "code",
      "metadata": {
        "colab_type": "code",
        "id": "63omuptEILKu",
        "outputId": "117892ab-5c52-4063-9e55-d38b3182d1b9",
        "colab": {
          "base_uri": "https://localhost:8080/",
          "height": 52
        }
      },
      "source": [
        "pixel=50  # define height and width of images\n",
        "num_images_train = 1000 #Number of training examples (divisible by 2) \n",
        "num_images_val = 1000 #Number of training examples (divisible by 2) \n",
        "\n",
        "# generate training data with vertical edges\n",
        "X_train =np.zeros((num_images_train,pixel,pixel,1))\n",
        "for i in range(0, num_images_train//2):\n",
        "   X_train[i]=generate_image_with_bars(pixel,10)\n",
        "# ... with horizontal\n",
        "for i in range(num_images_train//2, num_images_train):\n",
        "   X_train[i]=generate_image_with_bars(pixel,10, vertical=False)\n",
        "\n",
        "# generate validation data \n",
        "X_val =np.zeros((num_images_train,pixel,pixel,1))\n",
        "for i in range(0, num_images_train//2): \n",
        "   X_val[i]=generate_image_with_bars(pixel,10)\n",
        "# ... with horizontal\n",
        "for i in range(num_images_train//2, num_images_train):\n",
        "   X_val[i]=generate_image_with_bars(pixel,10, vertical=False)\n",
        "\n",
        "\n",
        "# normalize the data to be between 0 and 1\n",
        "X_train=X_train/255\n",
        "X_val=X_val/255\n",
        "\n",
        "print(X_train.shape)\n",
        "print(X_val.shape)"
      ],
      "execution_count": 6,
      "outputs": [
        {
          "output_type": "stream",
          "text": [
            "(1000, 50, 50, 1)\n",
            "(1000, 50, 50, 1)\n"
          ],
          "name": "stdout"
        }
      ]
    },
    {
      "cell_type": "markdown",
      "metadata": {
        "colab_type": "text",
        "id": "ajNnUoYyi7IQ"
      },
      "source": [
        "Here we make the labels for the art lover, 0 means he likes the image and 1 means that he doesn't like it. We convert the labels into the one hot encoding becuase we want to use two outputs in our network."
      ]
    },
    {
      "cell_type": "code",
      "metadata": {
        "colab_type": "code",
        "id": "41-L5hM8S_ZP",
        "colab": {}
      },
      "source": [
        "# create class labels\n",
        "y = np.array([[0],[1]])\n",
        "Y_train = np.repeat(y, num_images_train //2)\n",
        "Y_val = np.repeat(y, num_images_train //2)\n",
        "\n",
        "# one-hot-encoding\n",
        "Y_train=to_categorical(Y_train,2)\n",
        "Y_val=to_categorical(Y_val,2)"
      ],
      "execution_count": 0,
      "outputs": []
    },
    {
      "cell_type": "markdown",
      "metadata": {
        "colab_type": "text",
        "id": "uZpr0h-VvatF"
      },
      "source": [
        "## Defining the CNN to predict which images the art lover likes\n",
        "\n",
        "Here we define the kind of special architecture of the CNN: \n",
        "\n",
        ">we use only one kernel with a size of 5x5 pixels  \n",
        ">then we apply a linar activation function  \n",
        ">the maxpooling layer takes the maximum of the whole activation map to predict the probability (output layer with softmax) if the art lover will like the image\n",
        "\n",
        "as loss we use the categorical_crossentropy and we train for 20 epochs with a batchsize of 64 images per update.\n"
      ]
    },
    {
      "cell_type": "markdown",
      "metadata": {
        "id": "F-0ZP6W_klrY",
        "colab_type": "text"
      },
      "source": [
        "#### Listing 2.5 Edge lover CNN                                                                                                                      "
      ]
    },
    {
      "cell_type": "code",
      "metadata": {
        "colab_type": "code",
        "id": "1Dfg1h2rUifd",
        "colab": {}
      },
      "source": [
        "model = Sequential()\n",
        "\n",
        "model.add(Convolution2D(1,(5,5),padding='same',input_shape=(pixel,pixel,1)))\n",
        "model.add(Activation('linear'))\n",
        "\n",
        "# take the max over all values in the activation map\n",
        "model.add(MaxPooling2D(pool_size=(pixel,pixel)))\n",
        "model.add(Flatten()) \n",
        "model.add(Dense(2))\n",
        "model.add(Activation('softmax'))\n",
        "\n",
        "# compile model and initialize weights\n",
        "model.compile(loss='categorical_crossentropy',\n",
        "              optimizer='adam',\n",
        "              metrics=['accuracy'])\n"
      ],
      "execution_count": 0,
      "outputs": []
    },
    {
      "cell_type": "code",
      "metadata": {
        "colab_type": "code",
        "id": "r6eqV0TRU0_n",
        "outputId": "57a410b6-b7b2-4626-b1cf-e5239a3f1ece",
        "colab": {
          "base_uri": "https://localhost:8080/",
          "height": 372
        }
      },
      "source": [
        "# let's summarize the CNN architectures along with the number of model weights\n",
        "model.summary()\n"
      ],
      "execution_count": 9,
      "outputs": [
        {
          "output_type": "stream",
          "text": [
            "Model: \"sequential\"\n",
            "_________________________________________________________________\n",
            "Layer (type)                 Output Shape              Param #   \n",
            "=================================================================\n",
            "conv2d (Conv2D)              (None, 50, 50, 1)         26        \n",
            "_________________________________________________________________\n",
            "activation (Activation)      (None, 50, 50, 1)         0         \n",
            "_________________________________________________________________\n",
            "max_pooling2d (MaxPooling2D) (None, 1, 1, 1)           0         \n",
            "_________________________________________________________________\n",
            "flatten (Flatten)            (None, 1)                 0         \n",
            "_________________________________________________________________\n",
            "dense (Dense)                (None, 2)                 4         \n",
            "_________________________________________________________________\n",
            "activation_1 (Activation)    (None, 2)                 0         \n",
            "=================================================================\n",
            "Total params: 30\n",
            "Trainable params: 30\n",
            "Non-trainable params: 0\n",
            "_________________________________________________________________\n"
          ],
          "name": "stdout"
        }
      ]
    },
    {
      "cell_type": "code",
      "metadata": {
        "colab_type": "code",
        "id": "Sc-BYd8kVCx0",
        "outputId": "f2256b2a-876c-400e-e4e0-171c11776124",
        "colab": {
          "base_uri": "https://localhost:8080/",
          "height": 1000
        }
      },
      "source": [
        "# train the model\n",
        "history=model.fit(X_train, Y_train,\n",
        "                  validation_data=(X_val,Y_val),\n",
        "                  batch_size=64, \n",
        "                  epochs=50,\n",
        "                  verbose=1,\n",
        "                  shuffle=True) "
      ],
      "execution_count": 10,
      "outputs": [
        {
          "output_type": "stream",
          "text": [
            "Train on 1000 samples, validate on 1000 samples\n",
            "Epoch 1/50\n",
            "1000/1000 [==============================] - 4s 4ms/sample - loss: 0.7168 - accuracy: 0.5000 - val_loss: 0.6959 - val_accuracy: 0.5000\n",
            "Epoch 2/50\n",
            "1000/1000 [==============================] - 0s 164us/sample - loss: 0.6787 - accuracy: 0.5000 - val_loss: 0.6612 - val_accuracy: 0.5000\n",
            "Epoch 3/50\n",
            "1000/1000 [==============================] - 0s 152us/sample - loss: 0.6467 - accuracy: 0.5000 - val_loss: 0.6320 - val_accuracy: 0.5000\n",
            "Epoch 4/50\n",
            "1000/1000 [==============================] - 0s 168us/sample - loss: 0.6193 - accuracy: 0.5000 - val_loss: 0.6071 - val_accuracy: 0.5000\n",
            "Epoch 5/50\n",
            "1000/1000 [==============================] - 0s 163us/sample - loss: 0.5962 - accuracy: 0.5000 - val_loss: 0.5869 - val_accuracy: 0.5000\n",
            "Epoch 6/50\n",
            "1000/1000 [==============================] - 0s 187us/sample - loss: 0.5777 - accuracy: 0.5000 - val_loss: 0.5696 - val_accuracy: 0.5000\n",
            "Epoch 7/50\n",
            "1000/1000 [==============================] - 0s 165us/sample - loss: 0.5607 - accuracy: 0.5000 - val_loss: 0.5534 - val_accuracy: 0.5000\n",
            "Epoch 8/50\n",
            "1000/1000 [==============================] - 0s 183us/sample - loss: 0.5448 - accuracy: 0.5000 - val_loss: 0.5376 - val_accuracy: 0.5000\n",
            "Epoch 9/50\n",
            "1000/1000 [==============================] - 0s 163us/sample - loss: 0.5293 - accuracy: 0.5330 - val_loss: 0.5222 - val_accuracy: 0.5770\n",
            "Epoch 10/50\n",
            "1000/1000 [==============================] - 0s 160us/sample - loss: 0.5137 - accuracy: 0.5950 - val_loss: 0.5067 - val_accuracy: 0.5890\n",
            "Epoch 11/50\n",
            "1000/1000 [==============================] - 0s 157us/sample - loss: 0.4981 - accuracy: 0.6050 - val_loss: 0.4912 - val_accuracy: 0.6080\n",
            "Epoch 12/50\n",
            "1000/1000 [==============================] - 0s 172us/sample - loss: 0.4825 - accuracy: 0.6630 - val_loss: 0.4756 - val_accuracy: 0.7150\n",
            "Epoch 13/50\n",
            "1000/1000 [==============================] - 0s 161us/sample - loss: 0.4665 - accuracy: 0.8550 - val_loss: 0.4591 - val_accuracy: 0.9200\n",
            "Epoch 14/50\n",
            "1000/1000 [==============================] - 0s 169us/sample - loss: 0.4500 - accuracy: 0.9160 - val_loss: 0.4424 - val_accuracy: 0.9270\n",
            "Epoch 15/50\n",
            "1000/1000 [==============================] - 0s 156us/sample - loss: 0.4335 - accuracy: 0.9350 - val_loss: 0.4258 - val_accuracy: 0.9590\n",
            "Epoch 16/50\n",
            "1000/1000 [==============================] - 0s 163us/sample - loss: 0.4172 - accuracy: 0.9640 - val_loss: 0.4094 - val_accuracy: 0.9760\n",
            "Epoch 17/50\n",
            "1000/1000 [==============================] - 0s 158us/sample - loss: 0.4010 - accuracy: 0.9860 - val_loss: 0.3932 - val_accuracy: 0.9760\n",
            "Epoch 18/50\n",
            "1000/1000 [==============================] - 0s 158us/sample - loss: 0.3849 - accuracy: 0.9890 - val_loss: 0.3771 - val_accuracy: 0.9850\n",
            "Epoch 19/50\n",
            "1000/1000 [==============================] - 0s 166us/sample - loss: 0.3692 - accuracy: 0.9930 - val_loss: 0.3613 - val_accuracy: 0.9870\n",
            "Epoch 20/50\n",
            "1000/1000 [==============================] - 0s 156us/sample - loss: 0.3536 - accuracy: 0.9930 - val_loss: 0.3455 - val_accuracy: 0.9900\n",
            "Epoch 21/50\n",
            "1000/1000 [==============================] - 0s 160us/sample - loss: 0.3378 - accuracy: 0.9940 - val_loss: 0.3292 - val_accuracy: 0.9990\n",
            "Epoch 22/50\n",
            "1000/1000 [==============================] - 0s 163us/sample - loss: 0.3217 - accuracy: 0.9960 - val_loss: 0.3132 - val_accuracy: 0.9990\n",
            "Epoch 23/50\n",
            "1000/1000 [==============================] - 0s 157us/sample - loss: 0.3060 - accuracy: 0.9960 - val_loss: 0.2979 - val_accuracy: 0.9990\n",
            "Epoch 24/50\n",
            "1000/1000 [==============================] - 0s 160us/sample - loss: 0.2911 - accuracy: 0.9970 - val_loss: 0.2838 - val_accuracy: 0.9990\n",
            "Epoch 25/50\n",
            "1000/1000 [==============================] - 0s 174us/sample - loss: 0.2777 - accuracy: 0.9980 - val_loss: 0.2711 - val_accuracy: 0.9990\n",
            "Epoch 26/50\n",
            "1000/1000 [==============================] - 0s 173us/sample - loss: 0.2652 - accuracy: 0.9980 - val_loss: 0.2591 - val_accuracy: 0.9990\n",
            "Epoch 27/50\n",
            "1000/1000 [==============================] - 0s 166us/sample - loss: 0.2533 - accuracy: 0.9990 - val_loss: 0.2474 - val_accuracy: 1.0000\n",
            "Epoch 28/50\n",
            "1000/1000 [==============================] - 0s 158us/sample - loss: 0.2419 - accuracy: 0.9990 - val_loss: 0.2362 - val_accuracy: 1.0000\n",
            "Epoch 29/50\n",
            "1000/1000 [==============================] - 0s 167us/sample - loss: 0.2309 - accuracy: 0.9990 - val_loss: 0.2257 - val_accuracy: 1.0000\n",
            "Epoch 30/50\n",
            "1000/1000 [==============================] - 0s 159us/sample - loss: 0.2206 - accuracy: 1.0000 - val_loss: 0.2160 - val_accuracy: 1.0000\n",
            "Epoch 31/50\n",
            "1000/1000 [==============================] - 0s 163us/sample - loss: 0.2110 - accuracy: 1.0000 - val_loss: 0.2067 - val_accuracy: 1.0000\n",
            "Epoch 32/50\n",
            "1000/1000 [==============================] - 0s 163us/sample - loss: 0.2018 - accuracy: 1.0000 - val_loss: 0.1978 - val_accuracy: 1.0000\n",
            "Epoch 33/50\n",
            "1000/1000 [==============================] - 0s 179us/sample - loss: 0.1930 - accuracy: 1.0000 - val_loss: 0.1892 - val_accuracy: 1.0000\n",
            "Epoch 34/50\n",
            "1000/1000 [==============================] - 0s 158us/sample - loss: 0.1846 - accuracy: 1.0000 - val_loss: 0.1811 - val_accuracy: 1.0000\n",
            "Epoch 35/50\n",
            "1000/1000 [==============================] - 0s 161us/sample - loss: 0.1766 - accuracy: 1.0000 - val_loss: 0.1734 - val_accuracy: 1.0000\n",
            "Epoch 36/50\n",
            "1000/1000 [==============================] - 0s 168us/sample - loss: 0.1690 - accuracy: 1.0000 - val_loss: 0.1658 - val_accuracy: 1.0000\n",
            "Epoch 37/50\n",
            "1000/1000 [==============================] - 0s 160us/sample - loss: 0.1614 - accuracy: 1.0000 - val_loss: 0.1586 - val_accuracy: 1.0000\n",
            "Epoch 38/50\n",
            "1000/1000 [==============================] - 0s 162us/sample - loss: 0.1544 - accuracy: 1.0000 - val_loss: 0.1517 - val_accuracy: 1.0000\n",
            "Epoch 39/50\n",
            "1000/1000 [==============================] - 0s 168us/sample - loss: 0.1477 - accuracy: 1.0000 - val_loss: 0.1450 - val_accuracy: 1.0000\n",
            "Epoch 40/50\n",
            "1000/1000 [==============================] - 0s 165us/sample - loss: 0.1412 - accuracy: 1.0000 - val_loss: 0.1388 - val_accuracy: 1.0000\n",
            "Epoch 41/50\n",
            "1000/1000 [==============================] - 0s 161us/sample - loss: 0.1351 - accuracy: 1.0000 - val_loss: 0.1329 - val_accuracy: 1.0000\n",
            "Epoch 42/50\n",
            "1000/1000 [==============================] - 0s 165us/sample - loss: 0.1294 - accuracy: 1.0000 - val_loss: 0.1273 - val_accuracy: 1.0000\n",
            "Epoch 43/50\n",
            "1000/1000 [==============================] - 0s 165us/sample - loss: 0.1238 - accuracy: 1.0000 - val_loss: 0.1219 - val_accuracy: 1.0000\n",
            "Epoch 44/50\n",
            "1000/1000 [==============================] - 0s 173us/sample - loss: 0.1186 - accuracy: 1.0000 - val_loss: 0.1168 - val_accuracy: 1.0000\n",
            "Epoch 45/50\n",
            "1000/1000 [==============================] - 0s 175us/sample - loss: 0.1137 - accuracy: 1.0000 - val_loss: 0.1120 - val_accuracy: 1.0000\n",
            "Epoch 46/50\n",
            "1000/1000 [==============================] - 0s 170us/sample - loss: 0.1089 - accuracy: 1.0000 - val_loss: 0.1073 - val_accuracy: 1.0000\n",
            "Epoch 47/50\n",
            "1000/1000 [==============================] - 0s 167us/sample - loss: 0.1045 - accuracy: 1.0000 - val_loss: 0.1029 - val_accuracy: 1.0000\n",
            "Epoch 48/50\n",
            "1000/1000 [==============================] - 0s 166us/sample - loss: 0.1002 - accuracy: 1.0000 - val_loss: 0.0988 - val_accuracy: 1.0000\n",
            "Epoch 49/50\n",
            "1000/1000 [==============================] - 0s 170us/sample - loss: 0.0961 - accuracy: 1.0000 - val_loss: 0.0948 - val_accuracy: 1.0000\n",
            "Epoch 50/50\n",
            "1000/1000 [==============================] - 0s 169us/sample - loss: 0.0923 - accuracy: 1.0000 - val_loss: 0.0911 - val_accuracy: 1.0000\n"
          ],
          "name": "stdout"
        }
      ]
    },
    {
      "cell_type": "code",
      "metadata": {
        "colab_type": "code",
        "id": "fK_AAAoiQtlc",
        "outputId": "dc0bd3f4-af0f-486f-ccd1-fcaf0e155506",
        "colab": {
          "base_uri": "https://localhost:8080/",
          "height": 428
        }
      },
      "source": [
        "# plot the development of the accuracy and loss during training\n",
        "plt.figure(figsize=(12,4))\n",
        "plt.subplot(1,2,(1))\n",
        "plt.plot(history.history['accuracy'],linestyle='-.')\n",
        "plt.plot(history.history['val_accuracy'])\n",
        "plt.title('model accuracy')\n",
        "plt.ylabel('accuracy')\n",
        "plt.xlabel('epoch')\n",
        "plt.legend(['train', 'valid'], loc='lower right')\n",
        "plt.subplot(1,2,(2))\n",
        "plt.plot(history.history['loss'],linestyle='-.')\n",
        "plt.plot(history.history['val_loss'])\n",
        "plt.title('model loss')\n",
        "plt.ylabel('loss')\n",
        "plt.xlabel('epoch')\n",
        "plt.legend(['train', 'valid'], loc='upper right')"
      ],
      "execution_count": 11,
      "outputs": [
        {
          "output_type": "execute_result",
          "data": {
            "text/plain": [
              "<matplotlib.legend.Legend at 0x7ff410499b38>"
            ]
          },
          "metadata": {
            "tags": []
          },
          "execution_count": 11
        },
        {
          "output_type": "display_data",
          "data": {
            "image/png": "[encoded data removed]",
            "text/plain": [
              "<Figure size 1200x400 with 2 Axes>"
            ]
          },
          "metadata": {
            "tags": []
          }
        }
      ]
    },
    {
      "cell_type": "markdown",
      "metadata": {
        "colab_type": "text",
        "id": "uOwR3Esbw8eN"
      },
      "source": [
        "### Visualize the learned kernel and experiment with the code\n",
        "\n",
        "You see that the CNN performs very good at this task (100% accuracy). We can check which pattern is recognized by the learned kernel and see if you think that this is helpful to distinguish between images with horizontal and vertical edges. \n"
      ]
    },
    {
      "cell_type": "code",
      "metadata": {
        "colab_type": "code",
        "id": "pl1yuAddVRnE",
        "outputId": "deb5a73c-b238-4c4b-840f-885984dd278b",
        "colab": {
          "base_uri": "https://localhost:8080/",
          "height": 448
        }
      },
      "source": [
        "# get the leared weights and display them as image\n",
        "conv_filter=model.get_weights()[0]\n",
        "conv_filter.shape\n",
        "conv_filter=np.squeeze(conv_filter, axis=2)\n",
        "plt.imshow(conv_filter[:,:,0],\"gray\")"
      ],
      "execution_count": 12,
      "outputs": [
        {
          "output_type": "execute_result",
          "data": {
            "text/plain": [
              "<matplotlib.image.AxesImage at 0x7ff4103cacc0>"
            ]
          },
          "metadata": {
            "tags": []
          },
          "execution_count": 12
        },
        {
          "output_type": "display_data",
          "data": {
            "image/png": "[encoded data removed]",
            "text/plain": [
              "<Figure size 640x480 with 1 Axes>"
            ]
          },
          "metadata": {
            "tags": []
          }
        }
      ]
    },
    {
      "cell_type": "markdown",
      "metadata": {
        "colab_type": "text",
        "id": "U4gnnlAPp_Q2"
      },
      "source": [
        "#### Repeat the training and exerpiment with the kernelsize and activation function.<img src=\"https://raw.githubusercontent.com/tensorchiefs/dl_book/master/imgs/paper-pen.png\" width=\"60\" align=\"left\" />\n",
        "*Exercise: Repeat the compiling and training for several times and check if the CNN always learns the same kernel.  \n",
        "You can experiment with the code and check what happens if you use another kernel size, activation function (relu instead of linear ) or pooling method AveragePooling instead of MaxPooling.  \n",
        "Try to make a prediction before doing the experiment.*\n",
        "\n",
        "\n"
      ]
    },
    {
      "cell_type": "code",
      "metadata": {
        "id": "fRlCUwpVoy69",
        "colab_type": "code",
        "colab": {}
      },
      "source": [
        ""
      ],
      "execution_count": 0,
      "outputs": []
    }
  ]
}