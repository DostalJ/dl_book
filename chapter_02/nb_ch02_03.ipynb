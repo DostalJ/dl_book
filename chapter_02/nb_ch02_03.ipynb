{
  "nbformat": 4,
  "nbformat_minor": 0,
  "metadata": {
    "colab": {
      "name": "nb_ch02_03.ipynb",
      "version": "0.3.2",
      "provenance": [],
      "collapsed_sections": []
    },
    "kernelspec": {
      "name": "python3",
      "display_name": "Python 3"
    },
    "accelerator": "TPU"
  },
  "cells": [
    {
      "metadata": {
        "id": "4K8Ug6ICkRtQ",
        "colab_type": "text"
      },
      "cell_type": "markdown",
      "source": [
        "# A simple CNN for the edge lover task\n",
        "\n",
        "**Goal:** In this notebook you train a very simple CNN with only 1 kernel to discriminate between images containing vertical or horizontal edges. To check what pattern is recognized by the learned kernel you will visualize the weights of the kernel as an image. You will see that the CNN leans a useful kernel (either a vertical or horiziontal bar).You can experiment with the code to check the influence of the kernel size, the activation function and the pooling method on the result.  \n",
        "\n",
        "**Usage:** The idea of the notebook is that you try to understand the provided code by running it, checking the output and playing with it by slightly changing the code and rerunning it.  \n",
        "\n",
        "**Dataset:** You work with the generatet dataset of 4000 greyscale images (50x50 pixel) with 10 vertical or horizontal bars. We want to classify them into whether or not an art lover will like them(0 or 1).  \n",
        "\n",
        "**Content:**\n",
        "* definig and generating the dataset of 4000 images X_train and X_val\n",
        "* visualize samples of the generated images\n",
        "* use keras to train a CNN with only one kernel (5x5 pixel)\n",
        "* visualize the weights of the leaned kernel and interpret if it is useful\n",
        "* repeat the last two steps to check if the learned kernel is always the same\n",
        "\n",
        "\n",
        "| [open in colab](https://colab.research.google.com/github/tensorchiefs/dl_book/blob/master/chapter_02/nb_ch02_03.ipynb)\n"
      ]
    },
    {
      "metadata": {
        "id": "eiB8bJNYn8oP",
        "colab_type": "text"
      },
      "cell_type": "markdown",
      "source": [
        "#### Imports and image generator functions\n",
        "\n",
        "In the next two cells, we load all the required libraries and functions. We define two functions to generate images with vertical and horizontal images. "
      ]
    },
    {
      "metadata": {
        "id": "2PDLAWRQ7iUB",
        "colab_type": "code",
        "outputId": "cf6e0267-02f4-4266-c4e7-bf06b65f39ca",
        "colab": {
          "base_uri": "https://localhost:8080/",
          "height": 34
        }
      },
      "cell_type": "code",
      "source": [
        "# load required libraries:\n",
        "import numpy as np\n",
        "import matplotlib.pyplot as plt\n",
        "%matplotlib inline\n",
        "plt.style.use('default')\n",
        "\n",
        "import keras \n",
        "from keras.models import Sequential\n",
        "from keras.layers import Dense, Convolution2D, MaxPooling2D, Flatten , Activation\n",
        "from keras.utils import to_categorical "
      ],
      "execution_count": 0,
      "outputs": [
        {
          "output_type": "stream",
          "text": [
            "Using TensorFlow backend.\n"
          ],
          "name": "stderr"
        }
      ]
    },
    {
      "metadata": {
        "id": "Oq0FNqcBpj23",
        "colab_type": "text"
      },
      "cell_type": "markdown",
      "source": [
        "### Defining functions to generate images \n",
        "\n",
        "Here we define the function to genere images with vertical and horizontal bars, the arguments of the functions are the size of the image and the nr of bars you want to have. The bars are at random positions in the image with a random length. The image is black and white, meaning we have only two values for the pixels, 0 for black and 155 for white."
      ]
    },
    {
      "metadata": {
        "id": "nqVBlR8yAO9c",
        "colab_type": "code",
        "colab": {}
      },
      "cell_type": "code",
      "source": [
        "#define function to generate image with vertical bars\n",
        "def generate_image_with_bars_vertical(size,bar_nr):\n",
        "  img=np.zeros((size,size,1),dtype=\"uint8\")\n",
        "  for i in range(0,bar_nr):\n",
        "    x,y = np.random.randint(0,size,2)\n",
        "    l  = np.int(np.random.randint(y,size,1))\n",
        "    img[y:l,x,0]=255\n",
        "  return img  \n",
        "\n",
        "#define function to generate image with horizontal bars\n",
        "def generate_image_with_bars_horizontal(size,bar_nr):\n",
        "  img=np.zeros((size,size,1),dtype=\"uint8\")\n",
        "  for i in range(0,bar_nr):\n",
        "    x,y = np.random.randint(0,size,2)\n",
        "    l  = np.int(np.random.randint(y,size,1))\n",
        "    img[x,y:l,0]=255\n",
        "  return img  "
      ],
      "execution_count": 0,
      "outputs": []
    },
    {
      "metadata": {
        "id": "bUmdGzQLdqzB",
        "colab_type": "text"
      },
      "cell_type": "markdown",
      "source": [
        "Lets have a look how the generated images. We choose a size of 50x50 pixels and set the nr of bars in the image to 10. "
      ]
    },
    {
      "metadata": {
        "id": "EccLz0FlXGuU",
        "colab_type": "code",
        "outputId": "f277eb69-90d1-4910-c5da-645e4c45d3db",
        "colab": {
          "base_uri": "https://localhost:8080/",
          "height": 362
        }
      },
      "cell_type": "code",
      "source": [
        "# have a look on two generated images\n",
        "plt.figure(figsize=(8,8))\n",
        "plt.subplot(1,2,1)\n",
        "img=generate_image_with_bars_vertical(50,10)\n",
        "plt.imshow(img[:,:,0],cmap='gray')\n",
        "plt.subplot(1,2,2)\n",
        "img=generate_image_with_bars_horizontal(50,10)\n",
        "plt.imshow(img[:,:,0],cmap='gray')"
      ],
      "execution_count": 0,
      "outputs": [
        {
          "output_type": "execute_result",
          "data": {
            "text/plain": [
              "<matplotlib.image.AxesImage at 0x7f8dbd1ae0b8>"
            ]
          },
          "metadata": {
            "tags": []
          },
          "execution_count": 3
        },
        {
          "output_type": "display_data",
          "data": {
            "image/png": "[encoded data removed]",
            "text/plain": [
              "<Figure size 800x800 with 2 Axes>"
            ]
          },
          "metadata": {
            "tags": []
          }
        }
      ]
    },
    {
      "metadata": {
        "id": "Y8gSwmyaevTk",
        "colab_type": "text"
      },
      "cell_type": "markdown",
      "source": [
        "### Make a train and validation dataset of images with vertical and horizontal images\n",
        "Now lets make a train dataset *X_train* with 2000 images (1000 images with vertical and 1000 images with horizontal bars). We normalize the images values to be between 0 and 1 by dividing all values with 255. We create a secont dataste *X_val* with exactly the same properties to validate the training of the CNN."
      ]
    },
    {
      "metadata": {
        "id": "63omuptEILKu",
        "colab_type": "code",
        "outputId": "1e97beab-f707-4039-a29c-d8739ac79f57",
        "colab": {
          "base_uri": "https://localhost:8080/",
          "height": 50
        }
      },
      "cell_type": "code",
      "source": [
        "pixel=50  # define height and width of images\n",
        "\n",
        "# generate train data with vertical edges\n",
        "x_train_1=np.zeros((1000,pixel,pixel,1))\n",
        "for i in range(0,len(x_train_1)):\n",
        "   x_train_1[i]=generate_image_with_bars_vertical(pixel,10)\n",
        "\n",
        "# generate validation data with vertical edges\n",
        "x_val_1=np.zeros((1000,pixel,pixel,1))\n",
        "for i in range(0,len(x_val_1)):\n",
        "   x_val_1[i]=generate_image_with_bars_vertical(pixel,10)\n",
        "    \n",
        "# generate train data with horizontal edges\n",
        "x_train_2=np.zeros((1000,pixel,pixel,1))\n",
        "for i in range(0,len(x_train_2)):\n",
        "   x_train_2[i]=generate_image_with_bars_horizontal(pixel,10)\n",
        "    \n",
        "# generate validation data with horizontal edges\n",
        "x_val_2=np.zeros((1000,pixel,pixel,1))\n",
        "for i in range(0,len(x_val_2)):\n",
        "   x_val_2[i]=generate_image_with_bars_horizontal(pixel,10)\n",
        "\n",
        "# concatenate the train and validation data into one dataset\n",
        "X_train = np.concatenate([x_train_1,x_train_2],axis=0)\n",
        "X_val = np.concatenate([x_val_1,x_val_2],axis=0)\n",
        "\n",
        "# normalize the data to be between 0 and 1\n",
        "X_train=X_train/255\n",
        "X_val=X_val/255\n",
        "\n",
        "print(X_train.shape)\n",
        "print(X_val.shape)\n"
      ],
      "execution_count": 0,
      "outputs": [
        {
          "output_type": "stream",
          "text": [
            "(2000, 50, 50, 1)\n",
            "(2000, 50, 50, 1)\n"
          ],
          "name": "stdout"
        }
      ]
    },
    {
      "metadata": {
        "id": "ajNnUoYyi7IQ",
        "colab_type": "text"
      },
      "cell_type": "markdown",
      "source": [
        "Here we make the labels for the art lover, 0 means he likes the image and 1 means that he doesn't like it. We convert the labels into the one hot encoding becuase we want to use two outputs in our network."
      ]
    },
    {
      "metadata": {
        "id": "41-L5hM8S_ZP",
        "colab_type": "code",
        "colab": {}
      },
      "cell_type": "code",
      "source": [
        "# create class labels\n",
        "y = np.array([[0],[1]])\n",
        "Y_train = np.repeat(y, 1000)\n",
        "Y_val = np.repeat(y, 1000)\n",
        "\n",
        "# one-hot-encoding\n",
        "Y_train=to_categorical(Y_train,2)\n",
        "Y_val=to_categorical(Y_val,2)"
      ],
      "execution_count": 0,
      "outputs": []
    },
    {
      "metadata": {
        "id": "uZpr0h-VvatF",
        "colab_type": "text"
      },
      "cell_type": "markdown",
      "source": [
        "## Defining the CNN to predict which images the art lover likes\n",
        "\n",
        "Here we define the kind of special architecture of the CNN: \n",
        "\n",
        ">we use only one kernel with a size of 5x5 pixels  \n",
        ">then we apply a linar activation function\n",
        ">the maxpooling layer takes the maximum of the whole activation map to predict the probability (output layer with softmax) if the art lover will like the image\n",
        "\n",
        "as loss we use the categorical_crossentropy and we train for 20 epochs with a batchsize of 64 images per update.\n"
      ]
    },
    {
      "metadata": {
        "id": "1Dfg1h2rUifd",
        "colab_type": "code",
        "colab": {}
      },
      "cell_type": "code",
      "source": [
        "model = Sequential()\n",
        "\n",
        "model.add(Convolution2D(1,(5,5),padding='same',input_shape=(pixel,pixel,1)))\n",
        "model.add(Activation('linear'))\n",
        "\n",
        "# take the max over all values in the activation map\n",
        "model.add(MaxPooling2D(pool_size=(pixel,pixel)))\n",
        "model.add(Flatten()) \n",
        "model.add(Dense(2))\n",
        "model.add(Activation('softmax'))\n",
        "\n",
        "# compile model and initialize weights\n",
        "model.compile(loss='categorical_crossentropy',\n",
        "              optimizer='adam',\n",
        "              metrics=['accuracy'])\n"
      ],
      "execution_count": 0,
      "outputs": []
    },
    {
      "metadata": {
        "id": "r6eqV0TRU0_n",
        "colab_type": "code",
        "outputId": "6872ccba-e851-4fa6-97e7-f50458729e33",
        "colab": {
          "base_uri": "https://localhost:8080/",
          "height": 336
        }
      },
      "cell_type": "code",
      "source": [
        "# let's summarize the CNN architectures along with the number of model weights\n",
        "model.summary()\n"
      ],
      "execution_count": 0,
      "outputs": [
        {
          "output_type": "stream",
          "text": [
            "_________________________________________________________________\n",
            "Layer (type)                 Output Shape              Param #   \n",
            "=================================================================\n",
            "conv2d_1 (Conv2D)            (None, 50, 50, 1)         26        \n",
            "_________________________________________________________________\n",
            "activation_1 (Activation)    (None, 50, 50, 1)         0         \n",
            "_________________________________________________________________\n",
            "max_pooling2d_1 (MaxPooling2 (None, 1, 1, 1)           0         \n",
            "_________________________________________________________________\n",
            "flatten_1 (Flatten)          (None, 1)                 0         \n",
            "_________________________________________________________________\n",
            "dense_1 (Dense)              (None, 2)                 4         \n",
            "_________________________________________________________________\n",
            "activation_2 (Activation)    (None, 2)                 0         \n",
            "=================================================================\n",
            "Total params: 30\n",
            "Trainable params: 30\n",
            "Non-trainable params: 0\n",
            "_________________________________________________________________\n"
          ],
          "name": "stdout"
        }
      ]
    },
    {
      "metadata": {
        "id": "Sc-BYd8kVCx0",
        "colab_type": "code",
        "outputId": "a211360b-0567-4697-ef55-c1c0bfc45d49",
        "colab": {
          "base_uri": "https://localhost:8080/",
          "height": 706
        }
      },
      "cell_type": "code",
      "source": [
        "# train the model\n",
        "history=model.fit(X_train, Y_train,\n",
        "                  validation_data=(X_val,Y_val),\n",
        "                  batch_size=64, \n",
        "                  epochs=20,\n",
        "                  verbose=1,\n",
        "                  shuffle=True) "
      ],
      "execution_count": 0,
      "outputs": [
        {
          "output_type": "stream",
          "text": [
            "Train on 2000 samples, validate on 2000 samples\n",
            "Epoch 1/20\n",
            "2000/2000 [==============================] - 5s 3ms/step - loss: 0.6870 - acc: 0.5000 - val_loss: 0.6823 - val_acc: 0.5000\n",
            "Epoch 2/20\n",
            "2000/2000 [==============================] - 4s 2ms/step - loss: 0.6768 - acc: 0.5000 - val_loss: 0.6689 - val_acc: 0.5000\n",
            "Epoch 3/20\n",
            "2000/2000 [==============================] - 4s 2ms/step - loss: 0.6598 - acc: 0.5000 - val_loss: 0.6483 - val_acc: 0.5000\n",
            "Epoch 4/20\n",
            "2000/2000 [==============================] - 4s 2ms/step - loss: 0.6363 - acc: 0.5000 - val_loss: 0.6208 - val_acc: 0.5000\n",
            "Epoch 5/20\n",
            "2000/2000 [==============================] - 4s 2ms/step - loss: 0.6057 - acc: 0.5655 - val_loss: 0.5876 - val_acc: 0.5940\n",
            "Epoch 6/20\n",
            "2000/2000 [==============================] - 4s 2ms/step - loss: 0.5705 - acc: 0.8010 - val_loss: 0.5507 - val_acc: 0.8550\n",
            "Epoch 7/20\n",
            "2000/2000 [==============================] - 4s 2ms/step - loss: 0.5322 - acc: 0.8915 - val_loss: 0.5117 - val_acc: 0.9180\n",
            "Epoch 8/20\n",
            "2000/2000 [==============================] - 4s 2ms/step - loss: 0.4931 - acc: 0.9365 - val_loss: 0.4727 - val_acc: 0.9770\n",
            "Epoch 9/20\n",
            "2000/2000 [==============================] - 4s 2ms/step - loss: 0.4538 - acc: 0.9755 - val_loss: 0.4332 - val_acc: 0.9830\n",
            "Epoch 10/20\n",
            "2000/2000 [==============================] - 4s 2ms/step - loss: 0.4141 - acc: 0.9875 - val_loss: 0.3937 - val_acc: 0.9930\n",
            "Epoch 11/20\n",
            "2000/2000 [==============================] - 4s 2ms/step - loss: 0.3737 - acc: 0.9955 - val_loss: 0.3541 - val_acc: 0.9995\n",
            "Epoch 12/20\n",
            "2000/2000 [==============================] - 4s 2ms/step - loss: 0.3361 - acc: 0.9990 - val_loss: 0.3190 - val_acc: 0.9995\n",
            "Epoch 13/20\n",
            "2000/2000 [==============================] - 4s 2ms/step - loss: 0.3027 - acc: 0.9990 - val_loss: 0.2880 - val_acc: 0.9995\n",
            "Epoch 14/20\n",
            "2000/2000 [==============================] - 4s 2ms/step - loss: 0.2730 - acc: 0.9990 - val_loss: 0.2596 - val_acc: 0.9995\n",
            "Epoch 15/20\n",
            "2000/2000 [==============================] - 4s 2ms/step - loss: 0.2458 - acc: 0.9990 - val_loss: 0.2342 - val_acc: 0.9995\n",
            "Epoch 16/20\n",
            "2000/2000 [==============================] - 4s 2ms/step - loss: 0.2217 - acc: 0.9995 - val_loss: 0.2118 - val_acc: 1.0000\n",
            "Epoch 17/20\n",
            "2000/2000 [==============================] - 4s 2ms/step - loss: 0.2004 - acc: 1.0000 - val_loss: 0.1920 - val_acc: 1.0000\n",
            "Epoch 18/20\n",
            "2000/2000 [==============================] - 4s 2ms/step - loss: 0.1816 - acc: 1.0000 - val_loss: 0.1744 - val_acc: 1.0000\n",
            "Epoch 19/20\n",
            "2000/2000 [==============================] - 4s 2ms/step - loss: 0.1649 - acc: 1.0000 - val_loss: 0.1587 - val_acc: 1.0000\n",
            "Epoch 20/20\n",
            "2000/2000 [==============================] - 4s 2ms/step - loss: 0.1501 - acc: 1.0000 - val_loss: 0.1447 - val_acc: 1.0000\n"
          ],
          "name": "stdout"
        }
      ]
    },
    {
      "metadata": {
        "id": "fK_AAAoiQtlc",
        "colab_type": "code",
        "outputId": "093d77eb-b2ef-451e-f052-ad7c2e378e7b",
        "colab": {
          "base_uri": "https://localhost:8080/",
          "height": 426
        }
      },
      "cell_type": "code",
      "source": [
        "# plot the development of the accuracy and loss during training\n",
        "plt.figure(figsize=(12,4))\n",
        "plt.subplot(1,2,(1))\n",
        "plt.plot(history.history['acc'],linestyle='-.')\n",
        "plt.plot(history.history['val_acc'])\n",
        "plt.title('model accuracy')\n",
        "plt.ylabel('accuracy')\n",
        "plt.xlabel('epoch')\n",
        "plt.legend(['train', 'valid'], loc='lower right')\n",
        "plt.subplot(1,2,(2))\n",
        "plt.plot(history.history['loss'],linestyle='-.')\n",
        "plt.plot(history.history['val_loss'])\n",
        "plt.title('model loss')\n",
        "plt.ylabel('loss')\n",
        "plt.xlabel('epoch')\n",
        "plt.legend(['train', 'valid'], loc='upper right')"
      ],
      "execution_count": 0,
      "outputs": [
        {
          "output_type": "execute_result",
          "data": {
            "text/plain": [
              "<matplotlib.legend.Legend at 0x7f8db74d99e8>"
            ]
          },
          "metadata": {
            "tags": []
          },
          "execution_count": 9
        },
        {
          "output_type": "display_data",
          "data": {
            "image/png": "[encoded data removed]",
            "text/plain": [
              "<Figure size 1200x400 with 2 Axes>"
            ]
          },
          "metadata": {
            "tags": []
          }
        }
      ]
    },
    {
      "metadata": {
        "id": "uOwR3Esbw8eN",
        "colab_type": "text"
      },
      "cell_type": "markdown",
      "source": [
        "### Visualize the learned kernel and experiment with the code\n",
        "\n",
        "You see that the CNN performs very good at this task (100% accuracy). We can check which pattern is recognized by the learned kernel and see if you think that this is helpful to distinguish between images with horizontal and vertical edges. \n"
      ]
    },
    {
      "metadata": {
        "id": "pl1yuAddVRnE",
        "colab_type": "code",
        "outputId": "0a828ee2-cf93-4637-d0ad-78f271506a69",
        "colab": {
          "base_uri": "https://localhost:8080/",
          "height": 450
        }
      },
      "cell_type": "code",
      "source": [
        "# get the leared weights and display them as image\n",
        "conv_filter=model.get_weights()[0]\n",
        "conv_filter.shape\n",
        "conv_filter=np.squeeze(conv_filter, axis=2)\n",
        "plt.imshow(conv_filter[:,:,0],\"gray\")"
      ],
      "execution_count": 0,
      "outputs": [
        {
          "output_type": "execute_result",
          "data": {
            "text/plain": [
              "<matplotlib.image.AxesImage at 0x7f8db741dcf8>"
            ]
          },
          "metadata": {
            "tags": []
          },
          "execution_count": 10
        },
        {
          "output_type": "display_data",
          "data": {
            "image/png": "[encoded data removed]",
            "text/plain": [
              "<Figure size 640x480 with 1 Axes>"
            ]
          },
          "metadata": {
            "tags": []
          }
        }
      ]
    },
    {
      "metadata": {
        "id": "U4gnnlAPp_Q2",
        "colab_type": "text"
      },
      "cell_type": "markdown",
      "source": [
        "####Repeat the training and exerpiment with the kernelsite and activation function.<img src=\"https://raw.githubusercontent.com/tensorchiefs/dl_book/master/imgs/paper-pen.png\" width=\"60\" align=\"left\" />\n",
        "*Exercise: Repeat the compiling and training for several times and check if the CNN always learns the same kernel. \n",
        "You can experiment with the code and check what happens if you use another kernel size, activation function (relu instead of linear ) or pooling method AveragePooling instead of MaxPooling.  \n",
        "Try to make a prediction before doing the experiment.*\n",
        "\n",
        "\n"
      ]
    }
  ]
}