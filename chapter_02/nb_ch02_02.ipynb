{
  "nbformat": 4,
  "nbformat_minor": 0,
  "metadata": {
    "colab": {
      "name": "nb_ch02_02.ipynb",
      "provenance": [],
      "collapsed_sections": []
    },
    "language_info": {
      "codemirror_mode": {
        "name": "ipython",
        "version": 3
      },
      "file_extension": ".py",
      "mimetype": "text/x-python",
      "name": "python",
      "nbconvert_exporter": "python",
      "pygments_lexer": "ipython3",
      "version": "3.5.2"
    },
    "kernelspec": {
      "display_name": "Python 3",
      "language": "python",
      "name": "python3"
    },
    "accelerator": "GPU"
  },
  "cells": [
    {
      "cell_type": "markdown",
      "metadata": {
        "colab_type": "text",
        "id": "tbTYFRhJoaBu"
      },
      "source": [
        "# MNIST digit classification before and after shuffling\n",
        "\n",
        "\n",
        "**Goal:** In this notebook you will see in an classification task, that the order of the input data for a fully connected networks (fcNN) does not matter (because every node is connected to every other in the next layer). This is different when you use a convolutional neural network (CNN), the local structure is important for its perfomance \n",
        "\n",
        "\n",
        "**Usage:** The idea of the notebook is that you try to understand the provided code by running it, checking the output and playing with it by slightly changing the code and rerunning it. \n",
        "\n",
        "**Dataset:** You work with the MNIST dataset. We have 60'000 28x28 pixel greyscale images of digits and want to classify them into the right label (0-9).\n",
        "\n",
        "**Content:**\n",
        "* load the original MNIST data and create a randomly shuffled version of the data\n",
        "* visualize samples of the orginal and shuffled version of the data\n",
        "* flatten the original and shuffled version of the data\n",
        "* use keras to train a fcNN with the original and shuffled (flattened) data and compare the perfomance on new unseen test data\n",
        "* use keras to train a CNN with the original and shuffled data and compare the perfomance on new unseen test data\n",
        "* check if the local structure of the pixels within the images have an impact on the classification performance when you use a fcNN and a CNN\n",
        "\n",
        "\n",
        "| [open in colab](https://colab.research.google.com/github/tensorchiefs/dl_book/blob/master/chapter_02/nb_ch02_02.ipynb)\n",
        "\n"
      ]
    },
    {
      "cell_type": "markdown",
      "metadata": {
        "colab_type": "text",
        "id": "PEIS4WvpsT5t"
      },
      "source": [
        "#### Imports\n",
        "\n",
        "In the next two cells, we load all the required libraries and functions. We download the Mnist data, normalize the pixelvalues to be between 0 and 1, and seperate it into a training and validation set."
      ]
    },
    {
      "cell_type": "code",
      "metadata": {
        "id": "2CahmsWJfyee",
        "colab_type": "code",
        "colab": {
          "base_uri": "https://localhost:8080/",
          "height": 35
        },
        "outputId": "9b79f140-67a7-4406-f323-f3ed287b98b5"
      },
      "source": [
        "try: #If running in colab \n",
        "    import google.colab\n",
        "    IN_COLAB = True \n",
        "    %tensorflow_version 2.x\n",
        "except:\n",
        "    IN_COLAB = False\n"
      ],
      "execution_count": 1,
      "outputs": [
        {
          "output_type": "stream",
          "text": [
            "TensorFlow 2.x selected.\n"
          ],
          "name": "stdout"
        }
      ]
    },
    {
      "cell_type": "code",
      "metadata": {
        "id": "dcjno7cXfzPN",
        "colab_type": "code",
        "colab": {
          "base_uri": "https://localhost:8080/",
          "height": 35
        },
        "outputId": "d692da23-3d1c-4bd0-e8e6-cb903a49ab0a"
      },
      "source": [
        "import tensorflow as tf\n",
        "if (not tf.__version__.startswith('2')): #Checking if tf 2.0 is installed\n",
        "    print('Please install tensorflow 2.0 to run this notebook')\n",
        "print('Tensorflow version: ',tf.__version__, ' running in colab?: ', IN_COLAB)"
      ],
      "execution_count": 2,
      "outputs": [
        {
          "output_type": "stream",
          "text": [
            "Tensorflow version:  2.1.0-rc1  running in colab?:  True\n"
          ],
          "name": "stdout"
        }
      ]
    },
    {
      "cell_type": "code",
      "metadata": {
        "colab_type": "code",
        "id": "Y6S_hQX5oaBw",
        "scrolled": true,
        "colab": {}
      },
      "source": [
        "# load required libraries:\n",
        "import numpy as np\n",
        "import matplotlib.pyplot as plt\n",
        "%matplotlib inline\n",
        "plt.style.use('default')\n",
        "from sklearn.metrics import confusion_matrix\n",
        "\n",
        "from tensorflow.keras.models import Sequential\n",
        "from tensorflow.keras.layers import Dense, Convolution2D, MaxPooling2D, Flatten , Activation\n",
        "from tensorflow.keras.utils import to_categorical \n",
        "from tensorflow.keras import optimizers\n"
      ],
      "execution_count": 0,
      "outputs": []
    },
    {
      "cell_type": "markdown",
      "metadata": {
        "colab_type": "text",
        "id": "4h_3TS0CtJJb"
      },
      "source": [
        "\n",
        "\n",
        "\n",
        "\n",
        "#### Loading and preparing the MNIST data"
      ]
    },
    {
      "cell_type": "markdown",
      "metadata": {
        "id": "iE4Xdnv0iFOG",
        "colab_type": "text"
      },
      "source": [
        "#### Listing 2.3 Loading the MNIST data"
      ]
    },
    {
      "cell_type": "code",
      "metadata": {
        "colab_type": "code",
        "id": "4sZ8lqFfoaB2",
        "outputId": "a9aa1a96-4707-440b-a43f-9de241343a5d",
        "colab": {
          "base_uri": "https://localhost:8080/",
          "height": 70
        }
      },
      "source": [
        "from tensorflow.keras.datasets import mnist\n",
        "(x_train, y_train), (x_test, y_test) = mnist.load_data()\n",
        "\n",
        "# separate x_train in X_train and X_val, same for y_train\n",
        "X_train=x_train[0:50000] / 255 #divide by 255 so that they are in range 0 to 1\n",
        "Y_train=to_categorical(y_train[0:50000],10) # one-hot encoding\n",
        "\n",
        "X_val=x_train[50000:60000] / 255\n",
        "Y_val=to_categorical(y_train[50000:60000],10)\n",
        "\n",
        "X_test=x_test / 255\n",
        "Y_test=to_categorical(y_test,10)\n",
        "\n",
        "del x_train, y_train, x_test, y_test\n",
        "\n",
        "X_train=np.reshape(X_train, (X_train.shape[0],28,28,1))\n",
        "X_val=np.reshape(X_val, (X_val.shape[0],28,28,1))\n",
        "X_test=np.reshape(X_test, (X_test.shape[0],28,28,1))\n",
        "\n",
        "print(X_train.shape)\n",
        "print(X_val.shape)\n",
        "print(X_test.shape)"
      ],
      "execution_count": 4,
      "outputs": [
        {
          "output_type": "stream",
          "text": [
            "(50000, 28, 28, 1)\n",
            "(10000, 28, 28, 1)\n",
            "(10000, 28, 28, 1)\n"
          ],
          "name": "stdout"
        }
      ]
    },
    {
      "cell_type": "markdown",
      "metadata": {
        "colab_type": "text",
        "id": "3ly7CrHtLUP9"
      },
      "source": [
        "Let's visualize the first 4 mnist images before shuffling the pixels randomly around. It is very easy to recognise the true label of the digits."
      ]
    },
    {
      "cell_type": "code",
      "metadata": {
        "colab_type": "code",
        "id": "c4gUgwGUeftF",
        "outputId": "4b0d711f-0756-4580-f59f-70f6275ae7ff",
        "colab": {
          "base_uri": "https://localhost:8080/",
          "height": 285
        }
      },
      "source": [
        "# visualize the 4 first mnist images before shuffling the pixels\n",
        "plt.figure(figsize=(12,12))\n",
        "for i in range(0,4):\n",
        "    plt.subplot(1,4,(i+1))\n",
        "    plt.imshow((X_train[i,:,:,0]),cmap=\"gray\")\n",
        "    plt.title('true label: '+np.str(np.argmax(Y_train,axis=1)[i]))\n",
        "    #plt.axis('off')"
      ],
      "execution_count": 5,
      "outputs": [
        {
          "output_type": "display_data",
          "data": {
            "image/png": "[encoded data removed]",
            "text/plain": [
              "<Figure size 1200x1200 with 4 Axes>"
            ]
          },
          "metadata": {
            "tags": []
          }
        }
      ]
    },
    {
      "cell_type": "markdown",
      "metadata": {
        "colab_type": "text",
        "id": "m6laMbqWLqlz"
      },
      "source": [
        "In the next cell we shuffle the pixel of each image randomly around. Note that we shuffle every image in same manner!"
      ]
    },
    {
      "cell_type": "code",
      "metadata": {
        "colab_type": "code",
        "id": "o744FOiN1S6y",
        "colab": {}
      },
      "source": [
        "# function to shuffle the pixel order within an image\n",
        "# used to shuffel the pixels of all mnist images in the same manner\n",
        "def shuffel_pixels(idx, data):\n",
        "  data_new=np.zeros((data.shape))\n",
        "  for i,img in enumerate(data):\n",
        "    data_new[i] = img.flatten()[idx].reshape((28,28,1))\n",
        "  return data_new\n",
        "\n",
        "np.random.seed(42)\n",
        "shuffel_idx = np.random.permutation(np.arange(28*28))\n",
        "X_train_shuffle = shuffel_pixels(shuffel_idx, X_train)\n",
        "X_val_shuffle = shuffel_pixels(shuffel_idx, X_val)\n",
        "X_test_shuffle = shuffel_pixels(shuffel_idx, X_test)"
      ],
      "execution_count": 0,
      "outputs": []
    },
    {
      "cell_type": "markdown",
      "metadata": {
        "colab_type": "text",
        "id": "VXK_HJbdMAeg"
      },
      "source": [
        "Let's visualize the first 4 mnist images after shuffling the pixels randomly around. Now as a human you have no chance to recognise the true label of the digits."
      ]
    },
    {
      "cell_type": "code",
      "metadata": {
        "colab_type": "code",
        "id": "ZrZk47bkoaB7",
        "outputId": "6a4d13c9-5063-4894-a1d3-8813f83fd9fc",
        "colab": {
          "base_uri": "https://localhost:8080/",
          "height": 285
        }
      },
      "source": [
        "# visualize the 4 first mnist images after shuffling the pixels\n",
        "plt.figure(figsize=(12,12))\n",
        "for i in range(0,4):\n",
        "    plt.subplot(1,4,(i+1))\n",
        "    plt.imshow((X_train_shuffle[i,:,:,0]),cmap=\"gray\")\n",
        "    plt.title('true label: '+np.str(np.argmax(Y_train,axis=1)[i]))"
      ],
      "execution_count": 7,
      "outputs": [
        {
          "output_type": "display_data",
          "data": {
            "image/png": "[encoded data removed]",
            "text/plain": [
              "<Figure size 1200x1200 with 4 Axes>"
            ]
          },
          "metadata": {
            "tags": []
          }
        }
      ]
    },
    {
      "cell_type": "markdown",
      "metadata": {
        "colab_type": "text",
        "id": "trSndjWX4HO7"
      },
      "source": [
        "## fcNN as classification model for MNIST data\n",
        "Now we want to train a fcNN to classify the MNIST data. We use the same netwok architecture and train first with the original data and then with the shuffled data. \n",
        "* Use a fcNN with 2 hidden layers as classification model.\n",
        "* train it once on the original train data and check the performance on the original test data\n",
        "* train it once on the shuffeled train data and check the performance on the accordingly shuffled test data"
      ]
    },
    {
      "cell_type": "markdown",
      "metadata": {
        "colab_type": "text",
        "id": "LB_m8HJaOMsY"
      },
      "source": [
        "Because we will use fcNN we need to flatten our inuput into a 1d vector. We do this in the next cell with reshape."
      ]
    },
    {
      "cell_type": "code",
      "metadata": {
        "colab_type": "code",
        "id": "CoSUhNzRfbj4",
        "colab": {}
      },
      "source": [
        "# prepare data for fcNN - we need a vector as input\n",
        "\n",
        "# first do it for original data\n",
        "X_train_flat = X_train.reshape([X_train.shape[0], 784])\n",
        "X_val_flat = X_val.reshape([X_val.shape[0], 784])\n",
        "X_test_flat = X_test.reshape([X_test.shape[0], 784])\n",
        "\n",
        "# then do it for the shuffled data\n",
        "X_train_shuffle_flat = X_train_shuffle.reshape([X_train_shuffle.shape[0], 784])\n",
        "X_val_shuffle_flat = X_val_shuffle.reshape([X_val_shuffle.shape[0], 784])\n",
        "X_test_shuffle_flat = X_test_shuffle.reshape([X_test_shuffle.shape[0], 784])\n"
      ],
      "execution_count": 0,
      "outputs": []
    },
    {
      "cell_type": "markdown",
      "metadata": {
        "colab_type": "text",
        "id": "uOYYJFOh62qC"
      },
      "source": [
        "### Train the fcNN on the original data"
      ]
    },
    {
      "cell_type": "code",
      "metadata": {
        "colab_type": "code",
        "id": "xILWGAnpC0Bt",
        "outputId": "0e34be12-36ad-4a46-afae-d5be75a01bbe",
        "colab": {
          "base_uri": "https://localhost:8080/",
          "height": 35
        }
      },
      "source": [
        "# check the shape\n",
        "X_train_flat.shape,Y_train.shape,X_val_flat.shape,Y_val.shape"
      ],
      "execution_count": 9,
      "outputs": [
        {
          "output_type": "execute_result",
          "data": {
            "text/plain": [
              "((50000, 784), (50000, 10), (10000, 784), (10000, 10))"
            ]
          },
          "metadata": {
            "tags": []
          },
          "execution_count": 9
        }
      ]
    },
    {
      "cell_type": "markdown",
      "metadata": {
        "colab_type": "text",
        "id": "bulk0OpFOpeO"
      },
      "source": [
        "Here we define the nework, we use two hidden layers with 100 and 50 nodes. In the output we predict the probability for the 10 digits with the softmax actication function, in the hidden layers we use the sigmoid activation function. "
      ]
    },
    {
      "cell_type": "markdown",
      "metadata": {
        "id": "jPpXafW-iP9z",
        "colab_type": "text"
      },
      "source": [
        "#### Listing 2.4 Definition of an fcNN  for the MNIST data"
      ]
    },
    {
      "cell_type": "code",
      "metadata": {
        "colab_type": "code",
        "id": "EAispBe0oaCH",
        "colab": {}
      },
      "source": [
        "# define fcNN with 2 hidden layers\n",
        "model = Sequential()\n",
        "\n",
        "model.add(Dense(100, batch_input_shape=(None, 784)))\n",
        "model.add(Activation('sigmoid'))\n",
        "model.add(Dense(50))\n",
        "model.add(Activation('sigmoid'))\n",
        "model.add(Dense(10))\n",
        "model.add(Activation('softmax'))\n",
        "\n",
        "# compile model and intitialize weights\n",
        "model.compile(loss='categorical_crossentropy',\n",
        "              optimizer='adam',\n",
        "              metrics=['accuracy'])"
      ],
      "execution_count": 0,
      "outputs": []
    },
    {
      "cell_type": "code",
      "metadata": {
        "colab_type": "code",
        "id": "7xfW6yzqoaCK",
        "outputId": "32ab1b57-ea77-4312-cea5-eea73391b7a1",
        "colab": {
          "base_uri": "https://localhost:8080/",
          "height": 372
        }
      },
      "source": [
        "# summarize model along with number of model weights\n",
        "model.summary()"
      ],
      "execution_count": 11,
      "outputs": [
        {
          "output_type": "stream",
          "text": [
            "Model: \"sequential\"\n",
            "_________________________________________________________________\n",
            "Layer (type)                 Output Shape              Param #   \n",
            "=================================================================\n",
            "dense (Dense)                (None, 100)               78500     \n",
            "_________________________________________________________________\n",
            "activation (Activation)      (None, 100)               0         \n",
            "_________________________________________________________________\n",
            "dense_1 (Dense)              (None, 50)                5050      \n",
            "_________________________________________________________________\n",
            "activation_1 (Activation)    (None, 50)                0         \n",
            "_________________________________________________________________\n",
            "dense_2 (Dense)              (None, 10)                510       \n",
            "_________________________________________________________________\n",
            "activation_2 (Activation)    (None, 10)                0         \n",
            "=================================================================\n",
            "Total params: 84,060\n",
            "Trainable params: 84,060\n",
            "Non-trainable params: 0\n",
            "_________________________________________________________________\n"
          ],
          "name": "stdout"
        }
      ]
    },
    {
      "cell_type": "code",
      "metadata": {
        "colab_type": "code",
        "id": "mhvTpCtfoaCQ",
        "outputId": "2810f9b9-039e-48c9-bdeb-6b1f28fba184",
        "colab": {
          "base_uri": "https://localhost:8080/",
          "height": 390
        }
      },
      "source": [
        "# train the model\n",
        "history=model.fit(X_train_flat, Y_train, \n",
        "                  batch_size=128, \n",
        "                  epochs=10,\n",
        "                  verbose=2, \n",
        "                  validation_data=(X_val_flat, Y_val)\n",
        "                 )"
      ],
      "execution_count": 12,
      "outputs": [
        {
          "output_type": "stream",
          "text": [
            "Train on 50000 samples, validate on 10000 samples\n",
            "Epoch 1/10\n",
            "50000/50000 - 2s - loss: 1.0273 - accuracy: 0.7715 - val_loss: 0.3999 - val_accuracy: 0.9095\n",
            "Epoch 2/10\n",
            "50000/50000 - 2s - loss: 0.3330 - accuracy: 0.9137 - val_loss: 0.2499 - val_accuracy: 0.9328\n",
            "Epoch 3/10\n",
            "50000/50000 - 2s - loss: 0.2423 - accuracy: 0.9320 - val_loss: 0.2018 - val_accuracy: 0.9442\n",
            "Epoch 4/10\n",
            "50000/50000 - 2s - loss: 0.1980 - accuracy: 0.9434 - val_loss: 0.1740 - val_accuracy: 0.9521\n",
            "Epoch 5/10\n",
            "50000/50000 - 2s - loss: 0.1664 - accuracy: 0.9520 - val_loss: 0.1542 - val_accuracy: 0.9557\n",
            "Epoch 6/10\n",
            "50000/50000 - 2s - loss: 0.1434 - accuracy: 0.9588 - val_loss: 0.1391 - val_accuracy: 0.9599\n",
            "Epoch 7/10\n",
            "50000/50000 - 2s - loss: 0.1241 - accuracy: 0.9643 - val_loss: 0.1263 - val_accuracy: 0.9642\n",
            "Epoch 8/10\n",
            "50000/50000 - 2s - loss: 0.1077 - accuracy: 0.9698 - val_loss: 0.1178 - val_accuracy: 0.9652\n",
            "Epoch 9/10\n",
            "50000/50000 - 2s - loss: 0.0946 - accuracy: 0.9734 - val_loss: 0.1090 - val_accuracy: 0.9684\n",
            "Epoch 10/10\n",
            "50000/50000 - 2s - loss: 0.0833 - accuracy: 0.9764 - val_loss: 0.1039 - val_accuracy: 0.9695\n"
          ],
          "name": "stdout"
        }
      ]
    },
    {
      "cell_type": "code",
      "metadata": {
        "colab_type": "code",
        "id": "t39HSiHcoaCT",
        "outputId": "005c699f-aa7f-4ccf-8317-2ad6c982b4ce",
        "colab": {
          "base_uri": "https://localhost:8080/",
          "height": 428
        }
      },
      "source": [
        "# plot the development of the accuracy and loss during training\n",
        "plt.figure(figsize=(12,4))\n",
        "plt.subplot(1,2,(1))\n",
        "plt.plot(history.history['accuracy'],linestyle='-.')\n",
        "plt.plot(history.history['val_accuracy'])\n",
        "plt.title('model accuracy')\n",
        "plt.ylabel('accuracy')\n",
        "plt.xlabel('epoch')\n",
        "plt.legend(['train', 'valid'], loc='lower right')\n",
        "plt.subplot(1,2,(2))\n",
        "plt.plot(history.history['loss'],linestyle='-.')\n",
        "plt.plot(history.history['val_loss'])\n",
        "plt.title('model loss')\n",
        "plt.ylabel('loss')\n",
        "plt.xlabel('epoch')\n",
        "plt.legend(['train', 'valid'], loc='upper right')"
      ],
      "execution_count": 13,
      "outputs": [
        {
          "output_type": "execute_result",
          "data": {
            "text/plain": [
              "<matplotlib.legend.Legend at 0x7f30e02d9f98>"
            ]
          },
          "metadata": {
            "tags": []
          },
          "execution_count": 13
        },
        {
          "output_type": "display_data",
          "data": {
            "image/png": "[encoded data removed]",
            "text/plain": [
              "<Figure size 1200x400 with 2 Axes>"
            ]
          },
          "metadata": {
            "tags": []
          }
        }
      ]
    },
    {
      "cell_type": "markdown",
      "metadata": {
        "colab_type": "text",
        "id": "iCaoy8l4oaCW"
      },
      "source": [
        "#### Prediction on the original test set after training on original data\n",
        "\n",
        "Now, let's use the fcNN that was trained on the original data to predict new unseen data (our testdata).\n",
        "We determine the confusion matrix and the accuracy on the testdata to evaluate the classification performance.\n"
      ]
    },
    {
      "cell_type": "code",
      "metadata": {
        "colab_type": "code",
        "id": "z1U4S7o5oaCY",
        "outputId": "de83a545-08bf-40c7-bcd8-9d99eb855d9d",
        "colab": {
          "base_uri": "https://localhost:8080/",
          "height": 212
        }
      },
      "source": [
        "pred=model.predict(X_test_flat)\n",
        "print(confusion_matrix(np.argmax(Y_test,axis=1),np.argmax(pred,axis=1)))\n",
        "acc_fc_orig = np.sum(np.argmax(Y_test,axis=1)==np.argmax(pred,axis=1))/len(pred)\n",
        "print(\"Acc_fc_orig_flat = \" , acc_fc_orig)"
      ],
      "execution_count": 14,
      "outputs": [
        {
          "output_type": "stream",
          "text": [
            "[[ 961    1    2    1    0    3    8    1    1    2]\n",
            " [   0 1117    2    2    0    1    5    1    7    0]\n",
            " [   7    1  995    3    3    2    4    6   10    1]\n",
            " [   0    0    5  977    0   14    0    6    7    1]\n",
            " [   1    0    5    1  953    1    6    2    2   11]\n",
            " [   2    1    1    6    3  865    7    0    5    2]\n",
            " [   6    3    0    0    4    8  931    0    6    0]\n",
            " [   0    8   10    8    0    1    0  991    1    9]\n",
            " [   4    2    2    9    4    9    6    4  932    2]\n",
            " [   4    5    0    9   20    7    1    6    6  951]]\n",
            "Acc_fc_orig_flat =  0.9673\n"
          ],
          "name": "stdout"
        }
      ]
    },
    {
      "cell_type": "markdown",
      "metadata": {
        "colab_type": "text",
        "id": "oGMEWPhP8iL9"
      },
      "source": [
        "### Train the fcNN on the shuffled data"
      ]
    },
    {
      "cell_type": "code",
      "metadata": {
        "colab_type": "code",
        "id": "uMoGTt8l8iL-",
        "outputId": "b98ae12a-9e50-49e8-cf64-765e9e3944f2",
        "colab": {
          "base_uri": "https://localhost:8080/",
          "height": 35
        }
      },
      "source": [
        "# check the shape\n",
        "X_train_shuffle_flat.shape,Y_train.shape,X_val_shuffle_flat.shape,Y_val.shape"
      ],
      "execution_count": 15,
      "outputs": [
        {
          "output_type": "execute_result",
          "data": {
            "text/plain": [
              "((50000, 784), (50000, 10), (10000, 784), (10000, 10))"
            ]
          },
          "metadata": {
            "tags": []
          },
          "execution_count": 15
        }
      ]
    },
    {
      "cell_type": "markdown",
      "metadata": {
        "colab_type": "text",
        "id": "lD_dVpuMQneV"
      },
      "source": [
        "Here we define the nework, we use two hidden layers with 100 and 50 nodes. In the output we predict the probability for the 10 digits with the softmax actication function, in the hidden layers we use the sigmoid activation function. "
      ]
    },
    {
      "cell_type": "code",
      "metadata": {
        "colab_type": "code",
        "id": "S-cOfxRmBkC0",
        "colab": {}
      },
      "source": [
        "# define fcNN with 2 hidden layers\n",
        "model = Sequential()\n",
        "\n",
        "model.add(Dense(100, batch_input_shape=(None, 784)))\n",
        "model.add(Activation('sigmoid'))\n",
        "model.add(Dense(50))\n",
        "model.add(Activation('sigmoid'))\n",
        "model.add(Dense(10))\n",
        "model.add(Activation('softmax'))\n",
        "\n",
        "# compile model and intitialize weights\n",
        "model.compile(loss='categorical_crossentropy',\n",
        "              optimizer='adam',\n",
        "              metrics=['accuracy'])"
      ],
      "execution_count": 0,
      "outputs": []
    },
    {
      "cell_type": "code",
      "metadata": {
        "colab_type": "code",
        "id": "GaGdqYQn8iME",
        "outputId": "d929804d-1bdc-4461-9f4e-abe41ea95da6",
        "colab": {
          "base_uri": "https://localhost:8080/",
          "height": 390
        }
      },
      "source": [
        "# train the model\n",
        "history=model.fit(X_train_shuffle_flat, Y_train, \n",
        "                  batch_size=128, \n",
        "                  epochs=10,\n",
        "                  verbose=2, \n",
        "                  validation_data=(X_val_shuffle_flat, Y_val)\n",
        "                 )"
      ],
      "execution_count": 17,
      "outputs": [
        {
          "output_type": "stream",
          "text": [
            "Train on 50000 samples, validate on 10000 samples\n",
            "Epoch 1/10\n",
            "50000/50000 - 2s - loss: 0.9775 - accuracy: 0.7821 - val_loss: 0.3983 - val_accuracy: 0.9088\n",
            "Epoch 2/10\n",
            "50000/50000 - 2s - loss: 0.3369 - accuracy: 0.9126 - val_loss: 0.2565 - val_accuracy: 0.9310\n",
            "Epoch 3/10\n",
            "50000/50000 - 2s - loss: 0.2447 - accuracy: 0.9325 - val_loss: 0.2017 - val_accuracy: 0.9440\n",
            "Epoch 4/10\n",
            "50000/50000 - 2s - loss: 0.1969 - accuracy: 0.9446 - val_loss: 0.1724 - val_accuracy: 0.9509\n",
            "Epoch 5/10\n",
            "50000/50000 - 2s - loss: 0.1639 - accuracy: 0.9539 - val_loss: 0.1512 - val_accuracy: 0.9586\n",
            "Epoch 6/10\n",
            "50000/50000 - 2s - loss: 0.1396 - accuracy: 0.9602 - val_loss: 0.1330 - val_accuracy: 0.9621\n",
            "Epoch 7/10\n",
            "50000/50000 - 2s - loss: 0.1201 - accuracy: 0.9659 - val_loss: 0.1226 - val_accuracy: 0.9639\n",
            "Epoch 8/10\n",
            "50000/50000 - 2s - loss: 0.1046 - accuracy: 0.9706 - val_loss: 0.1137 - val_accuracy: 0.9682\n",
            "Epoch 9/10\n",
            "50000/50000 - 2s - loss: 0.0913 - accuracy: 0.9748 - val_loss: 0.1058 - val_accuracy: 0.9681\n",
            "Epoch 10/10\n",
            "50000/50000 - 2s - loss: 0.0800 - accuracy: 0.9780 - val_loss: 0.0998 - val_accuracy: 0.9712\n"
          ],
          "name": "stdout"
        }
      ]
    },
    {
      "cell_type": "code",
      "metadata": {
        "colab_type": "code",
        "id": "Gj2-xZzO8iMJ",
        "outputId": "e63674e0-eeed-4b60-f0b0-a1f043785d8f",
        "colab": {
          "base_uri": "https://localhost:8080/",
          "height": 428
        }
      },
      "source": [
        "# plot the development of the accuracy and loss during training\n",
        "plt.figure(figsize=(12,4))\n",
        "plt.subplot(1,2,(1))\n",
        "plt.plot(history.history['accuracy'],linestyle='-.')\n",
        "plt.plot(history.history['val_accuracy'])\n",
        "plt.title('model accuracy')\n",
        "plt.ylabel('accuracy')\n",
        "plt.xlabel('epoch')\n",
        "plt.legend(['train', 'valid'], loc='lower right')\n",
        "plt.subplot(1,2,(2))\n",
        "plt.plot(history.history['loss'],linestyle='-.')\n",
        "plt.plot(history.history['val_loss'])\n",
        "plt.title('model loss')\n",
        "plt.ylabel('loss')\n",
        "plt.xlabel('epoch')\n",
        "plt.legend(['train', 'valid'], loc='upper right')"
      ],
      "execution_count": 18,
      "outputs": [
        {
          "output_type": "execute_result",
          "data": {
            "text/plain": [
              "<matplotlib.legend.Legend at 0x7f30e51e1f28>"
            ]
          },
          "metadata": {
            "tags": []
          },
          "execution_count": 18
        },
        {
          "output_type": "display_data",
          "data": {
            "image/png": "[encoded data removed]",
            "text/plain": [
              "<Figure size 1200x400 with 2 Axes>"
            ]
          },
          "metadata": {
            "tags": []
          }
        }
      ]
    },
    {
      "cell_type": "markdown",
      "metadata": {
        "colab_type": "text",
        "id": "B7bOrA_E8iMR"
      },
      "source": [
        "#### Prediction on the shuffled test set after training on the shuffled data\n",
        "\n",
        "Now, let's use the fcNN that was trained on the shuffled data to predict new unseen data (our testdata).\n",
        "We determine the confusion matrix and the accuracy on the testdata to evaluate the classification performance.\n",
        "\n"
      ]
    },
    {
      "cell_type": "code",
      "metadata": {
        "colab_type": "code",
        "id": "g_CEIhW78iMS",
        "outputId": "071fcd7a-3feb-45fc-c41b-3473abe1cc47",
        "colab": {
          "base_uri": "https://localhost:8080/",
          "height": 212
        }
      },
      "source": [
        "pred=model.predict(X_test_shuffle_flat)\n",
        "print(confusion_matrix(np.argmax(Y_test,axis=1),np.argmax(pred,axis=1)))\n",
        "acc_fc_shuffled = np.sum(np.argmax(Y_test,axis=1)==np.argmax(pred,axis=1))/len(pred)\n",
        "print(\"Acc_fc_shuffled_flat = \" , acc_fc_shuffled)"
      ],
      "execution_count": 19,
      "outputs": [
        {
          "output_type": "stream",
          "text": [
            "[[ 966    0    1    1    0    4    5    1    1    1]\n",
            " [   0 1126    3    0    0    1    3    0    2    0]\n",
            " [   6    2 1007    0    2    0    4    6    5    0]\n",
            " [   0    0    6  977    0    9    0   11    4    3]\n",
            " [   0    0    6    1  948    0    3    5    2   17]\n",
            " [   2    1    0   11    2  856    8    2    7    3]\n",
            " [   8    3    3    0    5    8  926    0    5    0]\n",
            " [   2    7   11    6    0    0    0  995    0    7]\n",
            " [   5    2    3   12    4    4    4    8  931    1]\n",
            " [   2    5    2    9   16    7    1   10    1  956]]\n",
            "Acc_fc_shuffled_flat =  0.9688\n"
          ],
          "name": "stdout"
        }
      ]
    },
    {
      "cell_type": "markdown",
      "metadata": {
        "colab_type": "text",
        "id": "ENcwFsgGfinO"
      },
      "source": [
        "**Note that in a fcNN the order of the data does not matter! The performace is the same if we use the original data for training and testing or if we use the shuffled data for the training and testing. In both cases the accuracy is around 96%.** "
      ]
    },
    {
      "cell_type": "markdown",
      "metadata": {
        "id": "BCHyStOIn0yw",
        "colab_type": "text"
      },
      "source": [
        "#### Return to the book \n",
        "<img src=\"https://raw.githubusercontent.com/tensorchiefs/dl_book/master/imgs/Page_turn_icon_A.png\" width=\"120\" align=\"left\" />  \n",
        "Return to the book to learn what Convolutional Neural Networks (CNNs) are and how they work."
      ]
    },
    {
      "cell_type": "markdown",
      "metadata": {
        "colab_type": "text",
        "id": "ZaRFUEP8HJkq"
      },
      "source": [
        "# CNN as classification model for MNIST data\n",
        "\n",
        "Note: **Please only go on, after you read the CNN part in the book.**\n",
        "\n",
        "Now, let's do the same game with a CNN. We train a CNN to classify the MNIST data. We use the same netwok architecture and train first with the original data and then with the shuffled data. \n",
        "* Use a CNN with 2 convolution blocks and 2 fully connected layers as classification model\n",
        "* train it once on the original train data and check the performance on the original test data\n",
        "* train it once on the shuffeled train data and check the performance on the accordingly shuffled test data"
      ]
    },
    {
      "cell_type": "markdown",
      "metadata": {
        "colab_type": "text",
        "id": "cFJtO1FFHJkz"
      },
      "source": [
        "### Train the CNN on the original data"
      ]
    },
    {
      "cell_type": "code",
      "metadata": {
        "colab_type": "code",
        "id": "iq45_Gs1HJk1",
        "outputId": "00418d71-9acb-4e95-d497-1d23763f1e8d",
        "colab": {
          "base_uri": "https://localhost:8080/",
          "height": 35
        }
      },
      "source": [
        "# check the shape of the orginal data\n",
        "# we need matrices as input\n",
        "X_train.shape,Y_train.shape,X_val.shape,Y_val.shape"
      ],
      "execution_count": 20,
      "outputs": [
        {
          "output_type": "execute_result",
          "data": {
            "text/plain": [
              "((50000, 28, 28, 1), (50000, 10), (10000, 28, 28, 1), (10000, 10))"
            ]
          },
          "metadata": {
            "tags": []
          },
          "execution_count": 20
        }
      ]
    },
    {
      "cell_type": "markdown",
      "metadata": {
        "colab_type": "text",
        "id": "fFBbAdLeTZuv"
      },
      "source": [
        "In the next cell we define the hyperparameters and architecture of the CNN. We use:\n",
        ">the relu activation function  \n",
        ">batchsize of 128  \n",
        ">kernelsize of 3x3  \n",
        ">poolingsize of 2x2   \n",
        ">our inputs are the greyscaled MNIST images, so the shape is 28x28x1  \n",
        "> we use 2 convolutional blocks with 8 filters and then a maxpooling layer followed by again 2 convolutional blocks with 16 filters and then a maxpooling  \n",
        "> then we flatten the output and use a fully connected layer with 40 nodes and the output has 10 nodes with the softmax activation."
      ]
    },
    {
      "cell_type": "code",
      "metadata": {
        "colab_type": "code",
        "id": "JSfYQ4f1KYVp",
        "colab": {}
      },
      "source": [
        "# here we define hyperparameter of the CNN\n",
        "batch_size = 128\n",
        "nb_classes = 10\n",
        "img_rows, img_cols = 28, 28\n",
        "kernel_size = (3, 3)\n",
        "input_shape = (img_rows, img_cols, 1)\n",
        "pool_size = (2, 2)"
      ],
      "execution_count": 0,
      "outputs": []
    },
    {
      "cell_type": "markdown",
      "metadata": {
        "id": "AJWFmceZii1-",
        "colab_type": "text"
      },
      "source": [
        "#### Listing 2.6 A CNN for MNIST classification                                                                                                                     "
      ]
    },
    {
      "cell_type": "code",
      "metadata": {
        "colab_type": "code",
        "id": "3xwh0iYrHJk_",
        "colab": {}
      },
      "source": [
        "# define CNN with 2 convolution blocks and 2 fully connected layers\n",
        "model = Sequential()\n",
        "\n",
        "model.add(Convolution2D(8,kernel_size,padding='same',input_shape=input_shape))\n",
        "model.add(Activation('relu'))\n",
        "model.add(Convolution2D(8, kernel_size,padding='same'))\n",
        "model.add(Activation('relu'))\n",
        "model.add(MaxPooling2D(pool_size=pool_size))\n",
        "\n",
        "model.add(Convolution2D(16, kernel_size,padding='same'))\n",
        "model.add(Activation('relu'))\n",
        "model.add(Convolution2D(16,kernel_size,padding='same'))\n",
        "model.add(Activation('relu'))\n",
        "model.add(MaxPooling2D(pool_size=pool_size))\n",
        "\n",
        "model.add(Flatten())\n",
        "model.add(Dense(40))\n",
        "model.add(Activation('relu'))\n",
        "model.add(Dense(nb_classes))\n",
        "model.add(Activation('softmax'))\n",
        "\n",
        "# compile model and intitialize weights\n",
        "model.compile(loss='categorical_crossentropy',\n",
        "              optimizer='adam',\n",
        "              metrics=['accuracy'])"
      ],
      "execution_count": 0,
      "outputs": []
    },
    {
      "cell_type": "code",
      "metadata": {
        "colab_type": "code",
        "id": "blxHZguwHJlG",
        "outputId": "59563cde-941c-408c-e2e4-b178607a02bf",
        "colab": {
          "base_uri": "https://localhost:8080/",
          "height": 692
        }
      },
      "source": [
        "# summarize model along with number of model weights\n",
        "model.summary()"
      ],
      "execution_count": 23,
      "outputs": [
        {
          "output_type": "stream",
          "text": [
            "Model: \"sequential_2\"\n",
            "_________________________________________________________________\n",
            "Layer (type)                 Output Shape              Param #   \n",
            "=================================================================\n",
            "conv2d (Conv2D)              (None, 28, 28, 8)         80        \n",
            "_________________________________________________________________\n",
            "activation_6 (Activation)    (None, 28, 28, 8)         0         \n",
            "_________________________________________________________________\n",
            "conv2d_1 (Conv2D)            (None, 28, 28, 8)         584       \n",
            "_________________________________________________________________\n",
            "activation_7 (Activation)    (None, 28, 28, 8)         0         \n",
            "_________________________________________________________________\n",
            "max_pooling2d (MaxPooling2D) (None, 14, 14, 8)         0         \n",
            "_________________________________________________________________\n",
            "conv2d_2 (Conv2D)            (None, 14, 14, 16)        1168      \n",
            "_________________________________________________________________\n",
            "activation_8 (Activation)    (None, 14, 14, 16)        0         \n",
            "_________________________________________________________________\n",
            "conv2d_3 (Conv2D)            (None, 14, 14, 16)        2320      \n",
            "_________________________________________________________________\n",
            "activation_9 (Activation)    (None, 14, 14, 16)        0         \n",
            "_________________________________________________________________\n",
            "max_pooling2d_1 (MaxPooling2 (None, 7, 7, 16)          0         \n",
            "_________________________________________________________________\n",
            "flatten (Flatten)            (None, 784)               0         \n",
            "_________________________________________________________________\n",
            "dense_6 (Dense)              (None, 40)                31400     \n",
            "_________________________________________________________________\n",
            "activation_10 (Activation)   (None, 40)                0         \n",
            "_________________________________________________________________\n",
            "dense_7 (Dense)              (None, 10)                410       \n",
            "_________________________________________________________________\n",
            "activation_11 (Activation)   (None, 10)                0         \n",
            "=================================================================\n",
            "Total params: 35,962\n",
            "Trainable params: 35,962\n",
            "Non-trainable params: 0\n",
            "_________________________________________________________________\n"
          ],
          "name": "stdout"
        }
      ]
    },
    {
      "cell_type": "code",
      "metadata": {
        "colab_type": "code",
        "id": "430DSTDIHJlP",
        "outputId": "d6f2bfb8-f8fa-4af2-b849-4e7022e3be10",
        "colab": {
          "base_uri": "https://localhost:8080/",
          "height": 390
        }
      },
      "source": [
        "# train the model\n",
        "history=model.fit(X_train, Y_train, \n",
        "                  batch_size=128, \n",
        "                  epochs=10,\n",
        "                  verbose=2, \n",
        "                  validation_data=(X_val, Y_val)\n",
        "                 )"
      ],
      "execution_count": 24,
      "outputs": [
        {
          "output_type": "stream",
          "text": [
            "Train on 50000 samples, validate on 10000 samples\n",
            "Epoch 1/10\n",
            "50000/50000 - 6s - loss: 0.3796 - accuracy: 0.8810 - val_loss: 0.1349 - val_accuracy: 0.9583\n",
            "Epoch 2/10\n",
            "50000/50000 - 4s - loss: 0.0952 - accuracy: 0.9709 - val_loss: 0.0703 - val_accuracy: 0.9791\n",
            "Epoch 3/10\n",
            "50000/50000 - 4s - loss: 0.0651 - accuracy: 0.9797 - val_loss: 0.0646 - val_accuracy: 0.9827\n",
            "Epoch 4/10\n",
            "50000/50000 - 4s - loss: 0.0521 - accuracy: 0.9837 - val_loss: 0.0634 - val_accuracy: 0.9809\n",
            "Epoch 5/10\n",
            "50000/50000 - 4s - loss: 0.0445 - accuracy: 0.9866 - val_loss: 0.0492 - val_accuracy: 0.9855\n",
            "Epoch 6/10\n",
            "50000/50000 - 4s - loss: 0.0353 - accuracy: 0.9894 - val_loss: 0.0488 - val_accuracy: 0.9860\n",
            "Epoch 7/10\n",
            "50000/50000 - 4s - loss: 0.0330 - accuracy: 0.9898 - val_loss: 0.0519 - val_accuracy: 0.9841\n",
            "Epoch 8/10\n",
            "50000/50000 - 4s - loss: 0.0278 - accuracy: 0.9910 - val_loss: 0.0451 - val_accuracy: 0.9871\n",
            "Epoch 9/10\n",
            "50000/50000 - 4s - loss: 0.0246 - accuracy: 0.9921 - val_loss: 0.0516 - val_accuracy: 0.9856\n",
            "Epoch 10/10\n",
            "50000/50000 - 4s - loss: 0.0220 - accuracy: 0.9924 - val_loss: 0.0513 - val_accuracy: 0.9870\n"
          ],
          "name": "stdout"
        }
      ]
    },
    {
      "cell_type": "code",
      "metadata": {
        "colab_type": "code",
        "id": "q8GcmSWoHJlX",
        "outputId": "b6b324e6-b986-4aa6-9778-567490d0cf4d",
        "colab": {
          "base_uri": "https://localhost:8080/",
          "height": 428
        }
      },
      "source": [
        "# plot the development of the accuracy and loss during training\n",
        "plt.figure(figsize=(12,4))\n",
        "plt.subplot(1,2,(1))\n",
        "plt.plot(history.history['accuracy'],linestyle='-.')\n",
        "plt.plot(history.history['val_accuracy'])\n",
        "plt.title('model accuracy')\n",
        "plt.ylabel('accuracy')\n",
        "plt.xlabel('epoch')\n",
        "plt.legend(['train', 'valid'], loc='lower right')\n",
        "plt.subplot(1,2,(2))\n",
        "plt.plot(history.history['loss'],linestyle='-.')\n",
        "plt.plot(history.history['val_loss'])\n",
        "plt.title('model loss')\n",
        "plt.ylabel('loss')\n",
        "plt.xlabel('epoch')\n",
        "plt.legend(['train', 'valid'], loc='upper right')"
      ],
      "execution_count": 25,
      "outputs": [
        {
          "output_type": "execute_result",
          "data": {
            "text/plain": [
              "<matplotlib.legend.Legend at 0x7f30e0080cc0>"
            ]
          },
          "metadata": {
            "tags": []
          },
          "execution_count": 25
        },
        {
          "output_type": "display_data",
          "data": {
            "image/png": "[encoded data removed]",
            "text/plain": [
              "<Figure size 1200x400 with 2 Axes>"
            ]
          },
          "metadata": {
            "tags": []
          }
        }
      ]
    },
    {
      "cell_type": "markdown",
      "metadata": {
        "colab_type": "text",
        "id": "CAcwJRvDHJlf"
      },
      "source": [
        "#### Prediction on the test set after training on original data\n",
        "\n",
        "Now, let's use CNN that was trained on the original data to predict new unseen data (our testdata). We determine the confusion matrix and the accuracy on the testdata to evaluate the classification performance."
      ]
    },
    {
      "cell_type": "code",
      "metadata": {
        "colab_type": "code",
        "id": "AdB-5bEjHJlh",
        "outputId": "46cb9a10-b37b-4238-94f4-639e87e96a5a",
        "colab": {
          "base_uri": "https://localhost:8080/",
          "height": 212
        }
      },
      "source": [
        "pred=model.predict(X_test)\n",
        "print(confusion_matrix(np.argmax(Y_test,axis=1),np.argmax(pred,axis=1)))\n",
        "acc_fc_orig = np.sum(np.argmax(Y_test,axis=1)==np.argmax(pred,axis=1))/len(pred)\n",
        "print(\"Acc_fc_orig = \" , acc_fc_orig)"
      ],
      "execution_count": 26,
      "outputs": [
        {
          "output_type": "stream",
          "text": [
            "[[ 962    0    0    0    1    1   15    1    0    0]\n",
            " [   0 1123    2    0    0    1    7    1    1    0]\n",
            " [   4    3 1020    1    0    0    0    3    1    0]\n",
            " [   0    0    3  999    0    4    0    2    2    0]\n",
            " [   0    0    0    0  972    0    1    0    1    8]\n",
            " [   1    1    0    5    0  879    3    0    3    0]\n",
            " [   1    1    0    0    1    1  953    0    1    0]\n",
            " [   0    1    4    0    0    0    0 1016    1    6]\n",
            " [   1    0    2    1    0    0    0    2  966    2]\n",
            " [   1    3    0    0    4    4    1    0    6  990]]\n",
            "Acc_fc_orig =  0.988\n"
          ],
          "name": "stdout"
        }
      ]
    },
    {
      "cell_type": "markdown",
      "metadata": {
        "colab_type": "text",
        "id": "eXWJXLO5HJll"
      },
      "source": [
        "### Train the CNN on the shuffled data"
      ]
    },
    {
      "cell_type": "code",
      "metadata": {
        "colab_type": "code",
        "id": "n43wXtMuHJln",
        "outputId": "4bf7ab99-1080-4ad4-9490-337be2cc807c",
        "colab": {
          "base_uri": "https://localhost:8080/",
          "height": 35
        }
      },
      "source": [
        "# check the shape of the shuffled data\n",
        "# we need matrices as input\n",
        "X_train_shuffle.shape,Y_train.shape,X_val_shuffle.shape,Y_val.shape"
      ],
      "execution_count": 27,
      "outputs": [
        {
          "output_type": "execute_result",
          "data": {
            "text/plain": [
              "((50000, 28, 28, 1), (50000, 10), (10000, 28, 28, 1), (10000, 10))"
            ]
          },
          "metadata": {
            "tags": []
          },
          "execution_count": 27
        }
      ]
    },
    {
      "cell_type": "code",
      "metadata": {
        "colab_type": "code",
        "id": "9uHoZFjHHJlt",
        "colab": {}
      },
      "source": [
        "# define CNN with 2 convolution blocks and 2 fully connected layers  \n",
        "model = Sequential()\n",
        "\n",
        "model.add(Convolution2D(8,kernel_size,padding='same',input_shape=input_shape))\n",
        "model.add(Activation('relu'))\n",
        "model.add(Convolution2D(8, kernel_size,padding='same'))\n",
        "model.add(Activation('relu'))\n",
        "model.add(MaxPooling2D(pool_size=pool_size))\n",
        "\n",
        "model.add(Convolution2D(16, kernel_size,padding='same'))\n",
        "model.add(Activation('relu'))\n",
        "model.add(Convolution2D(16,kernel_size,padding='same'))\n",
        "model.add(Activation('relu'))\n",
        "model.add(MaxPooling2D(pool_size=pool_size))\n",
        "\n",
        "model.add(Flatten())\n",
        "model.add(Dense(40))\n",
        "model.add(Activation('relu'))\n",
        "model.add(Dense(nb_classes))\n",
        "model.add(Activation('softmax'))\n",
        "\n",
        "# compile model and intitialize weights\n",
        "model.compile(loss='categorical_crossentropy',\n",
        "              optimizer='adam',\n",
        "              metrics=['accuracy'])"
      ],
      "execution_count": 0,
      "outputs": []
    },
    {
      "cell_type": "code",
      "metadata": {
        "colab_type": "code",
        "id": "SEQBad6jHJly",
        "outputId": "578283b9-2e48-49b5-d9bf-fb94554365b8",
        "colab": {
          "base_uri": "https://localhost:8080/",
          "height": 390
        }
      },
      "source": [
        "# train the model\n",
        "history=model.fit(X_train_shuffle, Y_train, \n",
        "                  batch_size=128, \n",
        "                  epochs=10,\n",
        "                  verbose=2, \n",
        "                  validation_data=(X_val_shuffle, Y_val)\n",
        "                 )"
      ],
      "execution_count": 29,
      "outputs": [
        {
          "output_type": "stream",
          "text": [
            "Train on 50000 samples, validate on 10000 samples\n",
            "Epoch 1/10\n",
            "50000/50000 - 4s - loss: 0.7436 - accuracy: 0.7640 - val_loss: 0.3280 - val_accuracy: 0.9036\n",
            "Epoch 2/10\n",
            "50000/50000 - 4s - loss: 0.3123 - accuracy: 0.9064 - val_loss: 0.2397 - val_accuracy: 0.9269\n",
            "Epoch 3/10\n",
            "50000/50000 - 4s - loss: 0.2386 - accuracy: 0.9274 - val_loss: 0.1952 - val_accuracy: 0.9390\n",
            "Epoch 4/10\n",
            "50000/50000 - 4s - loss: 0.1954 - accuracy: 0.9407 - val_loss: 0.1810 - val_accuracy: 0.9439\n",
            "Epoch 5/10\n",
            "50000/50000 - 4s - loss: 0.1664 - accuracy: 0.9486 - val_loss: 0.1696 - val_accuracy: 0.9464\n",
            "Epoch 6/10\n",
            "50000/50000 - 4s - loss: 0.1457 - accuracy: 0.9553 - val_loss: 0.1701 - val_accuracy: 0.9493\n",
            "Epoch 7/10\n",
            "50000/50000 - 4s - loss: 0.1272 - accuracy: 0.9599 - val_loss: 0.1493 - val_accuracy: 0.9554\n",
            "Epoch 8/10\n",
            "50000/50000 - 4s - loss: 0.1116 - accuracy: 0.9648 - val_loss: 0.1506 - val_accuracy: 0.9539\n",
            "Epoch 9/10\n",
            "50000/50000 - 4s - loss: 0.1004 - accuracy: 0.9681 - val_loss: 0.1510 - val_accuracy: 0.9544\n",
            "Epoch 10/10\n",
            "50000/50000 - 4s - loss: 0.0915 - accuracy: 0.9709 - val_loss: 0.1507 - val_accuracy: 0.9542\n"
          ],
          "name": "stdout"
        }
      ]
    },
    {
      "cell_type": "code",
      "metadata": {
        "colab_type": "code",
        "id": "_O6iw7xJHJmA",
        "outputId": "eaf899d2-0121-4cae-d747-51f911c9cb28",
        "colab": {
          "base_uri": "https://localhost:8080/",
          "height": 428
        }
      },
      "source": [
        "# plot the development of the accuracy and loss during training\n",
        "plt.figure(figsize=(12,4))\n",
        "plt.subplot(1,2,(1))\n",
        "plt.plot(history.history['accuracy'],linestyle='-.')\n",
        "plt.plot(history.history['val_accuracy'])\n",
        "plt.title('model accuracy')\n",
        "plt.ylabel('accuracy')\n",
        "plt.xlabel('epoch')\n",
        "plt.legend(['train', 'valid'], loc='lower right')\n",
        "plt.subplot(1,2,(2))\n",
        "plt.plot(history.history['loss'],linestyle='-.')\n",
        "plt.plot(history.history['val_loss'])\n",
        "plt.title('model loss')\n",
        "plt.ylabel('loss')\n",
        "plt.xlabel('epoch')\n",
        "plt.legend(['train', 'valid'], loc='upper right')"
      ],
      "execution_count": 30,
      "outputs": [
        {
          "output_type": "execute_result",
          "data": {
            "text/plain": [
              "<matplotlib.legend.Legend at 0x7f30baa64f60>"
            ]
          },
          "metadata": {
            "tags": []
          },
          "execution_count": 30
        },
        {
          "output_type": "display_data",
          "data": {
            "image/png": "[encoded data removed]",
            "text/plain": [
              "<Figure size 1200x400 with 2 Axes>"
            ]
          },
          "metadata": {
            "tags": []
          }
        }
      ]
    },
    {
      "cell_type": "markdown",
      "metadata": {
        "colab_type": "text",
        "id": "fz2TmqDyHJmF"
      },
      "source": [
        "#### Prediction on the test set after training on the shuffled data\n",
        "\n",
        "Use the CNN that was trained on the shuffled data to predict new unseen data (our testdata). We determine the confusion matrix and the accuracy on the testdata to evaluate the classification performance.\n"
      ]
    },
    {
      "cell_type": "code",
      "metadata": {
        "colab_type": "code",
        "id": "XPT49d5THJmJ",
        "outputId": "e0809539-56f5-46a7-e84d-fc83e55fc3d2",
        "colab": {
          "base_uri": "https://localhost:8080/",
          "height": 212
        }
      },
      "source": [
        "pred=model.predict(X_test_shuffle)\n",
        "print(confusion_matrix(np.argmax(Y_test,axis=1),np.argmax(pred,axis=1)))\n",
        "acc_fc_shuffled = np.sum(np.argmax(Y_test,axis=1)==np.argmax(pred,axis=1))/len(pred)\n",
        "print(\"Acc_fc_shuffled = \" , acc_fc_shuffled)"
      ],
      "execution_count": 31,
      "outputs": [
        {
          "output_type": "stream",
          "text": [
            "[[ 956    0    5    1    1    1    6    0    3    7]\n",
            " [   0 1121    4    0    1    2    3    1    3    0]\n",
            " [   6    5  992    7    2    1    2    7    9    1]\n",
            " [   0    1   10  968    0    6    2    6    9    8]\n",
            " [   0    1    8    1  939    0    3    4    2   24]\n",
            " [   7    0    0   35    2  809   14    4   10   11]\n",
            " [   8    2    1    1   10    6  923    2    4    1]\n",
            " [   1    6    9    2    5    0    1  968    3   33]\n",
            " [   4    2    9   15    7    7    5    4  902   19]\n",
            " [   1    3    6    9   11    4    0    6    4  965]]\n",
            "Acc_fc_shuffled =  0.9543\n"
          ],
          "name": "stdout"
        }
      ]
    },
    {
      "cell_type": "markdown",
      "metadata": {
        "colab_type": "text",
        "id": "9n6WX-ClgypT"
      },
      "source": [
        "# Conclusion\n",
        "\n",
        "** In a CNN the order of the data does matter, the performace for the original images and for the shuffled are the different! The CNN performs better on the original data. The CNN trained on the original data achieved an accuracy of  99%, but the same CNN trained on the shuffled version of the data achieved only 95% accuracy.**\n",
        "\n",
        "This was not the case when we used fcNN - here the performance did not change if the data was shuffled. The fcNN achieved an accuracy of 96% regardless if the data was shuffled or not.\n",
        "\n",
        "### *It is worth to note that the CNN with \"only\" 35'962 model weights achieved a higher accuracy 99% than the fcNN with 84'060 model weights that achieved a smaller accuray 96%*\n"
      ]
    },
    {
      "cell_type": "markdown",
      "metadata": {
        "colab_type": "text",
        "id": "Wv898fZgjb-Z"
      },
      "source": [
        "#### Play the deep learning game and ‘stack more layers and change the activation function from sigmoid to relu\n",
        "<img src=\"https://raw.githubusercontent.com/tensorchiefs/dl_book/master/imgs/paper-pen.png\" width=\"60\" align=\"left\" />  \n",
        "\n",
        "*Exercise [optional]: Try to improve the fcNN by adding more hidden layers and/or changing the activation function from \"sigmoid\" to \"relu\". What do you observe. can you beat the performace of the CNN?*\n",
        "\n"
      ]
    },
    {
      "cell_type": "code",
      "metadata": {
        "id": "6qUgfXcshaZY",
        "colab_type": "code",
        "colab": {}
      },
      "source": [
        ""
      ],
      "execution_count": 0,
      "outputs": []
    }
  ]
}