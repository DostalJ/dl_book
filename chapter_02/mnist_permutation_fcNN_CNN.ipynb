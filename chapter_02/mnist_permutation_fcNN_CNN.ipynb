{
 "cells": [
  {
   "cell_type": "markdown",
   "metadata": {
    "colab_type": "text",
    "id": "K_beqkYk2CUm"
   },
   "source": [
    "## Notebook under construction"
   ]
  },
  {
   "cell_type": "markdown",
   "metadata": {
    "colab_type": "text",
    "id": "tbTYFRhJoaBu"
   },
   "source": [
    "# MNIST digit classification before and after shuffling\n",
    "\n",
    "\n",
    "* You train different NNs  with different architectures and on different versions of the data set to classify the 10 digits in the mnist data set.\n",
    "\n",
    "To check if the local order of the pixels within the images have an impact on the classification performance, you do a permutations experiment: \n",
    "* You train the NN once on the original data and once after shuffling the order of the pixel values.\n",
    "* As architecture for the NN you use first a fcNN and then a CNN\n",
    "\n",
    "\n",
    "\n",
    "<a href=\"https://colab.research.google.com/github/tensorchiefs/dl_book/blob/master/chapter_02/edge-lover-simple-cnn.ipynb\"> <img src=\"https://colab.research.google.com/assets/colab-badge.svg\" alt=\"open in colab\">\n",
    "</a>\n",
    "| [open in colab](https://colab.research.google.com/github/tensorchiefs/dl_book/blob/master/chapter_02/mnist_permutation_fcNN_CNN.ipynb)\n",
    "\n"
   ]
  },
  {
   "cell_type": "markdown",
   "metadata": {
    "colab_type": "text",
    "id": "PEIS4WvpsT5t"
   },
   "source": [
    "### Loading the required libraries"
   ]
  },
  {
   "cell_type": "code",
   "execution_count": 1,
   "metadata": {
    "colab": {
     "base_uri": "https://localhost:8080/",
     "height": 67
    },
    "colab_type": "code",
    "id": "Y6S_hQX5oaBw",
    "outputId": "7af42072-6819-49be-e638-49d5913d0de9",
    "scrolled": true
   },
   "outputs": [
    {
     "name": "stderr",
     "output_type": "stream",
     "text": [
      "Using TensorFlow backend.\n"
     ]
    },
    {
     "name": "stdout",
     "output_type": "stream",
     "text": [
      "Keras 2.2.2 TF 1.10.1 Python sys.version_info(major=3, minor=5, micro=2, releaselevel='final', serial=0)\n",
      "Thu Dec 13 13:29:43 UTC 2018\n"
     ]
    }
   ],
   "source": [
    "import matplotlib.pyplot as plt\n",
    "import matplotlib.image as imgplot\n",
    "%matplotlib inline\n",
    "import numpy as np\n",
    "import pandas as pd\n",
    "from sklearn.metrics import confusion_matrix\n",
    "\n",
    "import tensorflow as tf\n",
    "from keras.models import Sequential\n",
    "from keras.layers import Dense, Activation  \n",
    "from keras.layers import Convolution2D, MaxPooling2D, Flatten\n",
    "import keras\n",
    "import sys\n",
    "print (\"Keras {} TF {} Python {}\".format(keras.__version__, tf.__version__, sys.version_info))\n",
    "!date"
   ]
  },
  {
   "cell_type": "markdown",
   "metadata": {
    "colab_type": "text",
    "id": "4h_3TS0CtJJb"
   },
   "source": [
    "### Loading and preparing the MNIST data"
   ]
  },
  {
   "cell_type": "code",
   "execution_count": 2,
   "metadata": {
    "colab": {
     "base_uri": "https://localhost:8080/",
     "height": 100
    },
    "colab_type": "code",
    "id": "4sZ8lqFfoaB2",
    "outputId": "62c80405-4bb2-4418-c3ec-b02b5f75e0ff"
   },
   "outputs": [
    {
     "name": "stdout",
     "output_type": "stream",
     "text": [
      "(50000, 28, 28, 1)\n",
      "(10000, 28, 28, 1)\n",
      "(10000, 28, 28, 1)\n"
     ]
    }
   ],
   "source": [
    "from keras.datasets import mnist\n",
    "(x_train, y_train), (x_test, y_test) = mnist.load_data()\n",
    "\n",
    "# separate x_train in X_train and X_val, same for y_train\n",
    "X_train=x_train[0:50000] / 255 #divide by 255 so that they are in range 0 to 1\n",
    "Y_train=keras.utils.to_categorical(y_train[0:50000],10) # one-hot encoding\n",
    "\n",
    "X_val=x_train[50000:60000] / 255\n",
    "Y_val=keras.utils.to_categorical(y_train[50000:60000],10)\n",
    "\n",
    "X_test=x_test / 255\n",
    "Y_test=keras.utils.to_categorical(y_test,10)\n",
    "\n",
    "del x_train, y_train, x_test, y_test\n",
    "\n",
    "X_train=np.reshape(X_train, (X_train.shape[0],28,28,1))\n",
    "X_val=np.reshape(X_val, (X_val.shape[0],28,28,1))\n",
    "X_test=np.reshape(X_test, (X_test.shape[0],28,28,1))\n",
    "\n",
    "print(X_train.shape)\n",
    "print(X_val.shape)\n",
    "print(X_test.shape)"
   ]
  },
  {
   "cell_type": "code",
   "execution_count": 3,
   "metadata": {
    "colab": {
     "base_uri": "https://localhost:8080/",
     "height": 282
    },
    "colab_type": "code",
    "id": "c4gUgwGUeftF",
    "outputId": "bcefb2bb-ed3c-4c22-bb45-9a7ed8009786"
   },
   "outputs": [
    {
     "name": "stdout",
     "output_type": "stream",
     "text": [
      "true label:  [5 0 4 1]\n"
     ]
    },
    {
     "data": {
      "image/png": "[encoded data removed]",
      "text/plain": [
       "<Figure size 1296x1296 with 4 Axes>"
      ]
     },
     "metadata": {},
     "output_type": "display_data"
    }
   ],
   "source": [
    "# visualize the 4 first mnist images before shuffling the pixels\n",
    "plt.figure(figsize=(18,18))\n",
    "for i in range(0,4):\n",
    "    plt.subplot(1,4,(i+1))\n",
    "    plt.imshow((X_train[i,:,:,0]),cmap=\"gray\")\n",
    "    #plt.axis('off')\n",
    "print('true label: ',np.argmax(Y_train,axis=1)[0:4])\n",
    "plt.savefig('ch02_11.pdf')"
   ]
  },
  {
   "cell_type": "code",
   "execution_count": 4,
   "metadata": {
    "colab": {},
    "colab_type": "code",
    "id": "o744FOiN1S6y"
   },
   "outputs": [],
   "source": [
    "# function to shuffle the pixel order within an image\n",
    "# used to shuffel the pixels of all mnist images in the same manner\n",
    "def shuffel_pixels(idx, data):\n",
    "  data_new=np.zeros((data.shape))\n",
    "  for i,img in enumerate(data):\n",
    "    data_new[i] = img.flatten()[idx].reshape((28,28,1))\n",
    "  return data_new\n",
    "\n",
    "np.random.seed(42)\n",
    "shuffel_idx = np.random.permutation(np.arange(28*28))\n",
    "X_train_shuffle = shuffel_pixels(shuffel_idx, X_train)\n",
    "X_val_shuffle = shuffel_pixels(shuffel_idx, X_val)\n",
    "X_test_shuffle = shuffel_pixels(shuffel_idx, X_test)"
   ]
  },
  {
   "cell_type": "code",
   "execution_count": 5,
   "metadata": {
    "colab": {
     "base_uri": "https://localhost:8080/",
     "height": 282
    },
    "colab_type": "code",
    "id": "ZrZk47bkoaB7",
    "outputId": "bf831356-1f78-4da2-b0cd-4aec36059c57"
   },
   "outputs": [
    {
     "name": "stdout",
     "output_type": "stream",
     "text": [
      "true label:  [5 0 4 1]\n"
     ]
    },
    {
     "data": {
      "image/png": "[encoded data removed]",
      "text/plain": [
       "<Figure size 1296x1296 with 4 Axes>"
      ]
     },
     "metadata": {},
     "output_type": "display_data"
    }
   ],
   "source": [
    "# visualize the 4 first mnist images after shuffling the pixels\n",
    "plt.figure(figsize=(18,18))\n",
    "for i in range(0,4):\n",
    "    plt.subplot(1,4,(i+1))\n",
    "    plt.imshow((X_train_shuffle[i,:,:,0]),cmap=\"gray\")\n",
    "print('true label: ',np.argmax(Y_train,axis=1)[0:4])\n",
    "plt.savefig('ch02_14.pdf')"
   ]
  },
  {
   "cell_type": "markdown",
   "metadata": {
    "colab_type": "text",
    "id": "trSndjWX4HO7"
   },
   "source": [
    "## fcNN as classification model for MNIST data\n",
    "\n",
    "* Use a fcNN with 2 hidden layers as classification model\n",
    "* train it once on the original train data and check the performance on the original test data\n",
    "* train it once on the shuffeled train data and check the performance on the accordingly shuffled test data"
   ]
  },
  {
   "cell_type": "code",
   "execution_count": 6,
   "metadata": {
    "colab": {},
    "colab_type": "code",
    "id": "CoSUhNzRfbj4"
   },
   "outputs": [],
   "source": [
    "# prepare data for fcNN - we need a vector as input\n",
    "\n",
    "# first do it for original data\n",
    "X_train_flat = X_train.reshape([X_train.shape[0], 784])\n",
    "X_val_flat = X_val.reshape([X_val.shape[0], 784])\n",
    "X_test_flat = X_test.reshape([X_test.shape[0], 784])\n",
    "\n",
    "# then do it for the shuffled data\n",
    "X_train_shuffle_flat = X_train_shuffle.reshape([X_train_shuffle.shape[0], 784])\n",
    "X_val_shuffle_flat = X_val_shuffle.reshape([X_val_shuffle.shape[0], 784])\n",
    "X_test_shuffle_flat = X_test_shuffle.reshape([X_test_shuffle.shape[0], 784])\n"
   ]
  },
  {
   "cell_type": "markdown",
   "metadata": {
    "colab_type": "text",
    "id": "uOYYJFOh62qC"
   },
   "source": [
    "### Train the fcNN on the original data"
   ]
  },
  {
   "cell_type": "code",
   "execution_count": 7,
   "metadata": {
    "colab": {
     "base_uri": "https://localhost:8080/",
     "height": 33
    },
    "colab_type": "code",
    "id": "xILWGAnpC0Bt",
    "outputId": "3cf3c489-8a0f-41cb-b575-8dcd2db224b3"
   },
   "outputs": [
    {
     "data": {
      "text/plain": [
       "((50000, 784), (50000, 10), (10000, 784), (10000, 10))"
      ]
     },
     "execution_count": 7,
     "metadata": {},
     "output_type": "execute_result"
    }
   ],
   "source": [
    "# check the shape\n",
    "X_train_flat.shape,Y_train.shape,X_val_flat.shape,Y_val.shape"
   ]
  },
  {
   "cell_type": "code",
   "execution_count": 8,
   "metadata": {
    "colab": {},
    "colab_type": "code",
    "id": "EAispBe0oaCH"
   },
   "outputs": [],
   "source": [
    "# define fcNN with 2 hidden layers\n",
    "model = Sequential()\n",
    "\n",
    "model.add(Dense(100, batch_input_shape=(None, 784)))\n",
    "model.add(Activation('relu'))\n",
    "model.add(Dense(50))\n",
    "model.add(Activation('relu'))\n",
    "model.add(Dense(10))\n",
    "model.add(Activation('softmax'))\n",
    "\n",
    "# compile model and intitialize weights\n",
    "model.compile(loss='categorical_crossentropy',\n",
    "              optimizer='adam',\n",
    "              metrics=['accuracy'])"
   ]
  },
  {
   "cell_type": "code",
   "execution_count": 9,
   "metadata": {
    "colab": {
     "base_uri": "https://localhost:8080/",
     "height": 334
    },
    "colab_type": "code",
    "id": "7xfW6yzqoaCK",
    "outputId": "2a77f3a2-f558-4e2b-8135-70f1130f58fa"
   },
   "outputs": [
    {
     "name": "stdout",
     "output_type": "stream",
     "text": [
      "_________________________________________________________________\n",
      "Layer (type)                 Output Shape              Param #   \n",
      "=================================================================\n",
      "dense_1 (Dense)              (None, 100)               78500     \n",
      "_________________________________________________________________\n",
      "activation_1 (Activation)    (None, 100)               0         \n",
      "_________________________________________________________________\n",
      "dense_2 (Dense)              (None, 50)                5050      \n",
      "_________________________________________________________________\n",
      "activation_2 (Activation)    (None, 50)                0         \n",
      "_________________________________________________________________\n",
      "dense_3 (Dense)              (None, 10)                510       \n",
      "_________________________________________________________________\n",
      "activation_3 (Activation)    (None, 10)                0         \n",
      "=================================================================\n",
      "Total params: 84,060\n",
      "Trainable params: 84,060\n",
      "Non-trainable params: 0\n",
      "_________________________________________________________________\n"
     ]
    }
   ],
   "source": [
    "# summarize model along with number of model weights\n",
    "model.summary()"
   ]
  },
  {
   "cell_type": "code",
   "execution_count": 10,
   "metadata": {
    "colab": {
     "base_uri": "https://localhost:8080/",
     "height": 368
    },
    "colab_type": "code",
    "id": "mhvTpCtfoaCQ",
    "outputId": "ae680d3f-9655-4fa1-a0e9-d4885cb3f3e0"
   },
   "outputs": [
    {
     "name": "stdout",
     "output_type": "stream",
     "text": [
      "Train on 50000 samples, validate on 10000 samples\n",
      "Epoch 1/10\n",
      " - 1s - loss: 0.3873 - acc: 0.8932 - val_loss: 0.1668 - val_acc: 0.9528\n",
      "Epoch 2/10\n",
      " - 1s - loss: 0.1553 - acc: 0.9547 - val_loss: 0.1309 - val_acc: 0.9636\n",
      "Epoch 3/10\n",
      " - 1s - loss: 0.1131 - acc: 0.9668 - val_loss: 0.1089 - val_acc: 0.9693\n",
      "Epoch 4/10\n",
      " - 1s - loss: 0.0878 - acc: 0.9743 - val_loss: 0.1010 - val_acc: 0.9709\n",
      "Epoch 5/10\n",
      " - 1s - loss: 0.0722 - acc: 0.9786 - val_loss: 0.0985 - val_acc: 0.9709\n",
      "Epoch 6/10\n",
      " - 1s - loss: 0.0579 - acc: 0.9836 - val_loss: 0.0928 - val_acc: 0.9723\n",
      "Epoch 7/10\n",
      " - 1s - loss: 0.0505 - acc: 0.9850 - val_loss: 0.0872 - val_acc: 0.9737\n",
      "Epoch 8/10\n",
      " - 1s - loss: 0.0431 - acc: 0.9869 - val_loss: 0.0850 - val_acc: 0.9747\n",
      "Epoch 9/10\n",
      " - 1s - loss: 0.0350 - acc: 0.9898 - val_loss: 0.0931 - val_acc: 0.9725\n",
      "Epoch 10/10\n",
      " - 1s - loss: 0.0297 - acc: 0.9911 - val_loss: 0.0850 - val_acc: 0.9769\n"
     ]
    }
   ],
   "source": [
    "# train the model\n",
    "history=model.fit(X_train_flat, Y_train, \n",
    "                  batch_size=128, \n",
    "                  epochs=10,\n",
    "                  verbose=2, \n",
    "                  validation_data=(X_val_flat, Y_val)\n",
    "                 )"
   ]
  },
  {
   "cell_type": "code",
   "execution_count": 11,
   "metadata": {
    "colab": {
     "base_uri": "https://localhost:8080/",
     "height": 571
    },
    "colab_type": "code",
    "id": "t39HSiHcoaCT",
    "outputId": "155632ad-344e-434b-b3f9-006ebd81e1b7"
   },
   "outputs": [
    {
     "data": {
      "image/png": "[encoded data removed]",
      "text/plain": [
       "<Figure size 1152x288 with 2 Axes>"
      ]
     },
     "metadata": {},
     "output_type": "display_data"
    }
   ],
   "source": [
    "# plot the development of the accuracy and loss during training\n",
    "plt.figure(figsize=(16,4))\n",
    "plt.subplot(1,2,(1))\n",
    "plt.plot(history.history['acc'],linestyle='-.')\n",
    "plt.plot(history.history['val_acc'])\n",
    "plt.title('model accuracy')\n",
    "plt.ylabel('accuracy')\n",
    "plt.xlabel('epoch')\n",
    "plt.legend(['train', 'valid'], loc='lower right')\n",
    "plt.subplot(1,2,(2))\n",
    "plt.plot(history.history['loss'],linestyle='-.')\n",
    "plt.plot(history.history['val_loss'])\n",
    "plt.title('model loss')\n",
    "plt.ylabel('loss')\n",
    "plt.xlabel('epoch')\n",
    "plt.legend(['train', 'valid'], loc='upper right')\n",
    "\n",
    "plt.savefig('ch02_13.pdf')"
   ]
  },
  {
   "cell_type": "markdown",
   "metadata": {
    "colab_type": "text",
    "id": "iCaoy8l4oaCW"
   },
   "source": [
    "#### Prediction on the original test set after training on original data\n",
    "\n",
    "Use the fcNN that was trained on the original data for prediction of the mnist images in the original test data set. \n",
    "Determine the confusion matrix and the accuracy for evaluating the classification performance.\n"
   ]
  },
  {
   "cell_type": "code",
   "execution_count": 12,
   "metadata": {
    "colab": {
     "base_uri": "https://localhost:8080/",
     "height": 201
    },
    "colab_type": "code",
    "id": "z1U4S7o5oaCY",
    "outputId": "5a0a9e95-69c0-47e8-b838-983d1cd195a9"
   },
   "outputs": [
    {
     "name": "stdout",
     "output_type": "stream",
     "text": [
      "[[ 969    0    2    1    2    0    1    3    2    0]\n",
      " [   0 1122    4    0    0    1    4    0    4    0]\n",
      " [   8    0 1004    0    1    0    7    5    7    0]\n",
      " [   1    0    8  963    0   15    0    8    9    6]\n",
      " [   1    0    4    1  962    0    4    1    1    8]\n",
      " [   2    1    0    4    0  868    8    1    4    4]\n",
      " [   4    2    0    1    3    4  942    0    2    0]\n",
      " [   0    4    8    1    2    0    0 1002    1   10]\n",
      " [   6    0    7    3    4    5    2    2  939    6]\n",
      " [   3    2    0    4    8    5    0    3    1  983]]\n",
      "Acc_fc_orig_flat =  0.9754\n"
     ]
    }
   ],
   "source": [
    "pred=model.predict(X_test_flat)\n",
    "print(confusion_matrix(np.argmax(Y_test,axis=1),np.argmax(pred,axis=1)))\n",
    "acc_fc_orig = np.sum(np.argmax(Y_test,axis=1)==np.argmax(pred,axis=1))/len(pred)\n",
    "print(\"Acc_fc_orig_flat = \" , acc_fc_orig)"
   ]
  },
  {
   "cell_type": "markdown",
   "metadata": {
    "colab_type": "text",
    "id": "oGMEWPhP8iL9"
   },
   "source": [
    "### Train the fcNN on the shuffled data"
   ]
  },
  {
   "cell_type": "code",
   "execution_count": 13,
   "metadata": {
    "colab": {
     "base_uri": "https://localhost:8080/",
     "height": 33
    },
    "colab_type": "code",
    "id": "uMoGTt8l8iL-",
    "outputId": "709fbd8a-1065-42b2-ccd5-2f3475f32c66"
   },
   "outputs": [
    {
     "data": {
      "text/plain": [
       "((50000, 784), (50000, 10), (10000, 784), (10000, 10))"
      ]
     },
     "execution_count": 13,
     "metadata": {},
     "output_type": "execute_result"
    }
   ],
   "source": [
    "# check the shape\n",
    "X_train_shuffle_flat.shape,Y_train.shape,X_val_shuffle_flat.shape,Y_val.shape"
   ]
  },
  {
   "cell_type": "code",
   "execution_count": 14,
   "metadata": {
    "colab": {},
    "colab_type": "code",
    "id": "S-cOfxRmBkC0"
   },
   "outputs": [],
   "source": [
    "# define fcNN with 2 hidden layers\n",
    "model = Sequential()\n",
    "\n",
    "model.add(Dense(100, batch_input_shape=(None, 784)))\n",
    "model.add(Activation('relu'))\n",
    "model.add(Dense(50))\n",
    "model.add(Activation('relu'))\n",
    "model.add(Dense(10))\n",
    "model.add(Activation('softmax'))\n",
    "\n",
    "# compile model and intitialize weights\n",
    "model.compile(loss='categorical_crossentropy',\n",
    "              optimizer='adam',\n",
    "              metrics=['accuracy'])"
   ]
  },
  {
   "cell_type": "code",
   "execution_count": 15,
   "metadata": {
    "colab": {
     "base_uri": "https://localhost:8080/",
     "height": 368
    },
    "colab_type": "code",
    "id": "GaGdqYQn8iME",
    "outputId": "04530c8d-4b46-4342-8a18-87a0a9a2f2e2"
   },
   "outputs": [
    {
     "name": "stdout",
     "output_type": "stream",
     "text": [
      "Train on 50000 samples, validate on 10000 samples\n",
      "Epoch 1/10\n",
      " - 1s - loss: 0.3987 - acc: 0.8875 - val_loss: 0.1915 - val_acc: 0.9486\n",
      "Epoch 2/10\n",
      " - 1s - loss: 0.1671 - acc: 0.9508 - val_loss: 0.1481 - val_acc: 0.9559\n",
      "Epoch 3/10\n",
      " - 1s - loss: 0.1209 - acc: 0.9639 - val_loss: 0.1171 - val_acc: 0.9632\n",
      "Epoch 4/10\n",
      " - 1s - loss: 0.0939 - acc: 0.9722 - val_loss: 0.1061 - val_acc: 0.9674\n",
      "Epoch 5/10\n",
      " - 1s - loss: 0.0758 - acc: 0.9772 - val_loss: 0.1009 - val_acc: 0.9717\n",
      "Epoch 6/10\n",
      " - 1s - loss: 0.0620 - acc: 0.9812 - val_loss: 0.0904 - val_acc: 0.9740\n",
      "Epoch 7/10\n",
      " - 1s - loss: 0.0509 - acc: 0.9848 - val_loss: 0.0945 - val_acc: 0.9728\n",
      "Epoch 8/10\n",
      " - 1s - loss: 0.0435 - acc: 0.9866 - val_loss: 0.0931 - val_acc: 0.9719\n",
      "Epoch 9/10\n",
      " - 1s - loss: 0.0358 - acc: 0.9893 - val_loss: 0.0986 - val_acc: 0.9716\n",
      "Epoch 10/10\n",
      " - 1s - loss: 0.0283 - acc: 0.9923 - val_loss: 0.0907 - val_acc: 0.9745\n"
     ]
    }
   ],
   "source": [
    "# train the model\n",
    "history=model.fit(X_train_shuffle_flat, Y_train, \n",
    "                  batch_size=128, \n",
    "                  epochs=10,\n",
    "                  verbose=2, \n",
    "                  validation_data=(X_val_shuffle_flat, Y_val)\n",
    "                 )"
   ]
  },
  {
   "cell_type": "code",
   "execution_count": 16,
   "metadata": {
    "colab": {
     "base_uri": "https://localhost:8080/",
     "height": 571
    },
    "colab_type": "code",
    "id": "Gj2-xZzO8iMJ",
    "outputId": "2154eb15-3bf8-49be-db63-9d604e73cbac"
   },
   "outputs": [
    {
     "data": {
      "image/png": "[encoded data removed]",
      "text/plain": [
       "<Figure size 432x288 with 1 Axes>"
      ]
     },
     "metadata": {},
     "output_type": "display_data"
    },
    {
     "data": {
      "image/png": "[encoded data removed]",
      "text/plain": [
       "<Figure size 432x288 with 1 Axes>"
      ]
     },
     "metadata": {},
     "output_type": "display_data"
    }
   ],
   "source": [
    "# plot the development of the accuracy and loss during training\n",
    "plt.plot(history.history['acc'])\n",
    "plt.plot(history.history['val_acc'])\n",
    "plt.title('model accuracy')\n",
    "plt.ylabel('accuracy')\n",
    "plt.xlabel('epoch')\n",
    "plt.legend(['train', 'valid'], loc='lower right')\n",
    "plt.show()\n",
    "plt.plot(history.history['loss'])\n",
    "plt.plot(history.history['val_loss'])\n",
    "plt.title('model loss')\n",
    "plt.ylabel('loss')\n",
    "plt.xlabel('epoch')\n",
    "plt.legend(['train', 'valid'], loc='upper right')\n",
    "plt.show()"
   ]
  },
  {
   "cell_type": "markdown",
   "metadata": {
    "colab_type": "text",
    "id": "B7bOrA_E8iMR"
   },
   "source": [
    "#### Prediction on the shuffled test set after training on the shuffled data\n",
    "\n",
    "Use the fcNN that was trained on the shuffled data for prediction of the mnist images in the test data set. Determine the confusion matrix and the accuracy for evaluating the classification performance.\n"
   ]
  },
  {
   "cell_type": "code",
   "execution_count": 17,
   "metadata": {
    "colab": {
     "base_uri": "https://localhost:8080/",
     "height": 201
    },
    "colab_type": "code",
    "id": "g_CEIhW78iMS",
    "outputId": "d815ea7b-e85f-4d00-d2cb-c301a3bba534"
   },
   "outputs": [
    {
     "name": "stdout",
     "output_type": "stream",
     "text": [
      "[[ 971    1    1    1    0    1    1    0    3    1]\n",
      " [   0 1125    3    1    0    1    2    0    3    0]\n",
      " [   4    8  994    9    1    0    2    4   10    0]\n",
      " [   0    0    0  993    0    5    0    3    7    2]\n",
      " [   3    0    2    1  949    0    4    1    3   19]\n",
      " [   3    0    0    9    0  868    7    1    3    1]\n",
      " [   5    3    1    1    4    4  935    1    4    0]\n",
      " [   1   10    8    2    1    0    0  992    2   12]\n",
      " [   4    1    2    3    2    5    2    3  949    3]\n",
      " [   2    2    1   11    6    1    0    5    2  979]]\n",
      "Acc_fc_shuffled_flat =  0.9755\n"
     ]
    }
   ],
   "source": [
    "pred=model.predict(X_test_shuffle_flat)\n",
    "print(confusion_matrix(np.argmax(Y_test,axis=1),np.argmax(pred,axis=1)))\n",
    "acc_fc_shuffled = np.sum(np.argmax(Y_test,axis=1)==np.argmax(pred,axis=1))/len(pred)\n",
    "print(\"Acc_fc_shuffled_flat = \" , acc_fc_shuffled)"
   ]
  },
  {
   "cell_type": "markdown",
   "metadata": {
    "colab_type": "text",
    "id": "ENcwFsgGfinO"
   },
   "source": [
    "### Note that in a fcNN the order of the data does not matter. The performace is the same when the original data is used for training and test or if the data was shuffled befor doing the training and test. In both cases the accuracy is around 0.975. "
   ]
  },
  {
   "cell_type": "code",
   "execution_count": null,
   "metadata": {
    "colab": {},
    "colab_type": "code",
    "id": "m8W15RKcghRS"
   },
   "outputs": [],
   "source": []
  },
  {
   "cell_type": "markdown",
   "metadata": {
    "colab_type": "text",
    "id": "ZaRFUEP8HJkq"
   },
   "source": [
    "## CNN as classification model for MNIST data\n",
    "\n",
    "* Use a CNN with 2 convolution blocks and 2 fully connected layers as classification model\n",
    "* train it once on the original train data and check the performance on the original test data\n",
    "* train it once on the shuffeled train data and check the performance on the accordingly shuffled test data"
   ]
  },
  {
   "cell_type": "markdown",
   "metadata": {
    "colab_type": "text",
    "id": "cFJtO1FFHJkz"
   },
   "source": [
    "### Train the CNN on the original data"
   ]
  },
  {
   "cell_type": "code",
   "execution_count": 18,
   "metadata": {
    "colab": {
     "base_uri": "https://localhost:8080/",
     "height": 33
    },
    "colab_type": "code",
    "id": "iq45_Gs1HJk1",
    "outputId": "000fb04c-caa2-4101-b388-73ac3b3da8da"
   },
   "outputs": [
    {
     "data": {
      "text/plain": [
       "((50000, 28, 28, 1), (50000, 10), (10000, 28, 28, 1), (10000, 10))"
      ]
     },
     "execution_count": 18,
     "metadata": {},
     "output_type": "execute_result"
    }
   ],
   "source": [
    "# check the shape of the orginal data\n",
    "# we need matrices as input\n",
    "X_train.shape,Y_train.shape,X_val.shape,Y_val.shape"
   ]
  },
  {
   "cell_type": "code",
   "execution_count": 19,
   "metadata": {
    "colab": {},
    "colab_type": "code",
    "id": "JSfYQ4f1KYVp"
   },
   "outputs": [],
   "source": [
    "# here we define  hyperparameter of the CNN\n",
    "batch_size = 128\n",
    "nb_classes = 10\n",
    "img_rows, img_cols = 28, 28\n",
    "kernel_size = (3, 3)\n",
    "input_shape = (img_rows, img_cols, 1)\n",
    "pool_size = (2, 2)"
   ]
  },
  {
   "cell_type": "code",
   "execution_count": 20,
   "metadata": {
    "colab": {},
    "colab_type": "code",
    "id": "3xwh0iYrHJk_"
   },
   "outputs": [],
   "source": [
    "# define CNN with 2 convolution blocks and 2 fully connected layers\n",
    "model = Sequential()\n",
    "\n",
    "model.add(Convolution2D(8,kernel_size,padding='same',input_shape=input_shape))\n",
    "model.add(Activation('relu'))\n",
    "model.add(Convolution2D(8, kernel_size,padding='same'))\n",
    "model.add(Activation('relu'))\n",
    "model.add(MaxPooling2D(pool_size=pool_size))\n",
    "\n",
    "model.add(Convolution2D(16, kernel_size,padding='same'))\n",
    "model.add(Activation('relu'))\n",
    "model.add(Convolution2D(16,kernel_size,padding='same'))\n",
    "model.add(Activation('relu'))\n",
    "model.add(MaxPooling2D(pool_size=pool_size))\n",
    "\n",
    "model.add(Flatten())\n",
    "model.add(Dense(40))\n",
    "model.add(Activation('relu'))\n",
    "model.add(Dense(nb_classes))\n",
    "model.add(Activation('softmax'))\n",
    "\n",
    "# compile model and intitialize weights\n",
    "model.compile(loss='categorical_crossentropy',\n",
    "              optimizer='adam',\n",
    "              metrics=['accuracy'])"
   ]
  },
  {
   "cell_type": "code",
   "execution_count": 21,
   "metadata": {
    "colab": {
     "base_uri": "https://localhost:8080/",
     "height": 636
    },
    "colab_type": "code",
    "id": "blxHZguwHJlG",
    "outputId": "e3ab60dd-4391-40b4-e136-d8641e33554e"
   },
   "outputs": [
    {
     "name": "stdout",
     "output_type": "stream",
     "text": [
      "_________________________________________________________________\n",
      "Layer (type)                 Output Shape              Param #   \n",
      "=================================================================\n",
      "conv2d_1 (Conv2D)            (None, 28, 28, 8)         80        \n",
      "_________________________________________________________________\n",
      "activation_7 (Activation)    (None, 28, 28, 8)         0         \n",
      "_________________________________________________________________\n",
      "conv2d_2 (Conv2D)            (None, 28, 28, 8)         584       \n",
      "_________________________________________________________________\n",
      "activation_8 (Activation)    (None, 28, 28, 8)         0         \n",
      "_________________________________________________________________\n",
      "max_pooling2d_1 (MaxPooling2 (None, 14, 14, 8)         0         \n",
      "_________________________________________________________________\n",
      "conv2d_3 (Conv2D)            (None, 14, 14, 16)        1168      \n",
      "_________________________________________________________________\n",
      "activation_9 (Activation)    (None, 14, 14, 16)        0         \n",
      "_________________________________________________________________\n",
      "conv2d_4 (Conv2D)            (None, 14, 14, 16)        2320      \n",
      "_________________________________________________________________\n",
      "activation_10 (Activation)   (None, 14, 14, 16)        0         \n",
      "_________________________________________________________________\n",
      "max_pooling2d_2 (MaxPooling2 (None, 7, 7, 16)          0         \n",
      "_________________________________________________________________\n",
      "flatten_1 (Flatten)          (None, 784)               0         \n",
      "_________________________________________________________________\n",
      "dense_7 (Dense)              (None, 40)                31400     \n",
      "_________________________________________________________________\n",
      "activation_11 (Activation)   (None, 40)                0         \n",
      "_________________________________________________________________\n",
      "dense_8 (Dense)              (None, 10)                410       \n",
      "_________________________________________________________________\n",
      "activation_12 (Activation)   (None, 10)                0         \n",
      "=================================================================\n",
      "Total params: 35,962\n",
      "Trainable params: 35,962\n",
      "Non-trainable params: 0\n",
      "_________________________________________________________________\n"
     ]
    }
   ],
   "source": [
    "# summarize model along with number of model weights\n",
    "model.summary()"
   ]
  },
  {
   "cell_type": "code",
   "execution_count": 22,
   "metadata": {
    "colab": {
     "base_uri": "https://localhost:8080/",
     "height": 368
    },
    "colab_type": "code",
    "id": "430DSTDIHJlP",
    "outputId": "cd846ceb-ee70-4257-d9a7-da235a46f2b2"
   },
   "outputs": [
    {
     "name": "stdout",
     "output_type": "stream",
     "text": [
      "Train on 50000 samples, validate on 10000 samples\n",
      "Epoch 1/10\n",
      " - 32s - loss: 0.3635 - acc: 0.8934 - val_loss: 0.1159 - val_acc: 0.9665\n",
      "Epoch 2/10\n",
      " - 35s - loss: 0.0910 - acc: 0.9721 - val_loss: 0.0630 - val_acc: 0.9829\n",
      "Epoch 3/10\n",
      " - 33s - loss: 0.0627 - acc: 0.9804 - val_loss: 0.0658 - val_acc: 0.9813\n",
      "Epoch 4/10\n",
      " - 32s - loss: 0.0485 - acc: 0.9850 - val_loss: 0.0524 - val_acc: 0.9852\n",
      "Epoch 5/10\n",
      " - 31s - loss: 0.0394 - acc: 0.9877 - val_loss: 0.0483 - val_acc: 0.9866\n",
      "Epoch 6/10\n",
      " - 32s - loss: 0.0337 - acc: 0.9893 - val_loss: 0.0469 - val_acc: 0.9880\n",
      "Epoch 7/10\n",
      " - 30s - loss: 0.0293 - acc: 0.9909 - val_loss: 0.0463 - val_acc: 0.9870\n",
      "Epoch 8/10\n",
      " - 32s - loss: 0.0257 - acc: 0.9914 - val_loss: 0.0478 - val_acc: 0.9887\n",
      "Epoch 9/10\n",
      " - 30s - loss: 0.0219 - acc: 0.9933 - val_loss: 0.0457 - val_acc: 0.9885\n",
      "Epoch 10/10\n",
      " - 30s - loss: 0.0197 - acc: 0.9932 - val_loss: 0.0436 - val_acc: 0.9890\n"
     ]
    }
   ],
   "source": [
    "# train the model\n",
    "history=model.fit(X_train, Y_train, \n",
    "                  batch_size=128, \n",
    "                  epochs=10,\n",
    "                  verbose=2, \n",
    "                  validation_data=(X_val, Y_val)\n",
    "                 )"
   ]
  },
  {
   "cell_type": "code",
   "execution_count": 23,
   "metadata": {
    "colab": {
     "base_uri": "https://localhost:8080/",
     "height": 571
    },
    "colab_type": "code",
    "id": "q8GcmSWoHJlX",
    "outputId": "673bbf73-e319-43ef-b5cc-2fb010f28b43"
   },
   "outputs": [
    {
     "data": {
      "image/png": "[encoded data removed]",
      "text/plain": [
       "<Figure size 432x288 with 1 Axes>"
      ]
     },
     "metadata": {},
     "output_type": "display_data"
    },
    {
     "data": {
      "image/png": "[encoded data removed]",
      "text/plain": [
       "<Figure size 432x288 with 1 Axes>"
      ]
     },
     "metadata": {},
     "output_type": "display_data"
    }
   ],
   "source": [
    "# plot the development of the accuracy and loss during training\n",
    "plt.plot(history.history['acc'])\n",
    "plt.plot(history.history['val_acc'])\n",
    "plt.title('model accuracy')\n",
    "plt.ylabel('accuracy')\n",
    "plt.xlabel('epoch')\n",
    "plt.legend(['train', 'valid'], loc='lower right')\n",
    "plt.show()\n",
    "plt.plot(history.history['loss'])\n",
    "plt.plot(history.history['val_loss'])\n",
    "plt.title('model loss')\n",
    "plt.ylabel('loss')\n",
    "plt.xlabel('epoch')\n",
    "plt.legend(['train', 'valid'], loc='upper right')\n",
    "plt.show()"
   ]
  },
  {
   "cell_type": "markdown",
   "metadata": {
    "colab_type": "text",
    "id": "CAcwJRvDHJlf"
   },
   "source": [
    "#### Prediction on the test set after training on original data\n",
    "\n",
    "Use the CNN that was trained on the original data for prediction of the mnist images in the test data set. Determine the confusion matrix and the accuracy for evaluating the classification performance.\n"
   ]
  },
  {
   "cell_type": "code",
   "execution_count": 24,
   "metadata": {
    "colab": {
     "base_uri": "https://localhost:8080/",
     "height": 201
    },
    "colab_type": "code",
    "id": "AdB-5bEjHJlh",
    "outputId": "93d3f474-64e6-4224-b7c7-decd8cd59fe7"
   },
   "outputs": [
    {
     "name": "stdout",
     "output_type": "stream",
     "text": [
      "[[ 974    0    0    0    0    1    2    1    2    0]\n",
      " [   0 1132    0    0    0    1    1    1    0    0]\n",
      " [   2    6 1019    1    2    0    0    2    0    0]\n",
      " [   0    0    0 1001    0    3    0    3    3    0]\n",
      " [   0    0    1    0  979    0    0    0    0    2]\n",
      " [   2    0    0    5    0  880    4    1    0    0]\n",
      " [   2    1    1    0    1    1  952    0    0    0]\n",
      " [   0    3    6    0    0    0    0 1015    1    3]\n",
      " [   2    0    1    2    0    1    0    0  965    3]\n",
      " [   0    3    0    2    7    4    0    2    0  991]]\n",
      "Acc_fc_orig =  0.9908\n"
     ]
    }
   ],
   "source": [
    "pred=model.predict(X_test)\n",
    "print(confusion_matrix(np.argmax(Y_test,axis=1),np.argmax(pred,axis=1)))\n",
    "acc_fc_orig = np.sum(np.argmax(Y_test,axis=1)==np.argmax(pred,axis=1))/len(pred)\n",
    "print(\"Acc_fc_orig = \" , acc_fc_orig)"
   ]
  },
  {
   "cell_type": "markdown",
   "metadata": {
    "colab_type": "text",
    "id": "eXWJXLO5HJll"
   },
   "source": [
    "### Train the CNN on the shuffled data"
   ]
  },
  {
   "cell_type": "code",
   "execution_count": 25,
   "metadata": {
    "colab": {
     "base_uri": "https://localhost:8080/",
     "height": 33
    },
    "colab_type": "code",
    "id": "n43wXtMuHJln",
    "outputId": "a9b0c3ab-a373-4298-ec4e-1b0263bd3dcc"
   },
   "outputs": [
    {
     "data": {
      "text/plain": [
       "((50000, 28, 28, 1), (50000, 10), (10000, 28, 28, 1), (10000, 10))"
      ]
     },
     "execution_count": 25,
     "metadata": {},
     "output_type": "execute_result"
    }
   ],
   "source": [
    "# check the shape of the shuffled data\n",
    "# we need matrices as input\n",
    "X_train_shuffle.shape,Y_train.shape,X_val_shuffle.shape,Y_val.shape"
   ]
  },
  {
   "cell_type": "code",
   "execution_count": 26,
   "metadata": {
    "colab": {},
    "colab_type": "code",
    "id": "9uHoZFjHHJlt"
   },
   "outputs": [],
   "source": [
    "# define CNN with 2 convolution blocks and 2 fully connected layers  \n",
    "model = Sequential()\n",
    "\n",
    "model.add(Convolution2D(8,kernel_size,padding='same',input_shape=input_shape))\n",
    "model.add(Activation('relu'))\n",
    "model.add(Convolution2D(8, kernel_size,padding='same'))\n",
    "model.add(Activation('relu'))\n",
    "model.add(MaxPooling2D(pool_size=pool_size))\n",
    "\n",
    "model.add(Convolution2D(16, kernel_size,padding='same'))\n",
    "model.add(Activation('relu'))\n",
    "model.add(Convolution2D(16,kernel_size,padding='same'))\n",
    "model.add(Activation('relu'))\n",
    "model.add(MaxPooling2D(pool_size=pool_size))\n",
    "\n",
    "model.add(Flatten())\n",
    "model.add(Dense(40))\n",
    "model.add(Activation('relu'))\n",
    "model.add(Dense(nb_classes))\n",
    "model.add(Activation('softmax'))\n",
    "\n",
    "# compile model and intitialize weights\n",
    "model.compile(loss='categorical_crossentropy',\n",
    "              optimizer='adam',\n",
    "              metrics=['accuracy'])"
   ]
  },
  {
   "cell_type": "code",
   "execution_count": 27,
   "metadata": {
    "colab": {
     "base_uri": "https://localhost:8080/",
     "height": 368
    },
    "colab_type": "code",
    "id": "SEQBad6jHJly",
    "outputId": "f63d5d69-fb92-4b6d-9c51-699df4ffa4ce"
   },
   "outputs": [
    {
     "name": "stdout",
     "output_type": "stream",
     "text": [
      "Train on 50000 samples, validate on 10000 samples\n",
      "Epoch 1/10\n",
      " - 31s - loss: 0.7477 - acc: 0.7589 - val_loss: 0.3470 - val_acc: 0.8981\n",
      "Epoch 2/10\n",
      " - 31s - loss: 0.3406 - acc: 0.8974 - val_loss: 0.2708 - val_acc: 0.9219\n",
      "Epoch 3/10\n",
      " - 34s - loss: 0.2704 - acc: 0.9177 - val_loss: 0.2236 - val_acc: 0.9349\n",
      "Epoch 4/10\n",
      " - 32s - loss: 0.2287 - acc: 0.9304 - val_loss: 0.2001 - val_acc: 0.9397\n",
      "Epoch 5/10\n",
      " - 30s - loss: 0.1964 - acc: 0.9400 - val_loss: 0.1937 - val_acc: 0.9430\n",
      "Epoch 6/10\n",
      " - 29s - loss: 0.1745 - acc: 0.9463 - val_loss: 0.1775 - val_acc: 0.9472\n",
      "Epoch 7/10\n",
      " - 30s - loss: 0.1552 - acc: 0.9522 - val_loss: 0.1753 - val_acc: 0.9478\n",
      "Epoch 8/10\n",
      " - 29s - loss: 0.1394 - acc: 0.9568 - val_loss: 0.1719 - val_acc: 0.9486\n",
      "Epoch 9/10\n",
      " - 29s - loss: 0.1288 - acc: 0.9595 - val_loss: 0.1791 - val_acc: 0.9465\n",
      "Epoch 10/10\n",
      " - 30s - loss: 0.1175 - acc: 0.9636 - val_loss: 0.1550 - val_acc: 0.9544\n"
     ]
    }
   ],
   "source": [
    "# train the model\n",
    "history=model.fit(X_train_shuffle, Y_train, \n",
    "                  batch_size=128, \n",
    "                  epochs=10,\n",
    "                  verbose=2, \n",
    "                  validation_data=(X_val_shuffle, Y_val)\n",
    "                 )"
   ]
  },
  {
   "cell_type": "code",
   "execution_count": 28,
   "metadata": {
    "colab": {
     "base_uri": "https://localhost:8080/",
     "height": 571
    },
    "colab_type": "code",
    "id": "_O6iw7xJHJmA",
    "outputId": "cca92801-367e-4423-b712-ffda49806144"
   },
   "outputs": [
    {
     "data": {
      "image/png": "[encoded data removed]",
      "text/plain": [
       "<Figure size 432x288 with 1 Axes>"
      ]
     },
     "metadata": {},
     "output_type": "display_data"
    },
    {
     "data": {
      "image/png": "[encoded data removed]",
      "text/plain": [
       "<Figure size 432x288 with 1 Axes>"
      ]
     },
     "metadata": {},
     "output_type": "display_data"
    }
   ],
   "source": [
    "# plot the development of the accuracy and loss during training\n",
    "plt.plot(history.history['acc'])\n",
    "plt.plot(history.history['val_acc'])\n",
    "plt.title('model accuracy')\n",
    "plt.ylabel('accuracy')\n",
    "plt.xlabel('epoch')\n",
    "plt.legend(['train', 'valid'], loc='lower right')\n",
    "plt.show()\n",
    "plt.plot(history.history['loss'])\n",
    "plt.plot(history.history['val_loss'])\n",
    "plt.title('model loss')\n",
    "plt.ylabel('loss')\n",
    "plt.xlabel('epoch')\n",
    "plt.legend(['train', 'valid'], loc='upper right')\n",
    "plt.show()"
   ]
  },
  {
   "cell_type": "markdown",
   "metadata": {
    "colab_type": "text",
    "id": "fz2TmqDyHJmF"
   },
   "source": [
    "#### Prediction on the test set after training on the shuffled data\n",
    "\n",
    "Use the CNN that was trained on the shuffled data for prediction of the mnist images in the test data set. Determine the confusion matrix and the accuracy for evaluating the classification performance.\n"
   ]
  },
  {
   "cell_type": "code",
   "execution_count": 29,
   "metadata": {
    "colab": {
     "base_uri": "https://localhost:8080/",
     "height": 201
    },
    "colab_type": "code",
    "id": "XPT49d5THJmJ",
    "outputId": "7321b20f-eb71-4eca-c26a-a64271be5679"
   },
   "outputs": [
    {
     "name": "stdout",
     "output_type": "stream",
     "text": [
      "[[ 973    0    2    1    1    0    0    1    1    1]\n",
      " [   0 1120    3    2    1    0    1    0    8    0]\n",
      " [  11    1  972   16    1    1    3    8   15    4]\n",
      " [   3    1    1  977    0    7    0    4    9    8]\n",
      " [   4    0    8    1  929    0    3    2    3   32]\n",
      " [  10    0    2   25    2  826    7    3   11    6]\n",
      " [  25    3    4    0    7    8  902    2    7    0]\n",
      " [   4    4   12    5    4    0    0  962    3   34]\n",
      " [  14    0    7   22    6    9    4    4  892   16]\n",
      " [   6    2    1    7   14    3    0    6    5  965]]\n",
      "Acc_fc_shuffled =  0.9518\n"
     ]
    }
   ],
   "source": [
    "pred=model.predict(X_test_shuffle)\n",
    "print(confusion_matrix(np.argmax(Y_test,axis=1),np.argmax(pred,axis=1)))\n",
    "acc_fc_shuffled = np.sum(np.argmax(Y_test,axis=1)==np.argmax(pred,axis=1))/len(pred)\n",
    "print(\"Acc_fc_shuffled = \" , acc_fc_shuffled)"
   ]
  },
  {
   "cell_type": "markdown",
   "metadata": {
    "colab_type": "text",
    "id": "9n6WX-ClgypT"
   },
   "source": [
    "# Conclusion\n",
    "\n",
    "### In a CNN the order of the data does matter, the performace for the original images and for the shuffled are the different! The CNN performs better on the original data. The CNN trained on the original data achieved an accuracy of  0.99, but the same CNN trained on the shuffled version of the data achieved only 0.95 accuracy. \n",
    "\n",
    "### This was not the case when a fcNN was used - here the performance did not change if the data was shuffled. The fcNN achieved an accuracy of 0.975 regardless if the data was shuffled or not. \n",
    "\n",
    "### It is worth to note that on the original data the CNN achieved with \"only\" 35962 model weights a higher accuracy (0.99) than the fcNN with 84000 model weights that achieved a smaller accuray (0.975)\n"
   ]
  },
  {
   "cell_type": "code",
   "execution_count": null,
   "metadata": {
    "colab": {},
    "colab_type": "code",
    "id": "byuP_RcvhAdN"
   },
   "outputs": [],
   "source": []
  }
 ],
 "metadata": {
  "accelerator": "GPU",
  "colab": {
   "collapsed_sections": [],
   "name": "mnist_permutation_fcNN_CNN.ipynb",
   "provenance": [],
   "version": "0.3.2"
  },
  "kernelspec": {
   "display_name": "Python 3",
   "language": "python",
   "name": "python3"
  },
  "language_info": {
   "codemirror_mode": {
    "name": "ipython",
    "version": 3
   },
   "file_extension": ".py",
   "mimetype": "text/x-python",
   "name": "python",
   "nbconvert_exporter": "python",
   "pygments_lexer": "ipython3",
   "version": "3.5.2"
  }
 },
 "nbformat": 4,
 "nbformat_minor": 1
}
