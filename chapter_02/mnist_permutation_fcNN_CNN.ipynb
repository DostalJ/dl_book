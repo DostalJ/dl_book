{
  "nbformat": 4,
  "nbformat_minor": 0,
  "metadata": {
    "colab": {
      "name": "mnist_permutation_fcNN_CNN.ipynb",
      "version": "0.3.2",
      "provenance": [],
      "collapsed_sections": []
    },
    "kernelspec": {
      "name": "python3",
      "display_name": "Python 3"
    },
    "accelerator": "GPU"
  },
  "cells": [
    {
      "metadata": {
        "id": "K_beqkYk2CUm",
        "colab_type": "text"
      },
      "cell_type": "markdown",
      "source": [
        "## Notebook under construction"
      ]
    },
    {
      "metadata": {
        "id": "tbTYFRhJoaBu",
        "colab_type": "text"
      },
      "cell_type": "markdown",
      "source": [
        "# MNIST digit classification before and after shuffling\n",
        "\n",
        "\n",
        "* You train different NNs  with different architectures and on different versions of the data set to classify the 10 digits in the mnist data set.\n",
        "\n",
        "To check if the local order of the pixels within the images have an impact on the classification performance, you do a permutations experiment: \n",
        "* You train the NN once on the original data and once after shuffling the order of the pixel values.\n",
        "* As architecture for the NN you use first a fcNN and then a CNN\n",
        "\n",
        "\n",
        "\n",
        "<a href=\"https://colab.research.google.com/github/tensorchiefs/dl_book/blob/master/chapter_02/edge-lover-simple-cnn.ipynb\"> <img src=\"https://colab.research.google.com/assets/colab-badge.svg\" alt=\"open in colab\">\n",
        "</a>\n",
        "| [open in colab](https://colab.research.google.com/github/tensorchiefs/dl_book/blob/master/chapter_02/mnist_permutation_fcNN_CNN.ipynb)\n",
        "\n"
      ]
    },
    {
      "metadata": {
        "id": "PEIS4WvpsT5t",
        "colab_type": "text"
      },
      "cell_type": "markdown",
      "source": [
        "### Loading the required libraries"
      ]
    },
    {
      "metadata": {
        "scrolled": true,
        "id": "Y6S_hQX5oaBw",
        "colab_type": "code",
        "outputId": "7af42072-6819-49be-e638-49d5913d0de9",
        "colab": {
          "base_uri": "https://localhost:8080/",
          "height": 67
        }
      },
      "cell_type": "code",
      "source": [
        "import matplotlib.pyplot as plt\n",
        "import matplotlib.image as imgplot\n",
        "%matplotlib inline\n",
        "import numpy as np\n",
        "import pandas as pd\n",
        "from sklearn.metrics import confusion_matrix\n",
        "\n",
        "import tensorflow as tf\n",
        "from keras.models import Sequential\n",
        "from keras.layers import Dense, Activation  \n",
        "from keras.layers import Convolution2D, MaxPooling2D, Flatten\n",
        "import keras\n",
        "import sys\n",
        "print (\"Keras {} TF {} Python {}\".format(keras.__version__, tf.__version__, sys.version_info))\n",
        "!date"
      ],
      "execution_count": 1,
      "outputs": [
        {
          "output_type": "stream",
          "text": [
            "Using TensorFlow backend.\n"
          ],
          "name": "stderr"
        },
        {
          "output_type": "stream",
          "text": [
            "Keras 2.2.4 TF 1.12.0 Python sys.version_info(major=3, minor=6, micro=7, releaselevel='final', serial=0)\n",
            "Mon Dec 10 21:19:39 UTC 2018\n"
          ],
          "name": "stdout"
        }
      ]
    },
    {
      "metadata": {
        "id": "4h_3TS0CtJJb",
        "colab_type": "text"
      },
      "cell_type": "markdown",
      "source": [
        "### Loading and preparing the MNIST data"
      ]
    },
    {
      "metadata": {
        "id": "4sZ8lqFfoaB2",
        "colab_type": "code",
        "outputId": "62c80405-4bb2-4418-c3ec-b02b5f75e0ff",
        "colab": {
          "base_uri": "https://localhost:8080/",
          "height": 100
        }
      },
      "cell_type": "code",
      "source": [
        "from keras.datasets import mnist\n",
        "(x_train, y_train), (x_test, y_test) = mnist.load_data()\n",
        "\n",
        "# separate x_train in X_train and X_val, same for y_train\n",
        "X_train=x_train[0:50000] / 255 #divide by 255 so that they are in range 0 to 1\n",
        "Y_train=keras.utils.to_categorical(y_train[0:50000],10) # one-hot encoding\n",
        "\n",
        "X_val=x_train[50000:60000] / 255\n",
        "Y_val=keras.utils.to_categorical(y_train[50000:60000],10)\n",
        "\n",
        "X_test=x_test / 255\n",
        "Y_test=keras.utils.to_categorical(y_test,10)\n",
        "\n",
        "del x_train, y_train, x_test, y_test\n",
        "\n",
        "X_train=np.reshape(X_train, (X_train.shape[0],28,28,1))\n",
        "X_val=np.reshape(X_val, (X_val.shape[0],28,28,1))\n",
        "X_test=np.reshape(X_test, (X_test.shape[0],28,28,1))\n",
        "\n",
        "print(X_train.shape)\n",
        "print(X_val.shape)\n",
        "print(X_test.shape)"
      ],
      "execution_count": 2,
      "outputs": [
        {
          "output_type": "stream",
          "text": [
            "Downloading data from https://s3.amazonaws.com/img-datasets/mnist.npz\n",
            "11493376/11490434 [==============================] - 2s 0us/step\n",
            "(50000, 28, 28, 1)\n",
            "(10000, 28, 28, 1)\n",
            "(10000, 28, 28, 1)\n"
          ],
          "name": "stdout"
        }
      ]
    },
    {
      "metadata": {
        "id": "c4gUgwGUeftF",
        "colab_type": "code",
        "outputId": "bcefb2bb-ed3c-4c22-bb45-9a7ed8009786",
        "colab": {
          "base_uri": "https://localhost:8080/",
          "height": 282
        }
      },
      "cell_type": "code",
      "source": [
        "# visualize the 4 first mnist images before shuffling the pixels\n",
        "plt.figure(figsize=(18,18))\n",
        "for i in range(0,4):\n",
        "    plt.subplot(1,4,(i+1))\n",
        "    plt.imshow((X_train[i,:,:,0]),cmap=\"gray\")\n",
        "    #plt.axis('off')\n",
        "print('true label: ',np.argmax(Y_train,axis=1)[0:4])"
      ],
      "execution_count": 3,
      "outputs": [
        {
          "output_type": "stream",
          "text": [
            "true label:  [5 0 4 1]\n"
          ],
          "name": "stdout"
        },
        {
          "output_type": "display_data",
          "data": {
            "image/png": "[encoded data removed]",
            "text/plain": [
              "<matplotlib.figure.Figure at 0x7fdc4c41f320>"
            ]
          },
          "metadata": {
            "tags": []
          }
        }
      ]
    },
    {
      "metadata": {
        "id": "o744FOiN1S6y",
        "colab_type": "code",
        "colab": {}
      },
      "cell_type": "code",
      "source": [
        "# function to shuffle the pixel order within an image\n",
        "# used to shuffel the pixels of all mnist images in the same manner\n",
        "def shuffel_pixels(idx, data):\n",
        "  data_new=np.zeros((data.shape))\n",
        "  for i,img in enumerate(data):\n",
        "    data_new[i] = img.flatten()[idx].reshape((28,28,1))\n",
        "  return data_new\n",
        "\n",
        "np.random.seed(42)\n",
        "shuffel_idx = np.random.permutation(np.arange(28*28))\n",
        "X_train_shuffle = shuffel_pixels(shuffel_idx, X_train)\n",
        "X_val_shuffle = shuffel_pixels(shuffel_idx, X_val)\n",
        "X_test_shuffle = shuffel_pixels(shuffel_idx, X_test)"
      ],
      "execution_count": 0,
      "outputs": []
    },
    {
      "metadata": {
        "id": "ZrZk47bkoaB7",
        "colab_type": "code",
        "outputId": "bf831356-1f78-4da2-b0cd-4aec36059c57",
        "colab": {
          "base_uri": "https://localhost:8080/",
          "height": 282
        }
      },
      "cell_type": "code",
      "source": [
        "# visualize the 4 first mnist images after shuffling the pixels\n",
        "plt.figure(figsize=(18,18))\n",
        "for i in range(0,4):\n",
        "    plt.subplot(1,4,(i+1))\n",
        "    plt.imshow((X_train_shuffle[i,:,:,0]),cmap=\"gray\")\n",
        "print('true label: ',np.argmax(Y_train,axis=1)[0:4])\n"
      ],
      "execution_count": 5,
      "outputs": [
        {
          "output_type": "stream",
          "text": [
            "true label:  [5 0 4 1]\n"
          ],
          "name": "stdout"
        },
        {
          "output_type": "display_data",
          "data": {
            "image/png": "[encoded data removed]",
            "text/plain": [
              "<matplotlib.figure.Figure at 0x7fdbefdbb320>"
            ]
          },
          "metadata": {
            "tags": []
          }
        }
      ]
    },
    {
      "metadata": {
        "id": "trSndjWX4HO7",
        "colab_type": "text"
      },
      "cell_type": "markdown",
      "source": [
        "## fcNN as classification model for MNIST data\n",
        "\n",
        "* Use a fcNN with 2 hidden layers as classification model\n",
        "* train it once on the original train data and check the performance on the original test data\n",
        "* train it once on the shuffeled train data and check the performance on the accordingly shuffled test data"
      ]
    },
    {
      "metadata": {
        "id": "CoSUhNzRfbj4",
        "colab_type": "code",
        "colab": {}
      },
      "cell_type": "code",
      "source": [
        "# prepare data for fcNN - we need a vector as input\n",
        "\n",
        "# first do it for original data\n",
        "X_train_flat = X_train.reshape([X_train.shape[0], 784])\n",
        "X_val_flat = X_val.reshape([X_val.shape[0], 784])\n",
        "X_test_flat = X_test.reshape([X_test.shape[0], 784])\n",
        "\n",
        "# then do it for the shuffled data\n",
        "X_train_shuffle_flat = X_train_shuffle.reshape([X_train_shuffle.shape[0], 784])\n",
        "X_val_shuffle_flat = X_val_shuffle.reshape([X_val_shuffle.shape[0], 784])\n",
        "X_test_shuffle_flat = X_test_shuffle.reshape([X_test_shuffle.shape[0], 784])\n"
      ],
      "execution_count": 0,
      "outputs": []
    },
    {
      "metadata": {
        "id": "uOYYJFOh62qC",
        "colab_type": "text"
      },
      "cell_type": "markdown",
      "source": [
        "### Train the fcNN on the original data"
      ]
    },
    {
      "metadata": {
        "id": "xILWGAnpC0Bt",
        "colab_type": "code",
        "outputId": "3cf3c489-8a0f-41cb-b575-8dcd2db224b3",
        "colab": {
          "base_uri": "https://localhost:8080/",
          "height": 33
        }
      },
      "cell_type": "code",
      "source": [
        "# check the shape\n",
        "X_train_flat.shape,Y_train.shape,X_val_flat.shape,Y_val.shape"
      ],
      "execution_count": 7,
      "outputs": [
        {
          "output_type": "execute_result",
          "data": {
            "text/plain": [
              "((50000, 784), (50000, 10), (10000, 784), (10000, 10))"
            ]
          },
          "metadata": {
            "tags": []
          },
          "execution_count": 7
        }
      ]
    },
    {
      "metadata": {
        "id": "EAispBe0oaCH",
        "colab_type": "code",
        "colab": {}
      },
      "cell_type": "code",
      "source": [
        "# define fcNN with 2 hidden layers\n",
        "model = Sequential()\n",
        "\n",
        "model.add(Dense(100, batch_input_shape=(None, 784)))\n",
        "model.add(Activation('relu'))\n",
        "model.add(Dense(50))\n",
        "model.add(Activation('relu'))\n",
        "model.add(Dense(10))\n",
        "model.add(Activation('softmax'))\n",
        "\n",
        "# compile model and intitialize weights\n",
        "model.compile(loss='categorical_crossentropy',\n",
        "              optimizer='adam',\n",
        "              metrics=['accuracy'])"
      ],
      "execution_count": 0,
      "outputs": []
    },
    {
      "metadata": {
        "id": "7xfW6yzqoaCK",
        "colab_type": "code",
        "outputId": "2a77f3a2-f558-4e2b-8135-70f1130f58fa",
        "colab": {
          "base_uri": "https://localhost:8080/",
          "height": 334
        }
      },
      "cell_type": "code",
      "source": [
        "# summarize model along with number of model weights\n",
        "model.summary()"
      ],
      "execution_count": 9,
      "outputs": [
        {
          "output_type": "stream",
          "text": [
            "_________________________________________________________________\n",
            "Layer (type)                 Output Shape              Param #   \n",
            "=================================================================\n",
            "dense_1 (Dense)              (None, 100)               78500     \n",
            "_________________________________________________________________\n",
            "activation_1 (Activation)    (None, 100)               0         \n",
            "_________________________________________________________________\n",
            "dense_2 (Dense)              (None, 50)                5050      \n",
            "_________________________________________________________________\n",
            "activation_2 (Activation)    (None, 50)                0         \n",
            "_________________________________________________________________\n",
            "dense_3 (Dense)              (None, 10)                510       \n",
            "_________________________________________________________________\n",
            "activation_3 (Activation)    (None, 10)                0         \n",
            "=================================================================\n",
            "Total params: 84,060\n",
            "Trainable params: 84,060\n",
            "Non-trainable params: 0\n",
            "_________________________________________________________________\n"
          ],
          "name": "stdout"
        }
      ]
    },
    {
      "metadata": {
        "id": "mhvTpCtfoaCQ",
        "colab_type": "code",
        "outputId": "ae680d3f-9655-4fa1-a0e9-d4885cb3f3e0",
        "colab": {
          "base_uri": "https://localhost:8080/",
          "height": 368
        }
      },
      "cell_type": "code",
      "source": [
        "# train the model\n",
        "history=model.fit(X_train_flat, Y_train, \n",
        "                  batch_size=128, \n",
        "                  epochs=10,\n",
        "                  verbose=2, \n",
        "                  validation_data=(X_val_flat, Y_val)\n",
        "                 )"
      ],
      "execution_count": 10,
      "outputs": [
        {
          "output_type": "stream",
          "text": [
            "Train on 50000 samples, validate on 10000 samples\n",
            "Epoch 1/10\n",
            " - 4s - loss: 0.3893 - acc: 0.8918 - val_loss: 0.1664 - val_acc: 0.9543\n",
            "Epoch 2/10\n",
            " - 2s - loss: 0.1543 - acc: 0.9549 - val_loss: 0.1329 - val_acc: 0.9643\n",
            "Epoch 3/10\n",
            " - 2s - loss: 0.1119 - acc: 0.9670 - val_loss: 0.1065 - val_acc: 0.9689\n",
            "Epoch 4/10\n",
            " - 2s - loss: 0.0867 - acc: 0.9744 - val_loss: 0.0996 - val_acc: 0.9716\n",
            "Epoch 5/10\n",
            " - 2s - loss: 0.0709 - acc: 0.9790 - val_loss: 0.0936 - val_acc: 0.9724\n",
            "Epoch 6/10\n",
            " - 2s - loss: 0.0569 - acc: 0.9835 - val_loss: 0.0927 - val_acc: 0.9740\n",
            "Epoch 7/10\n",
            " - 2s - loss: 0.0506 - acc: 0.9845 - val_loss: 0.0832 - val_acc: 0.9754\n",
            "Epoch 8/10\n",
            " - 2s - loss: 0.0424 - acc: 0.9876 - val_loss: 0.0819 - val_acc: 0.9766\n",
            "Epoch 9/10\n",
            " - 2s - loss: 0.0341 - acc: 0.9897 - val_loss: 0.0904 - val_acc: 0.9752\n",
            "Epoch 10/10\n",
            " - 2s - loss: 0.0295 - acc: 0.9913 - val_loss: 0.0840 - val_acc: 0.9761\n"
          ],
          "name": "stdout"
        }
      ]
    },
    {
      "metadata": {
        "id": "t39HSiHcoaCT",
        "colab_type": "code",
        "outputId": "155632ad-344e-434b-b3f9-006ebd81e1b7",
        "colab": {
          "base_uri": "https://localhost:8080/",
          "height": 571
        }
      },
      "cell_type": "code",
      "source": [
        "# plot the development of the accuracy and loss during training\n",
        "plt.plot(history.history['acc'])\n",
        "plt.plot(history.history['val_acc'])\n",
        "plt.title('model accuracy')\n",
        "plt.ylabel('accuracy')\n",
        "plt.xlabel('epoch')\n",
        "plt.legend(['train', 'valid'], loc='lower right')\n",
        "plt.show()\n",
        "plt.plot(history.history['loss'])\n",
        "plt.plot(history.history['val_loss'])\n",
        "plt.title('model loss')\n",
        "plt.ylabel('loss')\n",
        "plt.xlabel('epoch')\n",
        "plt.legend(['train', 'valid'], loc='upper right')\n",
        "plt.show()"
      ],
      "execution_count": 11,
      "outputs": [
        {
          "output_type": "display_data",
          "data": {
            "image/png": "[encoded data removed]",
            "text/plain": [
              "<matplotlib.figure.Figure at 0x7fdbe99016d8>"
            ]
          },
          "metadata": {
            "tags": []
          }
        },
        {
          "output_type": "display_data",
          "data": {
            "image/png": "[encoded data removed]",
            "text/plain": [
              "<matplotlib.figure.Figure at 0x7fdbe90a56d8>"
            ]
          },
          "metadata": {
            "tags": []
          }
        }
      ]
    },
    {
      "metadata": {
        "id": "iCaoy8l4oaCW",
        "colab_type": "text"
      },
      "cell_type": "markdown",
      "source": [
        "#### Prediction on the original test set after training on original data\n",
        "\n",
        "Use the fcNN that was trained on the original data for prediction of the mnist images in the original test data set. \n",
        "Determine the confusion matrix and the accuracy for evaluating the classification performance.\n"
      ]
    },
    {
      "metadata": {
        "id": "z1U4S7o5oaCY",
        "colab_type": "code",
        "outputId": "5a0a9e95-69c0-47e8-b838-983d1cd195a9",
        "colab": {
          "base_uri": "https://localhost:8080/",
          "height": 201
        }
      },
      "cell_type": "code",
      "source": [
        "pred=model.predict(X_test_flat)\n",
        "print(confusion_matrix(np.argmax(Y_test,axis=1),np.argmax(pred,axis=1)))\n",
        "acc_fc_orig = np.sum(np.argmax(Y_test,axis=1)==np.argmax(pred,axis=1))/len(pred)\n",
        "print(\"Acc_fc_orig_flat = \" , acc_fc_orig)"
      ],
      "execution_count": 12,
      "outputs": [
        {
          "output_type": "stream",
          "text": [
            "[[ 971    0    1    1    0    0    1    3    3    0]\n",
            " [   0 1120    3    2    0    1    5    1    3    0]\n",
            " [   7    0  994    3    2    0    7   11    7    1]\n",
            " [   0    0    6  975    1   10    0   10    3    5]\n",
            " [   2    0    5    1  956    0    5    3    1    9]\n",
            " [   3    1    0    4    1  866    6    1    5    5]\n",
            " [   8    2    2    1    3    3  938    0    1    0]\n",
            " [   0    4    8    0    1    0    0 1007    0    8]\n",
            " [   6    0    1    4    4    5    3    4  940    7]\n",
            " [   3    2    0    3    7    4    0    5    0  985]]\n",
            "Acc_fc_orig_flat =  0.9752\n"
          ],
          "name": "stdout"
        }
      ]
    },
    {
      "metadata": {
        "colab_type": "text",
        "id": "oGMEWPhP8iL9"
      },
      "cell_type": "markdown",
      "source": [
        "### Train the fcNN on the shuffled data"
      ]
    },
    {
      "metadata": {
        "colab_type": "code",
        "outputId": "709fbd8a-1065-42b2-ccd5-2f3475f32c66",
        "id": "uMoGTt8l8iL-",
        "colab": {
          "base_uri": "https://localhost:8080/",
          "height": 33
        }
      },
      "cell_type": "code",
      "source": [
        "# check the shape\n",
        "X_train_shuffle_flat.shape,Y_train.shape,X_val_shuffle_flat.shape,Y_val.shape"
      ],
      "execution_count": 13,
      "outputs": [
        {
          "output_type": "execute_result",
          "data": {
            "text/plain": [
              "((50000, 784), (50000, 10), (10000, 784), (10000, 10))"
            ]
          },
          "metadata": {
            "tags": []
          },
          "execution_count": 13
        }
      ]
    },
    {
      "metadata": {
        "colab_type": "code",
        "id": "S-cOfxRmBkC0",
        "colab": {}
      },
      "cell_type": "code",
      "source": [
        "# define fcNN with 2 hidden layers\n",
        "model = Sequential()\n",
        "\n",
        "model.add(Dense(100, batch_input_shape=(None, 784)))\n",
        "model.add(Activation('relu'))\n",
        "model.add(Dense(50))\n",
        "model.add(Activation('relu'))\n",
        "model.add(Dense(10))\n",
        "model.add(Activation('softmax'))\n",
        "\n",
        "# compile model and intitialize weights\n",
        "model.compile(loss='categorical_crossentropy',\n",
        "              optimizer='adam',\n",
        "              metrics=['accuracy'])"
      ],
      "execution_count": 0,
      "outputs": []
    },
    {
      "metadata": {
        "colab_type": "code",
        "outputId": "04530c8d-4b46-4342-8a18-87a0a9a2f2e2",
        "id": "GaGdqYQn8iME",
        "colab": {
          "base_uri": "https://localhost:8080/",
          "height": 368
        }
      },
      "cell_type": "code",
      "source": [
        "# train the model\n",
        "history=model.fit(X_train_shuffle_flat, Y_train, \n",
        "                  batch_size=128, \n",
        "                  epochs=10,\n",
        "                  verbose=2, \n",
        "                  validation_data=(X_val_shuffle_flat, Y_val)\n",
        "                 )"
      ],
      "execution_count": 15,
      "outputs": [
        {
          "output_type": "stream",
          "text": [
            "Train on 50000 samples, validate on 10000 samples\n",
            "Epoch 1/10\n",
            " - 3s - loss: 0.3994 - acc: 0.8869 - val_loss: 0.1891 - val_acc: 0.9489\n",
            "Epoch 2/10\n",
            " - 2s - loss: 0.1636 - acc: 0.9524 - val_loss: 0.1457 - val_acc: 0.9576\n",
            "Epoch 3/10\n",
            " - 2s - loss: 0.1175 - acc: 0.9645 - val_loss: 0.1124 - val_acc: 0.9666\n",
            "Epoch 4/10\n",
            " - 2s - loss: 0.0899 - acc: 0.9726 - val_loss: 0.1029 - val_acc: 0.9703\n",
            "Epoch 5/10\n",
            " - 2s - loss: 0.0730 - acc: 0.9779 - val_loss: 0.0973 - val_acc: 0.9732\n",
            "Epoch 6/10\n",
            " - 2s - loss: 0.0588 - acc: 0.9820 - val_loss: 0.0881 - val_acc: 0.9743\n",
            "Epoch 7/10\n",
            " - 2s - loss: 0.0476 - acc: 0.9858 - val_loss: 0.0868 - val_acc: 0.9744\n",
            "Epoch 8/10\n",
            " - 2s - loss: 0.0412 - acc: 0.9873 - val_loss: 0.0851 - val_acc: 0.9760\n",
            "Epoch 9/10\n",
            " - 2s - loss: 0.0328 - acc: 0.9900 - val_loss: 0.0964 - val_acc: 0.9730\n",
            "Epoch 10/10\n",
            " - 2s - loss: 0.0266 - acc: 0.9922 - val_loss: 0.0916 - val_acc: 0.9724\n"
          ],
          "name": "stdout"
        }
      ]
    },
    {
      "metadata": {
        "colab_type": "code",
        "outputId": "2154eb15-3bf8-49be-db63-9d604e73cbac",
        "id": "Gj2-xZzO8iMJ",
        "colab": {
          "base_uri": "https://localhost:8080/",
          "height": 571
        }
      },
      "cell_type": "code",
      "source": [
        "# plot the development of the accuracy and loss during training\n",
        "plt.plot(history.history['acc'])\n",
        "plt.plot(history.history['val_acc'])\n",
        "plt.title('model accuracy')\n",
        "plt.ylabel('accuracy')\n",
        "plt.xlabel('epoch')\n",
        "plt.legend(['train', 'valid'], loc='lower right')\n",
        "plt.show()\n",
        "plt.plot(history.history['loss'])\n",
        "plt.plot(history.history['val_loss'])\n",
        "plt.title('model loss')\n",
        "plt.ylabel('loss')\n",
        "plt.xlabel('epoch')\n",
        "plt.legend(['train', 'valid'], loc='upper right')\n",
        "plt.show()"
      ],
      "execution_count": 16,
      "outputs": [
        {
          "output_type": "display_data",
          "data": {
            "image/png": "[encoded data removed]",
            "text/plain": [
              "<matplotlib.figure.Figure at 0x7fdbe8c3d470>"
            ]
          },
          "metadata": {
            "tags": []
          }
        },
        {
          "output_type": "display_data",
          "data": {
            "image/png": "[encoded data removed]",
            "text/plain": [
              "<matplotlib.figure.Figure at 0x7fdbe8c03668>"
            ]
          },
          "metadata": {
            "tags": []
          }
        }
      ]
    },
    {
      "metadata": {
        "colab_type": "text",
        "id": "B7bOrA_E8iMR"
      },
      "cell_type": "markdown",
      "source": [
        "#### Prediction on the shuffled test set after training on the shuffled data\n",
        "\n",
        "Use the fcNN that was trained on the shuffled data for prediction of the mnist images in the test data set. Determine the confusion matrix and the accuracy for evaluating the classification performance.\n"
      ]
    },
    {
      "metadata": {
        "colab_type": "code",
        "outputId": "d815ea7b-e85f-4d00-d2cb-c301a3bba534",
        "id": "g_CEIhW78iMS",
        "colab": {
          "base_uri": "https://localhost:8080/",
          "height": 201
        }
      },
      "cell_type": "code",
      "source": [
        "pred=model.predict(X_test_shuffle_flat)\n",
        "print(confusion_matrix(np.argmax(Y_test,axis=1),np.argmax(pred,axis=1)))\n",
        "acc_fc_shuffled = np.sum(np.argmax(Y_test,axis=1)==np.argmax(pred,axis=1))/len(pred)\n",
        "print(\"Acc_fc_shuffled_flat = \" , acc_fc_shuffled)"
      ],
      "execution_count": 17,
      "outputs": [
        {
          "output_type": "stream",
          "text": [
            "[[ 971    1    0    2    0    0    2    0    3    1]\n",
            " [   0 1126    2    1    0    1    2    0    3    0]\n",
            " [   3    6  992    9    2    0    4    5   11    0]\n",
            " [   0    0    0  997    0    1    0    4    4    4]\n",
            " [   1    1    1    1  956    0    4    2    2   14]\n",
            " [   2    0    0   12    1  864    7    3    3    0]\n",
            " [   4    2    1    1    6    4  937    0    3    0]\n",
            " [   0    9    8    6    1    0    0  988    4   12]\n",
            " [   3    0    3    7    2    2    3    3  947    4]\n",
            " [   1    6    0   10   11    1    0    3    6  971]]\n",
            "Acc_fc_shuffled_flat =  0.9749\n"
          ],
          "name": "stdout"
        }
      ]
    },
    {
      "metadata": {
        "id": "ENcwFsgGfinO",
        "colab_type": "text"
      },
      "cell_type": "markdown",
      "source": [
        "### Note that in a fcNN the order of the data does not matter. The performace is the same when the original data is used for training and test or if the data was shuffled befor doing the training and test. In both cases the accuracy is around 0.975. "
      ]
    },
    {
      "metadata": {
        "id": "m8W15RKcghRS",
        "colab_type": "code",
        "colab": {}
      },
      "cell_type": "code",
      "source": [
        ""
      ],
      "execution_count": 0,
      "outputs": []
    },
    {
      "metadata": {
        "colab_type": "text",
        "id": "ZaRFUEP8HJkq"
      },
      "cell_type": "markdown",
      "source": [
        "## CNN as classification model for MNIST data\n",
        "\n",
        "* Use a CNN with 2 convolution blocks and 2 fully connected layers as classification model\n",
        "* train it once on the original train data and check the performance on the original test data\n",
        "* train it once on the shuffeled train data and check the performance on the accordingly shuffled test data"
      ]
    },
    {
      "metadata": {
        "colab_type": "text",
        "id": "cFJtO1FFHJkz"
      },
      "cell_type": "markdown",
      "source": [
        "### Train the CNN on the original data"
      ]
    },
    {
      "metadata": {
        "colab_type": "code",
        "outputId": "000fb04c-caa2-4101-b388-73ac3b3da8da",
        "id": "iq45_Gs1HJk1",
        "colab": {
          "base_uri": "https://localhost:8080/",
          "height": 33
        }
      },
      "cell_type": "code",
      "source": [
        "# check the shape of the orginal data\n",
        "# we need matrices as input\n",
        "X_train.shape,Y_train.shape,X_val.shape,Y_val.shape"
      ],
      "execution_count": 18,
      "outputs": [
        {
          "output_type": "execute_result",
          "data": {
            "text/plain": [
              "((50000, 28, 28, 1), (50000, 10), (10000, 28, 28, 1), (10000, 10))"
            ]
          },
          "metadata": {
            "tags": []
          },
          "execution_count": 18
        }
      ]
    },
    {
      "metadata": {
        "id": "JSfYQ4f1KYVp",
        "colab_type": "code",
        "colab": {}
      },
      "cell_type": "code",
      "source": [
        "# here we define  hyperparameter of the CNN\n",
        "batch_size = 128\n",
        "nb_classes = 10\n",
        "img_rows, img_cols = 28, 28\n",
        "kernel_size = (3, 3)\n",
        "input_shape = (img_rows, img_cols, 1)\n",
        "pool_size = (2, 2)"
      ],
      "execution_count": 0,
      "outputs": []
    },
    {
      "metadata": {
        "colab_type": "code",
        "id": "3xwh0iYrHJk_",
        "colab": {}
      },
      "cell_type": "code",
      "source": [
        "# define CNN with 2 convolution blocks and 2 fully connected layers\n",
        "model = Sequential()\n",
        "\n",
        "model.add(Convolution2D(8,kernel_size,padding='same',input_shape=input_shape))\n",
        "model.add(Activation('relu'))\n",
        "model.add(Convolution2D(8, kernel_size,padding='same'))\n",
        "model.add(Activation('relu'))\n",
        "model.add(MaxPooling2D(pool_size=pool_size))\n",
        "\n",
        "model.add(Convolution2D(16, kernel_size,padding='same'))\n",
        "model.add(Activation('relu'))\n",
        "model.add(Convolution2D(16,kernel_size,padding='same'))\n",
        "model.add(Activation('relu'))\n",
        "model.add(MaxPooling2D(pool_size=pool_size))\n",
        "\n",
        "model.add(Flatten())\n",
        "model.add(Dense(40))\n",
        "model.add(Activation('relu'))\n",
        "model.add(Dense(nb_classes))\n",
        "model.add(Activation('softmax'))\n",
        "\n",
        "# compile model and intitialize weights\n",
        "model.compile(loss='categorical_crossentropy',\n",
        "              optimizer='adam',\n",
        "              metrics=['accuracy'])"
      ],
      "execution_count": 0,
      "outputs": []
    },
    {
      "metadata": {
        "colab_type": "code",
        "outputId": "e3ab60dd-4391-40b4-e136-d8641e33554e",
        "id": "blxHZguwHJlG",
        "colab": {
          "base_uri": "https://localhost:8080/",
          "height": 636
        }
      },
      "cell_type": "code",
      "source": [
        "# summarize model along with number of model weights\n",
        "model.summary()"
      ],
      "execution_count": 21,
      "outputs": [
        {
          "output_type": "stream",
          "text": [
            "_________________________________________________________________\n",
            "Layer (type)                 Output Shape              Param #   \n",
            "=================================================================\n",
            "conv2d_1 (Conv2D)            (None, 28, 28, 8)         80        \n",
            "_________________________________________________________________\n",
            "activation_7 (Activation)    (None, 28, 28, 8)         0         \n",
            "_________________________________________________________________\n",
            "conv2d_2 (Conv2D)            (None, 28, 28, 8)         584       \n",
            "_________________________________________________________________\n",
            "activation_8 (Activation)    (None, 28, 28, 8)         0         \n",
            "_________________________________________________________________\n",
            "max_pooling2d_1 (MaxPooling2 (None, 14, 14, 8)         0         \n",
            "_________________________________________________________________\n",
            "conv2d_3 (Conv2D)            (None, 14, 14, 16)        1168      \n",
            "_________________________________________________________________\n",
            "activation_9 (Activation)    (None, 14, 14, 16)        0         \n",
            "_________________________________________________________________\n",
            "conv2d_4 (Conv2D)            (None, 14, 14, 16)        2320      \n",
            "_________________________________________________________________\n",
            "activation_10 (Activation)   (None, 14, 14, 16)        0         \n",
            "_________________________________________________________________\n",
            "max_pooling2d_2 (MaxPooling2 (None, 7, 7, 16)          0         \n",
            "_________________________________________________________________\n",
            "flatten_1 (Flatten)          (None, 784)               0         \n",
            "_________________________________________________________________\n",
            "dense_7 (Dense)              (None, 40)                31400     \n",
            "_________________________________________________________________\n",
            "activation_11 (Activation)   (None, 40)                0         \n",
            "_________________________________________________________________\n",
            "dense_8 (Dense)              (None, 10)                410       \n",
            "_________________________________________________________________\n",
            "activation_12 (Activation)   (None, 10)                0         \n",
            "=================================================================\n",
            "Total params: 35,962\n",
            "Trainable params: 35,962\n",
            "Non-trainable params: 0\n",
            "_________________________________________________________________\n"
          ],
          "name": "stdout"
        }
      ]
    },
    {
      "metadata": {
        "colab_type": "code",
        "outputId": "cd846ceb-ee70-4257-d9a7-da235a46f2b2",
        "id": "430DSTDIHJlP",
        "colab": {
          "base_uri": "https://localhost:8080/",
          "height": 368
        }
      },
      "cell_type": "code",
      "source": [
        "# train the model\n",
        "history=model.fit(X_train, Y_train, \n",
        "                  batch_size=128, \n",
        "                  epochs=10,\n",
        "                  verbose=2, \n",
        "                  validation_data=(X_val, Y_val)\n",
        "                 )"
      ],
      "execution_count": 22,
      "outputs": [
        {
          "output_type": "stream",
          "text": [
            "Train on 50000 samples, validate on 10000 samples\n",
            "Epoch 1/10\n",
            " - 8s - loss: 0.3608 - acc: 0.8941 - val_loss: 0.1169 - val_acc: 0.9644\n",
            "Epoch 2/10\n",
            " - 5s - loss: 0.0919 - acc: 0.9714 - val_loss: 0.0642 - val_acc: 0.9824\n",
            "Epoch 3/10\n",
            " - 5s - loss: 0.0640 - acc: 0.9799 - val_loss: 0.0604 - val_acc: 0.9832\n",
            "Epoch 4/10\n",
            " - 5s - loss: 0.0491 - acc: 0.9849 - val_loss: 0.0496 - val_acc: 0.9872\n",
            "Epoch 5/10\n",
            " - 5s - loss: 0.0401 - acc: 0.9874 - val_loss: 0.0527 - val_acc: 0.9853\n",
            "Epoch 6/10\n",
            " - 5s - loss: 0.0335 - acc: 0.9896 - val_loss: 0.0454 - val_acc: 0.9882\n",
            "Epoch 7/10\n",
            " - 5s - loss: 0.0294 - acc: 0.9903 - val_loss: 0.0451 - val_acc: 0.9873\n",
            "Epoch 8/10\n",
            " - 5s - loss: 0.0252 - acc: 0.9915 - val_loss: 0.0417 - val_acc: 0.9894\n",
            "Epoch 9/10\n",
            " - 5s - loss: 0.0211 - acc: 0.9931 - val_loss: 0.0436 - val_acc: 0.9873\n",
            "Epoch 10/10\n",
            " - 5s - loss: 0.0189 - acc: 0.9934 - val_loss: 0.0392 - val_acc: 0.9895\n"
          ],
          "name": "stdout"
        }
      ]
    },
    {
      "metadata": {
        "colab_type": "code",
        "id": "q8GcmSWoHJlX",
        "colab": {
          "base_uri": "https://localhost:8080/",
          "height": 571
        },
        "outputId": "673bbf73-e319-43ef-b5cc-2fb010f28b43"
      },
      "cell_type": "code",
      "source": [
        "# plot the development of the accuracy and loss during training\n",
        "plt.plot(history.history['acc'])\n",
        "plt.plot(history.history['val_acc'])\n",
        "plt.title('model accuracy')\n",
        "plt.ylabel('accuracy')\n",
        "plt.xlabel('epoch')\n",
        "plt.legend(['train', 'valid'], loc='lower right')\n",
        "plt.show()\n",
        "plt.plot(history.history['loss'])\n",
        "plt.plot(history.history['val_loss'])\n",
        "plt.title('model loss')\n",
        "plt.ylabel('loss')\n",
        "plt.xlabel('epoch')\n",
        "plt.legend(['train', 'valid'], loc='upper right')\n",
        "plt.show()"
      ],
      "execution_count": 23,
      "outputs": [
        {
          "output_type": "display_data",
          "data": {
            "image/png": "[encoded data removed]",
            "text/plain": [
              "<matplotlib.figure.Figure at 0x7fdbe879deb8>"
            ]
          },
          "metadata": {
            "tags": []
          }
        },
        {
          "output_type": "display_data",
          "data": {
            "image/png": "[encoded data removed]",
            "text/plain": [
              "<matplotlib.figure.Figure at 0x7fdbe86cbba8>"
            ]
          },
          "metadata": {
            "tags": []
          }
        }
      ]
    },
    {
      "metadata": {
        "colab_type": "text",
        "id": "CAcwJRvDHJlf"
      },
      "cell_type": "markdown",
      "source": [
        "#### Prediction on the test set after training on original data\n",
        "\n",
        "Use the CNN that was trained on the original data for prediction of the mnist images in the test data set. Determine the confusion matrix and the accuracy for evaluating the classification performance.\n"
      ]
    },
    {
      "metadata": {
        "colab_type": "code",
        "id": "AdB-5bEjHJlh",
        "colab": {
          "base_uri": "https://localhost:8080/",
          "height": 201
        },
        "outputId": "93d3f474-64e6-4224-b7c7-decd8cd59fe7"
      },
      "cell_type": "code",
      "source": [
        "pred=model.predict(X_test)\n",
        "print(confusion_matrix(np.argmax(Y_test,axis=1),np.argmax(pred,axis=1)))\n",
        "acc_fc_orig = np.sum(np.argmax(Y_test,axis=1)==np.argmax(pred,axis=1))/len(pred)\n",
        "print(\"Acc_fc_orig = \" , acc_fc_orig)"
      ],
      "execution_count": 24,
      "outputs": [
        {
          "output_type": "stream",
          "text": [
            "[[ 975    1    0    0    0    0    2    1    1    0]\n",
            " [   0 1132    1    0    0    1    0    1    0    0]\n",
            " [   3    3 1022    0    0    0    0    4    0    0]\n",
            " [   2    0    1  998    0    4    0    2    3    0]\n",
            " [   0    0    2    0  976    0    2    0    0    2]\n",
            " [   2    0    0    3    0  883    4    0    0    0]\n",
            " [   2    1    2    0    1    1  951    0    0    0]\n",
            " [   0    4    5    1    0    0    0 1014    1    3]\n",
            " [   7    0    2    1    0    2    0    1  959    2]\n",
            " [   0    1    1    0    8    8    0    2    4  985]]\n",
            "Acc_fc_orig =  0.9895\n"
          ],
          "name": "stdout"
        }
      ]
    },
    {
      "metadata": {
        "colab_type": "text",
        "id": "eXWJXLO5HJll"
      },
      "cell_type": "markdown",
      "source": [
        "### Train the CNN on the shuffled data"
      ]
    },
    {
      "metadata": {
        "colab_type": "code",
        "id": "n43wXtMuHJln",
        "colab": {
          "base_uri": "https://localhost:8080/",
          "height": 33
        },
        "outputId": "a9b0c3ab-a373-4298-ec4e-1b0263bd3dcc"
      },
      "cell_type": "code",
      "source": [
        "# check the shape of the shuffled data\n",
        "# we need matrices as input\n",
        "X_train_shuffle.shape,Y_train.shape,X_val_shuffle.shape,Y_val.shape"
      ],
      "execution_count": 25,
      "outputs": [
        {
          "output_type": "execute_result",
          "data": {
            "text/plain": [
              "((50000, 28, 28, 1), (50000, 10), (10000, 28, 28, 1), (10000, 10))"
            ]
          },
          "metadata": {
            "tags": []
          },
          "execution_count": 25
        }
      ]
    },
    {
      "metadata": {
        "colab_type": "code",
        "id": "9uHoZFjHHJlt",
        "colab": {}
      },
      "cell_type": "code",
      "source": [
        "# define CNN with 2 convolution blocks and 2 fully connected layers  \n",
        "model = Sequential()\n",
        "\n",
        "model.add(Convolution2D(8,kernel_size,padding='same',input_shape=input_shape))\n",
        "model.add(Activation('relu'))\n",
        "model.add(Convolution2D(8, kernel_size,padding='same'))\n",
        "model.add(Activation('relu'))\n",
        "model.add(MaxPooling2D(pool_size=pool_size))\n",
        "\n",
        "model.add(Convolution2D(16, kernel_size,padding='same'))\n",
        "model.add(Activation('relu'))\n",
        "model.add(Convolution2D(16,kernel_size,padding='same'))\n",
        "model.add(Activation('relu'))\n",
        "model.add(MaxPooling2D(pool_size=pool_size))\n",
        "\n",
        "model.add(Flatten())\n",
        "model.add(Dense(40))\n",
        "model.add(Activation('relu'))\n",
        "model.add(Dense(nb_classes))\n",
        "model.add(Activation('softmax'))\n",
        "\n",
        "# compile model and intitialize weights\n",
        "model.compile(loss='categorical_crossentropy',\n",
        "              optimizer='adam',\n",
        "              metrics=['accuracy'])"
      ],
      "execution_count": 0,
      "outputs": []
    },
    {
      "metadata": {
        "colab_type": "code",
        "id": "SEQBad6jHJly",
        "colab": {
          "base_uri": "https://localhost:8080/",
          "height": 368
        },
        "outputId": "f63d5d69-fb92-4b6d-9c51-699df4ffa4ce"
      },
      "cell_type": "code",
      "source": [
        "# train the model\n",
        "history=model.fit(X_train_shuffle, Y_train, \n",
        "                  batch_size=128, \n",
        "                  epochs=10,\n",
        "                  verbose=2, \n",
        "                  validation_data=(X_val_shuffle, Y_val)\n",
        "                 )"
      ],
      "execution_count": 27,
      "outputs": [
        {
          "output_type": "stream",
          "text": [
            "Train on 50000 samples, validate on 10000 samples\n",
            "Epoch 1/10\n",
            " - 6s - loss: 0.7360 - acc: 0.7631 - val_loss: 0.3438 - val_acc: 0.8958\n",
            "Epoch 2/10\n",
            " - 5s - loss: 0.3351 - acc: 0.8988 - val_loss: 0.2658 - val_acc: 0.9235\n",
            "Epoch 3/10\n",
            " - 5s - loss: 0.2638 - acc: 0.9188 - val_loss: 0.2191 - val_acc: 0.9363\n",
            "Epoch 4/10\n",
            " - 5s - loss: 0.2216 - acc: 0.9329 - val_loss: 0.2007 - val_acc: 0.9382\n",
            "Epoch 5/10\n",
            " - 5s - loss: 0.1919 - acc: 0.9412 - val_loss: 0.1953 - val_acc: 0.9427\n",
            "Epoch 6/10\n",
            " - 5s - loss: 0.1712 - acc: 0.9467 - val_loss: 0.1786 - val_acc: 0.9464\n",
            "Epoch 7/10\n",
            " - 5s - loss: 0.1523 - acc: 0.9530 - val_loss: 0.1725 - val_acc: 0.9456\n",
            "Epoch 8/10\n",
            " - 5s - loss: 0.1366 - acc: 0.9575 - val_loss: 0.1648 - val_acc: 0.9520\n",
            "Epoch 9/10\n",
            " - 5s - loss: 0.1253 - acc: 0.9603 - val_loss: 0.1737 - val_acc: 0.9473\n",
            "Epoch 10/10\n",
            " - 5s - loss: 0.1141 - acc: 0.9644 - val_loss: 0.1520 - val_acc: 0.9555\n"
          ],
          "name": "stdout"
        }
      ]
    },
    {
      "metadata": {
        "colab_type": "code",
        "id": "_O6iw7xJHJmA",
        "colab": {
          "base_uri": "https://localhost:8080/",
          "height": 571
        },
        "outputId": "cca92801-367e-4423-b712-ffda49806144"
      },
      "cell_type": "code",
      "source": [
        "# plot the development of the accuracy and loss during training\n",
        "plt.plot(history.history['acc'])\n",
        "plt.plot(history.history['val_acc'])\n",
        "plt.title('model accuracy')\n",
        "plt.ylabel('accuracy')\n",
        "plt.xlabel('epoch')\n",
        "plt.legend(['train', 'valid'], loc='lower right')\n",
        "plt.show()\n",
        "plt.plot(history.history['loss'])\n",
        "plt.plot(history.history['val_loss'])\n",
        "plt.title('model loss')\n",
        "plt.ylabel('loss')\n",
        "plt.xlabel('epoch')\n",
        "plt.legend(['train', 'valid'], loc='upper right')\n",
        "plt.show()"
      ],
      "execution_count": 28,
      "outputs": [
        {
          "output_type": "display_data",
          "data": {
            "image/png": "[encoded data removed]",
            "text/plain": [
              "<matplotlib.figure.Figure at 0x7fdbe80616a0>"
            ]
          },
          "metadata": {
            "tags": []
          }
        },
        {
          "output_type": "display_data",
          "data": {
            "image/png": "[encoded data removed]",
            "text/plain": [
              "<matplotlib.figure.Figure at 0x7fdbe8077978>"
            ]
          },
          "metadata": {
            "tags": []
          }
        }
      ]
    },
    {
      "metadata": {
        "colab_type": "text",
        "id": "fz2TmqDyHJmF"
      },
      "cell_type": "markdown",
      "source": [
        "#### Prediction on the test set after training on the shuffled data\n",
        "\n",
        "Use the CNN that was trained on the shuffled data for prediction of the mnist images in the test data set. Determine the confusion matrix and the accuracy for evaluating the classification performance.\n"
      ]
    },
    {
      "metadata": {
        "colab_type": "code",
        "id": "XPT49d5THJmJ",
        "colab": {
          "base_uri": "https://localhost:8080/",
          "height": 201
        },
        "outputId": "7321b20f-eb71-4eca-c26a-a64271be5679"
      },
      "cell_type": "code",
      "source": [
        "pred=model.predict(X_test_shuffle)\n",
        "print(confusion_matrix(np.argmax(Y_test,axis=1),np.argmax(pred,axis=1)))\n",
        "acc_fc_shuffled = np.sum(np.argmax(Y_test,axis=1)==np.argmax(pred,axis=1))/len(pred)\n",
        "print(\"Acc_fc_shuffled = \" , acc_fc_shuffled)"
      ],
      "execution_count": 29,
      "outputs": [
        {
          "output_type": "stream",
          "text": [
            "[[ 964    0    6    2    0    0    3    1    2    2]\n",
            " [   0 1122    5    1    0    1    1    2    3    0]\n",
            " [  10    1  980   13    1    1    1    8   15    2]\n",
            " [   1    0    5  977    0   10    0    6    8    3]\n",
            " [   4    0    9    0  904    1    7   10    7   40]\n",
            " [  11    1    1   20    0  839    6    2    7    5]\n",
            " [  17    3    7    0    2    8  915    2    4    0]\n",
            " [   5    4   13    4    2    0    0  972    3   25]\n",
            " [   9    0    8   20    3    8    8    5  901   12]\n",
            " [   4    2    3   10   11    6    0   11    6  956]]\n",
            "Acc_fc_shuffled =  0.953\n"
          ],
          "name": "stdout"
        }
      ]
    },
    {
      "metadata": {
        "id": "9n6WX-ClgypT",
        "colab_type": "text"
      },
      "cell_type": "markdown",
      "source": [
        "# Conclusion\n",
        "\n",
        "### In a CNN the order of the data does matter, the performace for the original images and for the shuffled are the different! The CNN performs better on the original data. The CNN trained on the original data achieved an accuracy of  0.99, but the same CNN trained on the shuffled version of the data achieved only 0.95 accuracy. \n",
        "\n",
        "### This was not the case when a fcNN was used - here the performance did not change if the data was shuffled. The fcNN achieved an accuracy of 0.975 regardless if the data was shuffled or not. \n",
        "\n",
        "### It is worth to note that on the original data the CNN achieved with \"only\" 35962 model weights a higher accuracy (0.99) than the fcNN with 84000 model weights that achieved a smaller accuray (0.975)\n"
      ]
    },
    {
      "metadata": {
        "id": "byuP_RcvhAdN",
        "colab_type": "code",
        "colab": {}
      },
      "cell_type": "code",
      "source": [
        ""
      ],
      "execution_count": 0,
      "outputs": []
    }
  ]
}