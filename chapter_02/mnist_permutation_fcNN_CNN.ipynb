{
 "cells": [
  {
   "cell_type": "markdown",
   "metadata": {
    "colab_type": "text",
    "id": "K_beqkYk2CUm"
   },
   "source": [
    "## Notebook under construction"
   ]
  },
  {
   "cell_type": "markdown",
   "metadata": {
    "colab_type": "text",
    "id": "tbTYFRhJoaBu"
   },
   "source": [
    "# MNIST digit classification before and after shuffling\n",
    "\n",
    "\n",
    "* You train different NNs  with different architectures and on different versions of the data set to classify the 10 digits in the mnist data set.\n",
    "\n",
    "To check if the local order of the pixels within the images have an impact on the classification performance, you do a permutations experiment: \n",
    "* You train the NN once on the original data and once after shuffling the order of the pixel values.\n",
    "* As architecture for the NN you use first a fcNN and then a CNN\n",
    "\n",
    "\n",
    "\n",
    "<a href=\"https://colab.research.google.com/github/tensorchiefs/dl_book/blob/master/chapter_02/edge-lover-simple-cnn.ipynb\"> <img src=\"https://colab.research.google.com/assets/colab-badge.svg\" alt=\"open in colab\">\n",
    "</a>\n",
    "| [open in colab](https://colab.research.google.com/github/tensorchiefs/dl_book/blob/master/chapter_02/mnist_permutation_fcNN_CNN.ipynb)\n",
    "\n"
   ]
  },
  {
   "cell_type": "markdown",
   "metadata": {
    "colab_type": "text",
    "id": "PEIS4WvpsT5t"
   },
   "source": [
    "### Loading the required libraries"
   ]
  },
  {
   "cell_type": "code",
   "execution_count": 1,
   "metadata": {
    "colab": {
     "base_uri": "https://localhost:8080/",
     "height": 67
    },
    "colab_type": "code",
    "id": "Y6S_hQX5oaBw",
    "outputId": "7af42072-6819-49be-e638-49d5913d0de9",
    "scrolled": true
   },
   "outputs": [
    {
     "name": "stderr",
     "output_type": "stream",
     "text": [
      "Using TensorFlow backend.\n"
     ]
    },
    {
     "name": "stdout",
     "output_type": "stream",
     "text": [
      "Keras 2.2.2 TF 1.10.1 Python sys.version_info(major=3, minor=5, micro=2, releaselevel='final', serial=0)\n",
      "Thu Dec 13 13:03:27 UTC 2018\n"
     ]
    }
   ],
   "source": [
    "import matplotlib.pyplot as plt\n",
    "import matplotlib.image as imgplot\n",
    "%matplotlib inline\n",
    "import numpy as np\n",
    "import pandas as pd\n",
    "from sklearn.metrics import confusion_matrix\n",
    "\n",
    "import tensorflow as tf\n",
    "from keras.models import Sequential\n",
    "from keras.layers import Dense, Activation  \n",
    "from keras.layers import Convolution2D, MaxPooling2D, Flatten\n",
    "import keras\n",
    "import sys\n",
    "print (\"Keras {} TF {} Python {}\".format(keras.__version__, tf.__version__, sys.version_info))\n",
    "!date"
   ]
  },
  {
   "cell_type": "markdown",
   "metadata": {
    "colab_type": "text",
    "id": "4h_3TS0CtJJb"
   },
   "source": [
    "### Loading and preparing the MNIST data"
   ]
  },
  {
   "cell_type": "code",
   "execution_count": 2,
   "metadata": {
    "colab": {
     "base_uri": "https://localhost:8080/",
     "height": 100
    },
    "colab_type": "code",
    "id": "4sZ8lqFfoaB2",
    "outputId": "62c80405-4bb2-4418-c3ec-b02b5f75e0ff"
   },
   "outputs": [
    {
     "name": "stdout",
     "output_type": "stream",
     "text": [
      "Downloading data from https://s3.amazonaws.com/img-datasets/mnist.npz\n",
      "11493376/11490434 [==============================] - 10s 1us/step\n",
      "(50000, 28, 28, 1)\n",
      "(10000, 28, 28, 1)\n",
      "(10000, 28, 28, 1)\n"
     ]
    }
   ],
   "source": [
    "from keras.datasets import mnist\n",
    "(x_train, y_train), (x_test, y_test) = mnist.load_data()\n",
    "\n",
    "# separate x_train in X_train and X_val, same for y_train\n",
    "X_train=x_train[0:50000] / 255 #divide by 255 so that they are in range 0 to 1\n",
    "Y_train=keras.utils.to_categorical(y_train[0:50000],10) # one-hot encoding\n",
    "\n",
    "X_val=x_train[50000:60000] / 255\n",
    "Y_val=keras.utils.to_categorical(y_train[50000:60000],10)\n",
    "\n",
    "X_test=x_test / 255\n",
    "Y_test=keras.utils.to_categorical(y_test,10)\n",
    "\n",
    "del x_train, y_train, x_test, y_test\n",
    "\n",
    "X_train=np.reshape(X_train, (X_train.shape[0],28,28,1))\n",
    "X_val=np.reshape(X_val, (X_val.shape[0],28,28,1))\n",
    "X_test=np.reshape(X_test, (X_test.shape[0],28,28,1))\n",
    "\n",
    "print(X_train.shape)\n",
    "print(X_val.shape)\n",
    "print(X_test.shape)"
   ]
  },
  {
   "cell_type": "code",
   "execution_count": 3,
   "metadata": {
    "colab": {
     "base_uri": "https://localhost:8080/",
     "height": 282
    },
    "colab_type": "code",
    "id": "c4gUgwGUeftF",
    "outputId": "bcefb2bb-ed3c-4c22-bb45-9a7ed8009786"
   },
   "outputs": [
    {
     "name": "stdout",
     "output_type": "stream",
     "text": [
      "true label:  [5 0 4 1]\n"
     ]
    },
    {
     "data": {
      "image/png": "[encoded data removed]",
      "text/plain": [
       "<Figure size 1296x1296 with 4 Axes>"
      ]
     },
     "metadata": {},
     "output_type": "display_data"
    }
   ],
   "source": [
    "# visualize the 4 first mnist images before shuffling the pixels\n",
    "plt.figure(figsize=(18,18))\n",
    "for i in range(0,4):\n",
    "    plt.subplot(1,4,(i+1))\n",
    "    plt.imshow((X_train[i,:,:,0]),cmap=\"gray\")\n",
    "    #plt.axis('off')\n",
    "print('true label: ',np.argmax(Y_train,axis=1)[0:4])"
   ]
  },
  {
   "cell_type": "code",
   "execution_count": 4,
   "metadata": {
    "colab": {},
    "colab_type": "code",
    "id": "o744FOiN1S6y"
   },
   "outputs": [],
   "source": [
    "# function to shuffle the pixel order within an image\n",
    "# used to shuffel the pixels of all mnist images in the same manner\n",
    "def shuffel_pixels(idx, data):\n",
    "  data_new=np.zeros((data.shape))\n",
    "  for i,img in enumerate(data):\n",
    "    data_new[i] = img.flatten()[idx].reshape((28,28,1))\n",
    "  return data_new\n",
    "\n",
    "np.random.seed(42)\n",
    "shuffel_idx = np.random.permutation(np.arange(28*28))\n",
    "X_train_shuffle = shuffel_pixels(shuffel_idx, X_train)\n",
    "X_val_shuffle = shuffel_pixels(shuffel_idx, X_val)\n",
    "X_test_shuffle = shuffel_pixels(shuffel_idx, X_test)"
   ]
  },
  {
   "cell_type": "code",
   "execution_count": 5,
   "metadata": {
    "colab": {
     "base_uri": "https://localhost:8080/",
     "height": 282
    },
    "colab_type": "code",
    "id": "ZrZk47bkoaB7",
    "outputId": "bf831356-1f78-4da2-b0cd-4aec36059c57"
   },
   "outputs": [
    {
     "name": "stdout",
     "output_type": "stream",
     "text": [
      "true label:  [5 0 4 1]\n"
     ]
    },
    {
     "data": {
      "image/png": "[encoded data removed]",
      "text/plain": [
       "<Figure size 1296x1296 with 4 Axes>"
      ]
     },
     "metadata": {},
     "output_type": "display_data"
    }
   ],
   "source": [
    "# visualize the 4 first mnist images after shuffling the pixels\n",
    "plt.figure(figsize=(18,18))\n",
    "for i in range(0,4):\n",
    "    plt.subplot(1,4,(i+1))\n",
    "    plt.imshow((X_train_shuffle[i,:,:,0]),cmap=\"gray\")\n",
    "print('true label: ',np.argmax(Y_train,axis=1)[0:4])\n"
   ]
  },
  {
   "cell_type": "markdown",
   "metadata": {
    "colab_type": "text",
    "id": "trSndjWX4HO7"
   },
   "source": [
    "## fcNN as classification model for MNIST data\n",
    "\n",
    "* Use a fcNN with 2 hidden layers as classification model\n",
    "* train it once on the original train data and check the performance on the original test data\n",
    "* train it once on the shuffeled train data and check the performance on the accordingly shuffled test data"
   ]
  },
  {
   "cell_type": "code",
   "execution_count": 6,
   "metadata": {
    "colab": {},
    "colab_type": "code",
    "id": "CoSUhNzRfbj4"
   },
   "outputs": [],
   "source": [
    "# prepare data for fcNN - we need a vector as input\n",
    "\n",
    "# first do it for original data\n",
    "X_train_flat = X_train.reshape([X_train.shape[0], 784])\n",
    "X_val_flat = X_val.reshape([X_val.shape[0], 784])\n",
    "X_test_flat = X_test.reshape([X_test.shape[0], 784])\n",
    "\n",
    "# then do it for the shuffled data\n",
    "X_train_shuffle_flat = X_train_shuffle.reshape([X_train_shuffle.shape[0], 784])\n",
    "X_val_shuffle_flat = X_val_shuffle.reshape([X_val_shuffle.shape[0], 784])\n",
    "X_test_shuffle_flat = X_test_shuffle.reshape([X_test_shuffle.shape[0], 784])\n"
   ]
  },
  {
   "cell_type": "markdown",
   "metadata": {
    "colab_type": "text",
    "id": "uOYYJFOh62qC"
   },
   "source": [
    "### Train the fcNN on the original data"
   ]
  },
  {
   "cell_type": "code",
   "execution_count": 7,
   "metadata": {
    "colab": {
     "base_uri": "https://localhost:8080/",
     "height": 33
    },
    "colab_type": "code",
    "id": "xILWGAnpC0Bt",
    "outputId": "3cf3c489-8a0f-41cb-b575-8dcd2db224b3"
   },
   "outputs": [
    {
     "data": {
      "text/plain": [
       "((50000, 784), (50000, 10), (10000, 784), (10000, 10))"
      ]
     },
     "execution_count": 7,
     "metadata": {},
     "output_type": "execute_result"
    }
   ],
   "source": [
    "# check the shape\n",
    "X_train_flat.shape,Y_train.shape,X_val_flat.shape,Y_val.shape"
   ]
  },
  {
   "cell_type": "code",
   "execution_count": 8,
   "metadata": {
    "colab": {},
    "colab_type": "code",
    "id": "EAispBe0oaCH"
   },
   "outputs": [],
   "source": [
    "# define fcNN with 2 hidden layers\n",
    "model = Sequential()\n",
    "\n",
    "model.add(Dense(100, batch_input_shape=(None, 784)))\n",
    "model.add(Activation('relu'))\n",
    "model.add(Dense(50))\n",
    "model.add(Activation('relu'))\n",
    "model.add(Dense(10))\n",
    "model.add(Activation('softmax'))\n",
    "\n",
    "# compile model and intitialize weights\n",
    "model.compile(loss='categorical_crossentropy',\n",
    "              optimizer='adam',\n",
    "              metrics=['accuracy'])"
   ]
  },
  {
   "cell_type": "code",
   "execution_count": 9,
   "metadata": {
    "colab": {
     "base_uri": "https://localhost:8080/",
     "height": 334
    },
    "colab_type": "code",
    "id": "7xfW6yzqoaCK",
    "outputId": "2a77f3a2-f558-4e2b-8135-70f1130f58fa"
   },
   "outputs": [
    {
     "name": "stdout",
     "output_type": "stream",
     "text": [
      "_________________________________________________________________\n",
      "Layer (type)                 Output Shape              Param #   \n",
      "=================================================================\n",
      "dense_1 (Dense)              (None, 100)               78500     \n",
      "_________________________________________________________________\n",
      "activation_1 (Activation)    (None, 100)               0         \n",
      "_________________________________________________________________\n",
      "dense_2 (Dense)              (None, 50)                5050      \n",
      "_________________________________________________________________\n",
      "activation_2 (Activation)    (None, 50)                0         \n",
      "_________________________________________________________________\n",
      "dense_3 (Dense)              (None, 10)                510       \n",
      "_________________________________________________________________\n",
      "activation_3 (Activation)    (None, 10)                0         \n",
      "=================================================================\n",
      "Total params: 84,060\n",
      "Trainable params: 84,060\n",
      "Non-trainable params: 0\n",
      "_________________________________________________________________\n"
     ]
    }
   ],
   "source": [
    "# summarize model along with number of model weights\n",
    "model.summary()"
   ]
  },
  {
   "cell_type": "code",
   "execution_count": 10,
   "metadata": {
    "colab": {
     "base_uri": "https://localhost:8080/",
     "height": 368
    },
    "colab_type": "code",
    "id": "mhvTpCtfoaCQ",
    "outputId": "ae680d3f-9655-4fa1-a0e9-d4885cb3f3e0"
   },
   "outputs": [
    {
     "name": "stdout",
     "output_type": "stream",
     "text": [
      "Train on 50000 samples, validate on 10000 samples\n",
      "Epoch 1/10\n",
      " - 1s - loss: 0.3871 - acc: 0.8925 - val_loss: 0.1658 - val_acc: 0.9538\n",
      "Epoch 2/10\n",
      " - 1s - loss: 0.1545 - acc: 0.9548 - val_loss: 0.1298 - val_acc: 0.9636\n",
      "Epoch 3/10\n",
      " - 1s - loss: 0.1116 - acc: 0.9676 - val_loss: 0.1070 - val_acc: 0.9690\n",
      "Epoch 4/10\n",
      " - 1s - loss: 0.0868 - acc: 0.9747 - val_loss: 0.0958 - val_acc: 0.9725\n",
      "Epoch 5/10\n",
      " - 1s - loss: 0.0713 - acc: 0.9792 - val_loss: 0.0961 - val_acc: 0.9714\n",
      "Epoch 6/10\n",
      " - 1s - loss: 0.0566 - acc: 0.9835 - val_loss: 0.0881 - val_acc: 0.9744\n",
      "Epoch 7/10\n",
      " - 1s - loss: 0.0493 - acc: 0.9854 - val_loss: 0.0853 - val_acc: 0.9732\n",
      "Epoch 8/10\n",
      " - 1s - loss: 0.0417 - acc: 0.9876 - val_loss: 0.0834 - val_acc: 0.9762\n",
      "Epoch 9/10\n",
      " - 1s - loss: 0.0340 - acc: 0.9898 - val_loss: 0.0920 - val_acc: 0.9734\n",
      "Epoch 10/10\n",
      " - 1s - loss: 0.0292 - acc: 0.9912 - val_loss: 0.0841 - val_acc: 0.9766\n"
     ]
    }
   ],
   "source": [
    "# train the model\n",
    "history=model.fit(X_train_flat, Y_train, \n",
    "                  batch_size=128, \n",
    "                  epochs=10,\n",
    "                  verbose=2, \n",
    "                  validation_data=(X_val_flat, Y_val)\n",
    "                 )"
   ]
  },
  {
   "cell_type": "code",
   "execution_count": 18,
   "metadata": {
    "colab": {
     "base_uri": "https://localhost:8080/",
     "height": 571
    },
    "colab_type": "code",
    "id": "t39HSiHcoaCT",
    "outputId": "155632ad-344e-434b-b3f9-006ebd81e1b7"
   },
   "outputs": [
    {
     "data": {
      "image/png": "[encoded data removed]",
      "text/plain": [
       "<Figure size 1152x288 with 2 Axes>"
      ]
     },
     "metadata": {},
     "output_type": "display_data"
    }
   ],
   "source": [
    "# plot the development of the accuracy and loss during training\n",
    "plt.figure(figsize=(16,4))\n",
    "plt.subplot(1,2,(1))\n",
    "plt.plot(history.history['acc'],linestyle='-.')\n",
    "plt.plot(history.history['val_acc'])\n",
    "plt.title('model accuracy')\n",
    "plt.ylabel('accuracy')\n",
    "plt.xlabel('epoch')\n",
    "plt.legend(['train', 'valid'], loc='lower right')\n",
    "plt.subplot(1,2,(2))\n",
    "plt.plot(history.history['loss'],linestyle='-.')\n",
    "plt.plot(history.history['val_loss'])\n",
    "plt.title('model loss')\n",
    "plt.ylabel('loss')\n",
    "plt.xlabel('epoch')\n",
    "plt.legend(['train', 'valid'], loc='upper right')\n",
    "\n",
    "plt.savefig('ch02_13.pdf')"
   ]
  },
  {
   "cell_type": "markdown",
   "metadata": {
    "colab_type": "text",
    "id": "iCaoy8l4oaCW"
   },
   "source": [
    "#### Prediction on the original test set after training on original data\n",
    "\n",
    "Use the fcNN that was trained on the original data for prediction of the mnist images in the original test data set. \n",
    "Determine the confusion matrix and the accuracy for evaluating the classification performance.\n"
   ]
  },
  {
   "cell_type": "code",
   "execution_count": 12,
   "metadata": {
    "colab": {
     "base_uri": "https://localhost:8080/",
     "height": 201
    },
    "colab_type": "code",
    "id": "z1U4S7o5oaCY",
    "outputId": "5a0a9e95-69c0-47e8-b838-983d1cd195a9"
   },
   "outputs": [
    {
     "name": "stdout",
     "output_type": "stream",
     "text": [
      "[[ 971    0    1    1    0    0    1    3    3    0]\n",
      " [   0 1120    3    2    0    1    5    1    3    0]\n",
      " [   7    0  994    3    2    0    7   11    7    1]\n",
      " [   0    0    6  975    1   10    0   10    3    5]\n",
      " [   2    0    5    1  956    0    5    3    1    9]\n",
      " [   3    1    0    4    1  866    6    1    5    5]\n",
      " [   8    2    2    1    3    3  938    0    1    0]\n",
      " [   0    4    8    0    1    0    0 1007    0    8]\n",
      " [   6    0    1    4    4    5    3    4  940    7]\n",
      " [   3    2    0    3    7    4    0    5    0  985]]\n",
      "Acc_fc_orig_flat =  0.9752\n"
     ]
    }
   ],
   "source": [
    "pred=model.predict(X_test_flat)\n",
    "print(confusion_matrix(np.argmax(Y_test,axis=1),np.argmax(pred,axis=1)))\n",
    "acc_fc_orig = np.sum(np.argmax(Y_test,axis=1)==np.argmax(pred,axis=1))/len(pred)\n",
    "print(\"Acc_fc_orig_flat = \" , acc_fc_orig)"
   ]
  },
  {
   "cell_type": "markdown",
   "metadata": {
    "colab_type": "text",
    "id": "oGMEWPhP8iL9"
   },
   "source": [
    "### Train the fcNN on the shuffled data"
   ]
  },
  {
   "cell_type": "code",
   "execution_count": 13,
   "metadata": {
    "colab": {
     "base_uri": "https://localhost:8080/",
     "height": 33
    },
    "colab_type": "code",
    "id": "uMoGTt8l8iL-",
    "outputId": "709fbd8a-1065-42b2-ccd5-2f3475f32c66"
   },
   "outputs": [
    {
     "data": {
      "text/plain": [
       "((50000, 784), (50000, 10), (10000, 784), (10000, 10))"
      ]
     },
     "execution_count": 13,
     "metadata": {
      "tags": []
     },
     "output_type": "execute_result"
    }
   ],
   "source": [
    "# check the shape\n",
    "X_train_shuffle_flat.shape,Y_train.shape,X_val_shuffle_flat.shape,Y_val.shape"
   ]
  },
  {
   "cell_type": "code",
   "execution_count": 0,
   "metadata": {
    "colab": {},
    "colab_type": "code",
    "id": "S-cOfxRmBkC0"
   },
   "outputs": [],
   "source": [
    "# define fcNN with 2 hidden layers\n",
    "model = Sequential()\n",
    "\n",
    "model.add(Dense(100, batch_input_shape=(None, 784)))\n",
    "model.add(Activation('relu'))\n",
    "model.add(Dense(50))\n",
    "model.add(Activation('relu'))\n",
    "model.add(Dense(10))\n",
    "model.add(Activation('softmax'))\n",
    "\n",
    "# compile model and intitialize weights\n",
    "model.compile(loss='categorical_crossentropy',\n",
    "              optimizer='adam',\n",
    "              metrics=['accuracy'])"
   ]
  },
  {
   "cell_type": "code",
   "execution_count": 15,
   "metadata": {
    "colab": {
     "base_uri": "https://localhost:8080/",
     "height": 368
    },
    "colab_type": "code",
    "id": "GaGdqYQn8iME",
    "outputId": "04530c8d-4b46-4342-8a18-87a0a9a2f2e2"
   },
   "outputs": [
    {
     "name": "stdout",
     "output_type": "stream",
     "text": [
      "Train on 50000 samples, validate on 10000 samples\n",
      "Epoch 1/10\n",
      " - 3s - loss: 0.3994 - acc: 0.8869 - val_loss: 0.1891 - val_acc: 0.9489\n",
      "Epoch 2/10\n",
      " - 2s - loss: 0.1636 - acc: 0.9524 - val_loss: 0.1457 - val_acc: 0.9576\n",
      "Epoch 3/10\n",
      " - 2s - loss: 0.1175 - acc: 0.9645 - val_loss: 0.1124 - val_acc: 0.9666\n",
      "Epoch 4/10\n",
      " - 2s - loss: 0.0899 - acc: 0.9726 - val_loss: 0.1029 - val_acc: 0.9703\n",
      "Epoch 5/10\n",
      " - 2s - loss: 0.0730 - acc: 0.9779 - val_loss: 0.0973 - val_acc: 0.9732\n",
      "Epoch 6/10\n",
      " - 2s - loss: 0.0588 - acc: 0.9820 - val_loss: 0.0881 - val_acc: 0.9743\n",
      "Epoch 7/10\n",
      " - 2s - loss: 0.0476 - acc: 0.9858 - val_loss: 0.0868 - val_acc: 0.9744\n",
      "Epoch 8/10\n",
      " - 2s - loss: 0.0412 - acc: 0.9873 - val_loss: 0.0851 - val_acc: 0.9760\n",
      "Epoch 9/10\n",
      " - 2s - loss: 0.0328 - acc: 0.9900 - val_loss: 0.0964 - val_acc: 0.9730\n",
      "Epoch 10/10\n",
      " - 2s - loss: 0.0266 - acc: 0.9922 - val_loss: 0.0916 - val_acc: 0.9724\n"
     ]
    }
   ],
   "source": [
    "# train the model\n",
    "history=model.fit(X_train_shuffle_flat, Y_train, \n",
    "                  batch_size=128, \n",
    "                  epochs=10,\n",
    "                  verbose=2, \n",
    "                  validation_data=(X_val_shuffle_flat, Y_val)\n",
    "                 )"
   ]
  },
  {
   "cell_type": "code",
   "execution_count": 19,
   "metadata": {
    "colab": {
     "base_uri": "https://localhost:8080/",
     "height": 571
    },
    "colab_type": "code",
    "id": "Gj2-xZzO8iMJ",
    "outputId": "2154eb15-3bf8-49be-db63-9d604e73cbac"
   },
   "outputs": [
    {
     "data": {
      "image/png": "[encoded data removed]",
      "text/plain": [
       "<Figure size 432x288 with 1 Axes>"
      ]
     },
     "metadata": {},
     "output_type": "display_data"
    },
    {
     "data": {
      "image/png": "[encoded data removed]",
      "text/plain": [
       "<Figure size 432x288 with 1 Axes>"
      ]
     },
     "metadata": {},
     "output_type": "display_data"
    }
   ],
   "source": [
    "# plot the development of the accuracy and loss during training\n",
    "plt.plot(history.history['acc'])\n",
    "plt.plot(history.history['val_acc'])\n",
    "plt.title('model accuracy')\n",
    "plt.ylabel('accuracy')\n",
    "plt.xlabel('epoch')\n",
    "plt.legend(['train', 'valid'], loc='lower right')\n",
    "plt.show()\n",
    "plt.plot(history.history['loss'])\n",
    "plt.plot(history.history['val_loss'])\n",
    "plt.title('model loss')\n",
    "plt.ylabel('loss')\n",
    "plt.xlabel('epoch')\n",
    "plt.legend(['train', 'valid'], loc='upper right')\n",
    "plt.show()"
   ]
  },
  {
   "cell_type": "markdown",
   "metadata": {
    "colab_type": "text",
    "id": "B7bOrA_E8iMR"
   },
   "source": [
    "#### Prediction on the shuffled test set after training on the shuffled data\n",
    "\n",
    "Use the fcNN that was trained on the shuffled data for prediction of the mnist images in the test data set. Determine the confusion matrix and the accuracy for evaluating the classification performance.\n"
   ]
  },
  {
   "cell_type": "code",
   "execution_count": 17,
   "metadata": {
    "colab": {
     "base_uri": "https://localhost:8080/",
     "height": 201
    },
    "colab_type": "code",
    "id": "g_CEIhW78iMS",
    "outputId": "d815ea7b-e85f-4d00-d2cb-c301a3bba534"
   },
   "outputs": [
    {
     "name": "stdout",
     "output_type": "stream",
     "text": [
      "[[ 971    1    0    2    0    0    2    0    3    1]\n",
      " [   0 1126    2    1    0    1    2    0    3    0]\n",
      " [   3    6  992    9    2    0    4    5   11    0]\n",
      " [   0    0    0  997    0    1    0    4    4    4]\n",
      " [   1    1    1    1  956    0    4    2    2   14]\n",
      " [   2    0    0   12    1  864    7    3    3    0]\n",
      " [   4    2    1    1    6    4  937    0    3    0]\n",
      " [   0    9    8    6    1    0    0  988    4   12]\n",
      " [   3    0    3    7    2    2    3    3  947    4]\n",
      " [   1    6    0   10   11    1    0    3    6  971]]\n",
      "Acc_fc_shuffled_flat =  0.9749\n"
     ]
    }
   ],
   "source": [
    "pred=model.predict(X_test_shuffle_flat)\n",
    "print(confusion_matrix(np.argmax(Y_test,axis=1),np.argmax(pred,axis=1)))\n",
    "acc_fc_shuffled = np.sum(np.argmax(Y_test,axis=1)==np.argmax(pred,axis=1))/len(pred)\n",
    "print(\"Acc_fc_shuffled_flat = \" , acc_fc_shuffled)"
   ]
  },
  {
   "cell_type": "markdown",
   "metadata": {
    "colab_type": "text",
    "id": "ENcwFsgGfinO"
   },
   "source": [
    "### Note that in a fcNN the order of the data does not matter. The performace is the same when the original data is used for training and test or if the data was shuffled befor doing the training and test. In both cases the accuracy is around 0.975. "
   ]
  },
  {
   "cell_type": "code",
   "execution_count": 0,
   "metadata": {
    "colab": {},
    "colab_type": "code",
    "id": "m8W15RKcghRS"
   },
   "outputs": [],
   "source": []
  },
  {
   "cell_type": "markdown",
   "metadata": {
    "colab_type": "text",
    "id": "ZaRFUEP8HJkq"
   },
   "source": [
    "## CNN as classification model for MNIST data\n",
    "\n",
    "* Use a CNN with 2 convolution blocks and 2 fully connected layers as classification model\n",
    "* train it once on the original train data and check the performance on the original test data\n",
    "* train it once on the shuffeled train data and check the performance on the accordingly shuffled test data"
   ]
  },
  {
   "cell_type": "markdown",
   "metadata": {
    "colab_type": "text",
    "id": "cFJtO1FFHJkz"
   },
   "source": [
    "### Train the CNN on the original data"
   ]
  },
  {
   "cell_type": "code",
   "execution_count": 18,
   "metadata": {
    "colab": {
     "base_uri": "https://localhost:8080/",
     "height": 33
    },
    "colab_type": "code",
    "id": "iq45_Gs1HJk1",
    "outputId": "000fb04c-caa2-4101-b388-73ac3b3da8da"
   },
   "outputs": [
    {
     "data": {
      "text/plain": [
       "((50000, 28, 28, 1), (50000, 10), (10000, 28, 28, 1), (10000, 10))"
      ]
     },
     "execution_count": 18,
     "metadata": {
      "tags": []
     },
     "output_type": "execute_result"
    }
   ],
   "source": [
    "# check the shape of the orginal data\n",
    "# we need matrices as input\n",
    "X_train.shape,Y_train.shape,X_val.shape,Y_val.shape"
   ]
  },
  {
   "cell_type": "code",
   "execution_count": 0,
   "metadata": {
    "colab": {},
    "colab_type": "code",
    "id": "JSfYQ4f1KYVp"
   },
   "outputs": [],
   "source": [
    "# here we define  hyperparameter of the CNN\n",
    "batch_size = 128\n",
    "nb_classes = 10\n",
    "img_rows, img_cols = 28, 28\n",
    "kernel_size = (3, 3)\n",
    "input_shape = (img_rows, img_cols, 1)\n",
    "pool_size = (2, 2)"
   ]
  },
  {
   "cell_type": "code",
   "execution_count": 0,
   "metadata": {
    "colab": {},
    "colab_type": "code",
    "id": "3xwh0iYrHJk_"
   },
   "outputs": [],
   "source": [
    "# define CNN with 2 convolution blocks and 2 fully connected layers\n",
    "model = Sequential()\n",
    "\n",
    "model.add(Convolution2D(8,kernel_size,padding='same',input_shape=input_shape))\n",
    "model.add(Activation('relu'))\n",
    "model.add(Convolution2D(8, kernel_size,padding='same'))\n",
    "model.add(Activation('relu'))\n",
    "model.add(MaxPooling2D(pool_size=pool_size))\n",
    "\n",
    "model.add(Convolution2D(16, kernel_size,padding='same'))\n",
    "model.add(Activation('relu'))\n",
    "model.add(Convolution2D(16,kernel_size,padding='same'))\n",
    "model.add(Activation('relu'))\n",
    "model.add(MaxPooling2D(pool_size=pool_size))\n",
    "\n",
    "model.add(Flatten())\n",
    "model.add(Dense(40))\n",
    "model.add(Activation('relu'))\n",
    "model.add(Dense(nb_classes))\n",
    "model.add(Activation('softmax'))\n",
    "\n",
    "# compile model and intitialize weights\n",
    "model.compile(loss='categorical_crossentropy',\n",
    "              optimizer='adam',\n",
    "              metrics=['accuracy'])"
   ]
  },
  {
   "cell_type": "code",
   "execution_count": 21,
   "metadata": {
    "colab": {
     "base_uri": "https://localhost:8080/",
     "height": 636
    },
    "colab_type": "code",
    "id": "blxHZguwHJlG",
    "outputId": "e3ab60dd-4391-40b4-e136-d8641e33554e"
   },
   "outputs": [
    {
     "name": "stdout",
     "output_type": "stream",
     "text": [
      "_________________________________________________________________\n",
      "Layer (type)                 Output Shape              Param #   \n",
      "=================================================================\n",
      "conv2d_1 (Conv2D)            (None, 28, 28, 8)         80        \n",
      "_________________________________________________________________\n",
      "activation_7 (Activation)    (None, 28, 28, 8)         0         \n",
      "_________________________________________________________________\n",
      "conv2d_2 (Conv2D)            (None, 28, 28, 8)         584       \n",
      "_________________________________________________________________\n",
      "activation_8 (Activation)    (None, 28, 28, 8)         0         \n",
      "_________________________________________________________________\n",
      "max_pooling2d_1 (MaxPooling2 (None, 14, 14, 8)         0         \n",
      "_________________________________________________________________\n",
      "conv2d_3 (Conv2D)            (None, 14, 14, 16)        1168      \n",
      "_________________________________________________________________\n",
      "activation_9 (Activation)    (None, 14, 14, 16)        0         \n",
      "_________________________________________________________________\n",
      "conv2d_4 (Conv2D)            (None, 14, 14, 16)        2320      \n",
      "_________________________________________________________________\n",
      "activation_10 (Activation)   (None, 14, 14, 16)        0         \n",
      "_________________________________________________________________\n",
      "max_pooling2d_2 (MaxPooling2 (None, 7, 7, 16)          0         \n",
      "_________________________________________________________________\n",
      "flatten_1 (Flatten)          (None, 784)               0         \n",
      "_________________________________________________________________\n",
      "dense_7 (Dense)              (None, 40)                31400     \n",
      "_________________________________________________________________\n",
      "activation_11 (Activation)   (None, 40)                0         \n",
      "_________________________________________________________________\n",
      "dense_8 (Dense)              (None, 10)                410       \n",
      "_________________________________________________________________\n",
      "activation_12 (Activation)   (None, 10)                0         \n",
      "=================================================================\n",
      "Total params: 35,962\n",
      "Trainable params: 35,962\n",
      "Non-trainable params: 0\n",
      "_________________________________________________________________\n"
     ]
    }
   ],
   "source": [
    "# summarize model along with number of model weights\n",
    "model.summary()"
   ]
  },
  {
   "cell_type": "code",
   "execution_count": 22,
   "metadata": {
    "colab": {
     "base_uri": "https://localhost:8080/",
     "height": 368
    },
    "colab_type": "code",
    "id": "430DSTDIHJlP",
    "outputId": "cd846ceb-ee70-4257-d9a7-da235a46f2b2"
   },
   "outputs": [
    {
     "name": "stdout",
     "output_type": "stream",
     "text": [
      "Train on 50000 samples, validate on 10000 samples\n",
      "Epoch 1/10\n",
      " - 8s - loss: 0.3608 - acc: 0.8941 - val_loss: 0.1169 - val_acc: 0.9644\n",
      "Epoch 2/10\n",
      " - 5s - loss: 0.0919 - acc: 0.9714 - val_loss: 0.0642 - val_acc: 0.9824\n",
      "Epoch 3/10\n",
      " - 5s - loss: 0.0640 - acc: 0.9799 - val_loss: 0.0604 - val_acc: 0.9832\n",
      "Epoch 4/10\n",
      " - 5s - loss: 0.0491 - acc: 0.9849 - val_loss: 0.0496 - val_acc: 0.9872\n",
      "Epoch 5/10\n",
      " - 5s - loss: 0.0401 - acc: 0.9874 - val_loss: 0.0527 - val_acc: 0.9853\n",
      "Epoch 6/10\n",
      " - 5s - loss: 0.0335 - acc: 0.9896 - val_loss: 0.0454 - val_acc: 0.9882\n",
      "Epoch 7/10\n",
      " - 5s - loss: 0.0294 - acc: 0.9903 - val_loss: 0.0451 - val_acc: 0.9873\n",
      "Epoch 8/10\n",
      " - 5s - loss: 0.0252 - acc: 0.9915 - val_loss: 0.0417 - val_acc: 0.9894\n",
      "Epoch 9/10\n",
      " - 5s - loss: 0.0211 - acc: 0.9931 - val_loss: 0.0436 - val_acc: 0.9873\n",
      "Epoch 10/10\n",
      " - 5s - loss: 0.0189 - acc: 0.9934 - val_loss: 0.0392 - val_acc: 0.9895\n"
     ]
    }
   ],
   "source": [
    "# train the model\n",
    "history=model.fit(X_train, Y_train, \n",
    "                  batch_size=128, \n",
    "                  epochs=10,\n",
    "                  verbose=2, \n",
    "                  validation_data=(X_val, Y_val)\n",
    "                 )"
   ]
  },
  {
   "cell_type": "code",
   "execution_count": 23,
   "metadata": {
    "colab": {
     "base_uri": "https://localhost:8080/",
     "height": 571
    },
    "colab_type": "code",
    "id": "q8GcmSWoHJlX",
    "outputId": "673bbf73-e319-43ef-b5cc-2fb010f28b43"
   },
   "outputs": [
    {
     "data": {
      "image/png": "[encoded data removed]",
      "text/plain": [
       "<matplotlib.figure.Figure at 0x7fdbe879deb8>"
      ]
     },
     "metadata": {
      "tags": []
     },
     "output_type": "display_data"
    },
    {
     "data": {
      "image/png": "[encoded data removed]",
      "text/plain": [
       "<matplotlib.figure.Figure at 0x7fdbe86cbba8>"
      ]
     },
     "metadata": {
      "tags": []
     },
     "output_type": "display_data"
    }
   ],
   "source": [
    "# plot the development of the accuracy and loss during training\n",
    "plt.plot(history.history['acc'])\n",
    "plt.plot(history.history['val_acc'])\n",
    "plt.title('model accuracy')\n",
    "plt.ylabel('accuracy')\n",
    "plt.xlabel('epoch')\n",
    "plt.legend(['train', 'valid'], loc='lower right')\n",
    "plt.show()\n",
    "plt.plot(history.history['loss'])\n",
    "plt.plot(history.history['val_loss'])\n",
    "plt.title('model loss')\n",
    "plt.ylabel('loss')\n",
    "plt.xlabel('epoch')\n",
    "plt.legend(['train', 'valid'], loc='upper right')\n",
    "plt.show()"
   ]
  },
  {
   "cell_type": "markdown",
   "metadata": {
    "colab_type": "text",
    "id": "CAcwJRvDHJlf"
   },
   "source": [
    "#### Prediction on the test set after training on original data\n",
    "\n",
    "Use the CNN that was trained on the original data for prediction of the mnist images in the test data set. Determine the confusion matrix and the accuracy for evaluating the classification performance.\n"
   ]
  },
  {
   "cell_type": "code",
   "execution_count": 24,
   "metadata": {
    "colab": {
     "base_uri": "https://localhost:8080/",
     "height": 201
    },
    "colab_type": "code",
    "id": "AdB-5bEjHJlh",
    "outputId": "93d3f474-64e6-4224-b7c7-decd8cd59fe7"
   },
   "outputs": [
    {
     "name": "stdout",
     "output_type": "stream",
     "text": [
      "[[ 975    1    0    0    0    0    2    1    1    0]\n",
      " [   0 1132    1    0    0    1    0    1    0    0]\n",
      " [   3    3 1022    0    0    0    0    4    0    0]\n",
      " [   2    0    1  998    0    4    0    2    3    0]\n",
      " [   0    0    2    0  976    0    2    0    0    2]\n",
      " [   2    0    0    3    0  883    4    0    0    0]\n",
      " [   2    1    2    0    1    1  951    0    0    0]\n",
      " [   0    4    5    1    0    0    0 1014    1    3]\n",
      " [   7    0    2    1    0    2    0    1  959    2]\n",
      " [   0    1    1    0    8    8    0    2    4  985]]\n",
      "Acc_fc_orig =  0.9895\n"
     ]
    }
   ],
   "source": [
    "pred=model.predict(X_test)\n",
    "print(confusion_matrix(np.argmax(Y_test,axis=1),np.argmax(pred,axis=1)))\n",
    "acc_fc_orig = np.sum(np.argmax(Y_test,axis=1)==np.argmax(pred,axis=1))/len(pred)\n",
    "print(\"Acc_fc_orig = \" , acc_fc_orig)"
   ]
  },
  {
   "cell_type": "markdown",
   "metadata": {
    "colab_type": "text",
    "id": "eXWJXLO5HJll"
   },
   "source": [
    "### Train the CNN on the shuffled data"
   ]
  },
  {
   "cell_type": "code",
   "execution_count": 25,
   "metadata": {
    "colab": {
     "base_uri": "https://localhost:8080/",
     "height": 33
    },
    "colab_type": "code",
    "id": "n43wXtMuHJln",
    "outputId": "a9b0c3ab-a373-4298-ec4e-1b0263bd3dcc"
   },
   "outputs": [
    {
     "data": {
      "text/plain": [
       "((50000, 28, 28, 1), (50000, 10), (10000, 28, 28, 1), (10000, 10))"
      ]
     },
     "execution_count": 25,
     "metadata": {
      "tags": []
     },
     "output_type": "execute_result"
    }
   ],
   "source": [
    "# check the shape of the shuffled data\n",
    "# we need matrices as input\n",
    "X_train_shuffle.shape,Y_train.shape,X_val_shuffle.shape,Y_val.shape"
   ]
  },
  {
   "cell_type": "code",
   "execution_count": 0,
   "metadata": {
    "colab": {},
    "colab_type": "code",
    "id": "9uHoZFjHHJlt"
   },
   "outputs": [],
   "source": [
    "# define CNN with 2 convolution blocks and 2 fully connected layers  \n",
    "model = Sequential()\n",
    "\n",
    "model.add(Convolution2D(8,kernel_size,padding='same',input_shape=input_shape))\n",
    "model.add(Activation('relu'))\n",
    "model.add(Convolution2D(8, kernel_size,padding='same'))\n",
    "model.add(Activation('relu'))\n",
    "model.add(MaxPooling2D(pool_size=pool_size))\n",
    "\n",
    "model.add(Convolution2D(16, kernel_size,padding='same'))\n",
    "model.add(Activation('relu'))\n",
    "model.add(Convolution2D(16,kernel_size,padding='same'))\n",
    "model.add(Activation('relu'))\n",
    "model.add(MaxPooling2D(pool_size=pool_size))\n",
    "\n",
    "model.add(Flatten())\n",
    "model.add(Dense(40))\n",
    "model.add(Activation('relu'))\n",
    "model.add(Dense(nb_classes))\n",
    "model.add(Activation('softmax'))\n",
    "\n",
    "# compile model and intitialize weights\n",
    "model.compile(loss='categorical_crossentropy',\n",
    "              optimizer='adam',\n",
    "              metrics=['accuracy'])"
   ]
  },
  {
   "cell_type": "code",
   "execution_count": 27,
   "metadata": {
    "colab": {
     "base_uri": "https://localhost:8080/",
     "height": 368
    },
    "colab_type": "code",
    "id": "SEQBad6jHJly",
    "outputId": "f63d5d69-fb92-4b6d-9c51-699df4ffa4ce"
   },
   "outputs": [
    {
     "name": "stdout",
     "output_type": "stream",
     "text": [
      "Train on 50000 samples, validate on 10000 samples\n",
      "Epoch 1/10\n",
      " - 6s - loss: 0.7360 - acc: 0.7631 - val_loss: 0.3438 - val_acc: 0.8958\n",
      "Epoch 2/10\n",
      " - 5s - loss: 0.3351 - acc: 0.8988 - val_loss: 0.2658 - val_acc: 0.9235\n",
      "Epoch 3/10\n",
      " - 5s - loss: 0.2638 - acc: 0.9188 - val_loss: 0.2191 - val_acc: 0.9363\n",
      "Epoch 4/10\n",
      " - 5s - loss: 0.2216 - acc: 0.9329 - val_loss: 0.2007 - val_acc: 0.9382\n",
      "Epoch 5/10\n",
      " - 5s - loss: 0.1919 - acc: 0.9412 - val_loss: 0.1953 - val_acc: 0.9427\n",
      "Epoch 6/10\n",
      " - 5s - loss: 0.1712 - acc: 0.9467 - val_loss: 0.1786 - val_acc: 0.9464\n",
      "Epoch 7/10\n",
      " - 5s - loss: 0.1523 - acc: 0.9530 - val_loss: 0.1725 - val_acc: 0.9456\n",
      "Epoch 8/10\n",
      " - 5s - loss: 0.1366 - acc: 0.9575 - val_loss: 0.1648 - val_acc: 0.9520\n",
      "Epoch 9/10\n",
      " - 5s - loss: 0.1253 - acc: 0.9603 - val_loss: 0.1737 - val_acc: 0.9473\n",
      "Epoch 10/10\n",
      " - 5s - loss: 0.1141 - acc: 0.9644 - val_loss: 0.1520 - val_acc: 0.9555\n"
     ]
    }
   ],
   "source": [
    "# train the model\n",
    "history=model.fit(X_train_shuffle, Y_train, \n",
    "                  batch_size=128, \n",
    "                  epochs=10,\n",
    "                  verbose=2, \n",
    "                  validation_data=(X_val_shuffle, Y_val)\n",
    "                 )"
   ]
  },
  {
   "cell_type": "code",
   "execution_count": 28,
   "metadata": {
    "colab": {
     "base_uri": "https://localhost:8080/",
     "height": 571
    },
    "colab_type": "code",
    "id": "_O6iw7xJHJmA",
    "outputId": "cca92801-367e-4423-b712-ffda49806144"
   },
   "outputs": [
    {
     "data": {
      "image/png": "[encoded data removed]",
      "text/plain": [
       "<matplotlib.figure.Figure at 0x7fdbe80616a0>"
      ]
     },
     "metadata": {
      "tags": []
     },
     "output_type": "display_data"
    },
    {
     "data": {
      "image/png": "[encoded data removed]",
      "text/plain": [
       "<matplotlib.figure.Figure at 0x7fdbe8077978>"
      ]
     },
     "metadata": {
      "tags": []
     },
     "output_type": "display_data"
    }
   ],
   "source": [
    "# plot the development of the accuracy and loss during training\n",
    "plt.plot(history.history['acc'])\n",
    "plt.plot(history.history['val_acc'])\n",
    "plt.title('model accuracy')\n",
    "plt.ylabel('accuracy')\n",
    "plt.xlabel('epoch')\n",
    "plt.legend(['train', 'valid'], loc='lower right')\n",
    "plt.show()\n",
    "plt.plot(history.history['loss'])\n",
    "plt.plot(history.history['val_loss'])\n",
    "plt.title('model loss')\n",
    "plt.ylabel('loss')\n",
    "plt.xlabel('epoch')\n",
    "plt.legend(['train', 'valid'], loc='upper right')\n",
    "plt.show()"
   ]
  },
  {
   "cell_type": "markdown",
   "metadata": {
    "colab_type": "text",
    "id": "fz2TmqDyHJmF"
   },
   "source": [
    "#### Prediction on the test set after training on the shuffled data\n",
    "\n",
    "Use the CNN that was trained on the shuffled data for prediction of the mnist images in the test data set. Determine the confusion matrix and the accuracy for evaluating the classification performance.\n"
   ]
  },
  {
   "cell_type": "code",
   "execution_count": 29,
   "metadata": {
    "colab": {
     "base_uri": "https://localhost:8080/",
     "height": 201
    },
    "colab_type": "code",
    "id": "XPT49d5THJmJ",
    "outputId": "7321b20f-eb71-4eca-c26a-a64271be5679"
   },
   "outputs": [
    {
     "name": "stdout",
     "output_type": "stream",
     "text": [
      "[[ 964    0    6    2    0    0    3    1    2    2]\n",
      " [   0 1122    5    1    0    1    1    2    3    0]\n",
      " [  10    1  980   13    1    1    1    8   15    2]\n",
      " [   1    0    5  977    0   10    0    6    8    3]\n",
      " [   4    0    9    0  904    1    7   10    7   40]\n",
      " [  11    1    1   20    0  839    6    2    7    5]\n",
      " [  17    3    7    0    2    8  915    2    4    0]\n",
      " [   5    4   13    4    2    0    0  972    3   25]\n",
      " [   9    0    8   20    3    8    8    5  901   12]\n",
      " [   4    2    3   10   11    6    0   11    6  956]]\n",
      "Acc_fc_shuffled =  0.953\n"
     ]
    }
   ],
   "source": [
    "pred=model.predict(X_test_shuffle)\n",
    "print(confusion_matrix(np.argmax(Y_test,axis=1),np.argmax(pred,axis=1)))\n",
    "acc_fc_shuffled = np.sum(np.argmax(Y_test,axis=1)==np.argmax(pred,axis=1))/len(pred)\n",
    "print(\"Acc_fc_shuffled = \" , acc_fc_shuffled)"
   ]
  },
  {
   "cell_type": "markdown",
   "metadata": {
    "colab_type": "text",
    "id": "9n6WX-ClgypT"
   },
   "source": [
    "# Conclusion\n",
    "\n",
    "### In a CNN the order of the data does matter, the performace for the original images and for the shuffled are the different! The CNN performs better on the original data. The CNN trained on the original data achieved an accuracy of  0.99, but the same CNN trained on the shuffled version of the data achieved only 0.95 accuracy. \n",
    "\n",
    "### This was not the case when a fcNN was used - here the performance did not change if the data was shuffled. The fcNN achieved an accuracy of 0.975 regardless if the data was shuffled or not. \n",
    "\n",
    "### It is worth to note that on the original data the CNN achieved with \"only\" 35962 model weights a higher accuracy (0.99) than the fcNN with 84000 model weights that achieved a smaller accuray (0.975)\n"
   ]
  },
  {
   "cell_type": "code",
   "execution_count": 0,
   "metadata": {
    "colab": {},
    "colab_type": "code",
    "id": "byuP_RcvhAdN"
   },
   "outputs": [],
   "source": []
  }
 ],
 "metadata": {
  "accelerator": "GPU",
  "colab": {
   "collapsed_sections": [],
   "name": "mnist_permutation_fcNN_CNN.ipynb",
   "provenance": [],
   "version": "0.3.2"
  },
  "kernelspec": {
   "display_name": "Python 3",
   "language": "python",
   "name": "python3"
  },
  "language_info": {
   "codemirror_mode": {
    "name": "ipython",
    "version": 3
   },
   "file_extension": ".py",
   "mimetype": "text/x-python",
   "name": "python",
   "nbconvert_exporter": "python",
   "pygments_lexer": "ipython3",
   "version": "3.5.2"
  }
 },
 "nbformat": 4,
 "nbformat_minor": 1
}
