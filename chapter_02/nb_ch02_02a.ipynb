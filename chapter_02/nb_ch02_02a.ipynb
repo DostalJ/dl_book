{
  "nbformat": 4,
  "nbformat_minor": 0,
  "metadata": {
    "colab": {
      "name": "nb_ch02_02a.ipynb",
      "version": "0.3.2",
      "provenance": [],
      "collapsed_sections": []
    },
    "kernelspec": {
      "display_name": "Python 3",
      "language": "python",
      "name": "python3"
    },
    "accelerator": "GPU"
  },
  "cells": [
    {
      "metadata": {
        "colab_type": "text",
        "id": "tbTYFRhJoaBu"
      },
      "cell_type": "markdown",
      "source": [
        "# MNIST digit classification before and after shuffling\n",
        "\n",
        "\n",
        "**Goal:** In this notebook you will see how to use a fully connected networks (fcNN) in an classification task for images.\n",
        "\n",
        "**Usage:** The idea of the notebook is that you try to understand the provided code by running it, checking the output and playing with it by slightly changing the code and rerunning it. \n",
        "\n",
        "**Dataset:** You work with the MNIST dataset. We have 60'000 28x28 pixel greyscale images of digits and want to classify them into the right label (0-9).\n",
        "\n",
        "**Content:**\n",
        "* load the MNIST data \n",
        "* transform the labels into the one hot encoding\n",
        "* visualize samples of the data\n",
        "* flatten the 2D images into a 1D vector\n",
        "* use keras to train a fcNN and look at the perfomance on new unseen test data\n",
        "* use different activation functions and more hidden layers\n",
        "\n",
        "| [open in colab](https://colab.research.google.com/github/tensorchiefs/dl_book/blob/master/chapter_02/nb_ch02_02a.ipynb)\n",
        "\n"
      ]
    },
    {
      "metadata": {
        "colab_type": "text",
        "id": "PEIS4WvpsT5t"
      },
      "cell_type": "markdown",
      "source": [
        "#### Imports\n",
        "\n",
        "In the next two cells, we load all the required libraries and functions. We download the MNIST dataset, normalize the pixelvalues to be between 0 and 1, and seperate it into a train, validation and testset."
      ]
    },
    {
      "metadata": {
        "colab_type": "code",
        "id": "Y6S_hQX5oaBw",
        "outputId": "cab4d622-16ec-48cd-b8bb-81a3df4f446e",
        "scrolled": true,
        "colab": {
          "base_uri": "https://localhost:8080/",
          "height": 35
        }
      },
      "cell_type": "code",
      "source": [
        "# load required libraries:\n",
        "import numpy as np\n",
        "import matplotlib.pyplot as plt\n",
        "%matplotlib inline\n",
        "plt.style.use('default')\n",
        "from sklearn.metrics import confusion_matrix\n",
        "\n",
        "import keras \n",
        "from keras.models import Sequential\n",
        "from keras.layers import Dense, Convolution2D, MaxPooling2D, Flatten , Activation\n",
        "from keras.utils import to_categorical \n",
        "from keras import optimizers\n"
      ],
      "execution_count": 1,
      "outputs": [
        {
          "output_type": "stream",
          "text": [
            "Using TensorFlow backend.\n"
          ],
          "name": "stderr"
        }
      ]
    },
    {
      "metadata": {
        "colab_type": "text",
        "id": "4h_3TS0CtJJb"
      },
      "cell_type": "markdown",
      "source": [
        "\n",
        "\n",
        "\n",
        "\n",
        "#### Loading and preparing the MNIST data and transfering the labels into the one hot encoding\n",
        "\n",
        "Here we load the MNIST dataset form keras. The 8-bit greyscale images have values form 0 to 255, we divide all values with 255 to only have values between 0 and 1. In additon we transform the true labels, which are the numbers from 0 to 9 (the digit on the image) into the one hot encoding. We do this to make use of linear algebra in the calculation of the crossentropy loss.  \n",
        "  \n",
        "The one hot encoding transforms the labels into a vector with the same length as we have labels (in our case 10). The resulting vector in the one hot encodig is zero everywhere except for the position of the true label, there it is 1. Let's look at some examples to make it more clear:  \n",
        "\n",
        "0 becomes [1,0,0,0,0,0,0,0,0,0]  \n",
        "1 becomes [0,1,0,0,0,0,0,0,0,0]  \n",
        "2 becomes [0,0,1,0,0,0,0,0,0,0]  \n",
        "...  \n",
        "9 becomes [0,0,0,0,0,0,0,0,0,1]  "
      ]
    },
    {
      "metadata": {
        "colab_type": "code",
        "id": "4sZ8lqFfoaB2",
        "outputId": "09851d23-cf39-41e9-bf08-88e8ccb02ea8",
        "colab": {
          "base_uri": "https://localhost:8080/",
          "height": 156
        }
      },
      "cell_type": "code",
      "source": [
        "from keras.datasets import mnist\n",
        "(x_train, y_train), (x_test, y_test) = mnist.load_data()\n",
        "\n",
        "# separate x_train in X_train and X_val, same for y_train\n",
        "X_train=x_train[0:50000] / 255 #divide by 255 so that they are in range 0 to 1\n",
        "Y_train=keras.utils.to_categorical(y_train[0:50000],10) # one-hot encoding\n",
        "\n",
        "X_val=x_train[50000:60000] / 255\n",
        "Y_val=keras.utils.to_categorical(y_train[50000:60000],10)\n",
        "\n",
        "X_test=x_test / 255\n",
        "Y_test=keras.utils.to_categorical(y_test,10)\n",
        "\n",
        "del x_train, y_train, x_test, y_test\n",
        "\n",
        "X_train=np.reshape(X_train, (X_train.shape[0],28,28,1))\n",
        "X_val=np.reshape(X_val, (X_val.shape[0],28,28,1))\n",
        "X_test=np.reshape(X_test, (X_test.shape[0],28,28,1))\n",
        "\n",
        "print(X_train.shape)\n",
        "print(X_val.shape)\n",
        "print(X_test.shape)\n",
        "print(Y_train.shape)\n",
        "print(Y_val.shape)\n",
        "print(Y_test.shape)"
      ],
      "execution_count": 2,
      "outputs": [
        {
          "output_type": "stream",
          "text": [
            "Downloading data from https://s3.amazonaws.com/img-datasets/mnist.npz\n",
            "11493376/11490434 [==============================] - 1s 0us/step\n",
            "(50000, 28, 28, 1)\n",
            "(10000, 28, 28, 1)\n",
            "(10000, 28, 28, 1)\n",
            "(50000, 10)\n",
            "(10000, 10)\n",
            "(10000, 10)\n"
          ],
          "name": "stdout"
        }
      ]
    },
    {
      "metadata": {
        "id": "3ly7CrHtLUP9",
        "colab_type": "text"
      },
      "cell_type": "markdown",
      "source": [
        "Lets visualize the first 4 mnist images before shuffling the pixels randomly around. It is very easy to recognise the true label of the digits."
      ]
    },
    {
      "metadata": {
        "colab_type": "code",
        "id": "c4gUgwGUeftF",
        "outputId": "ea5d3d1a-1bc9-4f1f-e2a8-64cb4d04a2b6",
        "colab": {
          "base_uri": "https://localhost:8080/",
          "height": 285
        }
      },
      "cell_type": "code",
      "source": [
        "# visualize the 4 first mnist images before shuffling the pixels\n",
        "plt.figure(figsize=(12,12))\n",
        "for i in range(0,4):\n",
        "    plt.subplot(1,4,(i+1))\n",
        "    plt.imshow((X_train[i,:,:,0]),cmap=\"gray\")\n",
        "    plt.title('true label: '+np.str(np.argmax(Y_train,axis=1)[i]))\n",
        "    #plt.axis('off')"
      ],
      "execution_count": 3,
      "outputs": [
        {
          "output_type": "display_data",
          "data": {
            "image/png": "[encoded data removed]",
            "text/plain": [
              "<Figure size 1200x1200 with 4 Axes>"
            ]
          },
          "metadata": {
            "tags": []
          }
        }
      ]
    },
    {
      "metadata": {
        "colab_type": "text",
        "id": "trSndjWX4HO7"
      },
      "cell_type": "markdown",
      "source": [
        "## fcNN as classification model for MNIST data\n",
        "Now we want to train a fcNN to classify the MNIST data.\n",
        "* we use a fcNN with 2 hidden layers and use the sigmoid activation function\n",
        "* train it on train data and check the performance on the test data"
      ]
    },
    {
      "metadata": {
        "id": "LB_m8HJaOMsY",
        "colab_type": "text"
      },
      "cell_type": "markdown",
      "source": [
        "\n",
        "#### Flatten the the images into vectors\n",
        "\n",
        "Because we will use fcNN our input cannot be matrices or tensors. We need to flatten our inuput into a 1d vector. We do this in the next cell with reshap and look at the resulting shape of the flattened data."
      ]
    },
    {
      "metadata": {
        "colab_type": "code",
        "id": "CoSUhNzRfbj4",
        "outputId": "cb1b837a-feb4-4652-b3ee-9516b79018fe",
        "colab": {
          "base_uri": "https://localhost:8080/",
          "height": 87
        }
      },
      "cell_type": "code",
      "source": [
        "# prepare data for fcNN - we need a vector as input\n",
        "\n",
        "X_train_flat = X_train.reshape([X_train.shape[0], 784])\n",
        "X_val_flat = X_val.reshape([X_val.shape[0], 784])\n",
        "X_test_flat = X_test.reshape([X_test.shape[0], 784])\n",
        "\n",
        "# check the shape\n",
        "print(X_train_flat.shape)\n",
        "print(Y_train.shape)\n",
        "print(X_val_flat.shape)\n",
        "print(Y_val.shape)"
      ],
      "execution_count": 4,
      "outputs": [
        {
          "output_type": "stream",
          "text": [
            "(50000, 784)\n",
            "(50000, 10)\n",
            "(10000, 784)\n",
            "(10000, 10)\n"
          ],
          "name": "stdout"
        }
      ]
    },
    {
      "metadata": {
        "colab_type": "text",
        "id": "uOYYJFOh62qC"
      },
      "cell_type": "markdown",
      "source": [
        "### Train the fcNN "
      ]
    },
    {
      "metadata": {
        "id": "bulk0OpFOpeO",
        "colab_type": "text"
      },
      "cell_type": "markdown",
      "source": [
        "Here we define the nework, we use two hidden layers with 100 and 50 nodes. In the output we predict the probability for the 10 digits with the softmax actication function, in the hidden layers we use the sigmoid activation function and our loss is the categroical crossentropy loss."
      ]
    },
    {
      "metadata": {
        "colab_type": "code",
        "id": "EAispBe0oaCH",
        "colab": {}
      },
      "cell_type": "code",
      "source": [
        "# define fcNN with 2 hidden layers\n",
        "model = Sequential()\n",
        "\n",
        "model.add(Dense(100, batch_input_shape=(None, 784)))\n",
        "model.add(Activation('sigmoid'))\n",
        "model.add(Dense(50))\n",
        "model.add(Activation('sigmoid'))\n",
        "model.add(Dense(10))\n",
        "model.add(Activation('softmax'))\n",
        "\n",
        "# compile model and intitialize weights\n",
        "model.compile(loss='categorical_crossentropy',\n",
        "              optimizer='adam',\n",
        "              metrics=['accuracy'])"
      ],
      "execution_count": 0,
      "outputs": []
    },
    {
      "metadata": {
        "colab_type": "code",
        "id": "7xfW6yzqoaCK",
        "outputId": "6c008532-47bb-46ea-910b-8c5e80222777",
        "colab": {
          "base_uri": "https://localhost:8080/",
          "height": 347
        }
      },
      "cell_type": "code",
      "source": [
        "# summarize model along with number of model weights\n",
        "model.summary()"
      ],
      "execution_count": 6,
      "outputs": [
        {
          "output_type": "stream",
          "text": [
            "_________________________________________________________________\n",
            "Layer (type)                 Output Shape              Param #   \n",
            "=================================================================\n",
            "dense_1 (Dense)              (None, 100)               78500     \n",
            "_________________________________________________________________\n",
            "activation_1 (Activation)    (None, 100)               0         \n",
            "_________________________________________________________________\n",
            "dense_2 (Dense)              (None, 50)                5050      \n",
            "_________________________________________________________________\n",
            "activation_2 (Activation)    (None, 50)                0         \n",
            "_________________________________________________________________\n",
            "dense_3 (Dense)              (None, 10)                510       \n",
            "_________________________________________________________________\n",
            "activation_3 (Activation)    (None, 10)                0         \n",
            "=================================================================\n",
            "Total params: 84,060\n",
            "Trainable params: 84,060\n",
            "Non-trainable params: 0\n",
            "_________________________________________________________________\n"
          ],
          "name": "stdout"
        }
      ]
    },
    {
      "metadata": {
        "colab_type": "code",
        "id": "mhvTpCtfoaCQ",
        "outputId": "2916e802-fafb-46ba-b8f1-dea3a93411e6",
        "colab": {
          "base_uri": "https://localhost:8080/",
          "height": 381
        }
      },
      "cell_type": "code",
      "source": [
        "# train the model\n",
        "history=model.fit(X_train_flat, Y_train, \n",
        "                  batch_size=128, \n",
        "                  epochs=10,\n",
        "                  verbose=2, \n",
        "                  validation_data=(X_val_flat, Y_val)\n",
        "                 )"
      ],
      "execution_count": 7,
      "outputs": [
        {
          "output_type": "stream",
          "text": [
            "Train on 50000 samples, validate on 10000 samples\n",
            "Epoch 1/10\n",
            " - 4s - loss: 0.9836 - acc: 0.7711 - val_loss: 0.3829 - val_acc: 0.9107\n",
            "Epoch 2/10\n",
            " - 2s - loss: 0.3249 - acc: 0.9143 - val_loss: 0.2441 - val_acc: 0.9344\n",
            "Epoch 3/10\n",
            " - 2s - loss: 0.2389 - acc: 0.9317 - val_loss: 0.2013 - val_acc: 0.9454\n",
            "Epoch 4/10\n",
            " - 2s - loss: 0.1947 - acc: 0.9438 - val_loss: 0.1696 - val_acc: 0.9540\n",
            "Epoch 5/10\n",
            " - 2s - loss: 0.1653 - acc: 0.9519 - val_loss: 0.1527 - val_acc: 0.9581\n",
            "Epoch 6/10\n",
            " - 2s - loss: 0.1415 - acc: 0.9594 - val_loss: 0.1384 - val_acc: 0.9614\n",
            "Epoch 7/10\n",
            " - 2s - loss: 0.1225 - acc: 0.9646 - val_loss: 0.1272 - val_acc: 0.9642\n",
            "Epoch 8/10\n",
            " - 2s - loss: 0.1073 - acc: 0.9694 - val_loss: 0.1190 - val_acc: 0.9655\n",
            "Epoch 9/10\n",
            " - 2s - loss: 0.0944 - acc: 0.9733 - val_loss: 0.1109 - val_acc: 0.9680\n",
            "Epoch 10/10\n",
            " - 2s - loss: 0.0832 - acc: 0.9764 - val_loss: 0.1041 - val_acc: 0.9695\n"
          ],
          "name": "stdout"
        }
      ]
    },
    {
      "metadata": {
        "id": "HvOuOKc01bqS",
        "colab_type": "text"
      },
      "cell_type": "markdown",
      "source": [
        "In the next cell we plot the accuray and loss of the train and validation vs the number of train eprochs to see how the development"
      ]
    },
    {
      "metadata": {
        "colab_type": "code",
        "id": "t39HSiHcoaCT",
        "outputId": "6c4b1ffd-af9b-4108-d66f-0317cf34a39a",
        "colab": {
          "base_uri": "https://localhost:8080/",
          "height": 428
        }
      },
      "cell_type": "code",
      "source": [
        "# plot the development of the accuracy and loss during training\n",
        "plt.figure(figsize=(12,4))\n",
        "plt.subplot(1,2,(1))\n",
        "plt.plot(history.history['acc'],linestyle='-.')\n",
        "plt.plot(history.history['val_acc'])\n",
        "plt.title('model accuracy')\n",
        "plt.ylabel('accuracy')\n",
        "plt.xlabel('epoch')\n",
        "plt.legend(['train', 'valid'], loc='lower right')\n",
        "plt.subplot(1,2,(2))\n",
        "plt.plot(history.history['loss'],linestyle='-.')\n",
        "plt.plot(history.history['val_loss'])\n",
        "plt.title('model loss')\n",
        "plt.ylabel('loss')\n",
        "plt.xlabel('epoch')\n",
        "plt.legend(['train', 'valid'], loc='upper right')"
      ],
      "execution_count": 8,
      "outputs": [
        {
          "output_type": "execute_result",
          "data": {
            "text/plain": [
              "<matplotlib.legend.Legend at 0x7f225577eac8>"
            ]
          },
          "metadata": {
            "tags": []
          },
          "execution_count": 8
        },
        {
          "output_type": "display_data",
          "data": {
            "image/png": "[encoded data removed]",
            "text/plain": [
              "<Figure size 1200x400 with 2 Axes>"
            ]
          },
          "metadata": {
            "tags": []
          }
        }
      ]
    },
    {
      "metadata": {
        "colab_type": "text",
        "id": "iCaoy8l4oaCW"
      },
      "cell_type": "markdown",
      "source": [
        "#### Prediction on the original test set after training on original data\n",
        "\n",
        "Now lets use the fcNN that was trained on the flattened MNIST data to predict new unseen data (our testdata).\n",
        "We determine the confusion matrix and the accuracy on the testdata to evaluate the classification performance.\n"
      ]
    },
    {
      "metadata": {
        "colab_type": "code",
        "id": "z1U4S7o5oaCY",
        "outputId": "ad43f708-abe4-420f-a3b4-9d6cd415c19a",
        "colab": {
          "base_uri": "https://localhost:8080/",
          "height": 208
        }
      },
      "cell_type": "code",
      "source": [
        "pred=model.predict(X_test_flat)\n",
        "print(confusion_matrix(np.argmax(Y_test,axis=1),np.argmax(pred,axis=1)))\n",
        "acc_fc_orig = np.sum(np.argmax(Y_test,axis=1)==np.argmax(pred,axis=1))/len(pred)\n",
        "print(\"Acc_fc_orig_flat = \" , acc_fc_orig)"
      ],
      "execution_count": 9,
      "outputs": [
        {
          "output_type": "stream",
          "text": [
            "[[ 971    0    0    1    0    3    1    1    2    1]\n",
            " [   0 1116    3    1    0    1    5    1    8    0]\n",
            " [   7    1  992    3    9    1    6    6    7    0]\n",
            " [   2    1    4  976    0    6    0   11    9    1]\n",
            " [   1    0    4    0  951    0    6    2    2   16]\n",
            " [   6    1    0    9    1  855    6    0    9    5]\n",
            " [   8    2    1    1    5    9  927    0    5    0]\n",
            " [   1    6   10    4    0    1    0  998    0    8]\n",
            " [   6    0    3    8    3    4    4    4  940    2]\n",
            " [   4    5    1   10   11    5    0    7    2  964]]\n",
            "Acc_fc_orig_flat =  0.969\n"
          ],
          "name": "stdout"
        }
      ]
    },
    {
      "metadata": {
        "colab_type": "text",
        "id": "9n6WX-ClgypT"
      },
      "cell_type": "markdown",
      "source": [
        "\n",
        "####  *We get an accuray of around 97% on the test data!*"
      ]
    },
    {
      "metadata": {
        "id": "Wv898fZgjb-Z",
        "colab_type": "text"
      },
      "cell_type": "markdown",
      "source": [
        "#### Play the deep learning game and stack more layers and change the activation function from sigmoid to relu\n",
        "<img src=\"https://raw.githubusercontent.com/tensorchiefs/dl_book/master/imgs/paper-pen.png\" width=\"60\" align=\"left\" />  \n",
        "*Exercise: Try to improve the fcNN by adding more hidden layers and/or changing the activation function from \"sigmoid\" to \"relu\". What do you observe? can you improve the performace on the testset?*\n",
        "\n"
      ]
    },
    {
      "metadata": {
        "id": "cJWBu7Troo5i",
        "colab_type": "code",
        "colab": {}
      },
      "cell_type": "code",
      "source": [
        ""
      ],
      "execution_count": 0,
      "outputs": []
    }
  ]
}