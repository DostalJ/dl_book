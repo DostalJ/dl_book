{
  "nbformat": 4,
  "nbformat_minor": 0,
  "metadata": {
    "colab": {
      "name": "nb_ch02_02a.ipynb",
      "version": "0.3.2",
      "provenance": [],
      "collapsed_sections": []
    },
    "language_info": {
      "codemirror_mode": {
        "name": "ipython",
        "version": 3
      },
      "file_extension": ".py",
      "mimetype": "text/x-python",
      "name": "python",
      "nbconvert_exporter": "python",
      "pygments_lexer": "ipython3",
      "version": "3.5.2"
    },
    "kernelspec": {
      "display_name": "Python 3",
      "language": "python",
      "name": "python3"
    },
    "accelerator": "GPU"
  },
  "cells": [
    {
      "cell_type": "markdown",
      "metadata": {
        "colab_type": "text",
        "id": "tbTYFRhJoaBu"
      },
      "source": [
        "# MNIST digit classification with a fully connected network (fcNN)\n",
        "\n",
        "\n",
        "**Goal:** In this notebook you will see how to use a fully connected networks (fcNN) in an classification task for images.\n",
        "\n",
        "**Usage:** The idea of the notebook is that you try to understand the provided code by running it, checking the output and playing with it by slightly changing the code and rerunning it. \n",
        "\n",
        "**Dataset:** You work with the MNIST dataset. We have 60'000 28x28 pixel greyscale images of digits and want to classify them into the right label (0-9).\n",
        "\n",
        "**Content:**\n",
        "* load the MNIST data \n",
        "* transform the labels into the one hot encoding\n",
        "* visualize samples of the data\n",
        "* flatten the 2D images into a 1D vector\n",
        "* use keras to train a fcNN and look at the perfomance on new unseen test data\n",
        "* use different activation functions and more hidden layers\n",
        "\n",
        "| [open in colab](https://colab.research.google.com/github/tensorchiefs/dl_book/blob/master/chapter_02/nb_ch02_02a.ipynb)\n",
        "\n"
      ]
    },
    {
      "cell_type": "markdown",
      "metadata": {
        "colab_type": "text",
        "id": "PEIS4WvpsT5t"
      },
      "source": [
        "#### Imports\n",
        "\n",
        "In the next two cells, we load all the required libraries and functions. "
      ]
    },
    {
      "cell_type": "code",
      "metadata": {
        "colab_type": "code",
        "id": "Y6S_hQX5oaBw",
        "outputId": "cab4d622-16ec-48cd-b8bb-81a3df4f446e",
        "scrolled": true,
        "colab": {
          "base_uri": "https://localhost:8080/",
          "height": 35
        }
      },
      "source": [
        "# load required libraries:\n",
        "import numpy as np\n",
        "import matplotlib.pyplot as plt\n",
        "%matplotlib inline\n",
        "plt.style.use('default')\n",
        "from sklearn.metrics import confusion_matrix\n",
        "\n",
        "import keras \n",
        "from keras.models import Sequential\n",
        "from keras.layers import Dense, Convolution2D, MaxPooling2D, Flatten , Activation\n",
        "from keras.utils import to_categorical \n",
        "from keras import optimizers\n"
      ],
      "execution_count": 0,
      "outputs": [
        {
          "output_type": "stream",
          "text": [
            "Using TensorFlow backend.\n"
          ],
          "name": "stderr"
        }
      ]
    },
    {
      "cell_type": "markdown",
      "metadata": {
        "colab_type": "text",
        "id": "4h_3TS0CtJJb"
      },
      "source": [
        "#### Loading and preparing the MNIST data and transfering the labels into the one hot encoding\n",
        "\n",
        "Here we load the MNIST dataset form keras. The 8-bit greyscale images have values form 0 to 255, we divide all values with 255 so that the values are in a range between 0 and 1. In additon we transform the true labels, which are the numbers from 0 to 9 (the digit on the image) into the one hot encoding. We do this to make use of linear algebra in the calculation of the crossentropy loss.  \n",
        "  \n",
        "The one hot encoding transforms the labels into a vector with the same length as we have labels (in our case 10). The resulting vector in the one hot encodig is zero everywhere except for the position of the true label, there it is 1. Let's look at some examples to make it more clear:  \n",
        "\n",
        "0 becomes [1,0,0,0,0,0,0,0,0,0]  \n",
        "1 becomes [0,1,0,0,0,0,0,0,0,0]  \n",
        "2 becomes [0,0,1,0,0,0,0,0,0,0]  \n",
        "...  \n",
        "9 becomes [0,0,0,0,0,0,0,0,0,1]  "
      ]
    },
    {
      "cell_type": "code",
      "metadata": {
        "colab_type": "code",
        "id": "4sZ8lqFfoaB2",
        "outputId": "09851d23-cf39-41e9-bf08-88e8ccb02ea8",
        "colab": {
          "base_uri": "https://localhost:8080/",
          "height": 156
        }
      },
      "source": [
        "from keras.datasets import mnist\n",
        "(x_train, y_train), (x_test, y_test) = mnist.load_data()\n",
        "\n",
        "# separate x_train in X_train and X_val, same for y_train\n",
        "X_train=x_train[0:50000] / 255 #divide by 255 so that they are in range 0 to 1\n",
        "Y_train=keras.utils.to_categorical(y_train[0:50000],10) # one-hot encoding\n",
        "\n",
        "X_val=x_train[50000:60000] / 255\n",
        "Y_val=keras.utils.to_categorical(y_train[50000:60000],10)\n",
        "\n",
        "X_test=x_test / 255\n",
        "Y_test=keras.utils.to_categorical(y_test,10)\n",
        "\n",
        "del x_train, y_train, x_test, y_test\n",
        "\n",
        "X_train=np.reshape(X_train, (X_train.shape[0],28,28,1))\n",
        "X_val=np.reshape(X_val, (X_val.shape[0],28,28,1))\n",
        "X_test=np.reshape(X_test, (X_test.shape[0],28,28,1))\n",
        "\n",
        "print(X_train.shape)\n",
        "print(X_val.shape)\n",
        "print(X_test.shape)\n",
        "print(Y_train.shape)\n",
        "print(Y_val.shape)\n",
        "print(Y_test.shape)"
      ],
      "execution_count": 0,
      "outputs": [
        {
          "output_type": "stream",
          "text": [
            "Downloading data from https://s3.amazonaws.com/img-datasets/mnist.npz\n",
            "11493376/11490434 [==============================] - 11s 1us/step\n",
            "(50000, 28, 28, 1)\n",
            "(10000, 28, 28, 1)\n",
            "(10000, 28, 28, 1)\n",
            "(50000, 10)\n",
            "(10000, 10)\n",
            "(10000, 10)\n"
          ],
          "name": "stdout"
        }
      ]
    },
    {
      "cell_type": "markdown",
      "metadata": {
        "colab_type": "text",
        "id": "3ly7CrHtLUP9"
      },
      "source": [
        "Let's visualize the first 4 mnist images. It is very easy to recognise the true label of the digits."
      ]
    },
    {
      "cell_type": "code",
      "metadata": {
        "colab_type": "code",
        "id": "c4gUgwGUeftF",
        "outputId": "ea5d3d1a-1bc9-4f1f-e2a8-64cb4d04a2b6",
        "colab": {
          "base_uri": "https://localhost:8080/",
          "height": 285
        }
      },
      "source": [
        "# visualize the 4 first mnist images before shuffling the pixels\n",
        "plt.figure(figsize=(12,12))\n",
        "for i in range(0,4):\n",
        "    plt.subplot(1,4,(i+1))\n",
        "    plt.imshow((X_train[i,:,:,0]),cmap=\"gray\")\n",
        "    plt.title('true label: '+np.str(np.argmax(Y_train,axis=1)[i]))\n",
        "    #plt.axis('off')"
      ],
      "execution_count": 0,
      "outputs": [
        {
          "output_type": "display_data",
          "data": {
            "image/png": "[encoded data removed]",
            "text/plain": [
              "<Figure size 864x864 with 4 Axes>"
            ]
          },
          "metadata": {
            "tags": []
          }
        }
      ]
    },
    {
      "cell_type": "markdown",
      "metadata": {
        "colab_type": "text",
        "id": "trSndjWX4HO7"
      },
      "source": [
        "## fcNN as classification model for MNIST data\n",
        "Now we want to train a fcNN to classify the MNIST data.\n",
        "* we use a fcNN with 2 hidden layers and use the sigmoid activation function\n",
        "* train it on train data and check the performance on the test data"
      ]
    },
    {
      "cell_type": "markdown",
      "metadata": {
        "colab_type": "text",
        "id": "LB_m8HJaOMsY"
      },
      "source": [
        "\n",
        "#### Flatten the the images into vectors\n",
        "\n",
        "Because we will use fcNN our input cannot be matrices or tensors. We need to flatten our inuput into a 1d vector. We do this in the next cell with reshap and look at the resulting shape of the flattened data."
      ]
    },
    {
      "cell_type": "code",
      "metadata": {
        "colab_type": "code",
        "id": "CoSUhNzRfbj4",
        "outputId": "cb1b837a-feb4-4652-b3ee-9516b79018fe",
        "colab": {
          "base_uri": "https://localhost:8080/",
          "height": 87
        }
      },
      "source": [
        "# prepare data for fcNN - we need a vector as input\n",
        "\n",
        "X_train_flat = X_train.reshape([X_train.shape[0], 784])\n",
        "X_val_flat = X_val.reshape([X_val.shape[0], 784])\n",
        "X_test_flat = X_test.reshape([X_test.shape[0], 784])\n",
        "\n",
        "# check the shape\n",
        "print(X_train_flat.shape)\n",
        "print(Y_train.shape)\n",
        "print(X_val_flat.shape)\n",
        "print(Y_val.shape)"
      ],
      "execution_count": 0,
      "outputs": [
        {
          "output_type": "stream",
          "text": [
            "(50000, 784)\n",
            "(50000, 10)\n",
            "(10000, 784)\n",
            "(10000, 10)\n"
          ],
          "name": "stdout"
        }
      ]
    },
    {
      "cell_type": "markdown",
      "metadata": {
        "colab_type": "text",
        "id": "uOYYJFOh62qC"
      },
      "source": [
        "### Train the fcNN "
      ]
    },
    {
      "cell_type": "markdown",
      "metadata": {
        "colab_type": "text",
        "id": "bulk0OpFOpeO"
      },
      "source": [
        "Here we define the nework, we use two hidden layers with 100 and 50 nodes. In the output we predict the probability for the 10 digits with the softmax actication function, in the hidden layers we use the sigmoid activation function and our loss is the categroical crossentropy loss."
      ]
    },
    {
      "cell_type": "code",
      "metadata": {
        "colab_type": "code",
        "id": "EAispBe0oaCH",
        "colab": {}
      },
      "source": [
        "# define fcNN with 2 hidden layers\n",
        "model = Sequential()\n",
        "\n",
        "model.add(Dense(100, batch_input_shape=(None, 784)))\n",
        "model.add(Activation('sigmoid'))\n",
        "model.add(Dense(50))\n",
        "model.add(Activation('sigmoid'))\n",
        "model.add(Dense(10))\n",
        "model.add(Activation('softmax'))\n",
        "\n",
        "# compile model and intitialize weights\n",
        "model.compile(loss='categorical_crossentropy',\n",
        "              optimizer='adam',\n",
        "              metrics=['accuracy'])"
      ],
      "execution_count": 0,
      "outputs": []
    },
    {
      "cell_type": "code",
      "metadata": {
        "colab_type": "code",
        "id": "7xfW6yzqoaCK",
        "outputId": "6c008532-47bb-46ea-910b-8c5e80222777",
        "colab": {
          "base_uri": "https://localhost:8080/",
          "height": 347
        }
      },
      "source": [
        "# summarize model along with number of model weights\n",
        "model.summary()"
      ],
      "execution_count": 0,
      "outputs": [
        {
          "output_type": "stream",
          "text": [
            "_________________________________________________________________\n",
            "Layer (type)                 Output Shape              Param #   \n",
            "=================================================================\n",
            "dense_1 (Dense)              (None, 100)               78500     \n",
            "_________________________________________________________________\n",
            "activation_1 (Activation)    (None, 100)               0         \n",
            "_________________________________________________________________\n",
            "dense_2 (Dense)              (None, 50)                5050      \n",
            "_________________________________________________________________\n",
            "activation_2 (Activation)    (None, 50)                0         \n",
            "_________________________________________________________________\n",
            "dense_3 (Dense)              (None, 10)                510       \n",
            "_________________________________________________________________\n",
            "activation_3 (Activation)    (None, 10)                0         \n",
            "=================================================================\n",
            "Total params: 84,060\n",
            "Trainable params: 84,060\n",
            "Non-trainable params: 0\n",
            "_________________________________________________________________\n"
          ],
          "name": "stdout"
        }
      ]
    },
    {
      "cell_type": "code",
      "metadata": {
        "colab_type": "code",
        "id": "mhvTpCtfoaCQ",
        "outputId": "2916e802-fafb-46ba-b8f1-dea3a93411e6",
        "colab": {
          "base_uri": "https://localhost:8080/",
          "height": 381
        }
      },
      "source": [
        "# train the model\n",
        "history=model.fit(X_train_flat, Y_train, \n",
        "                  batch_size=128, \n",
        "                  epochs=10,\n",
        "                  verbose=2, \n",
        "                  validation_data=(X_val_flat, Y_val)\n",
        "                 )"
      ],
      "execution_count": 0,
      "outputs": [
        {
          "output_type": "stream",
          "text": [
            "Train on 50000 samples, validate on 10000 samples\n",
            "Epoch 1/10\n",
            " - 1s - loss: 0.9545 - acc: 0.7951 - val_loss: 0.3814 - val_acc: 0.9095\n",
            "Epoch 2/10\n",
            " - 1s - loss: 0.3247 - acc: 0.9147 - val_loss: 0.2465 - val_acc: 0.9331\n",
            "Epoch 3/10\n",
            " - 1s - loss: 0.2389 - acc: 0.9336 - val_loss: 0.1986 - val_acc: 0.9459\n",
            "Epoch 4/10\n",
            " - 1s - loss: 0.1944 - acc: 0.9451 - val_loss: 0.1696 - val_acc: 0.9539\n",
            "Epoch 5/10\n",
            " - 1s - loss: 0.1633 - acc: 0.9533 - val_loss: 0.1494 - val_acc: 0.9591\n",
            "Epoch 6/10\n",
            " - 1s - loss: 0.1396 - acc: 0.9601 - val_loss: 0.1361 - val_acc: 0.9621\n",
            "Epoch 7/10\n",
            " - 1s - loss: 0.1207 - acc: 0.9652 - val_loss: 0.1266 - val_acc: 0.9635\n",
            "Epoch 8/10\n",
            " - 1s - loss: 0.1052 - acc: 0.9702 - val_loss: 0.1150 - val_acc: 0.9661\n",
            "Epoch 9/10\n",
            " - 1s - loss: 0.0923 - acc: 0.9737 - val_loss: 0.1048 - val_acc: 0.9706\n",
            "Epoch 10/10\n",
            " - 1s - loss: 0.0813 - acc: 0.9769 - val_loss: 0.0987 - val_acc: 0.9716\n"
          ],
          "name": "stdout"
        }
      ]
    },
    {
      "cell_type": "markdown",
      "metadata": {
        "colab_type": "text",
        "id": "HvOuOKc01bqS"
      },
      "source": [
        "In the next cell we plot the accuray and loss of the train and validation vs the number of train eprochs to see how the development"
      ]
    },
    {
      "cell_type": "code",
      "metadata": {
        "colab_type": "code",
        "id": "t39HSiHcoaCT",
        "outputId": "6c4b1ffd-af9b-4108-d66f-0317cf34a39a",
        "colab": {
          "base_uri": "https://localhost:8080/",
          "height": 428
        }
      },
      "source": [
        "# plot the development of the accuracy and loss during training\n",
        "plt.figure(figsize=(12,4))\n",
        "plt.subplot(1,2,(1))\n",
        "plt.plot(history.history['acc'],linestyle='-.')\n",
        "plt.plot(history.history['val_acc'])\n",
        "plt.title('model accuracy')\n",
        "plt.ylabel('accuracy')\n",
        "plt.xlabel('epoch')\n",
        "plt.legend(['train', 'valid'], loc='lower right')\n",
        "plt.subplot(1,2,(2))\n",
        "plt.plot(history.history['loss'],linestyle='-.')\n",
        "plt.plot(history.history['val_loss'])\n",
        "plt.title('model loss')\n",
        "plt.ylabel('loss')\n",
        "plt.xlabel('epoch')\n",
        "plt.legend(['train', 'valid'], loc='upper right')"
      ],
      "execution_count": 0,
      "outputs": [
        {
          "output_type": "execute_result",
          "data": {
            "text/plain": [
              "<matplotlib.legend.Legend at 0x7f67f33ddcc0>"
            ]
          },
          "metadata": {
            "tags": []
          },
          "execution_count": 8
        },
        {
          "output_type": "display_data",
          "data": {
            "image/png": "[encoded data removed]",
            "text/plain": [
              "<Figure size 864x288 with 2 Axes>"
            ]
          },
          "metadata": {
            "tags": []
          }
        }
      ]
    },
    {
      "cell_type": "markdown",
      "metadata": {
        "colab_type": "text",
        "id": "iCaoy8l4oaCW"
      },
      "source": [
        "#### Prediction on the original test set after training on original data\n",
        "\n",
        "Now, let's use the fcNN that was trained on the flattened MNIST data to predict new unseen data (our testdata).\n",
        "We determine the confusion matrix and the accuracy on the testdata to evaluate the classification performance.\n"
      ]
    },
    {
      "cell_type": "code",
      "metadata": {
        "colab_type": "code",
        "id": "z1U4S7o5oaCY",
        "outputId": "ad43f708-abe4-420f-a3b4-9d6cd415c19a",
        "colab": {
          "base_uri": "https://localhost:8080/",
          "height": 208
        }
      },
      "source": [
        "pred=model.predict(X_test_flat)\n",
        "print(confusion_matrix(np.argmax(Y_test,axis=1),np.argmax(pred,axis=1)))\n",
        "acc_fc_orig = np.sum(np.argmax(Y_test,axis=1)==np.argmax(pred,axis=1))/len(pred)\n",
        "print(\"Acc_fc_orig_flat = \" , acc_fc_orig)"
      ],
      "execution_count": 0,
      "outputs": [
        {
          "output_type": "stream",
          "text": [
            "[[ 972    0    1    1    0    1    2    1    1    1]\n",
            " [   0 1120    1    2    0    1    4    2    4    1]\n",
            " [   6    2  993    5    3    1    4    8   10    0]\n",
            " [   0    0    6  984    0    5    0    7    4    4]\n",
            " [   1    0    5    0  955    0    3    2    2   14]\n",
            " [   6    1    0    8    1  855    9    2    5    5]\n",
            " [   8    3    2    1    3    6  930    0    5    0]\n",
            " [   2    3   10    4    0    0    0  998    0   11]\n",
            " [   6    1    3   12    5    5    6    8  927    1]\n",
            " [   5    3    0    9   15    7    0   10    2  958]]\n",
            "Acc_fc_orig_flat =  0.9692\n"
          ],
          "name": "stdout"
        }
      ]
    },
    {
      "cell_type": "markdown",
      "metadata": {
        "colab_type": "text",
        "id": "9n6WX-ClgypT"
      },
      "source": [
        "\n",
        "####  *We get an accuray of around 97% on the test data!*"
      ]
    },
    {
      "cell_type": "markdown",
      "metadata": {
        "colab_type": "text",
        "id": "Wv898fZgjb-Z"
      },
      "source": [
        "#### Play the deep learning game and stack more layers and change the activation function from sigmoid to relu\n",
        "<img src=\"https://raw.githubusercontent.com/tensorchiefs/dl_book/master/imgs/paper-pen.png\" width=\"60\" align=\"left\" />  \n",
        "*Exercise: Try to improve the fcNN by adding more hidden layers and/or changing the activation function from \"sigmoid\" to \"relu\". What do you observe? can you improve the performace on the testset?*\n",
        "\n"
      ]
    },
    {
      "cell_type": "code",
      "metadata": {
        "colab_type": "code",
        "id": "cJWBu7Troo5i",
        "colab": {}
      },
      "source": [
        ""
      ],
      "execution_count": 0,
      "outputs": []
    }
  ]
}