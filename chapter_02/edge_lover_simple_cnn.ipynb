{
  "nbformat": 4,
  "nbformat_minor": 0,
  "metadata": {
    "colab": {
      "name": "edge-lover-simple-cnn.ipynb",
      "version": "0.3.2",
      "provenance": [],
      "collapsed_sections": []
    },
    "kernelspec": {
      "name": "python3",
      "display_name": "Python 3"
    },
    "accelerator": "TPU"
  },
  "cells": [
    {
      "metadata": {
        "id": "TXomXj06My2D",
        "colab_type": "text"
      },
      "cell_type": "markdown",
      "source": [
        "### this notebook is under construction"
      ]
    },
    {
      "metadata": {
        "id": "4K8Ug6ICkRtQ",
        "colab_type": "text"
      },
      "cell_type": "markdown",
      "source": [
        "# A simple CNN for the edge lover task\n",
        "\n",
        "\n",
        "In this notebook you train a very simple CNN with only 1 kernel to discriminate between images containing vertical or horizontal edges. To check what pattern is recognized by the learned kernel you will visualize the weights of the kernel as an image. You can experiment with the code to check the influence of the kernel size, the activation function and the pooling method on the result.\n",
        "\n",
        "The first section contains code to simulate some images containing either vertical or horizontal edges.  You need to execute it and then go directly to the CNN part.\n",
        "\n",
        "<a href=\"https://colab.research.google.com/github/tensorchiefs/dl_book/blob/master/chapter_02/edge-lover-simple-cnn.ipynb\"> <img src=\"https://colab.research.google.com/assets/colab-badge.svg\" alt=\"open in colab\">\n",
        "</a>\n",
        "| [open in colab](https://colab.research.google.com/github/tensorchiefs/dl_book/blob/master/chapter_02/edge-lover-simple-cnn.ipynb)"
      ]
    },
    {
      "metadata": {
        "id": "eiB8bJNYn8oP",
        "colab_type": "text"
      },
      "cell_type": "markdown",
      "source": [
        "### Loading the required libraries"
      ]
    },
    {
      "metadata": {
        "id": "2PDLAWRQ7iUB",
        "colab_type": "code",
        "colab": {
          "base_uri": "https://localhost:8080/",
          "height": 34
        },
        "outputId": "03b40d17-c2ed-4405-996f-d18edb84d782"
      },
      "cell_type": "code",
      "source": [
        "import numpy as np\n",
        "import matplotlib.pyplot as plt\n",
        "%matplotlib inline\n",
        "import skimage.draw\n",
        "\n",
        "import keras\n",
        "from keras.models import Sequential\n",
        "from keras.layers import Dense, Activation\n",
        "from keras.layers import Convolution2D, MaxPooling2D, Flatten, AveragePooling2D\n",
        "from keras.utils  import to_categorical"
      ],
      "execution_count": 1,
      "outputs": [
        {
          "output_type": "stream",
          "text": [
            "Using TensorFlow backend.\n"
          ],
          "name": "stderr"
        }
      ]
    },
    {
      "metadata": {
        "id": "Oq0FNqcBpj23",
        "colab_type": "text"
      },
      "cell_type": "markdown",
      "source": [
        "### Defining functions to simulate images "
      ]
    },
    {
      "metadata": {
        "id": "nqVBlR8yAO9c",
        "colab_type": "code",
        "colab": {}
      },
      "cell_type": "code",
      "source": [
        "def genearte_image_with_bars_vertical(size,bar_nr):\n",
        "  img=np.zeros((size,size,1),dtype=\"uint8\")\n",
        "  for i in range(0,bar_nr):\n",
        "    x,y = np.random.randint(0,size,2)\n",
        "    l  = np.int(np.random.randint(y,size,1))\n",
        "    img[y:l,x,0]=255\n",
        "  return img  "
      ],
      "execution_count": 0,
      "outputs": []
    },
    {
      "metadata": {
        "id": "AQKTxixVXATd",
        "colab_type": "code",
        "colab": {}
      },
      "cell_type": "code",
      "source": [
        "def genearte_image_with_bars_horizontal(size,bar_nr):\n",
        "  img=np.zeros((size,size,1),dtype=\"uint8\")\n",
        "  for i in range(0,bar_nr):\n",
        "    x,y = np.random.randint(0,size,2)\n",
        "    l  = np.int(np.random.randint(y,size,1))\n",
        "    img[x,y:l,0]=255\n",
        "  return img  "
      ],
      "execution_count": 0,
      "outputs": []
    },
    {
      "metadata": {
        "id": "EccLz0FlXGuU",
        "colab_type": "code",
        "outputId": "493b6153-30a0-4205-83f9-1bbde967b7f2",
        "colab": {
          "base_uri": "https://localhost:8080/",
          "height": 267
        }
      },
      "cell_type": "code",
      "source": [
        "# have a look on a generated image\n",
        "img=genearte_image_with_bars_horizontal(40,5)\n",
        "plt.imshow(img[:,:,0],cmap='gray')\n",
        "plt.show()"
      ],
      "execution_count": 4,
      "outputs": [
        {
          "output_type": "display_data",
          "data": {
            "image/png": "[encoded data removed]",
            "text/plain": [
              "<matplotlib.figure.Figure at 0x7f5a032a8c88>"
            ]
          },
          "metadata": {
            "tags": []
          }
        }
      ]
    },
    {
      "metadata": {
        "id": "63omuptEILKu",
        "colab_type": "code",
        "outputId": "3ef8d7ea-14be-478a-a117-340ea9510fa9",
        "colab": {
          "base_uri": "https://localhost:8080/",
          "height": 34
        }
      },
      "cell_type": "code",
      "source": [
        "pixel=50  # define width and height of images\n",
        "\n",
        "# generate train data with vertical edges\n",
        "x_train_1=np.zeros((1000,pixel,pixel,1))\n",
        "for i in range(0,len(x_train_1)):\n",
        "   x_train_1[i]=genearte_image_with_bars_vertical(pixel,10)\n",
        "\n",
        "# generate validation data with vertical edges\n",
        "x_val_1=np.zeros((1000,pixel,pixel,1))\n",
        "for i in range(0,len(x_val_1)):\n",
        "   x_val_1[i]=genearte_image_with_bars_vertical(pixel,10)\n",
        "    \n",
        "# generate train data with horizontal edges\n",
        "x_train_2=np.zeros((1000,pixel,pixel,1))\n",
        "for i in range(0,len(x_train_2)):\n",
        "   x_train_2[i]=genearte_image_with_bars_horizontal(pixel,10)\n",
        "    \n",
        "# generate validation data with horizontal edges\n",
        "x_val_2=np.zeros((1000,pixel,pixel,1))\n",
        "for i in range(0,len(x_val_2)):\n",
        "   x_val_2[i]=genearte_image_with_bars_horizontal(pixel,10)\n",
        "    \n",
        "X_train = np.concatenate([x_train_1,x_train_2],axis=0)\n",
        "X_val = np.concatenate([x_val_1,x_val_2],axis=0)\n",
        "\n",
        "# here we scale the data to be between -1 and 1\n",
        "X_train=((X_train/255)-0.5)*2\n",
        "X_val=((X_val/255)-0.5)*2\n",
        "\n",
        "X_train.shape\n"
      ],
      "execution_count": 5,
      "outputs": [
        {
          "output_type": "execute_result",
          "data": {
            "text/plain": [
              "(2000, 50, 50, 1)"
            ]
          },
          "metadata": {
            "tags": []
          },
          "execution_count": 5
        }
      ]
    },
    {
      "metadata": {
        "id": "v-MMlC62vH1j",
        "colab_type": "code",
        "outputId": "6a368df9-c370-49c3-d87e-2853d933c9d2",
        "colab": {
          "base_uri": "https://localhost:8080/",
          "height": 518
        }
      },
      "cell_type": "code",
      "source": [
        "# visualize an image example with horizontal and vertical edges\n",
        "plt.imshow(X_val[1001,:,:,0], cmap=\"gray\")\n",
        "plt.show()\n",
        "plt.imshow(X_train[0,:,:,0], cmap=\"gray\")\n",
        "plt.show()"
      ],
      "execution_count": 6,
      "outputs": [
        {
          "output_type": "display_data",
          "data": {
            "image/png": "[encoded data removed]",
            "text/plain": [
              "<matplotlib.figure.Figure at 0x7f5a032d7630>"
            ]
          },
          "metadata": {
            "tags": []
          }
        },
        {
          "output_type": "display_data",
          "data": {
            "image/png": "[encoded data removed]",
            "text/plain": [
              "<matplotlib.figure.Figure at 0x7f5a009c3240>"
            ]
          },
          "metadata": {
            "tags": []
          }
        }
      ]
    },
    {
      "metadata": {
        "id": "41-L5hM8S_ZP",
        "colab_type": "code",
        "colab": {}
      },
      "cell_type": "code",
      "source": [
        "# create class labels\n",
        "y = np.array([[0],[1]])\n",
        "Y_train = np.repeat(y, 1000)\n",
        "Y_val = np.repeat(y, 1000)\n",
        "\n",
        "# one-hot-encoding\n",
        "Y_train=to_categorical(Y_train,2)\n",
        "Y_val=to_categorical(Y_val,2)"
      ],
      "execution_count": 0,
      "outputs": []
    },
    {
      "metadata": {
        "id": "uZpr0h-VvatF",
        "colab_type": "text"
      },
      "cell_type": "markdown",
      "source": [
        "## Defining the CNN\n",
        "\n",
        "We use keras to define a CNN with only one convoultional layer that hold only 1 neuron."
      ]
    },
    {
      "metadata": {
        "id": "1Dfg1h2rUifd",
        "colab_type": "code",
        "colab": {}
      },
      "cell_type": "code",
      "source": [
        "model = Sequential()\n",
        "\n",
        "model.add(Convolution2D(1,(5,5),padding='same',input_shape=(pixel,pixel,1)))\n",
        "model.add(Activation('linear'))\n",
        "# take the max over all values in the activation map\n",
        "model.add(MaxPooling2D(pool_size=(pixel,pixel)))\n",
        "model.add(Flatten()) \n",
        "model.add(Dense(2))\n",
        "model.add(Activation('softmax'))\n",
        "\n",
        "# compile model and initialize weights\n",
        "model.compile(loss='categorical_crossentropy',\n",
        "              optimizer='adam',\n",
        "              metrics=['accuracy'])\n"
      ],
      "execution_count": 0,
      "outputs": []
    },
    {
      "metadata": {
        "id": "r6eqV0TRU0_n",
        "colab_type": "code",
        "outputId": "9705326d-0944-4c53-9de4-32092139834c",
        "colab": {
          "base_uri": "https://localhost:8080/",
          "height": 336
        }
      },
      "cell_type": "code",
      "source": [
        "# let's summarize the CNN architectures along with the number of model weights\n",
        "model.summary()\n"
      ],
      "execution_count": 9,
      "outputs": [
        {
          "output_type": "stream",
          "text": [
            "_________________________________________________________________\n",
            "Layer (type)                 Output Shape              Param #   \n",
            "=================================================================\n",
            "conv2d_1 (Conv2D)            (None, 50, 50, 1)         26        \n",
            "_________________________________________________________________\n",
            "activation_1 (Activation)    (None, 50, 50, 1)         0         \n",
            "_________________________________________________________________\n",
            "max_pooling2d_1 (MaxPooling2 (None, 1, 1, 1)           0         \n",
            "_________________________________________________________________\n",
            "flatten_1 (Flatten)          (None, 1)                 0         \n",
            "_________________________________________________________________\n",
            "dense_1 (Dense)              (None, 2)                 4         \n",
            "_________________________________________________________________\n",
            "activation_2 (Activation)    (None, 2)                 0         \n",
            "=================================================================\n",
            "Total params: 30\n",
            "Trainable params: 30\n",
            "Non-trainable params: 0\n",
            "_________________________________________________________________\n"
          ],
          "name": "stdout"
        }
      ]
    },
    {
      "metadata": {
        "id": "Sc-BYd8kVCx0",
        "colab_type": "code",
        "outputId": "f7a4c12e-b53e-427e-862e-a9afe85920ee",
        "colab": {
          "base_uri": "https://localhost:8080/",
          "height": 538
        }
      },
      "cell_type": "code",
      "source": [
        "# train the model\n",
        "history=model.fit(X_train, Y_train,\n",
        "                  validation_data=(X_val,Y_val),\n",
        "                  batch_size=64, \n",
        "                  epochs=15,\n",
        "                  verbose=1,\n",
        "                  shuffle=True) "
      ],
      "execution_count": 10,
      "outputs": [
        {
          "output_type": "stream",
          "text": [
            "Train on 2000 samples, validate on 2000 samples\n",
            "Epoch 1/15\n",
            "2000/2000 [==============================] - 5s 3ms/step - loss: 0.7531 - acc: 0.5000 - val_loss: 0.7184 - val_acc: 0.5000\n",
            "Epoch 2/15\n",
            "2000/2000 [==============================] - 4s 2ms/step - loss: 0.7001 - acc: 0.5000 - val_loss: 0.6843 - val_acc: 0.5000\n",
            "Epoch 3/15\n",
            "2000/2000 [==============================] - 4s 2ms/step - loss: 0.6763 - acc: 0.5000 - val_loss: 0.6683 - val_acc: 0.5000\n",
            "Epoch 4/15\n",
            "2000/2000 [==============================] - 5s 2ms/step - loss: 0.6631 - acc: 0.5000 - val_loss: 0.6558 - val_acc: 0.5000\n",
            "Epoch 5/15\n",
            "2000/2000 [==============================] - 5s 2ms/step - loss: 0.6493 - acc: 0.5000 - val_loss: 0.6404 - val_acc: 0.5000\n",
            "Epoch 6/15\n",
            "2000/2000 [==============================] - 4s 2ms/step - loss: 0.6314 - acc: 0.5000 - val_loss: 0.6192 - val_acc: 0.5000\n",
            "Epoch 7/15\n",
            "2000/2000 [==============================] - 4s 2ms/step - loss: 0.6070 - acc: 0.5165 - val_loss: 0.5911 - val_acc: 0.5920\n",
            "Epoch 8/15\n",
            "2000/2000 [==============================] - 4s 2ms/step - loss: 0.5751 - acc: 0.6590 - val_loss: 0.5553 - val_acc: 0.8965\n",
            "Epoch 9/15\n",
            "2000/2000 [==============================] - 4s 2ms/step - loss: 0.5344 - acc: 0.9370 - val_loss: 0.5070 - val_acc: 0.9775\n",
            "Epoch 10/15\n",
            "2000/2000 [==============================] - 4s 2ms/step - loss: 0.4809 - acc: 0.9840 - val_loss: 0.4513 - val_acc: 0.9930\n",
            "Epoch 11/15\n",
            "2000/2000 [==============================] - 4s 2ms/step - loss: 0.4274 - acc: 0.9925 - val_loss: 0.4003 - val_acc: 0.9980\n",
            "Epoch 12/15\n",
            "2000/2000 [==============================] - 4s 2ms/step - loss: 0.3792 - acc: 0.9945 - val_loss: 0.3555 - val_acc: 0.9985\n",
            "Epoch 13/15\n",
            "2000/2000 [==============================] - 4s 2ms/step - loss: 0.3376 - acc: 0.9955 - val_loss: 0.3169 - val_acc: 0.9990\n",
            "Epoch 14/15\n",
            "2000/2000 [==============================] - 4s 2ms/step - loss: 0.3016 - acc: 0.9985 - val_loss: 0.2833 - val_acc: 0.9990\n",
            "Epoch 15/15\n",
            "2000/2000 [==============================] - 4s 2ms/step - loss: 0.2701 - acc: 0.9985 - val_loss: 0.2537 - val_acc: 0.9990\n"
          ],
          "name": "stdout"
        }
      ]
    },
    {
      "metadata": {
        "id": "fK_AAAoiQtlc",
        "colab_type": "code",
        "outputId": "0fedf99c-d6ef-4cc6-d6f2-6121b66b34db",
        "colab": {
          "base_uri": "https://localhost:8080/",
          "height": 570
        }
      },
      "cell_type": "code",
      "source": [
        "# summarize development of accuracy and loss during training\n",
        "plt.plot(history.history['acc'])\n",
        "plt.plot(history.history['val_acc'])\n",
        "plt.title('model accuracy')\n",
        "plt.ylabel('accuracy')\n",
        "plt.xlabel('epoch')\n",
        "plt.legend(['train', 'valid'], loc='lower right')\n",
        "plt.show()\n",
        "plt.plot(history.history['loss'])\n",
        "plt.plot(history.history['val_loss'])\n",
        "plt.title('model loss')\n",
        "plt.ylabel('loss')\n",
        "plt.xlabel('epoch')\n",
        "plt.legend(['train', 'valid'], loc='upper right')\n",
        "plt.show()"
      ],
      "execution_count": 11,
      "outputs": [
        {
          "output_type": "display_data",
          "data": {
            "image/png": "[encoded data removed]",
            "text/plain": [
              "<matplotlib.figure.Figure at 0x7f59fcde8d68>"
            ]
          },
          "metadata": {
            "tags": []
          }
        },
        {
          "output_type": "display_data",
          "data": {
            "image/png": "[encoded data removed]",
            "text/plain": [
              "<matplotlib.figure.Figure at 0x7f5a009d11d0>"
            ]
          },
          "metadata": {
            "tags": []
          }
        }
      ]
    },
    {
      "metadata": {
        "id": "uOwR3Esbw8eN",
        "colab_type": "text"
      },
      "cell_type": "markdown",
      "source": [
        "### Visualize the learned kernel and experiment with the code\n",
        "\n",
        "You can now check which pattern is recognized by the learned kernel and see if you think that this is helpful to distinguish between images with horizontal and vertical edges. Repeat the compiling and training for several times and check if the CNN always learns the same kernel. \n",
        "\n",
        "You can experiment with the code and check what happens if you use another kernel size, activation function (relu instead of linear ) or pooling method AveragePooling instead of MaxPooling. Try to make a prediction before doing the experiment."
      ]
    },
    {
      "metadata": {
        "id": "pl1yuAddVRnE",
        "colab_type": "code",
        "outputId": "9280962c-f904-4d0d-b0c1-e81681bb1902",
        "colab": {
          "base_uri": "https://localhost:8080/",
          "height": 282
        }
      },
      "cell_type": "code",
      "source": [
        "# get the leared weights and display them as image\n",
        "conv_filter=model.get_weights()[0]\n",
        "conv_filter.shape\n",
        "conv_filter=np.squeeze(conv_filter, axis=2)\n",
        "conv_filter.shape\n",
        "plt.imshow(conv_filter[:,:,0],cmap=\"gray\")"
      ],
      "execution_count": 12,
      "outputs": [
        {
          "output_type": "execute_result",
          "data": {
            "text/plain": [
              "<matplotlib.image.AxesImage at 0x7f59fcd021d0>"
            ]
          },
          "metadata": {
            "tags": []
          },
          "execution_count": 12
        },
        {
          "output_type": "display_data",
          "data": {
            "image/png": "[encoded data removed]",
            "text/plain": [
              "<matplotlib.figure.Figure at 0x7f59fcde8208>"
            ]
          },
          "metadata": {
            "tags": []
          }
        }
      ]
    },
    {
      "metadata": {
        "id": "CY5B-vvGLx8g",
        "colab_type": "code",
        "colab": {}
      },
      "cell_type": "code",
      "source": [
        ""
      ],
      "execution_count": 0,
      "outputs": []
    }
  ]
}