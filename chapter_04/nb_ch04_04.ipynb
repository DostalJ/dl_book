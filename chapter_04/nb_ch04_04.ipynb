{
 "cells": [
  {
   "cell_type": "markdown",
   "metadata": {
    "colab_type": "text",
    "id": "IckpDJSeOoFS"
   },
   "source": [
    "# TODO Notebook under construction\n",
    "\n",
    "# Calculation of the loss function for regression\n",
    "\n",
    "\n",
    "**Goal:** .\n",
    "\n",
    "\n",
    "**Usage:** . \n",
    "\n",
    "**Dataset:** Artificial.\n",
    "\n",
    "**Content:**\n",
    "* \n",
    "* \n",
    "* \n",
    "\n",
    "\n",
    "| [open in colab](https://colab.research.google.com/github/tensorchiefs/dl_book/blob/master/chapter_04/nb_ch04_04.ipynb)\n",
    "\n"
   ]
  },
  {
   "cell_type": "code",
   "execution_count": 1,
   "metadata": {
    "colab": {
     "base_uri": "https://localhost:8080/",
     "height": 35
    },
    "colab_type": "code",
    "id": "wXx-oXP3c5Qo",
    "outputId": "c4502610-356b-4410-838a-679c1e1a3fc4"
   },
   "outputs": [
    {
     "data": {
      "text/plain": [
       "'2.0.0-alpha0'"
      ]
     },
     "execution_count": 1,
     "metadata": {},
     "output_type": "execute_result"
    }
   ],
   "source": [
    "#load required libraries:\n",
    "import numpy as np\n",
    "import matplotlib.pyplot as plt\n",
    "%matplotlib inline\n",
    "plt.style.use('default')\n",
    "import numpy as np\n",
    "\n",
    "import tensorflow as tf\n",
    "\n",
    "from tensorflow.keras.models import Sequential\n",
    "from tensorflow.keras.layers import Dense, Convolution2D, MaxPooling2D, Flatten , Activation\n",
    "from tensorflow.keras import optimizers\n",
    "\n",
    "tf.__version__"
   ]
  },
  {
   "cell_type": "code",
   "execution_count": 2,
   "metadata": {
    "colab": {
     "base_uri": "https://localhost:8080/",
     "height": 473
    },
    "colab_type": "code",
    "id": "M_TLELogc53W",
    "outputId": "adb1ca67-5890-49d3-cc74-7d97609b07bd"
   },
   "outputs": [
    {
     "data": {
      "image/png": "[encoded data removed]",
      "text/plain": [
       "<Figure size 432x288 with 1 Axes>"
      ]
     },
     "metadata": {
      "needs_background": "light"
     },
     "output_type": "display_data"
    }
   ],
   "source": [
    "## Simulate some data \n",
    "np.random.seed(32)\n",
    "n = 300\n",
    "x = np.linspace(0,1*2*np.pi,n)\n",
    "y1 = 3*np.sin(x)\n",
    "y1 = np.concatenate((np.zeros(60), y1+np.random.normal(0,0.15*np.abs(y1),n),np.zeros(60)))\n",
    "x=np.concatenate((np.linspace(-3,0,60),np.linspace(0,3*2*np.pi,n),np.linspace(3*2*np.pi,3*2*np.pi+3,60)))\n",
    "y2 = 0.1*x+1\n",
    "y=y1+y2\n",
    "plt.scatter(x=x,y=y,marker='o')\n",
    "plt.title(\"simulated data\")\n",
    "plt.xlabel(\"x\")\n",
    "plt.ylabel(\"y\")\n",
    "n=len(x)"
   ]
  },
  {
   "cell_type": "code",
   "execution_count": 3,
   "metadata": {
    "colab": {
     "base_uri": "https://localhost:8080/",
     "height": 89
    },
    "colab_type": "code",
    "id": "553ybn8J3qCK",
    "outputId": "0ac6f4ed-9641-4d24-cb75-3447d0a87e92"
   },
   "outputs": [],
   "source": [
    "model = Sequential()\n",
    "model.add(Dense(1, activation='linear',batch_input_shape=(None, 1)))\n",
    "model.compile(loss='mean_squared_error',optimizer=\"adam\")"
   ]
  },
  {
   "cell_type": "code",
   "execution_count": 4,
   "metadata": {
    "colab": {
     "base_uri": "https://localhost:8080/",
     "height": 173
    },
    "colab_type": "code",
    "id": "YP-YJS7H5Nq2",
    "outputId": "730222fd-7f4c-462c-c115-6233d9f12f42"
   },
   "outputs": [
    {
     "name": "stdout",
     "output_type": "stream",
     "text": [
      "Model: \"sequential\"\n",
      "_________________________________________________________________\n",
      "Layer (type)                 Output Shape              Param #   \n",
      "=================================================================\n",
      "dense (Dense)                (None, 1)                 2         \n",
      "=================================================================\n",
      "Total params: 2\n",
      "Trainable params: 2\n",
      "Non-trainable params: 0\n",
      "_________________________________________________________________\n"
     ]
    }
   ],
   "source": [
    "model.summary()"
   ]
  },
  {
   "cell_type": "code",
   "execution_count": 5,
   "metadata": {
    "colab": {
     "base_uri": "https://localhost:8080/",
     "height": 89
    },
    "colab_type": "code",
    "id": "PA6TEu986Ygu",
    "outputId": "5db90998-5426-4e43-aeab-4d078850852a"
   },
   "outputs": [],
   "source": [
    "\n",
    "# train the model# train  \n",
    "history=model.fit(x, y, \n",
    "                  batch_size=n, \n",
    "                  epochs=5000,\n",
    "                  verbose=0, \n",
    "                 )"
   ]
  },
  {
   "cell_type": "code",
   "execution_count": 6,
   "metadata": {
    "colab": {
     "base_uri": "https://localhost:8080/",
     "height": 52
    },
    "colab_type": "code",
    "id": "S6Uwe3TFp_Nj",
    "outputId": "8ce8df96-d189-4c24-d759-984293c4da3c"
   },
   "outputs": [
    {
     "name": "stdout",
     "output_type": "stream",
     "text": [
      "420/420 [==============================] - 0s 89us/sample - loss: 2.9440\n"
     ]
    },
    {
     "data": {
      "text/plain": [
       "2.944007272237823"
      ]
     },
     "execution_count": 6,
     "metadata": {},
     "output_type": "execute_result"
    }
   ],
   "source": [
    "model.evaluate(x,y)"
   ]
  },
  {
   "cell_type": "code",
   "execution_count": 7,
   "metadata": {
    "colab": {
     "base_uri": "https://localhost:8080/",
     "height": 472
    },
    "colab_type": "code",
    "id": "wEn_X6me7WAk",
    "outputId": "89046fc8-d61b-4a79-f127-35f96e2f2541"
   },
   "outputs": [
    {
     "data": {
      "image/png": "[encoded data removed]",
      "text/plain": [
       "<Figure size 432x288 with 1 Axes>"
      ]
     },
     "metadata": {
      "needs_background": "light"
     },
     "output_type": "display_data"
    }
   ],
   "source": [
    "plt.scatter(x=x,y=y,marker='o')\n",
    "plt.plot(x,model.predict(x),c=\"black\")\n",
    "plt.title(\"simulated data\")\n",
    "plt.xlabel(\"x\")\n",
    "plt.ylabel(\"y\")\n",
    "plt.show()\n"
   ]
  },
  {
   "cell_type": "code",
   "execution_count": 8,
   "metadata": {
    "colab": {
     "base_uri": "https://localhost:8080/",
     "height": 34
    },
    "colab_type": "code",
    "id": "MEvekMk07r2N",
    "outputId": "d28addc1-dbca-41a6-def2-4d0d78b2eb0b"
   },
   "outputs": [
    {
     "data": {
      "text/plain": [
       "[array([[0.05909659]], dtype=float32), array([0.99441314], dtype=float32)]"
      ]
     },
     "execution_count": 8,
     "metadata": {},
     "output_type": "execute_result"
    }
   ],
   "source": [
    "model.get_weights()"
   ]
  },
  {
   "cell_type": "code",
   "execution_count": 9,
   "metadata": {
    "colab": {},
    "colab_type": "code",
    "id": "9guOp97S8DMh"
   },
   "outputs": [],
   "source": [
    "model = Sequential()\n",
    "model.add(Dense(20, activation='relu',batch_input_shape=(None, 1)))\n",
    "model.add(Dense(50, activation='relu'))\n",
    "model.add(Dense(20, activation='relu'))\n",
    "model.add(Dense(1, activation='linear'))\n",
    "#\n",
    "model.compile(loss='mean_squared_error',optimizer=\"adam\")\n"
   ]
  },
  {
   "cell_type": "code",
   "execution_count": 10,
   "metadata": {
    "colab": {
     "base_uri": "https://localhost:8080/",
     "height": 280
    },
    "colab_type": "code",
    "id": "QN6TSCBW8DcA",
    "outputId": "e28f0a81-e9ac-4caf-dcb8-913b05c7d1e9"
   },
   "outputs": [
    {
     "name": "stdout",
     "output_type": "stream",
     "text": [
      "Model: \"sequential_1\"\n",
      "_________________________________________________________________\n",
      "Layer (type)                 Output Shape              Param #   \n",
      "=================================================================\n",
      "dense_1 (Dense)              (None, 20)                40        \n",
      "_________________________________________________________________\n",
      "dense_2 (Dense)              (None, 50)                1050      \n",
      "_________________________________________________________________\n",
      "dense_3 (Dense)              (None, 20)                1020      \n",
      "_________________________________________________________________\n",
      "dense_4 (Dense)              (None, 1)                 21        \n",
      "=================================================================\n",
      "Total params: 2,131\n",
      "Trainable params: 2,131\n",
      "Non-trainable params: 0\n",
      "_________________________________________________________________\n"
     ]
    }
   ],
   "source": [
    "model.summary()"
   ]
  },
  {
   "cell_type": "code",
   "execution_count": 11,
   "metadata": {
    "colab": {},
    "colab_type": "code",
    "id": "LmmiZLCj8DtK"
   },
   "outputs": [],
   "source": [
    "# train the model\n",
    "history=model.fit(x, y, \n",
    "                  batch_size=n, \n",
    "                  epochs=10000,\n",
    "                  verbose=0, \n",
    "                 )"
   ]
  },
  {
   "cell_type": "code",
   "execution_count": 12,
   "metadata": {
    "colab": {
     "base_uri": "https://localhost:8080/",
     "height": 52
    },
    "colab_type": "code",
    "id": "uX1r601-p6f2",
    "outputId": "abdabf37-9620-47cd-ae72-3b46821f57b8"
   },
   "outputs": [
    {
     "name": "stdout",
     "output_type": "stream",
     "text": [
      "420/420 [==============================] - 0s 95us/sample - loss: 0.1092\n"
     ]
    },
    {
     "data": {
      "text/plain": [
       "0.10922295873571697"
      ]
     },
     "execution_count": 12,
     "metadata": {},
     "output_type": "execute_result"
    }
   ],
   "source": [
    "model.evaluate(x,y)"
   ]
  },
  {
   "cell_type": "code",
   "execution_count": 13,
   "metadata": {
    "colab": {
     "base_uri": "https://localhost:8080/",
     "height": 472
    },
    "colab_type": "code",
    "id": "oI7-u6j48D8n",
    "outputId": "e816baa7-e838-41dd-d259-c43bba1d230f"
   },
   "outputs": [
    {
     "data": {
      "image/png": "[encoded data removed]",
      "text/plain": [
       "<Figure size 432x288 with 1 Axes>"
      ]
     },
     "metadata": {
      "needs_background": "light"
     },
     "output_type": "display_data"
    }
   ],
   "source": [
    "plt.scatter(x=x,y=y,marker='o')\n",
    "plt.plot(np.linspace(-3,3*2*np.pi+3,1000),model.predict(np.linspace(-3,3*2*np.pi+3,1000)),c=\"black\")\n",
    "plt.title(\"simulated data\")\n",
    "plt.xlabel(\"x\")\n",
    "plt.ylabel(\"y\")\n",
    "plt.show()"
   ]
  },
  {
   "cell_type": "code",
   "execution_count": 16,
   "metadata": {
    "colab": {},
    "colab_type": "code",
    "id": "gKrhyfmrixFJ"
   },
   "outputs": [],
   "source": [
    "def my_loss(y_true,y_pred):\n",
    "  mu=tf.slice(y_pred,[0,0],[-1,1])          ## extract first row\n",
    "  log_sigma=tf.slice(y_pred,[0,1],[-1,1])   ## extract second row\n",
    "  \n",
    "  a=1/(tf.sqrt(2*3.141*tf.square(tf.exp(log_sigma)))) \n",
    "  b1=tf.square(mu-y_true)\n",
    "  b2=2*tf.square(tf.exp(log_sigma))\n",
    "  b=b1/b2\n",
    "  \n",
    "  loss = tf.reduce_sum(-tf.math.log(a)+b,axis=0)\n",
    "  return loss"
   ]
  },
  {
   "cell_type": "code",
   "execution_count": 17,
   "metadata": {
    "colab": {},
    "colab_type": "code",
    "id": "FNHZjqymi8zQ"
   },
   "outputs": [],
   "source": [
    "model =  Sequential()\n",
    "model.add(Dense(20, activation='relu',batch_input_shape=(None, 1)))\n",
    "model.add(Dense(50, activation='relu'))\n",
    "model.add(Dense(20, activation='relu'))\n",
    "model.add(Dense(2, activation='linear'))\n",
    "\n",
    "model.compile(loss=my_loss,optimizer=\"adam\",metrics=[my_loss])"
   ]
  },
  {
   "cell_type": "code",
   "execution_count": 18,
   "metadata": {
    "colab": {
     "base_uri": "https://localhost:8080/",
     "height": 280
    },
    "colab_type": "code",
    "id": "-j8G3tED1ZYb",
    "outputId": "fe88d8da-9a4f-4511-992d-de7226cf961f"
   },
   "outputs": [
    {
     "name": "stdout",
     "output_type": "stream",
     "text": [
      "Model: \"sequential_3\"\n",
      "_________________________________________________________________\n",
      "Layer (type)                 Output Shape              Param #   \n",
      "=================================================================\n",
      "dense_9 (Dense)              (None, 20)                40        \n",
      "_________________________________________________________________\n",
      "dense_10 (Dense)             (None, 50)                1050      \n",
      "_________________________________________________________________\n",
      "dense_11 (Dense)             (None, 20)                1020      \n",
      "_________________________________________________________________\n",
      "dense_12 (Dense)             (None, 2)                 42        \n",
      "=================================================================\n",
      "Total params: 2,152\n",
      "Trainable params: 2,152\n",
      "Non-trainable params: 0\n",
      "_________________________________________________________________\n"
     ]
    }
   ],
   "source": [
    "model.summary()"
   ]
  },
  {
   "cell_type": "code",
   "execution_count": 19,
   "metadata": {
    "colab": {},
    "colab_type": "code",
    "id": "ESN3m60ljT3w"
   },
   "outputs": [],
   "source": [
    "history=model.fit(x, y, \n",
    "                  batch_size=n, \n",
    "                  epochs=4000,\n",
    "                  verbose=0)"
   ]
  },
  {
   "cell_type": "code",
   "execution_count": 20,
   "metadata": {
    "colab": {
     "base_uri": "https://localhost:8080/",
     "height": 472
    },
    "colab_type": "code",
    "id": "STvM2fP91Czs",
    "outputId": "2e1ae2c0-beef-4c82-fca8-784ea266f563"
   },
   "outputs": [
    {
     "data": {
      "image/png": "[encoded data removed]",
      "text/plain": [
       "<Figure size 432x288 with 1 Axes>"
      ]
     },
     "metadata": {
      "needs_background": "light"
     },
     "output_type": "display_data"
    }
   ],
   "source": [
    "x_pred=np.linspace(-3,3*2*np.pi+3,1000).reshape(1000,1)\n",
    "pred_mu=model.predict(np.linspace(-3,3*2*np.pi+3,1000).reshape(1000,1))[:,0]\n",
    "pred_log_sigma=model.predict(np.linspace(-3,3*2*np.pi+3,1000).reshape(1000,1))[:,1]\n",
    "plt.scatter(x,y,marker='o')\n",
    "plt.plot(x_pred,pred_mu,c=\"black\")\n",
    "\n",
    "pred_1_sd_p = pred_mu+(np.exp(pred_log_sigma))\n",
    "pred_1_sd_m = pred_mu-(np.exp(pred_log_sigma))\n",
    "\n",
    "plt.plot(x_pred,pred_1_sd_p, 'b', linewidth=0.5)\n",
    "plt.plot(x_pred,pred_1_sd_m, 'b', linewidth=0.5)\n",
    "\n",
    "pred_2_sd_p = pred_mu+2*(np.exp(pred_log_sigma))\n",
    "pred_2_sd_m = pred_mu-2*(np.exp(pred_log_sigma))\n",
    "\n",
    "plt.plot(x_pred,pred_2_sd_p, 'b', linewidth=0.5)\n",
    "plt.plot(x_pred,pred_2_sd_m, 'b', linewidth=0.5)\n",
    "\n",
    "plt.plot(x_pred,pred_mu+2*(np.exp(pred_log_sigma)), 'b', linewidth=0.5)\n",
    "plt.plot(x_pred,pred_mu-2*(np.exp(pred_log_sigma)), 'b', linewidth=0.5)\n",
    "\n",
    "plt.fill(np.concatenate([x_pred, x_pred[::-1]]),\n",
    "         np.concatenate([pred_2_sd_p,\n",
    "                         pred_2_sd_m[::-1]]),alpha=0.3, fc='lightskyblue', ec='None')\n",
    "plt.fill(np.concatenate([x_pred, x_pred[::-1]]),\n",
    "         np.concatenate([pred_1_sd_p,\n",
    "                         pred_1_sd_m[::-1]]),alpha=0.3, fc='deepskyblue', ec='None')\n",
    "plt.title(\"simulated data\")\n",
    "plt.xlabel(\"x\")\n",
    "plt.ylabel(\"y\")\n",
    "plt.show()"
   ]
  },
  {
   "cell_type": "markdown",
   "metadata": {
    "colab": {},
    "colab_type": "code",
    "id": "Ss3MPCuKjlO-"
   },
   "source": [
    "### The Likelihood for different number of faces\n",
    "\n",
    "<img src=\"https://raw.githubusercontent.com/tensorchiefs/dl_book/master/imgs/paper-pen.png\" width=\"60\" align=\"left\" />  \n",
    "\n",
    "\n",
    "*Exercise: Change the activations to sigmoid and redo the analysis."
   ]
  },
  {
   "cell_type": "markdown",
   "metadata": {},
   "source": [
    "####.\n",
    "\n",
    "\n",
    "\n",
    "\n",
    "\n",
    "\n",
    "\n",
    "\n",
    "\n",
    "\n",
    "\n",
    "\n",
    "\n",
    "\n",
    "\n",
    "\n",
    "\n",
    "\n",
    "\n",
    "\n",
    "\n",
    "\n",
    "\n",
    "\n",
    "\n",
    "\n",
    "\n",
    "\n",
    "\n",
    "\n",
    "\n",
    "\n",
    "\n",
    "#### Solution \n",
    "The curves (mean and also stddev=) now apprear much smoother. This effect is probably due to the fact that relus are not smooth and if you change the input to a ReLU from negative to small positive you gets activated and contributes to the output."
   ]
  },
  {
   "cell_type": "code",
   "execution_count": null,
   "metadata": {},
   "outputs": [],
   "source": []
  }
 ],
 "metadata": {
  "colab": {
   "collapsed_sections": [],
   "name": "nb_ch04_03.ipynb",
   "provenance": [],
   "version": "0.3.2"
  },
  "kernelspec": {
   "display_name": "Python 3",
   "language": "python",
   "name": "python3"
  },
  "language_info": {
   "codemirror_mode": {
    "name": "ipython",
    "version": 3
   },
   "file_extension": ".py",
   "mimetype": "text/x-python",
   "name": "python",
   "nbconvert_exporter": "python",
   "pygments_lexer": "ipython3",
   "version": "3.5.2"
  }
 },
 "nbformat": 4,
 "nbformat_minor": 1
}
