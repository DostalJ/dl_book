{
 "cells": [
  {
   "cell_type": "markdown",
   "metadata": {
    "colab_type": "text",
    "id": "IckpDJSeOoFS"
   },
   "source": [
    "# Using NN with appropriate loss functions for fitting flexible regression models\n",
    "\n",
    "**Goal:** \n",
    "In this notebook you will learn how to step-wise adapt the NN architecture and the loss function to develop a regression model that achieves a good fit. You will use a simulated dataset with two variables (x,y) which show a non-linear dependency of y on x and a non-constant data variablilty. You will see that you need to add nonlinear hidden layers if you want to model nonlinear relationships. In addition you will need a NN with two output nodes when you want to model a Normal CPD with parameters $\\mu$ and $\\sigma$, especially if $\\sigma$ is not constant (heteroscedastic).\n",
    "\n",
    "**Usage:**  \n",
    "Before working through this notebook we recommend to read chapter 4.3. The idea of the notebook is that you try to understand the provided code by running it, checking the output and playing with it by slightly changing the code and rerunning it. \n",
    "\n",
    "**Dataset:** \n",
    "A simulated dataset with a sine wave that has a small positive linear trend and a variance that depends on the amplitude.\n",
    "\n",
    "**Content:**\n",
    "* Simulate a dataset with non-linear relationship between x and y and changing data variablility.\n",
    "* View regression as model for the Normal CPD where the mean and the standard deviation depend on x.\n",
    "* Fist model:   \n",
    "Use a NN without hidden layers and with one output node to fit a linear regression where only the mean parameter of the CPD depends on x. The loss function is given by the NLL which reduces to the MSE if you assume constant variance.\n",
    "* Second model:  \n",
    "Use a NN with hidden layers and with one output node to fit a linear regression where the mean parameter of the CPD can non-linearly depend on x. The loss function is given by the NLL which reduces to the MSE if you assume constant variance.\n",
    "*  Third model:  \n",
    "Use a NN with hidden layers and two output nodes to fit a linear regression where the mean and the standard-deviation parameter of the CPD can non-linearly depend on x. The loss function is given by the NLL which no longer reduces to the MSE because you don't assume a constant variance.\n",
    "\n",
    "\n",
    "| [open in colab](https://colab.research.google.com/github/tensorchiefs/dl_book/blob/master/chapter_04/nb_ch04_04.ipynb)\n",
    "\n"
   ]
  },
  {
   "cell_type": "markdown",
   "metadata": {
    "colab_type": "text",
    "id": "TUFwjkN-WESV"
   },
   "source": [
    "#### Imports\n",
    "In the next three cells, we load all the required libraries and simulate and plot a dataset with a sine wave that has small linear slope and variace that gets bigger with the amplitude.\n"
   ]
  },
  {
   "cell_type": "code",
   "execution_count": 1,
   "metadata": {},
   "outputs": [],
   "source": [
    "try: #If running in colab \n",
    "    import google.colab\n",
    "    IN_COLAB = True \n",
    "    %tensorflow_version 2.x\n",
    "except:\n",
    "    IN_COLAB = False"
   ]
  },
  {
   "cell_type": "code",
   "execution_count": 2,
   "metadata": {},
   "outputs": [
    {
     "name": "stdout",
     "output_type": "stream",
     "text": [
      "Tensorflow version:  2.0.0  running in colab?:  False\n"
     ]
    }
   ],
   "source": [
    "import tensorflow as tf\n",
    "if (not tf.__version__.startswith('2')): #Checking if tf 2.0 is installed\n",
    "    print('Please install tensorflow 2.0 to run this notebook')\n",
    "print('Tensorflow version: ',tf.__version__, ' running in colab?: ', IN_COLAB)"
   ]
  },
  {
   "cell_type": "code",
   "execution_count": 3,
   "metadata": {
    "colab": {
     "base_uri": "https://localhost:8080/",
     "height": 34
    },
    "colab_type": "code",
    "id": "wXx-oXP3c5Qo",
    "outputId": "034efeca-378a-429f-9fbe-008016cd5702"
   },
   "outputs": [
    {
     "data": {
      "text/plain": [
       "'2.0.0'"
      ]
     },
     "execution_count": 3,
     "metadata": {},
     "output_type": "execute_result"
    }
   ],
   "source": [
    "#load required libraries:\n",
    "import numpy as np\n",
    "import matplotlib.pyplot as plt\n",
    "%matplotlib inline\n",
    "plt.style.use('default')\n",
    "import numpy as np\n",
    "\n",
    "from tensorflow.keras.models import Sequential\n",
    "from tensorflow.keras.layers import Dense, Convolution2D, MaxPooling2D, Flatten , Activation\n",
    "from tensorflow.keras import optimizers\n",
    "\n",
    "tf.__version__"
   ]
  },
  {
   "cell_type": "markdown",
   "metadata": {
    "colab_type": "text",
    "id": "msWFSYpyWP64"
   },
   "source": [
    "#### Simulate some data and visualize them "
   ]
  },
  {
   "cell_type": "code",
   "execution_count": 4,
   "metadata": {
    "colab": {},
    "colab_type": "code",
    "id": "HeNcEP7FHqMS"
   },
   "outputs": [],
   "source": [
    "def create_sine_data(n = 300):\n",
    "    np.random.seed(32)\n",
    "    n = 300\n",
    "    x = np.linspace(0,1*2*np.pi,n)\n",
    "    y1 = 3*np.sin(x)\n",
    "    y1 = np.concatenate((np.zeros(60), y1+np.random.normal(0,0.15*np.abs(y1),n),np.zeros(60)))\n",
    "    x=np.concatenate((np.linspace(-3,0,60),np.linspace(0,3*2*np.pi,n),np.linspace(3*2*np.pi,3*2*np.pi+3,60)))\n",
    "    y2 = 0.1*x+1\n",
    "    y=y1+y2\n",
    "    return x,y"
   ]
  },
  {
   "cell_type": "code",
   "execution_count": 5,
   "metadata": {
    "colab": {
     "base_uri": "https://localhost:8080/",
     "height": 472
    },
    "colab_type": "code",
    "id": "M_TLELogc53W",
    "outputId": "acc7555d-879d-428c-d1ae-d95410d56791"
   },
   "outputs": [
    {
     "data": {
      "image/png": "[encoded data removed]",
      "text/plain": [
       "<Figure size 432x288 with 1 Axes>"
      ]
     },
     "metadata": {
      "needs_background": "light"
     },
     "output_type": "display_data"
    }
   ],
   "source": [
    "## use custom function to simulate some data \n",
    "x,y = create_sine_data(n=300) #A\n",
    "plt.scatter(x=x,y=y,marker='o')\n",
    "plt.title(\"simulated data\")\n",
    "plt.xlabel(\"x\")\n",
    "plt.ylabel(\"y\")\n",
    "n=len(x)"
   ]
  },
  {
   "cell_type": "markdown",
   "metadata": {
    "colab_type": "text",
    "id": "D08xD5pIWugV"
   },
   "source": [
    "## First model: NN for the most simple linear regression \n",
    "\n",
    "Let's use a NN without a hidden layer and with one output node to fit a linear regression model where the mean parameter of the CPD linearly depends on x. Since the variance is not modeled, the loss function or NLL is given by the MSE (see derivation in chapter 4.3)."
   ]
  },
  {
   "cell_type": "code",
   "execution_count": 6,
   "metadata": {
    "colab": {
     "base_uri": "https://localhost:8080/",
     "height": 107
    },
    "colab_type": "code",
    "id": "553ybn8J3qCK",
    "outputId": "ebec615b-b3f2-44cb-9b2c-af7c7f3db896"
   },
   "outputs": [],
   "source": [
    "# set up a NN without hidden layer and only one output node \n",
    "# This assumes that the mean of the CPD depends linearly on x\n",
    "# and the standard deviation of the CPD is constant and not modeled\n",
    "model = Sequential()\n",
    "model.add(Dense(1, activation='linear',batch_input_shape=(None, 1)))\n",
    "model.compile(loss='mean_squared_error',optimizer=\"adam\")"
   ]
  },
  {
   "cell_type": "code",
   "execution_count": 7,
   "metadata": {
    "colab": {
     "base_uri": "https://localhost:8080/",
     "height": 193
    },
    "colab_type": "code",
    "id": "YP-YJS7H5Nq2",
    "outputId": "af6884b2-200b-4162-d596-ebeb4a5f817f"
   },
   "outputs": [
    {
     "name": "stdout",
     "output_type": "stream",
     "text": [
      "Model: \"sequential\"\n",
      "_________________________________________________________________\n",
      "Layer (type)                 Output Shape              Param #   \n",
      "=================================================================\n",
      "dense (Dense)                (None, 1)                 2         \n",
      "=================================================================\n",
      "Total params: 2\n",
      "Trainable params: 2\n",
      "Non-trainable params: 0\n",
      "_________________________________________________________________\n"
     ]
    }
   ],
   "source": [
    "# summarize model along with number of model weights\n",
    "model.summary()"
   ]
  },
  {
   "cell_type": "markdown",
   "metadata": {
    "colab_type": "text",
    "id": "1wLJ1pOBX6LR"
   },
   "source": [
    "#### Train the first model and show the fit along with the data"
   ]
  },
  {
   "cell_type": "code",
   "execution_count": 8,
   "metadata": {
    "colab": {},
    "colab_type": "code",
    "id": "PA6TEu986Ygu"
   },
   "outputs": [],
   "source": [
    "# train the model  \n",
    "history=model.fit(x, y, \n",
    "                  batch_size=16, \n",
    "                  epochs=1000,\n",
    "                  verbose=0, \n",
    "                 )"
   ]
  },
  {
   "cell_type": "code",
   "execution_count": 9,
   "metadata": {
    "colab": {
     "base_uri": "https://localhost:8080/",
     "height": 52
    },
    "colab_type": "code",
    "id": "S6Uwe3TFp_Nj",
    "outputId": "110b8ba5-cb93-4e72-bae4-16bfa4d94924"
   },
   "outputs": [
    {
     "name": "stdout",
     "output_type": "stream",
     "text": [
      "\r",
      "420/1 [========================================================================================================================================================================================================================================================================================================================================================================================================================================================================================================================================================================================================================================================================================================================================================================================================================================================================================================================================================================================================================================================================================================================================================================================================================================================================================================================================================================================================================================================================================================================================================================================================================================================================================================================================================================================================================================================================================================================================================================================================================================================================================================================================================================================================================================================================================================================================================================================================================================================================================================================================================================================================================================================================================================================================================================================================================================================================================================================================================================================================================================================================================================================================================================================================================================================================================================================================================================================================================================================================================================================================================================================================================================================================================================================================================================================================================================================================================================================================================================================================================================================================================================================================================================================================================================================================================================================================================================================================================================================================================================================================================================================================================================================================================================================================================================================================================================================================================================================================================================================================================================================================================================================================================================================================================================================================================================================================================================================================================================================================================================================================================================================================================================================================================================================================================================================================================================================================================================================================================================================================================================================================================================================================================================================================================================================================================================================================================================================================================================================================================================================================================================================================================================================================================================================================================================================================================================================================================================================================================================================================================================================================================================================================================================================================================================================================================================================================================================================================================================================================================================================================================================================================================================================================================================================================================================================================================================================================================================================================================================================================================================================================================================================================================================================================================================================================================================================================================================================================================================================================================================================================================================================================================================================================================================================================================================================================================================================================================================================================================================================================================================================================================================================================================================================================================================================================================================================================================================================================================================================================================================================================================================================================================================================================================================================================================================================================================================================================================================================================================================================================================================================================================================================================================================================================================================================================================================================================================================================================================================================================================================================================================================================================================================================================================================================================================================================================================================================================================================================================================================================================================================================================================================================================================================================================================================================================================================================================================================================================================================================================================================================================================================================================================================================================================================================================================================================================================================================================================================================================================================================================================================================================================================================================================================================================================================================================================================================================================================================================================================================================================================================================================================================================================================================================================================================================================================================================================================================================================================================================================================================================================================================================================================================] - 0s 94us/sample - loss: 2.1998\n"
     ]
    },
    {
     "data": {
      "text/plain": [
       "2.481865159670512"
      ]
     },
     "execution_count": 9,
     "metadata": {},
     "output_type": "execute_result"
    }
   ],
   "source": [
    "# evaluation of the MSE loss\n",
    "model.evaluate(x,y)"
   ]
  },
  {
   "cell_type": "code",
   "execution_count": 10,
   "metadata": {
    "colab": {
     "base_uri": "https://localhost:8080/",
     "height": 472
    },
    "colab_type": "code",
    "id": "wEn_X6me7WAk",
    "outputId": "0f39f258-d89e-4b0e-feee-589a76786ec9"
   },
   "outputs": [
    {
     "data": {
      "image/png": "[encoded data removed]",
      "text/plain": [
       "<Figure size 432x288 with 1 Axes>"
      ]
     },
     "metadata": {
      "needs_background": "light"
     },
     "output_type": "display_data"
    }
   ],
   "source": [
    "# show the data along with the fit\n",
    "plt.scatter(x=x,y=y,marker='o')\n",
    "plt.plot(x,model.predict(x),c=\"black\")\n",
    "plt.title(\"simulated data\")\n",
    "plt.xlabel(\"x\")\n",
    "plt.ylabel(\"y\")\n",
    "plt.show()\n"
   ]
  },
  {
   "cell_type": "markdown",
   "metadata": {
    "colab_type": "text",
    "id": "VecFAnREYmgE"
   },
   "source": [
    "As you can see the linear model is not able the fit the data. This is no surpise because you didn't use any hidden layers and without them it is not possible to model non-linear dependencies. "
   ]
  },
  {
   "cell_type": "code",
   "execution_count": 11,
   "metadata": {
    "colab": {
     "base_uri": "https://localhost:8080/",
     "height": 34
    },
    "colab_type": "code",
    "id": "MEvekMk07r2N",
    "outputId": "e393e4f2-0a2d-4a0c-a50a-ff12596ee3ef"
   },
   "outputs": [
    {
     "data": {
      "text/plain": [
       "[array([[-0.01375637]], dtype=float32), array([2.0920527], dtype=float32)]"
      ]
     },
     "execution_count": 11,
     "metadata": {},
     "output_type": "execute_result"
    }
   ],
   "source": [
    "# get model parameters: slope and intercept of the linear model\n",
    "model.get_weights()"
   ]
  },
  {
   "cell_type": "markdown",
   "metadata": {
    "colab_type": "text",
    "id": "9WSjj0wMZNpr"
   },
   "source": [
    "## Second model: NN for a non-linear  regression model\n",
    "\n",
    "Now, let's use a NN with three hidden layers and with one output node to fit a linear regression model where the mean parameter of the CPD can non-linearly depend on x. Since the variance is not modeled, the loss function or NLL is given by the MSE (see derivation in chapter 4.3)."
   ]
  },
  {
   "cell_type": "code",
   "execution_count": 12,
   "metadata": {
    "colab": {},
    "colab_type": "code",
    "id": "9guOp97S8DMh"
   },
   "outputs": [],
   "source": [
    "# set up a NN with 3 hidden layers and only one output node \n",
    "# This allows that the mean of the CPD depends non-linearly on x\n",
    "# and the standard deviation of the CPD is constant and not modeled\n",
    "model = Sequential()\n",
    "model.add(Dense(20, activation='relu',\n",
    "                batch_input_shape=(None, 1)))\n",
    "model.add(Dense(50, activation='relu'))\n",
    "model.add(Dense(20, activation='relu'))\n",
    "model.add(Dense(1, activation='linear'))\n",
    "model.compile(loss='mean_squared_error',optimizer=\"adam\")"
   ]
  },
  {
   "cell_type": "code",
   "execution_count": 13,
   "metadata": {
    "colab": {
     "base_uri": "https://localhost:8080/",
     "height": 298
    },
    "colab_type": "code",
    "id": "QN6TSCBW8DcA",
    "outputId": "180724e5-6189-4f28-c5e6-d58e566396a8"
   },
   "outputs": [
    {
     "name": "stdout",
     "output_type": "stream",
     "text": [
      "Model: \"sequential_1\"\n",
      "_________________________________________________________________\n",
      "Layer (type)                 Output Shape              Param #   \n",
      "=================================================================\n",
      "dense_1 (Dense)              (None, 20)                40        \n",
      "_________________________________________________________________\n",
      "dense_2 (Dense)              (None, 50)                1050      \n",
      "_________________________________________________________________\n",
      "dense_3 (Dense)              (None, 20)                1020      \n",
      "_________________________________________________________________\n",
      "dense_4 (Dense)              (None, 1)                 21        \n",
      "=================================================================\n",
      "Total params: 2,131\n",
      "Trainable params: 2,131\n",
      "Non-trainable params: 0\n",
      "_________________________________________________________________\n"
     ]
    }
   ],
   "source": [
    "# summarize model along with number of model weights\n",
    "model.summary()"
   ]
  },
  {
   "cell_type": "markdown",
   "metadata": {
    "colab_type": "text",
    "id": "N2QsMX3KaYG7"
   },
   "source": [
    "#### Train the second model and show the fit along with the data"
   ]
  },
  {
   "cell_type": "code",
   "execution_count": 14,
   "metadata": {
    "colab": {},
    "colab_type": "code",
    "id": "LmmiZLCj8DtK"
   },
   "outputs": [],
   "source": [
    "# train the model\n",
    "history=model.fit(x, y, \n",
    "                  batch_size=16, \n",
    "                  epochs=1000,\n",
    "                  verbose=0, \n",
    "                 )"
   ]
  },
  {
   "cell_type": "code",
   "execution_count": 15,
   "metadata": {
    "colab": {
     "base_uri": "https://localhost:8080/",
     "height": 52
    },
    "colab_type": "code",
    "id": "uX1r601-p6f2",
    "outputId": "e2855a56-2a1b-4ba7-ec59-01c6a1bbf871"
   },
   "outputs": [
    {
     "name": "stdout",
     "output_type": "stream",
     "text": [
      "\r",
      "420/1 [========================================================================================================================================================================================================================================================================================================================================================================================================================================================================================================================================================================================================================================================================================================================================================================================================================================================================================================================================================================================================================================================================================================================================================================================================================================================================================================================================================================================================================================================================================================================================================================================================================================================================================================================================================================================================================================================================================================================================================================================================================================================================================================================================================================================================================================================================================================================================================================================================================================================================================================================================================================================================================================================================================================================================================================================================================================================================================================================================================================================================================================================================================================================================================================================================================================================================================================================================================================================================================================================================================================================================================================================================================================================================================================================================================================================================================================================================================================================================================================================================================================================================================================================================================================================================================================================================================================================================================================================================================================================================================================================================================================================================================================================================================================================================================================================================================================================================================================================================================================================================================================================================================================================================================================================================================================================================================================================================================================================================================================================================================================================================================================================================================================================================================================================================================================================================================================================================================================================================================================================================================================================================================================================================================================================================================================================================================================================================================================================================================================================================================================================================================================================================================================================================================================================================================================================================================================================================================================================================================================================================================================================================================================================================================================================================================================================================================================================================================================================================================================================================================================================================================================================================================================================================================================================================================================================================================================================================================================================================================================================================================================================================================================================================================================================================================================================================================================================================================================================================================================================================================================================================================================================================================================================================================================================================================================================================================================================================================================================================================================================================================================================================================================================================================================================================================================================================================================================================================================================================================================================================================================================================================================================================================================================================================================================================================================================================================================================================================================================================================================================================================================================================================================================================================================================================================================================================================================================================================================================================================================================================================================================================================================================================================================================================================================================================================================================================================================================================================================================================================================================================================================================================================================================================================================================================================================================================================================================================================================================================================================================================================================================================================================================================================================================================================================================================================================================================================================================================================================================================================================================================================================================================================================================================================================================================================================================================================================================================================================================================================================================================================================================================================================================================================================================================================================================================================================================================================================================================================================================================================================================================================================================================================================================] - 0s 129us/sample - loss: 0.0349\n"
     ]
    },
    {
     "data": {
      "text/plain": [
       "0.06972850284614002"
      ]
     },
     "execution_count": 15,
     "metadata": {},
     "output_type": "execute_result"
    }
   ],
   "source": [
    "# evaluation of the MSE loss\n",
    "model.evaluate(x,y)"
   ]
  },
  {
   "cell_type": "code",
   "execution_count": 16,
   "metadata": {
    "colab": {
     "base_uri": "https://localhost:8080/",
     "height": 472
    },
    "colab_type": "code",
    "id": "oI7-u6j48D8n",
    "outputId": "e112415c-5a02-474b-921b-8496e6f87e1a"
   },
   "outputs": [
    {
     "data": {
      "image/png": "[encoded data removed]",
      "text/plain": [
       "<Figure size 432x288 with 1 Axes>"
      ]
     },
     "metadata": {
      "needs_background": "light"
     },
     "output_type": "display_data"
    }
   ],
   "source": [
    "# show the data along with the fit\n",
    "plt.scatter(x=x,y=y,marker='o')\n",
    "plt.plot(np.linspace(-3,3*2*np.pi+3,1000),model.predict(np.linspace(-3,3*2*np.pi+3,1000)),c=\"black\")\n",
    "plt.title(\"simulated data\")\n",
    "plt.xlabel(\"x\")\n",
    "plt.ylabel(\"y\")\n",
    "plt.show()"
   ]
  },
  {
   "cell_type": "markdown",
   "metadata": {
    "colab_type": "text",
    "id": "bPAyQ0HqZM5Z"
   },
   "source": [
    "As you can see now, the NN with hidden layers is able the fit the data nicely. Let's try to capure also the data variance."
   ]
  },
  {
   "cell_type": "markdown",
   "metadata": {
    "colab_type": "text",
    "id": "y39UmM6LalEe"
   },
   "source": [
    "## Third model: NN for a non-linear  regression model with changing variance\n",
    "\n",
    "Now, we want to use a NN with again three hidden layers but this time with two output nodes to fit a linear regression model where the mean $\\mu$ and the standard-deviation $\\sigma$ parameter of the CPD can non-linearly depend on x. Since the variance is now also modeled, the loss function, which is the NLL is not anymore given by the MSE but has a more complicated form (see derivation in chapter 4.3). Keras does not provide this loss function therefore you we have to define it by ourself."
   ]
  },
  {
   "cell_type": "code",
   "execution_count": 17,
   "metadata": {
    "colab": {},
    "colab_type": "code",
    "id": "gKrhyfmrixFJ"
   },
   "outputs": [],
   "source": [
    "# define loss function that corresponds to NLL  \n",
    "import math\n",
    "def my_NLL_loss(y_true,y_pred):\n",
    "  mu=tf.slice(y_pred,[0,0],[-1,1])              # A     \n",
    "  sigma=tf.math.exp(tf.slice(y_pred,[0,1],[-1,1]))   # B \n",
    "  \n",
    "  a=1/(tf.sqrt(2.*math.pi)*sigma) \n",
    "  b1=tf.square(mu-y_true)\n",
    "  b2=2*tf.square(sigma)\n",
    "  b=b1/b2\n",
    "  \n",
    "  loss = tf.reduce_sum(-tf.math.log(a)+b,axis=0)\n",
    "  return loss\n",
    "\n",
    "#A extract first column for μ \n",
    "#B extract second column for σ"
   ]
  },
  {
   "cell_type": "code",
   "execution_count": 18,
   "metadata": {
    "colab": {},
    "colab_type": "code",
    "id": "FNHZjqymi8zQ"
   },
   "outputs": [],
   "source": [
    "# set up the model with3  hidden layers and 2 output nodes\n",
    "# This allows that the mean of the CPD depends non-linearly on x\n",
    "# and also the standard deviation can depend non-linearly on x\n",
    "model =  Sequential()\n",
    "model.add(Dense(20, activation='relu',batch_input_shape=(None, 1)))\n",
    "model.add(Dense(50, activation='relu'))\n",
    "model.add(Dense(20, activation='relu'))\n",
    "model.add(Dense(2, activation='linear'))\n",
    "\n",
    "model.compile(loss=my_NLL_loss,optimizer=\"adam\",metrics=[my_NLL_loss])\n"
   ]
  },
  {
   "cell_type": "code",
   "execution_count": 19,
   "metadata": {
    "colab": {
     "base_uri": "https://localhost:8080/",
     "height": 298
    },
    "colab_type": "code",
    "id": "-j8G3tED1ZYb",
    "outputId": "a0f09c66-3bff-4467-829b-2c7e4ebcab19"
   },
   "outputs": [
    {
     "name": "stdout",
     "output_type": "stream",
     "text": [
      "Model: \"sequential_2\"\n",
      "_________________________________________________________________\n",
      "Layer (type)                 Output Shape              Param #   \n",
      "=================================================================\n",
      "dense_5 (Dense)              (None, 20)                40        \n",
      "_________________________________________________________________\n",
      "dense_6 (Dense)              (None, 50)                1050      \n",
      "_________________________________________________________________\n",
      "dense_7 (Dense)              (None, 20)                1020      \n",
      "_________________________________________________________________\n",
      "dense_8 (Dense)              (None, 2)                 42        \n",
      "=================================================================\n",
      "Total params: 2,152\n",
      "Trainable params: 2,152\n",
      "Non-trainable params: 0\n",
      "_________________________________________________________________\n"
     ]
    }
   ],
   "source": [
    "# summarize model along with number of model weights\n",
    "model.summary()"
   ]
  },
  {
   "cell_type": "markdown",
   "metadata": {
    "colab_type": "text",
    "id": "8ipJu4s-b4Da"
   },
   "source": [
    "#### Train the third model and show the fit along with the data"
   ]
  },
  {
   "cell_type": "code",
   "execution_count": 20,
   "metadata": {
    "colab": {},
    "colab_type": "code",
    "id": "ESN3m60ljT3w"
   },
   "outputs": [],
   "source": [
    "# train the model\n",
    "history=model.fit(x, y, \n",
    "                  batch_size=16, \n",
    "                  epochs=1000,\n",
    "                  verbose=0\n",
    "                 )"
   ]
  },
  {
   "cell_type": "code",
   "execution_count": 21,
   "metadata": {
    "colab": {
     "base_uri": "https://localhost:8080/",
     "height": 472
    },
    "colab_type": "code",
    "id": "STvM2fP91Czs",
    "outputId": "bb919e20-a9fa-4e8c-81b7-9a560f067a88"
   },
   "outputs": [
    {
     "data": {
      "image/png": "[encoded data removed]",
      "text/plain": [
       "<Figure size 432x288 with 1 Axes>"
      ]
     },
     "metadata": {
      "needs_background": "light"
     },
     "output_type": "display_data"
    }
   ],
   "source": [
    "# show the data along with the fit plus/minus 2-times the standard deviation\n",
    "x_pred=np.linspace(-3,3*2*np.pi+3,1000).reshape(1000,1)\n",
    "pred_mu=model.predict(np.linspace(-3,3*2*np.pi+3,1000).reshape(1000,1))[:,0]\n",
    "pred_log_sigma=model.predict(np.linspace(-3,3*2*np.pi+3,1000).reshape(1000,1))[:,1]\n",
    "plt.scatter(x,y,marker='o')\n",
    "plt.plot(x_pred,pred_mu,c=\"black\")\n",
    "\n",
    "pred_1_sd_p = pred_mu+(np.exp(pred_log_sigma))\n",
    "pred_1_sd_m = pred_mu-(np.exp(pred_log_sigma))\n",
    "\n",
    "plt.plot(x_pred,pred_1_sd_p, 'b', linewidth=0.5)\n",
    "plt.plot(x_pred,pred_1_sd_m, 'b', linewidth=0.5)\n",
    "\n",
    "pred_2_sd_p = pred_mu+2*(np.exp(pred_log_sigma))\n",
    "pred_2_sd_m = pred_mu-2*(np.exp(pred_log_sigma))\n",
    "\n",
    "plt.plot(x_pred,pred_2_sd_p, 'b', linewidth=0.5)\n",
    "plt.plot(x_pred,pred_2_sd_m, 'b', linewidth=0.5)\n",
    "\n",
    "plt.plot(x_pred,pred_mu+2*(np.exp(pred_log_sigma)), 'b', linewidth=0.5)\n",
    "plt.plot(x_pred,pred_mu-2*(np.exp(pred_log_sigma)), 'b', linewidth=0.5)\n",
    "\n",
    "plt.fill(np.concatenate([x_pred, x_pred[::-1]]),\n",
    "         np.concatenate([pred_2_sd_p,\n",
    "                         pred_2_sd_m[::-1]]),alpha=0.3, fc='lightskyblue', ec='None')\n",
    "plt.fill(np.concatenate([x_pred, x_pred[::-1]]),\n",
    "         np.concatenate([pred_1_sd_p,\n",
    "                         pred_1_sd_m[::-1]]),alpha=0.3, fc='deepskyblue', ec='None')\n",
    "plt.title(\"simulated data\")\n",
    "plt.xlabel(\"x\")\n",
    "plt.ylabel(\"y\")\n",
    "plt.show()"
   ]
  },
  {
   "cell_type": "markdown",
   "metadata": {
    "colab_type": "text",
    "id": "FbOxrRXAcQOh"
   },
   "source": [
    "### Smoothness of the fit dependance on the activation function\n",
    "\n",
    "<img src=\"https://raw.githubusercontent.com/tensorchiefs/dl_book/master/imgs/paper-pen.png\" width=\"60\" align=\"left\" />  \n",
    "\n",
    "\n",
    "*Exercise 1: Change the activations in the last network form relu to sigmoid and redo the analysis. What do you observe?*"
   ]
  },
  {
   "cell_type": "code",
   "execution_count": 22,
   "metadata": {
    "colab": {},
    "colab_type": "code",
    "id": "d2vxdCRSyOaz"
   },
   "outputs": [],
   "source": [
    "# Write your code here"
   ]
  },
  {
   "cell_type": "markdown",
   "metadata": {
    "colab_type": "text",
    "id": "GJMiyTTWyQka"
   },
   "source": [
    "Scroll down to see the solution.\n",
    "\n",
    "</br>\n",
    "</br>\n",
    "</br>\n",
    "</br>\n",
    "</br>\n",
    "</br>\n",
    "</br>\n",
    "</br>\n",
    "</br>\n",
    "</br>\n",
    "</br>\n",
    "</br>\n",
    "</br>\n",
    "</br>\n",
    "</br>\n",
    "</br>\n",
    "</br>\n",
    "</br>\n",
    "</br>\n",
    "</br>\n",
    "</br>"
   ]
  },
  {
   "cell_type": "code",
   "execution_count": 23,
   "metadata": {
    "colab": {},
    "colab_type": "code",
    "id": "uaCkR7N_zxY-"
   },
   "outputs": [],
   "source": [
    "# set up the model with3  hidden layers and 2 output nodes\n",
    "# This allows that the mean of the CPD depends non-linearly on x\n",
    "# and also the standard deviation can depend non-linearly on x\n",
    "model =  Sequential()\n",
    "model.add(Dense(20, activation='sigmoid',batch_input_shape=(None, 1)))\n",
    "model.add(Dense(50, activation='sigmoid'))\n",
    "model.add(Dense(20, activation='sigmoid'))\n",
    "model.add(Dense(2, activation='linear'))\n",
    "\n",
    "model.compile(loss=my_NLL_loss,optimizer=\"adam\",metrics=[my_NLL_loss])"
   ]
  },
  {
   "cell_type": "code",
   "execution_count": 24,
   "metadata": {
    "colab": {
     "base_uri": "https://localhost:8080/",
     "height": 298
    },
    "colab_type": "code",
    "id": "CqQs55CwzxZA",
    "outputId": "3680883e-2e67-44ef-bc4e-32d8161016dc"
   },
   "outputs": [
    {
     "name": "stdout",
     "output_type": "stream",
     "text": [
      "Model: \"sequential_3\"\n",
      "_________________________________________________________________\n",
      "Layer (type)                 Output Shape              Param #   \n",
      "=================================================================\n",
      "dense_9 (Dense)              (None, 20)                40        \n",
      "_________________________________________________________________\n",
      "dense_10 (Dense)             (None, 50)                1050      \n",
      "_________________________________________________________________\n",
      "dense_11 (Dense)             (None, 20)                1020      \n",
      "_________________________________________________________________\n",
      "dense_12 (Dense)             (None, 2)                 42        \n",
      "=================================================================\n",
      "Total params: 2,152\n",
      "Trainable params: 2,152\n",
      "Non-trainable params: 0\n",
      "_________________________________________________________________\n"
     ]
    }
   ],
   "source": [
    "# summarize model along with number of model weights\n",
    "model.summary()"
   ]
  },
  {
   "cell_type": "code",
   "execution_count": 25,
   "metadata": {
    "colab": {},
    "colab_type": "code",
    "id": "xORtqGr4zxZF"
   },
   "outputs": [],
   "source": [
    "# train the model\n",
    "history=model.fit(x, y, \n",
    "                  batch_size=16, \n",
    "                  epochs=1500,\n",
    "                  verbose=0\n",
    "                 )"
   ]
  },
  {
   "cell_type": "code",
   "execution_count": 26,
   "metadata": {
    "colab": {
     "base_uri": "https://localhost:8080/",
     "height": 472
    },
    "colab_type": "code",
    "id": "e1FWp1LYzxZH",
    "outputId": "2c59158d-73fd-42aa-9e1d-58bd42af45b3"
   },
   "outputs": [
    {
     "data": {
      "image/png": "[encoded data removed]",
      "text/plain": [
       "<Figure size 432x288 with 1 Axes>"
      ]
     },
     "metadata": {
      "needs_background": "light"
     },
     "output_type": "display_data"
    }
   ],
   "source": [
    "# show the data along with the fit plus/minus 2-times the standard deviation\n",
    "x_pred=np.linspace(-3,3*2*np.pi+3,1000).reshape(1000,1)\n",
    "pred_mu=model.predict(np.linspace(-3,3*2*np.pi+3,1000).reshape(1000,1))[:,0]\n",
    "pred_log_sigma=model.predict(np.linspace(-3,3*2*np.pi+3,1000).reshape(1000,1))[:,1]\n",
    "plt.scatter(x,y,marker='o')\n",
    "plt.plot(x_pred,pred_mu,c=\"black\")\n",
    "\n",
    "pred_1_sd_p = pred_mu+(np.exp(pred_log_sigma))\n",
    "pred_1_sd_m = pred_mu-(np.exp(pred_log_sigma))\n",
    "\n",
    "plt.plot(x_pred,pred_1_sd_p, 'b', linewidth=0.5)\n",
    "plt.plot(x_pred,pred_1_sd_m, 'b', linewidth=0.5)\n",
    "\n",
    "pred_2_sd_p = pred_mu+2*(np.exp(pred_log_sigma))\n",
    "pred_2_sd_m = pred_mu-2*(np.exp(pred_log_sigma))\n",
    "\n",
    "plt.plot(x_pred,pred_2_sd_p, 'b', linewidth=0.5)\n",
    "plt.plot(x_pred,pred_2_sd_m, 'b', linewidth=0.5)\n",
    "\n",
    "plt.plot(x_pred,pred_mu+2*(np.exp(pred_log_sigma)), 'b', linewidth=0.5)\n",
    "plt.plot(x_pred,pred_mu-2*(np.exp(pred_log_sigma)), 'b', linewidth=0.5)\n",
    "\n",
    "plt.fill(np.concatenate([x_pred, x_pred[::-1]]),\n",
    "         np.concatenate([pred_2_sd_p,\n",
    "                         pred_2_sd_m[::-1]]),alpha=0.3, fc='lightskyblue', ec='None')\n",
    "plt.fill(np.concatenate([x_pred, x_pred[::-1]]),\n",
    "         np.concatenate([pred_1_sd_p,\n",
    "                         pred_1_sd_m[::-1]]),alpha=0.3, fc='deepskyblue', ec='None')\n",
    "plt.title(\"simulated data\")\n",
    "plt.xlabel(\"x\")\n",
    "plt.ylabel(\"y\")\n",
    "plt.show()"
   ]
  },
  {
   "cell_type": "markdown",
   "metadata": {
    "colab_type": "text",
    "id": "dMsTaVhvHqNb"
   },
   "source": [
    "\n",
    "#### Solution \n",
    "When using sigmoid as activation function you get a different result: The curves for the fit (mean) and also the curves for the reference interval (mean plus/minus 2-times stddev) now apprear much smoother. This effect is probably due to the fact that relus are not smooth and if you change the input to a ReLU from negative to small positive, it gets activated and contributes to the output. We also observe that we need to train for more epochs with sigmoids than with relus, this is due the smaller gradients and updatesteps that backpropagate with the sigmoid activation."
   ]
  },
  {
   "cell_type": "code",
   "execution_count": null,
   "metadata": {
    "colab": {},
    "colab_type": "code",
    "id": "z3-aZgkPdqmr"
   },
   "outputs": [],
   "source": []
  }
 ],
 "metadata": {
  "accelerator": "GPU",
  "colab": {
   "collapsed_sections": [],
   "name": "nb_ch04_04.ipynb",
   "provenance": [],
   "version": "0.3.2"
  },
  "kernelspec": {
   "display_name": "Python 3",
   "language": "python",
   "name": "python3"
  },
  "language_info": {
   "codemirror_mode": {
    "name": "ipython",
    "version": 3
   },
   "file_extension": ".py",
   "mimetype": "text/x-python",
   "name": "python",
   "nbconvert_exporter": "python",
   "pygments_lexer": "ipython3",
   "version": "3.6.8"
  }
 },
 "nbformat": 4,
 "nbformat_minor": 1
}
