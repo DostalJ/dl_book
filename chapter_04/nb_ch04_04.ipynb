{
  "nbformat": 4,
  "nbformat_minor": 0,
  "metadata": {
    "colab": {
      "name": "nb_ch04_03.ipynb",
      "version": "0.3.2",
      "provenance": [],
      "collapsed_sections": [],
      "toc_visible": true
    },
    "language_info": {
      "codemirror_mode": {
        "name": "ipython",
        "version": 3
      },
      "file_extension": ".py",
      "mimetype": "text/x-python",
      "name": "python",
      "nbconvert_exporter": "python",
      "pygments_lexer": "ipython3",
      "version": "3.5.2"
    },
    "kernelspec": {
      "display_name": "Python 3",
      "language": "python",
      "name": "python3"
    }
  },
  "cells": [
    {
      "cell_type": "markdown",
      "metadata": {
        "colab_type": "text",
        "id": "IckpDJSeOoFS"
      },
      "source": [
        "# Using NN with appropriate loss functions for fitting flexible regression models\n",
        "\n",
        "**Goal:** .\n",
        "In this notebook you see how to step-wise adapt the NN architecture and the loss function to develop a regression model that achieves a good fit for some simulated data with non-linear structure and non-constant data variablilty. \n",
        "\n",
        "**Usage:** . \n",
        "Read chapter 4.3 and step through the code and play with it to understand what is going on. \n",
        "\n",
        "**Dataset:** \n",
        "Artificial.\n",
        "\n",
        "**Content:**\n",
        "* Simulate some data with non-linear relationship between x and y and changing data variablility.\n",
        "* View regression as model for the conditional Normal distribution for the outcome where the mean and standard deviation can depend on x\n",
        "* Fist model: Use a NN w/o hidden layer and with one output node to  fit a linear regression model where the mean parameter of the CPD linearly depends on x. The loss function is given by the NLL which reduces for constant variance to the MSE.\n",
        "* Second model: Use a NN with hidden layer and with one output node to  fit a linear regression model where the mean parameter of the CPD can non-linearly depend on x. The loss function is given by the NLL which reduces for constant variance to the MSE.\n",
        "*  Third model: Use a NN with hidden layer and two output node to  fit a linear regression model where the mean and the standard-deviation parameter of the CPD can non-linearly depend on x. The loss function is given by the NLL which cannot be reduced to the MSE because the variance is not constant.\n",
        "\n",
        "\n",
        "| [open in colab](https://colab.research.google.com/github/tensorchiefs/dl_book/blob/master/chapter_04/nb_ch04_04.ipynb)\n",
        "\n"
      ]
    },
    {
      "cell_type": "markdown",
      "metadata": {
        "id": "TUFwjkN-WESV",
        "colab_type": "text"
      },
      "source": [
        "## Import of libraries"
      ]
    },
    {
      "cell_type": "code",
      "metadata": {
        "colab_type": "code",
        "id": "wXx-oXP3c5Qo",
        "outputId": "c4502610-356b-4410-838a-679c1e1a3fc4",
        "colab": {
          "base_uri": "https://localhost:8080/",
          "height": 35
        }
      },
      "source": [
        "#load required libraries:\n",
        "import numpy as np\n",
        "import matplotlib.pyplot as plt\n",
        "%matplotlib inline\n",
        "plt.style.use('default')\n",
        "import numpy as np\n",
        "\n",
        "import tensorflow as tf\n",
        "\n",
        "from tensorflow.keras.models import Sequential\n",
        "from tensorflow.keras.layers import Dense, Convolution2D, MaxPooling2D, Flatten , Activation\n",
        "from tensorflow.keras import optimizers\n",
        "\n",
        "tf.__version__"
      ],
      "execution_count": 0,
      "outputs": [
        {
          "output_type": "execute_result",
          "data": {
            "text/plain": [
              "'2.0.0-alpha0'"
            ]
          },
          "metadata": {
            "tags": []
          },
          "execution_count": 1
        }
      ]
    },
    {
      "cell_type": "markdown",
      "metadata": {
        "id": "msWFSYpyWP64",
        "colab_type": "text"
      },
      "source": [
        "## Simulate some data and visualize them "
      ]
    },
    {
      "cell_type": "code",
      "metadata": {
        "id": "HeNcEP7FHqMS",
        "colab_type": "code",
        "colab": {}
      },
      "source": [
        "def create_random_data(n = 300):\n",
        "    np.random.seed(32)\n",
        "    n = 300\n",
        "    x = np.linspace(0,1*2*np.pi,n)\n",
        "    y1 = 3*np.sin(x)\n",
        "    y1 = np.concatenate((np.zeros(60), y1+np.random.normal(0,0.15*np.abs(y1),n),np.zeros(60)))\n",
        "    x=np.concatenate((np.linspace(-3,0,60),np.linspace(0,3*2*np.pi,n),np.linspace(3*2*np.pi,3*2*np.pi+3,60)))\n",
        "    y2 = 0.1*x+1\n",
        "    y=y1+y2\n",
        "    return x,y"
      ],
      "execution_count": 0,
      "outputs": []
    },
    {
      "cell_type": "code",
      "metadata": {
        "colab_type": "code",
        "id": "M_TLELogc53W",
        "outputId": "adb1ca67-5890-49d3-cc74-7d97609b07bd",
        "colab": {
          "base_uri": "https://localhost:8080/",
          "height": 473
        }
      },
      "source": [
        "## use custom function to simulate some data \n",
        "x,y = create_random_data(n=300) #A\n",
        "plt.scatter(x=x,y=y,marker='o')\n",
        "plt.title(\"simulated data\")\n",
        "plt.xlabel(\"x\")\n",
        "plt.ylabel(\"y\")\n",
        "n=len(x)"
      ],
      "execution_count": 0,
      "outputs": [
        {
          "output_type": "display_data",
          "data": {
            "image/png": "[encoded data removed]",
            "text/plain": [
              "<Figure size 432x288 with 1 Axes>"
            ]
          },
          "metadata": {
            "tags": [],
            "needs_background": "light"
          }
        }
      ]
    },
    {
      "cell_type": "markdown",
      "metadata": {
        "id": "D08xD5pIWugV",
        "colab_type": "text"
      },
      "source": [
        "## First model: NN for the most simple linear regression \n",
        "\n",
        "Use a NN w/o hidden layer and with one output node to fit a linear regression model where the mean parameter of the CPD linearly depends on x. Since the variance is not modeled, the loss function or NLL is given by the MSE (see derivation in chapter 4.3)."
      ]
    },
    {
      "cell_type": "code",
      "metadata": {
        "colab_type": "code",
        "id": "553ybn8J3qCK",
        "colab": {}
      },
      "source": [
        "# set up a NN without hidden layer and only one output node \n",
        "# This assumes that the mean of the CPD depends linearly on x\n",
        "# and the standard deviation of the CPD is constant and not modeled\n",
        "model = Sequential()\n",
        "model.add(Dense(1, activation='linear',batch_input_shape=(None, 1)))\n",
        "model.compile(loss='mean_squared_error',optimizer=\"adam\")"
      ],
      "execution_count": 0,
      "outputs": []
    },
    {
      "cell_type": "code",
      "metadata": {
        "colab_type": "code",
        "id": "YP-YJS7H5Nq2",
        "outputId": "730222fd-7f4c-462c-c115-6233d9f12f42",
        "colab": {
          "base_uri": "https://localhost:8080/",
          "height": 173
        }
      },
      "source": [
        "# get a summary of the NN architectures \n",
        "model.summary()"
      ],
      "execution_count": 0,
      "outputs": [
        {
          "output_type": "stream",
          "text": [
            "Model: \"sequential_3\"\n",
            "_________________________________________________________________\n",
            "Layer (type)                 Output Shape              Param #   \n",
            "=================================================================\n",
            "dense_9 (Dense)              (None, 1)                 2         \n",
            "=================================================================\n",
            "Total params: 2\n",
            "Trainable params: 2\n",
            "Non-trainable params: 0\n",
            "_________________________________________________________________\n"
          ],
          "name": "stdout"
        }
      ]
    },
    {
      "cell_type": "markdown",
      "metadata": {
        "id": "1wLJ1pOBX6LR",
        "colab_type": "text"
      },
      "source": [
        "#### Train the first model and show the fit along with the data"
      ]
    },
    {
      "cell_type": "code",
      "metadata": {
        "colab_type": "code",
        "id": "PA6TEu986Ygu",
        "colab": {}
      },
      "source": [
        "# train the model  \n",
        "history=model.fit(x, y, \n",
        "                  batch_size=n, \n",
        "                  epochs=5000,\n",
        "                  verbose=0, \n",
        "                 )"
      ],
      "execution_count": 0,
      "outputs": []
    },
    {
      "cell_type": "code",
      "metadata": {
        "colab_type": "code",
        "id": "S6Uwe3TFp_Nj",
        "outputId": "8ce8df96-d189-4c24-d759-984293c4da3c",
        "colab": {
          "base_uri": "https://localhost:8080/",
          "height": 52
        }
      },
      "source": [
        "model.evaluate(x,y)"
      ],
      "execution_count": 0,
      "outputs": [
        {
          "output_type": "stream",
          "text": [
            "420/420 [==============================] - 0s 89us/sample - loss: 2.5284\n"
          ],
          "name": "stdout"
        },
        {
          "output_type": "execute_result",
          "data": {
            "text/plain": [
              "2.528433719135466"
            ]
          },
          "metadata": {
            "tags": []
          },
          "execution_count": 26
        }
      ]
    },
    {
      "cell_type": "code",
      "metadata": {
        "colab_type": "code",
        "id": "wEn_X6me7WAk",
        "outputId": "89046fc8-d61b-4a79-f127-35f96e2f2541",
        "colab": {
          "base_uri": "https://localhost:8080/",
          "height": 472
        }
      },
      "source": [
        "# show the data along with the fit\n",
        "plt.scatter(x=x,y=y,marker='o')\n",
        "plt.plot(x,model.predict(x),c=\"black\")\n",
        "plt.title(\"simulated data\")\n",
        "plt.xlabel(\"x\")\n",
        "plt.ylabel(\"y\")\n",
        "plt.show()\n"
      ],
      "execution_count": 0,
      "outputs": [
        {
          "output_type": "display_data",
          "data": {
            "image/png": "[encoded data removed]",
            "text/plain": [
              "<Figure size 432x288 with 1 Axes>"
            ]
          },
          "metadata": {
            "tags": [],
            "needs_background": "light"
          }
        }
      ]
    },
    {
      "cell_type": "code",
      "metadata": {
        "colab_type": "code",
        "id": "MEvekMk07r2N",
        "outputId": "d28addc1-dbca-41a6-def2-4d0d78b2eb0b",
        "colab": {
          "base_uri": "https://localhost:8080/",
          "height": 34
        }
      },
      "source": [
        "# get model parameters: slope and intercept of the linear model\n",
        "model.get_weights()"
      ],
      "execution_count": 0,
      "outputs": [
        {
          "output_type": "execute_result",
          "data": {
            "text/plain": [
              "[array([[0.00893108]], dtype=float32), array([1.7413089], dtype=float32)]"
            ]
          },
          "metadata": {
            "tags": []
          },
          "execution_count": 28
        }
      ]
    },
    {
      "cell_type": "markdown",
      "metadata": {
        "id": "9WSjj0wMZNpr",
        "colab_type": "text"
      },
      "source": [
        "## Second model: NN for a non-linear  regression model\n",
        "\n",
        "Use a NN with hidden layer and with one output node to fit a linear regression model where the mean parameter of the CPD can non-linearly depend on x. Since the variance is not modeled, the loss function or NLL is given by the MSE (see derivation in chapter 4.3)."
      ]
    },
    {
      "cell_type": "code",
      "metadata": {
        "colab_type": "code",
        "id": "9guOp97S8DMh",
        "colab": {}
      },
      "source": [
        "# set up a NN with 3 hidden layers and only one output node \n",
        "# This allows that the mean of the CPD depends non-linearly on x\n",
        "# and the standard deviation of the CPD is constant and not modeled\n",
        "model = Sequential()\n",
        "model.add(Dense(20, activation='relu',\n",
        "                batch_input_shape=(None, 1)))\n",
        "model.add(Dense(50, activation='relu'))\n",
        "model.add(Dense(20, activation='relu'))\n",
        "model.add(Dense(1, activation='linear'))\n",
        "model.compile(loss='mean_squared_error',optimizer=\"adam\")"
      ],
      "execution_count": 0,
      "outputs": []
    },
    {
      "cell_type": "code",
      "metadata": {
        "colab_type": "code",
        "id": "QN6TSCBW8DcA",
        "outputId": "e28f0a81-e9ac-4caf-dcb8-913b05c7d1e9",
        "colab": {
          "base_uri": "https://localhost:8080/",
          "height": 280
        }
      },
      "source": [
        "model.summary()"
      ],
      "execution_count": 0,
      "outputs": [
        {
          "output_type": "stream",
          "text": [
            "Model: \"sequential_4\"\n",
            "_________________________________________________________________\n",
            "Layer (type)                 Output Shape              Param #   \n",
            "=================================================================\n",
            "dense_10 (Dense)             (None, 20)                40        \n",
            "_________________________________________________________________\n",
            "dense_11 (Dense)             (None, 50)                1050      \n",
            "_________________________________________________________________\n",
            "dense_12 (Dense)             (None, 20)                1020      \n",
            "_________________________________________________________________\n",
            "dense_13 (Dense)             (None, 1)                 21        \n",
            "=================================================================\n",
            "Total params: 2,131\n",
            "Trainable params: 2,131\n",
            "Non-trainable params: 0\n",
            "_________________________________________________________________\n"
          ],
          "name": "stdout"
        }
      ]
    },
    {
      "cell_type": "markdown",
      "metadata": {
        "id": "N2QsMX3KaYG7",
        "colab_type": "text"
      },
      "source": [
        "#### Train the second model and show the fit along with the data"
      ]
    },
    {
      "cell_type": "code",
      "metadata": {
        "colab_type": "code",
        "id": "LmmiZLCj8DtK",
        "colab": {}
      },
      "source": [
        "# train the model\n",
        "history=model.fit(x, y, \n",
        "                  batch_size=n, \n",
        "                  epochs=10000,\n",
        "                  verbose=0, \n",
        "                 )"
      ],
      "execution_count": 0,
      "outputs": []
    },
    {
      "cell_type": "code",
      "metadata": {
        "colab_type": "code",
        "id": "uX1r601-p6f2",
        "outputId": "abdabf37-9620-47cd-ae72-3b46821f57b8",
        "colab": {
          "base_uri": "https://localhost:8080/",
          "height": 52
        }
      },
      "source": [
        "model.evaluate(x,y)"
      ],
      "execution_count": 0,
      "outputs": [
        {
          "output_type": "stream",
          "text": [
            "420/420 [==============================] - 0s 103us/sample - loss: 0.0645\n"
          ],
          "name": "stdout"
        },
        {
          "output_type": "execute_result",
          "data": {
            "text/plain": [
              "0.06448783066845776"
            ]
          },
          "metadata": {
            "tags": []
          },
          "execution_count": 32
        }
      ]
    },
    {
      "cell_type": "code",
      "metadata": {
        "colab_type": "code",
        "id": "oI7-u6j48D8n",
        "outputId": "e816baa7-e838-41dd-d259-c43bba1d230f",
        "colab": {
          "base_uri": "https://localhost:8080/",
          "height": 472
        }
      },
      "source": [
        "# show the data along with the fit\n",
        "plt.scatter(x=x,y=y,marker='o')\n",
        "plt.plot(np.linspace(-3,3*2*np.pi+3,1000),model.predict(np.linspace(-3,3*2*np.pi+3,1000)),c=\"black\")\n",
        "plt.title(\"simulated data\")\n",
        "plt.xlabel(\"x\")\n",
        "plt.ylabel(\"y\")\n",
        "plt.show()"
      ],
      "execution_count": 0,
      "outputs": [
        {
          "output_type": "display_data",
          "data": {
            "image/png": "[encoded data removed]",
            "text/plain": [
              "<Figure size 432x288 with 1 Axes>"
            ]
          },
          "metadata": {
            "tags": [],
            "needs_background": "light"
          }
        }
      ]
    },
    {
      "cell_type": "markdown",
      "metadata": {
        "id": "y39UmM6LalEe",
        "colab_type": "text"
      },
      "source": [
        "## Third model: NN for a non-linear  regression model with changing variance\n",
        "\n",
        "Use a NN with hidden layer and two output node to  fit a linear regression model where the mean and the standard-deviation parameter of the CPD can non-linearly depend on x. Since the variance is now also modeled, the loss function or NLL is not anymore given by the MSE but has a more complicated form (see derivation in chapter 4.3). Keras does not provide this loss function therefore you must program it yourself."
      ]
    },
    {
      "cell_type": "code",
      "metadata": {
        "colab_type": "code",
        "id": "gKrhyfmrixFJ",
        "colab": {}
      },
      "source": [
        "# define loss function that corresponds to NLL  \n",
        "import math\n",
        "def my_loss(y_true,y_pred):\n",
        "  mu=tf.slice(y_pred,[0,0],[-1,1])              # A     \n",
        "  sigma=tf.math.exp(tf.slice(y_pred,[0,1],[-1,1]))   # B \n",
        "  \n",
        "  a=1/(tf.sqrt(2.*math.pi)*sigma) \n",
        "  b1=tf.square(mu-y_true)\n",
        "  b2=2*tf.square(sigma)\n",
        "  b=b1/b2\n",
        "  \n",
        "  loss = tf.reduce_sum(-tf.math.log(a)+b,axis=0)\n",
        "  return loss\n",
        "\n",
        "#A extract first column for μ \n",
        "#B extract second column for σ"
      ],
      "execution_count": 0,
      "outputs": []
    },
    {
      "cell_type": "code",
      "metadata": {
        "colab_type": "code",
        "id": "FNHZjqymi8zQ",
        "colab": {}
      },
      "source": [
        "# set up the model with3  hidden layers and 2 output nodes\n",
        "# This allows that the mean of the CPD depends non-linearly on x\n",
        "# and also the standard deviation can depend non-linearly on x\n",
        "model =  Sequential()\n",
        "model.add(Dense(20, activation='relu',batch_input_shape=(None, 1)))\n",
        "model.add(Dense(50, activation='relu'))\n",
        "model.add(Dense(20, activation='relu'))\n",
        "model.add(Dense(2, activation='linear'))\n",
        "\n",
        "model.compile(loss=my_loss,optimizer=\"adam\",metrics=[my_loss])"
      ],
      "execution_count": 0,
      "outputs": []
    },
    {
      "cell_type": "code",
      "metadata": {
        "colab_type": "code",
        "id": "-j8G3tED1ZYb",
        "outputId": "fe88d8da-9a4f-4511-992d-de7226cf961f",
        "colab": {
          "base_uri": "https://localhost:8080/",
          "height": 280
        }
      },
      "source": [
        "# show a summary of the NN architecture\n",
        "model.summary()"
      ],
      "execution_count": 0,
      "outputs": [
        {
          "output_type": "stream",
          "text": [
            "Model: \"sequential_8\"\n",
            "_________________________________________________________________\n",
            "Layer (type)                 Output Shape              Param #   \n",
            "=================================================================\n",
            "dense_26 (Dense)             (None, 20)                40        \n",
            "_________________________________________________________________\n",
            "dense_27 (Dense)             (None, 50)                1050      \n",
            "_________________________________________________________________\n",
            "dense_28 (Dense)             (None, 20)                1020      \n",
            "_________________________________________________________________\n",
            "dense_29 (Dense)             (None, 2)                 42        \n",
            "=================================================================\n",
            "Total params: 2,152\n",
            "Trainable params: 2,152\n",
            "Non-trainable params: 0\n",
            "_________________________________________________________________\n"
          ],
          "name": "stdout"
        }
      ]
    },
    {
      "cell_type": "markdown",
      "metadata": {
        "id": "8ipJu4s-b4Da",
        "colab_type": "text"
      },
      "source": [
        "#### Train the third model and show the fit along with the data"
      ]
    },
    {
      "cell_type": "code",
      "metadata": {
        "colab_type": "code",
        "id": "ESN3m60ljT3w",
        "colab": {}
      },
      "source": [
        "# train the model\n",
        "history=model.fit(x, y, \n",
        "                  batch_size=n, \n",
        "                  epochs=8000,\n",
        "                  verbose=0)"
      ],
      "execution_count": 0,
      "outputs": []
    },
    {
      "cell_type": "code",
      "metadata": {
        "colab_type": "code",
        "id": "STvM2fP91Czs",
        "outputId": "2e1ae2c0-beef-4c82-fca8-784ea266f563",
        "colab": {
          "base_uri": "https://localhost:8080/",
          "height": 472
        }
      },
      "source": [
        "# show the data along with the fit plus/minus 2-times the standard deviation\n",
        "x_pred=np.linspace(-3,3*2*np.pi+3,1000).reshape(1000,1)\n",
        "pred_mu=model.predict(np.linspace(-3,3*2*np.pi+3,1000).reshape(1000,1))[:,0]\n",
        "pred_log_sigma=model.predict(np.linspace(-3,3*2*np.pi+3,1000).reshape(1000,1))[:,1]\n",
        "plt.scatter(x,y,marker='o')\n",
        "plt.plot(x_pred,pred_mu,c=\"black\")\n",
        "\n",
        "pred_1_sd_p = pred_mu+(np.exp(pred_log_sigma))\n",
        "pred_1_sd_m = pred_mu-(np.exp(pred_log_sigma))\n",
        "\n",
        "plt.plot(x_pred,pred_1_sd_p, 'b', linewidth=0.5)\n",
        "plt.plot(x_pred,pred_1_sd_m, 'b', linewidth=0.5)\n",
        "\n",
        "pred_2_sd_p = pred_mu+2*(np.exp(pred_log_sigma))\n",
        "pred_2_sd_m = pred_mu-2*(np.exp(pred_log_sigma))\n",
        "\n",
        "plt.plot(x_pred,pred_2_sd_p, 'b', linewidth=0.5)\n",
        "plt.plot(x_pred,pred_2_sd_m, 'b', linewidth=0.5)\n",
        "\n",
        "plt.plot(x_pred,pred_mu+2*(np.exp(pred_log_sigma)), 'b', linewidth=0.5)\n",
        "plt.plot(x_pred,pred_mu-2*(np.exp(pred_log_sigma)), 'b', linewidth=0.5)\n",
        "\n",
        "plt.fill(np.concatenate([x_pred, x_pred[::-1]]),\n",
        "         np.concatenate([pred_2_sd_p,\n",
        "                         pred_2_sd_m[::-1]]),alpha=0.3, fc='lightskyblue', ec='None')\n",
        "plt.fill(np.concatenate([x_pred, x_pred[::-1]]),\n",
        "         np.concatenate([pred_1_sd_p,\n",
        "                         pred_1_sd_m[::-1]]),alpha=0.3, fc='deepskyblue', ec='None')\n",
        "plt.title(\"simulated data\")\n",
        "plt.xlabel(\"x\")\n",
        "plt.ylabel(\"y\")\n",
        "plt.show()"
      ],
      "execution_count": 0,
      "outputs": [
        {
          "output_type": "display_data",
          "data": {
            "image/png": "[encoded data removed]",
            "text/plain": [
              "<Figure size 432x288 with 1 Axes>"
            ]
          },
          "metadata": {
            "tags": [],
            "needs_background": "light"
          }
        }
      ]
    },
    {
      "cell_type": "markdown",
      "metadata": {
        "id": "FbOxrRXAcQOh",
        "colab_type": "text"
      },
      "source": [
        "# Exercise 1"
      ]
    },
    {
      "cell_type": "code",
      "metadata": {
        "colab_type": "code",
        "id": "Ss3MPCuKjlO-",
        "colab": {}
      },
      "source": [
        "### The Likelihood for different number of faces\n",
        "\n",
        "<img src=\"https://raw.githubusercontent.com/tensorchiefs/dl_book/master/imgs/paper-pen.png\" width=\"60\" align=\"left\" />  \n",
        "\n",
        "\n",
        "*Exercise: Change the activations to sigmoid and redo the analysis."
      ],
      "execution_count": 0,
      "outputs": []
    },
    {
      "cell_type": "markdown",
      "metadata": {
        "id": "dMsTaVhvHqNb",
        "colab_type": "text"
      },
      "source": [
        "####.\n",
        "\n",
        "\n",
        "\n",
        "\n",
        "\n",
        "\n",
        "\n",
        "\n",
        "\n",
        "\n",
        "\n",
        "\n",
        "\n",
        "\n",
        "\n",
        "\n",
        "\n",
        "\n",
        "\n",
        "\n",
        "\n",
        "\n",
        "\n",
        "\n",
        "\n",
        "\n",
        "\n",
        "\n",
        "\n",
        "\n",
        "\n",
        "\n",
        "\n",
        "#### Solution \n",
        "When using sigmoid as activation function wo get a changed result: The curves for the fit (mean) and also the curves for the reference interval (mean plus/minus 2-times stddev=) now apprear much smoother. This effect is probably due to the fact that relus are not smooth and if you change the input to a ReLU from negative to small positive you gets activated and contributes to the output."
      ]
    },
    {
      "cell_type": "code",
      "metadata": {
        "id": "j-UKUsR_HqNc",
        "colab_type": "code",
        "colab": {}
      },
      "source": [
        ""
      ],
      "execution_count": 0,
      "outputs": []
    }
  ]
}