{
 "cells": [
  {
   "cell_type": "markdown",
   "metadata": {
    "colab_type": "text",
    "id": "whgi7gogh-1J"
   },
   "source": [
    "# First example of the maximum likelihood principle: throwing a dice \n",
    "\n",
    "\n",
    "**Goal:** In this notebook you will learn about the maximum likelihood principle. You will first calculate the probability of the number of successes for a binomial experiment for a given probability (of success) p. Then you will turn the game around and use the maximum likelihood principle to estimate the parameter p of a binominal distribution for a given number of successes. You will see why one usually takes the sum of logarithms of probabilities instead of the product of the probabilities.\n",
    "\n",
    "**Usage:** The idea of the notebook is that you try to understand the provided code by running it, checking the output and playing with it by slightly changing the code and rerunning it. \n",
    "\n",
    "**Content:**\n",
    "* calculate the probability of the number of successes for a binomial experiment\n",
    "* visualize the probability of the number of successes\n",
    "* estimate the parameter p of a binominal distribution\n",
    "* visualize the likelihoods for the prameter p\n",
    "* calculating the product of many numbers <= 1\n",
    "* takeing the log of the product of two sine functions and see that the logarithm does not change the position of the maximum\n",
    "* calculating the logarithm of many numbers <= 1\n",
    "\n",
    "| [open in colab](https://colab.research.google.com/github/tensorchiefs/dl_book/blob/master/chapter_04/nb_ch04_01.ipynb)\n",
    "\n"
   ]
  },
  {
   "cell_type": "markdown",
   "metadata": {
    "colab_type": "text",
    "id": "-uj4jX8a-U1i"
   },
   "source": [
    "#### Imports"
   ]
  },
  {
   "cell_type": "code",
   "execution_count": 1,
   "metadata": {
    "colab": {},
    "colab_type": "code",
    "id": "LP57fRkISfkr"
   },
   "outputs": [],
   "source": [
    "#load required libraries:\n",
    "import numpy as np\n",
    "import matplotlib.pyplot as plt\n",
    "%matplotlib inline\n",
    "plt.style.use('default')"
   ]
  },
  {
   "cell_type": "code",
   "execution_count": 2,
   "metadata": {
    "colab": {
     "base_uri": "https://localhost:8080/",
     "height": 35
    },
    "colab_type": "code",
    "id": "RW7gnZSFKdT9",
    "outputId": "6ef93692-e90a-4ec4-8e89-624b5a6540af"
   },
   "outputs": [
    {
     "data": {
      "text/plain": [
       "(0.3230111657796916, 0.2907100492017224)"
      ]
     },
     "execution_count": 2,
     "metadata": {},
     "output_type": "execute_result"
    }
   ],
   "source": [
    "# Probability of 1 and 2 dollar sign apprearing in 10 throws\n",
    "# See book section 4.1\n",
    "10*(1/6)*(5/6)**9, 45*(1/6)**2*(5/6)**8"
   ]
  },
  {
   "cell_type": "markdown",
   "metadata": {
    "colab_type": "text",
    "id": "mHaxN56BixUu"
   },
   "source": [
    "### The probability of finding k dollar signs in 10 throws\n",
    "\n",
    "The binominal distribution calculates the probability of k dollar signs found in n=10 throws. The probability of finding a dollar sign in one throw is given by p."
   ]
  },
  {
   "cell_type": "code",
   "execution_count": 3,
   "metadata": {
    "colab": {
     "base_uri": "https://localhost:8080/",
     "height": 471
    },
    "colab_type": "code",
    "id": "Oi7Uc0EKHOWw",
    "outputId": "f4f9e592-df66-4bfe-b95a-b8c537ad7204"
   },
   "outputs": [
    {
     "data": {
      "text/plain": [
       "Text(0, 0.5, 'Probability')"
      ]
     },
     "execution_count": 3,
     "metadata": {},
     "output_type": "execute_result"
    },
    {
     "data": {
      "image/png": "[encoded data removed]",
      "text/plain": [
       "<Figure size 432x288 with 1 Axes>"
      ]
     },
     "metadata": {
      "needs_background": "light"
     },
     "output_type": "display_data"
    }
   ],
   "source": [
    "from scipy.stats import binom\n",
    "ndollar = np.asarray(np.linspace(0,10,11), dtype='int') #A\n",
    "pdollar_sign = binom.pmf(k=ndollar, n=10, p=1/6)  #B    \n",
    "plt.stem(ndollar, pdollar_sign)\n",
    "plt.xlabel('Number of dollar signs')\n",
    "plt.ylabel('Probability')\n",
    "\n",
    "#A The numbers of successes (thrown dollar sings) 0 to 10 as integers\n",
    "#B The probability of throwing 0,1,2..., dollar sings with the probability p = 1/6"
   ]
  },
  {
   "cell_type": "markdown",
   "metadata": {
    "colab_type": "text",
    "id": "2pYBINcljmLM"
   },
   "source": [
    "### The Likelihood for different number of faces\n",
    "\n",
    "<img src=\"https://raw.githubusercontent.com/tensorchiefs/dl_book/master/imgs/paper-pen.png\" width=\"60\" align=\"left\" />  \n",
    "\n",
    "\n",
    "*Exercise: Follow the genius idea described in the book.  \n",
    "You observed k=2 dollar signs in n=10 throws. Leave this fixed in the binomial distribution and vary p so that it correspond to 0,1,2 ..., 6 dollar signs on the dice.* "
   ]
  },
  {
   "cell_type": "code",
   "execution_count": 4,
   "metadata": {
    "colab": {},
    "colab_type": "code",
    "id": "KS8nYTL_k7gs"
   },
   "outputs": [],
   "source": [
    "## Your code here. "
   ]
  },
  {
   "cell_type": "markdown",
   "metadata": {
    "colab_type": "text",
    "id": "4PUhEbpflIRc"
   },
   "source": [
    "Scroll down after you finished the task\n",
    "\n",
    "</br>\n",
    "</br>\n",
    "</br>\n",
    "</br>\n",
    "</br>\n",
    "</br>\n",
    "</br>\n",
    "</br>\n",
    "</br>\n",
    "</br>\n",
    "</br>\n",
    "</br>\n",
    "</br>\n",
    "</br>\n",
    "</br>\n",
    "</br>\n",
    "</br>\n",
    "</br>\n",
    "</br>\n",
    "</br>\n",
    "</br>"
   ]
  },
  {
   "cell_type": "code",
   "execution_count": 5,
   "metadata": {
    "colab": {
     "base_uri": "https://localhost:8080/",
     "height": 471
    },
    "colab_type": "code",
    "id": "Rmo-A74tPBY-",
    "outputId": "6361057e-5d49-4c3f-f78e-5f3768287f80"
   },
   "outputs": [
    {
     "data": {
      "text/plain": [
       "Text(0, 0.5, 'Probability observing 2 dollar signs in 10 throws')"
      ]
     },
     "execution_count": 5,
     "metadata": {},
     "output_type": "execute_result"
    },
    {
     "data": {
      "image/png": "[encoded data removed]",
      "text/plain": [
       "<Figure size 432x288 with 1 Axes>"
      ]
     },
     "metadata": {
      "needs_background": "light"
     },
     "output_type": "display_data"
    }
   ],
   "source": [
    "# Solution\n",
    "from scipy.stats import binom\n",
    "ndollar = np.asarray(np.linspace(0,6,7), dtype='int') #A \n",
    "pdollar = binom.pmf(k=2, n=10, p=ndollar/6)           #B\n",
    "plt.stem(ndollar, pdollar)\n",
    "plt.xlabel('Number of dollar signs on the dice')\n",
    "plt.ylabel('Probability observing 2 dollar signs in 10 throws')\n",
    "\n",
    "#A The numbers of dollar signs on the die.\n",
    "#B The probability of throwing 2 dollar sings with the varying probability p = 1/6, 2/6, 3/6 ..."
   ]
  },
  {
   "cell_type": "markdown",
   "metadata": {
    "colab_type": "text",
    "id": "sbV7rIX4lcxz"
   },
   "source": [
    "# Numerical Stability\n",
    "\n",
    "\n",
    "### The product of probabilities.\n",
    "\n",
    "As you can see in the following, mulitiplying many values between zero and one, lead to small values indistinguishable from 0.   \n",
    "To demonstrate this we sample first 100 values from an uniform distribution with min = 0 and max = 1, then we take the product of those values and do the same for a 1000 values.\n",
    "For a 100 values we get a very very small number but for 1000 values we get 0, this is due to the limited precision of the float numbers in a computer.\n"
   ]
  },
  {
   "cell_type": "code",
   "execution_count": 6,
   "metadata": {
    "colab": {
     "base_uri": "https://localhost:8080/",
     "height": 35
    },
    "colab_type": "code",
    "id": "SRnBJcTLh67y",
    "outputId": "3386f533-fe72-4718-8f27-2a4eef255722"
   },
   "outputs": [
    {
     "name": "stdout",
     "output_type": "stream",
     "text": [
      "1.643578576899344e-45 0.0\n"
     ]
    }
   ],
   "source": [
    "vals100 = np.random.uniform(0,1,100)\n",
    "vals1000 = np.random.uniform(0,1,1000)\n",
    "x100 = np.product(vals100) \n",
    "x1000 = np.product(vals1000) \n",
    "print(x100, x1000)"
   ]
  },
  {
   "cell_type": "markdown",
   "metadata": {
    "colab_type": "text",
    "id": "eFQstp-QmMmw"
   },
   "source": [
    "### Taking the log does not change the position of the maximum\n",
    "\n",
    "In the next cell we show that the x value in which the maximum of a function f(x) is, stays the same as the value in which the logarithm if the same function f(x) = log(f(x)) is maximal. For demonstration, we use the absolute values of the product of two sine waves as our function f(x) and take the log of it.\n",
    "As you can see, the maximum for both functions is at the same position."
   ]
  },
  {
   "cell_type": "code",
   "execution_count": 7,
   "metadata": {
    "colab": {
     "base_uri": "https://localhost:8080/",
     "height": 471
    },
    "colab_type": "code",
    "id": "p91gzNLKlv7A",
    "outputId": "629d0674-ad9b-4cf6-ea8a-82378564f86a"
   },
   "outputs": [
    {
     "data": {
      "text/plain": [
       "<matplotlib.legend.Legend at 0x7f9b0e9504a8>"
      ]
     },
     "execution_count": 7,
     "metadata": {},
     "output_type": "execute_result"
    },
    {
     "data": {
      "image/png": "[encoded data removed]",
      "text/plain": [
       "<Figure size 432x288 with 1 Axes>"
      ]
     },
     "metadata": {
      "needs_background": "light"
     },
     "output_type": "display_data"
    }
   ],
   "source": [
    "vals = 1 + np.abs(np.sin(np.linspace(0, 3*np.pi, 1000)) * np.sin(np.linspace(0, np.pi, 1000)))\n",
    "plt.plot(range(0, 1000),vals,'b-')\n",
    "plt.plot(range(0, 1000),np.log(vals),'g--')\n",
    "plt.xlabel('x')\n",
    "plt.legend((\"f(x)\",\"log(f(X))\"),fontsize=10)"
   ]
  },
  {
   "cell_type": "markdown",
   "metadata": {
    "colab_type": "text",
    "id": "tROj3cUXn_Pn"
   },
   "source": [
    "### Takeing the logs and summing up.\n",
    "\n",
    "Using $\\log(A \\cdot B) = \\log(A) + \\log(B)$ changes the product to the sums of logs (see book).  \n",
    "In this cell you see that we can take the logs of the sums instead of the products, remeber we have values from a uniform distribution with min = 0 and max = 1.\n",
    "As you can see now we dont have the problem of the numerical precision anymore."
   ]
  },
  {
   "cell_type": "code",
   "execution_count": 8,
   "metadata": {
    "colab": {
     "base_uri": "https://localhost:8080/",
     "height": 35
    },
    "colab_type": "code",
    "id": "GLe4jtAolzId",
    "outputId": "23327fcd-cc2a-4af8-96dc-689504f73ad3"
   },
   "outputs": [
    {
     "data": {
      "text/plain": [
       "(-103.11945326104436, -1063.3724269809086)"
      ]
     },
     "execution_count": 8,
     "metadata": {},
     "output_type": "execute_result"
    }
   ],
   "source": [
    "import numpy as np\n",
    "log_x100 = np.sum(np.log(vals100)) \n",
    "log_x1000 = np.sum(np.log(vals1000)) \n",
    "log_x100, log_x1000 \n",
    "# The product becomes the sum of the logs"
   ]
  }
 ],
 "metadata": {
  "colab": {
   "collapsed_sections": [],
   "name": "nb_ch04_01.ipynb",
   "provenance": [],
   "version": "0.3.2"
  },
  "kernelspec": {
   "display_name": "Python 3",
   "language": "python",
   "name": "python3"
  },
  "language_info": {
   "codemirror_mode": {
    "name": "ipython",
    "version": 3
   },
   "file_extension": ".py",
   "mimetype": "text/x-python",
   "name": "python",
   "nbconvert_exporter": "python",
   "pygments_lexer": "ipython3",
   "version": "3.5.2"
  }
 },
 "nbformat": 4,
 "nbformat_minor": 1
}
