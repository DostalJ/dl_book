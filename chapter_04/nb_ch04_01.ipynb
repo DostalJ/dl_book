{
  "nbformat": 4,
  "nbformat_minor": 0,
  "metadata": {
    "colab": {
      "name": "nb_ch04_01.ipynb",
      "version": "0.3.2",
      "provenance": [],
      "collapsed_sections": []
    },
    "language_info": {
      "codemirror_mode": {
        "name": "ipython",
        "version": 3
      },
      "file_extension": ".py",
      "mimetype": "text/x-python",
      "name": "python",
      "nbconvert_exporter": "python",
      "pygments_lexer": "ipython3",
      "version": "3.5.2"
    },
    "kernelspec": {
      "display_name": "Python 3",
      "language": "python",
      "name": "python3"
    }
  },
  "cells": [
    {
      "cell_type": "markdown",
      "metadata": {
        "colab_type": "text",
        "id": "whgi7gogh-1J"
      },
      "source": [
        "# First example of the maximum likelihood principle: throwing a die \n",
        "\n",
        "\n",
        "**Goal:** In this notebook you will learn about the maximum likelihood principle. \n",
        "\n",
        "Learn about the maximum likelihood approach by doing a little die throwing experiment: First determine the number of upcoming dollar signs,  if you assume tha you throw a die with a dollar-sign on one face. Then turn the game around and use the maximum likelihood principle to estimate the most likely number of faces with a dollar-sign on a die, if you observe for example 2 dollar signes in 10 throws. \n",
        "\n",
        "In a second experiment you will investigate the numerical stability of the product of probabilities and compare it with the (improved) stability of the sum of the logs of these probailities. With this you get a feeling why optimizing the joint log-likelihood is computationally more stable than optimizing the joint likelihood. \n",
        "\n",
        "**Usage:** Before working through this notebook we recommend to read chapter 4.1. The idea of the notebook is that you  getter a better understanding of the maximum likelihood principle by running the code, try understanding the code, checking the output, and playing with the notebook by slightly changing the code and rerunning it. \n",
        "\n",
        "**Content:**\n",
        "* calculate the probability of all possible number of successes in a binomial experiment\n",
        "* visualize the resulting binomial probability distribution\n",
        "* apply the maximum likelihood principle to estimate the parameter p of the binomial distribution \n",
        "* show that calculating the product many probabilities (which are <= 1) leads to numerical instabilities which are not observed when calculating the sum of the log of these probabilities.\n",
        "\n",
        "\n",
        "| [open in colab](https://colab.research.google.com/github/tensorchiefs/dl_book/blob/master/chapter_04/nb_ch04_01.ipynb)\n",
        "\n"
      ]
    },
    {
      "cell_type": "markdown",
      "metadata": {
        "colab_type": "text",
        "id": "-uj4jX8a-U1i"
      },
      "source": [
        "#### Imports"
      ]
    },
    {
      "cell_type": "code",
      "metadata": {
        "colab_type": "code",
        "id": "LP57fRkISfkr",
        "colab": {}
      },
      "source": [
        "#load required libraries:\n",
        "import numpy as np\n",
        "import matplotlib.pyplot as plt\n",
        "%matplotlib inline\n",
        "plt.style.use('default')"
      ],
      "execution_count": 0,
      "outputs": []
    },
    {
      "cell_type": "code",
      "metadata": {
        "colab_type": "code",
        "id": "RW7gnZSFKdT9",
        "outputId": "e619f708-22e3-44f7-cb7e-b6ca9dd6cf30",
        "colab": {
          "base_uri": "https://localhost:8080/",
          "height": 34
        }
      },
      "source": [
        "# Assume a die with only one face with a dollar sign\n",
        "# Probability to observe in 10 throws 1- or 2-times the dollar-sign\n",
        "# See book section 4.1\n",
        "10*(1/6)*(5/6)**9, 45*(1/6)**2*(5/6)**8"
      ],
      "execution_count": 2,
      "outputs": [
        {
          "output_type": "execute_result",
          "data": {
            "text/plain": [
              "(0.3230111657796916, 0.2907100492017224)"
            ]
          },
          "metadata": {
            "tags": []
          },
          "execution_count": 2
        }
      ]
    },
    {
      "cell_type": "markdown",
      "metadata": {
        "colab_type": "text",
        "id": "mHaxN56BixUu"
      },
      "source": [
        "### Working with the binomial distribution\n",
        "\n",
        "You can work with the binomial distribution, to determine the probability to observe in 10 throws a certain number of the dollar-signs. The binomal distribution has two parameter: the number of tries n (here we 10 throws of the die, hence n=10) and the probability for sucess in one try p (because we assume a fair die with a dollar-sign on one face we have p=1/6). To calculate the probability of k successes (observed dollar-signs) in n tries (throws) you can use the function *binom.pmf*. To visualize the probability distribution you determine the probability for 0, 1, 2, ...10 successes in ten tries and plot them versus the number of successes."
      ]
    },
    {
      "cell_type": "code",
      "metadata": {
        "colab_type": "code",
        "id": "Oi7Uc0EKHOWw",
        "outputId": "f4f9e592-df66-4bfe-b95a-b8c537ad7204",
        "colab": {
          "base_uri": "https://localhost:8080/",
          "height": 471
        }
      },
      "source": [
        "from scipy.stats import binom\n",
        "# Define the numbers of possible successes (0 to 10)\n",
        "ndollar = np.asarray(np.linspace(0,10,11), dtype='int') \n",
        "# Calculate the probability to get the different number of possible successes\n",
        "pdollar_sign = binom.pmf(k=ndollar, n=10, p=1/6)  #B    \n",
        "plt.stem(ndollar, pdollar_sign)\n",
        "plt.xlabel('Number of dollar signs')\n",
        "plt.ylabel('Probability')\n"
      ],
      "execution_count": 0,
      "outputs": [
        {
          "output_type": "execute_result",
          "data": {
            "text/plain": [
              "Text(0, 0.5, 'Probability')"
            ]
          },
          "metadata": {
            "tags": []
          },
          "execution_count": 3
        },
        {
          "output_type": "display_data",
          "data": {
            "image/png": "[encoded data removed]",
            "text/plain": [
              "<Figure size 432x288 with 1 Axes>"
            ]
          },
          "metadata": {
            "tags": [],
            "needs_background": "light"
          }
        }
      ]
    },
    {
      "cell_type": "markdown",
      "metadata": {
        "colab_type": "text",
        "id": "2pYBINcljmLM"
      },
      "source": [
        "### Apply the maximum likelihood principle\n",
        "\n",
        "<img src=\"https://raw.githubusercontent.com/tensorchiefs/dl_book/master/imgs/paper-pen.png\" width=\"60\" align=\"left\" />  \n",
        "\n",
        "\n",
        "*Exercise: Let's assume you observed k=2 dollar signs in n=10 throws. What do you think - how many dollar-signs are on the thrown die?\n",
        "\n",
        "Use the maximum likelihood approach to answer this question. To do so, follow the genius idea described in chapter 4.1 and determine with binomial distribution the probability to observe 2 dollar-signs in 10 throws, when you assume that the die has a dollar-sign on 0,1,2 ..., or 6 faces. For which number of assumed dollar-signs on the die do you get the maximal likelihood?* "
      ]
    },
    {
      "cell_type": "code",
      "metadata": {
        "colab_type": "code",
        "id": "KS8nYTL_k7gs",
        "colab": {}
      },
      "source": [
        "## Your code here. "
      ],
      "execution_count": 0,
      "outputs": []
    },
    {
      "cell_type": "markdown",
      "metadata": {
        "colab_type": "text",
        "id": "4PUhEbpflIRc"
      },
      "source": [
        "Scroll down after you finished the task\n",
        "\n",
        "</br>\n",
        "</br>\n",
        "</br>\n",
        "</br>\n",
        "</br>\n",
        "</br>\n",
        "</br>\n",
        "</br>\n",
        "</br>\n",
        "</br>\n",
        "</br>\n",
        "</br>\n",
        "</br>\n",
        "</br>\n",
        "</br>\n",
        "</br>\n",
        "</br>\n",
        "</br>\n",
        "</br>\n",
        "</br>\n",
        "</br>"
      ]
    },
    {
      "cell_type": "code",
      "metadata": {
        "colab_type": "code",
        "id": "Rmo-A74tPBY-",
        "outputId": "8c87eacf-310e-44cd-c2b4-a9f5cc85fcb9",
        "colab": {
          "base_uri": "https://localhost:8080/",
          "height": 489
        }
      },
      "source": [
        "# Solution\n",
        "from scipy.stats import binom\n",
        "# define the considered numbers of dollar signs on the die (zero to six):\n",
        "ndollar = np.asarray(np.linspace(0,6,7), dtype='int')\n",
        "# calculate the corresponding probability of getting 2 $-sings in 10 throws\n",
        "pdollar = binom.pmf(k=2, n=10, p=ndollar/6)           #B\n",
        "plt.stem(ndollar, pdollar)\n",
        "plt.xlabel('Number of dollar signs on the dice')\n",
        "plt.ylabel('Probability observing 2 dollar signs in 10 throws')\n",
        "plt.title('Unnormalized likelihoods')\n"
      ],
      "execution_count": 4,
      "outputs": [
        {
          "output_type": "execute_result",
          "data": {
            "text/plain": [
              "Text(0.5, 1.0, 'Unnormalized likelihoods')"
            ]
          },
          "metadata": {
            "tags": []
          },
          "execution_count": 4
        },
        {
          "output_type": "display_data",
          "data": {
            "image/png": "[encoded data removed]",
            "text/plain": [
              "<Figure size 640x480 with 1 Axes>"
            ]
          },
          "metadata": {
            "tags": []
          }
        }
      ]
    },
    {
      "cell_type": "markdown",
      "metadata": {
        "id": "EpTwwXW2tnYu",
        "colab_type": "text"
      },
      "source": [
        "From this distribution it gets clear, that the probablity to observe 2 dollar-signs in 10 throws is maximal if the die has only  1 face with a dollar sign. Therefore the corresponding maximum likelihood estimate for the parameter p  in the binomial distribution is p=1/6."
      ]
    },
    {
      "cell_type": "markdown",
      "metadata": {
        "colab_type": "text",
        "id": "sbV7rIX4lcxz"
      },
      "source": [
        "# Numerical Stability\n",
        "\n",
        "\n",
        "### The product of probabilities.\n",
        "\n",
        "To calculate the joint likelihood you have to determine the product of many probabilities. As you can see in the following, mulitiplying many values between zero and one, leads to small a values which is set to zero if the number gets too small.   \n",
        "To demonstrate this we sample first 100 values from an uniform distribution with min = 0 and max = 1, then we take the product of those values and do the same for a 1000 values. \n"
      ]
    },
    {
      "cell_type": "code",
      "metadata": {
        "colab_type": "code",
        "id": "SRnBJcTLh67y",
        "outputId": "3386f533-fe72-4718-8f27-2a4eef255722",
        "colab": {
          "base_uri": "https://localhost:8080/",
          "height": 35
        }
      },
      "source": [
        "vals100 = np.random.uniform(0,1,100)\n",
        "vals1000 = np.random.uniform(0,1,1000)\n",
        "x100 = np.product(vals100) \n",
        "x1000 = np.product(vals1000) \n",
        "print(x100, x1000)"
      ],
      "execution_count": 0,
      "outputs": [
        {
          "output_type": "stream",
          "text": [
            "1.643578576899344e-45 0.0\n"
          ],
          "name": "stdout"
        }
      ]
    },
    {
      "cell_type": "markdown",
      "metadata": {
        "id": "MWRhK045vSf1",
        "colab_type": "text"
      },
      "source": [
        "When multilying 100 values you get a very very small number but for 1000 values you get 0.0, this is due to the limited precision of the float numbers in a computer. But this is a real problem, because we it implies that models get the same joint liklihood even if they lead to different probabilities for the data meaning they do not fit the data equally well.\n"
      ]
    },
    {
      "cell_type": "markdown",
      "metadata": {
        "colab_type": "text",
        "id": "eFQstp-QmMmw"
      },
      "source": [
        "### Taking the log does not change the position of the maximum\n",
        "\n",
        "In the next cell we show that the x value which gives the position of the maximum of the function f(x), gives also the position of the maximum of log(f(x)). For demonstration, we use the absolute values of the product of two sine waves as our function f(x) and take the log of it."
      ]
    },
    {
      "cell_type": "code",
      "metadata": {
        "colab_type": "code",
        "id": "p91gzNLKlv7A",
        "outputId": "629d0674-ad9b-4cf6-ea8a-82378564f86a",
        "colab": {
          "base_uri": "https://localhost:8080/",
          "height": 471
        }
      },
      "source": [
        "vals = 1 + np.abs(np.sin(np.linspace(0, 3*np.pi, 1000)) * np.sin(np.linspace(0, np.pi, 1000)))\n",
        "plt.plot(range(0, 1000),vals,'b-')\n",
        "plt.plot(range(0, 1000),np.log(vals),'g--')\n",
        "plt.xlabel('x')\n",
        "plt.legend((\"f(x)\",\"log(f(X))\"),fontsize=10)"
      ],
      "execution_count": 0,
      "outputs": [
        {
          "output_type": "execute_result",
          "data": {
            "text/plain": [
              "<matplotlib.legend.Legend at 0x7f9b0e9504a8>"
            ]
          },
          "metadata": {
            "tags": []
          },
          "execution_count": 7
        },
        {
          "output_type": "display_data",
          "data": {
            "image/png": "[encoded data removed]",
            "text/plain": [
              "<Figure size 432x288 with 1 Axes>"
            ]
          },
          "metadata": {
            "tags": [],
            "needs_background": "light"
          }
        }
      ]
    },
    {
      "cell_type": "markdown",
      "metadata": {
        "id": "qJ4BoYmTy1S8",
        "colab_type": "text"
      },
      "source": [
        "Here it is clearly visible: the maximum for both functions is at the same position."
      ]
    },
    {
      "cell_type": "markdown",
      "metadata": {
        "colab_type": "text",
        "id": "tROj3cUXn_Pn"
      },
      "source": [
        "### Takeing the logs and summing up.\n",
        "\n",
        "Using $\\log(A \\cdot B) = \\log(A) + \\log(B)$ changes the product to the sums of logs (see book).  \n",
        "In this cell you see that we can take the logs of the sums instead of the products, remeber we have values from a uniform distribution with min = 0 and max = 1.\n",
        "As you can see now we dont have the problem of the numerical precision anymore. "
      ]
    },
    {
      "cell_type": "code",
      "metadata": {
        "colab_type": "code",
        "id": "GLe4jtAolzId",
        "outputId": "23327fcd-cc2a-4af8-96dc-689504f73ad3",
        "colab": {
          "base_uri": "https://localhost:8080/",
          "height": 35
        }
      },
      "source": [
        "import numpy as np\n",
        "log_x100 = np.sum(np.log(vals100)) \n",
        "log_x1000 = np.sum(np.log(vals1000)) \n",
        "log_x100, log_x1000 \n",
        "# The product becomes the sum of the logs"
      ],
      "execution_count": 0,
      "outputs": [
        {
          "output_type": "execute_result",
          "data": {
            "text/plain": [
              "(-103.11945326104436, -1063.3724269809086)"
            ]
          },
          "metadata": {
            "tags": []
          },
          "execution_count": 8
        }
      ]
    },
    {
      "cell_type": "markdown",
      "metadata": {
        "id": "q1KqCtQkyQLR",
        "colab_type": "text"
      },
      "source": [
        "This result is quite important for implementing the maximum likelihood estimation procedure. In the maximum likelihood approach you want to determine the parameter value that yields the highest joint likelihood over all observed data. The very same parameter value will also maximize the joint log-likelihood. However, if you have a lot of data, the likelihood cannot be precisely determined, but the log-likelihood can. This is the reason why you work in DL with the negative log-likelihood as loss function instead of the negative likelihood."
      ]
    },
    {
      "cell_type": "code",
      "metadata": {
        "id": "xHaCNcEayVHi",
        "colab_type": "code",
        "colab": {}
      },
      "source": [
        ""
      ],
      "execution_count": 0,
      "outputs": []
    }
  ]
}