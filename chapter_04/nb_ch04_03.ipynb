{
  "nbformat": 4,
  "nbformat_minor": 0,
  "metadata": {
    "colab": {
      "name": "nb_ch04_03.ipynb",
      "provenance": [],
      "collapsed_sections": [],
      "toc_visible": true
    },
    "language_info": {
      "codemirror_mode": {
        "name": "ipython",
        "version": 3
      },
      "file_extension": ".py",
      "mimetype": "text/x-python",
      "name": "python",
      "nbconvert_exporter": "python",
      "pygments_lexer": "ipython3",
      "version": "3.5.2"
    },
    "kernelspec": {
      "name": "python3",
      "display_name": "Python 3"
    },
    "accelerator": "GPU"
  },
  "cells": [
    {
      "cell_type": "markdown",
      "metadata": {
        "colab_type": "text",
        "id": "O2sP8Kwe7L9Z"
      },
      "source": [
        "# Maximum Likelihood as a linear regression problem\n",
        "\n",
        "\n",
        "**Goal:** In this notebook you will learn how to calculate the maximum likelihood loss which is also the negative log likelihood, for an regression problem. You will define the negative log likelihood (NLL) loss function in Keras and use it to optimize the weights of a regression network. You will see that minimizing the NLL us the same as minimizing the mean squared error (MSE). You will learn that the optimal weights do not depend on $\\sigma^2$  when you assume that the variance $\\sigma^2$ is constant. In an second example you will try to minimize the NLL for 4 obervation pairs by changing $\\mu$ and $\\sigma^2$ with sliders and by using Tensorflow.\n",
        "\n",
        "**Usage:** We recommend to read chapter 4.3 before working through this notebook. The idea of the notebook is that you try to understand the provided code by running it, checking the output and playing with it by slightly changing the code and rerunning it. In addition you will find two exercises where you can do some experiments by yourself.\n",
        "\n",
        "**Dataset:** For the first experiment, you work with the systolic blood pressure and age data of 33 American women. For the second experiment you work with four observed blood pressure values.\n",
        "\n",
        "**Content:**\n",
        "\n",
        "* First experiment on fitting a linear regression model\n",
        " * define the density function of a Normal distribution with constant variance.  \n",
        " * define a custom loss for the NLL\n",
        " * fit a linear regression model for the blood pressure data with the NLL loss \n",
        " * see that the weights of the NN do not depend on $\\sigma^2$ \n",
        "\n",
        "\n",
        "* Second experiment on fitting a Normal distribution\n",
        " * Plot a Normal distribution along with the likelihood of the observed values as shown in figure 4.17\n",
        " * Manually adapt the parameter values of the Normal distribution to achieve a maximal joint likelihood or minimal NLL \n",
        " * use Tensorflow to optimize  $\\mu$ and $\\sigma^2$ automatically by minimizing the NLL\n",
        "\n",
        "\n",
        "[open in colab](https://colab.research.google.com/github/tensorchiefs/dl_book/blob/master/chapter_04/nb_ch04_03.ipynb)"
      ]
    },
    {
      "cell_type": "markdown",
      "metadata": {
        "colab_type": "text",
        "id": "IxDnHMLUL64a"
      },
      "source": [
        "#### Imports\n",
        "In the next two cells, we load all the required libraries. "
      ]
    },
    {
      "cell_type": "code",
      "metadata": {
        "colab_type": "code",
        "id": "VG3-vQmhxxuJ",
        "outputId": "a5813900-6c5b-4aaf-8090-f4ae0f394b51",
        "colab": {
          "base_uri": "https://localhost:8080/",
          "height": 35
        }
      },
      "source": [
        "try: #If running in colab \n",
        "    import google.colab\n",
        "    IN_COLAB = True \n",
        "    %tensorflow_version 2.x\n",
        "except:\n",
        "    IN_COLAB = False"
      ],
      "execution_count": 1,
      "outputs": [
        {
          "output_type": "stream",
          "text": [
            "TensorFlow 2.x selected.\n"
          ],
          "name": "stdout"
        }
      ]
    },
    {
      "cell_type": "code",
      "metadata": {
        "id": "HU8-Z3M3-T0f",
        "colab_type": "code",
        "colab": {
          "base_uri": "https://localhost:8080/",
          "height": 35
        },
        "outputId": "48476037-abcc-4926-f600-bfd1b4a2edc4"
      },
      "source": [
        "import tensorflow as tf\n",
        "if (not tf.__version__.startswith('2')): #Checking if tf 2.0 is installed\n",
        "    print('Please install tensorflow 2.0 to run this notebook')\n",
        "print('Tensorflow version: ',tf.__version__, ' running in colab?: ', IN_COLAB)"
      ],
      "execution_count": 2,
      "outputs": [
        {
          "output_type": "stream",
          "text": [
            "Tensorflow version:  2.1.0-rc1  running in colab?:  True\n"
          ],
          "name": "stdout"
        }
      ]
    },
    {
      "cell_type": "code",
      "metadata": {
        "colab_type": "code",
        "id": "2Ns6420jRmbQ",
        "outputId": "7bb4c8a5-7f11-400e-93ce-d5fe259c327b",
        "colab": {
          "base_uri": "https://localhost:8080/",
          "height": 35
        }
      },
      "source": [
        "import numpy as np\n",
        "import matplotlib.pyplot as plt\n",
        "%matplotlib inline\n",
        "plt.style.use('default')\n",
        "\n",
        "from tensorflow.keras.models import Sequential\n",
        "from tensorflow.keras.layers import Dense, Convolution2D, MaxPooling2D, Flatten , Activation\n",
        "from tensorflow.keras import optimizers\n",
        "\n",
        "tf.__version__"
      ],
      "execution_count": 3,
      "outputs": [
        {
          "output_type": "execute_result",
          "data": {
            "text/plain": [
              "'2.1.0-rc1'"
            ]
          },
          "metadata": {
            "tags": []
          },
          "execution_count": 3
        }
      ]
    },
    {
      "cell_type": "markdown",
      "metadata": {
        "id": "L2R0rF0O8ouY",
        "colab_type": "text"
      },
      "source": [
        "## Define a custom functions for the Normal densitiy and the NLL"
      ]
    },
    {
      "cell_type": "markdown",
      "metadata": {
        "colab_type": "text",
        "id": "-InT4JzIDqLo"
      },
      "source": [
        "Now let's define a function that calculates the density $f(y,\\mu,\\sigma)$ of a normal distribution at $y$, given the parameters $\\mu$ and $\\sigma$ using the formula:\n",
        "\n",
        "$$\n",
        "  f(y, \\mu, \\sigma) = \\frac{1}{\\sqrt{2 \\pi \\sigma^2}} e^{-\\frac{(y - \\mu)^2}{2 \\sigma^2}}\n",
        "$$\n",
        "\n",
        "we will keep $\\sigma$ to the fixed value 20.\n"
      ]
    },
    {
      "cell_type": "code",
      "metadata": {
        "colab_type": "code",
        "id": "ER2qr3DcDGB2",
        "colab": {}
      },
      "source": [
        "def f(y, mu, sigma=20):\n",
        "  return (1/(sigma * tf.math.sqrt(2 * np.pi)) * tf.math.exp( - (y - mu)**2 / (2 * sigma**2)))"
      ],
      "execution_count": 0,
      "outputs": []
    },
    {
      "cell_type": "markdown",
      "metadata": {
        "id": "eLkwBmeOxJpB",
        "colab_type": "text"
      },
      "source": [
        "In the next cell we want to use the functon to calculate the density of a normal distribution at the systolic blood pressure $y=131$, for a given $\\mu=111$ and $\\sigma=20$.\n",
        "Compare the result with the Figure 4.13 in the book."
      ]
    },
    {
      "cell_type": "code",
      "metadata": {
        "colab_type": "code",
        "id": "1pU2_gg_KTD9",
        "outputId": "8946ab5f-d2aa-48e4-a7da-b3f2da807490",
        "colab": {
          "base_uri": "https://localhost:8080/",
          "height": 35
        }
      },
      "source": [
        "f(131, 111)"
      ],
      "execution_count": 5,
      "outputs": [
        {
          "output_type": "execute_result",
          "data": {
            "text/plain": [
              "<tf.Tensor: shape=(), dtype=float32, numpy=0.012098536>"
            ]
          },
          "metadata": {
            "tags": []
          },
          "execution_count": 5
        }
      ]
    },
    {
      "cell_type": "code",
      "metadata": {
        "colab_type": "code",
        "id": "sdr2XfQTJWB_",
        "outputId": "8d46dead-2609-4ec8-b1d7-c0a722f8c04a",
        "scrolled": false,
        "colab": {
          "base_uri": "https://localhost:8080/",
          "height": 466
        }
      },
      "source": [
        "sbp = np.linspace(60,160,50, dtype='float32')\n",
        "plt.plot([131, 131], [0, f(131,111)], 'k-', lw=2,color='red')\n",
        "plt.plot(sbp, f(sbp, 111),linewidth=3)\n",
        "plt.xlabel('sbp')\n",
        "plt.ylabel('probability density')"
      ],
      "execution_count": 6,
      "outputs": [
        {
          "output_type": "execute_result",
          "data": {
            "text/plain": [
              "Text(0, 0.5, 'probability density')"
            ]
          },
          "metadata": {
            "tags": []
          },
          "execution_count": 6
        },
        {
          "output_type": "display_data",
          "data": {
            "image/png": "[encoded data removed]",
            "text/plain": [
              "<Figure size 640x480 with 1 Axes>"
            ]
          },
          "metadata": {
            "tags": []
          }
        }
      ]
    },
    {
      "cell_type": "markdown",
      "metadata": {
        "id": "IBydsxU0_2Qy",
        "colab_type": "text"
      },
      "source": [
        "## First experiment on fitting a linear regression model"
      ]
    },
    {
      "cell_type": "markdown",
      "metadata": {
        "id": "SnLKI-JnwJxi",
        "colab_type": "text"
      },
      "source": [
        "Here we define the systolic blood pressure and the age of the 33 American women of our dataset"
      ]
    },
    {
      "cell_type": "code",
      "metadata": {
        "colab_type": "code",
        "id": "cFR-y-HER-Uo",
        "colab": {}
      },
      "source": [
        "# Blood Pressure data\n",
        "x = [22, 41, 52, 23, 41, 54, 24, 46, 56, 27, 47, 57, 28, 48, 58,  9, \n",
        "     49, 59, 30, 49, 63, 32, 50, 67, 33, 51, 71, 35, 51, 77, 40, 51, 81]\n",
        "y = [131, 139, 128, 128, 171, 105, 116, 137, 145, 106, 111, 141, 114, \n",
        "     115, 153, 123, 133, 157, 117, 128, 155, 122, 183,\n",
        "     176,  99, 130, 172, 121, 133, 178, 147, 144, 217] \n",
        "x = np.asarray(x, np.float32) \n",
        "y = np.asarray(y, np.float32)"
      ],
      "execution_count": 0,
      "outputs": []
    },
    {
      "cell_type": "markdown",
      "metadata": {
        "colab_type": "text",
        "id": "AKyGXV0Lxxu0"
      },
      "source": [
        "Let's fit a simple linear regression to the systolic blood pressure of the 33 women. You can assume a constant variance and a mean that depends linearly on the age. Therefor you setup a NN without any hidden layer and only one output node for the mean of the CPD.  The NLL for this case is the MSE which is a standard loss function in Keras (recall chapter 3). You still use here the custom loss function for the NLL to check that it yields the same result as you got with the Keras MSE loss.\n",
        "\n",
        "\n",
        "To create a custom loss function, you have to follow the interface \n",
        " `loss(y_true, y_pred)`.\n",
        " \n",
        "We define the loss as follows:\n",
        "$\n",
        "    l = -\\sum_{i=1}^n \\log (f(y_i, a \\cdot x+b)) =  -\\sum_{i=1}^n \\log(f(y_i, ypred_i)) \n",
        "$"
      ]
    },
    {
      "cell_type": "code",
      "metadata": {
        "colab_type": "code",
        "id": "tOJnqqd8xxu2",
        "colab": {}
      },
      "source": [
        "# custom loss function\n",
        "def my_loss(y_true,y_pred): #A\n",
        "  loss = -tf.reduce_sum(tf.math.log(f(y_true,y_pred)))\n",
        "  return loss\n",
        "\n",
        "# setup NN w/o hidden layer and with output node\n",
        "model = Sequential() \n",
        "model.add(Dense(1, activation='linear', \n",
        "                batch_input_shape=(None, 1)))\n",
        "model.compile(loss=my_loss,optimizer=\"adam\") # use custom loss\n"
      ],
      "execution_count": 0,
      "outputs": []
    },
    {
      "cell_type": "code",
      "metadata": {
        "colab_type": "code",
        "id": "AJe5kpMKxxu9",
        "outputId": "1025e915-4424-49ed-922e-920ced54e574",
        "colab": {
          "base_uri": "https://localhost:8080/",
          "height": 432
        }
      },
      "source": [
        "# fit the model and give out the two weights of the NN (slobe and intercept)\n",
        "for i in range(0,120000):\n",
        "    model.fit(x=x,y=y,batch_size=33,\n",
        "                    epochs=1,\n",
        "                    verbose = 0)\n",
        "    a,b=model.get_weights()\n",
        "    if i % 5000==0:\n",
        "        mse=np.mean(np.square(model.predict(x).reshape(len(x),)-y))\n",
        "        print(\"Epoch:\",i,\"slope=\",a[0][0],\"intercept=\",b[0],\"MSE=\",mse)\n",
        "\n",
        "#Should reach (you might need to do more iteration)\n",
        "#1.   optimal value for slope: 1.1050216\n",
        "#2.   optimal value for intercept: 87.67143\n",
        "#3.   minimal MSE: 349.200787168560"
      ],
      "execution_count": 9,
      "outputs": [
        {
          "output_type": "stream",
          "text": [
            "Epoch: 0 slope= 0.88680553 intercept= 0.0010000294 MSE= 9913.936\n",
            "Epoch: 5000 slope= 2.740187 intercept= 2.9659872 MSE= 1145.2219\n",
            "Epoch: 10000 slope= 2.6528952 intercept= 7.3895946 MSE= 1064.2396\n",
            "Epoch: 15000 slope= 2.5575027 intercept= 12.32315 MSE= 979.05725\n",
            "Epoch: 20000 slope= 2.462377 intercept= 17.256731 MSE= 899.2754\n",
            "Epoch: 25000 slope= 2.3673306 intercept= 22.187227 MSE= 824.93896\n",
            "Epoch: 30000 slope= 2.2724705 intercept= 27.108685 MSE= 756.118\n",
            "Epoch: 35000 slope= 2.1776783 intercept= 32.025845 MSE= 692.7242\n",
            "Epoch: 40000 slope= 2.0831127 intercept= 36.932262 MSE= 634.81616\n",
            "Epoch: 45000 slope= 1.988545 intercept= 41.83415 MSE= 582.2957\n",
            "Epoch: 50000 slope= 1.8944049 intercept= 46.72191 MSE= 535.235\n",
            "Epoch: 55000 slope= 1.8003876 intercept= 51.598526 MSE= 493.56424\n",
            "Epoch: 60000 slope= 1.706715 intercept= 56.457146 MSE= 457.29483\n",
            "Epoch: 65000 slope= 1.6135086 intercept= 61.293034 MSE= 426.3963\n",
            "Epoch: 70000 slope= 1.5208349 intercept= 66.10063 MSE= 400.8219\n",
            "Epoch: 75000 slope= 1.4291476 intercept= 70.85682 MSE= 380.56754\n",
            "Epoch: 80000 slope= 1.3387798 intercept= 75.54474 MSE= 365.5156\n",
            "Epoch: 85000 slope= 1.2510147 intercept= 80.09786 MSE= 355.56436\n",
            "Epoch: 90000 slope= 1.1691724 intercept= 84.343834 MSE= 350.42926\n",
            "Epoch: 95000 slope= 1.1102308 intercept= 87.40051 MSE= 349.20898\n",
            "Epoch: 100000 slope= 1.1050198 intercept= 87.67142 MSE= 349.20084\n",
            "Epoch: 105000 slope= 1.1050214 intercept= 87.671425 MSE= 349.20087\n",
            "Epoch: 110000 slope= 1.1050208 intercept= 87.67143 MSE= 349.20087\n",
            "Epoch: 115000 slope= 1.1050215 intercept= 87.67142 MSE= 349.20087\n"
          ],
          "name": "stdout"
        }
      ]
    },
    {
      "cell_type": "markdown",
      "metadata": {
        "id": "Qy-C01R-1vYu",
        "colab_type": "text"
      },
      "source": [
        "When we minimize the negativ log likelihood, the optimal values for the slope and intercept are the same as in chapter 3, where we minized the MSE!\n"
      ]
    },
    {
      "cell_type": "markdown",
      "metadata": {
        "colab_type": "text",
        "id": "bynRM7KxxxvC"
      },
      "source": [
        "### Exercise 1 \n",
        "<img src=\"https://raw.githubusercontent.com/tensorchiefs/dl_book/master/imgs/paper-pen.png\" width=\"60\" align=\"left\" />  \n",
        "\n",
        "\n",
        "*Exercise 1: Change the value of sigma in the calculation of the likelihood (function f) and rerun the cells. Does the result depend on it?*"
      ]
    },
    {
      "cell_type": "markdown",
      "metadata": {
        "id": "4UDRuNw49R16",
        "colab_type": "text"
      },
      "source": [
        "Scroll down to see the solution.\n",
        "<br>\n",
        "<br>\n",
        "<br>\n",
        "<br>\n",
        "<br>\n",
        "<br>\n",
        "<br>\n",
        "<br>\n",
        "<br>\n",
        "<br>\n",
        "<br>\n",
        "<br>"
      ]
    },
    {
      "cell_type": "markdown",
      "metadata": {
        "id": "iwFa6LuG9Pc6",
        "colab_type": "text"
      },
      "source": [
        "**Solution**\n",
        "\n",
        "No, the result does not on the value of the variance which is a assumed to be constant."
      ]
    },
    {
      "cell_type": "markdown",
      "metadata": {
        "id": "Sb8XZ6b93Tza",
        "colab_type": "text"
      },
      "source": [
        "### Return to the book \n",
        "<img src=\"https://raw.githubusercontent.com/tensorchiefs/dl_book/master/imgs/Page_turn_icon_A.png\" width=\"120\" align=\"left\" />  "
      ]
    },
    {
      "cell_type": "markdown",
      "metadata": {
        "colab_type": "text",
        "id": "63bFgR0nxxvE"
      },
      "source": [
        "## Second experiment on fitting a Normal distribution model\n",
        "\n",
        "In the next cells you will assume that you observed the systolic blood pressure of 4 women of the same age:   sbp=[131,105,114,117].\n",
        "Let's plot a normal distribution along with the likelihood of the observed values,\n",
        "Your task is to manually adapt the parameters $\\mu$ and $\\sigma$ of the Normal distribution (with the interactive silders) that yield a maximal joint likelihood which you get with the same parameter values that yield a minimal NLL.\n",
        "\n"
      ]
    },
    {
      "cell_type": "code",
      "metadata": {
        "colab_type": "code",
        "id": "Sviq09_AxxvF",
        "colab": {}
      },
      "source": [
        "#!pip install ipywidgets"
      ],
      "execution_count": 0,
      "outputs": []
    },
    {
      "cell_type": "code",
      "metadata": {
        "colab_type": "code",
        "id": "JrgTsZfSxxvN",
        "outputId": "b16eb725-52c7-42c1-c12c-b991dffb0e58",
        "colab": {
          "base_uri": "https://localhost:8080/",
          "height": 472
        }
      },
      "source": [
        "from ipywidgets import interactive\n",
        "plt.figure(figsize=(5,5))\n",
        "ys=np.array([131,105,114,117], dtype='float32')\n",
        "sbp = np.linspace(80,140,200, dtype='float32')\n",
        "\n",
        "def make_interactive(mu, sigma):\n",
        "    likelihoods = f(ys, mu,sigma)\n",
        "    for i in range(4):\n",
        "        plt.plot([ys[i], ys[i]], [0, likelihoods[i]], 'k-', lw=1,color='red') \n",
        "    plt.plot(sbp, f(sbp, mu,sigma),linewidth=3)\n",
        "    plt.xlabel('sbp')\n",
        "    plt.ylabel('likelihood')\n",
        "    plt.title('NLL: {:.2f}'.format(-np.sum(np.log(likelihoods))))\n",
        "\n",
        "interactive(make_interactive,mu=(90, 130, 1), sigma=(2,20,1))"
      ],
      "execution_count": 0,
      "outputs": [
        {
          "output_type": "display_data",
          "data": {
            "image/png": "[encoded data removed]",
            "text/plain": [
              "<Figure size 640x480 with 1 Axes>"
            ]
          },
          "metadata": {
            "tags": []
          }
        }
      ]
    },
    {
      "cell_type": "markdown",
      "metadata": {
        "id": "FnhT9I229GWH",
        "colab_type": "text"
      },
      "source": [
        "### Exercise 2\n",
        "<img src=\"https://raw.githubusercontent.com/tensorchiefs/dl_book/master/imgs/paper-pen.png\" width=\"60\" align=\"left\" />  \n",
        "\n",
        "Exercise 2: Use TF to fit a Normal distribution that minimizes the NLL for the systolic blood pressure of the 4 observed sbp values . Compare the results with your manually determined parameters $\\mu$ and $\\sigma$."
      ]
    },
    {
      "cell_type": "code",
      "metadata": {
        "id": "n-nSWXYadTft",
        "colab_type": "code",
        "colab": {}
      },
      "source": [
        "# Write your code here"
      ],
      "execution_count": 0,
      "outputs": []
    },
    {
      "cell_type": "markdown",
      "metadata": {
        "id": "Hv1IEA74dPF6",
        "colab_type": "text"
      },
      "source": [
        "Scroll down to see the solution.\n",
        "\n",
        "</br>\n",
        "</br>\n",
        "</br>\n",
        "</br>\n",
        "</br>\n",
        "</br>\n",
        "</br>\n",
        "</br>\n",
        "</br>\n",
        "</br>\n",
        "</br>\n",
        "</br>\n",
        "</br>\n",
        "</br>\n",
        "</br>\n",
        "</br>\n",
        "</br>\n",
        "</br>\n",
        "</br>\n",
        "</br>\n",
        "</br>"
      ]
    },
    {
      "cell_type": "markdown",
      "metadata": {
        "colab_type": "text",
        "id": "rAbVVwgcxxvU"
      },
      "source": [
        "**Note TODO After release of TF 2.0**\n",
        "\n",
        "Needs some inverstigation. How to do this the TF2.0 way after the release."
      ]
    },
    {
      "cell_type": "code",
      "metadata": {
        "colab_type": "code",
        "id": "9j1rQwNbxxvW",
        "colab": {}
      },
      "source": [
        "mu     = tf.Variable(124.0)\n",
        "sigma =  tf.Variable(10.0)\n",
        "variables = [mu,sigma]\n",
        "#eta = 0.0004\n",
        "#likelihoods = f(ys, mu,sigma)\n",
        "#loss = -tf.math.reduce_sum(tf.math.log(likelihoods)) \n",
        "optimizer = tf.optimizers.Adam()\n"
      ],
      "execution_count": 0,
      "outputs": []
    },
    {
      "cell_type": "code",
      "metadata": {
        "colab_type": "code",
        "id": "_WnpNZojxxva",
        "outputId": "eb65d47f-f63d-4323-b055-af722ec2bcfc",
        "colab": {
          "base_uri": "https://localhost:8080/",
          "height": 708
        }
      },
      "source": [
        "# Gradient Decent with TF in eager modus:\n",
        "for i in range(10000):\n",
        "  with tf.GradientTape() as tape: #Record the gradients from now on\n",
        "    likelihoods = f(ys, mu,sigma)\n",
        "    loss = -tf.math.reduce_sum(tf.math.log(likelihoods))\n",
        "    grads = tape.gradient(loss, variables)\n",
        "    optimizer.apply_gradients(zip(grads, variables))\n",
        "    #grad_mu, grad_sigma  = tape.gradient(loss, [mu,sigma])\n",
        "    #mu = tf.Variable(mu - eta * grad_mu)\n",
        "    #sigma = tf.Variable(sigma - eta * grad_sigma)\n",
        "\n",
        "    if (i % 250 == 0):\n",
        "      print(\"Epoch:\",i, \"mu=\",mu.numpy(),\"sigma=\",sigma.numpy(), \"NNL=\", loss.numpy())"
      ],
      "execution_count": 14,
      "outputs": [
        {
          "output_type": "stream",
          "text": [
            "Epoch: 0 mu= 123.999 sigma= 10.001 NNL= 15.681095\n",
            "Epoch: 250 mu= 123.75322 sigma= 10.235319 NNL= 15.580299\n",
            "Epoch: 500 mu= 123.51592 sigma= 10.434735 NNL= 15.498944\n",
            "Epoch: 750 mu= 123.28526 sigma= 10.599915 NNL= 15.4315815\n",
            "Epoch: 1000 mu= 123.05974 sigma= 10.730648 NNL= 15.374268\n",
            "Epoch: 1250 mu= 122.837746 sigma= 10.826036 NNL= 15.323981\n",
            "Epoch: 1500 mu= 122.61827 sigma= 10.884986 NNL= 15.27849\n",
            "Epoch: 1750 mu= 122.40066 sigma= 10.906953 NNL= 15.23614\n",
            "Epoch: 2000 mu= 122.18322 sigma= 10.892846 NNL= 15.195525\n",
            "Epoch: 2250 mu= 121.96578 sigma= 10.845757 NNL= 15.155945\n",
            "Epoch: 2500 mu= 121.747444 sigma= 10.77124 NNL= 15.116928\n",
            "Epoch: 2750 mu= 121.5281 sigma= 10.676418 NNL= 15.07843\n",
            "Epoch: 3000 mu= 121.30838 sigma= 10.569158 NNL= 15.040689\n",
            "Epoch: 3250 mu= 121.08713 sigma= 10.456282 NNL= 15.003695\n",
            "Epoch: 3500 mu= 120.86592 sigma= 10.343266 NNL= 14.967867\n",
            "Epoch: 3750 mu= 120.646576 sigma= 10.234177 NNL= 14.933611\n",
            "Epoch: 4000 mu= 120.42786 sigma= 10.131305 NNL= 14.900812\n",
            "Epoch: 4250 mu= 120.211075 sigma= 10.035813 NNL= 14.869716\n",
            "Epoch: 4500 mu= 119.996605 sigma= 9.948094 NNL= 14.840401\n",
            "Epoch: 4750 mu= 119.78515 sigma= 9.868075 NNL= 14.812966\n",
            "Epoch: 5000 mu= 119.576965 sigma= 9.795481 NNL= 14.78744\n",
            "Epoch: 5250 mu= 119.37256 sigma= 9.729924 NNL= 14.7638645\n",
            "Epoch: 5500 mu= 119.17229 sigma= 9.671015 NNL= 14.742243\n",
            "Epoch: 5750 mu= 118.9765 sigma= 9.618367 NNL= 14.722568\n",
            "Epoch: 6000 mu= 118.7857 sigma= 9.571617 NNL= 14.7048235\n",
            "Epoch: 6250 mu= 118.60021 sigma= 9.530409 NNL= 14.688967\n",
            "Epoch: 6500 mu= 118.42044 sigma= 9.494398 NNL= 14.674938\n",
            "Epoch: 6750 mu= 118.246956 sigma= 9.463246 NNL= 14.662679\n",
            "Epoch: 7000 mu= 118.08017 sigma= 9.436613 NNL= 14.652098\n",
            "Epoch: 7250 mu= 117.92072 sigma= 9.414148 NNL= 14.6431055\n",
            "Epoch: 7500 mu= 117.76924 sigma= 9.395499 NNL= 14.635593\n",
            "Epoch: 7750 mu= 117.6263 sigma= 9.380307 NNL= 14.629436\n",
            "Epoch: 8000 mu= 117.49268 sigma= 9.368198 NNL= 14.624507\n",
            "Epoch: 8250 mu= 117.369156 sigma= 9.358791 NNL= 14.620665\n",
            "Epoch: 8500 mu= 117.256355 sigma= 9.351704 NNL= 14.617759\n",
            "Epoch: 8750 mu= 117.15502 sigma= 9.346558 NNL= 14.615643\n",
            "Epoch: 9000 mu= 117.065704 sigma= 9.342973 NNL= 14.614166\n",
            "Epoch: 9250 mu= 116.988884 sigma= 9.340602 NNL= 14.613188\n",
            "Epoch: 9500 mu= 116.92455 sigma= 9.339123 NNL= 14.612577\n",
            "Epoch: 9750 mu= 116.872574 sigma= 9.338255 NNL= 14.612222\n"
          ],
          "name": "stdout"
        }
      ]
    },
    {
      "cell_type": "code",
      "metadata": {
        "id": "Tjd6PU5oAgf2",
        "colab_type": "code",
        "colab": {}
      },
      "source": [
        ""
      ],
      "execution_count": 0,
      "outputs": []
    }
  ]
}