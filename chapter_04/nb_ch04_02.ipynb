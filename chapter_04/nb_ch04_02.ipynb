{
  "cells": [
    {
      "cell_type": "markdown",
      "source": [
        "# TODO Notebook under construction\n",
        "\n",
        "# Calculation of the loss function for classification\n",
        "\n\n",
        "**Goal:** In this notebook you will calculate the loss function using numpy.\n",
        "\n\n",
        "**Usage:** Execute the notebook until you reach the position your code here and fill out the blanks. \n",
        "\n",
        "**Dataset:** You work with the MNIST dataset. We have 60'000 28x28 pixel greyscale images of digits and want to classify them into the right label (0-9).\n",
        "\n",
        "**Content:**\n",
        "* load the original MNIST data \n",
        "* Eval the loss function using Keras \n",
        "* Implement the loss function yourself using numpy\n",
        "\n\n",
        "| [open in colab](https://colab.research.google.com/github/tensorchiefs/dl_book/blob/master/chapter_04/nb_ch04_02.ipynb)\n",
        "\n"
      ],
      "metadata": {
        "colab_type": "text",
        "id": "tbTYFRhJoaBu"
      }
    },
    {
      "cell_type": "markdown",
      "source": [
        "#### Imports\n",
        "\nIn the next two cells, we load all the required libraries and functions. We download the Mnist data, normalize the pixelvalues to be between 0 and 1, and seperate it into a training and validation set."
      ],
      "metadata": {
        "colab_type": "text",
        "id": "PEIS4WvpsT5t"
      }
    },
    {
      "cell_type": "code",
      "source": [
        "# load required libraries:\n",
        "import numpy as np\n",
        "import matplotlib.pyplot as plt\n",
        "%matplotlib inline\n",
        "plt.style.use('default')\n",
        "from sklearn.metrics import confusion_matrix\n",
        "\n",
        "import keras \n",
        "from keras.models import Sequential\n",
        "from keras.layers import Dense, Convolution2D, MaxPooling2D, Flatten , Activation\n",
        "from keras.utils import to_categorical \n",
        "from keras import optimizers\n"
      ],
      "outputs": [
        {
          "output_type": "stream",
          "name": "stderr",
          "text": [
            "Using TensorFlow backend.\n"
          ]
        }
      ],
      "execution_count": 1,
      "metadata": {
        "colab_type": "code",
        "id": "Y6S_hQX5oaBw",
        "outputId": "6bfd8676-d738-4817-adb0-de4ed83525f0",
        "scrolled": true,
        "colab": {
          "base_uri": "https://localhost:8080/",
          "height": 35
        }
      }
    },
    {
      "cell_type": "markdown",
      "source": [
        "\n\n\n\n#### Loading and preparing the MNIST data"
      ],
      "metadata": {
        "colab_type": "text",
        "id": "4h_3TS0CtJJb"
      }
    },
    {
      "cell_type": "code",
      "source": [
        "from keras.datasets import mnist\n",
        "(x_train, y_train), (x_test, y_test) = mnist.load_data()\n",
        "\n",
        "X_train=x_train / 255 #divide by 255 so that they are in range 0 to 1\n",
        "X_train=np.reshape(X_train, (X_train.shape[0],28,28,1))\n",
        "Y_train=keras.utils.to_categorical(y_train,10) # one-hot encoding\n",
        "y_train.shape, Y_train.shape, X_train.shape"
      ],
      "outputs": [
        {
          "output_type": "execute_result",
          "execution_count": 2,
          "data": {
            "text/plain": [
              "((60000,), (60000, 10), (60000, 28, 28, 1))"
            ]
          },
          "metadata": {
            "tags": []
          }
        }
      ],
      "execution_count": 2,
      "metadata": {
        "colab_type": "code",
        "id": "4sZ8lqFfoaB2",
        "outputId": "84094e93-03a0-471d-b827-dc2b66a0f2c6",
        "colab": {
          "base_uri": "https://localhost:8080/",
          "height": 35
        }
      }
    },
    {
      "cell_type": "markdown",
      "source": [
        "## CNN model\n",
        "\nWe use the same CNN model as in chapter 2 "
      ],
      "metadata": {
        "colab_type": "text",
        "id": "ZaRFUEP8HJkq"
      }
    },
    {
      "cell_type": "code",
      "source": [
        "# here we define hyperparameter of the CNN\n",
        "batch_size = 128\n",
        "nb_classes = 10\n",
        "img_rows, img_cols = 28, 28\n",
        "kernel_size = (3, 3)\n",
        "input_shape = (img_rows, img_cols, 1)\n",
        "pool_size = (2, 2)"
      ],
      "outputs": [],
      "execution_count": 0,
      "metadata": {
        "colab_type": "code",
        "id": "JSfYQ4f1KYVp",
        "colab": {}
      }
    },
    {
      "cell_type": "code",
      "source": [
        "# define CNN with 2 convolution blocks and 2 fully connected layers\n",
        "model = Sequential()\n",
        "\n",
        "model.add(Convolution2D(8,kernel_size,padding='same',input_shape=input_shape))\n",
        "model.add(Activation('relu'))\n",
        "model.add(Convolution2D(8, kernel_size,padding='same'))\n",
        "model.add(Activation('relu'))\n",
        "model.add(MaxPooling2D(pool_size=pool_size))\n",
        "\n",
        "model.add(Convolution2D(16, kernel_size,padding='same'))\n",
        "model.add(Activation('relu'))\n",
        "model.add(Convolution2D(16,kernel_size,padding='same'))\n",
        "model.add(Activation('relu'))\n",
        "model.add(MaxPooling2D(pool_size=pool_size))\n",
        "\n",
        "model.add(Flatten())\n",
        "model.add(Dense(40))\n",
        "model.add(Activation('relu'))\n",
        "model.add(Dense(nb_classes))\n",
        "model.add(Activation('softmax'))\n",
        "\n",
        "# compile model and intitialize weights\n",
        "model.compile(loss='categorical_crossentropy',\n",
        "              optimizer='adam',\n",
        "              metrics=['accuracy'])"
      ],
      "outputs": [],
      "execution_count": 0,
      "metadata": {
        "colab_type": "code",
        "id": "3xwh0iYrHJk_",
        "colab": {}
      }
    },
    {
      "cell_type": "code",
      "source": [
        "# summarize model along with number of model weights\n",
        "model.summary()"
      ],
      "outputs": [
        {
          "output_type": "stream",
          "name": "stdout",
          "text": [
            "_________________________________________________________________\n",
            "Layer (type)                 Output Shape              Param #   \n",
            "=================================================================\n",
            "conv2d_1 (Conv2D)            (None, 28, 28, 8)         80        \n",
            "_________________________________________________________________\n",
            "activation_1 (Activation)    (None, 28, 28, 8)         0         \n",
            "_________________________________________________________________\n",
            "conv2d_2 (Conv2D)            (None, 28, 28, 8)         584       \n",
            "_________________________________________________________________\n",
            "activation_2 (Activation)    (None, 28, 28, 8)         0         \n",
            "_________________________________________________________________\n",
            "max_pooling2d_1 (MaxPooling2 (None, 14, 14, 8)         0         \n",
            "_________________________________________________________________\n",
            "conv2d_3 (Conv2D)            (None, 14, 14, 16)        1168      \n",
            "_________________________________________________________________\n",
            "activation_3 (Activation)    (None, 14, 14, 16)        0         \n",
            "_________________________________________________________________\n",
            "conv2d_4 (Conv2D)            (None, 14, 14, 16)        2320      \n",
            "_________________________________________________________________\n",
            "activation_4 (Activation)    (None, 14, 14, 16)        0         \n",
            "_________________________________________________________________\n",
            "max_pooling2d_2 (MaxPooling2 (None, 7, 7, 16)          0         \n",
            "_________________________________________________________________\n",
            "flatten_1 (Flatten)          (None, 784)               0         \n",
            "_________________________________________________________________\n",
            "dense_1 (Dense)              (None, 40)                31400     \n",
            "_________________________________________________________________\n",
            "activation_5 (Activation)    (None, 40)                0         \n",
            "_________________________________________________________________\n",
            "dense_2 (Dense)              (None, 10)                410       \n",
            "_________________________________________________________________\n",
            "activation_6 (Activation)    (None, 10)                0         \n",
            "=================================================================\n",
            "Total params: 35,962\n",
            "Trainable params: 35,962\n",
            "Non-trainable params: 0\n",
            "_________________________________________________________________\n"
          ]
        }
      ],
      "execution_count": 5,
      "metadata": {
        "colab_type": "code",
        "id": "blxHZguwHJlG",
        "outputId": "6ecbbf13-0d1a-4b24-dd7e-6ce75af31fa1",
        "colab": {
          "base_uri": "https://localhost:8080/",
          "height": 656
        }
      }
    },
    {
      "cell_type": "markdown",
      "source": [
        "### Evaluation of the untrained model using Keras"
      ],
      "metadata": {
        "id": "hfNsOlQdYeOU",
        "colab_type": "text"
      }
    },
    {
      "cell_type": "code",
      "source": [
        "model.evaluate(X_train, Y_train)"
      ],
      "outputs": [
        {
          "output_type": "stream",
          "name": "stdout",
          "text": [
            "60000/60000 [==============================] - 6s 100us/step\n"
          ]
        },
        {
          "output_type": "execute_result",
          "execution_count": 6,
          "data": {
            "text/plain": [
              "[2.312343810399373, 0.11665]"
            ]
          },
          "metadata": {
            "tags": []
          }
        }
      ],
      "execution_count": 6,
      "metadata": {
        "id": "y_aIMKouYMjH",
        "colab_type": "code",
        "colab": {
          "base_uri": "https://localhost:8080/",
          "height": 52
        },
        "outputId": "b2460adf-f745-4ccb-f31e-08445434bc1a"
      }
    },
    {
      "cell_type": "code",
      "source": [
        "# Calculates the probailities for the training data\n",
        "Pred_prob = model.predict_proba(X_train)"
      ],
      "outputs": [],
      "execution_count": 0,
      "metadata": {
        "colab_type": "code",
        "id": "430DSTDIHJlP",
        "colab": {}
      }
    },
    {
      "cell_type": "code",
      "source": [
        "Pred_prob.shape, y_train.shape"
      ],
      "outputs": [
        {
          "output_type": "execute_result",
          "execution_count": 8,
          "data": {
            "text/plain": [
              "((60000, 10), (60000,))"
            ]
          },
          "metadata": {
            "tags": []
          }
        }
      ],
      "execution_count": 8,
      "metadata": {
        "id": "XcqY_UbNYyP2",
        "colab_type": "code",
        "colab": {
          "base_uri": "https://localhost:8080/",
          "height": 35
        },
        "outputId": "b6cf5265-48db-4bc4-fbfd-b8c96f8ad775"
      }
    },
    {
      "cell_type": "markdown",
      "source": [
        "#### Calculate the loss function using numpy\n",
        "<img src=\"https://raw.githubusercontent.com/tensorchiefs/dl_book/master/imgs/paper-pen.png\" width=\"60\" align=\"left\" />  \n",
        "\n",
        "Calculate the loss function using numpy. You need `Pred_prob` and `y_train`. Note that `y_train` is not one-hot-coded.\n",
        "\n\n"
      ],
      "metadata": {
        "id": "9W46_Euob-ux",
        "colab_type": "text"
      }
    },
    {
      "cell_type": "code",
      "source": [
        "# Write your code here"
      ],
      "outputs": [],
      "execution_count": 0,
      "metadata": {
        "id": "n-nSWXYadTft",
        "colab_type": "code",
        "colab": {}
      }
    },
    {
      "cell_type": "markdown",
      "source": [
        "Scroll down after you finished the task\n",
        "\n",
        "</br>\n",
        "</br>\n",
        "</br>\n",
        "</br>\n",
        "</br>\n",
        "</br>\n",
        "</br>\n",
        "</br>\n",
        "</br>\n",
        "</br>\n",
        "</br>\n",
        "</br>\n",
        "</br>\n",
        "</br>\n",
        "</br>\n",
        "</br>\n",
        "</br>\n",
        "</br>\n",
        "</br>\n",
        "</br>\n",
        "</br>\n",
        "</br>\n",
        "</br>\n",
        "</br>\n",
        "</br>\n",
        "</br>\n",
        "</br>\n",
        "</br>\n",
        "</br>\n",
        "</br>\n",
        "</br>\n",
        "</br>\n",
        "</br>\n",
        "...\n",
        "...\n",
        "\n\n\n\n\n\n\n\n\n\n\n\n\n\n\n\n\n\n\n\n\n\n\n\n"
      ],
      "metadata": {
        "id": "Hv1IEA74dPF6",
        "colab_type": "text"
      }
    },
    {
      "cell_type": "code",
      "source": [
        "loss = 0\n",
        "for i, y in enumerate(Pred_prob):\n",
        "  loss += np.log(Pred_prob[i,y_train[i]])\n",
        "-loss / (i+1)"
      ],
      "outputs": [
        {
          "output_type": "execute_result",
          "execution_count": 10,
          "data": {
            "text/plain": [
              "2.3123438145637514"
            ]
          },
          "metadata": {
            "tags": []
          }
        }
      ],
      "execution_count": 10,
      "metadata": {
        "id": "v9GkdLKcY5OU",
        "colab_type": "code",
        "colab": {
          "base_uri": "https://localhost:8080/",
          "height": 35
        },
        "outputId": "1a85ec43-01c9-4b0d-9cdf-50426c6e771e"
      }
    }
  ],
  "metadata": {
    "colab": {
      "name": "nb_ch04_02.ipynb",
      "version": "0.3.2",
      "provenance": [],
      "collapsed_sections": []
    },
    "kernelspec": {
      "name": "python3",
      "language": "python",
      "display_name": "Python 3"
    },
    "accelerator": "GPU",
    "kernel_info": {
      "name": "python3"
    },
    "language_info": {
      "name": "python",
      "version": "3.6.3",
      "mimetype": "text/x-python",
      "codemirror_mode": {
        "name": "ipython",
        "version": 3
      },
      "pygments_lexer": "ipython3",
      "nbconvert_exporter": "python",
      "file_extension": ".py"
    }
  },
  "nbformat": 4,
  "nbformat_minor": 0
}